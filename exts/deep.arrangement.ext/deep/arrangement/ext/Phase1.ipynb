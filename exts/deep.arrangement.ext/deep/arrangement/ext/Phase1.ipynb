{
 "cells": [
  {
   "cell_type": "code",
   "execution_count": 1,
   "id": "ed4f9fe6",
   "metadata": {},
   "outputs": [],
   "source": [
    "%load_ext autoreload\n",
    "%autoreload 2"
   ]
  },
  {
   "cell_type": "code",
   "execution_count": 2,
   "id": "69c787b3",
   "metadata": {},
   "outputs": [],
   "source": [
    "import random\n",
    "import numpy"
   ]
  },
  {
   "cell_type": "code",
   "execution_count": 3,
   "id": "896db912",
   "metadata": {},
   "outputs": [],
   "source": [
    "import getpass\n",
    "user = getpass.getuser()"
   ]
  },
  {
   "cell_type": "code",
   "execution_count": 4,
   "id": "e0ab8c93",
   "metadata": {},
   "outputs": [],
   "source": [
    "usd_path = \"omniverse://localhost/Users/yizhou/phase1.usd\""
   ]
  },
  {
   "cell_type": "code",
   "execution_count": 5,
   "id": "6dd75691",
   "metadata": {
    "scrolled": true
   },
   "outputs": [
    {
     "name": "stdout",
     "output_type": "stream",
     "text": [
      "Starting kit application with the fillowing args:  ['/home/yizhou/.local/share/ov/pkg/isaac_sim-2022.1.1/exts/omni.isaac.kit/omni/isaac/kit/simulation_app.py', '/home/yizhou/.local/share/ov/pkg/isaac_sim-2022.1.1/apps/omni.isaac.sim.python.kit', '--/app/tokens/exe-path=/home/yizhou/.local/share/ov/pkg/isaac_sim-2022.1.1/kit', '--/persistent/app/viewport/displayOptions=3094', '--/rtx/materialDb/syncLoads=True', '--/rtx/hydra/materialSyncLoads=True--/omni.kit.plugin/syncUsdLoads=True', '--/app/renderer/resolution/width=1280', '--/app/renderer/resolution/height=720', '--/app/window/width=1440', '--/app/window/height=900', '--/renderer/multiGpu/enabled=True', '--ext-folder', '/home/yizhou/.local/share/ov/pkg/isaac_sim-2022.1.1/exts', '--ext-folder', '/home/yizhou/.local/share/ov/pkg/isaac_sim-2022.1.1/apps', '--/physics/cudaDevice=0', '--portable', '--no-window']\n",
      "Passing the following args to the base kit application:  ['-f', '/home/yizhou/.local/share/jupyter/runtime/kernel-33ad512c-68c9-488a-bfa3-91980ef16a73.json']\n",
      "[Warning] [omni.kit.app.plugin] No crash reporter present, dumps uploading isn't available.\n",
      "[Info] [carb] Logging to file: /home/yizhou/.local/share/ov/pkg/isaac_sim-2022.1.1/kit/logs/Kit/Isaac-Sim/2022.1/kit_20221105_113328.log\n",
      "2022-11-05 18:33:28 [5ms] [Warning] [omni.ext.plugin] [ext: omni.drivesim.sensors.nv.lidar] Extensions config 'extension.toml' doesn't exist '/home/yizhou/.local/share/ov/pkg/isaac_sim-2022.1.1/exts/omni.drivesim.sensors.nv.lidar' or '/home/yizhou/.local/share/ov/pkg/isaac_sim-2022.1.1/exts/omni.drivesim.sensors.nv.lidar/config'\n",
      "[0.085s] [ext: omni.stats-0.0.0] startup\n",
      "[0.102s] [ext: omni.gpu_foundation-0.0.0] startup\n",
      "2022-11-05 18:33:29 [100ms] [Warning] [carb] FrameworkImpl::setDefaultPlugin(client: omni.gpu_foundation_factory.plugin, desc : [carb::graphics::Graphics v2.5], plugin : carb.graphics-vulkan.plugin) failed. Plugin selection is locked, because the interface was previously acquired by: \n",
      "[0.110s] [ext: carb.windowing.plugins-1.0.0] startup\n",
      "[0.120s] [ext: omni.assets.plugins-0.0.0] startup\n",
      "[0.121s] [ext: omni.kit.renderer.init-0.0.0] startup\n",
      "\n",
      "|---------------------------------------------------------------------------------------------|\n",
      "| Driver Version: 510.85.2      | Graphics API: Vulkan\n",
      "|=============================================================================================|\n",
      "| GPU | Name                             | Active | LDA | GPU Memory | Vendor-ID | LUID       |\n",
      "|     |                                  |        |     |            | Device-ID | UUID       |\n",
      "|---------------------------------------------------------------------------------------------|\n",
      "| 0   | NVIDIA GeForce RTX 3090          | Yes: 0 |     | 24822   MB | 10de      | 0          |\n",
      "|     |                                  |        |     |            | 2204      | 3f50dd6e.. |\n",
      "|=============================================================================================|\n",
      "| OS: Linux yizhou-Z370-AORUS-Gaming-5, Version: 5.15.0-52-generic\n",
      "| Processor: Intel(R) Core(TM) i7-8700K CPU @ 3.70GHz | Cores: Unknown | Logical: 12\n",
      "|---------------------------------------------------------------------------------------------|\n",
      "| Total Memory (MB): 32044 | Free Memory: 15598\n",
      "| Total Page/Swap (MB): 2047 | Free Page/Swap: 2047\n",
      "|---------------------------------------------------------------------------------------------|\n",
      "2022-11-05 18:33:29 [905ms] [Warning] [carb.cudainterop.plugin] On Linux only, CUDA and the display driver does not support IOMMU-enabled bare-metal PCIe peer to peer memory copy.\n",
      "However, CUDA and the display driver does support IOMMU via VM pass through. As a consequence, users on Linux,\n",
      "when running on a native bare metal system, should disable the IOMMU. The IOMMU should be enabled and the VFIO driver\n",
      "be used as a PCIe pass through for virtual machines.\n",
      "[0.928s] [ext: omni.kit.pipapi-0.0.0] startup\n",
      "[0.943s] [ext: omni.kit.pip_archive-0.0.0] startup\n",
      "[0.948s] [ext: omni.isaac.core_archive-1.2.0] startup\n",
      "[0.971s] [ext: omni.usd.config-1.0.0] startup\n",
      "[0.974s] [ext: omni.usd.libs-1.0.0] startup\n",
      "[1.104s] [ext: omni.kit.pip_torch-1_11_0-0.1.3] startup\n",
      "[1.138s] [ext: omni.isaac.ml_archive-1.1.0] startup\n",
      "[1.206s] [ext: omni.kit.loop-isaac-0.1.0] startup\n",
      "[1.207s] [ext: omni.kit.async_engine-0.0.0] startup\n",
      "[1.209s] [ext: omni.appwindow-1.0.0] startup\n",
      "[1.211s] [ext: omni.client-0.1.0] startup\n",
      "[1.222s] [ext: omni.kit.test-0.0.0] startup\n",
      "[1.223s] [ext: omni.kit.renderer.core-0.0.0] startup\n",
      "[1.306s] [ext: omni.ui-2.10.3] startup\n",
      "[1.324s] [ext: carb.audio-0.1.0] startup\n",
      "[1.327s] [ext: omni.kit.mainwindow-0.0.0] startup\n",
      "[1.329s] [ext: omni.uiaudio-1.0.0] startup\n",
      "[1.330s] [ext: omni.kit.uiapp-0.0.0] startup\n",
      "[1.330s] [ext: omni.usd.schema.physics-1.0.0] startup\n",
      "[1.376s] [ext: omni.usd.schema.audio-0.0.0] startup\n",
      "[1.383s] [ext: omni.usd.schema.semantics-0.0.0] startup\n",
      "[1.395s] [ext: omni.usd.schema.omnigraph-1.0.0] startup\n",
      "[1.404s] [ext: omni.usd.schema.anim-0.0.0] startup\n",
      "[1.478s] [ext: omni.kit.commands-1.2.2] startup\n",
      "[1.483s] [ext: omni.timeline-1.0.2] startup\n",
      "[1.486s] [ext: omni.hydra.scene_delegate-0.2.0] startup\n",
      "[1.493s] [ext: omni.kit.audiodeviceenum-1.0.0] startup\n",
      "[1.495s] [ext: omni.usd-1.5.3] startup\n",
      "[1.551s] [ext: omni.kit.asset_converter-1.2.31] startup\n",
      "[1.567s] [ext: omni.usd.schema.physx-0.0.0] startup\n",
      "[1.594s] [ext: omni.usd.schema.isaac-0.2.0] startup\n",
      "[1.634s] [ext: omni.usd.schema.forcefield-0.0.0] startup\n",
      "[1.643s] [ext: omni.kvdb-0.0.0] startup\n",
      "[1.646s] [ext: omni.usdphysics-1.4.15] startup\n",
      "[1.649s] [ext: omni.graph.tools-1.4.0] startup\n",
      "[1.674s] [ext: omni.localcache-0.0.0] startup\n",
      "[1.677s] [ext: omni.kit.stage_templates-1.1.2] startup\n",
      "[1.680s] [ext: omni.convexdecomposition-1.4.15] startup\n",
      "[1.683s] [ext: omni.physics.tensors-0.1.0] startup\n",
      "[1.690s] [ext: omni.physx-1.4.15-5.1] startup\n",
      "2022-11-05 18:33:30 [1,697ms] [Warning] [omni.kvdb.plugin] wasn't able to load the meta database, trying to repair it ...\n",
      "2022-11-05 18:33:30 [1,746ms] [Warning] [omni.kvdb.plugin] repair failed\n",
      "[1.754s] [ext: omni.graph.core-2.29.1] startup\n",
      "[1.759s] [ext: omni.kit.menu.utils-1.2.11] startup\n",
      "[1.770s] [ext: omni.physx.tensors-0.1.0] startup\n",
      "[1.777s] [ext: omni.graph-1.23.0] startup\n",
      "[1.832s] [ext: omni.kit.numpy.common-0.1.0] startup\n",
      "[1.837s] [ext: omni.kit.window.script_editor-1.6.2] startup\n",
      "[1.850s] [ext: omni.kit.search_core-1.0.2] startup\n",
      "[1.853s] [ext: omni.isaac.dynamic_control-1.1.0] startup\n",
      "[1.861s] [ext: omni.kit.renderer.capture-0.0.0] startup\n",
      "[1.864s] [ext: omni.kit.widget.filebrowser-2.2.27] startup\n",
      "[1.873s] [ext: omni.kit.widget.path_field-2.0.3] startup\n",
      "[1.875s] [ext: omni.kit.notification_manager-1.0.5] startup\n",
      "[1.878s] [ext: omni.kit.widget.versioning-1.3.8] startup\n",
      "[1.880s] [ext: omni.kit.widget.browser_bar-2.0.3] startup\n",
      "[1.882s] [ext: omni.kit.window.popup_dialog-2.0.8] startup\n",
      "[1.884s] [ext: omni.mdl.neuraylib-0.1.0] startup\n",
      "[1.888s] [ext: omni.kit.window.filepicker-2.4.30] startup\n"
     ]
    },
    {
     "name": "stderr",
     "output_type": "stream",
     "text": [
      "OmniAssetFileFormat\n"
     ]
    },
    {
     "name": "stdout",
     "output_type": "stream",
     "text": [
      "Warp initialized:\n",
      "   Version: 0.2.2\n",
      "   CUDA device: NVIDIA GeForce RTX 3090\n",
      "   Kernel cache: /home/yizhou/.cache/warp/0.2.2\n",
      "[1.940s] [ext: omni.kit.menu.create-1.0.2] startup\n",
      "[1.941s] [ext: omni.mdl-0.1.0] startup\n",
      "[1.965s] [ext: omni.kit.window.file_importer-1.0.4] startup\n",
      "[1.966s] [ext: omni.kit.window.file_exporter-1.0.4] startup\n",
      "[1.967s] [ext: omni.kit.material.library-1.3.10] startup\n",
      "[1.971s] [ext: omni.kit.window.drop_support-1.0.0] startup\n",
      "[1.971s] [ext: omni.kit.window.file-1.3.16] startup\n",
      "[1.974s] [ext: omni.kit.context_menu-1.3.9] startup\n",
      "[2.022s] [ext: omni.kit.window.property-1.6.3] startup\n",
      "[2.023s] [ext: omni.kit.window.content_browser-2.4.28] startup\n",
      "[2.033s] [ext: omni.kit.widget.stage-2.6.15] startup\n",
      "[2.038s] [ext: omni.isaac.version-1.0.0] startup\n",
      "[2.039s] [ext: omni.kit.property.usd-3.14.9] startup\n",
      "[2.072s] [ext: omni.kit.viewport.legacy_gizmos-1.0.0] startup\n",
      "[2.076s] [ext: omni.hydra.rtx-0.1.0] startup\n",
      "[2.086s] [ext: omni.renderer-rtx-0.0.0] startup\n",
      "[2.086s] [ext: omni.hydra.engine.stats-1.0.0] startup\n",
      "[2.093s] [ext: omni.debugdraw-0.1.0] startup\n",
      "[2.099s] [ext: omni.kit.widget.settings-1.0.0] startup\n",
      "[2.101s] [ext: omni.kit.window.viewport-0.0.0] startup\n",
      "[3.166s] [ext: omni.kit.widget.prompt-1.0.1] startup\n",
      "[3.167s] [ext: omni.kit.widget.graph-1.4.3] startup\n",
      "[3.174s] [ext: omni.kit.window.preferences-1.2.1] startup\n",
      "[3.212s] [ext: omni.ui_query-1.1.1] startup\n",
      "[3.214s] [ext: omni.graph.ui-1.6.1] startup\n",
      "[3.240s] [ext: omni.kit.ui_test-1.2.2] startup\n",
      "[3.242s] [ext: omni.graph.action-1.18.0] startup\n",
      "[3.254s] [ext: omni.kit.widget.searchfield-1.0.6] startup\n",
      "[3.255s] [ext: omni.kit.usd_undo-0.1.0] startup\n",
      "[3.257s] [ext: omni.graph.scriptnode-0.5.0] startup\n",
      "[3.260s] [ext: omni.physx.commands-1.4.15-5.1] startup\n",
      "[3.265s] [ext: omni.graph.nodes-1.26.0] startup\n",
      "[3.280s] [ext: omni.command.usd-1.0.1] startup\n",
      "[3.283s] [ext: omni.kit.window.extensions-1.1.0] startup\n",
      "[3.290s] [ext: omni.syntheticdata-0.2.1] startup\n",
      "[3.330s] [ext: omni.kit.primitive.mesh-1.0.0] startup\n",
      "[3.335s] [ext: omni.warp-0.2.2] startup\n",
      "[4.067s] [ext: omni.isaac.ui-0.2.1] startup\n",
      "[4.069s] [ext: omni.replicator.core-1.4.3] startup\n",
      "[4.278s] [ext: omni.isaac.core-1.24.3] startup\n",
      "[4.372s] [ext: omni.physx.ui-1.4.15-5.1] startup\n",
      "[4.456s] [ext: omni.kit.property.material-1.8.5] startup\n",
      "[4.459s] [ext: omni.kit.window.toolbar-1.2.4] startup\n",
      "[4.464s] [ext: omni.isaac.core_nodes-0.13.0] startup\n",
      "[4.478s] [ext: omni.physx.demos-1.4.15-5.1] startup\n",
      "[4.481s] [ext: omni.kit.property.physx-0.1.0] startup\n",
      "2022-11-05 18:33:33 [4,547ms] [Warning] [omni.physx.plugin] Deprecated: getSimulationEventStream is deprecated, please use getSimulationEventStreamV2\n",
      "[4.559s] [ext: omni.physx.tests-1.4.15-5.1] startup\n",
      "[4.849s] [ext: omni.isaac.wheeled_robots-0.5.8] startup\n",
      "[4.860s] [ext: omni.kit.menu.common-1.0.0] startup\n",
      "[4.861s] [ext: omni.physx.vehicle-1.4.15-5.1] startup\n",
      "[4.873s] [ext: omni.physx.cct-1.4.15-5.1] startup\n",
      "[4.958s] [ext: omni.physx.camera-1.4.15-5.1] startup\n",
      "[4.965s] [ext: omni.kit.widget.stage_icons-1.0.2] startup\n",
      "[4.967s] [ext: omni.ui.scene-1.5.0] startup\n",
      "[4.973s] [ext: omni.physx.bundle-1.4.15-5.1] startup\n",
      "[4.973s] [ext: omni.kit.window.stage-2.3.7] startup\n",
      "[4.977s] [ext: omni.replicator.composer-1.1.3] startup\n",
      "[4.994s] [ext: omni.isaac.lula-1.1.0] startup\n",
      "[5.021s] [ext: omni.rtx.window.settings-0.6.1] startup\n",
      "[5.027s] [ext: omni.isaac.surface_gripper-0.1.2] startup\n",
      "[5.032s] [ext: omni.isaac.motion_planning-0.2.0] startup\n",
      "[5.041s] [ext: omni.rtx.settings.core-0.5.5] startup\n",
      "[5.046s] [ext: omni.isaac.manipulators-1.0.1] startup\n",
      "[5.048s] [ext: omni.isaac.motion_generation-3.6.1] startup\n",
      "[5.054s] [ext: omni.kit.widget.zoombar-1.0.3] startup\n",
      "[5.055s] [ext: omni.kit.graph.delegate.default-1.0.15] startup\n",
      "[5.057s] [ext: omni.isaac.franka-0.3.0] startup\n",
      "[5.058s] [ext: omni.kit.browser.core-2.0.12] startup\n",
      "[5.063s] [ext: omni.kit.graph.editor.core-1.3.3] startup\n",
      "[5.066s] [ext: omni.kit.graph.usd.commands-1.1.0] startup\n",
      "[5.067s] [ext: omni.kit.browser.folder.core-1.1.13] startup\n",
      "[5.069s] [ext: omni.kit.graph.widget.variables-2.0.2] startup\n",
      "[5.071s] [ext: omni.kit.graph.delegate.modern-1.6.0] startup\n",
      "[5.072s] [ext: omni.kit.selection-0.1.0] startup\n",
      "[5.073s] [ext: omni.isaac.debug_draw-0.Opening usd file at  omniverse://localhost/Users/yizhou/phase1.usd  ...1.2] startup\n",
      "[5.080s] [ext: omni.graph.window.core-1.23.4] startup\n",
      "[5.087s] [ext: omni.graph.instancing-1.1.4] startup\n",
      "[5.095s] [ext: omni.kit.menu.edit-1.0.6] startup\n",
      "[5.097s] [ext: omni.isaac.isaac_sensor-1.0.2] startup\n",
      "2022-11-05 18:33:34 [5,097ms] [Warning] [omni.physx.plugin] Deprecated: getSimulationEventStream is deprecated, please use getSimulationEventStreamV2\n",
      "[5.109s] [ext: omni.graph.tutorials-1.1.2] startup\n",
      "[5.124s] [ext: omni.graph.window.action-1.3.8] startup\n",
      "[5.126s] [ext: omni.kit.widget.live-0.1.0] startup\n",
      "[5.131s] [ext: omni.kit.widget.layers-1.5.17] startup\n",
      "[5.145s] [ext: omni.graph.bundle.action-1.0.0] startup\n",
      "[5.145s] [ext: omni.isaac.range_sensor-0.4.3] startup\n",
      "[5.176s] [ext: omni.kit.property.layer-1.1.2] startup\n",
      "[5.179s] [ext: omni.replicator.isaac-1.3.2] startup\n",
      "[5.262s] [ext: omni.isaac.kit-0.2.1] startup\n",
      "[5.263s] [ext: omni.graph.window.generic-1.3.8] startup\n",
      "[5.264s] [ext: omni.isaac.utils-0.1.11] startup\n",
      "[5.268s] [ext: omni.kit.property.audio-1.0.5] startup\n",
      "[5.269s] [ext: omni.kit.property.skel-1.0.1] startup\n",
      "[5.270s] [ext: omni.kit.property.render-1.1.0] startup\n",
      "[5.271s] [ext: omni.kit.property.camera-1.0.3] startup\n",
      "[5.272s] [ext: omni.kit.property.geometry-1.2.0] startup\n",
      "[5.275s] [ext: omni.kit.property.light-1.0.5] startup\n",
      "[5.276s] [ext: omni.kit.property.transform-1.0.2] startup\n",
      "[5.279s] [ext: omni.isaac.universal_robots-0.3.0] startup\n",
      "[5.280s] [ext: omni.isaac.occupancy_map-0.2.4] startup\n",
      "[5.295s] [ext: omni.kit.window.console-0.2.0] startup\n",
      "[5.301s] [ext: omni.kit.window.status_bar-0.1.1] startup\n",
      "[5.306s] [ext: omni.kit.property.bundle-1.2.4] startup\n",
      "[5.307s] [ext: omni.kit.menu.file-1.0.8] startup\n",
      "[5.308s] [ext: omni.kit.manipulator.viewport-1.0.6] startup\n",
      "[5.311s] [ext: omni.isaac.urdf-0.4.0] startup\n",
      "[5.342s] [ext: omni.isaac.dofbot-0.3.0] startup\n",
      "[5.342s] [ext: omni.kit.window.title-1.1.2] startup\n",
      "[5.343s] [ext: omni.kit.profiler.window-1.4.4] startup\n",
      "[5.346s] [ext: omni.graph.visualization.nodes-1.1.1] startup\n",
      "[5.350s] [ext: omni.isaac.synthetic_utils-0.3.5] startup\n",
      "[5.352s] [ext: semantics.schema.editor-0.2.3] startup\n",
      "[5.355s] [ext: omni.isaac.sim.python-2022.1.1] startup\n",
      "[5.370s] Simulation App Starting\n",
      "Could not open omniverse://localhost/Users/yizhou/phase1.usd creating a new empty stage\n"
     ]
    },
    {
     "name": "stderr",
     "output_type": "stream",
     "text": [
      "2022-11-05 18:33:34 [5,438ms] [Error] [omni.usd] Failed to open : omniverse://localhost/Users/yizhou/phase1.usd\n",
      "2022-11-05 18:33:34 [5,438ms] [Error] [omni.usd] Open USD error: Failed to open:omniverse://localhost/Users/yizhou/phase1.usd\n"
     ]
    },
    {
     "name": "stdout",
     "output_type": "stream",
     "text": [
      "Saving a temp livesync stage at  omniverse://localhost/Users/yizhou/phase1.usd  ...Done.\n"
     ]
    }
   ],
   "source": [
    "from omni.isaac.kit import SimulationApp    \n",
    "simulation_app = SimulationApp({\"headless\": True, \"open_usd\": usd_path,  \"livesync_usd\": usd_path}) \n"
   ]
  },
  {
   "cell_type": "code",
   "execution_count": 6,
   "id": "3f3f3123",
   "metadata": {
    "scrolled": true
   },
   "outputs": [
    {
     "data": {
      "text/plain": [
       "'Isaac Sim Python'"
      ]
     },
     "execution_count": 6,
     "metadata": {},
     "output_type": "execute_result"
    }
   ],
   "source": [
    "import carb\n",
    "carb.settings.get_settings().get(\"/app/window/title\")"
   ]
  },
  {
   "cell_type": "code",
   "execution_count": null,
   "id": "5fd13c42",
   "metadata": {},
   "outputs": [],
   "source": [
    "from omni.isaac.core import World\n",
    "from omni.isaac.core.prims.xform_prim import XFormPrim\n",
    "world = World()"
   ]
  },
  {
   "cell_type": "code",
   "execution_count": null,
   "id": "fc98b25d",
   "metadata": {},
   "outputs": [],
   "source": [
    "mobility_obj = XFormPrim(\"/World/Cube\")\n",
    "world.scene.add(mobility_obj)\n",
    "world.reset()"
   ]
  },
  {
   "cell_type": "code",
   "execution_count": null,
   "id": "f0ab6b3f",
   "metadata": {},
   "outputs": [],
   "source": [
    "# Step our simulation to ensure everything initialized\n",
    "world.step()\n",
    "world.step()"
   ]
  },
  {
   "cell_type": "code",
   "execution_count": null,
   "id": "58dc9dcf",
   "metadata": {},
   "outputs": [],
   "source": [
    "for i in range(100):\n",
    "    world.step()\n",
    "    world.render()"
   ]
  },
  {
   "cell_type": "code",
   "execution_count": null,
   "id": "cc03d21a",
   "metadata": {},
   "outputs": [],
   "source": [
    "# list(env.stage.TraverseAll())"
   ]
  },
  {
   "cell_type": "code",
   "execution_count": null,
   "id": "9bf8dbde",
   "metadata": {},
   "outputs": [],
   "source": [
    "# import torch\n",
    "\n",
    "# torch.__version__\n",
    "\n",
    "# import transformers"
   ]
  },
  {
   "cell_type": "code",
   "execution_count": null,
   "id": "b21910b7",
   "metadata": {},
   "outputs": [],
   "source": [
    "from uva_env import UvaEnv\n",
    "env = UvaEnv()"
   ]
  },
  {
   "cell_type": "code",
   "execution_count": null,
   "id": "456c0ecf",
   "metadata": {},
   "outputs": [],
   "source": [
    "# import omni.kit\n",
    "# omni.kit.commands.execute(\"CreatePrimWithDefaultXform\", prim_type=\"Cube\", prim_path = \"/World/Cube\")"
   ]
  },
  {
   "cell_type": "code",
   "execution_count": null,
   "id": "6dee69da",
   "metadata": {},
   "outputs": [],
   "source": [
    "env.reset_scene()"
   ]
  },
  {
   "cell_type": "code",
   "execution_count": null,
   "id": "dc68dd8d",
   "metadata": {},
   "outputs": [],
   "source": [
    "# import omni.kit\n",
    "# omni.kit.commands.execute(\"DeletePrims\", paths=[\"/World/Camera2\"])"
   ]
  },
  {
   "cell_type": "code",
   "execution_count": null,
   "id": "4b3c24d3",
   "metadata": {},
   "outputs": [],
   "source": [
    "env.world.step(render=True)"
   ]
  },
  {
   "cell_type": "markdown",
   "id": "18b0e77c",
   "metadata": {},
   "source": [
    "# Task scene"
   ]
  },
  {
   "cell_type": "code",
   "execution_count": null,
   "id": "34b36463",
   "metadata": {},
   "outputs": [],
   "source": [
    "task_type = \"Bookshelf\"\n",
    "side_choice = \"Border\"\n",
    "asset_id = 0\n",
    "load_nucleus = True"
   ]
  },
  {
   "cell_type": "code",
   "execution_count": null,
   "id": "4d0792f0",
   "metadata": {},
   "outputs": [],
   "source": [
    "from task.scene import ArrangeScene\n",
    "scene = ArrangeScene(task_type, side_choice, asset_id, \"/World/base\", load_nucleus)"
   ]
  },
  {
   "cell_type": "code",
   "execution_count": null,
   "id": "8e1c824f",
   "metadata": {
    "scrolled": true
   },
   "outputs": [],
   "source": [
    "# base\n",
    "scene.add_base_asset()"
   ]
  },
  {
   "cell_type": "code",
   "execution_count": null,
   "id": "e6230b2c",
   "metadata": {},
   "outputs": [],
   "source": [
    "env.world.step(render=True)"
   ]
  },
  {
   "cell_type": "code",
   "execution_count": null,
   "id": "161187e5",
   "metadata": {},
   "outputs": [],
   "source": [
    "# object\n",
    "object_type = random.choice(scene.object_candidates)\n",
    "scene.load_obj_info(object_type, 1)"
   ]
  },
  {
   "cell_type": "code",
   "execution_count": null,
   "id": "4b035c76",
   "metadata": {},
   "outputs": [],
   "source": [
    "env.world.step(render=True)"
   ]
  },
  {
   "cell_type": "code",
   "execution_count": null,
   "id": "aca5e8bb",
   "metadata": {},
   "outputs": [],
   "source": [
    "scene.objects"
   ]
  },
  {
   "cell_type": "code",
   "execution_count": null,
   "id": "27570ce1",
   "metadata": {},
   "outputs": [],
   "source": [
    "object_prim_path = scene.objects[-1][\"prim_path\"]  \n",
    "object_prim = env.stage.GetPrimAtPath(object_prim_path)\n",
    "x, y = (0.5, 0)#np.tanh(np.random.randn()), np.tanh(np.random.randn())\n",
    "scene.map_object(object_prim_path, (x, y)) "
   ]
  },
  {
   "cell_type": "code",
   "execution_count": null,
   "id": "9aa522f2",
   "metadata": {},
   "outputs": [],
   "source": [
    "env.world.scene.add(object_prim)"
   ]
  },
  {
   "cell_type": "code",
   "execution_count": null,
   "id": "ab2d1964",
   "metadata": {},
   "outputs": [],
   "source": [
    "for _ in range(100):\n",
    "    env.world.step(render=True)"
   ]
  },
  {
   "cell_type": "markdown",
   "id": "4ba90cd7",
   "metadata": {},
   "source": [
    "# Render"
   ]
  },
  {
   "cell_type": "code",
   "execution_count": null,
   "id": "afa43401",
   "metadata": {},
   "outputs": [],
   "source": [
    "from render.helper import RenderHelper\n",
    "render = RenderHelper()"
   ]
  },
  {
   "cell_type": "code",
   "execution_count": null,
   "id": "09486fa9",
   "metadata": {
    "scrolled": false
   },
   "outputs": [],
   "source": [
    "render.set_cameras(task_type, side_choice)"
   ]
  },
  {
   "cell_type": "code",
   "execution_count": null,
   "id": "3a62310d",
   "metadata": {},
   "outputs": [],
   "source": [
    "env.world.step(render=True)"
   ]
  },
  {
   "cell_type": "code",
   "execution_count": null,
   "id": "fb637e8f",
   "metadata": {},
   "outputs": [],
   "source": [
    "render.get_images()"
   ]
  },
  {
   "cell_type": "code",
   "execution_count": null,
   "id": "c898a0ff",
   "metadata": {},
   "outputs": [],
   "source": []
  }
 ],
 "metadata": {
  "kernelspec": {
   "display_name": "Isaac Sim Python 3",
   "language": "python",
   "name": "isaac_sim_python3"
  },
  "language_info": {
   "codemirror_mode": {
    "name": "ipython",
    "version": 3
   },
   "file_extension": ".py",
   "mimetype": "text/x-python",
   "name": "python",
   "nbconvert_exporter": "python",
   "pygments_lexer": "ipython3",
   "version": "3.7.13"
  }
 },
 "nbformat": 4,
 "nbformat_minor": 5
}
