{
 "cells": [
  {
   "cell_type": "code",
   "execution_count": null,
   "id": "ed4f9fe6",
   "metadata": {},
   "outputs": [],
   "source": [
    "%load_ext autoreload\n",
    "%autoreload 2"
   ]
  },
  {
   "cell_type": "code",
   "execution_count": null,
   "id": "69c787b3",
   "metadata": {},
   "outputs": [],
   "source": [
    "import random\n",
    "import numpy"
   ]
  },
  {
   "cell_type": "code",
   "execution_count": null,
   "id": "896db912",
   "metadata": {},
   "outputs": [],
   "source": [
    "import getpass\n",
    "user = getpass.getuser()"
   ]
  },
  {
   "cell_type": "code",
   "execution_count": null,
   "id": "e0ab8c93",
   "metadata": {},
   "outputs": [],
   "source": [
    "usd_path = \"omniverse://localhost/Users/yizhou/phase1.usd\""
   ]
  },
  {
   "cell_type": "code",
   "execution_count": null,
   "id": "6dd75691",
   "metadata": {},
   "outputs": [],
   "source": [
    "from omni.isaac.kit import SimulationApp    \n",
    "simulation_app = SimulationApp({\"headless\": True, \"open_usd\": usd_path,  \"livesync_usd\": usd_path}) \n"
   ]
  },
  {
   "cell_type": "code",
   "execution_count": null,
   "id": "cc03d21a",
   "metadata": {},
   "outputs": [],
   "source": [
    "# list(env.stage.TraverseAll())"
   ]
  },
  {
   "cell_type": "code",
   "execution_count": null,
   "id": "9bf8dbde",
   "metadata": {},
   "outputs": [],
   "source": [
    "# import torch\n",
    "\n",
    "# torch.__version__\n",
    "\n",
    "# import transformers"
   ]
  },
  {
   "cell_type": "code",
   "execution_count": null,
   "id": "b21910b7",
   "metadata": {},
   "outputs": [],
   "source": [
    "from uva_env import UvaEnv\n",
    "env = UvaEnv()"
   ]
  },
  {
   "cell_type": "code",
   "execution_count": null,
   "id": "456c0ecf",
   "metadata": {},
   "outputs": [],
   "source": [
    "# omni.kit.commands.execute(\"CreatePrimWithDefaultXform\", prim_type=\"Camera\", prim_path = \"/World/Camera2\")"
   ]
  },
  {
   "cell_type": "code",
   "execution_count": null,
   "id": "6dee69da",
   "metadata": {},
   "outputs": [],
   "source": [
    "env.reset_scene()"
   ]
  },
  {
   "cell_type": "code",
   "execution_count": null,
   "id": "dc68dd8d",
   "metadata": {},
   "outputs": [],
   "source": [
    "# import omni.kit\n",
    "# omni.kit.commands.execute(\"DeletePrims\", paths=[\"/World/Camera2\"])"
   ]
  },
  {
   "cell_type": "code",
   "execution_count": null,
   "id": "4b3c24d3",
   "metadata": {},
   "outputs": [],
   "source": [
    "env.world.step(render=True)"
   ]
  },
  {
   "cell_type": "markdown",
   "id": "18b0e77c",
   "metadata": {},
   "source": [
    "# Task scene"
   ]
  },
  {
   "cell_type": "code",
   "execution_count": null,
   "id": "34b36463",
   "metadata": {},
   "outputs": [],
   "source": [
    "task_type = \"Table\"\n",
    "side_choice = \"Border\"\n",
    "asset_id = 0\n",
    "load_nucleus = True"
   ]
  },
  {
   "cell_type": "code",
   "execution_count": null,
   "id": "4d0792f0",
   "metadata": {},
   "outputs": [],
   "source": [
    "from task.scene import ArrangeScene\n",
    "scene = ArrangeScene(task_type, side_choice, asset_id, \"/World/base\", load_nucleus)"
   ]
  },
  {
   "cell_type": "code",
   "execution_count": null,
   "id": "8e1c824f",
   "metadata": {
    "scrolled": true
   },
   "outputs": [],
   "source": [
    "# base\n",
    "scene.add_base_asset()"
   ]
  },
  {
   "cell_type": "code",
   "execution_count": null,
   "id": "e6230b2c",
   "metadata": {},
   "outputs": [],
   "source": [
    "env.world.step(render=True)"
   ]
  },
  {
   "cell_type": "code",
   "execution_count": null,
   "id": "161187e5",
   "metadata": {},
   "outputs": [],
   "source": [
    "# object\n",
    "object_type = random.choice(scene.object_candidates)\n",
    "scene.load_obj_info(object_type, 1)"
   ]
  },
  {
   "cell_type": "code",
   "execution_count": null,
   "id": "4b035c76",
   "metadata": {},
   "outputs": [],
   "source": [
    "env.world.step(render=True)"
   ]
  },
  {
   "cell_type": "code",
   "execution_count": null,
   "id": "aca5e8bb",
   "metadata": {},
   "outputs": [],
   "source": [
    "scene.objects"
   ]
  },
  {
   "cell_type": "code",
   "execution_count": null,
   "id": "27570ce1",
   "metadata": {},
   "outputs": [],
   "source": [
    "object_prim_path = scene.objects[-1][\"prim_path\"]  \n",
    "object_prim = env.stage.GetPrimAtPath(object_prim_path)\n",
    "x, y = (0, 0)#np.tanh(np.random.randn()), np.tanh(np.random.randn())\n",
    "scene.map_object(object_prim, (x, y)) "
   ]
  },
  {
   "cell_type": "code",
   "execution_count": null,
   "id": "ab2d1964",
   "metadata": {},
   "outputs": [],
   "source": [
    "env.world.step(render=True)"
   ]
  },
  {
   "cell_type": "markdown",
   "id": "4ba90cd7",
   "metadata": {},
   "source": [
    "# Render"
   ]
  },
  {
   "cell_type": "code",
   "execution_count": null,
   "id": "afa43401",
   "metadata": {},
   "outputs": [],
   "source": [
    "from render.helper import RenderHelper\n",
    "render = RenderHelper()"
   ]
  },
  {
   "cell_type": "code",
   "execution_count": null,
   "id": "179dd51d",
   "metadata": {},
   "outputs": [],
   "source": [
    "env.world.step(render=True)"
   ]
  },
  {
   "cell_type": "code",
   "execution_count": null,
   "id": "83277e61",
   "metadata": {},
   "outputs": [],
   "source": [
    "render.sd_helper.initialize(sensor_names=[\"rgb\"], viewport=render.viewport)"
   ]
  },
  {
   "cell_type": "code",
   "execution_count": null,
   "id": "84db1cc7",
   "metadata": {},
   "outputs": [],
   "source": [
    "env.world.step(render=True)"
   ]
  },
  {
   "cell_type": "code",
   "execution_count": null,
   "id": "29ed8f3b",
   "metadata": {
    "scrolled": true
   },
   "outputs": [],
   "source": [
    "render.capture_image(image_name = \"test1\")"
   ]
  },
  {
   "cell_type": "code",
   "execution_count": null,
   "id": "3b84d2b8",
   "metadata": {},
   "outputs": [],
   "source": [
    "sensor_data = render.sd_helper.get_groundtruth([\"rgb\"], render.viewport)"
   ]
  },
  {
   "cell_type": "code",
   "execution_count": null,
   "id": "c898a0ff",
   "metadata": {},
   "outputs": [],
   "source": []
  }
 ],
 "metadata": {
  "kernelspec": {
   "display_name": "Isaac Sim Python 3",
   "language": "python",
   "name": "isaac_sim_python3"
  },
  "language_info": {
   "codemirror_mode": {
    "name": "ipython",
    "version": 3
   },
   "file_extension": ".py",
   "mimetype": "text/x-python",
   "name": "python",
   "nbconvert_exporter": "python",
   "pygments_lexer": "ipython3",
   "version": "3.7.13"
  }
 },
 "nbformat": 4,
 "nbformat_minor": 5
}
