{
 "cells": [
  {
   "cell_type": "code",
   "execution_count": 1,
   "id": "ad9832d7",
   "metadata": {},
   "outputs": [],
   "source": [
    "import omni.kit"
   ]
  },
  {
   "cell_type": "code",
   "execution_count": 2,
   "id": "896db912",
   "metadata": {},
   "outputs": [],
   "source": [
    "import getpass\n",
    "user = getpass.getuser()"
   ]
  },
  {
   "cell_type": "code",
   "execution_count": 3,
   "id": "f5bf48ab",
   "metadata": {},
   "outputs": [],
   "source": [
    "usd_path = \"omniverse://localhost/Users/yizhou/phase1.usd\""
   ]
  },
  {
   "cell_type": "code",
   "execution_count": 4,
   "id": "e20e94e9",
   "metadata": {},
   "outputs": [
    {
     "name": "stdout",
     "output_type": "stream",
     "text": [
      "Starting kit application with the fillowing args:  ['/home/yizhou/.local/share/isaac_sim-2022.1.1/exts/omni.isaac.kit/omni/isaac/kit/simulation_app.py', '/home/yizhou/.local/share/isaac_sim-2022.1.1/apps/omni.isaac.sim.python.kit', '--/app/tokens/exe-path=/home/yizhou/.local/share/isaac_sim-2022.1.1/kit', '--/persistent/app/viewport/displayOptions=3094', '--/rtx/materialDb/syncLoads=True', '--/rtx/hydra/materialSyncLoads=True--/omni.kit.plugin/syncUsdLoads=True', '--/app/renderer/resolution/width=1280', '--/app/renderer/resolution/height=720', '--/app/window/width=1440', '--/app/window/height=900', '--/renderer/multiGpu/enabled=True', '--ext-folder', '/home/yizhou/.local/share/isaac_sim-2022.1.1/exts', '--ext-folder', '/home/yizhou/.local/share/isaac_sim-2022.1.1/apps', '--/physics/cudaDevice=0', '--portable', '--no-window']\n",
      "Passing the following args to the base kit application:  ['-f', '/home/yizhou/.local/share/jupyter/runtime/kernel-e82e2a24-cbe7-45c0-914f-1d8be3a37fba.json']\n",
      "[Warning] [omni.kit.app.plugin] No crash reporter present, dumps uploading isn't available.\n",
      "[Info] [carb] Logging to file: /home/yizhou/.local/share/isaac_sim-2022.1.1/kit/logs/Kit/Isaac-Sim/2022.1/kit_20221010_170856.log\n",
      "2022-10-11 00:08:56 [5ms] [Warning] [omni.ext.plugin] [ext: omni.drivesim.sensors.nv.lidar] Extensions config 'extension.toml' doesn't exist '/home/yizhou/.local/share/isaac_sim-2022.1.1/exts/omni.drivesim.sensors.nv.lidar' or '/home/yizhou/.local/share/isaac_sim-2022.1.1/exts/omni.drivesim.sensors.nv.lidar/config'\n",
      "[0.106s] [ext: omni.stats-0.0.0] startup\n",
      "[0.148s] [ext: omni.gpu_foundation-0.0.0] startup\n",
      "2022-10-11 00:08:56 [146ms] [Warning] [carb] FrameworkImpl::setDefaultPlugin(client: omni.gpu_foundation_factory.plugin, desc : [carb::graphics::Graphics v2.5], plugin : carb.graphics-vulkan.plugin) failed. Plugin selection is locked, because the interface was previously acquired by: \n",
      "[0.160s] [ext: carb.windowing.plugins-1.0.0] startup\n",
      "[0.170s] [ext: omni.assets.plugins-0.0.0] startup\n",
      "[0.172s] [ext: omni.kit.renderer.init-0.0.0] startup\n",
      "\n",
      "|---------------------------------------------------------------------------------------------|\n",
      "| Driver Version: 510.85.2      | Graphics API: Vulkan\n",
      "|=============================================================================================|\n",
      "| GPU | Name                             | Active | LDA | GPU Memory | Vendor-ID | LUID       |\n",
      "|     |                                  |        |     |            | Device-ID | UUID       |\n",
      "|---------------------------------------------------------------------------------------------|\n",
      "| 0   | NVIDIA RTX A6000                 | Yes: 0 |     | 49386   MB | 10de      | 0          |\n",
      "|     |                                  |        |     |            | 2230      | 48cf2a7a.. |\n",
      "|=============================================================================================|\n",
      "| OS: Linux yizhou-System-Product-Name, Version: 5.15.0-48-generic\n",
      "| Processor: 11th Gen Intel(R) Core(TM) i9-11900K @ 3.50GHz | Cores: Unknown | Logical: 16\n",
      "|---------------------------------------------------------------------------------------------|\n",
      "| Total Memory (MB): 31931 | Free Memory: 14985\n",
      "| Total Page/Swap (MB): 2047 | Free Page/Swap: 2047\n",
      "|---------------------------------------------------------------------------------------------|\n",
      "2022-10-11 00:08:57 [945ms] [Warning] [carb.cudainterop.plugin] On Linux only, CUDA and the display driver does not support IOMMU-enabled bare-metal PCIe peer to peer memory copy.\n",
      "However, CUDA and the display driver does support IOMMU via VM pass through. As a consequence, users on Linux,\n",
      "when running on a native bare metal system, should disable the IOMMU. The IOMMU should be enabled and the VFIO driver\n",
      "be used as a PCIe pass through for virtual machines.\n",
      "[0.969s] [ext: omni.kit.pipapi-0.0.0] startup\n",
      "[0.982s] [ext: omni.kit.pip_archive-0.0.0] startup\n",
      "[0.987s] [ext: omni.isaac.core_archive-1.2.0] startup\n",
      "[1.132s] [ext: omni.usd.config-1.0.0] startup\n",
      "[1.137s] [ext: omni.usd.libs-1.0.0] startup\n",
      "[1.321s] [ext: omni.kit.pip_torch-1_11_0-0.1.3] startup\n",
      "[1.376s] [ext: omni.isaac.ml_archive-1.1.0] startup\n",
      "[1.463s] [ext: omni.kit.loop-isaac-0.1.0] startup\n",
      "[1.464s] [ext: omni.kit.async_engine-0.0.0] startup\n",
      "[1.467s] [ext: omni.appwindow-1.0.0] startup\n",
      "[1.472s] [ext: omni.client-0.1.0] startup\n",
      "[1.486s] [ext: omni.kit.test-0.0.0] startup\n",
      "[1.491s] [ext: omni.kit.renderer.core-0.0.0] startup\n",
      "[1.660s] [ext: omni.ui-2.10.3] startup\n",
      "[1.688s] [ext: carb.audio-0.1.0] startup\n",
      "[1.711s] [ext: omni.kit.mainwindow-0.0.0] startup\n",
      "[1.715s] [ext: omni.uiaudio-1.0.0] startup\n",
      "[1.720s] [ext: omni.kit.uiapp-0.0.0] startup\n",
      "[1.720s] [ext: omni.usd.schema.physics-1.0.0] startup\n",
      "[1.785s] [ext: omni.usd.schema.audio-0.0.0] startup\n",
      "[1.799s] [ext: omni.usd.schema.semantics-0.0.0] startup\n",
      "[1.900s] [ext: omni.usd.schema.omnigraph-1.0.0] startup\n",
      "[1.915s] [ext: omni.usd.schema.anim-0.0.0] startup\n",
      "[1.970s] [ext: omni.kit.commands-1.2.2] startup\n",
      "[1.978s] [ext: omni.timeline-1.0.2] startup\n",
      "[1.982s] [ext: omni.hydra.scene_delegate-0.2.0] startup\n",
      "[1.990s] [ext: omni.kit.audiodeviceenum-1.0.0] startup\n",
      "[1.995s] [ext: omni.usd-1.5.3] startup\n",
      "[2.077s] [ext: omni.kit.asset_converter-1.2.31] startup\n",
      "[2.101s] [ext: omni.usd.schema.physx-0.0.0] startup\n",
      "[2.137s] [ext: omni.usd.schema.isaac-0.2.0] startup\n",
      "[2.199s] [ext: omni.usd.schema.forcefield-0.0.0] startup\n",
      "[2.213s] [ext: omni.kvdb-0.0.0] startup\n",
      "[2.219s] [ext: omni.usdphysics-1.4.15] startup\n",
      "[2.224s] [ext: omni.graph.tools-1.4.0] startup\n",
      "[2.276s] [ext: omni.localcache-0.0.0] startup\n",
      "[2.281s] [ext: omni.kit.stage_templates-1.1.2] startup\n",
      "[2.284s] [ext: omni.convexdecomposition-1.4.15] startup\n",
      "[2.292s] [ext: omni.physics.tensors-0.1.0] startup\n",
      "[2.303s] [ext: omni.physx-1.4.15-5.1] startup\n",
      "2022-10-11 00:08:59 [2,313ms] [Warning] [omni.kvdb.plugin] wasn't able to load the meta database, trying to repair it ...\n",
      "2022-10-11 00:08:59 [2,382ms] [Warning] [omni.kvdb.plugin] repair failed\n",
      "[2.395s] [ext: omni.graph.core-2.29.1] startup\n",
      "[2.408s] [ext: omni.kit.menu.utils-1.2.11] startup\n",
      "[2.429s] [ext: omni.physx.tensors-0.1.0] startup\n",
      "[2.439s] [ext: omni.graph-1.23.0] startup\n",
      "[2.514s] [ext: omni.kit.numpy.common-0.1.0] startup\n",
      "[2.518s] [ext: omni.kit.window.script_editor-1.6.2] startup\n",
      "[2.542s] [ext: omni.kit.search_core-1.0.2] startup\n",
      "[2.545s] [ext: omni.isaac.dynamic_control-1.1.0] startup\n",
      "[2.561s] [ext: omni.kit.renderer.capture-0.0.0] startup\n",
      "[2.567s] [ext: omni.kit.widget.filebrowser-2.2.27] startup\n",
      "[2.584s] [ext: omni.kit.widget.path_field-2.0.3] startup\n",
      "[2.590s] [ext: omni.kit.notification_manager-1.0.5] startup\n",
      "[2.595s] [ext: omni.kit.widget.versioning-1.3.8] startup\n",
      "[2.599s] [ext: omni.kit.widget.browser_bar-2.0.3] startup\n",
      "[2.603s] [ext: omni.kit.window.popup_dialog-2.0.8] startup\n",
      "[2.609s] [ext: omni.mdl.neuraylib-0.1.0] startup\n",
      "[2.614s] [ext: omni.kit.window.filepicker-2.4.30] startup\n"
     ]
    },
    {
     "name": "stderr",
     "output_type": "stream",
     "text": [
      "OmniAssetFileFormat\n"
     ]
    },
    {
     "name": "stdout",
     "output_type": "stream",
     "text": [
      "Warp initialized:\n",
      "   Version: 0.2.2\n",
      "   CUDA device: NVIDIA RTX A6000\n",
      "   Kernel cache: /home/yizhou/.cache/warp/0.2.2\n",
      "[2.695s] [ext: omni.kit.menu.create-1.0.2] startup\n",
      "[2.698s] [ext: omni.mdl-0.1.0] startup\n",
      "[2.732s] [ext: omni.kit.window.file_importer-1.0.4] startup\n",
      "[2.734s] [ext: omni.kit.window.file_exporter-1.0.4] startup\n",
      "[2.737s] [ext: omni.kit.material.library-1.3.10] startup\n",
      "[2.743s] [ext: omni.kit.window.drop_support-1.0.0] startup\n",
      "[2.745s] [ext: omni.kit.window.file-1.3.16] startup\n",
      "[2.750s] [ext: omni.kit.context_menu-1.3.9] startup\n",
      "[2.849s] [ext: omni.kit.window.property-1.6.3] startup\n",
      "[2.852s] [ext: omni.kit.window.content_browser-2.4.28] startup\n",
      "[2.865s] [ext: omni.kit.widget.stage-2.6.15] startup\n",
      "[2.875s] [ext: omni.isaac.version-1.0.0] startup\n",
      "[2.876s] [ext: omni.kit.property.usd-3.14.9] startup\n",
      "[2.928s] [ext: omni.kit.viewport.legacy_gizmos-1.0.0] startup\n",
      "[2.931s] [ext: omni.hydra.rtx-0.1.0] startup\n",
      "[2.944s] [ext: omni.renderer-rtx-0.0.0] startup\n",
      "[2.946s] [ext: omni.hydra.engine.stats-1.0.0] startup\n",
      "[2.956s] [ext: omni.debugdraw-0.1.0] startup\n",
      "[2.962s] [ext: omni.kit.widget.settings-1.0.0] startup\n",
      "[2.965s] [ext: omni.kit.window.viewport-0.0.0] startup\n",
      "[4.495s] [ext: omni.kit.widget.prompt-1.0.1] startup\n",
      "[4.496s] [ext: omni.kit.widget.graph-1.4.3] startup\n",
      "[4.510s] [ext: omni.kit.window.preferences-1.2.1] startup\n",
      "[4.562s] [ext: omni.ui_query-1.1.1] startup\n",
      "[4.565s] [ext: omni.graph.ui-1.6.1] startup\n",
      "[4.605s] [ext: omni.kit.ui_test-1.2.2] startup\n",
      "[4.610s] [ext: omni.graph.action-1.18.0] startup\n",
      "[4.628s] [ext: omni.kit.widget.searchfield-1.0.6] startup\n",
      "[4.631s] [ext: omni.kit.usd_undo-0.1.0] startup\n",
      "[4.633s] [ext: omni.graph.scriptnode-0.5.0] startup\n",
      "[4.640s] [ext: omni.physx.commands-1.4.15-5.1] startup\n",
      "[4.647s] [ext: omni.graph.nodes-1.26.0] startup\n",
      "[4.669s] [ext: omni.command.usd-1.0.1] startup\n",
      "[4.677s] [ext: omni.kit.window.extensions-1.1.0] startup\n",
      "[4.686s] [ext: omni.syntheticdata-0.2.1] startup\n",
      "[4.759s] [ext: omni.kit.primitive.mesh-1.0.0] startup\n",
      "[4.766s] [ext: omni.warp-0.2.2] startup\n",
      "[5.723s] [ext: omni.isaac.ui-0.2.1] startup\n",
      "[5.726s] [ext: omni.replicator.core-1.4.3] startup\n",
      "[5.980s] [ext: omni.isaac.core-1.24.3] startup\n",
      "[6.078s] [ext: omni.physx.ui-1.4.15-5.1] startup\n",
      "[6.136s] [ext: omni.kit.property.material-1.8.5] startup\n",
      "[6.141s] [ext: omni.kit.window.toolbar-1.2.4] startup\n",
      "[6.148s] [ext: omni.isaac.core_nodes-0.13.0] startup\n",
      "[6.162s] [ext: omni.physx.demos-1.4.15-5.1] startup\n",
      "[6.165s] [ext: omni.kit.property.physx-0.1.0] startup\n",
      "2022-10-11 00:09:03 [6,218ms] [Warning] [omni.physx.plugin] Deprecated: getSimulationEventStream is deprecated, please use getSimulationEventStreamV2\n",
      "[6.233s] [ext: omni.physx.tests-1.4.15-5.1] startup\n",
      "[6.483s] [ext: omni.isaac.wheeled_robots-0.5.8] startup\n",
      "[6.498s] [ext: omni.kit.menu.common-1.0.0] startup\n",
      "[6.499s] [ext: omni.physx.vehicle-1.4.15-5.1] startup\n",
      "[6.515s] [ext: omni.physx.cct-1.4.15-5.1] startup\n",
      "[6.649s] [ext: omni.physx.camera-1.4.15-5.1] startup\n",
      "[6.658s] [ext: omni.kit.widget.stage_icons-1.0.2] startup\n",
      "[6.660s] [ext: omni.ui.scene-1.5.0] startup\n",
      "[6.666s] [ext: omni.physx.bundle-1.4.15-5.1] startup\n",
      "[6.666s] [ext: omni.kit.window.stage-2.3.7] startup\n",
      "[6.672s] [ext: omni.replicator.composer-1.1.3] startup\n",
      "[6.690s] [ext: omni.isaac.lula-1.1.0] startup\n",
      "[6.703s] [ext: omni.rtx.window.settings-0.6.1] startup\n",
      "[6.710s] [ext: omni.isaac.surface_gripper-0.1.2] startup\n",
      "[6.716s] [ext: omni.isaac.motion_planning-0.2.0] startup\n",
      "[6.726s] [ext: omni.rtx.settings.core-0.5.5] startup\n",
      "[6.732s] [ext: omni.isaac.manipulators-1.0.1] startup\n",
      "[6.734s] [ext: omni.isaac.motion_generation-3.6.1] startup\n",
      "[6.743s] [ext: omni.kit.widget.zoombar-1.0.3] startup\n",
      "[6.744s] [ext: omni.kit.graph.delegate.default-1.0.15] startup\n",
      "[6.746s] [ext: omni.isaac.franka-0.3.0] startup\n",
      "[6.748s] [ext: omni.kit.browser.core-2.0.12] startup\n",
      "[6.756s] [ext: omni.kit.graph.editor.core-1.3.3] startup\n",
      "[6.760s] [ext: omni.kit.graph.usd.commands-1.1.0] startup\n",
      "[6.761s] [ext: omni.kit.browser.folder.core-1.1.13] startup\n",
      "[6.765s] [ext: omni.kit.graph.widget.variables-2.0.2] startup\n",
      "[6.766s] [ext: omni.kit.graph.delegate.modern-1.6.0] startup\n",
      "[6.769s] [ext: omni.kit.selection-0.1.0] startup\n",
      "[6.771s] [ext: omni.isaac.debug_draw-0.Opening usd file at  omniverse://localhost/Users/yizhou/phase1.usd  ...Done.\n",
      "Saving a temp livesync stage at  omniverse://localhost/Users/yizhou/phase1.usd  ...Done.\n"
     ]
    }
   ],
   "source": [
    "from omni.isaac.kit import SimulationApp    \n",
    "simulation_app = SimulationApp({\"headless\": True, \"open_usd\": usd_path,  \"livesync_usd\": usd_path}) \n"
   ]
  },
  {
   "cell_type": "code",
   "execution_count": 5,
   "id": "4be6ee35",
   "metadata": {},
   "outputs": [],
   "source": [
    "# list(stage.TraverseAll())"
   ]
  },
  {
   "cell_type": "code",
   "execution_count": 6,
   "id": "9c99468c",
   "metadata": {},
   "outputs": [],
   "source": [
    "# import torch\n",
    "\n",
    "# torch.__version__\n",
    "\n",
    "# import transformers"
   ]
  },
  {
   "cell_type": "code",
   "execution_count": 7,
   "id": "0cf9251b",
   "metadata": {},
   "outputs": [
    {
     "ename": "TypeError",
     "evalue": "expected str, bytes or os.PathLike object, not NoneType",
     "output_type": "error",
     "traceback": [
      "\u001b[0;31m---------------------------------------------------------------------------\u001b[0m",
      "\u001b[0;31mTypeError\u001b[0m                                 Traceback (most recent call last)",
      "\u001b[0;32m/tmp/ipykernel_117422/1916234757.py\u001b[0m in \u001b[0;36m<module>\u001b[0;34m\u001b[0m\n\u001b[0;32m----> 1\u001b[0;31m \u001b[0;32mfrom\u001b[0m \u001b[0mtask\u001b[0m\u001b[0;34m.\u001b[0m\u001b[0mscene\u001b[0m \u001b[0;32mimport\u001b[0m \u001b[0mArrangeScene\u001b[0m\u001b[0;34m\u001b[0m\u001b[0;34m\u001b[0m\u001b[0m\n\u001b[0m",
      "\u001b[0;32m~/Research/DeepArrange/exts/deep.arrangement.ext/deep/arrangement/ext/task/scene.py\u001b[0m in \u001b[0;36m<module>\u001b[0;34m\u001b[0m\n\u001b[1;32m     14\u001b[0m \u001b[0;34m\u001b[0m\u001b[0m\n\u001b[1;32m     15\u001b[0m \u001b[0;32mfrom\u001b[0m \u001b[0;34m.\u001b[0m\u001b[0mutils\u001b[0m \u001b[0;32mimport\u001b[0m \u001b[0mimport_asset_to_stage\u001b[0m\u001b[0;34m\u001b[0m\u001b[0;34m\u001b[0m\u001b[0m\n\u001b[0;32m---> 16\u001b[0;31m \u001b[0;32mfrom\u001b[0m \u001b[0;34m.\u001b[0m\u001b[0mconfig\u001b[0m \u001b[0;32mimport\u001b[0m \u001b[0;34m*\u001b[0m\u001b[0;34m\u001b[0m\u001b[0;34m\u001b[0m\u001b[0m\n\u001b[0m\u001b[1;32m     17\u001b[0m \u001b[0;34m\u001b[0m\u001b[0m\n\u001b[1;32m     18\u001b[0m \u001b[0;34m\u001b[0m\u001b[0m\n",
      "\u001b[0;32m~/Research/DeepArrange/exts/deep.arrangement.ext/deep/arrangement/ext/task/config.py\u001b[0m in \u001b[0;36m<module>\u001b[0;34m\u001b[0m\n\u001b[1;32m      9\u001b[0m \u001b[0;34m\u001b[0m\u001b[0m\n\u001b[1;32m     10\u001b[0m EXTENSION_FOLDER_PATH = Path(\n\u001b[0;32m---> 11\u001b[0;31m     \u001b[0momni\u001b[0m\u001b[0;34m.\u001b[0m\u001b[0mkit\u001b[0m\u001b[0;34m.\u001b[0m\u001b[0mapp\u001b[0m\u001b[0;34m.\u001b[0m\u001b[0mget_app\u001b[0m\u001b[0;34m(\u001b[0m\u001b[0;34m)\u001b[0m\u001b[0;34m.\u001b[0m\u001b[0mget_extension_manager\u001b[0m\u001b[0;34m(\u001b[0m\u001b[0;34m)\u001b[0m\u001b[0;34m.\u001b[0m\u001b[0mget_extension_path_by_module\u001b[0m\u001b[0;34m(\u001b[0m\u001b[0m__name__\u001b[0m\u001b[0;34m)\u001b[0m\u001b[0;34m\u001b[0m\u001b[0;34m\u001b[0m\u001b[0m\n\u001b[0m\u001b[1;32m     12\u001b[0m )\n\u001b[1;32m     13\u001b[0m \u001b[0;34m\u001b[0m\u001b[0m\n",
      "\u001b[0;32m~/.local/share/isaac_sim-2022.1.1/kit/python/lib/python3.7/pathlib.py\u001b[0m in \u001b[0;36m__new__\u001b[0;34m(cls, *args, **kwargs)\u001b[0m\n\u001b[1;32m   1025\u001b[0m         \u001b[0;32mif\u001b[0m \u001b[0mcls\u001b[0m \u001b[0;32mis\u001b[0m \u001b[0mPath\u001b[0m\u001b[0;34m:\u001b[0m\u001b[0;34m\u001b[0m\u001b[0;34m\u001b[0m\u001b[0m\n\u001b[1;32m   1026\u001b[0m             \u001b[0mcls\u001b[0m \u001b[0;34m=\u001b[0m \u001b[0mWindowsPath\u001b[0m \u001b[0;32mif\u001b[0m \u001b[0mos\u001b[0m\u001b[0;34m.\u001b[0m\u001b[0mname\u001b[0m \u001b[0;34m==\u001b[0m \u001b[0;34m'nt'\u001b[0m \u001b[0;32melse\u001b[0m \u001b[0mPosixPath\u001b[0m\u001b[0;34m\u001b[0m\u001b[0;34m\u001b[0m\u001b[0m\n\u001b[0;32m-> 1027\u001b[0;31m         \u001b[0mself\u001b[0m \u001b[0;34m=\u001b[0m \u001b[0mcls\u001b[0m\u001b[0;34m.\u001b[0m\u001b[0m_from_parts\u001b[0m\u001b[0;34m(\u001b[0m\u001b[0margs\u001b[0m\u001b[0;34m,\u001b[0m \u001b[0minit\u001b[0m\u001b[0;34m=\u001b[0m\u001b[0;32mFalse\u001b[0m\u001b[0;34m)\u001b[0m\u001b[0;34m\u001b[0m\u001b[0;34m\u001b[0m\u001b[0m\n\u001b[0m\u001b[1;32m   1028\u001b[0m         \u001b[0;32mif\u001b[0m \u001b[0;32mnot\u001b[0m \u001b[0mself\u001b[0m\u001b[0;34m.\u001b[0m\u001b[0m_flavour\u001b[0m\u001b[0;34m.\u001b[0m\u001b[0mis_supported\u001b[0m\u001b[0;34m:\u001b[0m\u001b[0;34m\u001b[0m\u001b[0;34m\u001b[0m\u001b[0m\n\u001b[1;32m   1029\u001b[0m             raise NotImplementedError(\"cannot instantiate %r on your system\"\n",
      "\u001b[0;32m~/.local/share/isaac_sim-2022.1.1/kit/python/lib/python3.7/pathlib.py\u001b[0m in \u001b[0;36m_from_parts\u001b[0;34m(cls, args, init)\u001b[0m\n\u001b[1;32m    672\u001b[0m         \u001b[0;31m# right flavour.\u001b[0m\u001b[0;34m\u001b[0m\u001b[0;34m\u001b[0m\u001b[0;34m\u001b[0m\u001b[0m\n\u001b[1;32m    673\u001b[0m         \u001b[0mself\u001b[0m \u001b[0;34m=\u001b[0m \u001b[0mobject\u001b[0m\u001b[0;34m.\u001b[0m\u001b[0m__new__\u001b[0m\u001b[0;34m(\u001b[0m\u001b[0mcls\u001b[0m\u001b[0;34m)\u001b[0m\u001b[0;34m\u001b[0m\u001b[0;34m\u001b[0m\u001b[0m\n\u001b[0;32m--> 674\u001b[0;31m         \u001b[0mdrv\u001b[0m\u001b[0;34m,\u001b[0m \u001b[0mroot\u001b[0m\u001b[0;34m,\u001b[0m \u001b[0mparts\u001b[0m \u001b[0;34m=\u001b[0m \u001b[0mself\u001b[0m\u001b[0;34m.\u001b[0m\u001b[0m_parse_args\u001b[0m\u001b[0;34m(\u001b[0m\u001b[0margs\u001b[0m\u001b[0;34m)\u001b[0m\u001b[0;34m\u001b[0m\u001b[0;34m\u001b[0m\u001b[0m\n\u001b[0m\u001b[1;32m    675\u001b[0m         \u001b[0mself\u001b[0m\u001b[0;34m.\u001b[0m\u001b[0m_drv\u001b[0m \u001b[0;34m=\u001b[0m \u001b[0mdrv\u001b[0m\u001b[0;34m\u001b[0m\u001b[0;34m\u001b[0m\u001b[0m\n\u001b[1;32m    676\u001b[0m         \u001b[0mself\u001b[0m\u001b[0;34m.\u001b[0m\u001b[0m_root\u001b[0m \u001b[0;34m=\u001b[0m \u001b[0mroot\u001b[0m\u001b[0;34m\u001b[0m\u001b[0;34m\u001b[0m\u001b[0m\n",
      "\u001b[0;32m~/.local/share/isaac_sim-2022.1.1/kit/python/lib/python3.7/pathlib.py\u001b[0m in \u001b[0;36m_parse_args\u001b[0;34m(cls, args)\u001b[0m\n\u001b[1;32m    656\u001b[0m                 \u001b[0mparts\u001b[0m \u001b[0;34m+=\u001b[0m \u001b[0ma\u001b[0m\u001b[0;34m.\u001b[0m\u001b[0m_parts\u001b[0m\u001b[0;34m\u001b[0m\u001b[0;34m\u001b[0m\u001b[0m\n\u001b[1;32m    657\u001b[0m             \u001b[0;32melse\u001b[0m\u001b[0;34m:\u001b[0m\u001b[0;34m\u001b[0m\u001b[0;34m\u001b[0m\u001b[0m\n\u001b[0;32m--> 658\u001b[0;31m                 \u001b[0ma\u001b[0m \u001b[0;34m=\u001b[0m \u001b[0mos\u001b[0m\u001b[0;34m.\u001b[0m\u001b[0mfspath\u001b[0m\u001b[0;34m(\u001b[0m\u001b[0ma\u001b[0m\u001b[0;34m)\u001b[0m\u001b[0;34m\u001b[0m\u001b[0;34m\u001b[0m\u001b[0m\n\u001b[0m\u001b[1;32m    659\u001b[0m                 \u001b[0;32mif\u001b[0m \u001b[0misinstance\u001b[0m\u001b[0;34m(\u001b[0m\u001b[0ma\u001b[0m\u001b[0;34m,\u001b[0m \u001b[0mstr\u001b[0m\u001b[0;34m)\u001b[0m\u001b[0;34m:\u001b[0m\u001b[0;34m\u001b[0m\u001b[0;34m\u001b[0m\u001b[0m\n\u001b[1;32m    660\u001b[0m                     \u001b[0;31m# Force-cast str subclasses to str (issue #21127)\u001b[0m\u001b[0;34m\u001b[0m\u001b[0;34m\u001b[0m\u001b[0;34m\u001b[0m\u001b[0m\n",
      "\u001b[0;31mTypeError\u001b[0m: expected str, bytes or os.PathLike object, not NoneType"
     ]
    }
   ],
   "source": [
    "from task.scene import ArrangeScene"
   ]
  },
  {
   "cell_type": "code",
   "execution_count": null,
   "id": "277981b2",
   "metadata": {},
   "outputs": [],
   "source": [
    "from uva_env import UvaEnv\n",
    "env = UvaEnv()"
   ]
  },
  {
   "cell_type": "code",
   "execution_count": null,
   "id": "792536fd",
   "metadata": {},
   "outputs": [],
   "source": []
  }
 ],
 "metadata": {
  "kernelspec": {
   "display_name": "Isaac Sim Python 3",
   "language": "python",
   "name": "isaac_sim_python3"
  },
  "language_info": {
   "codemirror_mode": {
    "name": "ipython",
    "version": 3
   },
   "file_extension": ".py",
   "mimetype": "text/x-python",
   "name": "python",
   "nbconvert_exporter": "python",
   "pygments_lexer": "ipython3",
   "version": "3.7.13"
  }
 },
 "nbformat": 4,
 "nbformat_minor": 5
}
