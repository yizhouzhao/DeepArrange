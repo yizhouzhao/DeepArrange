{
 "cells": [
  {
   "cell_type": "code",
   "execution_count": 1,
   "id": "ed4f9fe6",
   "metadata": {},
   "outputs": [],
   "source": [
    "%load_ext autoreload\n",
    "%autoreload 2"
   ]
  },
  {
   "cell_type": "code",
   "execution_count": 2,
   "id": "69c787b3",
   "metadata": {},
   "outputs": [],
   "source": [
    "import random\n",
    "import numpy"
   ]
  },
  {
   "cell_type": "code",
   "execution_count": 3,
   "id": "896db912",
   "metadata": {},
   "outputs": [],
   "source": [
    "import getpass\n",
    "user = getpass.getuser()"
   ]
  },
  {
   "cell_type": "code",
   "execution_count": 4,
   "id": "e0ab8c93",
   "metadata": {},
   "outputs": [],
   "source": [
    "usd_path = \"omniverse://localhost/Users/yizhou/phase1.usd\""
   ]
  },
  {
   "cell_type": "code",
   "execution_count": 5,
   "id": "6dd75691",
   "metadata": {},
   "outputs": [
    {
     "name": "stdout",
     "output_type": "stream",
     "text": [
      "Starting kit application with the fillowing args:  ['/home/yizhou/.local/share/isaac_sim-2022.1.1/exts/omni.isaac.kit/omni/isaac/kit/simulation_app.py', '/home/yizhou/.local/share/isaac_sim-2022.1.1/apps/omni.isaac.sim.python.kit', '--/app/tokens/exe-path=/home/yizhou/.local/share/isaac_sim-2022.1.1/kit', '--/persistent/app/viewport/displayOptions=3094', '--/rtx/materialDb/syncLoads=True', '--/rtx/hydra/materialSyncLoads=True--/omni.kit.plugin/syncUsdLoads=True', '--/app/renderer/resolution/width=1280', '--/app/renderer/resolution/height=720', '--/app/window/width=1440', '--/app/window/height=900', '--/renderer/multiGpu/enabled=True', '--ext-folder', '/home/yizhou/.local/share/isaac_sim-2022.1.1/exts', '--ext-folder', '/home/yizhou/.local/share/isaac_sim-2022.1.1/apps', '--/physics/cudaDevice=0', '--portable', '--no-window']\n",
      "Passing the following args to the base kit application:  ['-f', '/home/yizhou/.local/share/jupyter/runtime/kernel-2cb9cd0f-4673-4f58-ab1c-c3fc45313fc9.json']\n",
      "[Warning] [omni.kit.app.plugin] No crash reporter present, dumps uploading isn't available.\n",
      "[Info] [carb] Logging to file: /home/yizhou/.local/share/isaac_sim-2022.1.1/kit/logs/Kit/Isaac-Sim/2022.1/kit_20221011_110942.log\n",
      "2022-10-11 18:09:42 [4ms] [Warning] [omni.ext.plugin] [ext: omni.drivesim.sensors.nv.lidar] Extensions config 'extension.toml' doesn't exist '/home/yizhou/.local/share/isaac_sim-2022.1.1/exts/omni.drivesim.sensors.nv.lidar' or '/home/yizhou/.local/share/isaac_sim-2022.1.1/exts/omni.drivesim.sensors.nv.lidar/config'\n",
      "[0.089s] [ext: omni.stats-0.0.0] startup\n",
      "[0.103s] [ext: omni.gpu_foundation-0.0.0] startup\n",
      "2022-10-11 18:09:42 [105ms] [Warning] [carb] FrameworkImpl::setDefaultPlugin(client: omni.gpu_foundation_factory.plugin, desc : [carb::graphics::Graphics v2.5], plugin : carb.graphics-vulkan.plugin) failed. Plugin selection is locked, because the interface was previously acquired by: \n",
      "[0.112s] [ext: carb.windowing.plugins-1.0.0] startup\n",
      "[0.119s] [ext: omni.assets.plugins-0.0.0] startup\n",
      "[0.120s] [ext: omni.kit.renderer.init-0.0.0] startup\n",
      "\n",
      "|---------------------------------------------------------------------------------------------|\n",
      "| Driver Version: 510.85.2      | Graphics API: Vulkan\n",
      "|=============================================================================================|\n",
      "| GPU | Name                             | Active | LDA | GPU Memory | Vendor-ID | LUID       |\n",
      "|     |                                  |        |     |            | Device-ID | UUID       |\n",
      "|---------------------------------------------------------------------------------------------|\n",
      "| 0   | NVIDIA RTX A6000                 | Yes: 0 |     | 49386   MB | 10de      | 0          |\n",
      "|     |                                  |        |     |            | 2230      | 48cf2a7a.. |\n",
      "|=============================================================================================|\n",
      "| OS: Linux yizhou-System-Product-Name, Version: 5.15.0-50-generic\n",
      "| Processor: 11th Gen Intel(R) Core(TM) i9-11900K @ 3.50GHz | Cores: Unknown | Logical: 16\n",
      "|---------------------------------------------------------------------------------------------|\n",
      "| Total Memory (MB): 31931 | Free Memory: 11396\n",
      "| Total Page/Swap (MB): 2047 | Free Page/Swap: 2047\n",
      "|---------------------------------------------------------------------------------------------|\n",
      "2022-10-11 18:09:43 [1,045ms] [Warning] [carb.cudainterop.plugin] On Linux only, CUDA and the display driver does not support IOMMU-enabled bare-metal PCIe peer to peer memory copy.\n",
      "However, CUDA and the display driver does support IOMMU via VM pass through. As a consequence, users on Linux,\n",
      "when running on a native bare metal system, should disable the IOMMU. The IOMMU should be enabled and the VFIO driver\n",
      "be used as a PCIe pass through for virtual machines.\n",
      "[1.064s] [ext: omni.kit.pipapi-0.0.0] startup\n",
      "[1.072s] [ext: omni.kit.pip_archive-0.0.0] startup\n",
      "[1.076s] [ext: omni.isaac.core_archive-1.2.0] startup\n",
      "[1.092s] [ext: omni.usd.config-1.0.0] startup\n",
      "[1.095s] [ext: omni.usd.libs-1.0.0] startup\n",
      "[1.240s] [ext: omni.kit.pip_torch-1_11_0-0.1.3] startup\n",
      "[1.266s] [ext: omni.isaac.ml_archive-1.1.0] startup\n",
      "[1.308s] [ext: omni.kit.loop-isaac-0.1.0] startup\n",
      "[1.309s] [ext: omni.kit.async_engine-0.0.0] startup\n",
      "[1.310s] [ext: omni.appwindow-1.0.0] startup\n",
      "[1.313s] [ext: omni.client-0.1.0] startup\n",
      "[1.324s] [ext: omni.kit.test-0.0.0] startup\n",
      "[1.325s] [ext: omni.kit.renderer.core-0.0.0] startup\n",
      "[1.393s] [ext: omni.ui-2.10.3] startup\n",
      "[1.408s] [ext: carb.audio-0.1.0] startup\n",
      "[1.432s] [ext: omni.kit.mainwindow-0.0.0] startup\n",
      "[1.437s] [ext: omni.uiaudio-1.0.0] startup\n",
      "[1.439s] [ext: omni.kit.uiapp-0.0.0] startup\n",
      "[1.439s] [ext: omni.usd.schema.physics-1.0.0] startup\n",
      "[1.479s] [ext: omni.usd.schema.audio-0.0.0] startup\n",
      "[1.486s] [ext: omni.usd.schema.semantics-0.0.0] startup\n",
      "[1.496s] [ext: omni.usd.schema.omnigraph-1.0.0] startup\n",
      "[1.504s] [ext: omni.usd.schema.anim-0.0.0] startup\n",
      "[1.583s] [ext: omni.kit.commands-1.2.2] startup\n",
      "[1.588s] [ext: omni.timeline-1.0.2] startup\n",
      "[1.590s] [ext: omni.hydra.scene_delegate-0.2.0] startup\n",
      "[1.596s] [ext: o"
     ]
    },
    {
     "name": "stderr",
     "output_type": "stream",
     "text": [
      "OmniAssetFileFormat\n"
     ]
    },
    {
     "name": "stdout",
     "output_type": "stream",
     "text": [
      "mni.kit.audiodeviceenum-1.0.0] startup\n",
      "[1.597s] [ext: omni.usd-1.5.3] startup\n",
      "[1.650s] [ext: omni.kit.asset_converter-1.2.31] startup\n",
      "[1.686s] [ext: omni.usd.schema.physx-0.0.0] startup\n",
      "[1.727s] [ext: omni.usd.schema.isaac-0.2.0] startup\n",
      "[1.765s] [ext: omni.usd.schema.forcefield-0.0.0] startup\n",
      "[1.774s] [ext: omni.kvdb-0.0.0] startup\n",
      "[1.776s] [ext: omni.usdphysics-1.4.15] startup\n",
      "[1.778s] [ext: omni.graph.tools-1.4.0] startup\n",
      "[1.800s] [ext: omni.localcache-0.0.0] startup\n",
      "[1.803s] [ext: omni.kit.stage_templates-1.1.2] startup\n",
      "[1.806s] [ext: omni.convexdecomposition-1.4.15] startup\n",
      "[1.809s] [ext: omni.physics.tensors-0.1.0] startup\n",
      "[1.815s] [ext: omni.physx-1.4.15-5.1] startup\n",
      "2022-10-11 18:09:44 [1,823ms] [Warning] [omni.kvdb.plugin] wasn't able to load the meta database, trying to repair it ...\n",
      "2022-10-11 18:09:44 [1,862ms] [Warning] [omni.kvdb.plugin] repair failed\n",
      "[1.868s] [ext: omni.graph.core-2.29.1] startup\n",
      "[1.872s] [ext: omni.kit.menu.utils-1.2.11] startup\n",
      "[1.882s] [ext: omni.physx.tensors-0.1.0] startup\n",
      "[1.890s] [ext: omni.graph-1.23.0] startup\n",
      "[1.947s] [ext: omni.kit.numpy.common-0.1.0] startup\n",
      "[1.950s] [ext: omni.kit.window.script_editor-1.6.2] startup\n",
      "[1.960s] [ext: omni.kit.search_core-1.0.2] startup\n",
      "[1.961s] [ext: omni.isaac.dynamic_control-1.1.0] startup\n",
      "[1.969s] [ext: omni.kit.renderer.capture-0.0.0] startup\n",
      "[1.973s] [ext: omni.kit.widget.filebrowser-2.2.27] startup\n",
      "[1.982s] [ext: omni.kit.widget.path_field-2.0.3] startup\n",
      "[1.983s] [ext: omni.kit.notification_manager-1.0.5] startup\n",
      "[1.985s] [ext: omni.kit.widget.versioning-1.3.8] startup\n",
      "[1.987s] [ext: omni.kit.widget.browser_bar-2.0.3] startup\n",
      "[1.989s] [ext: omni.kit.window.popup_dialog-2.0.8] startup\n",
      "[1.991s] [ext: omni.mdl.neuraylib-0.1.0] startup\n",
      "[1.995s] [ext: omni.kit.window.filepicker-2.4.30] startup\n",
      "Warp initialized:\n",
      "   Version: 0.2.2\n",
      "   CUDA device: NVIDIA RTX A6000\n",
      "   Kernel cache: /home/yizhou/.cache/warp/0.2.2\n",
      "[2.047s] [ext: omni.kit.menu.create-1.0.2] startup\n",
      "[2.050s] [ext: omni.mdl-0.1.0] startup\n",
      "[2.077s] [ext: omni.kit.window.file_importer-1.0.4] startup\n",
      "[2.079s] [ext: omni.kit.window.file_exporter-1.0.4] startup\n",
      "[2.080s] [ext: omni.kit.material.library-1.3.10] startup\n",
      "[2.085s] [ext: omni.kit.window.drop_support-1.0.0] startup\n",
      "[2.085s] [ext: omni.kit.window.file-1.3.16] startup\n",
      "[2.088s] [ext: omni.kit.context_menu-1.3.9] startup\n",
      "[2.178s] [ext: omni.kit.window.property-1.6.3] startup\n",
      "[2.183s] [ext: omni.kit.window.content_browser-2.4.28] startup\n",
      "[2.202s] [ext: omni.kit.widget.stage-2.6.15] startup\n",
      "[2.212s] [ext: omni.isaac.version-1.0.0] startup\n",
      "[2.214s] [ext: omni.kit.property.usd-3.14.9] startup\n",
      "[2.246s] [ext: omni.kit.viewport.legacy_gizmos-1.0.0] startup\n",
      "[2.251s] [ext: omni.hydra.rtx-0.1.0] startup\n",
      "[2.260s] [ext: omni.renderer-rtx-0.0.0] startup\n",
      "[2.260s] [ext: omni.hydra.engine.stats-1.0.0] startup\n",
      "[2.268s] [ext: omni.debugdraw-0.1.0] startup\n",
      "[2.276s] [ext: omni.kit.widget.settings-1.0.0] startup\n",
      "[2.278s] [ext: omni.kit.window.viewport-0.0.0] startup\n",
      "[3.399s] [ext: omni.kit.widget.prompt-1.0.1] startup\n",
      "[3.400s] [ext: omni.kit.widget.graph-1.4.3] startup\n",
      "[3.404s] [ext: omni.kit.window.preferences-1.2.1] startup\n",
      "[3.442s] [ext: omni.ui_query-1.1.1] startup\n",
      "[3.444s] [ext: omni.graph.ui-1.6.1] startup\n",
      "[3.462s] [ext: omni.kit.ui_test-1.2.2] startup\n",
      "[3.464s] [ext: omni.graph.action-1.18.0] startup\n",
      "[3.473s] [ext: omni.kit.widget.searchfield-1.0.6] startup\n",
      "[3.474s] [ext: omni.kit.usd_undo-0.1.0] startup\n",
      "[3.476s] [ext: omni.graph.scriptnode-0.5.0] startup\n",
      "[3.477s] [ext: omni.physx.commands-1.4.15-5.1] startup\n",
      "[3.482s] [ext: omni.graph.nodes-1.26.0] startup\n",
      "[3.494s] [ext: omni.command.usd-1.0.1] startup\n",
      "[3.497s] [ext: omni.kit.window.extensions-1.1.0] startup\n",
      "[3.501s] [ext: omni.syntheticdata-0.2.1] startup\n",
      "[3.532s] [ext: omni.kit.primitive.mesh-1.0.0] startup\n",
      "[3.535s] [ext: omni.warp-0.2.2] startup\n",
      "[4.360s] [ext: omni.isaac.ui-0.2.1] startup\n",
      "[4.362s] [ext: omni.replicator.core-1.4.3] startup\n",
      "[4.539s] [ext: omni.isaac.core-1.24.3] startup\n",
      "[4.610s] [ext: omni.physx.ui-1.4.15-5.1] startup\n",
      "[4.659s] [ext: omni.kit.property.material-1.8.5] startup\n",
      "[4.660s] [ext: omni.kit.window.toolbar-1.2.4] startup\n",
      "[4.669s] [ext: omni.isaac.core_nodes-0.13.0] startup\n",
      "[4.687s] [ext: omni.physx.demos-1.4.15-5.1] startup\n",
      "[4.689s] [ext: omni.kit.property.physx-0.1.0] startup\n",
      "2022-10-11 18:09:47 [4,730ms] [Warning] [omni.physx.plugin] Deprecated: getSimulationEventStream is deprecated, please use getSimulationEventStreamV2\n",
      "[4.738s] [ext: omni.physx.tests-1.4.15-5.1] startup\n",
      "[4.930s] [ext: omni.isaac.wheeled_robots-0.5.8] startup\n",
      "[4.948s] [ext: omni.kit.menu.common-1.0.0] startup\n",
      "[4.949s] [ext: omni.physx.vehicle-1.4.15-5.1] startup\n",
      "[4.958s] [ext: omni.physx.cct-1.4.15-5.1] startup\n",
      "[5.021s] [ext: omni.physx.camera-1.4.15-5.1] startup\n",
      "[5.027s] [ext: omni.kit.widget.stage_icons-1.0.2] startup\n",
      "[5.028s] [ext: omni.ui.scene-1.5.0] startup\n",
      "[5.033s] [ext: omni.physx.bundle-1.4.15-5.1] startup\n",
      "[5.033s] [ext: omni.kit.window.stage-2.3.7] startup\n",
      "[5.036s] [ext: omni.replicator.composer-1.1.3] startup\n",
      "[5.048s] [ext: omni.isaac.lula-1.1.0] startup\n",
      "[5.056s] [ext: omni.rtx.window.settings-0.6.1] startup\n",
      "[5.061s] [ext: omni.isaac.surface_gripper-0.1.2] startup\n",
      "[5.065s] [ext: omni.isaac.motion_planning-0.2.0] startup\n",
      "[5.071s] [ext: omni.rtx.settings.core-0.5.5] startup\n",
      "[5.075s] [ext: omni.isaac.manipulators-1.0.1] startup\n",
      "[5.077s] [ext: omni.isaac.motion_generation-3.6.1] startup\n",
      "[5.080s] [ext: omni.kit.widget.zoombar-1.0.3] startup\n",
      "[5.081s] [ext: omni.kit.graph.delegate.default-1.0.15] startup\n",
      "[5.083s] [ext: omni.isaac.franka-0.3.0] startup\n",
      "[5.083s] [ext: omni.kit.browser.core-2.0.12] startup\n",
      "[5.087s] [ext: omni.kit.graph.editor.core-1.3.3] startup\n",
      "[5.089s] [ext: omni.kit.graph.usd.commands-1.1.0] startup\n",
      "[5.090s] [ext: omni.kit.browser.folder.core-1.1.13] startup\n",
      "[5.092s] [ext: omni.kit.graph.widget.variables-2.0.2] startup\n",
      "[5.093s] [ext: omni.kit.graph.delegate.modern-1.6.0] startup\n",
      "[5.094s] [ext: omni.kit.selection-0.1.0] startup\n",
      "[5.095s] [ext: omni.isaac.debug_draw-0.Opening usd file at  omniverse://localhost/Users/yizhou/phase1.usd  ...Done.\n",
      "Saving a temp livesync stage at  omniverse://localhost/Users/yizhou/phase1.usd  ...Done.\n"
     ]
    }
   ],
   "source": [
    "from omni.isaac.kit import SimulationApp    \n",
    "simulation_app = SimulationApp({\"headless\": True, \"open_usd\": usd_path,  \"livesync_usd\": usd_path}) \n"
   ]
  },
  {
   "cell_type": "code",
   "execution_count": 6,
   "id": "3f3f3123",
   "metadata": {},
   "outputs": [
    {
     "data": {
      "text/plain": [
       "'Isaac Sim Python'"
      ]
     },
     "execution_count": 6,
     "metadata": {},
     "output_type": "execute_result"
    }
   ],
   "source": [
    "import carb\n",
    "carb.settings.get_settings().get(\"/app/window/title\")"
   ]
  },
  {
   "cell_type": "code",
   "execution_count": 7,
   "id": "cc03d21a",
   "metadata": {},
   "outputs": [],
   "source": [
    "# list(env.stage.TraverseAll())"
   ]
  },
  {
   "cell_type": "code",
   "execution_count": 8,
   "id": "9bf8dbde",
   "metadata": {},
   "outputs": [],
   "source": [
    "# import torch\n",
    "\n",
    "# torch.__version__\n",
    "\n",
    "# import transformers"
   ]
  },
  {
   "cell_type": "code",
   "execution_count": 9,
   "id": "b21910b7",
   "metadata": {},
   "outputs": [],
   "source": [
    "from uva_env import UvaEnv\n",
    "env = UvaEnv()"
   ]
  },
  {
   "cell_type": "code",
   "execution_count": 10,
   "id": "456c0ecf",
   "metadata": {},
   "outputs": [],
   "source": [
    "# omni.kit.commands.execute(\"CreatePrimWithDefaultXform\", prim_type=\"Camera\", prim_path = \"/World/Camera2\")"
   ]
  },
  {
   "cell_type": "code",
   "execution_count": 11,
   "id": "6dee69da",
   "metadata": {},
   "outputs": [],
   "source": [
    "env.reset_scene()"
   ]
  },
  {
   "cell_type": "code",
   "execution_count": 12,
   "id": "dc68dd8d",
   "metadata": {},
   "outputs": [],
   "source": [
    "# import omni.kit\n",
    "# omni.kit.commands.execute(\"DeletePrims\", paths=[\"/World/Camera2\"])"
   ]
  },
  {
   "cell_type": "code",
   "execution_count": 13,
   "id": "4b3c24d3",
   "metadata": {},
   "outputs": [],
   "source": [
    "env.world.step(render=True)"
   ]
  },
  {
   "cell_type": "markdown",
   "id": "18b0e77c",
   "metadata": {},
   "source": [
    "# Task scene"
   ]
  },
  {
   "cell_type": "code",
   "execution_count": 14,
   "id": "34b36463",
   "metadata": {},
   "outputs": [],
   "source": [
    "task_type = \"Bookshelf\"\n",
    "side_choice = \"Border\"\n",
    "asset_id = 0\n",
    "load_nucleus = True"
   ]
  },
  {
   "cell_type": "code",
   "execution_count": 15,
   "id": "4d0792f0",
   "metadata": {},
   "outputs": [],
   "source": [
    "from task.scene import ArrangeScene\n",
    "scene = ArrangeScene(task_type, side_choice, asset_id, \"/World/base\", load_nucleus)"
   ]
  },
  {
   "cell_type": "code",
   "execution_count": 16,
   "id": "8e1c824f",
   "metadata": {
    "scrolled": true
   },
   "outputs": [
    {
     "name": "stdout",
     "output_type": "stream",
     "text": [
      "asset_prim: omniverse://localhost/Users/yizhou/Asset/B/Bookshelve/Clayton.usd\n",
      "object_mean [  0  10 100]\n"
     ]
    }
   ],
   "source": [
    "# base\n",
    "scene.add_base_asset()"
   ]
  },
  {
   "cell_type": "code",
   "execution_count": 17,
   "id": "e6230b2c",
   "metadata": {},
   "outputs": [],
   "source": [
    "env.world.step(render=True)"
   ]
  },
  {
   "cell_type": "code",
   "execution_count": 18,
   "id": "161187e5",
   "metadata": {},
   "outputs": [
    {
     "name": "stdout",
     "output_type": "stream",
     "text": [
      "loading asset from omni nucleus\n",
      "asset_prim: omniverse://localhost/Users/yizhou/Asset/I/Book/Book_21.usd\n"
     ]
    }
   ],
   "source": [
    "# object\n",
    "object_type = random.choice(scene.object_candidates)\n",
    "scene.load_obj_info(object_type, 1)"
   ]
  },
  {
   "cell_type": "code",
   "execution_count": 19,
   "id": "4b035c76",
   "metadata": {},
   "outputs": [],
   "source": [
    "env.world.step(render=True)"
   ]
  },
  {
   "cell_type": "code",
   "execution_count": 20,
   "id": "aca5e8bb",
   "metadata": {},
   "outputs": [
    {
     "data": {
      "text/plain": [
       "[{'type': 'Book',\n",
       "  'name': 'Book_21.usd',\n",
       "  'file_path': 'omniverse://localhost/Users/yizhou/Asset/I/Book/Book_21.usd',\n",
       "  'image_path': 'omniverse://localhost/Users/yizhou/Asset/I/Book/.thumbs/256x256/Book_21.usd.png',\n",
       "  'prim_path': '/World/objects/Book'}]"
      ]
     },
     "execution_count": 20,
     "metadata": {},
     "output_type": "execute_result"
    }
   ],
   "source": [
    "scene.objects"
   ]
  },
  {
   "cell_type": "code",
   "execution_count": 26,
   "id": "27570ce1",
   "metadata": {},
   "outputs": [],
   "source": [
    "object_prim_path = scene.objects[-1][\"prim_path\"]  \n",
    "object_prim = env.stage.GetPrimAtPath(object_prim_path)\n",
    "x, y = (0.5, 0)#np.tanh(np.random.randn()), np.tanh(np.random.randn())\n",
    "scene.map_object(object_prim_path, (x, y)) "
   ]
  },
  {
   "cell_type": "code",
   "execution_count": 31,
   "id": "9aa522f2",
   "metadata": {},
   "outputs": [
    {
     "ename": "AttributeError",
     "evalue": "'Prim' object has no attribute 'name'",
     "output_type": "error",
     "traceback": [
      "\u001b[0;31m---------------------------------------------------------------------------\u001b[0m",
      "\u001b[0;31mAttributeError\u001b[0m                            Traceback (most recent call last)",
      "\u001b[0;32m/tmp/ipykernel_36348/3705144731.py\u001b[0m in \u001b[0;36m<module>\u001b[0;34m\u001b[0m\n\u001b[0;32m----> 1\u001b[0;31m \u001b[0menv\u001b[0m\u001b[0;34m.\u001b[0m\u001b[0mworld\u001b[0m\u001b[0;34m.\u001b[0m\u001b[0mscene\u001b[0m\u001b[0;34m.\u001b[0m\u001b[0madd\u001b[0m\u001b[0;34m(\u001b[0m\u001b[0mobject_prim\u001b[0m\u001b[0;34m)\u001b[0m\u001b[0;34m\u001b[0m\u001b[0;34m\u001b[0m\u001b[0m\n\u001b[0m",
      "\u001b[0;32m~/.local/share/isaac_sim-2022.1.1/exts/omni.isaac.core/omni/isaac/core/scenes/scene.py\u001b[0m in \u001b[0;36madd\u001b[0;34m(self, obj)\u001b[0m\n\u001b[1;32m     81\u001b[0m             \u001b[0mXFormPrim\u001b[0m\u001b[0;34m:\u001b[0m \u001b[0;34m[\u001b[0m\u001b[0mdescription\u001b[0m\u001b[0;34m]\u001b[0m\u001b[0;34m\u001b[0m\u001b[0;34m\u001b[0m\u001b[0m\n\u001b[1;32m     82\u001b[0m         \"\"\"\n\u001b[0;32m---> 83\u001b[0;31m         \u001b[0;32mif\u001b[0m \u001b[0mself\u001b[0m\u001b[0;34m.\u001b[0m\u001b[0m_scene_registry\u001b[0m\u001b[0;34m.\u001b[0m\u001b[0mname_exists\u001b[0m\u001b[0;34m(\u001b[0m\u001b[0mobj\u001b[0m\u001b[0;34m.\u001b[0m\u001b[0mname\u001b[0m\u001b[0;34m)\u001b[0m\u001b[0;34m:\u001b[0m\u001b[0;34m\u001b[0m\u001b[0;34m\u001b[0m\u001b[0m\n\u001b[0m\u001b[1;32m     84\u001b[0m             \u001b[0;32mraise\u001b[0m \u001b[0mException\u001b[0m\u001b[0;34m(\u001b[0m\u001b[0;34m\"Cannot add the object {} to the scene since its name is not unique\"\u001b[0m\u001b[0;34m.\u001b[0m\u001b[0mformat\u001b[0m\u001b[0;34m(\u001b[0m\u001b[0mobj\u001b[0m\u001b[0;34m.\u001b[0m\u001b[0mname\u001b[0m\u001b[0;34m)\u001b[0m\u001b[0;34m)\u001b[0m\u001b[0;34m\u001b[0m\u001b[0;34m\u001b[0m\u001b[0m\n\u001b[1;32m     85\u001b[0m         \u001b[0;32mif\u001b[0m \u001b[0misinstance\u001b[0m\u001b[0;34m(\u001b[0m\u001b[0mobj\u001b[0m\u001b[0;34m,\u001b[0m \u001b[0mRigidPrim\u001b[0m\u001b[0;34m)\u001b[0m\u001b[0;34m:\u001b[0m\u001b[0;34m\u001b[0m\u001b[0;34m\u001b[0m\u001b[0m\n",
      "\u001b[0;31mAttributeError\u001b[0m: 'Prim' object has no attribute 'name'"
     ]
    }
   ],
   "source": [
    "env.world.scene.add(object_prim)"
   ]
  },
  {
   "cell_type": "code",
   "execution_count": 28,
   "id": "ab2d1964",
   "metadata": {},
   "outputs": [],
   "source": [
    "for _ in range(100):\n",
    "    env.step(render=True)"
   ]
  },
  {
   "cell_type": "markdown",
   "id": "4ba90cd7",
   "metadata": {},
   "source": [
    "# Render"
   ]
  },
  {
   "cell_type": "code",
   "execution_count": null,
   "id": "afa43401",
   "metadata": {},
   "outputs": [],
   "source": [
    "from render.helper import RenderHelper\n",
    "render = RenderHelper()"
   ]
  },
  {
   "cell_type": "code",
   "execution_count": null,
   "id": "09486fa9",
   "metadata": {
    "scrolled": false
   },
   "outputs": [],
   "source": [
    "render.set_cameras(task_type, side_choice)"
   ]
  },
  {
   "cell_type": "code",
   "execution_count": null,
   "id": "3a62310d",
   "metadata": {},
   "outputs": [],
   "source": [
    "env.world.step(render=True)"
   ]
  },
  {
   "cell_type": "code",
   "execution_count": null,
   "id": "fb637e8f",
   "metadata": {},
   "outputs": [],
   "source": [
    "render.get_images()"
   ]
  },
  {
   "cell_type": "code",
   "execution_count": null,
   "id": "c898a0ff",
   "metadata": {},
   "outputs": [],
   "source": []
  }
 ],
 "metadata": {
  "kernelspec": {
   "display_name": "Isaac Sim Python 3",
   "language": "python",
   "name": "isaac_sim_python3"
  },
  "language_info": {
   "codemirror_mode": {
    "name": "ipython",
    "version": 3
   },
   "file_extension": ".py",
   "mimetype": "text/x-python",
   "name": "python",
   "nbconvert_exporter": "python",
   "pygments_lexer": "ipython3",
   "version": "3.7.13"
  }
 },
 "nbformat": 4,
 "nbformat_minor": 5
}
