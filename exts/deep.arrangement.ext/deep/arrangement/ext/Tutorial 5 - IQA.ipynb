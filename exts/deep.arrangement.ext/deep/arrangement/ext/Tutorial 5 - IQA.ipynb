{
 "cells": [
  {
   "cell_type": "markdown",
   "id": "8faed99b",
   "metadata": {},
   "source": [
    "# Install pyiqa\n",
    "\n",
    "~/.local/share/ov/pkg/isaac_sim-2022.1.1/python.sh -m pip install pyiqa\n",
    "\n",
    "*(for original clip)\n",
    "\n",
    "~/.local/share/ov/pkg/isaac_sim-2022.1.1/python.sh -m pip install transformers"
   ]
  },
  {
   "cell_type": "code",
   "execution_count": 21,
   "id": "c9748d74",
   "metadata": {},
   "outputs": [
    {
     "name": "stdout",
     "output_type": "stream",
     "text": [
      "['ahiq', 'brisque', 'ckdn', 'cw_ssim', 'dbcnn', 'dists', 'fid', 'fsim', 'gmsd', 'ilniqe', 'lpips', 'lpips-vgg', 'mad', 'maniqa', 'ms_ssim', 'musiq', 'musiq-ava', 'musiq-koniq', 'musiq-paq2piq', 'musiq-spaq', 'nima', 'niqe', 'nlpd', 'nrqm', 'paq2piq', 'pi', 'pieapp', 'psnr', 'ssim', 'vif', 'vsi']\n"
     ]
    }
   ],
   "source": [
    "import pyiqa\n",
    "import torch\n",
    "\n",
    "# list all available metrics\n",
    "print(pyiqa.list_models())\n"
   ]
  },
  {
   "cell_type": "code",
   "execution_count": 3,
   "id": "092dfae1",
   "metadata": {},
   "outputs": [],
   "source": [
    "device = torch.device('cuda')"
   ]
  },
  {
   "cell_type": "code",
   "execution_count": 4,
   "id": "f7c06007",
   "metadata": {},
   "outputs": [
    {
     "name": "stdout",
     "output_type": "stream",
     "text": [
      "Downloading: \"https://github.com/chaofengc/IQA-PyTorch/releases/download/v0.1-weights/musiq_ava_ckpt-e8d3f067.pth\" to /home/yizhou/.cache/torch/hub/checkpoints/musiq_ava_ckpt-e8d3f067.pth\n",
      "\n"
     ]
    },
    {
     "data": {
      "application/vnd.jupyter.widget-view+json": {
       "model_id": "5d72d7c7671a453fbc2c5dcc8fa7682f",
       "version_major": 2,
       "version_minor": 0
      },
      "text/plain": [
       "  0%|          | 0.00/104M [00:00<?, ?B/s]"
      ]
     },
     "metadata": {},
     "output_type": "display_data"
    },
    {
     "name": "stdout",
     "output_type": "stream",
     "text": [
      "Loading pretrained model MUSIQ from /home/yizhou/.cache/torch/hub/checkpoints/musiq_ava_ckpt-e8d3f067.pth\n",
      "Loading pretrained model MUSIQ from /home/yizhou/.cache/torch/hub/checkpoints/musiq_ava_ckpt-e8d3f067.pth\n",
      "False\n"
     ]
    },
    {
     "ename": "NameError",
     "evalue": "name 'img_tensor_x' is not defined",
     "output_type": "error",
     "traceback": [
      "\u001b[0;31m---------------------------------------------------------------------------\u001b[0m",
      "\u001b[0;31mNameError\u001b[0m                                 Traceback (most recent call last)",
      "\u001b[0;32m/tmp/ipykernel_8811/826145377.py\u001b[0m in \u001b[0;36m<module>\u001b[0;34m\u001b[0m\n\u001b[1;32m      9\u001b[0m \u001b[0;31m# example for iqa score inference\u001b[0m\u001b[0;34m\u001b[0m\u001b[0;34m\u001b[0m\u001b[0;34m\u001b[0m\u001b[0m\n\u001b[1;32m     10\u001b[0m \u001b[0;31m# Tensor inputs, img_tensor_x/y: (N, 3, H, W), RGB, 0 ~ 1\u001b[0m\u001b[0;34m\u001b[0m\u001b[0;34m\u001b[0m\u001b[0;34m\u001b[0m\u001b[0m\n\u001b[0;32m---> 11\u001b[0;31m \u001b[0mscore_fr\u001b[0m \u001b[0;34m=\u001b[0m \u001b[0miqa_metric\u001b[0m\u001b[0;34m(\u001b[0m\u001b[0mimg_tensor_x\u001b[0m\u001b[0;34m,\u001b[0m \u001b[0mimg_tensor_y\u001b[0m\u001b[0;34m)\u001b[0m\u001b[0;34m\u001b[0m\u001b[0;34m\u001b[0m\u001b[0m\n\u001b[0m\u001b[1;32m     12\u001b[0m \u001b[0mscore_nr\u001b[0m \u001b[0;34m=\u001b[0m \u001b[0miqa_metric\u001b[0m\u001b[0;34m(\u001b[0m\u001b[0mimg_tensor_x\u001b[0m\u001b[0;34m)\u001b[0m\u001b[0;34m\u001b[0m\u001b[0;34m\u001b[0m\u001b[0m\n",
      "\u001b[0;31mNameError\u001b[0m: name 'img_tensor_x' is not defined"
     ]
    }
   ],
   "source": [
    "# create metric with default setting\n",
    "iqa_metric = pyiqa.create_metric('musiq-ava', device=torch.device('cuda'))\n",
    "# Note that gradient propagation is disabled by default. set as_loss=True to enable it as a loss function.\n",
    "iqa_loss = pyiqa.create_metric('musiq-ava', device=torch.device('cuda'), as_loss=True)\n",
    "\n",
    "# check if lower better or higher better\n",
    "print(iqa_metric.lower_better)\n",
    "\n",
    "# example for iqa score inference\n",
    "# Tensor inputs, img_tensor_x/y: (N, 3, H, W), RGB, 0 ~ 1\n",
    "score_fr = iqa_metric(img_tensor_x, img_tensor_y)\n",
    "score_nr = iqa_metric(img_tensor_x)"
   ]
  },
  {
   "cell_type": "code",
   "execution_count": 9,
   "id": "bb51332e",
   "metadata": {},
   "outputs": [],
   "source": [
    "import numpy as np"
   ]
  },
  {
   "cell_type": "code",
   "execution_count": 5,
   "id": "73d42f90",
   "metadata": {},
   "outputs": [],
   "source": [
    "from PIL import Image"
   ]
  },
  {
   "cell_type": "code",
   "execution_count": 7,
   "id": "be7f3884",
   "metadata": {},
   "outputs": [],
   "source": [
    "image = Image.open(\"/home/yizhou/Research/DeepArrange/Data/Table/Border/1/0.png\").convert(\"RGB\")"
   ]
  },
  {
   "cell_type": "code",
   "execution_count": 12,
   "id": "457369da",
   "metadata": {},
   "outputs": [],
   "source": [
    "t = torch.tensor(np.array(image))"
   ]
  },
  {
   "cell_type": "code",
   "execution_count": 15,
   "id": "dd845785",
   "metadata": {},
   "outputs": [],
   "source": [
    "t = t.permute(2, 0, 1)"
   ]
  },
  {
   "cell_type": "code",
   "execution_count": 17,
   "id": "b725b5c4",
   "metadata": {},
   "outputs": [],
   "source": [
    "t = t.unsqueeze(0)"
   ]
  },
  {
   "cell_type": "code",
   "execution_count": 18,
   "id": "e432eb48",
   "metadata": {},
   "outputs": [
    {
     "data": {
      "text/plain": [
       "torch.Size([1, 3, 1024, 1024])"
      ]
     },
     "execution_count": 18,
     "metadata": {},
     "output_type": "execute_result"
    }
   ],
   "source": [
    "t.shape"
   ]
  },
  {
   "cell_type": "code",
   "execution_count": 19,
   "id": "68e1b189",
   "metadata": {},
   "outputs": [],
   "source": [
    "score_nr = iqa_metric(t)"
   ]
  },
  {
   "cell_type": "code",
   "execution_count": 20,
   "id": "275891b4",
   "metadata": {},
   "outputs": [
    {
     "data": {
      "text/plain": [
       "tensor(4.5472, device='cuda:0')"
      ]
     },
     "execution_count": 20,
     "metadata": {},
     "output_type": "execute_result"
    }
   ],
   "source": [
    "score_nr"
   ]
  },
  {
   "cell_type": "code",
   "execution_count": null,
   "id": "c5b096e7",
   "metadata": {},
   "outputs": [],
   "source": []
  }
 ],
 "metadata": {
  "kernelspec": {
   "display_name": "Isaac Sim Python 3",
   "language": "python",
   "name": "isaac_sim_python3"
  },
  "language_info": {
   "codemirror_mode": {
    "name": "ipython",
    "version": 3
   },
   "file_extension": ".py",
   "mimetype": "text/x-python",
   "name": "python",
   "nbconvert_exporter": "python",
   "pygments_lexer": "ipython3",
   "version": "3.7.13"
  }
 },
 "nbformat": 4,
 "nbformat_minor": 5
}
