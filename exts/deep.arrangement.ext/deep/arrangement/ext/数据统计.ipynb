{
 "cells": [
  {
   "cell_type": "markdown",
   "id": "2277f0f9",
   "metadata": {},
   "source": [
    "# Assets statistics"
   ]
  },
  {
   "cell_type": "code",
   "execution_count": 1,
   "id": "f2c93074",
   "metadata": {},
   "outputs": [],
   "source": [
    "import os"
   ]
  },
  {
   "cell_type": "code",
   "execution_count": 8,
   "id": "9b1816ac",
   "metadata": {},
   "outputs": [],
   "source": [
    "item_folder = os.path.join(os.getcwd(), \"../../../../../Asset/I\")"
   ]
  },
  {
   "cell_type": "code",
   "execution_count": 10,
   "id": "2b1a4ce8",
   "metadata": {},
   "outputs": [
    {
     "data": {
      "text/plain": [
       "17"
      ]
     },
     "execution_count": 10,
     "metadata": {},
     "output_type": "execute_result"
    }
   ],
   "source": [
    "len(os.listdir(item_folder))"
   ]
  },
  {
   "cell_type": "code",
   "execution_count": 13,
   "id": "173e01fd",
   "metadata": {},
   "outputs": [],
   "source": [
    "count = 0\n",
    "for item_tpye in os.listdir(item_folder):\n",
    "    for object_file in os.listdir(os.path.join(item_folder, item_tpye)):\n",
    "        if object_file.endswith(\".usd\"):\n",
    "            count += 1"
   ]
  },
  {
   "cell_type": "code",
   "execution_count": 14,
   "id": "2439419e",
   "metadata": {},
   "outputs": [
    {
     "data": {
      "text/plain": [
       "190"
      ]
     },
     "execution_count": 14,
     "metadata": {},
     "output_type": "execute_result"
    }
   ],
   "source": [
    "count"
   ]
  },
  {
   "cell_type": "code",
   "execution_count": null,
   "id": "622ca0d6",
   "metadata": {},
   "outputs": [],
   "source": []
  }
 ],
 "metadata": {
  "kernelspec": {
   "display_name": "torch",
   "language": "python",
   "name": "torch"
  },
  "language_info": {
   "codemirror_mode": {
    "name": "ipython",
    "version": 3
   },
   "file_extension": ".py",
   "mimetype": "text/x-python",
   "name": "python",
   "nbconvert_exporter": "python",
   "pygments_lexer": "ipython3",
   "version": "3.7.11"
  }
 },
 "nbformat": 4,
 "nbformat_minor": 5
}
