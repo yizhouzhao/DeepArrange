{
 "cells": [
  {
   "cell_type": "markdown",
   "id": "a4e7074e",
   "metadata": {},
   "source": [
    "# Start Simulation"
   ]
  },
  {
   "cell_type": "code",
   "execution_count": 1,
   "id": "3fe18b05",
   "metadata": {},
   "outputs": [],
   "source": [
    "import random\n",
    "import numpy as np\n",
    "import os\n",
    "import time\n",
    "from PIL import Image\n",
    "\n",
    "import torch\n",
    "torch.__version__\n",
    "device = torch.device(\"cuda\")"
   ]
  },
  {
   "cell_type": "code",
   "execution_count": 2,
   "id": "0137c535",
   "metadata": {},
   "outputs": [
    {
     "name": "stdout",
     "output_type": "stream",
     "text": [
      "yizhou\n"
     ]
    }
   ],
   "source": [
    "import getpass\n",
    "user = getpass.getuser()\n",
    "print(user)"
   ]
  },
  {
   "cell_type": "code",
   "execution_count": 3,
   "id": "b9d56ea3",
   "metadata": {},
   "outputs": [],
   "source": [
    "usd_path = f\"omniverse://localhost/Users/{user}/uva_wall.usd\""
   ]
  },
  {
   "cell_type": "code",
   "execution_count": 4,
   "id": "d7e8d7fe",
   "metadata": {
    "scrolled": true
   },
   "outputs": [
    {
     "name": "stdout",
     "output_type": "stream",
     "text": [
      "Starting kit application with the fillowing args:  ['/home/yizhou/.local/share/ov/pkg/isaac_sim-2022.1.1/exts/omni.isaac.kit/omni/isaac/kit/simulation_app.py', '/home/yizhou/.local/share/ov/pkg/isaac_sim-2022.1.1/apps/omni.isaac.sim.python.kit', '--/app/tokens/exe-path=/home/yizhou/.local/share/ov/pkg/isaac_sim-2022.1.1/kit', '--/persistent/app/viewport/displayOptions=3094', '--/rtx/materialDb/syncLoads=True', '--/rtx/hydra/materialSyncLoads=True--/omni.kit.plugin/syncUsdLoads=True', '--/app/renderer/resolution/width=1280', '--/app/renderer/resolution/height=720', '--/app/window/width=1440', '--/app/window/height=900', '--/renderer/multiGpu/enabled=True', '--ext-folder', '/home/yizhou/.local/share/ov/pkg/isaac_sim-2022.1.1/exts', '--ext-folder', '/home/yizhou/.local/share/ov/pkg/isaac_sim-2022.1.1/apps', '--/physics/cudaDevice=0', '--portable', '--no-window']\n",
      "Passing the following args to the base kit application:  ['-f', '/home/yizhou/.local/share/jupyter/runtime/kernel-b7c05f67-f0ed-4a86-b6e5-64418b58d264.json']\n",
      "[Warning] [omni.kit.app.plugin] No crash reporter present, dumps uploading isn't available.\n",
      "[Info] [carb] Logging to file: /home/yizhou/.local/share/ov/pkg/isaac_sim-2022.1.1/kit/logs/Kit/Isaac-Sim/2022.1/kit_20221227_141139.log\n",
      "2022-12-27 22:11:39 [4ms] [Warning] [omni.ext.plugin] [ext: omni.drivesim.sensors.nv.lidar] Extensions config 'extension.toml' doesn't exist '/home/yizhou/.local/share/ov/pkg/isaac_sim-2022.1.1/exts/omni.drivesim.sensors.nv.lidar' or '/home/yizhou/.local/share/ov/pkg/isaac_sim-2022.1.1/exts/omni.drivesim.sensors.nv.lidar/config'\n",
      "[0.084s] [ext: omni.stats-0.0.0] startup\n",
      "[0.131s] [ext: omni.gpu_foundation-0.0.0] startup\n",
      "2022-12-27 22:11:39 [133ms] [Warning] [carb] FrameworkImpl::setDefaultPlugin(client: omni.gpu_foundation_factory.plugin, desc : [carb::graphics::Graphics v2.5], plugin : carb.graphics-vulkan.plugin) failed. Plugin selection is locked, because the interface was previously acquired by: \n",
      "[0.142s] [ext: carb.windowing.plugins-1.0.0] startup\n",
      "[0.153s] [ext: omni.assets.plugins-0.0.0] startup\n",
      "[0.154s] [ext: omni.kit.renderer.init-0.0.0] startup\n",
      "\n",
      "|---------------------------------------------------------------------------------------------|\n",
      "| Driver Version: 510.108.3     | Graphics API: Vulkan\n",
      "|=============================================================================================|\n",
      "| GPU | Name                             | Active | LDA | GPU Memory | Vendor-ID | LUID       |\n",
      "|     |                                  |        |     |            | Device-ID | UUID       |\n",
      "|---------------------------------------------------------------------------------------------|\n",
      "| 0   | NVIDIA GeForce RTX 3090          | Yes: 0 |     | 24822   MB | 10de      | 0          |\n",
      "|     |                                  |        |     |            | 2204      | 3f50dd6e.. |\n",
      "|=============================================================================================|\n",
      "| OS: Linux yizhou-Z370-AORUS-Gaming-5, Version: 5.15.0-56-generic\n",
      "| Processor: Intel(R) Core(TM) i7-8700K CPU @ 3.70GHz | Cores: Unknown | Logical: 12\n",
      "|---------------------------------------------------------------------------------------------|\n",
      "| Total Memory (MB): 32044 | Free Memory: 28084\n",
      "| Total Page/Swap (MB): 2047 | Free Page/Swap: 2047\n",
      "|---------------------------------------------------------------------------------------------|\n",
      "2022-12-27 22:11:40 [969ms] [Warning] [carb.cudainterop.plugin] On Linux only, CUDA and the display driver does not support IOMMU-enabled bare-metal PCIe peer to peer memory copy.\n",
      "However, CUDA and the display driver does support IOMMU via VM pass through. As a consequence, users on Linux,\n",
      "when running on a native bare metal system, should disable the IOMMU. The IOMMU should be enabled and the VFIO driver\n",
      "be used as a PCIe pass through for virtual machines.\n",
      "[0.989s] [ext: omni.kit.pipapi-0.0.0] startup\n",
      "[0.999s] [ext: omni.kit.pip_archive-0.0.0] startup\n",
      "[1.003s] [ext: omni.isaac.core_archive-1.2.0] startup\n",
      "[1.023s] [ext: omni.usd.config-1.0.0] startup\n",
      "[1.025s] [ext: omni.usd.libs-1.0.0] startup\n",
      "[1.158s] [ext: omni.kit.pip_torch-1_11_0-0.1.3] startup\n",
      "[1.184s] [ext: omni.isaac.ml_archive-1.1.0] startup\n",
      "[1.251s] [ext: omni.kit.loop-isaac-0.1.0] startup\n",
      "[1.251s] [ext: omni.kit.async_engine-0.0.0] startup\n",
      "[1.253s] [ext: omni.appwindow-1.0.0] startup\n",
      "[1.255s] [ext: omni.client-0.1.0] startup\n",
      "[1.266s] [ext: omni.kit.test-0.0.0] startup\n",
      "[1.267s] [ext: omni.kit.renderer.core-0.0.0] startup\n",
      "[1.340s] [ext: omni.ui-2.10.3] startup\n",
      "[1.355s] [ext: carb.audio-0.1.0] startup\n",
      "[1.377s] [ext: omni.kit.mainwindow-0.0.0] startup\n",
      "[1.384s] [ext: omni.uiaudio-1.0.0] startup\n",
      "[1.388s] [ext: omni.kit.uiapp-0.0.0] startup\n",
      "[1.388s] [ext: omni.usd.schema.physics-1.0.0] startup\n",
      "[1.443s] [ext: omni.usd.schema.audio-0.0.0] startup\n",
      "[1.450s] [ext: omni.usd.schema.semantics-0.0.0] startup\n",
      "[1.460s] [ext: omni.usd.schema.omnigraph-1.0.0] startup\n",
      "[1.469s] [ext: omni.usd.schema.anim-0.0.0] startup\n",
      "[1.510s] [ext: omni.kit.commands-1.2.2] startup\n",
      "[1.515s] [ext: omni.timeline-1.0.2] startup\n",
      "[1.517s] [ext: omni.hydra.scene_delegate-0.2.0] startup\n",
      "[1.524s] [ext: omni.kit.audiodeviceenum-1.0.0] startup\n",
      "[1.526s] [ext: omni.usd-1.5.3] startup\n",
      "[1.581s] [ext: omni.kit.asset_converter-1.2.31] startup\n",
      "[1.596s] [ext: omni.usd.schema.physx-0.0.0] startup\n",
      "[1.660s] [ext: omni.usd.schema.isaac-0.2.0] startup\n",
      "[1.701s] [ext: omni.usd.schema.forcefield-0.0.0] startup\n",
      "[1.709s] [ext: omni.kvdb-0.0.0] startup\n",
      "[1.712s] [ext: omni.usdphysics-1.4.15] startup\n",
      "[1.715s] [ext: omni.graph.tools-1.4.0] startup\n",
      "[1.737s] [ext: omni.localcache-0.0.0] startup\n",
      "[1.740s] [ext: omni.kit.stage_templates-1.1.2] startup\n",
      "[1.741s] [ext: omni.convexdecomposition-1.4.15] startup\n",
      "[1.745s] [ext: omni.physics.tensors-0.1.0] startup\n",
      "[1.753s] [ext: omni.physx-1.4.15-5.1] startup\n",
      "[1.795s] [ext: omni.graph.core-2.29.1] startup\n",
      "[1.801s] [ext: omni.kit.menu.utils-1.2.11] startup\n",
      "[1.811s] [ext: omni.physx.tensors-0.1.0] startup\n",
      "[1.816s] [ext: omni.graph-1.23.0] startup\n",
      "[1.865s] [ext: omni.kit.numpy.common-0.1.0] startup\n",
      "[1.868s] [ext: omni.kit.window.script_editor-1.6.2] startup\n",
      "[1.881s] [ext: omni.kit.search_core-1.0.2] startup\n",
      "[1.882s] [ext: omni.isaac.dynamic_control-1.1.0] startup\n",
      "[1.890s] [ext: omni.kit.renderer.capture-0.0.0] startup\n",
      "[1.893s] [ext: omni.kit.widget.filebrowser-2.2.27] startup\n",
      "[1.902s] [ext: omni.kit.widget.path_field-2.0.3] startup\n",
      "[1.904s] [ext: omni.kit.notification_manager-1.0.5] startup\n",
      "[1.906s] [ext: omni.kit.widget.versioning-1.3.8] startup\n",
      "[1.908s] [ext: omni.kit.widget.browser_bar-2.0.3] startup\n",
      "[1.909s] [ext: omni.kit.window.popup_dialog-2.0.8] startup\n",
      "[1.912s] [ext: omni.mdl.neuraylib-0.1.0] startup\n",
      "[1.916s] [ext: omni.kit.window.filepicker-2.4.30] startup\n"
     ]
    },
    {
     "name": "stderr",
     "output_type": "stream",
     "text": [
      "OmniAssetFileFormat\n"
     ]
    },
    {
     "name": "stdout",
     "output_type": "stream",
     "text": [
      "Warp initialized:\n",
      "   Version: 0.2.2\n",
      "   CUDA device: NVIDIA GeForce RTX 3090\n",
      "   Kernel cache: /home/yizhou/.cache/warp/0.2.2\n",
      "[1.971s] [ext: omni.kit.menu.create-1.0.2] startup\n",
      "[1.973s] [ext: omni.mdl-0.1.0] startup\n",
      "[1.993s] [ext: omni.kit.window.file_importer-1.0.4] startup\n",
      "[1.993s] [ext: omni.kit.window.file_exporter-1.0.4] startup\n",
      "[1.995s] [ext: omni.kit.material.library-1.3.10] startup\n",
      "[1.998s] [ext: omni.kit.window.drop_support-1.0.0] startup\n",
      "[1.998s] [ext: omni.kit.window.file-1.3.16] startup\n",
      "[2.000s] [ext: omni.kit.context_menu-1.3.9] startup\n",
      "[2.004s] [ext: omni.kit.window.property-1.6.3] startup\n",
      "[2.005s] [ext: omni.kit.window.content_browser-2.4.28] startup\n",
      "[2.017s] [ext: omni.kit.widget.stage-2.6.15] startup\n",
      "[2.021s] [ext: omni.isaac.version-1.0.0] startup\n",
      "[2.021s] [ext: omni.kit.property.usd-3.14.9] startup\n",
      "[2.056s] [ext: omni.kit.viewport.legacy_gizmos-1.0.0] startup\n",
      "[2.060s] [ext: omni.hydra.rtx-0.1.0] startup\n",
      "[2.070s] [ext: omni.renderer-rtx-0.0.0] startup\n",
      "[2.071s] [ext: omni.hydra.engine.stats-1.0.0] startup\n",
      "[2.077s] [ext: omni.debugdraw-0.1.0] startup\n",
      "[2.083s] [ext: omni.kit.widget.settings-1.0.0] startup\n",
      "[2.085s] [ext: omni.kit.window.viewport-0.0.0] startup\n",
      "[6.412s] [ext: omni.kit.widget.prompt-1.0.1] startup\n",
      "[6.413s] [ext: omni.kit.widget.graph-1.4.3] startup\n",
      "[6.468s] [ext: omni.kit.window.preferences-1.2.1] startup\n",
      "[6.505s] [ext: omni.ui_query-1.1.1] startup\n",
      "[6.508s] [ext: omni.graph.ui-1.6.1] startup\n",
      "[6.533s] [ext: omni.kit.ui_test-1.2.2] startup\n",
      "[6.535s] [ext: omni.graph.action-1.18.0] startup\n",
      "[6.546s] [ext: omni.kit.widget.searchfield-1.0.6] startup\n",
      "[6.548s] [ext: omni.kit.usd_undo-0.1.0] startup\n",
      "[6.549s] [ext: omni.graph.scriptnode-0.5.0] startup\n",
      "[6.551s] [ext: omni.physx.commands-1.4.15-5.1] startup\n",
      "[6.556s] [ext: omni.graph.nodes-1.26.0] startup\n",
      "[6.570s] [ext: omni.command.usd-1.0.1] startup\n",
      "[6.573s] [ext: omni.kit.window.extensions-1.1.0] startup\n",
      "[6.578s] [ext: omni.syntheticdata-0.2.1] startup\n",
      "[6.599s] [ext: omni.kit.primitive.mesh-1.0.0] startup\n",
      "[6.603s] [ext: omni.warp-0.2.2] startup\n",
      "[6.720s] [ext: omni.isaac.ui-0.2.1] startup\n",
      "[6.722s] [ext: omni.replicator.core-1.4.3] startup\n",
      "[6.920s] [ext: omni.isaac.core-1.24.3] startup\n",
      "[7.013s] [ext: omni.physx.ui-1.4.15-5.1] startup\n",
      "[7.094s] [ext: omni.kit.property.material-1.8.5] startup\n",
      "[7.097s] [ext: omni.kit.window.toolbar-1.2.4] startup\n",
      "[7.102s] [ext: omni.isaac.core_nodes-0.13.0] startup\n",
      "[7.115s] [ext: omni.physx.demos-1.4.15-5.1] startup\n",
      "[7.118s] [ext: omni.kit.property.physx-0.1.0] startup\n",
      "2022-12-27 22:11:46 [7,181ms] [Warning] [omni.physx.plugin] Deprecated: getSimulationEventStream is deprecated, please use getSimulationEventStreamV2\n",
      "[7.192s] [ext: omni.physx.tests-1.4.15-5.1] startup\n",
      "[7.446s] [ext: omni.isaac.wheeled_robots-0.5.8] startup\n",
      "[7.456s] [ext: omni.kit.menu.common-1.0.0] startup\n",
      "[7.457s] [ext: omni.physx.vehicle-1.4.15-5.1] startup\n",
      "[7.469s] [ext: omni.physx.cct-1.4.15-5.1] startup\n",
      "[7.548s] [ext: omni.physx.camera-1.4.15-5.1] startup\n",
      "[7.555s] [ext: omni.kit.widget.stage_icons-1.0.2] startup\n",
      "[7.558s] [ext: omni.ui.scene-1.5.0] startup\n",
      "[7.566s] [ext: omni.physx.bundle-1.4.15-5.1] startup\n",
      "[7.566s] [ext: omni.kit.window.stage-2.3.7] startup\n",
      "[7.570s] [ext: omni.replicator.composer-1.1.3] startup\n",
      "[7.592s] [ext: omni.isaac.lula-1.1.0] startup\n",
      "[7.603s] [ext: omni.rtx.window.settings-0.6.1] startup\n",
      "[7.609s] [ext: omni.isaac.surface_gripper-0.1.2] startup\n",
      "[7.615s] [ext: omni.isaac.motion_planning-0.2.0] startup\n",
      "[7.624s] [ext: omni.rtx.settings.core-0.5.5] startup\n",
      "[7.630s] [ext: omni.isaac.manipulators-1.0.1] startup\n",
      "[7.632s] [ext: omni.isaac.motion_generation-3.6.1] startup\n",
      "[7.637s] [ext: omni.kit.widget.zoombar-1.0.3] startup\n",
      "[7.638s] [ext: omni.kit.graph.delegate.default-1.0.15] startup\n",
      "[7.641s] [ext: omni.isaac.franka-0.3.0] startup\n",
      "[7.642s] [ext: omni.kit.browser.core-2.0.12] startup\n",
      "[7.646s] [ext: omni.kit.graph.editor.core-1.3.3] startup\n",
      "[7.649s] [ext: omni.kit.graph.usd.commands-1.1.0] startup\n",
      "[7.650s] [ext: omni.kit.browser.folder.core-1.1.13] startup\n",
      "[7.655s] [ext: omni.kit.graph.widget.variables-2.0.2] startup\n",
      "[7.657s] [ext: omni.kit.graph.delegate.modern-1.6.0] startup\n",
      "[7.660s] [ext: omni.kit.selection-0.1.0] startup\n",
      "[7.661s] [ext: omni.isaac.debug_draw-0.Opening usd file at  omniverse://localhost/Users/yizhou/uva_wall.usd  ...Done.\n",
      "Saving a temp livesync stage at  omniverse://localhost/Users/yizhou/uva_wall.usd  ...Done.\n"
     ]
    }
   ],
   "source": [
    "from omni.isaac.kit import SimulationApp    \n",
    "simulation_app = SimulationApp({\"headless\": True, \"open_usd\": usd_path,  \"livesync_usd\": usd_path}) "
   ]
  },
  {
   "cell_type": "code",
   "execution_count": 5,
   "id": "3e0e266e",
   "metadata": {},
   "outputs": [],
   "source": [
    "# set log level\n",
    "import logging\n",
    "import carb\n",
    "\n",
    "logging.getLogger(\"omni.hydra\").setLevel(logging.ERROR)\n",
    "logging.getLogger(\"omni.isaac.urdf\").setLevel(logging.ERROR)\n",
    "logging.getLogger(\"omni.physx.plugin\").setLevel(logging.ERROR)\n",
    "\n",
    "logging.getLogger(\"omni.isaac.synthetic_utils\").setLevel(logging.ERROR)\n",
    "logging.getLogger(\"omni.isaac.synthetic_utils.syntheticdata\").setLevel(logging.ERROR)\n",
    "logging.getLogger(\"omni.hydra.scene_delegate.plugin\").setLevel(logging.ERROR)\n",
    "\n",
    "\n",
    "l = carb.logging.LEVEL_ERROR\n",
    "carb.settings.get_settings().set(\"/log/level\", l)\n",
    "carb.settings.get_settings().set(\"/log/fileLogLevel\", l)\n",
    "carb.settings.get_settings().set(\"/log/outputStreamLevel\", l)\n",
    "\n",
    "# # This logged error is printed as it should\n",
    "# carb.log_error(\"ERROR\")\n",
    "# # This warning is printed but should not\n",
    "# carb.log_warn(\"WARNING\")"
   ]
  },
  {
   "cell_type": "markdown",
   "id": "be34671d",
   "metadata": {},
   "source": [
    "# Config"
   ]
  },
  {
   "cell_type": "code",
   "execution_count": 6,
   "id": "491f4078",
   "metadata": {},
   "outputs": [],
   "source": [
    "from task.config import DATA_PATH, FEATURE_PATH\n",
    "task_type = \"Wall\"\n",
    "side_choice = \"Border\"\n",
    "base_asset_id = 0\n",
    "load_nucleus = True"
   ]
  },
  {
   "cell_type": "code",
   "execution_count": 7,
   "id": "eadd32bf",
   "metadata": {},
   "outputs": [
    {
     "ename": "NameError",
     "evalue": "name 'pause' is not defined",
     "output_type": "error",
     "traceback": [
      "\u001b[0;31m---------------------------------------------------------------------------\u001b[0m",
      "\u001b[0;31mNameError\u001b[0m                                 Traceback (most recent call last)",
      "\u001b[0;32m/tmp/ipykernel_19881/1188747208.py\u001b[0m in \u001b[0;36m<module>\u001b[0;34m\u001b[0m\n\u001b[0;32m----> 1\u001b[0;31m \u001b[0mpause\u001b[0m\u001b[0;34m\u001b[0m\u001b[0;34m\u001b[0m\u001b[0m\n\u001b[0m",
      "\u001b[0;31mNameError\u001b[0m: name 'pause' is not defined"
     ]
    }
   ],
   "source": [
    "pause"
   ]
  },
  {
   "cell_type": "markdown",
   "id": "7475ee6a",
   "metadata": {},
   "source": [
    "# Init Env"
   ]
  },
  {
   "cell_type": "code",
   "execution_count": 8,
   "id": "9a6fd193",
   "metadata": {},
   "outputs": [],
   "source": [
    "from uva_env import UvaEnv\n",
    "env = UvaEnv()"
   ]
  },
  {
   "cell_type": "code",
   "execution_count": 9,
   "id": "d3e665fe",
   "metadata": {},
   "outputs": [],
   "source": [
    "from task.utils import add_scene_default\n",
    "add_scene_default()"
   ]
  },
  {
   "cell_type": "code",
   "execution_count": 12,
   "id": "4c55eb32",
   "metadata": {
    "scrolled": true
   },
   "outputs": [
    {
     "name": "stdout",
     "output_type": "stream",
     "text": [
      "[Usd.Prim(</physicsScene>), Usd.Prim(</World>), Usd.Prim(</World/defaultLight>), Usd.Prim(</World/groundPlane>), Usd.Prim(</World/groundPlane/CollisionMesh>), Usd.Prim(</World/groundPlane/CollisionPlane>), Usd.Prim(</World/physicsScene>), Usd.Prim(</World/groundPlane_01>), Usd.Prim(</World/groundPlane_01/CollisionMesh>), Usd.Prim(</World/groundPlane_01/CollisionPlane>), Usd.Prim(</OmniverseKit_Persp>), Usd.Prim(</OmniverseKit_Front>), Usd.Prim(</OmniverseKit_Top>), Usd.Prim(</OmniverseKit_Right>), Usd.Prim(</Render>), Usd.Prim(</Render/RenderProduct_Viewport>), Usd.Prim(</Render/Vars>), Usd.Prim(</Render/Vars/LdrColor>)]\n"
     ]
    }
   ],
   "source": [
    "print(list(env.stage.TraverseAll()))"
   ]
  },
  {
   "cell_type": "code",
   "execution_count": 11,
   "id": "feaeb7d0",
   "metadata": {},
   "outputs": [],
   "source": [
    "env.clean()\n",
    "env.world.step(render=True)"
   ]
  },
  {
   "cell_type": "markdown",
   "id": "d3c365e3",
   "metadata": {},
   "source": [
    "# Scene"
   ]
  },
  {
   "cell_type": "code",
   "execution_count": 13,
   "id": "19d7b119",
   "metadata": {},
   "outputs": [],
   "source": [
    "from task.scene import ArrangeScene\n",
    "scene = ArrangeScene(task_type, side_choice, base_asset_id = 0, traj_id = 0, load_nucleus = load_nucleus)\n",
    "env.scene = scene"
   ]
  },
  {
   "cell_type": "code",
   "execution_count": 14,
   "id": "fae909b6",
   "metadata": {},
   "outputs": [],
   "source": [
    "# add base\n",
    "# scene.add_base_asset()"
   ]
  },
  {
   "cell_type": "code",
   "execution_count": 15,
   "id": "a7e1de8b",
   "metadata": {},
   "outputs": [
    {
     "name": "stdout",
     "output_type": "stream",
     "text": [
      "asset_prim: omniverse://localhost/Users/yizhou/Asset/S/0/layout.usd\n"
     ]
    }
   ],
   "source": [
    "# add room\n",
    "scene.add_room()"
   ]
  },
  {
   "cell_type": "code",
   "execution_count": 16,
   "id": "d2c19fb0",
   "metadata": {},
   "outputs": [],
   "source": [
    "env.world.step(render=True)"
   ]
  },
  {
   "cell_type": "code",
   "execution_count": 17,
   "id": "505b6748",
   "metadata": {},
   "outputs": [
    {
     "name": "stdout",
     "output_type": "stream",
     "text": [
      "result:  Base\n",
      "result:  vMaterials_2\n"
     ]
    }
   ],
   "source": [
    "# randomize scene\n",
    "from layout.randomizer import Randomizer\n",
    "randomizer = Randomizer()\n",
    "randomizer.randomize_house(rand = True)"
   ]
  },
  {
   "cell_type": "code",
   "execution_count": 18,
   "id": "99481529",
   "metadata": {},
   "outputs": [],
   "source": [
    "env.world.step(render=True)"
   ]
  },
  {
   "cell_type": "markdown",
   "id": "bfd24034",
   "metadata": {},
   "source": [
    "# Reward"
   ]
  },
  {
   "cell_type": "code",
   "execution_count": 19,
   "id": "b81a65bf",
   "metadata": {},
   "outputs": [],
   "source": [
    "from uv.reward import Rewarder\n",
    "\n",
    "rewarder = Rewarder(env.world)\n",
    "env.rewarder = rewarder"
   ]
  },
  {
   "cell_type": "code",
   "execution_count": 20,
   "id": "35761844",
   "metadata": {},
   "outputs": [],
   "source": [
    "rewarder = Rewarder(env.world)\n",
    "env.rewarder = rewarder"
   ]
  },
  {
   "cell_type": "markdown",
   "id": "27c8bada",
   "metadata": {},
   "source": [
    "# Render"
   ]
  },
  {
   "cell_type": "code",
   "execution_count": null,
   "id": "fba7340e",
   "metadata": {},
   "outputs": [
    {
     "name": "stdout",
     "output_type": "stream",
     "text": [
      "xform_mat:  ( (-0.9999616399999998, 0, 0, 0), (0, 0.000019180000000118547, 0.9999808199999999, 0), (0, 0.9999808199999999, 0.000019180000000118547, 0), (0, 175, 125, 1) )\n",
      "1.2] startup\n",
      "[7.669s] [ext: omni.graph.window.core-1.23.4] startup\n",
      "[7.675s] [ext: omni.graph.instancing-1.1.4] startup\n",
      "[7.683s] [ext: omni.kit.menu.edit-1.0.6] startup\n",
      "[7.686s] [ext: omni.isaac.isaac_sensor-1.0.2] startup\n",
      "2022-12-27 22:11:47 [7,689ms] [Warning] [omni.physx.plugin] Deprecated: getSimulationEventStream is deprecated, please use getSimulationEventStreamV2\n",
      "[7.700s] [ext: omni.graph.tutorials-1.1.2] startup\n",
      "[7.717s] [ext: omni.graph.window.action-1.3.8] startup\n",
      "[7.718s] [ext: omni.kit.widget.live-0.1.0] startup\n",
      "[7.723s] [ext: omni.kit.widget.layers-1.5.17] startup\n",
      "[7.737s] [ext: omni.graph.bundle.action-1.0.0] startup\n",
      "[7.737s] [ext: omni.isaac.range_sensor-0.4.3] startup\n",
      "[7.764s] [ext: omni.kit.property.layer-1.1.2] startup\n",
      "[7.766s] [ext: omni.replicator.isaac-1.3.2] startup\n",
      "[7.848s] [ext: omni.isaac.kit-0.2.1] startup\n",
      "[7.849s] [ext: omni.graph.window.generic-1.3.8] startup\n",
      "[7.851s] [ext: omni.isaac.utils-0.1.11] startup\n",
      "[7.854s] [ext: omni.kit.property.audio-1.0.5] startup\n",
      "[7.856s] [ext: omni.kit.property.skel-1.0.1] startup\n",
      "[7.858s] [ext: omni.kit.property.render-1.1.0] startup\n",
      "[7.859s] [ext: omni.kit.property.camera-1.0.3] startup\n",
      "[7.860s] [ext: omni.kit.property.geometry-1.2.0] startup\n",
      "[7.863s] [ext: omni.kit.property.light-1.0.5] startup\n",
      "[7.865s] [ext: omni.kit.property.transform-1.0.2] startup\n",
      "[7.869s] [ext: omni.isaac.universal_robots-0.3.0] startup\n",
      "[7.870s] [ext: omni.isaac.occupancy_map-0.2.4] startup\n",
      "[7.885s] [ext: omni.kit.window.console-0.2.0] startup\n",
      "[7.891s] [ext: omni.kit.window.status_bar-0.1.1] startup\n",
      "[7.897s] [ext: omni.kit.property.bundle-1.2.4] startup\n",
      "[7.898s] [ext: omni.kit.menu.file-1.0.8] startup\n",
      "[7.899s] [ext: omni.kit.manipulator.viewport-1.0.6] startup\n",
      "[7.902s] [ext: omni.isaac.urdf-0.4.0] startup\n",
      "[7.932s] [ext: omni.isaac.dofbot-0.3.0] startup\n",
      "[7.933s] [ext: omni.kit.window.title-1.1.2] startup\n",
      "[7.934s] [ext: omni.kit.profiler.window-1.4.4] startup\n",
      "[7.937s] [ext: omni.graph.visualization.nodes-1.1.1] startup\n",
      "[7.940s] [ext: omni.isaac.synthetic_utils-0.3.5] startup\n",
      "[7.943s] [ext: semantics.schema.editor-0.2.3] startup\n",
      "[7.946s] [ext: omni.isaac.sim.python-2022.1.1] startup\n",
      "[7.947s] Simulation App Starting\n",
      "2022-12-27 22:11:49 [9,556ms] [Warning] [omni.usd] Default value for render setting \"/rtx/shaderDb/cachePermutationIndex\" not found\n",
      "2022-12-27 22:11:49 [9,557ms] [Warning] [omni.usd] Default value for render setting \"/rtx/resourcemanager/uploadPooledBuffers/framesToEvict\" not found\n",
      "2022-12-27 22:11:49 [9,557ms] [Warning] [omni.usd] Default value for render setting \"/rtx/resourcemanager/uploadPooledBuffers/uploadSize\" not found\n",
      "2022-12-27 22:11:49 [9,557ms] [Warning] [omni.usd] Default value for render setting \"/rtx/pathtracing/nrc/canRun\" not found\n",
      "[14.366s] app ready\n",
      "2022-12-27 22:11:54 [14,681ms] [Warning] [gpu.foundation.plugin] Requesting texture to use texture streaming, but the service isn't available.The texture will be created as a regular resource.\n",
      "[16.183s] Simulation App Startup Complete\n",
      "2022-12-27 22:12:01 [22,520ms] [Warning] [carb.flatcache.plugin] Type tag does not have a corresponding USD type\n"
     ]
    },
    {
     "name": "stderr",
     "output_type": "stream",
     "text": [
      "2022-12-27 22:12:52 [73,331ms] [Error] [carb.graphics-vulkan.plugin] VkResult: ERROR_DEVICE_LOST\n",
      "2022-12-27 22:12:52 [73,331ms] [Error] [carb.graphics-vulkan.plugin] vkWaitForFences failed for command queue.\n",
      "2022-12-27 22:12:52 [73,331ms] [Error] [omni.kit.renderer.plugin] A GPU crash occurred. Exiting the application...\n",
      "Reasons for the failure: a device lost, out of memory, or an unexpected bug.\n"
     ]
    },
    {
     "name": "stdout",
     "output_type": "stream",
     "text": [
      "[76.338s] [ext: omni.isaac.sim.python-2022.1.1] shutdown\n",
      "[76.338s] [ext: omni.graph.visualization.nodes-1.1.1] shutdown\n",
      "[76.364s] [ext: omni.replicator.isaac-1.3.2] shutdown\n",
      "[76.364s] [ext: omni.graph.bundle.action-1.0.0] shutdown\n",
      "[76.364s] [ext: omni.graph.window.action-1.3.8] shutdown\n",
      "[76.392s] [ext: omni.graph.window.generic-1.3.8] shutdown\n",
      "[76.430s] [ext: omni.graph.window.core-1.23.4] shutdown\n",
      "[76.456s] [ext: omni.isaac.wheeled_robots-0.5.8] shutdown\n",
      "[76.456s] [ext: omni.isaac.utils-0.1.11] shutdown\n",
      "[76.544s] [ext: omni.isaac.isaac_sensor-1.0.2] shutdown\n",
      "[76.640s] [ext: omni.isaac.core_nodes-0.13.0] shutdown\n",
      "[76.642s] [ext: omni.isaac.range_sensor-0.4.3] shutdown\n",
      "[76.663s] [ext: omni.isaac.dofbot-0.3.0] shutdown\n",
      "[76.663s] [ext: omni.isaac.universal_robots-0.3.0] shutdown\n",
      "[76.663s] [ext: omni.isaac.franka-0.3.0] shutdown\n",
      "[76.663s] [ext: omni.isaac.motion_generation-3.6.1] shutdown\n",
      "[76.663s] [ext: omni.isaac.manipulators-1.0.1] shutdown\n",
      "[76.663s] [ext: omni.isaac.motion_planning-0.2.0] shutdown\n",
      "[76.665s] [ext: omni.isaac.occupancy_map-0.2.4] shutdown\n",
      "[76.834s] [ext: omni.isaac.surface_gripper-0.1.2] shutdown\n",
      "[76.917s] [ext: omni.isaac.synthetic_utils-0.3.5] shutdown\n",
      "[76.918s] [ext: omni.isaac.core-1.24.3] shutdown\n",
      "[76.918s] [ext: omni.isaac.ml_archive-1.1.0] shutdown\n",
      "[76.918s] [ext: omni.isaac.core_archive-1.2.0] shutdown\n",
      "[76.918s] [ext: omni.isaac.debug_draw-0.1.2] shutdown\n",
      "[76.919s] [ext: omni.isaac.dynamic_control-1.1.0] shutdown\n",
      "[76.998s] [ext: omni.isaac.kit-0.2.1] shutdown\n",
      "[76.998s] [ext: omni.isaac.lula-1.1.0] shutdown\n",
      "[77.023s] [ext: omni.isaac.urdf-0.4.0] shutdown\n",
      "[77.122s] [ext: omni.isaac.ui-0.2.1] shutdown\n",
      "[77.123s] [ext: omni.isaac.version-1.0.0] shutdown\n",
      "[77.123s] [ext: omni.kit.asset_converter-1.2.31] shutdown\n",
      "[77.145s] [ext: omni.graph.instancing-1.1.4] shutdown\n",
      "[77.145s] [ext: omni.kit.browser.folder.core-1.1.13] shutdown\n",
      "[77.167s] [ext: omni.kit.browser.core-2.0.12] shutdown\n",
      "[77.188s] [ext: omni.kit.graph.widget.variables-2.0.2] shutdown\n",
      "[77.208s] [ext: omni.kit.graph.editor.core-1.3.3] shutdown\n",
      "[77.230s] [ext: omni.kit.graph.delegate.default-1.0.15] shutdown\n",
      "[77.251s] [ext: omni.kit.graph.delegate.modern-1.6.0] shutdown\n",
      "[77.273s] [ext: omni.kit.graph.usd.commands-1.1.0] shutdown\n",
      "[77.294s] [ext: omni.replicator.composer-1.1.3] shutdown\n",
      "[77.335s] [ext: omni.replicator.core-1.4.3] shutdown\n",
      "[77.377s] [ext: omni.syntheticdata-0.2.1] shutdown\n",
      "[77.382s] [ext: omni.graph.tutorials-1.1.2] shutdown\n",
      "[77.383s] [ext: omni.graph.nodes-1.26.0] shutdown\n",
      "[77.384s] [ext: omni.graph.scriptnode-0.5.0] shutdown\n",
      "[77.384s] [ext: omni.graph.action-1.18.0] shutdown\n",
      "[77.384s] [ext: omni.warp-0.2.2] shutdown\n",
      "[77.405s] [ext: omni.graph.ui-1.6.1] shutdown\n",
      "2022-12-27 22:12:56 [77,477ms] [Warning] [omni.kit.menu.utils.scripts.utils] omni.kit.menu.utils remove_menu_items \"Create\" failed list.remove(x): x not in list\n",
      "[77.511s] [ext: omni.graph-1.23.0] shutdown\n",
      "2022-12-27 22:12:56 [77,521ms] [Warning] [omni.ext.impl._internal] omni.graph-1.23.0 -> <class 'omni.graph.core._impl.extension.PublicExtension'>: extension object is still alive, something holds a reference on it. References: [\"[0]:type: <class 'frame'>, id: 202811216\", \"[1]:type: <class 'frame'>, id: 140275113860192\", \"[2]:type: <class 'frame'>, id: 203635680\", \"[3]:type: <class 'frame'>, id: 140275104547040\", \"[4]:type: <class 'frame'>, id: 140275104867280\", '[*] ...']\n",
      "[77.527s] [ext: omni.physx.bundle-1.4.15-5.1] shutdown\n",
      "[77.527s] [ext: omni.physx.vehicle-1.4.15-5.1] shutdown\n",
      "[77.565s] [ext: omni.physx.cct-1.4.15-5.1] shutdown\n",
      "[77.586s] [ext: omni.physx.tests-1.4.15-5.1] shutdown\n",
      "[77.606s] [ext: omni.physx.camera-1.4.15-5.1] shutdown\n",
      "[77.627s] [ext: omni.physx.demos-1.4.15-5.1] shutdown\n",
      "[77.648s] [ext: omni.kit.property.physx-0.1.0] shutdown\n",
      "[77.671s] [ext: omni.physx.ui-1.4.15-5.1] shutdown\n",
      "[77.698s] [ext: omni.physx.commands-1.4.15-5.1] shutdown\n",
      "[77.718s] [ext: omni.kit.property.bundle-1.2.4] shutdown\n",
      "[77.718s] [ext: omni.kit.property.transform-1.0.2] shutdown\n",
      "[77.718s] [ext: omni.kit.property.skel-1.0.1] shutdown\n",
      "[77.718s] [ext: omni.kit.usd_undo-0.1.0] shutdown\n",
      "[77.7"
     ]
    },
    {
     "name": "stderr",
     "output_type": "stream",
     "text": [
      "2022-12-27 22:12:57 [77,975ms] [Error] [carb.graphics-vulkan.plugin] VkResult: ERROR_DEVICE_LOST\n",
      "2022-12-27 22:12:57 [77,975ms] [Error] [carb.graphics-vulkan.plugin] submitToQueueCommon failed.\n",
      "2022-12-27 22:12:57 [77,976ms] [Error] [carb.graphics-vulkan.plugin] VkResult: ERROR_DEVICE_LOST\n",
      "2022-12-27 22:12:57 [77,976ms] [Error] [carb.graphics-vulkan.plugin] submitToQueueCommon failed.\n",
      "2022-12-27 22:12:57 [77,977ms] [Error] [carb.graphics-vulkan.plugin] VkResult: ERROR_DEVICE_LOST\n",
      "2022-12-27 22:12:57 [77,977ms] [Error] [carb.graphics-vulkan.plugin] submitToQueueCommon failed.\n"
     ]
    },
    {
     "name": "stdout",
     "output_type": "stream",
     "text": [
      "18s] [ext: omni.kit.menu.edit-1.0.6] shutdown\n",
      "[77.721s] [ext: omni.command.usd-1.0.1] shutdown\n",
      "[77.721s] [ext: omni.kit.window.extensions-1.1.0] shutdown\n",
      "[77.722s] [ext: semantics.schema.editor-0.2.3] shutdown\n",
      "[77.823s] [ext: omni.kit.primitive.mesh-1.0.0] shutdown\n",
      "[77.825s] [ext: omni.rtx.settings.core-0.5.5] shutdown\n",
      "[77.827s] [ext: omni.rtx.window.settings-0.6.1] shutdown\n",
      "[77.828s] [ext: omni.kit.window.preferences-1.2.1] shutdown\n",
      "2022-12-27 22:12:57 [77,843ms] [Warning] [omni.ext.impl._internal] omni.kit.window.preferences-1.2.1 -> <class 'omni.kit.window.preferences.scripts.preferences_window.PreferencesExtension'>: extension object is still alive, something holds a reference on it. References: [\"[0]:type: <class 'frame'>, id: 140275825571040\", \"[1]:type: <class 'frame'>, id: 140275128117680\", \"[2]:type: <class 'frame'>, id: 215983920\"]\n",
      "[77.850s] [ext: omni.kit.property.audio-1.0.5] shutdown\n",
      "[77.850s] [ext: omni.kit.property.layer-1.1.2] shutdown\n",
      "[77.850s] [ext: omni.kit.property.geometry-1.2.0] shutdown\n",
      "[77.850s] [ext: omni.kit.property.material-1.8.5] shutdown\n",
      "[77.850s] [ext: omni.kit.property.light-1.0.5] shutdown\n",
      "[77.851s] [ext: omni.kit.property.render-1.1.0] shutdown\n",
      "[77.851s] [ext: omni.kit.property.camera-1.0.3] shutdown\n",
      "[77.851s] [ext: omni.kit.property.usd-3.14.9] shutdown\n",
      "2022-12-27 22:12:57 [77,862ms] [Warning] [omni.ext.impl._internal] omni.kit.property.usd-3.14.9 -> <class 'omni.kit.property.usd.widgets.UsdPropertyWidgets'>: extension object is still alive, something holds a reference on it. References: [\"[0]:type: <class 'frame'>, id: 208824464\", \"[1]:type: <class 'frame'>, id: 162204512\", \"[2]:type: <class 'cell'>, id: 140329955931856\"]\n",
      "[77.869s] [ext: omni.kit.widget.layers-1.5.17] shutdown\n",
      "[77.870s] [ext: omni.kit.window.content_browser-2.4.28] shutdown\n",
      "[77.877s] [ext: omni.kit.window.stage-2.3.7] shutdown\n",
      "[77.878s] [ext: omni.kit.widget.stage-2.6.15] shutdown\n",
      "[77.879s] [ext: omni.kit.menu.file-1.0.8] shutdown\n",
      "[77.882s] [ext: omni.kit.window.file-1.3.16] shutdown\n",
      "[77.882s] [ext: omni.kit.window.file_exporter-1.0.4] shutdown\n",
      "[77.882s] [ext: omni.kit.window.file_importer-1.0.4] shutdown\n",
      "[77.882s] [ext: omni.kit.window.filepicker-2.4.30] shutdown\n",
      "[77.882s] [ext: omni.kit.widget.filebrowser-2.2.27] shutdown\n",
      "[77.882s] [ext: omni.kit.search_core-1.0.2] shutdown\n",
      "[77.882s] [ext: omni.kit.manipulator.viewport-1.0.6] shutdown\n",
      "[77.923s] [ext: omni.ui.scene-1.5.0] shutdown\n",
      "[77.928s] [ext: omni.kit.selection-0.1.0] shutdown\n",
      "[77.928s] [ext: omni.kit.widget.searchfield-1.0.6] shutdown\n",
      "[77.981s] [ext: omni.kit.ui_test-1.2.2] shutdown\n",
      "[77.982s] [ext: omni.ui_query-1.1.1] shutdown\n",
      "[77.982s] [ext: omni.kit.window.viewport-0.0.0] shutdown\n",
      "2022-12-27 22:12:57 [77,976ms] [Warning] [carb] Plugin interface for a client: omni.kit.window.viewport.plugin was already released.\n"
     ]
    },
    {
     "name": "stderr",
     "output_type": "stream",
     "text": [
      "2022-12-27 22:12:57 [78,200ms] [Error] [carb.graphics-vulkan.plugin] VkResult: ERROR_DEVICE_LOST\n",
      "2022-12-27 22:12:57 [78,200ms] [Error] [carb.graphics-vulkan.plugin] vkWaitForFences failed for command queue.\n",
      "2022-12-27 22:12:57 [78,200ms] [Error] [carb.graphics-vulkan.plugin] VkResult: ERROR_DEVICE_LOST\n",
      "2022-12-27 22:12:57 [78,200ms] [Error] [carb.graphics-vulkan.plugin] vkWaitForFences failed for command queue.\n",
      "2022-12-27 22:12:57 [78,200ms] [Error] [carb.graphics-vulkan.plugin] VkResult: ERROR_DEVICE_LOST\n",
      "2022-12-27 22:12:57 [78,200ms] [Error] [carb.graphics-vulkan.plugin] vkWaitForFences failed for command queue.\n"
     ]
    },
    {
     "name": "stdout",
     "output_type": "stream",
     "text": [
      "[80.746s] [ext: omni.kit.notification_manager-1.0.5] shutdown\n",
      "[80.746s] [ext: omni.kit.widget.browser_bar-2.0.3] shutdown\n",
      "[80.746s] [ext: omni.kit.widget.zoombar-1.0.3] shutdown\n",
      "[80.769s] [ext: omni.kit.window.script_editor-1.6.2] shutdown\n",
      "[80.770s] [ext: omni.kit.widget.graph-1.4.3] shutdown\n",
      "[80.770s] [ext: omni.kit.window.status_bar-0.1.1] shutdown\n",
      "[80.770s] [ext: omni.kit.profiler.window-1.4.4] shutdown\n",
      "[80.790s] [ext: omni.kit.uiapp-0.0.0] shutdown\n",
      "[80.790s] [ext: omni.kit.mainwindow-0.0.0] shutdown\n",
      "[80.790s] [ext: omni.kit.window.property-1.6.3] shutdown\n",
      "[80.790s] [ext: omni.kit.widget.settings-1.0.0] shutdown\n",
      "[80.790s] [ext: omni.kit.widget.versioning-1.3.8] shutdown\n",
      "[80.790s] [ext: omni.kit.window.toolbar-1.2.4] shutdown\n",
      "[80.791s] [ext: omni.kit.context_menu-1.3.9] shutdown\n",
      "[80.791s] [ext: omni.kit.menu.create-1.0.2] shutdown\n",
      "[80.792s] [ext: omni.kit.material.library-1.3.10] shutdown\n",
      "2022-12-27 22:13:00 [80,785ms] [Warning] [omni.kit.menu.utils.scripts.utils] omni.kit.menu.utils remove_menu_items \"Create\" failed list.remove(x): x not in list\n",
      "2022-12-27 22:13:00 [80,800ms] [Warning] [omni.ext.impl._internal] omni.kit.material.library-1.3.10 -> <class 'omni.kit.material.library.material_library.MaterialLibraryExtension'>: extension object is still alive, something holds a reference on it. References: [\"[0]:type: <class 'frame'>, id: 140273040237808\", \"[1]:type: <class 'cell'>, id: 140329967925008\", \"[2]:type: <class 'frame'>, id: 29075808\"]\n",
      "[80.807s] [ext: omni.kit.menu.common-1.0.0] shutdown\n",
      "[80.807s] [ext: omni.kit.window.console-0.2.0] shutdown\n",
      "[80.809s] [ext: omni.kit.menu.utils-1.2.11] shutdown\n",
      "[80.809s] [ext: omni.kit.widget.path_field-2.0.3] shutdown\n",
      "[80.809s] [ext: omni.kit.widget.live-0.1.0] shutdown\n",
      "[80.810s] [ext: omni.kit.widget.prompt-1.0.1] shutdown\n",
      "[80.810s] [ext: omni.kit.window.popup_dialog-2.0.8] shutdown\n",
      "[80.810s] [ext: omni.kit.window.drop_support-1.0.0] shutdown\n",
      "[80.810s] [ext: omni.ui-2.10.3] shutdown\n",
      "[80.810s] [ext: omni.kit.test-0.0.0] shutdown\n",
      "[80.810s] [ext: omni.kit.window.title-1.1.2] shutdown\n",
      "2022-12-27 22:13:00 [80,818ms] [Warning] [omni.ext.impl._internal] omni.kit.window.title-1.1.2 -> <class 'omni.kit.window.title.title.WindowTitle'>: extension object is still alive, something holds a reference on it. References: [\"[0]:type: <class 'frame'>, id: 79444352\"]\n",
      "[80.825s] [ext: omni.kit.renderer.capture-0.0.0] shutdown\n",
      "[80.825s] [ext: omni.kit.renderer.core-0.0.0] shutdown\n"
     ]
    },
    {
     "name": "stderr",
     "output_type": "stream",
     "text": [
      "2022-12-27 22:13:00 [80,819ms] [Error] [carb.graphics-vulkan.plugin] VkResult: ERROR_DEVICE_LOST\n",
      "2022-12-27 22:13:00 [80,819ms] [Error] [carb.graphics-vulkan.plugin] submitToQueueCommon failed.\n",
      "2022-12-27 22:13:00 [80,819ms] [Error] [omni.kit.renderer.plugin] A GPU crash occurred. Exiting the application...\n",
      "Reasons for the failure: a device lost, out of memory, or an unexpected bug.\n"
     ]
    },
    {
     "name": "stdout",
     "output_type": "stream",
     "text": [
      "[83.826s] [ext: omni.kit.renderer.core-0.0.0] shutdown\n",
      "[83.826s] [ext: omni.appwindow-1.0.0] shutdown\n",
      "[83.827s] [ext: omni.kit.loop-isaac-0.1.0] shutdown\n",
      "[83.827s] [ext: omni.kit.pip_torch-1_11_0-0.1.3] shutdown\n",
      "[83.884s] [ext: omni.usd.schema.isaac-0.2.0] shutdown\n",
      "[83.885s] [ext: omni.physx.tensors-0.1.0] shutdown\n",
      "[83.886s] [ext: omni.physx-1.4.15-5.1] shutdown\n",
      "[83.905s] [ext: omni.convexdecomposition-1.4.15] shutdown\n",
      "[83.922s] [ext: omni.localcache-0.0.0] shutdown\n",
      "[83.938s] [ext: omni.kvdb-0.0.0] shutdown\n",
      "[83.954s] [ext: omni.physics.tensors-0.1.0] shutdown\n",
      "[83.970s] [ext: omni.usd.schema.forcefield-0.0.0] shutdown\n",
      "[83.986s] [ext: omni.usdphysics-1.4.15] shutdown\n",
      "[83.986s] [ext: omni.usd.schema.physx-0.0.0] shutdown\n",
      "[84.003s] [ext: omni.debugdraw-0.1.0] shutdown\n",
      "[84.003s] [ext: omni.hydra.engine.stats-1.0.0] shutdown\n",
      "[84.003s] [ext: omni.graph.core-2.29.1] shutdown\n",
      "[84.003s] [ext: omni.kit.stage_templates-1.1.2] shutdown\n",
      "[84.003s] [ext: omni.kit.viewport.legacy_gizmos-1.0.0] shutdown\n",
      "[84.004s] [ext: omni.usd-1.5.3] shutdown\n",
      "2022-12-27 22:13:03 [83,997ms] [Warning] [carb.assets.plugin] Evicting asset type c1237a43d569db21 v0.1 orphaned snapshot handle 0x100000000 (/tmp/carb.rxsA7u/plus.24x32.png)\n",
      "2022-12-27 22:13:03 [83,997ms] [Warning] [carb.assets.plugin] Evicting asset type c1237a43d569db21 v0.1 orphaned snapshot handle 0x100000001 (/tmp/carb.rxsA7u/angle_right.32x32.png)\n",
      "2022-12-27 22:13:03 [83,997ms] [Warning] [carb.assets.plugin] Evicting asset type c1237a43d569db21 v0.1 orphaned snapshot handle 0x100000002 (/tmp/carb.rxsA7u/angle_left.32x32.png)\n",
      "2022-12-27 22:13:03 [83,997ms] [Warning] [carb.assets.plugin] Evicting asset type c1237a43d569db21 v0.1 orphaned snapshot handle 0x100000003 (/tmp/carb.rxsA7u/bookmark_grey.36x36.png)\n",
      "2022-12-27 22:13:03 [83,997ms] [Warning] [carb.assets.plugin] Evicting asset type c1237a43d569db21 v0.1 orphaned snapshot handle 0x100000004 (/tmp/carb.rxsA7u/search.32x32.png)\n",
      "2022-12-27 22:13:03 [83,997ms] [Warning] [carb.assets.plugin] Evicting asset type c1237a43d569db21 v0.1 orphaned snapshot handle 0x100000005 (/tmp/carb.rxsA7u/settings.28x40.png)\n",
      "2022-12-27 22:13:03 [83,997ms] [Warning] [carb.assets.plugin] Evicting asset type c1237a43d569db21 v0.1 orphaned snapshot handle 0x100000006 (/tmp/carb.rxsA7u/filter.28x32.png)\n",
      "2022-12-27 22:13:03 [83,997ms] [Warning] [carb.assets.plugin] Evicting asset type c1237a43d569db21 v0.1 orphaned snapshot handle 0x100000007 (/tmp/carb.rxsA7u/list.32x40.png)\n",
      "2022-12-27 22:13:03 [83,997ms] [Warning] [carb.assets.plugin] Evicting asset type c1237a43d569db21 v0.1 orphaned snapshot handle 0x100000008 (/tmp/carb.rxsA7u/toolbar_select_model.56x56.png)\n",
      "2022-12-27 22:13:03 [83,997ms] [Warning] [carb.assets.plugin] Evicting asset type c1237a43d569db21 v0.1 orphaned snapshot handle 0x100000009 (/tmp/carb.rxsA7u/toolbar_select_prim.56x56.png)\n",
      "2022-12-27 22:13:03 [83,997ms] [Warning] [carb.assets.plugin] Evicting asset type c1237a43d569db21 v0.1 orphaned snapshot handle 0x10000000a (/tmp/carb.rxsA7u/toolbar_select_models.56x56.png)\n",
      "2022-12-27 22:13:03 [83,997ms] [Warning] [carb.assets.plugin] Evicting asset type c1237a43d569db21 v0.1 orphaned snapshot handle 0x10000000b (/tmp/carb.rxsA7u/toolbar_move_global.56x56.png)\n",
      "2022-12-27 22:13:03 [83,997ms] [Warning] [carb.assets.plugin] Evicting asset type c1237a43d569db21 v0.1 orphaned snapshot handle 0x10000000c (/tmp/carb.rxsA7u/toolbar_rotate_global.56x56.png)\n",
      "2022-12-27 22:13:03 [83,997ms] [Warning] [carb.assets.plugin] Evicting asset type c1237a43d569db21 v0.1 orphaned snapshot handle 0x10000000d (/tmp/carb.rxsA7u/toolbar_scale.56x56.png)\n",
      "2022-12-27 22:13:03 [83,997ms] [Warning] [carb.assets.plugin] Evicting asset type c1237a43d569db21 v0.1 orphaned snapshot handle 0x10000000e (/tmp/carb.rxsA7u/toolbar_snap.56x56.png)\n",
      "2022-12-27 22:13:03 [83,997ms] [Warning] [carb.assets.plugin] Evicting asset type c1237a43d569db21 v0.1 orphaned snapshot handle 0x10000000f (/tmp/carb.rxsA7u/toolbar_play.56x56.png)\n",
      "2022-12-27 22:13:03 [83,997ms] [Warning] [carb.assets.plugin] Evicting asset type c1237a43d569db21 v0.1 orphaned snapshot handle 0x100000010 (/tmp/carb.rxsA7u/toolbar_pause.56x56.png)\n",
      "2022-12-27 22:13:03 [83,997ms] [Warning] [carb.assets.plugin] Evicting asset type c1237a43d569db21 v0.1 orphaned snapshot handle 0x100000011 (/tmp/carb.rxsA7u/filter.28x28.png)\n",
      "2022-12-27 22:13:03 [83,997ms] [Warning] [carb.assets.plugin] Evicting asset type c1237a43d569db21 v0.1 orphaned snapshot handle 0x100000012 (/tmp/carb.rxsA7u/options.28x28.png)\n",
      "2022-12-27 22:13:03 [83,997ms] [Warning] [carb.assets.plugin] Evicting asset type c1237a43d569db21 v0.1 orphaned snapshot handle 0x100000013 (/tmp/carb.rxsA7u/eye_header.44x28.png)\n",
      "2022-12-27 22:13:03 [83,997ms] [Warning] [carb.assets.plugin] Evicting asset type c1237a43d569db21 v0.1 orphaned snapshot handle 0x100000014 (/tmp/carb.rxsA7u/options.28x32.png)\n",
      "2022-12-27 22:13:03 [83,997ms] [Warning] [carb.assets.plugin] Evicting asset type c1237a43d569db21 v0.1 orphaned snapshot handle 0x100000015 (/tmp/carb.rxsA7u/layers.36x36.png)\n",
      "2022-12-27 22:13:03 [83,997ms] [Warning] [carb.assets.plugin] Evicting asset type c1237a43d569db21 v0.1 orphaned snapshot handle 0x100000016 (/tmp/carb.rxsA7u/layer_save.28x28.png)\n",
      "2022-12-27 22:13:03 [83,997ms] [Warning] [carb.assets.plugin] Evicting asset type c1237a43d569db21 v0.1 orphaned snapshot handle 0x100000017 (/tmp/carb.rxsA7u/layers_switch_local.84x44.png)\n",
      "2022-12-27 22:13:03 [83,997ms] [Warning] [carb.assets.plugin] Evicting asset type c1237a43d569db21 v0.1 orphaned snapshot handle 0x100000018 (/tmp/carb.rxsA7u/layers_switch_global.84x44.png)\n",
      "2022-12-27 22:13:03 [83,997ms] [Warning] [carb.assets.plugin] Evicting asset type c1237a43d569db21 v0.1 orphaned snapshot handle 0x100000019 (/tmp/carb.rxsA7u/cloud.28x28.png)\n",
      "2022-12-27 22:13:03 [83,997ms] [Warning] [carb.assets.plugin] Evicting asset type c1237a43d569db21 v0.1 orphaned snapshot handle 0x10000001a (/tmp/carb.rxsA7u/drop_down.12x12.png)\n",
      "2022-12-27 22:13:03 [83,997ms] [Warning] [carb.assets.plugin] Evicting asset type c1237a43d569db21 v0.1 orphaned snapshot handle 0x10000001b (/tmp/carb.rxsA7u/external_link.52x52.png)\n",
      "2022-12-27 22:13:03 [83,997ms] [Warning] [carb.assets.plugin] Evicting asset type c1237a43d569db21 v0.1 orphaned snapshot handle 0x10000001c (/tmp/carb.rxsA7u/new_layer.52x52.png)\n",
      "2022-12-27 22:13:03 [83,997ms] [Warning] [carb.assets.plugin] Evicting asset type c1237a43d569db21 v0.1 orphaned snapshot handle 0x10000001d (/tmp/carb.rxsA7u/trash.44x44.png)\n",
      "2022-12-27 22:13:03 [83,997ms] [Warning] [carb.assets.plugin] Evicting asset type c1237a43d569db21 v0.1 orphaned snapshot handle 0x10000001e (/home/yizhou/.local/share/ov/pkg/isaac_sim-2022.1.1/kit/extsPhysics/omni.physx.ui-1.4.15-5.1/icons/physicsJoint/RevoluteJoint.png)\n",
      "2022-12-27 22:13:03 [83,998ms] [Warning] [carb.assets.plugin] Evicting asset type c1237a43d569db21 v0.1 orphaned snapshot handle 0x10000001f (/home/yizhou/.local/share/ov/pkg/isaac_sim-2022.1.1/kit/extsPhysics/omni.physx.ui-1.4.15-5.1/icons/physicsJoint/SphericalJoint.png)\n",
      "2022-12-27 22:13:03 [83,998ms] [Warning] [carb.assets.plugin] Evicting asset type c1237a43d569db21 v0.1 orphaned snapshot handle 0x100000020 (/home/yizhou/.local/share/ov/pkg/isaac_sim-2022.1.1/kit/extsPhysics/omni.physx.ui-1.4.15-5.1/icons/physicsJoint/DistanceJoint.png)\n",
      "2022-12-27 22:13:03 [83,998ms] [Warning] [carb.assets.plugin] Evicting asset type c1237a43d569db21 v0.1 orphaned snapshot handle 0x100000021 (/home/yizhou/.local/share/ov/pkg/isaac_sim-2022.1.1/kit/extsPhysics/omni.physx.ui-1.4.15-5.1/icons/physicsJoint/FixedJoint.png)\n",
      "2022-12-27 22:13:03 [83,998ms] [Warning] [carb.assets.plugin] Evicting asset type c1237a43d569db21 v0.1 orphaned snapshot handle 0x100000022 (/home/yizhou/.local/share/ov/pkg/isaac_sim-2022.1.1/kit/extsPhysics/omni.physx.ui-1.4.15-5.1/icons/physicsJoint/PrismaticJoint.png)\n",
      "2022-12-27 22:13:03 [83,998ms] [Warning] [carb.assets.plugin] Evicting asset type c1237a43d569db21 v0.1 orphaned snapshot handle 0x100000023 (/home/yizhou/.local/share/ov/pkg/isaac_sim-2022.1.1/kit/extsPhysics/omni.physx.ui-1.4.15-5.1/icons/physicsJoint/D6Joint.png)\n",
      "2022-12-27 22:13:03 [83,998ms] [Warning] [carb.assets.plugin] Evicting asset type c1237a43d569db21 v0.1 orphaned snapshot handle 0x100000024 (/home/yizhou/.local/share/ov/pkg/isaac_sim-2022.1.1/kit/extsPhysics/omni.physx.ui-1.4.15-5.1/icons/physicsJoint/GearJoint.png)\n",
      "2022-12-27 22:13:03 [83,998ms] [Warning] [carb.assets.plugin] Evicting asset type c1237a43d569db21 v0.1 orphaned snapshot handle 0x100000025 (/home/yizhou/.local/share/ov/pkg/isaac_sim-2022.1.1/kit/extsPhysics/omni.physx.ui-1.4.15-5.1/icons/physicsJoint/RackAndPinionJoint.png)\n",
      "2022-12-27 22:13:03 [83,998ms] [Warning] [carb.assets.plugin] Evicting asset type c1237a43d569db21 v0.1 orphaned snapshot handle 0x100000026 (/home/yizhou/.local/share/ov/pkg/isaac_sim-2022.1.1/kit/extsPhysics/omni.physx.ui-1.4.15-5.1/icons/physicsJoint/JJoint.png)\n",
      "2022-12-27 22:13:03 [83,998ms] [Warning] [carb.assets.plugin] Evicting asset type c1237a43d569db21 v0.1 orphaned snapshot handle 0x100000027 (/home/yizhou/.local/share/ov/pkg/isaac_sim-2022.1.1/kit/extsPhysics/omni.physx.ui-1.4.15-5.1/icons/physicsJoint/JointError.png)\n",
      "2022-12-27 22:13:03 [83,998ms] [Warning] [carb.assets.plugin] Evicting asset type c1237a43d569db21 v0.1 orphaned snapshot handle 0x200000028 (omniverse://127.0.0.1/NVIDIA/Materials/Base/Wall_Board/Cardboard/Cardboard_BaseColor.png)\n",
      "2022-12-27 22:13:03 [83,998ms] [Warning] [carb.assets.plugin] Evicting asset type c1237a43d569db21 v0.1 orphaned snapshot handle 0x100000029 (/home/yizhou/.local/share/ov/pkg/isaac_sim-2022.1.1/kit/resources/icons/lights/distant_light.png)\n",
      "2022-12-27 22:13:03 [83,998ms] [Warning] [carb.assets.plugin] Evicting asset type c1237a43d569db21 v0.1 orphaned snapshot handle 0x10000002a (/home/yizhou/.local/share/ov/pkg/isaac_sim-2022.1.1/kit/resources/icons/lights/rect_light.png)\n",
      "2022-12-27 22:13:03 [83,998ms] [Warning] [carb.assets.plugin] Evicting asset type c1237a43d569db21 v0.1 orphaned snapshot handle 0x10000002b (/home/yizhou/.local/share/ov/pkg/isaac_sim-2022.1.1/kit/resources/icons/lights/sphere_light.png)\n",
      "2022-12-27 22:13:03 [83,998ms] [Warning] [carb.assets.plugin] Evicting asset type c1237a43d569db21 v0.1 orphaned snapshot handle 0x10000002c (/home/yizhou/.local/share/ov/pkg/isaac_sim-2022.1.1/kit/resources/icons/lights/cylinder_light.png)\n",
      "2022-12-27 22:13:03 [83,998ms] [Warning] [carb.assets.plugin] Evicting asset type c1237a43d569db21 v0.1 orphaned snapshot handle 0x10000002d (/home/yizhou/.local/share/ov/pkg/isaac_sim-2022.1.1/kit/resources/icons/lights/disk_light.png)\n",
      "2022-12-27 22:13:03 [83,998ms] [Warning] [carb.assets.plugin] Evicting asset type c1237a43d569db21 v0.1 orphaned snapshot handle 0x10000002e (/home/yizhou/.local/share/ov/pkg/isaac_sim-2022.1.1/kit/resources/icons/lights/dome_light.png)\n",
      "2022-12-27 22:13:03 [83,998ms] [Warning] [carb.assets.plugin] Evicting asset type c1237a43d569db21 v0.1 orphaned snapshot handle 0x10000002f (/home/yizhou/.local/share/ov/pkg/isaac_sim-2022.1.1/kit/resources/icons/sounds/sound.png)\n",
      "2022-12-27 22:13:03 [83,998ms] [Warning] [carb.assets.plugin] Evicting asset type c1237a43d569db21 v0.1 orphaned snapshot handle 0x100000030 (/home/yizhou/.local/share/ov/pkg/isaac_sim-2022.1.1/kit/resources/icons/sounds/listener.png)\n",
      "2022-12-27 22:13:03 [83,998ms] [Warning] [carb.assets.plugin] Evicting asset type c1237a43d569db21 v0.1 orphaned snapshot handle 0x100000031 (/tmp/carb.rxsA7u/Prim.40x40.png)\n",
      "2022-12-27 22:13:03 [83,998ms] [Warning] [carb.assets.plugin] Evicting asset type c1237a43d569db21 v0.1 orphaned snapshot handle 0x100000032 (/tmp/carb.rxsA7u/Plus.20x20.png)\n",
      "2022-12-27 22:13:03 [83,998ms] [Warning] [carb.assets.plugin] Evicting asset type c1237a43d569db21 v0.1 orphaned snapshot handle 0x100000033 (/tmp/carb.rxsA7u/Xform.40x40.png)\n",
      "2022-12-27 22:13:03 [83,998ms] [Warning] [carb.assets.plugin] Evicting asset type c1237a43d569db21 v0.1 orphaned snapshot handle 0x100000034 (/tmp/carb.rxsA7u/layers.40x40.png)\n",
      "2022-12-27 22:13:03 [83,998ms] [Warning] [carb.assets.plugin] Evicting asset type c1237a43d569db21 v0.1 orphaned snapshot handle 0x100000035 (/tmp/carb.rxsA7u/layer_delta.24x24.png)\n",
      "2022-12-27 22:13:03 [83,998ms] [Warning] [carb.assets.plugin] Evicting asset type c1237a43d569db21 v0.1 orphaned snapshot handle 0x100000036 (/tmp/carb.rxsA7u/sensor_icon.52x28.png)\n",
      "2022-12-27 22:13:03 [83,998ms] [Warning] [carb.assets.plugin] Evicting asset type c1237a43d569db21 v0.1 orphaned snapshot handle 0x100000037 (/tmp/carb.rxsA7u/Minus.20x20.png)\n",
      "2022-12-27 22:13:03 [83,998ms] [Warning] [carb.assets.plugin] Evicting asset type c1237a43d569db21 v0.1 orphaned snapshot handle 0x100000038 (omniverse://127.0.0.1/NVIDIA/Materials/Base/Wood/Mahogany_Planks/Mahogany_Planks_N.png)\n",
      "2022-12-27 22:13:03 [83,998ms] [Warning] [carb.assets.plugin] Evicting asset type c1237a43d569db21 v0.1 orphaned snapshot handle 0x100000039 (omniverse://127.0.0.1/NVIDIA/Materials/Base/Wood/Mahogany_Planks/Mahogany_Planks_ORM.png)\n",
      "2022-12-27 22:13:03 [83,998ms] [Warning] [carb.assets.plugin] Evicting asset type c1237a43d569db21 v0.1 orphaned snapshot handle 0x10000003a (omniverse://127.0.0.1/NVIDIA/Materials/Base/Wall_Board/Plaster/Plaster_ORM.png)\n",
      "2022-12-27 22:13:03 [83,998ms] [Warning] [carb.assets.plugin] Evicting asset type c1237a43d569db21 v0.1 orphaned snapshot handle 0x10000003b (omniverse://127.0.0.1/NVIDIA/Materials/Base/Wood/Mahogany_Planks/Mahogany_Planks_BaseColor.png)\n",
      "2022-12-27 22:13:03 [83,998ms] [Warning] [carb.assets.plugin] Evicting asset type c1237a43d569db21 v0.1 orphaned snapshot handle 0x10000003c (omniverse://127.0.0.1/NVIDIA/Materials/Base/Wall_Board/Plaster/Plaster_BaseColor.png)\n",
      "2022-12-27 22:13:03 [83,998ms] [Warning] [carb.assets.plugin] Evicting asset type c1237a43d569db21 v0.1 orphaned snapshot handle 0x10000003d (omniverse://127.0.0.1/NVIDIA/Materials/Base/Wall_Board/Plaster/Plaster_N.png)\n",
      "2022-12-27 22:13:03 [83,998ms] [Warning] [carb.assets.plugin] Evicting asset type c1237a43d569db21 v0.1 orphaned snapshot handle 0x10000003e (/tmp/carb.rxsA7u/eye_on.32x28.png)\n",
      "2022-12-27 22:13:03 [83,998ms] [Warning] [carb.assets.plugin] Evicting asset type c1237a43d569db21 v0.1 orphaned snapshot handle 0x10000003f (/tmp/carb.rxsA7u/eye_off.32x28.png)\n",
      "2022-12-27 22:13:03 [83,998ms] [Warning] [carb.assets.plugin] Evicting asset type c1237a43d569db21 v0.1 orphaned snapshot handle 0x100000040 (/tmp/carb.rxsA7u/Light.40x40.png)\n",
      "2022-12-27 22:13:03 [83,998ms] [Warning] [carb.assets.plugin] Evicting asset type c1237a43d569db21 v0.1 orphaned snapshot handle 0x100000041 (/tmp/carb.rxsA7u/Reference.40x40.png)\n",
      "2022-12-27 22:13:03 [83,998ms] [Warning] [carb.assets.plugin] Evicting asset type c1237a43d569db21 v0.1 orphaned snapshot handle 0x100000042 (/tmp/carb.rxsA7u/Scope.40x40.png)\n",
      "2022-12-27 22:13:03 [83,998ms] [Warning] [carb.assets.plugin] Evicting asset type c1237a43d569db21 v0.1 orphaned snapshot handle 0x100000043 (/tmp/carb.rxsA7u/toolbar_stop.56x56.png)\n",
      "2022-12-27 22:13:03 [83,998ms] [Warning] [carb.assets.plugin] Evicting asset type c1237a43d569db21 v0.1 orphaned snapshot handle 0x100000044 (omniverse://127.0.0.1/NVIDIA/Materials/vMaterials_2/Wood/textures/beech_rough_detail.jpg)\n",
      "2022-12-27 22:13:03 [83,998ms] [Warning] [carb.assets.plugin] Evicting asset type c1237a43d569db21 v0.1 orphaned snapshot handle 0x100000045 (omniverse://127.0.0.1/NVIDIA/Materials/Base/Wall_Board/Cardboard/Cardboard_ORM.png)\n",
      "2022-12-27 22:13:03 [83,998ms] [Warning] [carb.assets.plugin] Evicting asset type c1237a43d569db21 v0.1 orphaned snapshot handle 0x100000046 (omniverse://127.0.0.1/NVIDIA/Materials/Base/Wall_Board/Cardboard/Cardboard_N.png)\n",
      "2022-12-27 22:13:03 [83,998ms] [Warning] [carb.assets.plugin] Evicting asset type c1237a43d569db21 v0.1 orphaned snapshot handle 0x100000047 (omniverse://127.0.0.1/NVIDIA/Materials/vMaterials_2/Wood/textures/brickbond_R_id_G_offs_B_rotation.png)\n",
      "2022-12-27 22:13:03 [83,998ms] [Warning] [carb.assets.plugin] Evicting asset type c1237a43d569db21 v0.1 orphaned snapshot handle 0x100000048 (omniverse://127.0.0.1/NVIDIA/Materials/vMaterials_2/Wood/textures/beech_rough_grain.jpg)\n",
      "2022-12-27 22:13:03 [83,998ms] [Warning] [carb.assets.plugin] Evicting asset type c1237a43d569db21 v0.1 orphaned snapshot handle 0x100000049 (omniverse://127.0.0.1/NVIDIA/Materials/vMaterials_2/Wood/textures/brickbond_R_edgewear_G_gaps_B_gaps_rough.jpg)\n",
      "2022-12-27 22:13:03 [83,998ms] [Warning] [carb.assets.plugin] Evicting asset type c1237a43d569db21 v0.1 orphaned snapshot handle 0x10000004a (omniverse://127.0.0.1/NVIDIA/Materials/vMaterials_2/Wood/textures/tiles_wood_R_rough_G_dents_B_spots.jpg)\n",
      "2022-12-27 22:13:03 [83,998ms] [Warning] [carb.assets.plugin] Evicting asset type c1237a43d569db21 v0.1 orphaned snapshot handle 0x10000004b (omniverse://127.0.0.1/NVIDIA/Materials/vMaterials_2/Wood/textures/beech_norm.jpg)\n",
      "2022-12-27 22:13:03 [83,998ms] [Warning] [carb.assets.plugin] Evicting asset type c1237a43d569db21 v0.1 orphaned snapshot handle 0x10000004c (omniverse://127.0.0.1/NVIDIA/Materials/vMaterials_2/Wood/textures/tiles_wood_orangepeel_norm.jpg)\n",
      "2022-12-27 22:13:03 [83,998ms] [Warning] [carb.assets.plugin] Evicting asset type c1237a43d569db21 v0.1 orphaned snapshot handle 0x10000004d (omniverse://127.0.0.1/NVIDIA/Materials/vMaterials_2/Wood/textures/brickbond_norm.png)\n",
      "2022-12-27 22:13:03 [83,998ms] [Warning] [carb.assets.plugin] Evicting asset type c1237a43d569db21 v0.1 orphaned snapshot handle 0x10000004e (omniverse://127.0.0.1/NVIDIA/Materials/vMaterials_2/Wood/textures/beech_diff.jpg)\n",
      "2022-12-27 22:13:03 [83,998ms] [Warning] [carb.assets.plugin] Evicting asset type c1237a43d569db21 v0.1 orphaned asset 0x100000000 (/tmp/carb.rxsA7u/plus.24x32.png)\n",
      "2022-12-27 22:13:03 [83,998ms] [Warning] [carb.assets.plugin] Evicting asset type c1237a43d569db21 v0.1 orphaned asset 0x100000001 (/tmp/carb.rxsA7u/angle_left.32x32.png)\n",
      "2022-12-27 22:13:03 [83,998ms] [Warning] [carb.assets.plugin] Evicting asset type c1237a43d569db21 v0.1 orphaned asset 0x100000002 (/tmp/carb.rxsA7u/angle_right.32x32.png)\n",
      "2022-12-27 22:13:03 [83,998ms] [Warning] [carb.assets.plugin] Evicting asset type c1237a43d569db21 v0.1 orphaned asset 0x100000003 (/tmp/carb.rxsA7u/bookmark_grey.36x36.png)\n",
      "2022-12-27 22:13:03 [83,998ms] [Warning] [carb.assets.plugin] Evicting asset type c1237a43d569db21 v0.1 orphaned asset 0x100000004 (/tmp/carb.rxsA7u/search.32x32.png)\n",
      "2022-12-27 22:13:03 [83,998ms] [Warning] [carb.assets.plugin] Evicting asset type c1237a43d569db21 v0.1 orphaned asset 0x100000005 (/tmp/carb.rxsA7u/settings.28x40.png)\n",
      "2022-12-27 22:13:03 [83,998ms] [Warning] [carb.assets.plugin] Evicting asset type c1237a43d569db21 v0.1 orphaned asset 0x100000006 (/tmp/carb.rxsA7u/filter.28x32.png)\n",
      "2022-12-27 22:13:03 [83,998ms] [Warning] [carb.assets.plugin] Evicting asset type c1237a43d569db21 v0.1 orphaned asset 0x100000008 (/tmp/carb.rxsA7u/list.32x40.png)\n",
      "2022-12-27 22:13:03 [83,998ms] [Warning] [carb.assets.plugin] Evicting asset type c1237a43d569db21 v0.1 orphaned asset 0x100000009 (/tmp/carb.rxsA7u/toolbar_select_model.56x56.png)\n",
      "2022-12-27 22:13:03 [83,999ms] [Warning] [carb.assets.plugin] Evicting asset type c1237a43d569db21 v0.1 orphaned asset 0x10000000a (/tmp/carb.rxsA7u/toolbar_select_prim.56x56.png)\n",
      "2022-12-27 22:13:03 [83,999ms] [Warning] [carb.assets.plugin] Evicting asset type c1237a43d569db21 v0.1 orphaned asset 0x10000000b (/tmp/carb.rxsA7u/toolbar_select_models.56x56.png)\n",
      "2022-12-27 22:13:03 [83,999ms] [Warning] [carb.assets.plugin] Evicting asset type c1237a43d569db21 v0.1 orphaned asset 0x10000000c (/tmp/carb.rxsA7u/toolbar_move_global.56x56.png)\n",
      "2022-12-27 22:13:03 [83,999ms] [Warning] [carb.assets.plugin] Evicting asset type c1237a43d569db21 v0.1 orphaned asset 0x10000000d (/tmp/carb.rxsA7u/toolbar_rotate_global.56x56.png)\n",
      "2022-12-27 22:13:03 [83,999ms] [Warning] [carb.assets.plugin] Evicting asset type c1237a43d569db21 v0.1 orphaned asset 0x10000000e (/tmp/carb.rxsA7u/toolbar_scale.56x56.png)\n",
      "2022-12-27 22:13:03 [83,999ms] [Warning] [carb.assets.plugin] Evicting asset type c1237a43d569db21 v0.1 orphaned asset 0x10000000f (/tmp/carb.rxsA7u/toolbar_snap.56x56.png)\n",
      "2022-12-27 22:13:03 [83,999ms] [Warning] [carb.assets.plugin] Evicting asset type c1237a43d569db21 v0.1 orphaned asset 0x100000010 (/tmp/carb.rxsA7u/toolbar_play.56x56.png)\n",
      "2022-12-27 22:13:03 [83,999ms] [Warning] [carb.assets.plugin] Evicting asset type c1237a43d569db21 v0.1 orphaned asset 0x100000011 (/tmp/carb.rxsA7u/toolbar_pause.56x56.png)\n",
      "2022-12-27 22:13:03 [83,999ms] [Warning] [carb.assets.plugin] Evicting asset type c1237a43d569db21 v0.1 orphaned asset 0x100000012 (/tmp/carb.rxsA7u/filter.28x28.png)\n",
      "2022-12-27 22:13:03 [83,999ms] [Warning] [carb.assets.plugin] Evicting asset type c1237a43d569db21 v0.1 orphaned asset 0x100000013 (/tmp/carb.rxsA7u/options.28x28.png)\n",
      "2022-12-27 22:13:03 [83,999ms] [Warning] [carb.assets.plugin] Evicting asset type c1237a43d569db21 v0.1 orphaned asset 0x100000014 (/tmp/carb.rxsA7u/eye_header.44x28.png)\n",
      "2022-12-27 22:13:03 [83,999ms] [Warning] [carb.assets.plugin] Evicting asset type c1237a43d569db21 v0.1 orphaned asset 0x100000015 (/tmp/carb.rxsA7u/options.28x32.png)\n",
      "2022-12-27 22:13:03 [83,999ms] [Warning] [carb.assets.plugin] Evicting asset type c1237a43d569db21 v0.1 orphaned asset 0x100000016 (/tmp/carb.rxsA7u/layers.36x36.png)\n",
      "2022-12-27 22:13:03 [83,999ms] [Warning] [carb.assets.plugin] Evicting asset type c1237a43d569db21 v0.1 orphaned asset 0x100000017 (/tmp/carb.rxsA7u/layer_save.28x28.png)\n",
      "2022-12-27 22:13:03 [83,999ms] [Warning] [carb.assets.plugin] Evicting asset type c1237a43d569db21 v0.1 orphaned asset 0x100000018 (/tmp/carb.rxsA7u/layers_switch_local.84x44.png)\n",
      "2022-12-27 22:13:03 [83,999ms] [Warning] [carb.assets.plugin] Evicting asset type c1237a43d569db21 v0.1 orphaned asset 0x100000019 (/tmp/carb.rxsA7u/layers_switch_global.84x44.png)\n",
      "2022-12-27 22:13:03 [83,999ms] [Warning] [carb.assets.plugin] Evicting asset type c1237a43d569db21 v0.1 orphaned asset 0x10000001a (/tmp/carb.rxsA7u/cloud.28x28.png)\n",
      "2022-12-27 22:13:03 [83,999ms] [Warning] [carb.assets.plugin] Evicting asset type c1237a43d569db21 v0.1 orphaned asset 0x10000001b (/tmp/carb.rxsA7u/drop_down.12x12.png)\n",
      "2022-12-27 22:13:03 [83,999ms] [Warning] [carb.assets.plugin] Evicting asset type c1237a43d569db21 v0.1 orphaned asset 0x10000001c (/tmp/carb.rxsA7u/external_link.52x52.png)\n",
      "2022-12-27 22:13:03 [83,999ms] [Warning] [carb.assets.plugin] Evicting asset type c1237a43d569db21 v0.1 orphaned asset 0x10000001d (/tmp/carb.rxsA7u/new_layer.52x52.png)\n",
      "2022-12-27 22:13:03 [83,999ms] [Warning] [carb.assets.plugin] Evicting asset type c1237a43d569db21 v0.1 orphaned asset 0x10000001e (/tmp/carb.rxsA7u/trash.44x44.png)\n",
      "2022-12-27 22:13:03 [83,999ms] [Warning] [carb.assets.plugin] Evicting asset type c1237a43d569db21 v0.1 orphaned asset 0x10000001f (/home/yizhou/.local/share/ov/pkg/isaac_sim-2022.1.1/kit/extsPhysics/omni.physx.ui-1.4.15-5.1/icons/physicsJoint/RevoluteJoint.png)\n",
      "2022-12-27 22:13:03 [84,000ms] [Warning] [carb.assets.plugin] Evicting asset type c1237a43d569db21 v0.1 orphaned asset 0x100000020 (/home/yizhou/.local/share/ov/pkg/isaac_sim-2022.1.1/kit/extsPhysics/omni.physx.ui-1.4.15-5.1/icons/physicsJoint/SphericalJoint.png)\n",
      "2022-12-27 22:13:03 [84,000ms] [Warning] [carb.assets.plugin] Evicting asset type c1237a43d569db21 v0.1 orphaned asset 0x100000021 (/home/yizhou/.local/share/ov/pkg/isaac_sim-2022.1.1/kit/extsPhysics/omni.physx.ui-1.4.15-5.1/icons/physicsJoint/DistanceJoint.png)\n",
      "2022-12-27 22:13:03 [84,001ms] [Warning] [carb.assets.plugin] Evicting asset type c1237a43d569db21 v0.1 orphaned asset 0x100000022 (/home/yizhou/.local/share/ov/pkg/isaac_sim-2022.1.1/kit/extsPhysics/omni.physx.ui-1.4.15-5.1/icons/physicsJoint/FixedJoint.png)\n",
      "2022-12-27 22:13:03 [84,001ms] [Warning] [carb.assets.plugin] Evicting asset type c1237a43d569db21 v0.1 orphaned asset 0x100000023 (/home/yizhou/.local/share/ov/pkg/isaac_sim-2022.1.1/kit/extsPhysics/omni.physx.ui-1.4.15-5.1/icons/physicsJoint/PrismaticJoint.png)\n",
      "2022-12-27 22:13:03 [84,001ms] [Warning] [carb.assets.plugin] Evicting asset type c1237a43d569db21 v0.1 orphaned asset 0x100000024 (/home/yizhou/.local/share/ov/pkg/isaac_sim-2022.1.1/kit/extsPhysics/omni.physx.ui-1.4.15-5.1/icons/physicsJoint/D6Joint.png)\n",
      "2022-12-27 22:13:03 [84,001ms] [Warning] [carb.assets.plugin] Evicting asset type c1237a43d569db21 v0.1 orphaned asset 0x100000025 (/home/yizhou/.local/share/ov/pkg/isaac_sim-2022.1.1/kit/extsPhysics/omni.physx.ui-1.4.15-5.1/icons/physicsJoint/GearJoint.png)\n",
      "2022-12-27 22:13:03 [84,001ms] [Warning] [carb.assets.plugin] Evicting asset type c1237a43d569db21 v0.1 orphaned asset 0x100000026 (/home/yizhou/.local/share/ov/pkg/isaac_sim-2022.1.1/kit/extsPhysics/omni.physx.ui-1.4.15-5.1/icons/physicsJoint/RackAndPinionJoint.png)\n",
      "2022-12-27 22:13:03 [84,001ms] [Warning] [carb.assets.plugin] Evicting asset type c1237a43d569db21 v0.1 orphaned asset 0x100000027 (/home/yizhou/.local/share/ov/pkg/isaac_sim-2022.1.1/kit/extsPhysics/omni.physx.ui-1.4.15-5.1/icons/physicsJoint/JJoint.png)\n",
      "2022-12-27 22:13:03 [84,001ms] [Warning] [carb.assets.plugin] Evicting asset type c1237a43d569db21 v0.1 orphaned asset 0x100000028 (/home/yizhou/.local/share/ov/pkg/isaac_sim-2022.1.1/kit/extsPhysics/omni.physx.ui-1.4.15-5.1/icons/physicsJoint/JointError.png)\n",
      "2022-12-27 22:13:03 [84,001ms] [Warning] [carb.assets.plugin] Evicting asset type c1237a43d569db21 v0.1 orphaned asset 0x100000029 (/home/yizhou/.local/share/ov/pkg/isaac_sim-2022.1.1/kit/resources/icons/lights/distant_light.png)\n",
      "2022-12-27 22:13:03 [84,001ms] [Warning] [carb.assets.plugin] Evicting asset type c1237a43d569db21 v0.1 orphaned asset 0x10000002a (/home/yizhou/.local/share/ov/pkg/isaac_sim-2022.1.1/kit/resources/icons/lights/rect_light.png)\n",
      "2022-12-27 22:13:03 [84,001ms] [Warning] [carb.assets.plugin] Evicting asset type c1237a43d569db21 v0.1 orphaned asset 0x10000002b (/home/yizhou/.local/share/ov/pkg/isaac_sim-2022.1.1/kit/resources/icons/lights/sphere_light.png)\n",
      "2022-12-27 22:13:03 [84,001ms] [Warning] [carb.assets.plugin] Evicting asset type c1237a43d569db21 v0.1 orphaned asset 0x10000002c (/home/yizhou/.local/share/ov/pkg/isaac_sim-2022.1.1/kit/resources/icons/lights/cylinder_light.png)\n",
      "2022-12-27 22:13:03 [84,001ms] [Warning] [carb.assets.plugin] Evicting asset type c1237a43d569db21 v0.1 orphaned asset 0x10000002d (/home/yizhou/.local/share/ov/pkg/isaac_sim-2022.1.1/kit/resources/icons/lights/disk_light.png)\n",
      "2022-12-27 22:13:03 [84,001ms] [Warning] [carb.assets.plugin] Evicting asset type c1237a43d569db21 v0.1 orphaned asset 0x10000002e (/home/yizhou/.local/share/ov/pkg/isaac_sim-2022.1.1/kit/resources/icons/lights/dome_light.png)\n",
      "2022-12-27 22:13:03 [84,001ms] [Warning] [carb.assets.plugin] Evicting asset type c1237a43d569db21 v0.1 orphaned asset 0x10000002f (/home/yizhou/.local/share/ov/pkg/isaac_sim-2022.1.1/kit/resources/icons/sounds/sound.png)\n",
      "2022-12-27 22:13:03 [84,001ms] [Warning] [carb.assets.plugin] Evicting asset type c1237a43d569db21 v0.1 orphaned asset 0x100000030 (/home/yizhou/.local/share/ov/pkg/isaac_sim-2022.1.1/kit/resources/icons/sounds/listener.png)\n",
      "2022-12-27 22:13:03 [84,001ms] [Warning] [carb.assets.plugin] Evicting asset type c1237a43d569db21 v0.1 orphaned asset 0x100000031 (/tmp/carb.rxsA7u/Prim.40x40.png)\n",
      "2022-12-27 22:13:03 [84,001ms] [Warning] [carb.assets.plugin] Evicting asset type c1237a43d569db21 v0.1 orphaned asset 0x100000032 (/tmp/carb.rxsA7u/Plus.20x20.png)\n",
      "2022-12-27 22:13:03 [84,001ms] [Warning] [carb.assets.plugin] Evicting asset type c1237a43d569db21 v0.1 orphaned asset 0x100000033 (/tmp/carb.rxsA7u/Xform.40x40.png)\n",
      "2022-12-27 22:13:03 [84,001ms] [Warning] [carb.assets.plugin] Evicting asset type c1237a43d569db21 v0.1 orphaned asset 0x100000034 (/tmp/carb.rxsA7u/layers.40x40.png)\n",
      "2022-12-27 22:13:03 [84,001ms] [Warning] [carb.assets.plugin] Evicting asset type c1237a43d569db21 v0.1 orphaned asset 0x100000035 (/tmp/carb.rxsA7u/layer_delta.24x24.png)\n",
      "2022-12-27 22:13:03 [84,001ms] [Warning] [carb.assets.plugin] Evicting asset type c1237a43d569db21 v0.1 orphaned asset 0x100000036 (/tmp/carb.rxsA7u/sensor_icon.52x28.png)\n",
      "2022-12-27 22:13:03 [84,002ms] [Warning] [carb.assets.plugin] Evicting asset type c1237a43d569db21 v0.1 orphaned asset 0x100000037 (/tmp/carb.rxsA7u/Minus.20x20.png)\n",
      "2022-12-27 22:13:03 [84,002ms] [Warning] [carb.assets.plugin] Evicting asset type c1237a43d569db21 v0.1 orphaned asset 0x100000038 (omniverse://127.0.0.1/NVIDIA/Materials/Base/Wood/Mahogany_Planks/Mahogany_Planks_ORM.png)\n",
      "2022-12-27 22:13:03 [84,002ms] [Warning] [carb.assets.plugin] Evicting asset type c1237a43d569db21 v0.1 orphaned asset 0x100000039 (omniverse://127.0.0.1/NVIDIA/Materials/Base/Wood/Mahogany_Planks/Mahogany_Planks_BaseColor.png)\n",
      "2022-12-27 22:13:03 [84,002ms] [Warning] [carb.assets.plugin] Evicting asset type c1237a43d569db21 v0.1 orphaned asset 0x10000003a (omniverse://127.0.0.1/NVIDIA/Materials/Base/Wood/Mahogany_Planks/Mahogany_Planks_N.png)\n",
      "2022-12-27 22:13:03 [84,002ms] [Warning] [carb.assets.plugin] Evicting asset type c1237a43d569db21 v0.1 orphaned asset 0x10000003b (omniverse://127.0.0.1/NVIDIA/Materials/Base/Wall_Board/Plaster/Plaster_ORM.png)\n",
      "2022-12-27 22:13:03 [84,002ms] [Warning] [carb.assets.plugin] Evicting asset type c1237a43d569db21 v0.1 orphaned asset 0x10000003c (omniverse://127.0.0.1/NVIDIA/Materials/Base/Wall_Board/Plaster/Plaster_BaseColor.png)\n",
      "2022-12-27 22:13:03 [84,002ms] [Warning] [carb.assets.plugin] Evicting asset type c1237a43d569db21 v0.1 orphaned asset 0x10000003d (omniverse://127.0.0.1/NVIDIA/Materials/Base/Wall_Board/Plaster/Plaster_N.png)\n",
      "2022-12-27 22:13:03 [84,002ms] [Warning] [carb.assets.plugin] Evicting asset type c1237a43d569db21 v0.1 orphaned asset 0x10000003f (/tmp/carb.rxsA7u/eye_on.32x28.png)\n",
      "2022-12-27 22:13:03 [84,002ms] [Warning] [carb.assets.plugin] Evicting asset type c1237a43d569db21 v0.1 orphaned asset 0x100000040 (/tmp/carb.rxsA7u/eye_off.32x28.png)\n",
      "2022-12-27 22:13:03 [84,002ms] [Warning] [carb.assets.plugin] Evicting asset type c1237a43d569db21 v0.1 orphaned asset 0x100000041 (/tmp/carb.rxsA7u/Light.40x40.png)\n",
      "2022-12-27 22:13:03 [84,002ms] [Warning] [carb.assets.plugin] Evicting asset type c1237a43d569db21 v0.1 orphaned asset 0x100000042 (/tmp/carb.rxsA7u/Reference.40x40.png)\n",
      "2022-12-27 22:13:03 [84,002ms] [Warning] [carb.assets.plugin] Evicting asset type c1237a43d569db21 v0.1 orphaned asset 0x100000043 (/tmp/carb.rxsA7u/Scope.40x40.png)\n",
      "2022-12-27 22:13:03 [84,002ms] [Warning] [carb.assets.plugin] Evicting asset type c1237a43d569db21 v0.1 orphaned asset 0x100000044 (/tmp/carb.rxsA7u/toolbar_stop.56x56.png)\n",
      "2022-12-27 22:13:03 [84,002ms] [Warning] [carb.assets.plugin] Evicting asset type c1237a43d569db21 v0.1 orphaned asset 0x100000045 (omniverse://127.0.0.1/NVIDIA/Materials/Base/Wall_Board/Cardboard/Cardboard_ORM.png)\n",
      "2022-12-27 22:13:03 [84,003ms] [Warning] [carb.assets.plugin] Evicting asset type c1237a43d569db21 v0.1 orphaned asset 0x100000046 (omniverse://127.0.0.1/NVIDIA/Materials/Base/Wall_Board/Cardboard/Cardboard_BaseColor.png)\n",
      "2022-12-27 22:13:03 [84,003ms] [Warning] [carb.assets.plugin] Evicting asset type c1237a43d569db21 v0.1 orphaned asset 0x100000047 (omniverse://127.0.0.1/NVIDIA/Materials/Base/Wall_Board/Cardboard/Cardboard_N.png)\n",
      "2022-12-27 22:13:03 [84,003ms] [Warning] [carb.assets.plugin] Evicting asset type c1237a43d569db21 v0.1 orphaned asset 0x100000048 (omniverse://127.0.0.1/NVIDIA/Materials/vMaterials_2/Wood/textures/beech_rough_detail.jpg)\n",
      "2022-12-27 22:13:03 [84,003ms] [Warning] [carb.assets.plugin] Evicting asset type c1237a43d569db21 v0.1 orphaned asset 0x100000049 (omniverse://127.0.0.1/NVIDIA/Materials/vMaterials_2/Wood/textures/beech_rough_grain.jpg)\n",
      "2022-12-27 22:13:03 [84,003ms] [Warning] [carb.assets.plugin] Evicting asset type c1237a43d569db21 v0.1 orphaned asset 0x10000004a (omniverse://127.0.0.1/NVIDIA/Materials/vMaterials_2/Wood/textures/brickbond_R_id_G_offs_B_rotation.png)\n",
      "2022-12-27 22:13:03 [84,003ms] [Warning] [carb.assets.plugin] Evicting asset type c1237a43d569db21 v0.1 orphaned asset 0x10000004b (omniverse://127.0.0.1/NVIDIA/Materials/vMaterials_2/Wood/textures/brickbond_norm.png)\n",
      "2022-12-27 22:13:03 [84,003ms] [Warning] [carb.assets.plugin] Evicting asset type c1237a43d569db21 v0.1 orphaned asset 0x10000004c (omniverse://127.0.0.1/NVIDIA/Materials/vMaterials_2/Wood/textures/beech_norm.jpg)\n",
      "2022-12-27 22:13:03 [84,003ms] [Warning] [carb.assets.plugin] Evicting asset type c1237a43d569db21 v0.1 orphaned asset 0x10000004d (omniverse://127.0.0.1/NVIDIA/Materials/vMaterials_2/Wood/textures/brickbond_R_edgewear_G_gaps_B_gaps_rough.jpg)\n",
      "2022-12-27 22:13:03 [84,003ms] [Warning] [carb.assets.plugin] Evicting asset type c1237a43d569db21 v0.1 orphaned asset 0x10000004e (omniverse://127.0.0.1/NVIDIA/Materials/vMaterials_2/Wood/textures/tiles_wood_R_rough_G_dents_B_spots.jpg)\n",
      "2022-12-27 22:13:03 [84,003ms] [Warning] [carb.assets.plugin] Evicting asset type c1237a43d569db21 v0.1 orphaned asset 0x10000004f (omniverse://127.0.0.1/NVIDIA/Materials/vMaterials_2/Wood/textures/beech_diff.jpg)\n",
      "2022-12-27 22:13:03 [84,003ms] [Warning] [carb.assets.plugin] Evicting asset type c1237a43d569db21 v0.1 orphaned asset 0x100000050 (omniverse://127.0.0.1/NVIDIA/Materials/vMaterials_2/Wood/textures/tiles_wood_orangepeel_norm.jpg)\n"
     ]
    },
    {
     "name": "stderr",
     "output_type": "stream",
     "text": [
      "2022-12-27 22:13:03 [84,015ms] [Error] [carb.graphics-vulkan.plugin] VkResult: ERROR_DEVICE_LOST\n",
      "2022-12-27 22:13:03 [84,015ms] [Error] [carb.graphics-vulkan.plugin] submitToQueueCommon failed.\n",
      "2022-12-27 22:13:03 [84,029ms] [Error] [carb.graphics-vulkan.plugin] VkResult: ERROR_DEVICE_LOST\n",
      "2022-12-27 22:13:03 [84,029ms] [Error] [carb.graphics-vulkan.plugin] submitToQueueCommon failed.\n"
     ]
    }
   ],
   "source": [
    "from render.helper import RenderHelper\n",
    "render = RenderHelper(task_type, side_choice)\n",
    "\n",
    "render.add_task_cameras()\n",
    "render.set_cameras()"
   ]
  },
  {
   "cell_type": "code",
   "execution_count": null,
   "id": "56d05f4a",
   "metadata": {
    "scrolled": true
   },
   "outputs": [],
   "source": [
    "pause"
   ]
  },
  {
   "cell_type": "markdown",
   "id": "69faba50",
   "metadata": {},
   "source": [
    "#  Learning"
   ]
  },
  {
   "cell_type": "code",
   "execution_count": null,
   "id": "958da617",
   "metadata": {},
   "outputs": [],
   "source": [
    "# replay buffer\n",
    "import json\n",
    "from learning.replay_buffer import ReplayBuffer\n",
    "from learning.config import *\n",
    "\n",
    "buffer = ReplayBuffer(max_size=2000)"
   ]
  },
  {
   "cell_type": "code",
   "execution_count": null,
   "id": "785c3dc5",
   "metadata": {},
   "outputs": [],
   "source": [
    "# from learning.network.resnet import ResNetFeatureExtractor\n",
    "\n",
    "# feature extraction\n",
    "from learning.utils import extract_image_clip_feature_and_save, obtain_action_from_trainer\n",
    "from transformers import CLIPProcessor, CLIPModel\n",
    "\n",
    "feature_model = CLIPModel.from_pretrained(\"openai/clip-vit-base-patch32\").to(device)\n",
    "feature_processor = CLIPProcessor.from_pretrained(\"openai/clip-vit-base-patch32\")"
   ]
  },
  {
   "cell_type": "code",
   "execution_count": null,
   "id": "a7314c94",
   "metadata": {},
   "outputs": [],
   "source": [
    "# trainer\n",
    "from learning.network.sac import *\n",
    "\n",
    "policy = Policy()\n",
    "\n",
    "qf1 = QFunction()\n",
    "qf2 = QFunction()\n",
    "target_qf1 = QFunction()\n",
    "target_qf2 = QFunction()\n",
    "\n",
    "from learning.sac_trainer import SACTrainer\n",
    "\n",
    "trainer = SACTrainer(policy, qf1, qf2, target_qf1, target_qf2, \n",
    "     use_automatic_entropy_tuning = False, \n",
    "     policy_lr=1e-3, \n",
    "     qf_lr=1e-3,\n",
    "     target_update_period = 5)"
   ]
  },
  {
   "cell_type": "markdown",
   "id": "a93eef8c",
   "metadata": {},
   "source": [
    "# Trajectory"
   ]
  },
  {
   "cell_type": "code",
   "execution_count": null,
   "id": "e28e6ec5",
   "metadata": {},
   "outputs": [],
   "source": [
    "use_network = True\n",
    "debug = True"
   ]
  },
  {
   "cell_type": "markdown",
   "id": "d5adcf7c",
   "metadata": {},
   "source": [
    "# Sampling"
   ]
  },
  {
   "cell_type": "code",
   "execution_count": null,
   "id": "2707b5f0",
   "metadata": {},
   "outputs": [],
   "source": [
    "total_traj = 0\n",
    "total_step = 0"
   ]
  },
  {
   "cell_type": "markdown",
   "id": "9e519cdb",
   "metadata": {},
   "source": [
    "---------------------"
   ]
  },
  {
   "cell_type": "code",
   "execution_count": null,
   "id": "d9049e66",
   "metadata": {
    "scrolled": true
   },
   "outputs": [],
   "source": [
    "# traj config\n",
    "for traj_id in range(1):\n",
    "    total_traj += 1\n",
    "    \n",
    "    # constant\n",
    "    base_asset_id = 0\n",
    "    env.scene.base_asset_id = base_asset_id\n",
    "    env.scene.traj_id = traj_id\n",
    "    image_folder = os.path.join(DATA_PATH, task_type, side_choice, str(traj_id))\n",
    "\n",
    "    # base\n",
    "    # scene.add_base_asset()\n",
    "    env.world.step(render = True)\n",
    "\n",
    "    # get images\n",
    "    env.world.render()\n",
    "    images = render.get_images()\n",
    "    render.save_rgb(images[0]['rgb'], image_folder, \"0\")\n",
    "    \n",
    "    ## extract feature\n",
    "    if use_network:\n",
    "        extract_image_clip_feature_and_save(f\"{image_folder}/{0}.png\", feature_model, feature_processor, \n",
    "            f\"{image_folder}/{0}.pt\",)\n",
    "    \n",
    "\n",
    "    # trajectory\n",
    "    for step in range(3):\n",
    "        total_step += 1\n",
    "        \n",
    "        # sample an object\n",
    "        env.add_scene_obj(mode = \"random\")\n",
    "        \n",
    "        # TODO: get action from sampling\n",
    "        if not use_network or total_traj < 10 or np.random.rand() < 0.2:\n",
    "            x, y = np.tanh(np.random.randn()), np.tanh(np.random.randn())\n",
    "        else:\n",
    "            image_feature_file = f\"{image_folder}/{step}.pt\"\n",
    "            \n",
    "            object_info = env.scene.objects[-1]\n",
    "            object_type = object_info[\"type\"]\n",
    "            obj_name = object_info[\"name\"][:-4]\n",
    "            object_feature_file = os.path.join(FEATURE_PATH, object_type, obj_name + \".pt\")\n",
    "            x, y = obtain_action_from_trainer(image_feature_file, object_feature_file, trainer, \n",
    "                                              scaler=np.exp(- total_traj / 100))\n",
    "            object_info[\"use_network\"] = True\n",
    "        \n",
    "        # load the object into the scene\n",
    "        env.put_last_object((x, y)) \n",
    "        env.world.step(render=True)\n",
    "        \n",
    "        # register the object to the world for physics update\n",
    "        env.register_last_object()\n",
    "        env.world.step(render=True)\n",
    "\n",
    "        # get images\n",
    "        env.world.render()\n",
    "        env.world.render()\n",
    "        env.world.step(render=True)\n",
    "        env.world.step(render=True)\n",
    "        images = render.get_images()\n",
    "        render.save_rgb(images[0]['rgb'], image_folder, str(step + 1))\n",
    "\n",
    "        ## calculate reward\n",
    "        env.calculate_last_reward(simulation_step = 30)\n",
    "        \n",
    "        ## extract feature\n",
    "        if use_network:\n",
    "            extract_image_clip_feature_and_save(f\"{image_folder}/{step + 1}.png\", feature_model, feature_processor, \n",
    "                f\"{image_folder}/{step + 1}.pt\",)\n",
    "    \n",
    "\n",
    "        ## reset\n",
    "        env.world.reset()\n",
    "        env.world.step(render=True)\n",
    "        \n",
    "        ## trainer nework\n",
    "        if use_network and total_step % UPDATE_TRAINER_STEPS == 0 and total_traj > 5:\n",
    "            batch = buffer.sample_batch(batch_size = BATCH_SIZE)\n",
    "            trainer.update(batch)\n",
    "            \n",
    "            if debug and total_step % 10 == 0:\n",
    "                rewards = batch['rewards'].to(device)\n",
    "                terminals = batch['terminals'].to(device)\n",
    "                obs = batch['observations'].to(device)\n",
    "                actions = batch['actions'].to(device)\n",
    "                next_obs = batch['next_observations'].to(device)\n",
    "                obj_features = batch['object_features'].to(device)\n",
    "                \n",
    "                dist = trainer.policy(obs, obj_features)\n",
    "                pred = trainer.qf1(obs, obj_features, actions)\n",
    "                print(f\"debug {total_traj}/{total_step}\", #\"\\n dist: \", dist.mean.flatten().tolist(), dist.stddev.flatten().tolist(),\n",
    "                      \"\\n pred:\", pred.flatten().tolist(),\n",
    "                      \"\\n rewards: \", rewards.flatten().tolist())\n",
    "\n",
    "\n",
    "    # Record\n",
    "    record = env.scene.get_scene_data()\n",
    "    env.scene.save_scene_data()\n",
    "    # print(\"record: \", record)\n",
    "    \n",
    "    # Add record to buffer\n",
    "    if use_network:\n",
    "        buffer.add_scene_sample(record)\n",
    "\n",
    "    # Reset (env clean)\n",
    "    env.clean(clean_all = False)\n",
    "    env.step(render = True)"
   ]
  },
  {
   "cell_type": "markdown",
   "id": "11155e93",
   "metadata": {},
   "source": [
    "# Debug"
   ]
  },
  {
   "cell_type": "code",
   "execution_count": null,
   "id": "a3c0bdec",
   "metadata": {},
   "outputs": [],
   "source": [
    "# get images\n",
    "env.world.render()\n",
    "env.world.render()\n",
    "images = render.get_images()\n",
    "\n",
    "Image.fromarray(images[0]['rgb'], \"RGBA\").resize((300, 300))"
   ]
  },
  {
   "cell_type": "markdown",
   "id": "94100d2d",
   "metadata": {},
   "source": [
    "## Debug Reward"
   ]
  },
  {
   "cell_type": "code",
   "execution_count": null,
   "id": "a5482f06",
   "metadata": {},
   "outputs": [],
   "source": [
    "traj_id = 0\n",
    "# constant\n",
    "base_asset_id = 0\n",
    "env.scene.base_asset_id = base_asset_id\n",
    "env.scene.traj_id = traj_id\n",
    "image_folder = os.path.join(DATA_PATH, task_type, side_choice, str(traj_id))\n",
    "\n",
    "# base\n",
    "# scene.add_base_asset()\n",
    "env.world.step(render = True)\n",
    "\n",
    "# get images\n",
    "env.world.render()\n",
    "images = render.get_images()\n",
    "render.save_rgb(images[0]['rgb'], image_folder, \"0\")"
   ]
  },
  {
   "cell_type": "code",
   "execution_count": null,
   "id": "a27e8389",
   "metadata": {
    "scrolled": true
   },
   "outputs": [],
   "source": [
    "# sample an object\n",
    "env.add_scene_obj(mode = \"random\")\n",
    "\n",
    "x, y = np.tanh(np.random.randn()), np.tanh(np.random.randn())\n",
    "\n",
    "# load the object into the scene\n",
    "env.put_last_object((x, y)) \n",
    "env.world.step(render=True)\n",
    "\n",
    "# register the object to the world for physics update\n",
    "env.register_last_object()\n",
    "env.world.step(render=True)\n",
    "\n",
    "# get images\n",
    "env.world.render()\n",
    "env.world.render()\n",
    "env.world.step(render=True)\n",
    "env.world.step(render=True)\n",
    "images = render.get_images()\n",
    "# render.save_rgb(images[0]['rgb'], image_folder, str(step + 1))\n",
    "\n",
    "## calculate reward\n",
    "env.calculate_last_reward(simulation_step = 30)"
   ]
  },
  {
   "cell_type": "code",
   "execution_count": null,
   "id": "44056dea",
   "metadata": {},
   "outputs": [],
   "source": [
    "env.get_last_object_box()"
   ]
  },
  {
   "cell_type": "code",
   "execution_count": null,
   "id": "8122c3cf",
   "metadata": {
    "scrolled": true
   },
   "outputs": [],
   "source": [
    "env.scene.objects[-1]"
   ]
  },
  {
   "cell_type": "code",
   "execution_count": null,
   "id": "91e0ad36",
   "metadata": {},
   "outputs": [],
   "source": [
    "rewarder.reward_collision(env.scene.objects)"
   ]
  },
  {
   "cell_type": "code",
   "execution_count": null,
   "id": "7fc6937d",
   "metadata": {},
   "outputs": [],
   "source": []
  },
  {
   "cell_type": "markdown",
   "id": "9d3687f5",
   "metadata": {},
   "source": [
    "##  Debug Training"
   ]
  },
  {
   "cell_type": "code",
   "execution_count": null,
   "id": "a8d01e0a",
   "metadata": {},
   "outputs": [],
   "source": [
    "import json\n",
    "from learning.replay_buffer import ReplayBuffer\n",
    "\n",
    "buffer = ReplayBuffer(max_size=1000)\n",
    "\n",
    "for i in range(100):\n",
    "    replay = json.load(open(f\"{DATA_PATH}/{task_type}/{side_choice}/{i}/scene.json\"))\n",
    "    buffer.add_scene_sample(replay)"
   ]
  },
  {
   "cell_type": "code",
   "execution_count": null,
   "id": "bec87318",
   "metadata": {
    "scrolled": true
   },
   "outputs": [],
   "source": [
    "len(buffer.dataset)"
   ]
  },
  {
   "cell_type": "code",
   "execution_count": null,
   "id": "63777cf1",
   "metadata": {},
   "outputs": [],
   "source": [
    "# trainer\n",
    "from learning.network.sac import *\n",
    "\n",
    "policy = Policy()\n",
    "\n",
    "qf1 = QFunction()\n",
    "qf2 = QFunction()\n",
    "\n",
    "target_qf1 = QFunction()\n",
    "target_qf1.eval()\n",
    "\n",
    "target_qf2 = QFunction()\n",
    "target_qf2.eval()\n",
    "\n",
    "from learning.sac_trainer import SACTrainer\n",
    "\n",
    "trainer = SACTrainer(policy, qf1, qf2, target_qf1, target_qf2, \n",
    "     use_automatic_entropy_tuning = True, \n",
    "     policy_lr=1e-3, \n",
    "     qf_lr=1e-3,\n",
    "     target_update_period = 5)"
   ]
  },
  {
   "cell_type": "code",
   "execution_count": null,
   "id": "0acc75a9",
   "metadata": {},
   "outputs": [],
   "source": [
    "self = trainer"
   ]
  },
  {
   "cell_type": "code",
   "execution_count": null,
   "id": "be95f838",
   "metadata": {
    "scrolled": true
   },
   "outputs": [],
   "source": [
    "for _ in range(500):\n",
    "    batch = buffer.sample_batch(batch_size=6)\n",
    "\n",
    "    rewards = batch['rewards'].to(device)\n",
    "    terminals = batch['terminals'].to(device)\n",
    "    obs = batch['observations'].to(device)\n",
    "    actions = batch['actions'].to(device)\n",
    "    next_obs = batch['next_observations'].to(device)\n",
    "\n",
    "    obj_features = batch['object_features'].to(device)\n",
    "\n",
    "    # print(\"rewards\", rewards)\n",
    "\n",
    "    self.update(batch)\n",
    "    \n",
    "    if _ % 10 == 0:\n",
    "        dist = self.policy(obs, obj_features)\n",
    "        pred = self.qf1(obs, obj_features, actions)\n",
    "        print(_, \"\\n dist   : \", [round(x, 3) for x in dist.mean.flatten().tolist()], \n",
    "                  [round(x, 3) for x in dist.stddev.flatten().tolist()],\n",
    "              \"\\n pred   :\", [round(x, 3) for x in pred.flatten().tolist()],\n",
    "              \"\\n rewards: \", [round(x, 3) for x in rewards.flatten().tolist()])\n",
    "    \n",
    "#     # debug\n",
    "#     pred = self.qf1(obs, obj_features, actions)\n",
    "#     loss = self.qf_criterion(pred, rewards)\n",
    "    \n",
    "#     self.qf1_optimizer.zero_grad()\n",
    "#     loss.backward()\n",
    "#     self.qf1_optimizer.step()\n",
    "    \n",
    "#     if _ % 20 == 0:\n",
    "#         print(_, \"\\n debug loss: \", loss.item(), \"\\n pred:\", \n",
    "#               pred.flatten().tolist(), \"\\n rewards: \", rewards.flatten().tolist())"
   ]
  },
  {
   "cell_type": "code",
   "execution_count": null,
   "id": "148bf0bc",
   "metadata": {},
   "outputs": [],
   "source": []
  }
 ],
 "metadata": {
  "kernelspec": {
   "display_name": "Isaac Sim Python 3",
   "language": "python",
   "name": "isaac_sim_python3"
  },
  "language_info": {
   "codemirror_mode": {
    "name": "ipython",
    "version": 3
   },
   "file_extension": ".py",
   "mimetype": "text/x-python",
   "name": "python",
   "nbconvert_exporter": "python",
   "pygments_lexer": "ipython3",
   "version": "3.7.13"
  }
 },
 "nbformat": 4,
 "nbformat_minor": 5
}
