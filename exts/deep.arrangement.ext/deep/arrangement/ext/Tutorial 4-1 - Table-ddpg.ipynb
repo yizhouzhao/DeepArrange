{
 "cells": [
  {
   "cell_type": "markdown",
   "id": "a4e7074e",
   "metadata": {},
   "source": [
    "# Start Simulation"
   ]
  },
  {
   "cell_type": "code",
   "execution_count": 1,
   "id": "b033b39a",
   "metadata": {},
   "outputs": [],
   "source": [
    "# env.clean(clean_all=True)"
   ]
  },
  {
   "cell_type": "code",
   "execution_count": 2,
   "id": "3fe18b05",
   "metadata": {},
   "outputs": [],
   "source": [
    "import random\n",
    "import numpy as np\n",
    "import os\n",
    "import time\n",
    "from PIL import Image\n",
    "\n",
    "import torch\n",
    "torch.__version__\n",
    "device = torch.device(\"cuda\")"
   ]
  },
  {
   "cell_type": "code",
   "execution_count": 3,
   "id": "0137c535",
   "metadata": {},
   "outputs": [
    {
     "name": "stdout",
     "output_type": "stream",
     "text": [
      "yizhou\n"
     ]
    }
   ],
   "source": [
    "import getpass\n",
    "user = getpass.getuser()\n",
    "print(user)"
   ]
  },
  {
   "cell_type": "code",
   "execution_count": 4,
   "id": "b9d56ea3",
   "metadata": {},
   "outputs": [],
   "source": [
    "usd_path = f\"omniverse://localhost/Users/{user}/UVA/uva_table.usd\""
   ]
  },
  {
   "cell_type": "code",
   "execution_count": 5,
   "id": "d7e8d7fe",
   "metadata": {
    "scrolled": true
   },
   "outputs": [
    {
     "name": "stdout",
     "output_type": "stream",
     "text": [
      "Starting kit application with the fillowing args:  ['/home/yizhou/.local/share/ov/pkg/isaac_sim-2022.1.1/exts/omni.isaac.kit/omni/isaac/kit/simulation_app.py', '/home/yizhou/.local/share/ov/pkg/isaac_sim-2022.1.1/apps/omni.isaac.sim.python.kit', '--/app/tokens/exe-path=/home/yizhou/.local/share/ov/pkg/isaac_sim-2022.1.1/kit', '--/persistent/app/viewport/displayOptions=3094', '--/rtx/materialDb/syncLoads=True', '--/rtx/hydra/materialSyncLoads=True--/omni.kit.plugin/syncUsdLoads=True', '--/app/renderer/resolution/width=1280', '--/app/renderer/resolution/height=720', '--/app/window/width=1440', '--/app/window/height=900', '--/renderer/multiGpu/enabled=True', '--ext-folder', '/home/yizhou/.local/share/ov/pkg/isaac_sim-2022.1.1/exts', '--ext-folder', '/home/yizhou/.local/share/ov/pkg/isaac_sim-2022.1.1/apps', '--/physics/cudaDevice=0', '--portable', '--no-window']\n",
      "Passing the following args to the base kit application:  ['-f', '/home/yizhou/.local/share/jupyter/runtime/kernel-5857fc03-af4b-4137-8613-687a5279c2fc.json']\n",
      "[Warning] [omni.kit.app.plugin] No crash reporter present, dumps uploading isn't available.\n",
      "[Info] [carb] Logging to file: /home/yizhou/.local/share/ov/pkg/isaac_sim-2022.1.1/kit/logs/Kit/Isaac-Sim/2022.1/kit_20230106_115508.log\n",
      "2023-01-06 19:55:08 [3ms] [Warning] [omni.ext.plugin] [ext: omni.drivesim.sensors.nv.lidar] Extensions config 'extension.toml' doesn't exist '/home/yizhou/.local/share/ov/pkg/isaac_sim-2022.1.1/exts/omni.drivesim.sensors.nv.lidar' or '/home/yizhou/.local/share/ov/pkg/isaac_sim-2022.1.1/exts/omni.drivesim.sensors.nv.lidar/config'\n",
      "[0.092s] [ext: omni.stats-0.0.0] startup\n",
      "[0.137s] [ext: omni.gpu_foundation-0.0.0] startup\n",
      "2023-01-06 19:55:08 [136ms] [Warning] [carb] FrameworkImpl::setDefaultPlugin(client: omni.gpu_foundation_factory.plugin, desc : [carb::graphics::Graphics v2.5], plugin : carb.graphics-vulkan.plugin) failed. Plugin selection is locked, because the interface was previously acquired by: \n",
      "[0.145s] [ext: carb.windowing.plugins-1.0.0] startup\n",
      "[0.154s] [ext: omni.assets.plugins-0.0.0] startup\n",
      "[0.155s] [ext: omni.kit.renderer.init-0.0.0] startup\n",
      "\n",
      "|---------------------------------------------------------------------------------------------|\n",
      "| Driver Version: 510.108.3     | Graphics API: Vulkan\n",
      "|=============================================================================================|\n",
      "| GPU | Name                             | Active | LDA | GPU Memory | Vendor-ID | LUID       |\n",
      "|     |                                  |        |     |            | Device-ID | UUID       |\n",
      "|---------------------------------------------------------------------------------------------|\n",
      "| 0   | NVIDIA GeForce RTX 3090          | Yes: 0 |     | 24822   MB | 10de      | 0          |\n",
      "|     |                                  |        |     |            | 2204      | 3f50dd6e.. |\n",
      "|=============================================================================================|\n",
      "| OS: Linux yizhou-Z370-AORUS-Gaming-5, Version: 5.15.0-56-generic\n",
      "| Processor: Intel(R) Core(TM) i7-8700K CPU @ 3.70GHz | Cores: Unknown | Logical: 12\n",
      "|---------------------------------------------------------------------------------------------|\n",
      "| Total Memory (MB): 32044 | Free Memory: 24993\n",
      "| Total Page/Swap (MB): 2047 | Free Page/Swap: 2047\n",
      "|---------------------------------------------------------------------------------------------|\n",
      "2023-01-06 19:55:08 [952ms] [Warning] [carb.cudainterop.plugin] On Linux only, CUDA and the display driver does not support IOMMU-enabled bare-metal PCIe peer to peer memory copy.\n",
      "However, CUDA and the display driver does support IOMMU via VM pass through. As a consequence, users on Linux,\n",
      "when running on a native bare metal system, should disable the IOMMU. The IOMMU should be enabled and the VFIO driver\n",
      "be used as a PCIe pass through for virtual machines.\n",
      "[0.974s] [ext: omni.kit.pipapi-0.0.0] startup\n",
      "[0.984s] [ext: omni.kit.pip_archive-0.0.0] startup\n",
      "[0.989s] [ext: omni.isaac.core_archive-1.2.0] startup\n",
      "[1.010s] [ext: omni.usd.config-1.0.0] startup\n",
      "[1.012s] [ext: omni.usd.libs-1.0.0] startup\n",
      "[1.163s] [ext: omni.kit.pip_torch-1_11_0-0.1.3] startup\n",
      "[1.189s] [ext: omni.isaac.ml_archive-1.1.0] startup\n",
      "[1.259s] [ext: omni.kit.loop-isaac-0.1.0] startup\n",
      "[1.260s] [ext: omni.kit.async_engine-0.0.0] startup\n",
      "[1.262s] [ext: omni.appwindow-1.0.0] startup\n",
      "[1.267s] [ext: omni.client-0.1.0] startup\n",
      "[1.279s] [ext: omni.kit.test-0.0.0] startup\n",
      "[1.280s] [ext: omni.kit.renderer.core-0.0.0] startup\n",
      "[1.355s] [ext: omni.ui-2.10.3] startup\n",
      "[1.380s] [ext: carb.audio-0.1.0] startup\n",
      "[1.402s] [ext: omni.kit.mainwindow-0.0.0] startup\n",
      "[1.404s] [ext: omni.uiaudio-1.0.0] startup\n",
      "[1.406s] [ext: omni.kit.uiapp-0.0.0] startup\n",
      "[1.406s] [ext: omni.usd.schema.physics-1.0.0] startup\n",
      "[1.449s] [ext: omni.usd.schema.audio-0.0.0] startup\n",
      "[1.456s] [ext: omni.usd.schema.semantics-0.0.0] startup\n",
      "[1.467s] [ext: omni.usd.schema.omnigraph-1.0.0] startup\n",
      "[1.476s] [ext: omni.usd.schema.anim-0.0.0] startup\n",
      "[1.517s] [ext: omni.kit.commands-1.2.2] startup\n",
      "[1.522s] [ext: omni.timeline-1.0.2] startup\n",
      "[1.525s] [ext: omni.hydra.scene_delegate-0.2.0] startup\n",
      "[1.532s] [ext: omni.kit.audiodeviceenum-1.0.0] startup\n",
      "[1.534s] [ext: omni.usd-1.5.3] startup\n",
      "[1.594s] [ext: omni.kit.asset_converter-1.2.31] startup\n",
      "[1.611s] [ext: omni.usd.schema.physx-0.0.0] startup\n",
      "[1.688s] [ext: omni.usd.schema.isaac-0.2.0] startup\n",
      "[1.731s] [ext: omni.usd.schema.forcefield-0.0.0] startup\n",
      "[1.739s] [ext: omni.kvdb-0.0.0] startup\n",
      "[1.743s] [ext: omni.usdphysics-1.4.15] startup\n",
      "[1.746s] [ext: omni.graph.tools-1.4.0] startup\n",
      "[1.769s] [ext: omni.localcache-0.0.0] startup\n",
      "[1.772s] [ext: omni.kit.stage_templates-1.1.2] startup\n",
      "[1.773s] [ext: omni.convexdecomposition-1.4.15] startup\n",
      "[1.776s] [ext: omni.physics.tensors-0.1.0] startup\n",
      "[1.785s] [ext: omni.physx-1.4.15-5.1] startup\n",
      "[1.831s] [ext: omni.graph.core-2.29.1] startup\n",
      "[1.849s] [ext: omni.kit.menu.utils-1.2.11] startup\n",
      "[1.866s] [ext: omni.physx.tensors-0.1.0] startup\n",
      "[1.873s] [ext: omni.graph-1.23.0] startup\n",
      "[1.939s] [ext: omni.kit.numpy.common-0.1.0] startup\n",
      "[1.942s] [ext: omni.kit.window.script_editor-1.6.2] startup\n",
      "[1.961s] [ext: omni.kit.search_core-1.0.2] startup\n",
      "[1.963s] [ext: omni.isaac.dynamic_control-1.1.0] startup\n",
      "[1.973s] [ext: omni.kit.renderer.capture-0.0.0] startup\n",
      "[1.976s] [ext: omni.kit.widget.filebrowser-2.2.27] startup\n",
      "[1.984s] [ext: omni.kit.widget.path_field-2.0.3] startup\n",
      "[1.986s] [ext: omni.kit.notification_manager-1.0.5] startup\n",
      "[1.988s] [ext: omni.kit.widget.versioning-1.3.8] startup\n",
      "[1.990s] [ext: omni.kit.widget.browser_bar-2.0.3] startup\n",
      "[1.992s] [ext: omni.kit.window.popup_dialog-2.0.8] startup\n",
      "[1.995s] [ext: omni.mdl.neuraylib-0.1.0] startup\n",
      "[1.999s] [ext: omni.kit.window.filepicker-2.4.30] startup\n"
     ]
    },
    {
     "name": "stderr",
     "output_type": "stream",
     "text": [
      "OmniAssetFileFormat\n"
     ]
    },
    {
     "name": "stdout",
     "output_type": "stream",
     "text": [
      "Warp initialized:\n",
      "   Version: 0.2.2\n",
      "   CUDA device: NVIDIA GeForce RTX 3090\n",
      "   Kernel cache: /home/yizhou/.cache/warp/0.2.2\n",
      "[2.054s] [ext: omni.kit.menu.create-1.0.2] startup\n",
      "[2.055s] [ext: omni.mdl-0.1.0] startup\n",
      "[2.076s] [ext: omni.kit.window.file_importer-1.0.4] startup\n",
      "[2.077s] [ext: omni.kit.window.file_exporter-1.0.4] startup\n",
      "[2.078s] [ext: omni.kit.material.library-1.3.10] startup\n",
      "[2.081s] [ext: omni.kit.window.drop_support-1.0.0] startup\n",
      "[2.081s] [ext: omni.kit.window.file-1.3.16] startup\n",
      "[2.084s] [ext: omni.kit.context_menu-1.3.9] startup\n",
      "[2.087s] [ext: omni.kit.window.property-1.6.3] startup\n",
      "[2.088s] [ext: omni.kit.window.content_browser-2.4.28] startup\n",
      "[2.100s] [ext: omni.kit.widget.stage-2.6.15] startup\n",
      "[2.104s] [ext: omni.isaac.version-1.0.0] startup\n",
      "[2.105s] [ext: omni.kit.property.usd-3.14.9] startup\n",
      "[2.149s] [ext: omni.kit.viewport.legacy_gizmos-1.0.0] startup\n",
      "[2.156s] [ext: omni.hydra.rtx-0.1.0] startup\n",
      "[2.167s] [ext: omni.renderer-rtx-0.0.0] startup\n",
      "[2.168s] [ext: omni.hydra.engine.stats-1.0.0] startup\n",
      "[2.175s] [ext: omni.debugdraw-0.1.0] startup\n",
      "[2.181s] [ext: omni.kit.widget.settings-1.0.0] startup\n",
      "[2.183s] [ext: omni.kit.window.viewport-0.0.0] startup\n",
      "[6.624s] [ext: omni.kit.widget.prompt-1.0.1] startup\n",
      "[6.625s] [ext: omni.kit.widget.graph-1.4.3] startup\n",
      "[6.683s] [ext: omni.kit.window.preferences-1.2.1] startup\n",
      "[6.718s] [ext: omni.ui_query-1.1.1] startup\n",
      "[6.720s] [ext: omni.graph.ui-1.6.1] startup\n",
      "[6.746s] [ext: omni.kit.ui_test-1.2.2] startup\n",
      "[6.749s] [ext: omni.graph.action-1.18.0] startup\n",
      "[6.762s] [ext: omni.kit.widget.searchfield-1.0.6] startup\n",
      "[6.763s] [ext: omni.kit.usd_undo-0.1.0] startup\n",
      "[6.767s] [ext: omni.graph.scriptnode-0.5.0] startup\n",
      "[6.769s] [ext: omni.physx.commands-1.4.15-5.1] startup\n",
      "[6.777s] [ext: omni.graph.nodes-1.26.0] startup\n",
      "[6.793s] [ext: omni.command.usd-1.0.1] startup\n",
      "[6.796s] [ext: omni.kit.window.extensions-1.1.0] startup\n",
      "[6.803s] [ext: omni.syntheticdata-0.2.1] startup\n",
      "[6.829s] [ext: omni.kit.primitive.mesh-1.0.0] startup\n",
      "[6.836s] [ext: omni.warp-0.2.2] startup\n",
      "[6.962s] [ext: omni.isaac.ui-0.2.1] startup\n",
      "[6.964s] [ext: omni.replicator.core-1.4.3] startup\n",
      "[7.166s] [ext: omni.isaac.core-1.24.3] startup\n",
      "[7.251s] [ext: omni.physx.ui-1.4.15-5.1] startup\n",
      "[7.333s] [ext: omni.kit.property.material-1.8.5] startup\n",
      "[7.336s] [ext: omni.kit.window.toolbar-1.2.4] startup\n",
      "[7.341s] [ext: omni.isaac.core_nodes-0.13.0] startup\n",
      "[7.353s] [ext: omni.physx.demos-1.4.15-5.1] startup\n",
      "[7.355s] [ext: omni.kit.property.physx-0.1.0] startup\n",
      "2023-01-06 19:55:15 [7,431ms] [Warning] [omni.physx.plugin] Deprecated: getSimulationEventStream is deprecated, please use getSimulationEventStreamV2\n",
      "[7.443s] [ext: omni.physx.tests-1.4.15-5.1] startup\n",
      "[7.690s] [ext: omni.isaac.wheeled_robots-0.5.8] startup\n",
      "[7.700s] [ext: omni.kit.menu.common-1.0.0] startup\n",
      "[7.702s] [ext: omni.physx.vehicle-1.4.15-5.1] startup\n",
      "[7.713s] [ext: omni.physx.cct-1.4.15-5.1] startup\n",
      "[7.784s] [ext: omni.physx.camera-1.4.15-5.1] startup\n",
      "[7.791s] [ext: omni.kit.widget.stage_icons-1.0.2] startup\n",
      "[7.793s] [ext: omni.ui.scene-1.5.0] startup\n",
      "[7.803s] [ext: omni.physx.bundle-1.4.15-5.1] startup\n",
      "[7.804s] [ext: omni.kit.window.stage-2.3.7] startup\n",
      "[7.806s] [ext: omni.replicator.composer-1.1.3] startup\n",
      "[7.821s] [ext: omni.isaac.lula-1.1.0] startup\n",
      "[7.830s] [ext: omni.rtx.window.settings-0.6.1] startup\n",
      "[7.835s] [ext: omni.isaac.surface_gripper-0.1.2] startup\n",
      "[7.840s] [ext: omni.isaac.motion_planning-0.2.0] startup\n",
      "[7.848s] [ext: omni.rtx.settings.core-0.5.5] startup\n",
      "[7.852s] [ext: omni.isaac.manipulators-1.0.1] startup\n",
      "[7.854s] [ext: omni.isaac.motion_generation-3.6.1] startup\n",
      "[7.859s] [ext: omni.kit.widget.zoombar-1.0.3] startup\n",
      "[7.860s] [ext: omni.kit.graph.delegate.default-1.0.15] startup\n",
      "[7.862s] [ext: omni.isaac.franka-0.3.0] startup\n",
      "[7.863s] [ext: omni.kit.browser.core-2.0.12] startup\n",
      "[7.867s] [ext: omni.kit.graph.editor.core-1.3.3] startup\n",
      "[7.869s] [ext: omni.kit.graph.usd.commands-1.1.0] startup\n",
      "[7.870s] [ext: omni.kit.browser.folder.core-1.1.13] startup\n",
      "[7.873s] [ext: omni.kit.graph.widget.variables-2.0.2] startup\n",
      "[7.874s] [ext: omni.kit.graph.delegate.modern-1.6.0] startup\n",
      "[7.875s] [ext: omni.kit.selection-0.1.0] startup\n",
      "[7.876s] [ext: omni.isaac.debug_draw-0.Opening usd file at  omniverse://localhost/Users/yizhou/UVA/uva_table.usd  ...Done.\n",
      "Saving a temp livesync stage at  omniverse://localhost/Users/yizhou/UVA/uva_table.usd  ...Done.\n"
     ]
    }
   ],
   "source": [
    "from omni.isaac.kit import SimulationApp    \n",
    "simulation_app = SimulationApp({\"headless\": True, \"open_usd\": usd_path,  \"livesync_usd\": usd_path}) "
   ]
  },
  {
   "cell_type": "code",
   "execution_count": 6,
   "id": "3e0e266e",
   "metadata": {},
   "outputs": [],
   "source": [
    "# set log level\n",
    "import logging\n",
    "import carb\n",
    "\n",
    "logging.getLogger(\"omni.hydra\").setLevel(logging.ERROR)\n",
    "logging.getLogger(\"omni.isaac.urdf\").setLevel(logging.ERROR)\n",
    "logging.getLogger(\"omni.physx.plugin\").setLevel(logging.ERROR)\n",
    "\n",
    "logging.getLogger(\"omni.isaac.synthetic_utils\").setLevel(logging.ERROR)\n",
    "logging.getLogger(\"omni.isaac.synthetic_utils.syntheticdata\").setLevel(logging.ERROR)\n",
    "logging.getLogger(\"omni.hydra.scene_delegate.plugin\").setLevel(logging.ERROR)\n",
    "\n",
    "\n",
    "l = carb.logging.LEVEL_ERROR\n",
    "carb.settings.get_settings().set(\"/log/level\", l)\n",
    "carb.settings.get_settings().set(\"/log/fileLogLevel\", l)\n",
    "carb.settings.get_settings().set(\"/log/outputStreamLevel\", l)\n",
    "\n",
    "# # This logged error is printed as it should\n",
    "# carb.log_error(\"ERROR\")\n",
    "# # This warning is printed but should not\n",
    "# carb.log_warn(\"WARNING\")"
   ]
  },
  {
   "cell_type": "markdown",
   "id": "be34671d",
   "metadata": {},
   "source": [
    "# Config"
   ]
  },
  {
   "cell_type": "code",
   "execution_count": 7,
   "id": "491f4078",
   "metadata": {},
   "outputs": [],
   "source": [
    "from task.config import DATA_PATH, FEATURE_PATH\n",
    "task_type = \"Table\"\n",
    "side_choice = \"Border\"\n",
    "base_asset_id = 0\n",
    "load_nucleus = True"
   ]
  },
  {
   "cell_type": "code",
   "execution_count": 8,
   "id": "eadd32bf",
   "metadata": {},
   "outputs": [
    {
     "ename": "NameError",
     "evalue": "name 'pause' is not defined",
     "output_type": "error",
     "traceback": [
      "\u001b[0;31m---------------------------------------------------------------------------\u001b[0m",
      "\u001b[0;31mNameError\u001b[0m                                 Traceback (most recent call last)",
      "\u001b[0;32m/tmp/ipykernel_29849/1188747208.py\u001b[0m in \u001b[0;36m<module>\u001b[0;34m\u001b[0m\n\u001b[0;32m----> 1\u001b[0;31m \u001b[0mpause\u001b[0m\u001b[0;34m\u001b[0m\u001b[0;34m\u001b[0m\u001b[0m\n\u001b[0m",
      "\u001b[0;31mNameError\u001b[0m: name 'pause' is not defined"
     ]
    }
   ],
   "source": [
    "pause"
   ]
  },
  {
   "cell_type": "markdown",
   "id": "7475ee6a",
   "metadata": {},
   "source": [
    "# Init Env"
   ]
  },
  {
   "cell_type": "code",
   "execution_count": null,
   "id": "9a6fd193",
   "metadata": {},
   "outputs": [],
   "source": [
    "from uva_env import UvaEnv\n",
    "env = UvaEnv()"
   ]
  },
  {
   "cell_type": "code",
   "execution_count": null,
   "id": "d3e665fe",
   "metadata": {},
   "outputs": [],
   "source": [
    "from task.utils import add_scene_default\n",
    "add_scene_default()"
   ]
  },
  {
   "cell_type": "code",
   "execution_count": null,
   "id": "4c55eb32",
   "metadata": {
    "scrolled": true
   },
   "outputs": [],
   "source": [
    "print(list(env.stage.TraverseAll()))"
   ]
  },
  {
   "cell_type": "code",
   "execution_count": null,
   "id": "feaeb7d0",
   "metadata": {},
   "outputs": [],
   "source": [
    "env.clean()\n",
    "env.world.step(render=True)"
   ]
  },
  {
   "cell_type": "markdown",
   "id": "d3c365e3",
   "metadata": {},
   "source": [
    "# Scene"
   ]
  },
  {
   "cell_type": "code",
   "execution_count": null,
   "id": "19d7b119",
   "metadata": {},
   "outputs": [],
   "source": [
    "from task.scene import ArrangeScene\n",
    "scene = ArrangeScene(task_type, side_choice, base_asset_id = 0, traj_id = 0, load_nucleus = load_nucleus)\n",
    "env.scene = scene"
   ]
  },
  {
   "cell_type": "code",
   "execution_count": null,
   "id": "fae909b6",
   "metadata": {},
   "outputs": [],
   "source": [
    "# add base\n",
    "scene.add_base_asset()"
   ]
  },
  {
   "cell_type": "code",
   "execution_count": null,
   "id": "a7e1de8b",
   "metadata": {},
   "outputs": [],
   "source": [
    "# add room\n",
    "scene.add_room()"
   ]
  },
  {
   "cell_type": "code",
   "execution_count": null,
   "id": "99481529",
   "metadata": {},
   "outputs": [],
   "source": [
    "env.world.step(render=True)"
   ]
  },
  {
   "cell_type": "code",
   "execution_count": null,
   "id": "ed33c985",
   "metadata": {},
   "outputs": [],
   "source": [
    "# randomize scene\n",
    "from layout.randomizer import Randomizer\n",
    "randomizer = Randomizer(load_nucleus = load_nucleus)"
   ]
  },
  {
   "cell_type": "markdown",
   "id": "bfd24034",
   "metadata": {},
   "source": [
    "# Reward"
   ]
  },
  {
   "cell_type": "code",
   "execution_count": null,
   "id": "b81a65bf",
   "metadata": {},
   "outputs": [],
   "source": [
    "from uv.reward import Rewarder"
   ]
  },
  {
   "cell_type": "code",
   "execution_count": null,
   "id": "35761844",
   "metadata": {},
   "outputs": [],
   "source": [
    "rewarder = Rewarder(env.world)\n",
    "env.rewarder = rewarder"
   ]
  },
  {
   "cell_type": "markdown",
   "id": "27c8bada",
   "metadata": {},
   "source": [
    "# Render"
   ]
  },
  {
   "cell_type": "code",
   "execution_count": null,
   "id": "fba7340e",
   "metadata": {},
   "outputs": [],
   "source": [
    "from render.helper import RenderHelper\n",
    "render = RenderHelper(task_type, side_choice)\n",
    "\n",
    "render.add_task_cameras(camera_type=\"main\")\n",
    "render.add_task_cameras(camera_type=\"side\")\n",
    "render.set_cameras()"
   ]
  },
  {
   "cell_type": "code",
   "execution_count": null,
   "id": "90e5eb3c",
   "metadata": {},
   "outputs": [],
   "source": [
    "render.camera_paths"
   ]
  },
  {
   "cell_type": "code",
   "execution_count": null,
   "id": "56d05f4a",
   "metadata": {
    "scrolled": true
   },
   "outputs": [],
   "source": [
    "pause"
   ]
  },
  {
   "cell_type": "markdown",
   "id": "69faba50",
   "metadata": {},
   "source": [
    "#  Learning"
   ]
  },
  {
   "cell_type": "code",
   "execution_count": null,
   "id": "785c3dc5",
   "metadata": {},
   "outputs": [],
   "source": [
    "# from learning.network.resnet import ResNetFeatureExtractor\n",
    "\n",
    "# feature extraction\n",
    "from learning.utils import extract_image_clip_feature_and_save, obtain_action_from_trainer\n",
    "from transformers import CLIPProcessor, CLIPModel\n",
    "\n",
    "feature_model = CLIPModel.from_pretrained(\"openai/clip-vit-base-patch32\").to(device)\n",
    "feature_processor = CLIPProcessor.from_pretrained(\"openai/clip-vit-base-patch32\")\n",
    "\n",
    "# replay buffer\n",
    "import json\n",
    "from learning.replay_buffer import ReplayBuffer\n",
    "from learning.config import *\n",
    "\n",
    "buffer = ReplayBuffer(max_size=2000)\n",
    "\n",
    "# trainer\n",
    "from learning.network.sac import *\n",
    "\n",
    "policy = Policy()\n",
    "\n",
    "qf1 = QFunction()\n",
    "qf2 = QFunction()\n",
    "target_qf1 = QFunction()\n",
    "target_qf2 = QFunction()\n",
    "\n",
    "from learning.sac_trainer import SACTrainer\n",
    "from learning.ddpg_trainer import ddpg_trainer\n",
    "\n",
    "trainer = SACTrainer(policy, qf1, qf2, target_qf1, target_qf2, \n",
    "     use_automatic_entropy_tuning = False, \n",
    "     policy_lr=1e-3, \n",
    "     qf_lr=1e-3,\n",
    "     target_update_period = 5)"
   ]
  },
  {
   "cell_type": "code",
   "execution_count": null,
   "id": "aecb08ce",
   "metadata": {},
   "outputs": [],
   "source": []
  },
  {
   "cell_type": "markdown",
   "id": "a93eef8c",
   "metadata": {},
   "source": [
    "# Trajectory"
   ]
  },
  {
   "cell_type": "code",
   "execution_count": null,
   "id": "e28e6ec5",
   "metadata": {},
   "outputs": [],
   "source": [
    "use_network = True\n",
    "debug = True"
   ]
  },
  {
   "cell_type": "code",
   "execution_count": null,
   "id": "2707b5f0",
   "metadata": {},
   "outputs": [],
   "source": [
    "total_traj = 0\n",
    "total_step = 0"
   ]
  },
  {
   "cell_type": "markdown",
   "id": "33335313",
   "metadata": {},
   "source": [
    "---------------------"
   ]
  },
  {
   "cell_type": "code",
   "execution_count": null,
   "id": "d9049e66",
   "metadata": {
    "scrolled": true
   },
   "outputs": [],
   "source": [
    "# traj config\n",
    "for traj_id in range(1):\n",
    "    print(\"total_traj: \", total_traj)\n",
    "    env.scene.traj_id = traj_id\n",
    "    \n",
    "    # base\n",
    "    if total_traj % 5 == 0:\n",
    "        asset_count = len(env.scene.base_asset_file_paths)\n",
    "        base_asset_id = random.choice([_ for _ in range(asset_count)])\n",
    "        env.scene.base_asset_id = base_asset_id    \n",
    "        env.clean(clean_base = True, clean_all = False)\n",
    "        scene.add_base_asset()\n",
    "        \n",
    "        # randomize scene\n",
    "        randomizer.randomize_house(rand = True)\n",
    "        \n",
    "    image_folder = os.path.join(DATA_PATH, task_type, side_choice, str(traj_id))\n",
    "    \n",
    "    env.world.step(render = True)\n",
    "    env.world.step(render = True)\n",
    "\n",
    "    # get images\n",
    "    env.world.render()\n",
    "    images = render.get_images()\n",
    "    render.save_rgb(images[0]['rgb'], image_folder, \"0\")\n",
    "    render.save_rgb(images[1]['rgb'], image_folder, \"0_side\")\n",
    "    \n",
    "    ## extract feature\n",
    "    \n",
    "#     extract_image_feature_and_save(images[0]['rgb'][:,:,:3], \n",
    "#         feature_extractor, os.path.join(image_folder, str(0) + \".pt\"))\n",
    "    if use_network:\n",
    "        extract_image_clip_feature_and_save(f\"{image_folder}/{0}.png\", feature_model, feature_processor, \n",
    "            f\"{image_folder}/{0}.pt\",)\n",
    "    \n",
    "\n",
    "    # trajectory\n",
    "    for step in range(5):\n",
    "        total_step += 1\n",
    "        \n",
    "        # sample an object\n",
    "        env.add_scene_obj(mode = \"random\")\n",
    "        \n",
    "        # TODO: get action from sampling\n",
    "        if not use_network or total_traj < 10 or np.random.rand() < 0.2:\n",
    "            x, y = np.tanh(np.random.randn()), np.tanh(np.random.randn())\n",
    "        else:\n",
    "            image_feature_file = f\"{image_folder}/{step}.pt\"\n",
    "            \n",
    "            object_info = env.scene.objects[-1]\n",
    "            object_type = object_info[\"type\"]\n",
    "            obj_name = object_info[\"name\"][:-4]\n",
    "            object_feature_file = os.path.join(FEATURE_PATH, object_type, obj_name + \".pt\")\n",
    "            x, y = obtain_action_from_trainer(image_feature_file, object_feature_file, trainer, \n",
    "                                              scaler=np.exp(- total_traj / 100))\n",
    "            object_info[\"use_network\"] = True\n",
    "        \n",
    "        # load the object into the scene\n",
    "        env.put_last_object((x, y)) \n",
    "        env.world.step(render=True)\n",
    "        \n",
    "        # register the object to the world for physics update\n",
    "        env.register_last_object()\n",
    "        env.world.step(render=True)\n",
    "\n",
    "        # get images\n",
    "        env.world.render()\n",
    "        images = render.get_images()\n",
    "        render.save_rgb(images[0]['rgb'], image_folder, str(step + 1))\n",
    "        render.save_rgb(images[1]['rgb'], image_folder, f\"{step + 1}_side\")\n",
    "\n",
    "        ## calculate reward\n",
    "        env.calculate_last_reward(simulation_step = 30)\n",
    "        \n",
    "        ## extract feature\n",
    "#         extract_image_feature_and_save(images[0]['rgb'][:,:,:3], \n",
    "#             feature_extractor, os.path.join(image_folder, str(step + 1) + \".pt\"))\n",
    "        if use_network:\n",
    "            extract_image_clip_feature_and_save(f\"{image_folder}/{step + 1}.png\", feature_model, feature_processor, \n",
    "                f\"{image_folder}/{step + 1}.pt\",)\n",
    "    \n",
    "\n",
    "        ## reset\n",
    "        env.world.reset()\n",
    "        env.world.step(render=True)\n",
    "        \n",
    "        ## trainer nework\n",
    "        if use_network and total_step % UPDATE_TRAINER_STEPS == 0 and total_traj > 5:\n",
    "            batch = buffer.sample_batch(batch_size = BATCH_SIZE)\n",
    "            trainer.update(batch)\n",
    "            \n",
    "            if debug and total_step % 10 == 0:\n",
    "                rewards = batch['rewards'].to(device)\n",
    "                terminals = batch['terminals'].to(device)\n",
    "                obs = batch['observations'].to(device)\n",
    "                actions = batch['actions'].to(device)\n",
    "                next_obs = batch['next_observations'].to(device)\n",
    "                obj_features = batch['object_features'].to(device)\n",
    "                \n",
    "                dist = trainer.policy(obs, obj_features)\n",
    "                pred = trainer.qf1(obs, obj_features, actions)\n",
    "                print(f\"debug {total_traj}/{total_step}\", #\"\\n dist: \", dist.mean.flatten().tolist(), dist.stddev.flatten().tolist(),\n",
    "                      \"\\n pred:\", pred.flatten().tolist(),\n",
    "                      \"\\n rewards: \", rewards.flatten().tolist())\n",
    "\n",
    "\n",
    "    # Record\n",
    "    record = env.scene.get_scene_data()\n",
    "    env.scene.save_scene_data()\n",
    "    # print(\"record: \", record)\n",
    "    \n",
    "    # Add record to buffer\n",
    "    if use_network:\n",
    "        buffer.add_scene_sample(record)\n",
    "\n",
    "    # Reset (env clean)\n",
    "    env.clean(clean_all = False)\n",
    "    env.step(render = True)\n",
    "    total_traj += 1"
   ]
  },
  {
   "cell_type": "markdown",
   "id": "11155e93",
   "metadata": {},
   "source": [
    "# Debug"
   ]
  },
  {
   "cell_type": "code",
   "execution_count": null,
   "id": "de607bcf",
   "metadata": {},
   "outputs": [],
   "source": [
    "env.clean(clean_base = True, clean_all = False)"
   ]
  },
  {
   "cell_type": "code",
   "execution_count": null,
   "id": "a3c0bdec",
   "metadata": {},
   "outputs": [],
   "source": [
    "# get images\n",
    "env.world.render()\n",
    "env.world.render()\n",
    "images = render.get_images()\n",
    "\n",
    "Image.fromarray(images[0]['rgb'], \"RGBA\").resize((300, 300))"
   ]
  },
  {
   "cell_type": "markdown",
   "id": "9d3687f5",
   "metadata": {},
   "source": [
    "##  Debug Training"
   ]
  },
  {
   "cell_type": "code",
   "execution_count": 9,
   "id": "a8d01e0a",
   "metadata": {},
   "outputs": [],
   "source": [
    "import json\n",
    "from learning.replay_buffer import ReplayBuffer\n",
    "\n",
    "buffer = ReplayBuffer(max_size=1000)\n",
    "\n",
    "for i in range(1):\n",
    "    replay = json.load(open(f\"{DATA_PATH}/{task_type}/{side_choice}/{i}/scene.json\"))\n",
    "    buffer.add_scene_sample(replay)"
   ]
  },
  {
   "cell_type": "code",
   "execution_count": 10,
   "id": "bec87318",
   "metadata": {
    "scrolled": true
   },
   "outputs": [
    {
     "data": {
      "text/plain": [
       "5"
      ]
     },
     "execution_count": 10,
     "metadata": {},
     "output_type": "execute_result"
    }
   ],
   "source": [
    "len(buffer.dataset)"
   ]
  },
  {
   "cell_type": "code",
   "execution_count": 11,
   "id": "ad7cefec",
   "metadata": {},
   "outputs": [],
   "source": [
    "model_type = \"ddpg\""
   ]
  },
  {
   "cell_type": "code",
   "execution_count": 12,
   "id": "63777cf1",
   "metadata": {},
   "outputs": [],
   "source": [
    "if model_type == \"sac\":\n",
    "    # trainer\n",
    "    from learning.network.sac import *\n",
    "\n",
    "    policy = Policy()\n",
    "    target_policy = Policy()\n",
    "\n",
    "    qf1 = QFunction()\n",
    "    qf2 = QFunction()\n",
    "\n",
    "    target_qf1 = QFunction()\n",
    "    target_qf1.eval()\n",
    "\n",
    "    target_qf2 = QFunction()\n",
    "    target_qf2.eval()\n",
    "\n",
    "    from learning.sac_trainer import SACTrainer\n",
    "\n",
    "    trainer = SACTrainer(policy, qf1, qf2, target_qf1, target_qf2, \n",
    "         use_automatic_entropy_tuning = True, \n",
    "         policy_lr=1e-3, \n",
    "         qf_lr=1e-3,\n",
    "         target_update_period = 5)\n",
    "\n",
    "else: # ddpg\n",
    "    # trainer\n",
    "    from learning.network.ddpg import *\n",
    "\n",
    "    policy = Policy()\n",
    "    target_policy = Policy()\n",
    "\n",
    "    qf1 = QFunction()\n",
    "    target_qf1 = QFunction()\n",
    "    target_qf1.eval()\n",
    "\n",
    "    from learning.ddpg_trainer import DDPGTrainer\n",
    "    \n",
    "    trainer = DDPGTrainer(qf1, target_qf1, policy, target_policy,\n",
    "     policy_learning_rate=1e-3,\n",
    "     qf_learning_rate=1e-3\n",
    "    )"
   ]
  },
  {
   "cell_type": "code",
   "execution_count": 13,
   "id": "0acc75a9",
   "metadata": {},
   "outputs": [],
   "source": [
    "self = trainer"
   ]
  },
  {
   "cell_type": "code",
   "execution_count": 14,
   "id": "d55a39b2",
   "metadata": {},
   "outputs": [
    {
     "ename": "NameError",
     "evalue": "name 'obs' is not defined",
     "output_type": "error",
     "traceback": [
      "\u001b[0;31m---------------------------------------------------------------------------\u001b[0m",
      "\u001b[0;31mNameError\u001b[0m                                 Traceback (most recent call last)",
      "\u001b[0;32m/tmp/ipykernel_29849/2421804853.py\u001b[0m in \u001b[0;36m<module>\u001b[0;34m\u001b[0m\n\u001b[0;32m----> 1\u001b[0;31m \u001b[0mself\u001b[0m\u001b[0;34m.\u001b[0m\u001b[0mpolicy\u001b[0m\u001b[0;34m(\u001b[0m\u001b[0mobs\u001b[0m\u001b[0;34m,\u001b[0m \u001b[0mobj_features\u001b[0m\u001b[0;34m)\u001b[0m\u001b[0;34m\u001b[0m\u001b[0;34m\u001b[0m\u001b[0m\n\u001b[0m",
      "\u001b[0;31mNameError\u001b[0m: name 'obs' is not defined"
     ]
    }
   ],
   "source": [
    "self.policy(obs, obj_features)"
   ]
  },
  {
   "cell_type": "code",
   "execution_count": 21,
   "id": "be95f838",
   "metadata": {
    "scrolled": true
   },
   "outputs": [
    {
     "name": "stdout",
     "output_type": "stream",
     "text": [
      "0 \n",
      " mean   :  [0.221, 0.825, 0.265, 0.786, 0.25, 0.799, 0.3, 0.696] \n",
      " pred   : [-0.766, -0.734, 0.261, 0.942] \n",
      " rewards:  [-0.431, -0.431, 0.301, 0.959]\n",
      "10 \n",
      " mean   :  [0.009, 0.997, 0.002, 1.0, 0.001, 1.0, 0.002, 1.0] \n",
      " pred   : [0.68, -0.472, -0.453, 0.164] \n",
      " rewards:  [0.959, -0.431, -0.431, 0.301]\n",
      "20 \n",
      " mean   :  [0.0, 1.0, 0.0, 1.0, 0.0, 1.0, 0.0, 1.0] \n",
      " pred   : [-0.455, 0.265, -0.432, 0.354] \n",
      " rewards:  [-0.431, 0.301, -0.431, 0.373]\n",
      "30 \n",
      " mean   :  [0.0, 1.0, 0.0, 1.0, 0.0, 1.0, 0.0, 1.0] \n",
      " pred   : [0.475, 0.673, 1.311, -0.158] \n",
      " rewards:  [0.301, 0.373, 0.959, -0.431]\n",
      "40 \n",
      " mean   :  [0.0, 1.0, 0.0, 1.0, 0.0, 1.0, 0.0, 1.0] \n",
      " pred   : [-0.147, 1.515, 0.645, 0.839] \n",
      " rewards:  [-0.431, 0.959, 0.301, 0.373]\n",
      "50 \n",
      " mean   :  [0.0, 1.0, 0.0, 1.0, 0.0, 1.0, 0.0, 1.0] \n",
      " pred   : [1.838, 0.053, 0.352, 1.117] \n",
      " rewards:  [0.959, -0.431, -0.431, 0.373]\n",
      "60 \n",
      " mean   :  [0.0, 1.0, 0.0, 1.0, 0.0, 1.0, 0.0, 1.0] \n",
      " pred   : [1.056, 2.133, 0.589, 0.281] \n",
      " rewards:  [0.301, 0.959, -0.431, -0.431]\n",
      "70 \n",
      " mean   :  [0.0, 1.0, 0.0, 1.0, 0.0, 1.0, 0.0, 1.0] \n",
      " pred   : [0.913, 1.32, 2.478, 0.481] \n",
      " rewards:  [-0.431, 0.301, 0.959, -0.431]\n",
      "80 \n",
      " mean   :  [0.0, 1.0, 0.0, 1.0, 0.0, 1.0, 0.0, 1.0] \n",
      " pred   : [1.211, 2.788, 2.015, 0.698] \n",
      " rewards:  [-0.431, 0.959, 0.373, -0.431]\n",
      "90 \n",
      " mean   :  [0.0, 1.0, 0.0, 1.0, 0.0, 1.0, 0.0, 1.0] \n",
      " pred   : [1.516, 2.296, 3.09, 1.778] \n",
      " rewards:  [-0.431, 0.373, 0.959, 0.301]\n"
     ]
    }
   ],
   "source": [
    "for _ in range(100):\n",
    "    batch = buffer.sample_batch(batch_size=4)\n",
    "\n",
    "    rewards = batch['rewards'].to(device)\n",
    "    terminals = batch['terminals'].to(device)\n",
    "    obs = batch['observations'].to(device)\n",
    "    actions = batch['actions'].to(device)\n",
    "    next_obs = batch['next_observations'].to(device)\n",
    "\n",
    "    obj_features = batch['object_features'].to(device)\n",
    "\n",
    "    # print(\"rewards\", rewards)\n",
    "\n",
    "    self.update(batch)\n",
    "    \n",
    "    if _ % 10 == 0:\n",
    "        dist = self.policy(obs, obj_features)\n",
    "        pred = self.qf(obs, obj_features, actions)\n",
    "        print(_, \"\\n mean   : \", [round(x, 3) for x in dist.flatten().tolist()], \n",
    "              \"\\n pred   :\", [round(x, 3) for x in pred.flatten().tolist()],\n",
    "              \"\\n rewards: \", [round(x, 3) for x in rewards.flatten().tolist()])\n",
    "    \n",
    "#     # debug\n",
    "#     pred = self.qf1(obs, obj_features, actions)\n",
    "#     loss = self.qf_criterion(pred, rewards)\n",
    "    \n",
    "#     self.qf1_optimizer.zero_grad()\n",
    "#     loss.backward()\n",
    "#     self.qf1_optimizer.step()\n",
    "    \n",
    "#     if _ % 20 == 0:\n",
    "#         print(_, \"\\n debug loss: \", loss.item(), \"\\n pred:\", \n",
    "#               pred.flatten().tolist(), \"\\n rewards: \", rewards.flatten().tolist())"
   ]
  },
  {
   "cell_type": "code",
   "execution_count": null,
   "id": "59102e50",
   "metadata": {},
   "outputs": [],
   "source": [
    "dist = self.policy(obs, obj_features)"
   ]
  },
  {
   "cell_type": "code",
   "execution_count": null,
   "id": "aa6fffc0",
   "metadata": {},
   "outputs": [],
   "source": [
    "dist = self.policy(obs.to(device), obj_features.to(device))"
   ]
  },
  {
   "cell_type": "code",
   "execution_count": null,
   "id": "a4b6e1a4",
   "metadata": {},
   "outputs": [],
   "source": [
    "dist.normal_mean, dist.stddev"
   ]
  },
  {
   "cell_type": "code",
   "execution_count": null,
   "id": "55fdb9ba",
   "metadata": {},
   "outputs": [],
   "source": [
    "dist.sample(scaler = 0.2)"
   ]
  },
  {
   "cell_type": "code",
   "execution_count": null,
   "id": "6fa47896",
   "metadata": {},
   "outputs": [],
   "source": [
    "self = dist"
   ]
  },
  {
   "cell_type": "code",
   "execution_count": null,
   "id": "edef1bac",
   "metadata": {},
   "outputs": [],
   "source": [
    "scaler = 0.1"
   ]
  },
  {
   "cell_type": "code",
   "execution_count": null,
   "id": "f79d7bc0",
   "metadata": {},
   "outputs": [],
   "source": [
    "self.normal_mean + scaler * self.normal_std * MultivariateDiagonalNormal(\n",
    "    torch.zeros(self.normal_mean.size()).to(self.device),\n",
    "    torch.ones(self.normal_std.size()).to(self.device)\n",
    ").sample()"
   ]
  },
  {
   "cell_type": "markdown",
   "id": "8b9643df",
   "metadata": {},
   "source": [
    "# distribution"
   ]
  },
  {
   "cell_type": "code",
   "execution_count": null,
   "id": "be282f66",
   "metadata": {},
   "outputs": [],
   "source": [
    "from learning.distributions import MultivariateDiagonalNormal"
   ]
  },
  {
   "cell_type": "code",
   "execution_count": null,
   "id": "baba459b",
   "metadata": {},
   "outputs": [],
   "source": [
    "dist = JustNormal(dist.mean, dist.stddev)"
   ]
  },
  {
   "cell_type": "code",
   "execution_count": null,
   "id": "4e95ab7d",
   "metadata": {},
   "outputs": [],
   "source": [
    "dist.rsample_and_logprob()"
   ]
  },
  {
   "cell_type": "code",
   "execution_count": null,
   "id": "148bf0bc",
   "metadata": {},
   "outputs": [],
   "source": []
  }
 ],
 "metadata": {
  "kernelspec": {
   "display_name": "Isaac Sim Python 3",
   "language": "python",
   "name": "isaac_sim_python3"
  },
  "language_info": {
   "codemirror_mode": {
    "name": "ipython",
    "version": 3
   },
   "file_extension": ".py",
   "mimetype": "text/x-python",
   "name": "python",
   "nbconvert_exporter": "python",
   "pygments_lexer": "ipython3",
   "version": "3.7.13"
  }
 },
 "nbformat": 4,
 "nbformat_minor": 5
}
