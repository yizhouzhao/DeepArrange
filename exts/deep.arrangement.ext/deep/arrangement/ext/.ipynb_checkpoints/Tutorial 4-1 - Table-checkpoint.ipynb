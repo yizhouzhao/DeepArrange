{
 "cells": [
  {
   "cell_type": "markdown",
   "id": "a4e7074e",
   "metadata": {},
   "source": [
    "# Start Simulation"
   ]
  },
  {
   "cell_type": "code",
   "execution_count": 1,
   "id": "04e2c736",
   "metadata": {},
   "outputs": [],
   "source": [
    "# env.clean(clean_all=True)"
   ]
  },
  {
   "cell_type": "code",
   "execution_count": 2,
   "id": "3fe18b05",
   "metadata": {},
   "outputs": [],
   "source": [
    "import random\n",
    "import numpy as np\n",
    "import os\n",
    "import time\n",
    "from PIL import Image\n",
    "\n",
    "import torch\n",
    "torch.__version__\n",
    "device = torch.device(\"cuda\")"
   ]
  },
  {
   "cell_type": "code",
   "execution_count": 3,
   "id": "0137c535",
   "metadata": {},
   "outputs": [
    {
     "name": "stdout",
     "output_type": "stream",
     "text": [
      "yizhou\n"
     ]
    }
   ],
   "source": [
    "import getpass\n",
    "user = getpass.getuser()\n",
    "print(user)"
   ]
  },
  {
   "cell_type": "code",
   "execution_count": 4,
   "id": "b9d56ea3",
   "metadata": {},
   "outputs": [],
   "source": [
    "usd_path = f\"omniverse://localhost/Users/{user}/uva_table.usd\""
   ]
  },
  {
   "cell_type": "code",
   "execution_count": 5,
   "id": "d7e8d7fe",
   "metadata": {
    "scrolled": true
   },
   "outputs": [
    {
     "name": "stdout",
     "output_type": "stream",
     "text": [
      "Starting kit application with the fillowing args:  ['/home/yizhou/.local/share/ov/pkg/isaac_sim-2022.1.1/exts/omni.isaac.kit/omni/isaac/kit/simulation_app.py', '/home/yizhou/.local/share/ov/pkg/isaac_sim-2022.1.1/apps/omni.isaac.sim.python.kit', '--/app/tokens/exe-path=/home/yizhou/.local/share/ov/pkg/isaac_sim-2022.1.1/kit', '--/persistent/app/viewport/displayOptions=3094', '--/rtx/materialDb/syncLoads=True', '--/rtx/hydra/materialSyncLoads=True--/omni.kit.plugin/syncUsdLoads=True', '--/app/renderer/resolution/width=1280', '--/app/renderer/resolution/height=720', '--/app/window/width=1440', '--/app/window/height=900', '--/renderer/multiGpu/enabled=True', '--ext-folder', '/home/yizhou/.local/share/ov/pkg/isaac_sim-2022.1.1/exts', '--ext-folder', '/home/yizhou/.local/share/ov/pkg/isaac_sim-2022.1.1/apps', '--/physics/cudaDevice=0', '--portable', '--no-window']\n",
      "Passing the following args to the base kit application:  ['-f', '/home/yizhou/.local/share/jupyter/runtime/kernel-8b00a494-404b-4c39-b594-5b6f162fdea1.json']\n",
      "[Warning] [omni.kit.app.plugin] No crash reporter present, dumps uploading isn't available.\n",
      "[Info] [carb] Logging to file: /home/yizhou/.local/share/ov/pkg/isaac_sim-2022.1.1/kit/logs/Kit/Isaac-Sim/2022.1/kit_20230101_202256.log\n",
      "2023-01-02 04:22:56 [4ms] [Warning] [omni.ext.plugin] [ext: omni.drivesim.sensors.nv.lidar] Extensions config 'extension.toml' doesn't exist '/home/yizhou/.local/share/ov/pkg/isaac_sim-2022.1.1/exts/omni.drivesim.sensors.nv.lidar' or '/home/yizhou/.local/share/ov/pkg/isaac_sim-2022.1.1/exts/omni.drivesim.sensors.nv.lidar/config'\n",
      "[0.082s] [ext: omni.stats-0.0.0] startup\n",
      "[0.128s] [ext: omni.gpu_foundation-0.0.0] startup\n",
      "2023-01-02 04:22:56 [133ms] [Warning] [carb] FrameworkImpl::setDefaultPlugin(client: omni.gpu_foundation_factory.plugin, desc : [carb::graphics::Graphics v2.5], plugin : carb.graphics-vulkan.plugin) failed. Plugin selection is locked, because the interface was previously acquired by: \n",
      "[0.146s] [ext: carb.windowing.plugins-1.0.0] startup\n",
      "[0.158s] [ext: omni.assets.plugins-0.0.0] startup\n",
      "[0.160s] [ext: omni.kit.renderer.init-0.0.0] startup\n",
      "\n",
      "|---------------------------------------------------------------------------------------------|\n",
      "| Driver Version: 510.108.3     | Graphics API: Vulkan\n",
      "|=============================================================================================|\n",
      "| GPU | Name                             | Active | LDA | GPU Memory | Vendor-ID | LUID       |\n",
      "|     |                                  |        |     |            | Device-ID | UUID       |\n",
      "|---------------------------------------------------------------------------------------------|\n",
      "| 0   | NVIDIA GeForce RTX 3090          | Yes: 0 |     | 24822   MB | 10de      | 0          |\n",
      "|     |                                  |        |     |            | 2204      | 3f50dd6e.. |\n",
      "|=============================================================================================|\n",
      "| OS: Linux yizhou-Z370-AORUS-Gaming-5, Version: 5.15.0-56-generic\n",
      "| Processor: Intel(R) Core(TM) i7-8700K CPU @ 3.70GHz | Cores: Unknown | Logical: 12\n",
      "|---------------------------------------------------------------------------------------------|\n",
      "| Total Memory (MB): 32044 | Free Memory: 27574\n",
      "| Total Page/Swap (MB): 2047 | Free Page/Swap: 2047\n",
      "|---------------------------------------------------------------------------------------------|\n",
      "2023-01-02 04:22:57 [984ms] [Warning] [carb.cudainterop.plugin] On Linux only, CUDA and the display driver does not support IOMMU-enabled bare-metal PCIe peer to peer memory copy.\n",
      "However, CUDA and the display driver does support IOMMU via VM pass through. As a consequence, users on Linux,\n",
      "when running on a native bare metal system, should disable the IOMMU. The IOMMU should be enabled and the VFIO driver\n",
      "be used as a PCIe pass through for virtual machines.\n",
      "[1.008s] [ext: omni.kit.pipapi-0.0.0] startup\n",
      "[1.020s] [ext: omni.kit.pip_archive-0.0.0] startup\n",
      "[1.024s] [ext: omni.isaac.core_archive-1.2.0] startup\n",
      "[1.046s] [ext: omni.usd.config-1.0.0] startup\n",
      "[1.048s] [ext: omni.usd.libs-1.0.0] startup\n",
      "[1.255s] [ext: omni.kit.pip_torch-1_11_0-0.1.3] startup\n",
      "[1.287s] [ext: omni.isaac.ml_archive-1.1.0] startup\n",
      "[1.419s] [ext: omni.kit.loop-isaac-0.1.0] startup\n",
      "[1.420s] [ext: omni.kit.async_engine-0.0.0] startup\n",
      "[1.422s] [ext: omni.appwindow-1.0.0] startup\n",
      "[1.425s] [ext: omni.client-0.1.0] startup\n",
      "[1.449s] [ext: omni.kit.test-0.0.0] startup\n",
      "[1.450s] [ext: omni.kit.renderer.core-0.0.0] startup\n",
      "[1.549s] [ext: omni.ui-2.10.3] startup\n",
      "[1.569s] [ext: carb.audio-0.1.0] startup\n",
      "[1.590s] [ext: omni.kit.mainwindow-0.0.0] startup\n",
      "[1.592s] [ext: omni.uiaudio-1.0.0] startup\n",
      "[1.594s] [ext: omni.kit.uiapp-0.0.0] startup\n",
      "[1.594s] [ext: omni.usd.schema.physics-1.0.0] startup\n",
      "[1.666s] [ext: omni.usd.schema.audio-0.0.0] startup\n",
      "[1.679s] [ext: omni.usd.schema.semantics-0.0.0] startup\n",
      "[1.697s] [ext: omni.usd.schema.omnigraph-1.0.0] startup\n",
      "[1.707s] [ext: omni.usd.schema.anim-0.0.0] startup\n",
      "[1.753s] [ext: omni.kit.commands-1.2.2] startup\n",
      "[1.760s] [ext: omni.timeline-1.0.2] startup\n",
      "[1.762s] [ext: omni.hydra.scene_delegate-0.2.0] startup\n",
      "[1.774s] [ext: omni.kit.audiodeviceenum-1.0.0] startup\n",
      "[1.776s] [ext: omni.usd-1.5.3] startup\n",
      "[1.861s] [ext: omni.kit.asset_converter-1.2.31] startup\n",
      "[1.890s] [ext: omni.usd.schema.physx-0.0.0] startup\n",
      "[1.965s] [ext: omni.usd.schema.isaac-0.2.0] startup\n",
      "[2.016s] [ext: omni.usd.schema.forcefield-0.0.0] startup\n",
      "[2.026s] [ext: omni.kvdb-0.0.0] startup\n",
      "[2.032s] [ext: omni.usdphysics-1.4.15] startup\n",
      "[2.035s] [ext: omni.graph.tools-1.4.0] startup\n",
      "[2.065s] [ext: omni.localcache-0.0.0] startup\n",
      "[2.069s] [ext: omni.kit.stage_templates-1.1.2] startup\n",
      "[2.071s] [ext: omni.convexdecomposition-1.4.15] startup\n",
      "[2.075s] [ext: omni.physics.tensors-0.1.0] startup\n",
      "[2.084s] [ext: omni.physx-1.4.15-5.1] startup\n",
      "[2.116s] [ext: omni.graph.core-2.29.1] startup\n",
      "[2.133s] [ext: omni.kit.menu.utils-1.2.11] startup\n",
      "[2.155s] [ext: omni.physx.tensors-0.1.0] startup\n",
      "[2.173s] [ext: omni.graph-1.23.0] startup\n",
      "[2.235s] [ext: omni.kit.numpy.common-0.1.0] startup\n",
      "[2.240s] [ext: omni.kit.window.script_editor-1.6.2] startup\n",
      "[2.258s] [ext: omni.kit.search_core-1.0.2] startup\n",
      "[2.262s] [ext: omni.isaac.dynamic_control-1.1.0] startup\n",
      "[2.274s] [ext: omni.kit.renderer.capture-0.0.0] startup\n",
      "[2.283s] [ext: omni.kit.widget.filebrowser-2.2.27] startup\n",
      "[2.299s] [ext: omni.kit.widget.path_field-2.0.3] startup\n",
      "[2.303s] [ext: omni.kit.notification_manager-1.0.5] startup\n",
      "[2.308s] [ext: omni.kit.widget.versioning-1.3.8] startup\n",
      "[2.313s] [ext: omni.kit.widget.browser_bar-2.0.3] startup\n",
      "[2.317s] [ext: omni.kit.window.popup_dialog-2.0.8] startup\n",
      "[2.321s] [ext: omni.mdl.neuraylib-0.1.0] startup\n",
      "[2.326s] [ext: omni.kit.window.filepicker-2.4.30] startup\n"
     ]
    },
    {
     "name": "stderr",
     "output_type": "stream",
     "text": [
      "OmniAssetFileFormat\n"
     ]
    },
    {
     "name": "stdout",
     "output_type": "stream",
     "text": [
      "Warp initialized:\n",
      "   Version: 0.2.2\n",
      "   CUDA device: NVIDIA GeForce RTX 3090\n",
      "   Kernel cache: /home/yizhou/.cache/warp/0.2.2\n",
      "[2.415s] [ext: omni.kit.menu.create-1.0.2] startup\n",
      "[2.417s] [ext: omni.mdl-0.1.0] startup\n",
      "[2.443s] [ext: omni.kit.window.file_importer-1.0.4] startup\n",
      "[2.445s] [ext: omni.kit.window.file_exporter-1.0.4] startup\n",
      "[2.446s] [ext: omni.kit.material.library-1.3.10] startup\n",
      "[2.450s] [ext: omni.kit.window.drop_support-1.0.0] startup\n",
      "[2.451s] [ext: omni.kit.window.file-1.3.16] startup\n",
      "[2.454s] [ext: omni.kit.context_menu-1.3.9] startup\n",
      "[2.458s] [ext: omni.kit.window.property-1.6.3] startup\n",
      "[2.460s] [ext: omni.kit.window.content_browser-2.4.28] startup\n",
      "[2.472s] [ext: omni.kit.widget.stage-2.6.15] startup\n",
      "[2.478s] [ext: omni.isaac.version-1.0.0] startup\n",
      "[2.480s] [ext: omni.kit.property.usd-3.14.9] startup\n",
      "[2.525s] [ext: omni.kit.viewport.legacy_gizmos-1.0.0] startup\n",
      "[2.529s] [ext: omni.hydra.rtx-0.1.0] startup\n",
      "[2.554s] [ext: omni.renderer-rtx-0.0.0] startup\n",
      "[2.558s] [ext: omni.hydra.engine.stats-1.0.0] startup\n",
      "[2.566s] [ext: omni.debugdraw-0.1.0] startup\n",
      "[2.574s] [ext: omni.kit.widget.settings-1.0.0] startup\n",
      "[2.576s] [ext: omni.kit.window.viewport-0.0.0] startup\n",
      "[8.178s] [ext: omni.kit.widget.prompt-1.0.1] startup\n",
      "[8.180s] [ext: omni.kit.widget.graph-1.4.3] startup\n",
      "[8.236s] [ext: omni.kit.window.preferences-1.2.1] startup\n",
      "[8.273s] [ext: omni.ui_query-1.1.1] startup\n",
      "[8.276s] [ext: omni.graph.ui-1.6.1] startup\n",
      "[8.305s] [ext: omni.kit.ui_test-1.2.2] startup\n",
      "[8.308s] [ext: omni.graph.action-1.18.0] startup\n",
      "[8.324s] [ext: omni.kit.widget.searchfield-1.0.6] startup\n",
      "[8.326s] [ext: omni.kit.usd_undo-0.1.0] startup\n",
      "[8.328s] [ext: omni.graph.scriptnode-0.5.0] startup\n",
      "[8.331s] [ext: omni.physx.commands-1.4.15-5.1] startup\n",
      "[8.336s] [ext: omni.graph.nodes-1.26.0] startup\n",
      "[8.355s] [ext: omni.command.usd-1.0.1] startup\n",
      "[8.359s] [ext: omni.kit.window.extensions-1.1.0] startup\n",
      "[8.366s] [ext: omni.syntheticdata-0.2.1] startup\n",
      "[8.400s] [ext: omni.kit.primitive.mesh-1.0.0] startup\n",
      "[8.406s] [ext: omni.warp-0.2.2] startup\n",
      "[8.566s] [ext: omni.isaac.ui-0.2.1] startup\n",
      "[8.569s] [ext: omni.replicator.core-1.4.3] startup\n",
      "[8.798s] [ext: omni.isaac.core-1.24.3] startup\n",
      "[8.895s] [ext: omni.physx.ui-1.4.15-5.1] startup\n",
      "[8.975s] [ext: omni.kit.property.material-1.8.5] startup\n",
      "[8.979s] [ext: omni.kit.window.toolbar-1.2.4] startup\n",
      "[8.987s] [ext: omni.isaac.core_nodes-0.13.0] startup\n",
      "[9.002s] [ext: omni.physx.demos-1.4.15-5.1] startup\n",
      "[9.005s] [ext: omni.kit.property.physx-0.1.0] startup\n",
      "2023-01-02 04:23:05 [9,058ms] [Warning] [omni.physx.plugin] Deprecated: getSimulationEventStream is deprecated, please use getSimulationEventStreamV2\n",
      "[9.073s] [ext: omni.physx.tests-1.4.15-5.1] startup\n",
      "[9.318s] [ext: omni.isaac.wheeled_robots-0.5.8] startup\n",
      "[9.333s] [ext: omni.kit.menu.common-1.0.0] startup\n",
      "[9.336s] [ext: omni.physx.vehicle-1.4.15-5.1] startup\n",
      "[9.350s] [ext: omni.physx.cct-1.4.15-5.1] startup\n",
      "[9.423s] [ext: omni.physx.camera-1.4.15-5.1] startup\n",
      "[9.433s] [ext: omni.kit.widget.stage_icons-1.0.2] startup\n",
      "[9.435s] [ext: omni.ui.scene-1.5.0] startup\n",
      "[9.442s] [ext: omni.physx.bundle-1.4.15-5.1] startup\n",
      "[9.442s] [ext: omni.kit.window.stage-2.3.7] startup\n",
      "[9.446s] [ext: omni.replicator.composer-1.1.3] startup\n",
      "[9.464s] [ext: omni.isaac.lula-1.1.0] startup\n",
      "[9.482s] [ext: omni.rtx.window.settings-0.6.1] startup\n",
      "[9.488s] [ext: omni.isaac.surface_gripper-0.1.2] startup\n",
      "[9.495s] [ext: omni.isaac.motion_planning-0.2.0] startup\n",
      "[9.508s] [ext: omni.rtx.settings.core-0.5.5] startup\n",
      "[9.514s] [ext: omni.isaac.manipulators-1.0.1] startup\n",
      "[9.517s] [ext: omni.isaac.motion_generation-3.6.1] startup\n",
      "[9.525s] [ext: omni.kit.widget.zoombar-1.0.3] startup\n",
      "[9.527s] [ext: omni.kit.graph.delegate.default-1.0.15] startup\n",
      "[9.533s] [ext: omni.isaac.franka-0.3.0] startup\n",
      "[9.535s] [ext: omni.kit.browser.core-2.0.12] startup\n",
      "[9.541s] [ext: omni.kit.graph.editor.core-1.3.3] startup\n",
      "[9.545s] [ext: omni.kit.graph.usd.commands-1.1.0] startup\n",
      "[9.547s] [ext: omni.kit.browser.folder.core-1.1.13] startup\n",
      "[9.551s] [ext: omni.kit.graph.widget.variables-2.0.2] startup\n",
      "[9.553s] [ext: omni.kit.graph.delegate.modern-1.6.0] startup\n",
      "[9.555s] [ext: omni.kit.selection-0.1.0] startup\n",
      "[9.556s] [ext: omni.isaac.debug_draw-0.Opening usd file at  omniverse://localhost/Users/yizhou/uva_sac.usd  ...Done.\n",
      "Saving a temp livesync stage at  omniverse://localhost/Users/yizhou/uva_sac.usd  ...Done.\n"
     ]
    }
   ],
   "source": [
    "from omni.isaac.kit import SimulationApp    \n",
    "simulation_app = SimulationApp({\"headless\": True, \"open_usd\": usd_path,  \"livesync_usd\": usd_path}) "
   ]
  },
  {
   "cell_type": "code",
   "execution_count": 6,
   "id": "3e0e266e",
   "metadata": {},
   "outputs": [],
   "source": [
    "# set log level\n",
    "import logging\n",
    "import carb\n",
    "\n",
    "logging.getLogger(\"omni.hydra\").setLevel(logging.ERROR)\n",
    "logging.getLogger(\"omni.isaac.urdf\").setLevel(logging.ERROR)\n",
    "logging.getLogger(\"omni.physx.plugin\").setLevel(logging.ERROR)\n",
    "\n",
    "logging.getLogger(\"omni.isaac.synthetic_utils\").setLevel(logging.ERROR)\n",
    "logging.getLogger(\"omni.isaac.synthetic_utils.syntheticdata\").setLevel(logging.ERROR)\n",
    "logging.getLogger(\"omni.hydra.scene_delegate.plugin\").setLevel(logging.ERROR)\n",
    "\n",
    "\n",
    "l = carb.logging.LEVEL_ERROR\n",
    "carb.settings.get_settings().set(\"/log/level\", l)\n",
    "carb.settings.get_settings().set(\"/log/fileLogLevel\", l)\n",
    "carb.settings.get_settings().set(\"/log/outputStreamLevel\", l)\n",
    "\n",
    "# # This logged error is printed as it should\n",
    "# carb.log_error(\"ERROR\")\n",
    "# # This warning is printed but should not\n",
    "# carb.log_warn(\"WARNING\")"
   ]
  },
  {
   "cell_type": "markdown",
   "id": "be34671d",
   "metadata": {},
   "source": [
    "# Config"
   ]
  },
  {
   "cell_type": "code",
   "execution_count": 7,
   "id": "491f4078",
   "metadata": {},
   "outputs": [],
   "source": [
    "from task.config import DATA_PATH, FEATURE_PATH\n",
    "task_type = \"Table\"\n",
    "side_choice = \"Border\"\n",
    "base_asset_id = 0\n",
    "load_nucleus = True"
   ]
  },
  {
   "cell_type": "code",
   "execution_count": 8,
   "id": "eadd32bf",
   "metadata": {},
   "outputs": [
    {
     "ename": "NameError",
     "evalue": "name 'pause' is not defined",
     "output_type": "error",
     "traceback": [
      "\u001b[0;31m---------------------------------------------------------------------------\u001b[0m",
      "\u001b[0;31mNameError\u001b[0m                                 Traceback (most recent call last)",
      "\u001b[0;32m/tmp/ipykernel_11254/1188747208.py\u001b[0m in \u001b[0;36m<module>\u001b[0;34m\u001b[0m\n\u001b[0;32m----> 1\u001b[0;31m \u001b[0mpause\u001b[0m\u001b[0;34m\u001b[0m\u001b[0;34m\u001b[0m\u001b[0m\n\u001b[0m",
      "\u001b[0;31mNameError\u001b[0m: name 'pause' is not defined"
     ]
    }
   ],
   "source": [
    "pause"
   ]
  },
  {
   "cell_type": "markdown",
   "id": "7475ee6a",
   "metadata": {},
   "source": [
    "# Init Env"
   ]
  },
  {
   "cell_type": "code",
   "execution_count": 9,
   "id": "9a6fd193",
   "metadata": {},
   "outputs": [],
   "source": [
    "from uva_env import UvaEnv\n",
    "env = UvaEnv()"
   ]
  },
  {
   "cell_type": "code",
   "execution_count": 14,
   "id": "d3e665fe",
   "metadata": {},
   "outputs": [],
   "source": [
    "from task.utils import add_scene_default\n",
    "add_scene_default()"
   ]
  },
  {
   "cell_type": "code",
   "execution_count": 17,
   "id": "4c55eb32",
   "metadata": {
    "scrolled": true
   },
   "outputs": [
    {
     "name": "stdout",
     "output_type": "stream",
     "text": [
      "[Usd.Prim(</physicsScene>), Usd.Prim(</World>), Usd.Prim(</World/defaultLight>), Usd.Prim(</World/groundPlane>), Usd.Prim(</World/groundPlane/CollisionMesh>), Usd.Prim(</World/groundPlane/CollisionPlane>), Usd.Prim(</World/physicsScene>), Usd.Prim(</World/groundPlane_01>), Usd.Prim(</World/groundPlane_01/CollisionMesh>), Usd.Prim(</World/groundPlane_01/CollisionPlane>), Usd.Prim(</World/groundPlane_02>), Usd.Prim(</World/groundPlane_02/CollisionMesh>), Usd.Prim(</World/groundPlane_02/CollisionPlane>), Usd.Prim(</World/groundPlane_03>), Usd.Prim(</World/groundPlane_03/CollisionMesh>), Usd.Prim(</World/groundPlane_03/CollisionPlane>), Usd.Prim(</OmniverseKit_Persp>), Usd.Prim(</OmniverseKit_Front>), Usd.Prim(</OmniverseKit_Top>), Usd.Prim(</OmniverseKit_Right>), Usd.Prim(</Render>), Usd.Prim(</Render/RenderProduct_Viewport>), Usd.Prim(</Render/Vars>), Usd.Prim(</Render/Vars/LdrColor>)]\n"
     ]
    }
   ],
   "source": [
    "print(list(env.stage.TraverseAll()))"
   ]
  },
  {
   "cell_type": "code",
   "execution_count": 16,
   "id": "feaeb7d0",
   "metadata": {},
   "outputs": [],
   "source": [
    "env.clean()\n",
    "env.world.step(render=True)"
   ]
  },
  {
   "cell_type": "markdown",
   "id": "d3c365e3",
   "metadata": {},
   "source": [
    "# Scene"
   ]
  },
  {
   "cell_type": "code",
   "execution_count": null,
   "id": "19d7b119",
   "metadata": {},
   "outputs": [],
   "source": [
    "from task.scene import ArrangeScene\n",
    "scene = ArrangeScene(task_type, side_choice, base_asset_id = 0, traj_id = 0, load_nucleus = load_nucleus)\n",
    "env.scene = scene"
   ]
  },
  {
   "cell_type": "code",
   "execution_count": null,
   "id": "fae909b6",
   "metadata": {},
   "outputs": [],
   "source": [
    "# add base\n",
    "scene.add_base_asset()"
   ]
  },
  {
   "cell_type": "code",
   "execution_count": null,
   "id": "a7e1de8b",
   "metadata": {},
   "outputs": [],
   "source": [
    "# add room\n",
    "scene.add_room()"
   ]
  },
  {
   "cell_type": "code",
   "execution_count": null,
   "id": "99481529",
   "metadata": {},
   "outputs": [],
   "source": [
    "env.world.step(render=True)"
   ]
  },
  {
   "cell_type": "code",
   "execution_count": null,
   "id": "5b423735",
   "metadata": {},
   "outputs": [],
   "source": [
    "# randomize scene\n",
    "from layout.randomizer import Randomizer\n",
    "randomizer = Randomizer()"
   ]
  },
  {
   "cell_type": "markdown",
   "id": "bfd24034",
   "metadata": {},
   "source": [
    "# Reward"
   ]
  },
  {
   "cell_type": "code",
   "execution_count": null,
   "id": "b81a65bf",
   "metadata": {},
   "outputs": [],
   "source": [
    "from uv.reward import Rewarder"
   ]
  },
  {
   "cell_type": "code",
   "execution_count": null,
   "id": "35761844",
   "metadata": {},
   "outputs": [],
   "source": [
    "rewarder = Rewarder(env.world)\n",
    "env.rewarder = rewarder"
   ]
  },
  {
   "cell_type": "markdown",
   "id": "27c8bada",
   "metadata": {},
   "source": [
    "# Render"
   ]
  },
  {
   "cell_type": "code",
   "execution_count": null,
   "id": "fba7340e",
   "metadata": {},
   "outputs": [],
   "source": [
    "from render.helper import RenderHelper\n",
    "render = RenderHelper(task_type, side_choice)\n",
    "\n",
    "render.add_task_cameras(camera_type=\"side\")\n",
    "render.set_cameras()"
   ]
  },
  {
   "cell_type": "code",
   "execution_count": null,
   "id": "56d05f4a",
   "metadata": {
    "scrolled": true
   },
   "outputs": [],
   "source": [
    "pause"
   ]
  },
  {
   "cell_type": "markdown",
   "id": "69faba50",
   "metadata": {},
   "source": [
    "#  Learning"
   ]
  },
  {
   "cell_type": "code",
   "execution_count": null,
   "id": "785c3dc5",
   "metadata": {},
   "outputs": [],
   "source": [
    "# # from learning.network.resnet import ResNetFeatureExtractor\n",
    "\n",
    "# # feature extraction\n",
    "# from learning.utils import extract_image_clip_feature_and_save, obtain_action_from_trainer\n",
    "# from transformers import CLIPProcessor, CLIPModel\n",
    "\n",
    "# feature_model = CLIPModel.from_pretrained(\"openai/clip-vit-base-patch32\").to(device)\n",
    "# feature_processor = CLIPProcessor.from_pretrained(\"openai/clip-vit-base-patch32\")\n",
    "\n",
    "# # replay buffer\n",
    "# import json\n",
    "# from learning.replay_buffer import ReplayBuffer\n",
    "# from learning.config import *\n",
    "\n",
    "# buffer = ReplayBuffer(max_size=2000)\n",
    "\n",
    "# # trainer\n",
    "# from learning.network.sac import *\n",
    "\n",
    "# policy = Policy()\n",
    "\n",
    "# qf1 = QFunction()\n",
    "# qf2 = QFunction()\n",
    "# target_qf1 = QFunction()\n",
    "# target_qf2 = QFunction()\n",
    "\n",
    "# from learning.sac_trainer import SACTrainer\n",
    "\n",
    "# trainer = SACTrainer(policy, qf1, qf2, target_qf1, target_qf2, \n",
    "#      use_automatic_entropy_tuning = False, \n",
    "#      policy_lr=1e-3, \n",
    "#      qf_lr=1e-3,\n",
    "#      target_update_period = 5)"
   ]
  },
  {
   "cell_type": "markdown",
   "id": "a93eef8c",
   "metadata": {},
   "source": [
    "# Trajectory"
   ]
  },
  {
   "cell_type": "code",
   "execution_count": null,
   "id": "e28e6ec5",
   "metadata": {},
   "outputs": [],
   "source": [
    "use_network = False\n",
    "debug = False"
   ]
  },
  {
   "cell_type": "code",
   "execution_count": null,
   "id": "2707b5f0",
   "metadata": {},
   "outputs": [],
   "source": [
    "total_traj = 0\n",
    "total_step = 0"
   ]
  },
  {
   "cell_type": "markdown",
   "id": "33335313",
   "metadata": {},
   "source": [
    "---------------------"
   ]
  },
  {
   "cell_type": "code",
   "execution_count": null,
   "id": "d9049e66",
   "metadata": {
    "scrolled": true
   },
   "outputs": [],
   "source": [
    "# traj config\n",
    "for traj_id in range(20):\n",
    "    print(\"total_traj: \", total_traj)\n",
    "    \n",
    "    # base\n",
    "    if total_traj % 5 == 0:\n",
    "        \n",
    "        asset_count = len(env.scene.base_asset_file_paths)\n",
    "        base_asset_id = random.choice([_ for _ in range(asset_count)])\n",
    "        env.scene.base_asset_id = base_asset_id\n",
    "        env.scene.traj_id = traj_id\n",
    "        env.clean(clean_base = True, clean_all = False)\n",
    "        scene.add_base_asset()\n",
    "        \n",
    "        # randomize scene\n",
    "        randomizer.randomize_house(rand = True)\n",
    "        \n",
    "    image_folder = os.path.join(DATA_PATH, task_type, side_choice, str(traj_id))\n",
    "    \n",
    "    env.world.step(render = True)\n",
    "    env.world.step(render = True)\n",
    "\n",
    "    # get images\n",
    "    env.world.render()\n",
    "    images = render.get_images()\n",
    "    render.save_rgb(images[0]['rgb'], image_folder, \"0\")\n",
    "    \n",
    "    ## extract feature\n",
    "    \n",
    "#     extract_image_feature_and_save(images[0]['rgb'][:,:,:3], \n",
    "#         feature_extractor, os.path.join(image_folder, str(0) + \".pt\"))\n",
    "    if use_network:\n",
    "        extract_image_clip_feature_and_save(f\"{image_folder}/{0}.png\", feature_model, feature_processor, \n",
    "            f\"{image_folder}/{0}.pt\",)\n",
    "    \n",
    "\n",
    "    # trajectory\n",
    "    for step in range(5):\n",
    "        total_step += 1\n",
    "        \n",
    "        # sample an object\n",
    "        env.add_scene_obj(mode = \"random\")\n",
    "        \n",
    "        # TODO: get action from sampling\n",
    "        if not use_network or total_traj < 10 or np.random.rand() < 0.2:\n",
    "            x, y = np.tanh(np.random.randn()), np.tanh(np.random.randn())\n",
    "        else:\n",
    "            image_feature_file = f\"{image_folder}/{step}.pt\"\n",
    "            \n",
    "            object_info = env.scene.objects[-1]\n",
    "            object_type = object_info[\"type\"]\n",
    "            obj_name = object_info[\"name\"][:-4]\n",
    "            object_feature_file = os.path.join(FEATURE_PATH, object_type, obj_name + \".pt\")\n",
    "            x, y = obtain_action_from_trainer(image_feature_file, object_feature_file, trainer, \n",
    "                                              scaler=np.exp(- total_traj / 100))\n",
    "            object_info[\"use_network\"] = True\n",
    "        \n",
    "        # load the object into the scene\n",
    "        env.put_last_object((x, y)) \n",
    "        env.world.step(render=True)\n",
    "        \n",
    "        # register the object to the world for physics update\n",
    "        env.register_last_object()\n",
    "        env.world.step(render=True)\n",
    "\n",
    "        # get images\n",
    "        env.world.render()\n",
    "        images = render.get_images()\n",
    "        render.save_rgb(images[0]['rgb'], image_folder, str(step + 1))\n",
    "\n",
    "        ## calculate reward\n",
    "        env.calculate_last_reward(simulation_step = 30)\n",
    "        \n",
    "        ## extract feature\n",
    "#         extract_image_feature_and_save(images[0]['rgb'][:,:,:3], \n",
    "#             feature_extractor, os.path.join(image_folder, str(step + 1) + \".pt\"))\n",
    "        if use_network:\n",
    "            extract_image_clip_feature_and_save(f\"{image_folder}/{step + 1}.png\", feature_model, feature_processor, \n",
    "                f\"{image_folder}/{step + 1}.pt\",)\n",
    "    \n",
    "\n",
    "        ## reset\n",
    "        env.world.reset()\n",
    "        env.world.step(render=True)\n",
    "        \n",
    "        ## trainer nework\n",
    "        if use_network and total_step % UPDATE_TRAINER_STEPS == 0 and total_traj > 5:\n",
    "            batch = buffer.sample_batch(batch_size = BATCH_SIZE)\n",
    "            trainer.update(batch)\n",
    "            \n",
    "            if debug and total_step % 10 == 0:\n",
    "                rewards = batch['rewards'].to(device)\n",
    "                terminals = batch['terminals'].to(device)\n",
    "                obs = batch['observations'].to(device)\n",
    "                actions = batch['actions'].to(device)\n",
    "                next_obs = batch['next_observations'].to(device)\n",
    "                obj_features = batch['object_features'].to(device)\n",
    "                \n",
    "                dist = trainer.policy(obs, obj_features)\n",
    "                pred = trainer.qf1(obs, obj_features, actions)\n",
    "                print(f\"debug {total_traj}/{total_step}\", #\"\\n dist: \", dist.mean.flatten().tolist(), dist.stddev.flatten().tolist(),\n",
    "                      \"\\n pred:\", pred.flatten().tolist(),\n",
    "                      \"\\n rewards: \", rewards.flatten().tolist())\n",
    "\n",
    "\n",
    "    # Record\n",
    "    record = env.scene.get_scene_data()\n",
    "    env.scene.save_scene_data()\n",
    "    # print(\"record: \", record)\n",
    "    \n",
    "    # Add record to buffer\n",
    "    if use_network:\n",
    "        buffer.add_scene_sample(record)\n",
    "\n",
    "    # Reset (env clean)\n",
    "    env.clean(clean_all = False)\n",
    "    env.step(render = True)\n",
    "    total_traj += 1"
   ]
  },
  {
   "cell_type": "markdown",
   "id": "11155e93",
   "metadata": {},
   "source": [
    "# Debug"
   ]
  },
  {
   "cell_type": "code",
   "execution_count": null,
   "id": "4abf2237",
   "metadata": {},
   "outputs": [],
   "source": [
    "env.clean(clean_base = True, clean_all = False)"
   ]
  },
  {
   "cell_type": "code",
   "execution_count": null,
   "id": "a3c0bdec",
   "metadata": {},
   "outputs": [],
   "source": [
    "# get images\n",
    "env.world.render()\n",
    "env.world.render()\n",
    "images = render.get_images()\n",
    "\n",
    "Image.fromarray(images[0]['rgb'], \"RGBA\").resize((300, 300))"
   ]
  },
  {
   "cell_type": "markdown",
   "id": "9d3687f5",
   "metadata": {},
   "source": [
    "##  Debug Training"
   ]
  },
  {
   "cell_type": "code",
   "execution_count": null,
   "id": "a8d01e0a",
   "metadata": {},
   "outputs": [],
   "source": [
    "import json\n",
    "from learning.replay_buffer import ReplayBuffer\n",
    "\n",
    "buffer = ReplayBuffer(max_size=1000)\n",
    "\n",
    "for i in range(100):\n",
    "    replay = json.load(open(f\"{DATA_PATH}/{task_type}/{side_choice}/{i}/scene.json\"))\n",
    "    buffer.add_scene_sample(replay)"
   ]
  },
  {
   "cell_type": "code",
   "execution_count": null,
   "id": "bec87318",
   "metadata": {
    "scrolled": true
   },
   "outputs": [],
   "source": [
    "len(buffer.dataset)"
   ]
  },
  {
   "cell_type": "code",
   "execution_count": null,
   "id": "63777cf1",
   "metadata": {},
   "outputs": [],
   "source": [
    "# trainer\n",
    "from learning.network.sac import *\n",
    "\n",
    "policy = Policy()\n",
    "\n",
    "qf1 = QFunction()\n",
    "qf2 = QFunction()\n",
    "\n",
    "target_qf1 = QFunction()\n",
    "target_qf1.eval()\n",
    "\n",
    "target_qf2 = QFunction()\n",
    "target_qf2.eval()\n",
    "\n",
    "from learning.sac_trainer import SACTrainer\n",
    "\n",
    "trainer = SACTrainer(policy, qf1, qf2, target_qf1, target_qf2, \n",
    "     use_automatic_entropy_tuning = True, \n",
    "     policy_lr=1e-3, \n",
    "     qf_lr=1e-3,\n",
    "     target_update_period = 5)"
   ]
  },
  {
   "cell_type": "code",
   "execution_count": null,
   "id": "0acc75a9",
   "metadata": {},
   "outputs": [],
   "source": [
    "self = trainer"
   ]
  },
  {
   "cell_type": "code",
   "execution_count": null,
   "id": "be95f838",
   "metadata": {
    "scrolled": true
   },
   "outputs": [],
   "source": [
    "for _ in range(500):\n",
    "    batch = buffer.sample_batch(batch_size=6)\n",
    "\n",
    "    rewards = batch['rewards'].to(device)\n",
    "    terminals = batch['terminals'].to(device)\n",
    "    obs = batch['observations'].to(device)\n",
    "    actions = batch['actions'].to(device)\n",
    "    next_obs = batch['next_observations'].to(device)\n",
    "\n",
    "    obj_features = batch['object_features'].to(device)\n",
    "\n",
    "    # print(\"rewards\", rewards)\n",
    "\n",
    "    self.update(batch)\n",
    "    \n",
    "    if _ % 10 == 0:\n",
    "        dist = self.policy(obs, obj_features)\n",
    "        pred = self.qf1(obs, obj_features, actions)\n",
    "        print(_, \"\\n dist   : \", [round(x, 3) for x in dist.mean.flatten().tolist()], \n",
    "                  [round(x, 3) for x in dist.stddev.flatten().tolist()],\n",
    "              \"\\n pred   :\", [round(x, 3) for x in pred.flatten().tolist()],\n",
    "              \"\\n rewards: \", [round(x, 3) for x in rewards.flatten().tolist()])\n",
    "    \n",
    "#     # debug\n",
    "#     pred = self.qf1(obs, obj_features, actions)\n",
    "#     loss = self.qf_criterion(pred, rewards)\n",
    "    \n",
    "#     self.qf1_optimizer.zero_grad()\n",
    "#     loss.backward()\n",
    "#     self.qf1_optimizer.step()\n",
    "    \n",
    "#     if _ % 20 == 0:\n",
    "#         print(_, \"\\n debug loss: \", loss.item(), \"\\n pred:\", \n",
    "#               pred.flatten().tolist(), \"\\n rewards: \", rewards.flatten().tolist())"
   ]
  },
  {
   "cell_type": "code",
   "execution_count": null,
   "id": "aa6fffc0",
   "metadata": {},
   "outputs": [],
   "source": [
    "dist = self.policy(obs.to(device), obj_features.to(device))"
   ]
  },
  {
   "cell_type": "code",
   "execution_count": null,
   "id": "a4b6e1a4",
   "metadata": {},
   "outputs": [],
   "source": [
    "dist.normal_mean, dist.stddev"
   ]
  },
  {
   "cell_type": "code",
   "execution_count": null,
   "id": "55fdb9ba",
   "metadata": {},
   "outputs": [],
   "source": [
    "dist.sample(scaler = 0.2)"
   ]
  },
  {
   "cell_type": "code",
   "execution_count": null,
   "id": "6fa47896",
   "metadata": {},
   "outputs": [],
   "source": [
    "self = dist"
   ]
  },
  {
   "cell_type": "code",
   "execution_count": null,
   "id": "edef1bac",
   "metadata": {},
   "outputs": [],
   "source": [
    "scaler = 0.1"
   ]
  },
  {
   "cell_type": "code",
   "execution_count": null,
   "id": "f79d7bc0",
   "metadata": {},
   "outputs": [],
   "source": [
    "self.normal_mean + scaler * self.normal_std * MultivariateDiagonalNormal(\n",
    "    torch.zeros(self.normal_mean.size()).to(self.device),\n",
    "    torch.ones(self.normal_std.size()).to(self.device)\n",
    ").sample()"
   ]
  },
  {
   "cell_type": "markdown",
   "id": "8b9643df",
   "metadata": {},
   "source": [
    "# distribution"
   ]
  },
  {
   "cell_type": "code",
   "execution_count": null,
   "id": "be282f66",
   "metadata": {},
   "outputs": [],
   "source": [
    "from learning.distributions import MultivariateDiagonalNormal"
   ]
  },
  {
   "cell_type": "code",
   "execution_count": null,
   "id": "baba459b",
   "metadata": {},
   "outputs": [],
   "source": [
    "dist = JustNormal(dist.mean, dist.stddev)"
   ]
  },
  {
   "cell_type": "code",
   "execution_count": null,
   "id": "4e95ab7d",
   "metadata": {},
   "outputs": [],
   "source": [
    "dist.rsample_and_logprob()"
   ]
  },
  {
   "cell_type": "code",
   "execution_count": null,
   "id": "148bf0bc",
   "metadata": {},
   "outputs": [],
   "source": []
  }
 ],
 "metadata": {
  "kernelspec": {
   "display_name": "Isaac Sim Python 3",
   "language": "python",
   "name": "isaac_sim_python3"
  },
  "language_info": {
   "codemirror_mode": {
    "name": "ipython",
    "version": 3
   },
   "file_extension": ".py",
   "mimetype": "text/x-python",
   "name": "python",
   "nbconvert_exporter": "python",
   "pygments_lexer": "ipython3",
   "version": "3.7.13"
  }
 },
 "nbformat": 4,
 "nbformat_minor": 5
}
