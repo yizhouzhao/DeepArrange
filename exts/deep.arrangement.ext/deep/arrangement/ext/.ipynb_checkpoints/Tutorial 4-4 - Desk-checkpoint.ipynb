{
 "cells": [
  {
   "cell_type": "markdown",
   "id": "a4e7074e",
   "metadata": {},
   "source": [
    "# Start Simulation"
   ]
  },
  {
   "cell_type": "code",
   "execution_count": 1,
   "id": "b033b39a",
   "metadata": {},
   "outputs": [],
   "source": [
    "# env.clean(clean_all=True)"
   ]
  },
  {
   "cell_type": "code",
   "execution_count": 2,
   "id": "3fe18b05",
   "metadata": {},
   "outputs": [],
   "source": [
    "import random\n",
    "import numpy as np\n",
    "import os\n",
    "import time\n",
    "from PIL import Image\n",
    "\n",
    "import torch\n",
    "torch.__version__\n",
    "device = torch.device(\"cuda\")"
   ]
  },
  {
   "cell_type": "code",
   "execution_count": 3,
   "id": "0137c535",
   "metadata": {},
   "outputs": [
    {
     "name": "stdout",
     "output_type": "stream",
     "text": [
      "yizhou\n"
     ]
    }
   ],
   "source": [
    "import getpass\n",
    "user = getpass.getuser()\n",
    "print(user)"
   ]
  },
  {
   "cell_type": "code",
   "execution_count": 4,
   "id": "b9d56ea3",
   "metadata": {},
   "outputs": [],
   "source": [
    "usd_path = f\"omniverse://localhost/Users/{user}/UVA/uva_table.usd\""
   ]
  },
  {
   "cell_type": "code",
   "execution_count": 5,
   "id": "d7e8d7fe",
   "metadata": {
    "scrolled": true
   },
   "outputs": [
    {
     "name": "stdout",
     "output_type": "stream",
     "text": [
      "Starting kit application with the fillowing args:  ['/home/yizhou/.local/share/ov/pkg/isaac_sim-2022.1.1/exts/omni.isaac.kit/omni/isaac/kit/simulation_app.py', '/home/yizhou/.local/share/ov/pkg/isaac_sim-2022.1.1/apps/omni.isaac.sim.python.kit', '--/app/tokens/exe-path=/home/yizhou/.local/share/ov/pkg/isaac_sim-2022.1.1/kit', '--/persistent/app/viewport/displayOptions=3094', '--/rtx/materialDb/syncLoads=True', '--/rtx/hydra/materialSyncLoads=True--/omni.kit.plugin/syncUsdLoads=True', '--/app/renderer/resolution/width=1280', '--/app/renderer/resolution/height=720', '--/app/window/width=1440', '--/app/window/height=900', '--/renderer/multiGpu/enabled=True', '--ext-folder', '/home/yizhou/.local/share/ov/pkg/isaac_sim-2022.1.1/exts', '--ext-folder', '/home/yizhou/.local/share/ov/pkg/isaac_sim-2022.1.1/apps', '--/physics/cudaDevice=0', '--portable', '--no-window']\n",
      "Passing the following args to the base kit application:  ['-f', '/home/yizhou/.local/share/jupyter/runtime/kernel-6df5e7c5-87ee-4948-abfc-0b6dfed5d92c.json']\n",
      "[Warning] [omni.kit.app.plugin] No crash reporter present, dumps uploading isn't available.\n",
      "[Info] [carb] Logging to file: /home/yizhou/.local/share/ov/pkg/isaac_sim-2022.1.1/kit/logs/Kit/Isaac-Sim/2022.1/kit_20230102_134011.log\n",
      "2023-01-02 21:40:11 [4ms] [Warning] [omni.ext.plugin] [ext: omni.drivesim.sensors.nv.lidar] Extensions config 'extension.toml' doesn't exist '/home/yizhou/.local/share/ov/pkg/isaac_sim-2022.1.1/exts/omni.drivesim.sensors.nv.lidar' or '/home/yizhou/.local/share/ov/pkg/isaac_sim-2022.1.1/exts/omni.drivesim.sensors.nv.lidar/config'\n",
      "[0.094s] [ext: omni.stats-0.0.0] startup\n",
      "[0.141s] [ext: omni.gpu_foundation-0.0.0] startup\n",
      "2023-01-02 21:40:11 [142ms] [Warning] [carb] FrameworkImpl::setDefaultPlugin(client: omni.gpu_foundation_factory.plugin, desc : [carb::graphics::Graphics v2.5], plugin : carb.graphics-vulkan.plugin) failed. Plugin selection is locked, because the interface was previously acquired by: \n",
      "[0.161s] [ext: carb.windowing.plugins-1.0.0] startup\n",
      "[0.178s] [ext: omni.assets.plugins-0.0.0] startup\n",
      "[0.180s] [ext: omni.kit.renderer.init-0.0.0] startup\n",
      "\n",
      "|---------------------------------------------------------------------------------------------|\n",
      "| Driver Version: 510.108.3     | Graphics API: Vulkan\n",
      "|=============================================================================================|\n",
      "| GPU | Name                             | Active | LDA | GPU Memory | Vendor-ID | LUID       |\n",
      "|     |                                  |        |     |            | Device-ID | UUID       |\n",
      "|---------------------------------------------------------------------------------------------|\n",
      "| 0   | NVIDIA GeForce RTX 3090          | Yes: 0 |     | 24822   MB | 10de      | 0          |\n",
      "|     |                                  |        |     |            | 2204      | 3f50dd6e.. |\n",
      "|=============================================================================================|\n",
      "| OS: Linux yizhou-Z370-AORUS-Gaming-5, Version: 5.15.0-56-generic\n",
      "| Processor: Intel(R) Core(TM) i7-8700K CPU @ 3.70GHz | Cores: Unknown | Logical: 12\n",
      "|---------------------------------------------------------------------------------------------|\n",
      "| Total Memory (MB): 32044 | Free Memory: 16047\n",
      "| Total Page/Swap (MB): 2047 | Free Page/Swap: 2047\n",
      "|---------------------------------------------------------------------------------------------|\n",
      "2023-01-02 21:40:12 [863ms] [Warning] [carb.cudainterop.plugin] On Linux only, CUDA and the display driver does not support IOMMU-enabled bare-metal PCIe peer to peer memory copy.\n",
      "However, CUDA and the display driver does support IOMMU via VM pass through. As a consequence, users on Linux,\n",
      "when running on a native bare metal system, should disable the IOMMU. The IOMMU should be enabled and the VFIO driver\n",
      "be used as a PCIe pass through for virtual machines.\n",
      "[0.893s] [ext: omni.kit.pipapi-0.0.0] startup\n",
      "[0.904s] [ext: omni.kit.pip_archive-0.0.0] startup\n",
      "[0.910s] [ext: omni.isaac.core_archive-1.2.0] startup\n",
      "[0.943s] [ext: omni.usd.config-1.0.0] startup\n",
      "[0.946s] [ext: omni.usd.libs-1.0.0] startup\n",
      "[1.201s] [ext: omni.kit.pip_torch-1_11_0-0.1.3] startup\n",
      "[1.246s] [ext: omni.isaac.ml_archive-1.1.0] startup\n",
      "[1.389s] [ext: omni.kit.loop-isaac-0.1.0] startup\n",
      "[1.390s] [ext: omni.kit.async_engine-0.0.0] startup\n",
      "[1.392s] [ext: omni.appwindow-1.0.0] startup\n",
      "[1.397s] [ext: omni.client-0.1.0] startup\n",
      "[1.424s] [ext: omni.kit.test-0.0.0] startup\n",
      "[1.425s] [ext: omni.kit.renderer.core-0.0.0] startup\n",
      "[1.514s] [ext: omni.ui-2.10.3] startup\n",
      "[1.544s] [ext: carb.audio-0.1.0] startup\n",
      "[1.566s] [ext: omni.kit.mainwindow-0.0.0] startup\n",
      "[1.570s] [ext: omni.uiaudio-1.0.0] startup\n",
      "[1.573s] [ext: omni.kit.uiapp-0.0.0] startup\n",
      "[1.573s] [ext: omni.usd.schema.physics-1.0.0] startup\n",
      "[1.640s] [ext: omni.usd.schema.audio-0.0.0] startup\n",
      "[1.649s] [ext: omni.usd.schema.semantics-0.0.0] startup\n",
      "[1.663s] [ext: omni.usd.schema.omnigraph-1.0.0] startup\n",
      "[1.676s] [ext: omni.usd.schema.anim-0.0.0] startup\n",
      "[1.729s] [ext: omni.kit.commands-1.2.2] startup\n",
      "[1.735s] [ext: omni.timeline-1.0.2] startup\n",
      "[1.738s] [ext: omni.hydra.scene_delegate-0.2.0] startup\n",
      "[1.749s] [ext: omni.kit.audiodeviceenum-1.0.0] startup\n",
      "[1.754s] [ext: omni.usd-1.5.3] startup\n",
      "[1.826s] [ext: omni.kit.asset_converter-1.2.31] startup\n",
      "[1.848s] [ext: omni.usd.schema.physx-0.0.0] startup\n",
      "[1.929s] [ext: omni.usd.schema.isaac-0.2.0] startup\n",
      "[1.992s] [ext: omni.usd.schema.forcefield-0.0.0] startup\n",
      "[2.006s] [ext: omni.kvdb-0.0.0] startup\n",
      "[2.011s] [ext: omni.usdphysics-1.4.15] startup\n",
      "[2.014s] [ext: omni.graph.tools-1.4.0] startup\n",
      "[2.047s] [ext: omni.localcache-0.0.0] startup\n",
      "[2.052s] [ext: omni.kit.stage_templates-1.1.2] startup\n",
      "[2.054s] [ext: omni.convexdecomposition-1.4.15] startup\n",
      "[2.059s] [ext: omni.physics.tensors-0.1.0] startup\n",
      "[2.068s] [ext: omni.physx-1.4.15-5.1] startup\n",
      "2023-01-02 21:40:13 [2,075ms] [Warning] [omni.kvdb.plugin] wasn't able to load the meta database, trying to repair it ...\n",
      "2023-01-02 21:40:14 [2,725ms] [Warning] [omni.kvdb.plugin] repair failed\n",
      "[2.743s] [ext: omni.graph.core-2.29.1] startup\n",
      "[2.753s] [ext: omni.kit.menu.utils-1.2.11] startup\n",
      "[2.767s] [ext: omni.physx.tensors-0.1.0] startup\n",
      "[2.774s] [ext: omni.graph-1.23.0] startup\n",
      "[2.826s] [ext: omni.kit.numpy.common-0.1.0] startup\n",
      "[2.831s] [ext: omni.kit.window.script_editor-1.6.2] startup\n",
      "[2.848s] [ext: omni.kit.search_core-1.0.2] startup\n",
      "[2.851s] [ext: omni.isaac.dynamic_control-1.1.0] startup\n",
      "[2.863s] [ext: omni.kit.renderer.capture-0.0.0] startup\n",
      "[2.868s] [ext: omni.kit.widget.filebrowser-2.2.27] startup\n",
      "[2.885s] [ext: omni.kit.widget.path_field-2.0.3] startup\n",
      "[2.889s] [ext: omni.kit.notification_manager-1.0.5] startup\n",
      "[2.893s] [ext: omni.kit.widget.versioning-1.3.8] startup\n",
      "[2.897s] [ext: omni.kit.widget.browser_bar-2.0.3] startup\n",
      "[2.900s] [ext: omni.kit.window.popup_dialog-2.0.8] startup\n",
      "[2.905s] [ext: omni.mdl.neuraylib-0.1.0] startup\n",
      "[2.910s] [ext: omni.kit.window.filepicker-2.4.30] startup\n"
     ]
    },
    {
     "name": "stderr",
     "output_type": "stream",
     "text": [
      "OmniAssetFileFormat\n"
     ]
    },
    {
     "name": "stdout",
     "output_type": "stream",
     "text": [
      "Warp initialized:\n",
      "   Version: 0.2.2\n",
      "   CUDA device: NVIDIA GeForce RTX 3090\n",
      "   Kernel cache: /home/yizhou/.cache/warp/0.2.2\n",
      "[2.982s] [ext: omni.kit.menu.create-1.0.2] startup\n",
      "[2.984s] [ext: omni.mdl-0.1.0] startup\n",
      "[3.009s] [ext: omni.kit.window.file_importer-1.0.4] startup\n",
      "[3.010s] [ext: omni.kit.window.file_exporter-1.0.4] startup\n",
      "[3.011s] [ext: omni.kit.material.library-1.3.10] startup\n",
      "[3.015s] [ext: omni.kit.window.drop_support-1.0.0] startup\n",
      "[3.016s] [ext: omni.kit.window.file-1.3.16] startup\n",
      "[3.019s] [ext: omni.kit.context_menu-1.3.9] startup\n",
      "[3.024s] [ext: omni.kit.window.property-1.6.3] startup\n",
      "[3.027s] [ext: omni.kit.window.content_browser-2.4.28] startup\n",
      "[3.040s] [ext: omni.kit.widget.stage-2.6.15] startup\n",
      "[3.047s] [ext: omni.isaac.version-1.0.0] startup\n",
      "[3.048s] [ext: omni.kit.property.usd-3.14.9] startup\n",
      "[3.084s] [ext: omni.kit.viewport.legacy_gizmos-1.0.0] startup\n",
      "[3.088s] [ext: omni.hydra.rtx-0.1.0] startup\n",
      "[3.107s] [ext: omni.renderer-rtx-0.0.0] startup\n",
      "[3.110s] [ext: omni.hydra.engine.stats-1.0.0] startup\n",
      "[3.118s] [ext: omni.debugdraw-0.1.0] startup\n",
      "[3.125s] [ext: omni.kit.widget.settings-1.0.0] startup\n",
      "[3.127s] [ext: omni.kit.window.viewport-0.0.0] startup\n",
      "[8.257s] [ext: omni.kit.widget.prompt-1.0.1] startup\n",
      "[8.260s] [ext: omni.kit.widget.graph-1.4.3] startup\n",
      "[8.331s] [ext: omni.kit.window.preferences-1.2.1] startup\n",
      "[8.372s] [ext: omni.ui_query-1.1.1] startup\n",
      "[8.374s] [ext: omni.graph.ui-1.6.1] startup\n",
      "[8.409s] [ext: omni.kit.ui_test-1.2.2] startup\n",
      "[8.414s] [ext: omni.graph.action-1.18.0] startup\n",
      "[8.431s] [ext: omni.kit.widget.searchfield-1.0.6] startup\n",
      "[8.433s] [ext: omni.kit.usd_undo-0.1.0] startup\n",
      "[8.436s] [ext: omni.graph.scriptnode-0.5.0] startup\n",
      "[8.440s] [ext: omni.physx.commands-1.4.15-5.1] startup\n",
      "[8.445s] [ext: omni.graph.nodes-1.26.0] startup\n",
      "[8.467s] [ext: omni.command.usd-1.0.1] startup\n",
      "[8.472s] [ext: omni.kit.window.extensions-1.1.0] startup\n",
      "[8.479s] [ext: omni.syntheticdata-0.2.1] startup\n",
      "[8.518s] [ext: omni.kit.primitive.mesh-1.0.0] startup\n",
      "[8.524s] [ext: omni.warp-0.2.2] startup\n",
      "[8.706s] [ext: omni.isaac.ui-0.2.1] startup\n",
      "[8.709s] [ext: omni.replicator.core-1.4.3] startup\n",
      "[8.961s] [ext: omni.isaac.core-1.24.3] startup\n",
      "[9.076s] [ext: omni.physx.ui-1.4.15-5.1] startup\n",
      "[9.168s] [ext: omni.kit.property.material-1.8.5] startup\n",
      "[9.175s] [ext: omni.kit.window.toolbar-1.2.4] startup\n",
      "[9.184s] [ext: omni.isaac.core_nodes-0.13.0] startup\n",
      "[9.201s] [ext: omni.physx.demos-1.4.15-5.1] startup\n",
      "[9.205s] [ext: omni.kit.property.physx-0.1.0] startup\n",
      "2023-01-02 21:40:20 [9,270ms] [Warning] [omni.physx.plugin] Deprecated: getSimulationEventStream is deprecated, please use getSimulationEventStreamV2\n",
      "[9.291s] [ext: omni.physx.tests-1.4.15-5.1] startup\n",
      "[9.593s] [ext: omni.isaac.wheeled_robots-0.5.8] startup\n",
      "[9.614s] [ext: omni.kit.menu.common-1.0.0] startup\n",
      "[9.618s] [ext: omni.physx.vehicle-1.4.15-5.1] startup\n",
      "[9.635s] [ext: omni.physx.cct-1.4.15-5.1] startup\n",
      "[9.778s] [ext: omni.physx.camera-1.4.15-5.1] startup\n",
      "[9.790s] [ext: omni.kit.widget.stage_icons-1.0.2] startup\n",
      "[9.792s] [ext: omni.ui.scene-1.5.0] startup\n",
      "[9.803s] [ext: omni.physx.bundle-1.4.15-5.1] startup\n",
      "[9.803s] [ext: omni.kit.window.stage-2.3.7] startup\n",
      "[9.810s] [ext: omni.replicator.composer-1.1.3] startup\n",
      "[9.836s] [ext: omni.isaac.lula-1.1.0] startup\n",
      "[9.853s] [ext: omni.rtx.window.settings-0.6.1] startup\n",
      "[9.862s] [ext: omni.isaac.surface_gripper-0.1.2] startup\n",
      "[9.870s] [ext: omni.isaac.motion_planning-0.2.0] startup\n",
      "[9.882s] [ext: omni.rtx.settings.core-0.5.5] startup\n",
      "[9.889s] [ext: omni.isaac.manipulators-1.0.1] startup\n",
      "[9.892s] [ext: omni.isaac.motion_generation-3.6.1] startup\n",
      "[9.902s] [ext: omni.kit.widget.zoombar-1.0.3] startup\n",
      "[9.904s] [ext: omni.kit.graph.delegate.default-1.0.15] startup\n",
      "[9.909s] [ext: omni.isaac.franka-0.3.0] startup\n",
      "[9.911s] [ext: omni.kit.browser.core-2.0.12] startup\n",
      "[9.920s] [ext: omni.kit.graph.editor.core-1.3.3] startup\n",
      "[9.925s] [ext: omni.kit.graph.usd.commands-1.1.0] startup\n",
      "[9.926s] [ext: omni.kit.browser.folder.core-1.1.13] startup\n",
      "[9.931s] [ext: omni.kit.graph.widget.variables-2.0.2] startup\n",
      "[9.934s] [ext: omni.kit.graph.delegate.modern-1.6.0] startup\n",
      "[9.937s] [ext: omni.kit.selection-0.1.0] startup\n",
      "[9.939s] [ext: omni.isaac.debug_draw-0.Opening usd file at  omniverse://localhost/Users/yizhou/UVA/uva_table.usd  ...1.2] startup\n",
      "[9.949s] [ext: omni.graph.window.core-1.23.4] startup\n",
      "[9.958s] [ext: omni.graph.instancing-1.1.4] startup\n",
      "[9.967s] [ext: omni.kit.menu.edit-1.0.6] startup\n",
      "[9.970s] [ext: omni.isaac.isaac_sensor-1.0.2] startup\n",
      "2023-01-02 21:40:21 [9,968ms] [Warning] [omni.physx.plugin] Deprecated: getSimulationEventStream is deprecated, please use getSimulationEventStreamV2\n",
      "[9.990s] [ext: omni.graph.tutorials-1.1.2] startup\n",
      "[10.014s] [ext: omni.graph.window.action-1.3.8] startup\n",
      "[10.017s] [ext: omni.kit.widget.live-0.1.0] startup\n",
      "[10.023s] [ext: omni.kit.widget.layers-1.5.17] startup\n",
      "[10.041s] [ext: omni.graph.bundle.action-1.0.0] startup\n",
      "[10.041s] [ext: omni.isaac.range_sensor-0.4.3] startup\n",
      "[10.081s] [ext: omni.kit.property.layer-1.1.2] startup\n",
      "[10.084s] [ext: omni.replicator.isaac-1.3.2] startup\n",
      "[10.200s] [ext: omni.isaac.kit-0.2.1] startup\n",
      "[10.201s] [ext: omni.graph.window.generic-1.3.8] startup\n",
      "[10.203s] [ext: omni.isaac.utils-0.1.11] startup\n",
      "[10.210s] [ext: omni.kit.property.audio-1.0.5] startup\n",
      "[10.213s] [ext: omni.kit.property.skel-1.0.1] startup\n",
      "[10.215s] [ext: omni.kit.property.render-1.1.0] startup\n",
      "[10.217s] [ext: omni.kit.property.camera-1.0.3] startup\n",
      "[10.218s] [ext: omni.kit.property.geometry-1.2.0] startup\n",
      "[10.221s] [ext: omni.kit.property.light-1.0.5] startup\n",
      "[10.223s] [ext: omni.kit.property.transform-1.0.2] startup\n",
      "[10.230s] [ext: omni.isaac.universal_robots-0.3.0] startup\n",
      "[10.232s] [ext: omni.isaac.occupancy_map-0.2.4] startup\n",
      "[10.253s] [ext: omni.kit.window.console-0.2.0] startup\n",
      "[10.262s] [ext: omni.kit.window.status_bar-0.1.1] startup\n",
      "[10.268s] [ext: omni.kit.property.bundle-1.2.4] startup\n",
      "[10.270s] [ext: omni.kit.menu.file-1.0.8] startup\n",
      "[10.273s] [ext: omni.kit.manipulator.viewport-1.0.6] startup\n",
      "[10.278s] [ext: omni.isaac.urdf-0.4.0] startup\n",
      "[10.325s] [ext: omni.isaac.dofbot-0.3.0] startup\n",
      "[10.326s] [ext: omni.kit.window.title-1.1.2] startup\n",
      "[10.327s] [ext: omni.kit.profiler.window-1.4.4] startup\n",
      "[10.334s] [ext: omni.graph.visualization.nodes-1.1.1] startup\n",
      "[10.343s] [ext: omni.isaac.synthetic_utils-0.3.5] startup\n",
      "[10.348s] [ext: semantics.schema.editor-0.2.3] startup\n",
      "[10.353s] [ext: omni.isaac.sim.python-2022.1.1] startup\n",
      "[10.354s] Simulation App Starting\n",
      "2023-01-02 21:40:21 [10,380ms] [Warning] [omni.client.plugin]  Tick: authentication: Discovery(ws://localhost/omni/discovery): Error creating Auth/Credentials search: Not connected\n",
      "2023-01-02 21:40:21 [10,380ms] [Warning] [omni.client.plugin]  Tick: authentication: Discovery(ws://localhost/omni/discovery): Error creating Auth/Tokens search: Not connected\n",
      "2023-01-02 21:40:21 [10,380ms] [Warning] [omni.client.plugin]  Tick: authentication: Discovery(ws://localhost/omni/discovery): Error creating Api/Connection search: Not connected\n",
      "Done.\n",
      "Saving a temp livesync stage at  omniverse://localhost/Users/yizhou/UVA/uva_table.usd  ...Done.\n"
     ]
    },
    {
     "name": "stderr",
     "output_type": "stream",
     "text": [
      "2023-01-02 21:40:22 [11,176ms] [Error] [omni.usd] [Watcher] Failed to resolve USD Asset Identifier '/home/yizhou/Research/DeepArrange/Material/Wall/Gypsum.mdl' from prim '/World/Looks/Gypsum/Shader'\n",
      "2023-01-02 21:40:22 [11,177ms] [Error] [omni.usd] [Watcher] Failed to resolve USD Asset Identifier '/home/yizhou/Research/DeepArrange/Material/Wood/Oak_Planks.mdl' from prim '/World/Looks/Oak_Planks/Shader'\n",
      "2023-01-02 21:40:22 [11,504ms] [Error] [omni.hydra] Failed to create MDL shade node for prim '/World/Looks/Oak_Planks/Shader'. Unsupported identifiers.\n",
      "2023-01-02 21:40:22 [11,505ms] [Error] [omni.hydra] Failed to create MDL shade node for prim '/World/Looks/Gypsum/Shader'. Unsupported identifiers.\n"
     ]
    },
    {
     "name": "stdout",
     "output_type": "stream",
     "text": [
      "2023-01-02 21:40:22 [11,271ms] [Warning] [omni.usd] Default value for render setting \"/rtx/shaderDb/cachePermutationIndex\" not found\n",
      "2023-01-02 21:40:22 [11,271ms] [Warning] [omni.usd] Default value for render setting \"/rtx/resourcemanager/uploadPooledBuffers/framesToEvict\" not found\n",
      "2023-01-02 21:40:22 [11,271ms] [Warning] [omni.usd] Default value for render setting \"/rtx/resourcemanager/uploadPooledBuffers/uploadSize\" not found\n",
      "2023-01-02 21:40:22 [11,272ms] [Warning] [omni.usd] Default value for render setting \"/rtx/pathtracing/nrc/canRun\" not found\n"
     ]
    }
   ],
   "source": [
    "from omni.isaac.kit import SimulationApp    \n",
    "simulation_app = SimulationApp({\"headless\": True, \"open_usd\": usd_path,  \"livesync_usd\": usd_path}) "
   ]
  },
  {
   "cell_type": "code",
   "execution_count": 6,
   "id": "3e0e266e",
   "metadata": {},
   "outputs": [],
   "source": [
    "# set log level\n",
    "import logging\n",
    "import carb\n",
    "\n",
    "logging.getLogger(\"omni.hydra\").setLevel(logging.ERROR)\n",
    "logging.getLogger(\"omni.isaac.urdf\").setLevel(logging.ERROR)\n",
    "logging.getLogger(\"omni.physx.plugin\").setLevel(logging.ERROR)\n",
    "\n",
    "logging.getLogger(\"omni.isaac.synthetic_utils\").setLevel(logging.ERROR)\n",
    "logging.getLogger(\"omni.isaac.synthetic_utils.syntheticdata\").setLevel(logging.ERROR)\n",
    "logging.getLogger(\"omni.hydra.scene_delegate.plugin\").setLevel(logging.ERROR)\n",
    "\n",
    "\n",
    "l = carb.logging.LEVEL_ERROR\n",
    "carb.settings.get_settings().set(\"/log/level\", l)\n",
    "carb.settings.get_settings().set(\"/log/fileLogLevel\", l)\n",
    "carb.settings.get_settings().set(\"/log/outputStreamLevel\", l)\n",
    "\n",
    "# # This logged error is printed as it should\n",
    "# carb.log_error(\"ERROR\")\n",
    "# # This warning is printed but should not\n",
    "# carb.log_warn(\"WARNING\")"
   ]
  },
  {
   "cell_type": "markdown",
   "id": "be34671d",
   "metadata": {},
   "source": [
    "# Config"
   ]
  },
  {
   "cell_type": "code",
   "execution_count": 7,
   "id": "491f4078",
   "metadata": {},
   "outputs": [],
   "source": [
    "from task.config import DATA_PATH, FEATURE_PATH\n",
    "task_type = \"Table\"\n",
    "side_choice = \"Border\"\n",
    "base_asset_id = 0\n",
    "load_nucleus = True"
   ]
  },
  {
   "cell_type": "code",
   "execution_count": 8,
   "id": "eadd32bf",
   "metadata": {},
   "outputs": [
    {
     "ename": "NameError",
     "evalue": "name 'pause' is not defined",
     "output_type": "error",
     "traceback": [
      "\u001b[0;31m---------------------------------------------------------------------------\u001b[0m",
      "\u001b[0;31mNameError\u001b[0m                                 Traceback (most recent call last)",
      "\u001b[0;32m/tmp/ipykernel_10923/1188747208.py\u001b[0m in \u001b[0;36m<module>\u001b[0;34m\u001b[0m\n\u001b[0;32m----> 1\u001b[0;31m \u001b[0mpause\u001b[0m\u001b[0;34m\u001b[0m\u001b[0;34m\u001b[0m\u001b[0m\n\u001b[0m",
      "\u001b[0;31mNameError\u001b[0m: name 'pause' is not defined"
     ]
    }
   ],
   "source": [
    "pause"
   ]
  },
  {
   "cell_type": "markdown",
   "id": "7475ee6a",
   "metadata": {},
   "source": [
    "# Init Env"
   ]
  },
  {
   "cell_type": "code",
   "execution_count": 9,
   "id": "9a6fd193",
   "metadata": {},
   "outputs": [],
   "source": [
    "from uva_env import UvaEnv\n",
    "env = UvaEnv()"
   ]
  },
  {
   "cell_type": "code",
   "execution_count": 10,
   "id": "d3e665fe",
   "metadata": {},
   "outputs": [],
   "source": [
    "from task.utils import add_scene_default\n",
    "add_scene_default()"
   ]
  },
  {
   "cell_type": "code",
   "execution_count": 13,
   "id": "4c55eb32",
   "metadata": {
    "scrolled": true
   },
   "outputs": [
    {
     "name": "stdout",
     "output_type": "stream",
     "text": [
      "[Usd.Prim(</physicsScene>), Usd.Prim(</World>), Usd.Prim(</World/defaultLight>), Usd.Prim(</World/physicsScene>), Usd.Prim(</OmniverseKit_Persp>), Usd.Prim(</OmniverseKit_Front>), Usd.Prim(</OmniverseKit_Top>), Usd.Prim(</OmniverseKit_Right>), Usd.Prim(</Render>), Usd.Prim(</Render/RenderProduct_Viewport>), Usd.Prim(</Render/Vars>), Usd.Prim(</Render/Vars/LdrColor>)]\n"
     ]
    }
   ],
   "source": [
    "print(list(env.stage.TraverseAll()))"
   ]
  },
  {
   "cell_type": "code",
   "execution_count": 12,
   "id": "feaeb7d0",
   "metadata": {},
   "outputs": [],
   "source": [
    "env.clean()\n",
    "env.world.step(render=True)"
   ]
  },
  {
   "cell_type": "markdown",
   "id": "d3c365e3",
   "metadata": {},
   "source": [
    "# Scene"
   ]
  },
  {
   "cell_type": "code",
   "execution_count": 14,
   "id": "19d7b119",
   "metadata": {},
   "outputs": [],
   "source": [
    "from task.scene import ArrangeScene\n",
    "scene = ArrangeScene(task_type, side_choice, base_asset_id = 0, traj_id = 0, load_nucleus = load_nucleus)\n",
    "env.scene = scene"
   ]
  },
  {
   "cell_type": "code",
   "execution_count": 15,
   "id": "fae909b6",
   "metadata": {},
   "outputs": [
    {
     "name": "stdout",
     "output_type": "stream",
     "text": [
      "asset_prim: omniverse://localhost/Users/yizhou/Asset/T/Appleseed/Appleseed_CoffeeTable.usd\n"
     ]
    }
   ],
   "source": [
    "# add base\n",
    "scene.add_base_asset()"
   ]
  },
  {
   "cell_type": "code",
   "execution_count": 16,
   "id": "a7e1de8b",
   "metadata": {},
   "outputs": [
    {
     "name": "stdout",
     "output_type": "stream",
     "text": [
      "asset_prim: omniverse://localhost/Users/yizhou/Asset/S/0/layout.usd\n"
     ]
    }
   ],
   "source": [
    "# add room\n",
    "scene.add_room()"
   ]
  },
  {
   "cell_type": "code",
   "execution_count": 17,
   "id": "99481529",
   "metadata": {},
   "outputs": [],
   "source": [
    "env.world.step(render=True)"
   ]
  },
  {
   "cell_type": "code",
   "execution_count": 18,
   "id": "ed33c985",
   "metadata": {},
   "outputs": [],
   "source": [
    "# randomize scene\n",
    "from layout.randomizer import Randomizer\n",
    "randomizer = Randomizer(load_nucleus = load_nucleus)"
   ]
  },
  {
   "cell_type": "markdown",
   "id": "bfd24034",
   "metadata": {},
   "source": [
    "# Reward"
   ]
  },
  {
   "cell_type": "code",
   "execution_count": 19,
   "id": "b81a65bf",
   "metadata": {},
   "outputs": [],
   "source": [
    "from uv.reward import Rewarder"
   ]
  },
  {
   "cell_type": "code",
   "execution_count": 20,
   "id": "35761844",
   "metadata": {},
   "outputs": [],
   "source": [
    "rewarder = Rewarder(env.world)\n",
    "env.rewarder = rewarder"
   ]
  },
  {
   "cell_type": "markdown",
   "id": "27c8bada",
   "metadata": {},
   "source": [
    "# Render"
   ]
  },
  {
   "cell_type": "code",
   "execution_count": 21,
   "id": "fba7340e",
   "metadata": {},
   "outputs": [
    {
     "name": "stdout",
     "output_type": "stream",
     "text": [
      "xform_mat:  ( (-0.9022772065525162, 0.43115675483427207, 7.520450512332744e-9, 0), (-0.2649611013529205, -0.5544813549516381, 0.7888892766256522, 0), (0.3401349173623137, 0.7117966906117764, 0.6145354106706125, 0), (75, 175, 150, 1) )\n"
     ]
    }
   ],
   "source": [
    "from render.helper import RenderHelper\n",
    "render = RenderHelper(task_type, side_choice)\n",
    "\n",
    "render.add_task_cameras(camera_type=\"side\")\n",
    "render.set_cameras()"
   ]
  },
  {
   "cell_type": "code",
   "execution_count": 22,
   "id": "56d05f4a",
   "metadata": {
    "scrolled": true
   },
   "outputs": [
    {
     "ename": "NameError",
     "evalue": "name 'pause' is not defined",
     "output_type": "error",
     "traceback": [
      "\u001b[0;31m---------------------------------------------------------------------------\u001b[0m",
      "\u001b[0;31mNameError\u001b[0m                                 Traceback (most recent call last)",
      "\u001b[0;32m/tmp/ipykernel_10923/1188747208.py\u001b[0m in \u001b[0;36m<module>\u001b[0;34m\u001b[0m\n\u001b[0;32m----> 1\u001b[0;31m \u001b[0mpause\u001b[0m\u001b[0;34m\u001b[0m\u001b[0;34m\u001b[0m\u001b[0m\n\u001b[0m",
      "\u001b[0;31mNameError\u001b[0m: name 'pause' is not defined"
     ]
    }
   ],
   "source": [
    "pause"
   ]
  },
  {
   "cell_type": "markdown",
   "id": "69faba50",
   "metadata": {},
   "source": [
    "#  Learning"
   ]
  },
  {
   "cell_type": "code",
   "execution_count": 23,
   "id": "785c3dc5",
   "metadata": {},
   "outputs": [],
   "source": [
    "# # from learning.network.resnet import ResNetFeatureExtractor\n",
    "\n",
    "# # feature extraction\n",
    "# from learning.utils import extract_image_clip_feature_and_save, obtain_action_from_trainer\n",
    "# from transformers import CLIPProcessor, CLIPModel\n",
    "\n",
    "# feature_model = CLIPModel.from_pretrained(\"openai/clip-vit-base-patch32\").to(device)\n",
    "# feature_processor = CLIPProcessor.from_pretrained(\"openai/clip-vit-base-patch32\")\n",
    "\n",
    "# # replay buffer\n",
    "# import json\n",
    "# from learning.replay_buffer import ReplayBuffer\n",
    "# from learning.config import *\n",
    "\n",
    "# buffer = ReplayBuffer(max_size=2000)\n",
    "\n",
    "# # trainer\n",
    "# from learning.network.sac import *\n",
    "\n",
    "# policy = Policy()\n",
    "\n",
    "# qf1 = QFunction()\n",
    "# qf2 = QFunction()\n",
    "# target_qf1 = QFunction()\n",
    "# target_qf2 = QFunction()\n",
    "\n",
    "# from learning.sac_trainer import SACTrainer\n",
    "\n",
    "# trainer = SACTrainer(policy, qf1, qf2, target_qf1, target_qf2, \n",
    "#      use_automatic_entropy_tuning = False, \n",
    "#      policy_lr=1e-3, \n",
    "#      qf_lr=1e-3,\n",
    "#      target_update_period = 5)"
   ]
  },
  {
   "cell_type": "markdown",
   "id": "a93eef8c",
   "metadata": {},
   "source": [
    "# Trajectory"
   ]
  },
  {
   "cell_type": "code",
   "execution_count": 24,
   "id": "e28e6ec5",
   "metadata": {},
   "outputs": [],
   "source": [
    "use_network = False\n",
    "debug = False"
   ]
  },
  {
   "cell_type": "code",
   "execution_count": 25,
   "id": "2707b5f0",
   "metadata": {},
   "outputs": [],
   "source": [
    "total_traj = 0\n",
    "total_step = 0"
   ]
  },
  {
   "cell_type": "markdown",
   "id": "33335313",
   "metadata": {},
   "source": [
    "---------------------"
   ]
  },
  {
   "cell_type": "code",
   "execution_count": null,
   "id": "d9049e66",
   "metadata": {
    "scrolled": true
   },
   "outputs": [
    {
     "name": "stdout",
     "output_type": "stream",
     "text": [
      "total_traj:  1\n",
      "asset_prim: omniverse://localhost/Users/yizhou/Asset/I/Flatware/Fork_Big.usd\n",
      "asset_prim: omniverse://localhost/Users/yizhou/Asset/I/GadgetsAndTool/red_grinder.usd\n",
      "asset_prim: omniverse://localhost/Users/yizhou/Asset/I/Fruit/Lychee01.usd\n",
      "asset_prim: omniverse://localhost/Users/yizhou/Asset/I/Fruit/Kiwi01.usd\n",
      "asset_prim: omniverse://localhost/Users/yizhou/Asset/I/Vase/CellVase05.usd\n",
      "total_traj:  2\n",
      "asset_prim: omniverse://localhost/Users/yizhou/Asset/I/Vase/Vase_D.usd\n",
      "asset_prim: omniverse://localhost/Users/yizhou/Asset/I/Fruit/Apple.usd\n",
      "asset_prim: omniverse://localhost/Users/yizhou/Asset/I/Tchotchke/Lemon_02.usd\n",
      "asset_prim: omniverse://localhost/Users/yizhou/Asset/I/Fruit/Lychee01.usd\n",
      "asset_prim: omniverse://localhost/Users/yizhou/Asset/I/Vase/AntiquelVaseSmall.usd\n"
     ]
    }
   ],
   "source": [
    "# traj config\n",
    "for traj_id in range(31, 100):\n",
    "    print(\"total_traj: \", total_traj)\n",
    "    env.scene.traj_id = traj_id\n",
    "    \n",
    "    # base\n",
    "    if total_traj % 5 == 0:\n",
    "        asset_count = len(env.scene.base_asset_file_paths)\n",
    "        base_asset_id = random.choice([_ for _ in range(asset_count)])\n",
    "        env.scene.base_asset_id = base_asset_id    \n",
    "        env.clean(clean_base = True, clean_all = False)\n",
    "        scene.add_base_asset()\n",
    "        \n",
    "        # randomize scene\n",
    "        randomizer.randomize_house(rand = True)\n",
    "        \n",
    "    image_folder = os.path.join(DATA_PATH, task_type, side_choice, str(traj_id))\n",
    "    \n",
    "    env.world.step(render = True)\n",
    "    env.world.step(render = True)\n",
    "\n",
    "    # get images\n",
    "    env.world.render()\n",
    "    images = render.get_images()\n",
    "    render.save_rgb(images[0]['rgb'], image_folder, \"0\")\n",
    "    \n",
    "    ## extract feature\n",
    "    \n",
    "#     extract_image_feature_and_save(images[0]['rgb'][:,:,:3], \n",
    "#         feature_extractor, os.path.join(image_folder, str(0) + \".pt\"))\n",
    "    if use_network:\n",
    "        extract_image_clip_feature_and_save(f\"{image_folder}/{0}.png\", feature_model, feature_processor, \n",
    "            f\"{image_folder}/{0}.pt\",)\n",
    "    \n",
    "\n",
    "    # trajectory\n",
    "    for step in range(5):\n",
    "        total_step += 1\n",
    "        \n",
    "        # sample an object\n",
    "        env.add_scene_obj(mode = \"random\")\n",
    "        \n",
    "        # TODO: get action from sampling\n",
    "        if not use_network or total_traj < 10 or np.random.rand() < 0.2:\n",
    "            x, y = np.tanh(np.random.randn()), np.tanh(np.random.randn())\n",
    "        else:\n",
    "            image_feature_file = f\"{image_folder}/{step}.pt\"\n",
    "            \n",
    "            object_info = env.scene.objects[-1]\n",
    "            object_type = object_info[\"type\"]\n",
    "            obj_name = object_info[\"name\"][:-4]\n",
    "            object_feature_file = os.path.join(FEATURE_PATH, object_type, obj_name + \".pt\")\n",
    "            x, y = obtain_action_from_trainer(image_feature_file, object_feature_file, trainer, \n",
    "                                              scaler=np.exp(- total_traj / 100))\n",
    "            object_info[\"use_network\"] = True\n",
    "        \n",
    "        # load the object into the scene\n",
    "        env.put_last_object((x, y)) \n",
    "        env.world.step(render=True)\n",
    "        \n",
    "        # register the object to the world for physics update\n",
    "        env.register_last_object()\n",
    "        env.world.step(render=True)\n",
    "\n",
    "        # get images\n",
    "        env.world.render()\n",
    "        images = render.get_images()\n",
    "        render.save_rgb(images[0]['rgb'], image_folder, str(step + 1))\n",
    "\n",
    "        ## calculate reward\n",
    "        env.calculate_last_reward(simulation_step = 30)\n",
    "        \n",
    "        ## extract feature\n",
    "#         extract_image_feature_and_save(images[0]['rgb'][:,:,:3], \n",
    "#             feature_extractor, os.path.join(image_folder, str(step + 1) + \".pt\"))\n",
    "        if use_network:\n",
    "            extract_image_clip_feature_and_save(f\"{image_folder}/{step + 1}.png\", feature_model, feature_processor, \n",
    "                f\"{image_folder}/{step + 1}.pt\",)\n",
    "    \n",
    "\n",
    "        ## reset\n",
    "        env.world.reset()\n",
    "        env.world.step(render=True)\n",
    "        \n",
    "        ## trainer nework\n",
    "        if use_network and total_step % UPDATE_TRAINER_STEPS == 0 and total_traj > 5:\n",
    "            batch = buffer.sample_batch(batch_size = BATCH_SIZE)\n",
    "            trainer.update(batch)\n",
    "            \n",
    "            if debug and total_step % 10 == 0:\n",
    "                rewards = batch['rewards'].to(device)\n",
    "                terminals = batch['terminals'].to(device)\n",
    "                obs = batch['observations'].to(device)\n",
    "                actions = batch['actions'].to(device)\n",
    "                next_obs = batch['next_observations'].to(device)\n",
    "                obj_features = batch['object_features'].to(device)\n",
    "                \n",
    "                dist = trainer.policy(obs, obj_features)\n",
    "                pred = trainer.qf1(obs, obj_features, actions)\n",
    "                print(f\"debug {total_traj}/{total_step}\", #\"\\n dist: \", dist.mean.flatten().tolist(), dist.stddev.flatten().tolist(),\n",
    "                      \"\\n pred:\", pred.flatten().tolist(),\n",
    "                      \"\\n rewards: \", rewards.flatten().tolist())\n",
    "\n",
    "\n",
    "    # Record\n",
    "    record = env.scene.get_scene_data()\n",
    "    env.scene.save_scene_data()\n",
    "    # print(\"record: \", record)\n",
    "    \n",
    "    # Add record to buffer\n",
    "    if use_network:\n",
    "        buffer.add_scene_sample(record)\n",
    "\n",
    "    # Reset (env clean)\n",
    "    env.clean(clean_all = False)\n",
    "    env.step(render = True)\n",
    "    total_traj += 1"
   ]
  },
  {
   "cell_type": "markdown",
   "id": "11155e93",
   "metadata": {},
   "source": [
    "# Debug"
   ]
  },
  {
   "cell_type": "code",
   "execution_count": null,
   "id": "de607bcf",
   "metadata": {},
   "outputs": [],
   "source": [
    "env.clean(clean_base = True, clean_all = False)"
   ]
  },
  {
   "cell_type": "code",
   "execution_count": null,
   "id": "a3c0bdec",
   "metadata": {},
   "outputs": [],
   "source": [
    "# get images\n",
    "env.world.render()\n",
    "env.world.render()\n",
    "images = render.get_images()\n",
    "\n",
    "Image.fromarray(images[0]['rgb'], \"RGBA\").resize((300, 300))"
   ]
  },
  {
   "cell_type": "markdown",
   "id": "9d3687f5",
   "metadata": {},
   "source": [
    "##  Debug Training"
   ]
  },
  {
   "cell_type": "code",
   "execution_count": null,
   "id": "a8d01e0a",
   "metadata": {},
   "outputs": [],
   "source": [
    "import json\n",
    "from learning.replay_buffer import ReplayBuffer\n",
    "\n",
    "buffer = ReplayBuffer(max_size=1000)\n",
    "\n",
    "for i in range(100):\n",
    "    replay = json.load(open(f\"{DATA_PATH}/{task_type}/{side_choice}/{i}/scene.json\"))\n",
    "    buffer.add_scene_sample(replay)"
   ]
  },
  {
   "cell_type": "code",
   "execution_count": null,
   "id": "bec87318",
   "metadata": {
    "scrolled": true
   },
   "outputs": [],
   "source": [
    "len(buffer.dataset)"
   ]
  },
  {
   "cell_type": "code",
   "execution_count": null,
   "id": "63777cf1",
   "metadata": {},
   "outputs": [],
   "source": [
    "# trainer\n",
    "from learning.network.sac import *\n",
    "\n",
    "policy = Policy()\n",
    "\n",
    "qf1 = QFunction()\n",
    "qf2 = QFunction()\n",
    "\n",
    "target_qf1 = QFunction()\n",
    "target_qf1.eval()\n",
    "\n",
    "target_qf2 = QFunction()\n",
    "target_qf2.eval()\n",
    "\n",
    "from learning.sac_trainer import SACTrainer\n",
    "\n",
    "trainer = SACTrainer(policy, qf1, qf2, target_qf1, target_qf2, \n",
    "     use_automatic_entropy_tuning = True, \n",
    "     policy_lr=1e-3, \n",
    "     qf_lr=1e-3,\n",
    "     target_update_period = 5)"
   ]
  },
  {
   "cell_type": "code",
   "execution_count": null,
   "id": "0acc75a9",
   "metadata": {},
   "outputs": [],
   "source": [
    "self = trainer"
   ]
  },
  {
   "cell_type": "code",
   "execution_count": null,
   "id": "be95f838",
   "metadata": {
    "scrolled": true
   },
   "outputs": [],
   "source": [
    "for _ in range(500):\n",
    "    batch = buffer.sample_batch(batch_size=6)\n",
    "\n",
    "    rewards = batch['rewards'].to(device)\n",
    "    terminals = batch['terminals'].to(device)\n",
    "    obs = batch['observations'].to(device)\n",
    "    actions = batch['actions'].to(device)\n",
    "    next_obs = batch['next_observations'].to(device)\n",
    "\n",
    "    obj_features = batch['object_features'].to(device)\n",
    "\n",
    "    # print(\"rewards\", rewards)\n",
    "\n",
    "    self.update(batch)\n",
    "    \n",
    "    if _ % 10 == 0:\n",
    "        dist = self.policy(obs, obj_features)\n",
    "        pred = self.qf1(obs, obj_features, actions)\n",
    "        print(_, \"\\n dist   : \", [round(x, 3) for x in dist.mean.flatten().tolist()], \n",
    "                  [round(x, 3) for x in dist.stddev.flatten().tolist()],\n",
    "              \"\\n pred   :\", [round(x, 3) for x in pred.flatten().tolist()],\n",
    "              \"\\n rewards: \", [round(x, 3) for x in rewards.flatten().tolist()])\n",
    "    \n",
    "#     # debug\n",
    "#     pred = self.qf1(obs, obj_features, actions)\n",
    "#     loss = self.qf_criterion(pred, rewards)\n",
    "    \n",
    "#     self.qf1_optimizer.zero_grad()\n",
    "#     loss.backward()\n",
    "#     self.qf1_optimizer.step()\n",
    "    \n",
    "#     if _ % 20 == 0:\n",
    "#         print(_, \"\\n debug loss: \", loss.item(), \"\\n pred:\", \n",
    "#               pred.flatten().tolist(), \"\\n rewards: \", rewards.flatten().tolist())"
   ]
  },
  {
   "cell_type": "code",
   "execution_count": null,
   "id": "aa6fffc0",
   "metadata": {},
   "outputs": [],
   "source": [
    "dist = self.policy(obs.to(device), obj_features.to(device))"
   ]
  },
  {
   "cell_type": "code",
   "execution_count": null,
   "id": "a4b6e1a4",
   "metadata": {},
   "outputs": [],
   "source": [
    "dist.normal_mean, dist.stddev"
   ]
  },
  {
   "cell_type": "code",
   "execution_count": null,
   "id": "55fdb9ba",
   "metadata": {},
   "outputs": [],
   "source": [
    "dist.sample(scaler = 0.2)"
   ]
  },
  {
   "cell_type": "code",
   "execution_count": null,
   "id": "6fa47896",
   "metadata": {},
   "outputs": [],
   "source": [
    "self = dist"
   ]
  },
  {
   "cell_type": "code",
   "execution_count": null,
   "id": "edef1bac",
   "metadata": {},
   "outputs": [],
   "source": [
    "scaler = 0.1"
   ]
  },
  {
   "cell_type": "code",
   "execution_count": null,
   "id": "f79d7bc0",
   "metadata": {},
   "outputs": [],
   "source": [
    "self.normal_mean + scaler * self.normal_std * MultivariateDiagonalNormal(\n",
    "    torch.zeros(self.normal_mean.size()).to(self.device),\n",
    "    torch.ones(self.normal_std.size()).to(self.device)\n",
    ").sample()"
   ]
  },
  {
   "cell_type": "markdown",
   "id": "8b9643df",
   "metadata": {},
   "source": [
    "# distribution"
   ]
  },
  {
   "cell_type": "code",
   "execution_count": null,
   "id": "be282f66",
   "metadata": {},
   "outputs": [],
   "source": [
    "from learning.distributions import MultivariateDiagonalNormal"
   ]
  },
  {
   "cell_type": "code",
   "execution_count": null,
   "id": "baba459b",
   "metadata": {},
   "outputs": [],
   "source": [
    "dist = JustNormal(dist.mean, dist.stddev)"
   ]
  },
  {
   "cell_type": "code",
   "execution_count": null,
   "id": "4e95ab7d",
   "metadata": {},
   "outputs": [],
   "source": [
    "dist.rsample_and_logprob()"
   ]
  },
  {
   "cell_type": "code",
   "execution_count": null,
   "id": "148bf0bc",
   "metadata": {},
   "outputs": [],
   "source": []
  }
 ],
 "metadata": {
  "kernelspec": {
   "display_name": "Isaac Sim Python 3",
   "language": "python",
   "name": "isaac_sim_python3"
  },
  "language_info": {
   "codemirror_mode": {
    "name": "ipython",
    "version": 3
   },
   "file_extension": ".py",
   "mimetype": "text/x-python",
   "name": "python",
   "nbconvert_exporter": "python",
   "pygments_lexer": "ipython3",
   "version": "3.7.13"
  }
 },
 "nbformat": 4,
 "nbformat_minor": 5
}
