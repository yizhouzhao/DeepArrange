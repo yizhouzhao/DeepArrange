{
 "cells": [
  {
   "cell_type": "code",
   "execution_count": 1,
   "id": "2b4d169b",
   "metadata": {},
   "outputs": [],
   "source": [
    "import os\n",
    "import torch\n",
    "import torchvision"
   ]
  },
  {
   "cell_type": "code",
   "execution_count": 5,
   "id": "7d50127d",
   "metadata": {},
   "outputs": [],
   "source": [
    "from learning.parsing_item_features import EXTENSION_FOLDER_PATH, ObjectFeatureParser"
   ]
  },
  {
   "cell_type": "code",
   "execution_count": 6,
   "id": "ab6d9539",
   "metadata": {},
   "outputs": [],
   "source": [
    "OBJECT_TYPES = os.listdir(EXTENSION_FOLDER_PATH + \"/Asset/I\")"
   ]
  },
  {
   "cell_type": "code",
   "execution_count": 8,
   "id": "9954baee",
   "metadata": {},
   "outputs": [
    {
     "data": {
      "text/plain": [
       "['Supply',\n",
       " 'Magazine',\n",
       " 'GadgetsAndTool',\n",
       " 'DeskDecor',\n",
       " 'Dinnerware',\n",
       " 'Picture',\n",
       " 'Clock_Desk',\n",
       " 'Plant',\n",
       " 'Vase',\n",
       " 'Tchotchke',\n",
       " 'Fruit',\n",
       " 'Flatware',\n",
       " 'Sculpture',\n",
       " 'TableLamp',\n",
       " 'Clock',\n",
       " 'Book']"
      ]
     },
     "execution_count": 8,
     "metadata": {},
     "output_type": "execute_result"
    }
   ],
   "source": [
    "OBJECT_TYPES"
   ]
  },
  {
   "cell_type": "code",
   "execution_count": 3,
   "id": "3a337f1c",
   "metadata": {},
   "outputs": [],
   "source": [
    "for obj_type in OBJECT_TYPES:\n",
    "    parser = ObjectFeatureParser(object_type=obj_type)\n",
    "    parser.parse_all_features()"
   ]
  },
  {
   "cell_type": "code",
   "execution_count": null,
   "id": "6e2bd8b8",
   "metadata": {},
   "outputs": [],
   "source": []
  }
 ],
 "metadata": {
  "kernelspec": {
   "display_name": "Isaac Sim Python 3",
   "language": "python",
   "name": "isaac_sim_python3"
  },
  "language_info": {
   "codemirror_mode": {
    "name": "ipython",
    "version": 3
   },
   "file_extension": ".py",
   "mimetype": "text/x-python",
   "name": "python",
   "nbconvert_exporter": "python",
   "pygments_lexer": "ipython3",
   "version": "3.7.13"
  }
 },
 "nbformat": 4,
 "nbformat_minor": 5
}
