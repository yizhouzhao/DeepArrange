{
 "cells": [
  {
   "cell_type": "code",
   "execution_count": null,
   "id": "37a181d1",
   "metadata": {},
   "outputs": [],
   "source": [
    "import os\n",
    "import torch\n",
    "import torchvision"
   ]
  },
  {
   "cell_type": "code",
   "execution_count": null,
   "id": "2b55a170",
   "metadata": {},
   "outputs": [],
   "source": [
    "from learning.parsing_item_features import EXTENSION_FOLDER_PATH, ObjectFeatureParser"
   ]
  },
  {
   "cell_type": "code",
   "execution_count": null,
   "id": "afcef92c",
   "metadata": {},
   "outputs": [],
   "source": [
    "OBJECT_TYPES = os.listdir(EXTENSION_FOLDER_PATH + \"/Asset/I\")"
   ]
  },
  {
   "cell_type": "code",
   "execution_count": null,
   "id": "e915d0eb",
   "metadata": {},
   "outputs": [],
   "source": [
    "OBJECT_TYPES"
   ]
  },
  {
   "cell_type": "code",
   "execution_count": null,
   "id": "7997ea87",
   "metadata": {},
   "outputs": [],
   "source": [
    "for obj_type in OBJECT_TYPES:\n",
    "    parser = ObjectFeatureParser(object_type=obj_type, model_type = \"clip\")\n",
    "    parser.parse_all_features()"
   ]
  },
  {
   "cell_type": "code",
   "execution_count": null,
   "id": "769f2cd8",
   "metadata": {},
   "outputs": [],
   "source": [
    "pause"
   ]
  },
  {
   "cell_type": "code",
   "execution_count": null,
   "id": "7e8c2e2d",
   "metadata": {},
   "outputs": [],
   "source": []
  },
  {
   "cell_type": "code",
   "execution_count": null,
   "id": "940defef",
   "metadata": {},
   "outputs": [],
   "source": [
    "obj_type = \"Book\"\n",
    "parser = ObjectFeatureParser(object_type=obj_type)\n",
    "parser.parse_all_features()"
   ]
  },
  {
   "cell_type": "code",
   "execution_count": null,
   "id": "73744b0a",
   "metadata": {},
   "outputs": [],
   "source": [
    "self = parser"
   ]
  },
  {
   "cell_type": "code",
   "execution_count": null,
   "id": "9cbeac43",
   "metadata": {},
   "outputs": [],
   "source": [
    "idx = 0"
   ]
  },
  {
   "cell_type": "code",
   "execution_count": null,
   "id": "897e2a59",
   "metadata": {},
   "outputs": [],
   "source": [
    "obj = self.object_list[idx]\n",
    "obj_name = obj[:-4]\n",
    "print(\"Extracting feature for object: \", self.object_list[idx])\n",
    "image_file = os.path.join(self.image_folder, obj + \".png\")\n"
   ]
  },
  {
   "cell_type": "markdown",
   "id": "96e97b0a",
   "metadata": {},
   "source": [
    "# Debug"
   ]
  },
  {
   "cell_type": "code",
   "execution_count": null,
   "id": "9e566033",
   "metadata": {},
   "outputs": [],
   "source": [
    "import torch"
   ]
  },
  {
   "cell_type": "code",
   "execution_count": null,
   "id": "e56355f1",
   "metadata": {},
   "outputs": [],
   "source": [
    "t1 = torch.load(\"/home/yizhou/Research/DeepArrange/Data/Table/Border/0/0.pt\")\n",
    "\n",
    "t2 = torch.load(\"/home/yizhou/Research/DeepArrange/Data/Table/Border/0/5.pt\")\n",
    "\n",
    "torch.mean(torch.abs(t1 - t2))"
   ]
  },
  {
   "cell_type": "code",
   "execution_count": null,
   "id": "f1e1d54a",
   "metadata": {},
   "outputs": [],
   "source": [
    "from PIL import Image\n",
    "import requests\n",
    "from transformers import CLIPProcessor, CLIPModel, CLIPTokenizer\n",
    "\n",
    "model = CLIPModel.from_pretrained(\"openai/clip-vit-base-patch32\")\n",
    "tokenizer = CLIPTokenizer.from_pretrained(\"openai/clip-vit-base-patch32\")"
   ]
  },
  {
   "cell_type": "code",
   "execution_count": null,
   "id": "eb07a5e6",
   "metadata": {},
   "outputs": [],
   "source": [
    "inputs = tokenizer([\"a photo of a table\", \"a photo of many objects\"], padding=True, return_tensors=\"pt\")\n",
    "text_features = model.get_text_features(**inputs)"
   ]
  },
  {
   "cell_type": "code",
   "execution_count": null,
   "id": "6fdea031",
   "metadata": {},
   "outputs": [],
   "source": [
    "text_features.shape"
   ]
  },
  {
   "cell_type": "code",
   "execution_count": null,
   "id": "b485661e",
   "metadata": {},
   "outputs": [],
   "source": [
    "torch.matmul(text_features, t2.unsqueeze(0).transpose(0, 1))"
   ]
  },
  {
   "cell_type": "code",
   "execution_count": null,
   "id": "a3af77f9",
   "metadata": {},
   "outputs": [],
   "source": []
  }
 ],
 "metadata": {
  "kernelspec": {
   "display_name": "Isaac Sim Python 3",
   "language": "python",
   "name": "isaac_sim_python3"
  },
  "language_info": {
   "codemirror_mode": {
    "name": "ipython",
    "version": 3
   },
   "file_extension": ".py",
   "mimetype": "text/x-python",
   "name": "python",
   "nbconvert_exporter": "python",
   "pygments_lexer": "ipython3",
   "version": "3.7.13"
  }
 },
 "nbformat": 4,
 "nbformat_minor": 5
}
