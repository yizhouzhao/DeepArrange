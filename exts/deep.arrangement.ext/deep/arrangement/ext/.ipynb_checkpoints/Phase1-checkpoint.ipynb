{
 "cells": [
  {
   "cell_type": "code",
   "execution_count": 1,
   "id": "ebdd94df",
   "metadata": {},
   "outputs": [],
   "source": [
    "import omni.kit"
   ]
  },
  {
   "cell_type": "code",
   "execution_count": 2,
   "id": "896db912",
   "metadata": {},
   "outputs": [],
   "source": [
    "import getpass\n",
    "user = getpass.getuser()"
   ]
  },
  {
   "cell_type": "code",
   "execution_count": 3,
   "id": "90bc1286",
   "metadata": {},
   "outputs": [],
   "source": [
    "usd_path = \"omniverse://localhost/Users/yizhou/phase1.usd\""
   ]
  },
  {
   "cell_type": "code",
   "execution_count": 4,
   "id": "207018f0",
   "metadata": {},
   "outputs": [
    {
     "name": "stdout",
     "output_type": "stream",
     "text": [
      "Starting kit application with the fillowing args:  ['/home/yizhou/.local/share/isaac_sim-2022.1.1/exts/omni.isaac.kit/omni/isaac/kit/simulation_app.py', '/home/yizhou/.local/share/isaac_sim-2022.1.1/apps/omni.isaac.sim.python.kit', '--/app/tokens/exe-path=/home/yizhou/.local/share/isaac_sim-2022.1.1/kit', '--/persistent/app/viewport/displayOptions=3094', '--/rtx/materialDb/syncLoads=True', '--/rtx/hydra/materialSyncLoads=True--/omni.kit.plugin/syncUsdLoads=True', '--/app/renderer/resolution/width=1280', '--/app/renderer/resolution/height=720', '--/app/window/width=1440', '--/app/window/height=900', '--/renderer/multiGpu/enabled=True', '--ext-folder', '/home/yizhou/.local/share/isaac_sim-2022.1.1/exts', '--ext-folder', '/home/yizhou/.local/share/isaac_sim-2022.1.1/apps', '--/physics/cudaDevice=0', '--portable']\n",
      "Passing the following args to the base kit application:  ['-f', '/home/yizhou/.local/share/jupyter/runtime/kernel-e82e2a24-cbe7-45c0-914f-1d8be3a37fba.json']\n",
      "[Warning] [omni.isaac.kit.simulation_app] Non-headless mode not supported with jupyter notebooks\n",
      "[Warning] [omni.kit.app.plugin] No crash reporter present, dumps uploading isn't available.\n",
      "[Info] [carb] Logging to file: /home/yizhou/.local/share/isaac_sim-2022.1.1/kit/logs/Kit/Isaac-Sim/2022.1/kit_20221010_163523.log\n",
      "2022-10-10 23:35:23 [4ms] [Warning] [omni.ext.plugin] [ext: omni.drivesim.sensors.nv.lidar] Extensions config 'extension.toml' doesn't exist '/home/yizhou/.local/share/isaac_sim-2022.1.1/exts/omni.drivesim.sensors.nv.lidar' or '/home/yizhou/.local/share/isaac_sim-2022.1.1/exts/omni.drivesim.sensors.nv.lidar/config'\n",
      "[0.088s] [ext: omni.stats-0.0.0] startup\n",
      "[0.115s] [ext: omni.gpu_foundation-0.0.0] startup\n",
      "2022-10-10 23:35:23 [115ms] [Warning] [carb] FrameworkImpl::setDefaultPlugin(client: omni.gpu_foundation_factory.plugin, desc : [carb::graphics::Graphics v2.5], plugin : carb.graphics-vulkan.plugin) failed. Plugin selection is locked, because the interface was previously acquired by: \n",
      "[0.126s] [ext: carb.windowing.plugins-1.0.0] startup\n",
      "[0.135s] [ext: omni.assets.plugins-0.0.0] startup\n",
      "[0.136s] [ext: omni.kit.renderer.init-0.0.0] startup\n",
      "\n",
      "|---------------------------------------------------------------------------------------------|\n",
      "| Driver Version: 510.85.2      | Graphics API: Vulkan\n",
      "|=============================================================================================|\n",
      "| GPU | Name                             | Active | LDA | GPU Memory | Vendor-ID | LUID       |\n",
      "|     |                                  |        |     |            | Device-ID | UUID       |\n",
      "|---------------------------------------------------------------------------------------------|\n",
      "| 0   | NVIDIA RTX A6000                 | Yes: 0 |     | 49386   MB | 10de      | 0          |\n",
      "|     |                                  |        |     |            | 2230      | 48cf2a7a.. |\n",
      "|=============================================================================================|\n",
      "| OS: Linux yizhou-System-Product-Name, Version: 5.15.0-48-generic\n",
      "| Processor: 11th Gen Intel(R) Core(TM) i9-11900K @ 3.50GHz | Cores: Unknown | Logical: 16\n",
      "|---------------------------------------------------------------------------------------------|\n",
      "| Total Memory (MB): 31931 | Free Memory: 25883\n",
      "| Total Page/Swap (MB): 2047 | Free Page/Swap: 2047\n",
      "|---------------------------------------------------------------------------------------------|\n",
      "2022-10-10 23:35:24 [705ms] [Warning] [carb.cudainterop.plugin] On Linux only, CUDA and the display driver does not support IOMMU-enabled bare-metal PCIe peer to peer memory copy.\n",
      "However, CUDA and the display driver does support IOMMU via VM pass through. As a consequence, users on Linux,\n",
      "when running on a native bare metal system, should disable the IOMMU. The IOMMU should be enabled and the VFIO driver\n",
      "be used as a PCIe pass through for virtual machines.\n",
      "[0.724s] [ext: omni.kit.pipapi-0.0.0] startup\n",
      "[0.733s] [ext: omni.kit.pip_archive-0.0.0] startup\n",
      "[0.737s] [ext: omni.isaac.core_archive-1.2.0] startup\n",
      "[0.831s] [ext: omni.usd.config-1.0.0] startup\n",
      "[0.833s] [ext: omni.usd.libs-1.0.0] startup\n",
      "[0.957s] [ext: omni.kit.pip_torch-1_11_0-0.1.3] startup\n",
      "[0.990s] [ext: omni.isaac.ml_archive-1.1.0] startup\n",
      "[1.051s] [ext: omni.kit.loop-isaac-0.1.0] startup\n",
      "[1.052s] [ext: omni.kit.async_engine-0.0.0] startup\n",
      "[1.053s] [ext: omni.appwindow-1.0.0] startup\n",
      "[1.058s] [ext: omni.client-0.1.0] startup\n",
      "[1.067s] [ext: omni.kit.test-0.0.0] startup\n",
      "[1.068s] [ext: omni.kit.renderer.core-0.0.0] startup\n",
      "[1.217s] [ext: omni.ui-2.10.3] startup\n",
      "[1.233s] [ext: carb.audio-0.1.0] startup\n",
      "[1.255s] [ext: omni.kit.mainwindow-0.0.0] startup\n",
      "[1.259s] [ext: omni.uiaudio-1.0.0] startup\n",
      "[1.262s] [ext: omni.kit.uiapp-0.0.0] startup\n",
      "[1.262s] [ext: omni.usd.schema.physics-1.0.0] startup\n",
      "[1.302s] [ext: omni.usd.schema.audio-0.0.0] startup\n",
      "[1.309s] [ext: omni.usd.schema.semantics-0.0.0] startup\n",
      "[1.345s] [ext: omni.usd.schema.omnigraph-1.0.0] startup\n",
      "[1.353s] [ext: omni.usd.schema.anim-0.0.0] startup\n",
      "[1.391s] [ext: omni.kit.commands-1.2.2] startup\n",
      "[1.395s] [ext: omni.timeline-1.0.2] startup\n",
      "[1.398s] [ext: omni.hydra.scene_delegate-0.2.0] startup\n",
      "[1.403s] [ext: omni.kit.audiodeviceenum-1.0.0] startup\n",
      "[1.405s] [ext: omni.usd-1.5.3] startup\n",
      "[1.632s] [ext: omni.kit.asset_converter-1.2.31] startup\n",
      "[1.655s] [ext: omni.usd.schema.physx-0.0.0] startup\n",
      "[1.675s] [ext: omni.usd.schema.isaac-0.2.0] startup\n",
      "[1.708s] [ext: omni.usd.schema.forcefield-0.0.0] startup\n",
      "[1.715s] [ext: omni.kvdb-0.0.0] startup\n",
      "[1.719s] [ext: omni.usdphysics-1.4.15] startup\n",
      "[1.720s] [ext: omni.graph.tools-1.4.0] startup\n",
      "[1.750s] [ext: omni.localcache-0.0.0] startup\n",
      "[1.753s] [ext: omni.kit.stage_templates-1.1.2] startup\n",
      "[1.755s] [ext: omni.convexdecomposition-1.4.15] startup\n",
      "[1.758s] [ext: omni.physics.tensors-0.1.0] startup\n",
      "[1.765s] [ext: omni.physx-1.4.15-5.1] startup\n",
      "[1.785s] [ext: omni.graph.core-2.29.1] startup\n",
      "[1.792s] [ext: omni.kit.menu.utils-1.2.11] startup\n",
      "[1.803s] [ext: omni.physx.tensors-0.1.0] startup\n",
      "[1.808s] [ext: omni.graph-1.23.0] startup\n",
      "[1.852s] [ext: omni.kit.numpy.common-0.1.0] startup\n",
      "[1.854s] [ext: omni.kit.window.script_editor-1.6.2] startup\n",
      "[1.866s] [ext: omni.kit.search_core-1.0.2] startup\n",
      "[1.868s] [ext: omni.isaac.dynamic_control-1.1.0] startup\n",
      "[1.877s] [ext: omni.kit.renderer.capture-0.0.0] startup\n",
      "[1.881s] [ext: omni.kit.widget.filebrowser-2.2.27] startup\n",
      "[1.891s] [ext: omni.kit.widget.path_field-2.0.3] startup\n",
      "[1.893s] [ext: omni.kit.notification_manager-1.0.5] startup\n",
      "[1.896s] [ext: omni.kit.widget.versioning-1.3.8] startup\n",
      "[1.898s] [ext: omni.kit.widget.browser_bar-2.0.3] startup\n",
      "[1.900s] [ext: omni.kit.window.popup_dialog-2.0.8] startup\n",
      "[1.903s] [ext: omni.mdl.neuraylib-0.1.0] startup\n",
      "[1.906s] [ext: omni.kit.window.filepicker-2.4.30] startup\n"
     ]
    },
    {
     "name": "stderr",
     "output_type": "stream",
     "text": [
      "OmniAssetFileFormat\n"
     ]
    },
    {
     "name": "stdout",
     "output_type": "stream",
     "text": [
      "Warp initialized:\n",
      "   Version: 0.2.2\n",
      "   CUDA device: NVIDIA RTX A6000\n",
      "   Kernel cache: /home/yizhou/.cache/warp/0.2.2\n",
      "[1.949s] [ext: omni.kit.menu.create-1.0.2] startup\n",
      "[1.951s] [ext: omni.mdl-0.1.0] startup\n",
      "[1.967s] [ext: omni.kit.window.file_importer-1.0.4] startup\n",
      "[1.969s] [ext: omni.kit.window.file_exporter-1.0.4] startup\n",
      "[1.970s] [ext: omni.kit.material.library-1.3.10] startup\n",
      "[1.973s] [ext: omni.kit.window.drop_support-1.0.0] startup\n",
      "[1.974s] [ext: omni.kit.window.file-1.3.16] startup\n",
      "[1.977s] [ext: omni.kit.context_menu-1.3.9] startup\n",
      "[2.021s] [ext: omni.kit.window.property-1.6.3] startup\n",
      "[2.022s] [ext: omni.kit.window.content_browser-2.4.28] startup\n",
      "[2.030s] [ext: omni.kit.widget.stage-2.6.15] startup\n",
      "[2.035s] [ext: omni.isaac.version-1.0.0] startup\n",
      "[2.036s] [ext: omni.kit.property.usd-3.14.9] startup\n",
      "[2.066s] [ext: omni.kit.viewport.legacy_gizmos-1.0.0] startup\n",
      "[2.068s] [ext: omni.hydra.rtx-0.1.0] startup\n",
      "[2.078s] [ext: omni.renderer-rtx-0.0.0] startup\n",
      "[2.079s] [ext: omni.hydra.engine.stats-1.0.0] startup\n",
      "[2.085s] [ext: omni.debugdraw-0.1.0] startup\n",
      "[2.089s] [ext: omni.kit.widget.settings-1.0.0] startup\n",
      "[2.091s] [ext: omni.kit.window.viewport-0.0.0] startup\n",
      "[3.007s] [ext: omni.kit.widget.prompt-1.0.1] startup\n",
      "[3.008s] [ext: omni.kit.widget.graph-1.4.3] startup\n",
      "[3.016s] [ext: omni.kit.window.preferences-1.2.1] startup\n",
      "[3.041s] [ext: omni.ui_query-1.1.1] startup\n",
      "[3.043s] [ext: omni.graph.ui-1.6.1] startup\n",
      "[3.066s] [ext: omni.kit.ui_test-1.2.2] startup\n",
      "[3.068s] [ext: omni.graph.action-1.18.0] startup\n",
      "[3.080s] [ext: omni.kit.widget.searchfield-1.0.6] startup\n",
      "[3.082s] [ext: omni.kit.usd_undo-0.1.0] startup\n",
      "[3.084s] [ext: omni.graph.scriptnode-0.5.0] startup\n",
      "[3.087s] [ext: omni.physx.commands-1.4.15-5.1] startup\n",
      "[3.091s] [ext: omni.graph.nodes-1.26.0] startup\n",
      "[3.105s] [ext: omni.command.usd-1.0.1] startup\n",
      "[3.108s] [ext: omni.kit.window.extensions-1.1.0] startup\n",
      "[3.115s] [ext: omni.syntheticdata-0.2.1] startup\n",
      "[3.156s] [ext: omni.kit.primitive.mesh-1.0.0] startup\n",
      "[3.161s] [ext: omni.warp-0.2.2] startup\n",
      "[3.811s] [ext: omni.isaac.ui-0.2.1] startup\n",
      "[3.813s] [ext: omni.replicator.core-1.4.3] startup\n",
      "[3.996s] [ext: omni.isaac.core-1.24.3] startup\n",
      "[4.072s] [ext: omni.physx.ui-1.4.15-5.1] startup\n",
      "[4.119s] [ext: omni.kit.property.material-1.8.5] startup\n",
      "[4.123s] [ext: omni.kit.window.toolbar-1.2.4] startup\n",
      "[4.130s] [ext: omni.isaac.core_nodes-0.13.0] startup\n",
      "[4.142s] [ext: omni.physx.demos-1.4.15-5.1] startup\n",
      "[4.145s] [ext: omni.kit.property.physx-0.1.0] startup\n",
      "2022-10-10 23:35:27 [4,180ms] [Warning] [omni.physx.plugin] Deprecated: getSimulationEventStream is deprecated, please use getSimulationEventStreamV2\n",
      "[4.192s] [ext: omni.physx.tests-1.4.15-5.1] startup\n",
      "[4.347s] [ext: omni.isaac.wheeled_robots-0.5.8] startup\n",
      "[4.360s] [ext: omni.kit.menu.common-1.0.0] startup\n",
      "[4.363s] [ext: omni.physx.vehicle-1.4.15-5.1] startup\n",
      "[4.374s] [ext: omni.physx.cct-1.4.15-5.1] startup\n",
      "[4.425s] [ext: omni.physx.camera-1.4.15-5.1] startup\n",
      "[4.431s] [ext: omni.kit.widget.stage_icons-1.0.2] startup\n",
      "[4.433s] [ext: omni.ui.scene-1.5.0] startup\n",
      "[4.439s] [ext: omni.physx.bundle-1.4.15-5.1] startup\n",
      "[4.439s] [ext: omni.kit.window.stage-2.3.7] startup\n",
      "[4.442s] [ext: omni.replicator.composer-1.1.3] startup\n",
      "[4.456s] [ext: omni.isaac.lula-1.1.0] startup\n",
      "[4.466s] [ext: omni.rtx.window.settings-0.6.1] startup\n",
      "[4.472s] [ext: omni.isaac.surface_gripper-0.1.2] startup\n",
      "[4.478s] [ext: omni.isaac.motion_planning-0.2.0] startup\n",
      "[4.485s] [ext: omni.rtx.settings.core-0.5.5] startup\n",
      "[4.490s] [ext: omni.isaac.manipulators-1.0.1] startup\n",
      "[4.493s] [ext: omni.isaac.motion_generation-3.6.1] startup\n",
      "[4.499s] [ext: omni.kit.widget.zoombar-1.0.3] startup\n",
      "[4.501s] [ext: omni.kit.graph.delegate.default-1.0.15] startup\n",
      "[4.503s] [ext: omni.isaac.franka-0.3.0] startup\n",
      "[4.504s] [ext: omni.kit.browser.core-2.0.12] startup\n",
      "[4.510s] [ext: omni.kit.graph.editor.core-1.3.3] startup\n",
      "[4.513s] [ext: omni.kit.graph.usd.commands-1.1.0] startup\n",
      "[4.515s] [ext: omni.kit.browser.folder.core-1.1.13] startup\n",
      "[4.518s] [ext: omni.kit.graph.widget.variables-2.0.2] startup\n",
      "[4.520s] [ext: omni.kit.graph.delegate.modern-1.6.0] startup\n",
      "[4.522s] [ext: omni.kit.selection-0.1.0] startup\n",
      "[4.524s] [ext: omni.isaac.debug_draw-0."
     ]
    }
   ],
   "source": [
    "from omni.isaac.kit import SimulationApp    \n",
    "simulation_app = SimulationApp({\"headless\": True, \"open_usd\": usd_path,  \"livesync_usd\": usd_path}) \n"
   ]
  },
  {
   "cell_type": "code",
   "execution_count": 5,
   "id": "72eb09d7",
   "metadata": {},
   "outputs": [],
   "source": [
    "from omni.isaac.core import World\n",
    "world = World()\n",
    "stage = world.scene.stage"
   ]
  },
  {
   "cell_type": "code",
   "execution_count": null,
   "id": "7b415f9a",
   "metadata": {},
   "outputs": [],
   "source": [
    "# clean stage\n",
    "base_prim = stage.GetPrimAtPath(LOOKS_PATH)\n",
    "if mat_look_prim:\n",
    "    omni.kit.commands.execute(\"DeletePrims\", paths=[LOOKS_PATH])"
   ]
  },
  {
   "cell_type": "code",
   "execution_count": null,
   "id": "ed5cf05b",
   "metadata": {},
   "outputs": [],
   "source": [
    "# list(stage.TraverseAll())"
   ]
  },
  {
   "cell_type": "code",
   "execution_count": null,
   "id": "2560d1ea",
   "metadata": {},
   "outputs": [],
   "source": [
    "import torch"
   ]
  },
  {
   "cell_type": "code",
   "execution_count": null,
   "id": "5067071a",
   "metadata": {},
   "outputs": [],
   "source": [
    "torch.__version__"
   ]
  },
  {
   "cell_type": "code",
   "execution_count": null,
   "id": "eb5bdd5f",
   "metadata": {},
   "outputs": [],
   "source": [
    "import transformers"
   ]
  },
  {
   "cell_type": "code",
   "execution_count": null,
   "id": "469daa50",
   "metadata": {},
   "outputs": [],
   "source": [
    "from task.scene import ArrangeScene"
   ]
  },
  {
   "cell_type": "code",
   "execution_count": null,
   "id": "ef5eccde",
   "metadata": {},
   "outputs": [],
   "source": []
  }
 ],
 "metadata": {
  "kernelspec": {
   "display_name": "Isaac Sim Python 3",
   "language": "python",
   "name": "isaac_sim_python3"
  },
  "language_info": {
   "codemirror_mode": {
    "name": "ipython",
    "version": 3
   },
   "file_extension": ".py",
   "mimetype": "text/x-python",
   "name": "python",
   "nbconvert_exporter": "python",
   "pygments_lexer": "ipython3",
   "version": "3.7.13"
  }
 },
 "nbformat": 4,
 "nbformat_minor": 5
}
