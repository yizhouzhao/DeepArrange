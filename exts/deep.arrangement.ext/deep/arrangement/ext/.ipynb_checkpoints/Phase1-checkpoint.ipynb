{
 "cells": [
  {
   "cell_type": "code",
   "execution_count": 1,
   "id": "ed4f9fe6",
   "metadata": {},
   "outputs": [],
   "source": [
    "%load_ext autoreload\n",
    "%autoreload 2"
   ]
  },
  {
   "cell_type": "code",
   "execution_count": 2,
   "id": "69c787b3",
   "metadata": {},
   "outputs": [],
   "source": [
    "import random\n",
    "import numpy"
   ]
  },
  {
   "cell_type": "code",
   "execution_count": 3,
   "id": "896db912",
   "metadata": {},
   "outputs": [],
   "source": [
    "import getpass\n",
    "user = getpass.getuser()"
   ]
  },
  {
   "cell_type": "code",
   "execution_count": 4,
   "id": "910ffe01",
   "metadata": {},
   "outputs": [
    {
     "data": {
      "text/plain": [
       "'yizhou'"
      ]
     },
     "execution_count": 4,
     "metadata": {},
     "output_type": "execute_result"
    }
   ],
   "source": [
    "user"
   ]
  },
  {
   "cell_type": "code",
   "execution_count": 5,
   "id": "e0ab8c93",
   "metadata": {},
   "outputs": [],
   "source": [
    "usd_path = \"omniverse://localhost/Users/yizhou/phase2.usd\""
   ]
  },
  {
   "cell_type": "code",
   "execution_count": 6,
   "id": "6dd75691",
   "metadata": {
    "scrolled": true
   },
   "outputs": [
    {
     "name": "stdout",
     "output_type": "stream",
     "text": [
      "Starting kit application with the fillowing args:  ['/home/yizhou/.local/share/ov/pkg/isaac_sim-2022.1.1/exts/omni.isaac.kit/omni/isaac/kit/simulation_app.py', '/home/yizhou/.local/share/ov/pkg/isaac_sim-2022.1.1/apps/omni.isaac.sim.python.kit', '--/app/tokens/exe-path=/home/yizhou/.local/share/ov/pkg/isaac_sim-2022.1.1/kit', '--/persistent/app/viewport/displayOptions=3094', '--/rtx/materialDb/syncLoads=True', '--/rtx/hydra/materialSyncLoads=True--/omni.kit.plugin/syncUsdLoads=True', '--/app/renderer/resolution/width=1280', '--/app/renderer/resolution/height=720', '--/app/window/width=1440', '--/app/window/height=900', '--/renderer/multiGpu/enabled=True', '--ext-folder', '/home/yizhou/.local/share/ov/pkg/isaac_sim-2022.1.1/exts', '--ext-folder', '/home/yizhou/.local/share/ov/pkg/isaac_sim-2022.1.1/apps', '--/physics/cudaDevice=0', '--portable', '--no-window']\n",
      "Passing the following args to the base kit application:  ['-f', '/home/yizhou/.local/share/jupyter/runtime/kernel-7b094e72-20c5-4b4a-8899-a7aaa3e04922.json']\n",
      "[Warning] [omni.kit.app.plugin] No crash reporter present, dumps uploading isn't available.\n",
      "[Info] [carb] Logging to file: /home/yizhou/.local/share/ov/pkg/isaac_sim-2022.1.1/kit/logs/Kit/Isaac-Sim/2022.1/kit_20221130_193202.log\n",
      "2022-12-01 03:32:02 [5ms] [Warning] [omni.ext.plugin] [ext: omni.drivesim.sensors.nv.lidar] Extensions config 'extension.toml' doesn't exist '/home/yizhou/.local/share/ov/pkg/isaac_sim-2022.1.1/exts/omni.drivesim.sensors.nv.lidar' or '/home/yizhou/.local/share/ov/pkg/isaac_sim-2022.1.1/exts/omni.drivesim.sensors.nv.lidar/config'\n",
      "[0.090s] [ext: omni.stats-0.0.0] startup\n",
      "[0.110s] [ext: omni.gpu_foundation-0.0.0] startup\n",
      "2022-12-01 03:32:02 [120ms] [Warning] [carb] FrameworkImpl::setDefaultPlugin(client: omni.gpu_foundation_factory.plugin, desc : [carb::graphics::Graphics v2.5], plugin : carb.graphics-vulkan.plugin) failed. Plugin selection is locked, because the interface was previously acquired by: \n",
      "[0.138s] [ext: carb.windowing.plugins-1.0.0] startup\n",
      "[0.153s] [ext: omni.assets.plugins-0.0.0] startup\n",
      "[0.156s] [ext: omni.kit.renderer.init-0.0.0] startup\n",
      "\n",
      "|---------------------------------------------------------------------------------------------|\n",
      "| Driver Version: 510.85.2      | Graphics API: Vulkan\n",
      "|=============================================================================================|\n",
      "| GPU | Name                             | Active | LDA | GPU Memory | Vendor-ID | LUID       |\n",
      "|     |                                  |        |     |            | Device-ID | UUID       |\n",
      "|---------------------------------------------------------------------------------------------|\n",
      "| 0   | NVIDIA GeForce RTX 3090          | Yes: 0 |     | 24822   MB | 10de      | 0          |\n",
      "|     |                                  |        |     |            | 2204      | 3f50dd6e.. |\n",
      "|=============================================================================================|\n",
      "| OS: Linux yizhou-Z370-AORUS-Gaming-5, Version: 5.15.0-53-generic\n",
      "| Processor: Intel(R) Core(TM) i7-8700K CPU @ 3.70GHz | Cores: Unknown | Logical: 12\n",
      "|---------------------------------------------------------------------------------------------|\n",
      "| Total Memory (MB): 32044 | Free Memory: 11264\n",
      "| Total Page/Swap (MB): 2047 | Free Page/Swap: 2047\n",
      "|---------------------------------------------------------------------------------------------|\n",
      "2022-12-01 03:32:03 [1,156ms] [Warning] [carb.cudainterop.plugin] On Linux only, CUDA and the display driver does not support IOMMU-enabled bare-metal PCIe peer to peer memory copy.\n",
      "However, CUDA and the display driver does support IOMMU via VM pass through. As a consequence, users on Linux,\n",
      "when running on a native bare metal system, should disable the IOMMU. The IOMMU should be enabled and the VFIO driver\n",
      "be used as a PCIe pass through for virtual machines.\n",
      "[1.187s] [ext: omni.kit.pipapi-0.0.0] startup\n",
      "[1.199s] [ext: omni.kit.pip_archive-0.0.0] startup\n",
      "[1.205s] [ext: omni.isaac.core_archive-1.2.0] startup\n",
      "[1.235s] [ext: omni.usd.config-1.0.0] startup\n",
      "[1.238s] [ext: omni.usd.libs-1.0.0] startup\n",
      "[1.508s] [ext: omni.kit.pip_torch-1_11_0-0.1.3] startup\n",
      "[1.547s] [ext: omni.isaac.ml_archive-1.1.0] startup\n",
      "[1.618s] [ext: omni.kit.loop-isaac-0.1.0] startup\n",
      "[1.620s] [ext: omni.kit.async_engine-0.0.0] startup\n",
      "[1.622s] [ext: omni.appwindow-1.0.0] startup\n",
      "[1.625s] [ext: omni.client-0.1.0] startup\n",
      "[1.651s] [ext: omni.kit.test-0.0.0] startup\n",
      "[1.652s] [ext: omni.kit.renderer.core-0.0.0] startup\n",
      "[1.745s] [ext: omni.ui-2.10.3] startup\n",
      "[1.773s] [ext: carb.audio-0.1.0] startup\n",
      "[1.801s] [ext: omni.kit.mainwindow-0.0.0] startup\n",
      "[1.804s] [ext: omni.uiaudio-1.0.0] startup\n",
      "[1.806s] [ext: omni.kit.uiapp-0.0.0] startup\n",
      "[1.806s] [ext: omni.usd.schema.physics-1.0.0] startup\n",
      "[1.863s] [ext: omni.usd.schema.audio-0.0.0] startup\n",
      "[1.872s] [ext: omni.usd.schema.semantics-0.0.0] startup\n",
      "[1.919s] [ext: omni.usd.schema.omnigraph-1.0.0] startup\n",
      "[1.930s] [ext: omni.usd.schema.anim-0.0.0] startup\n",
      "[1.982s] [ext: omni.kit.commands-1.2.2] startup\n",
      "[1.988s] [ext: omni.timeline-1.0.2] startup\n",
      "[1.991s] [ext: omni.hydra.scene_delegate-0.2.0] startup\n",
      "[2.003s] [ext: omni.kit.audiodeviceenum-1.0.0] startup\n",
      "[2.007s] [ext: omni.usd-1.5.3] startup\n",
      "[2.087s] [ext: omni.kit.asset_converter-1.2.31] startup\n",
      "[2.118s] [ext: omni.usd.schema.physx-0.0.0] startup\n",
      "[2.155s] [ext: omni.usd.schema.isaac-0.2.0] startup\n",
      "[2.214s] [ext: omni.usd.schema.forcefield-0.0.0] startup\n",
      "[2.226s] [ext: omni.kvdb-0.0.0] startup\n",
      "[2.232s] [ext: omni.usdphysics-1.4.15] startup\n",
      "[2.237s] [ext: omni.graph.tools-1.4.0] startup\n",
      "[2.276s] [ext: omni.localcache-0.0.0] startup\n",
      "[2.282s] [ext: omni.kit.stage_templates-1.1.2] startup\n",
      "[2.284s] [ext: omni.convexdecomposition-1.4.15] startup\n",
      "[2.289s] [ext: omni.physics.tensors-0.1.0] startup\n",
      "[2.299s] [ext: omni.physx-1.4.15-5.1] startup\n",
      "2022-12-01 03:32:04 [2,306ms] [Warning] [omni.kvdb.plugin] wasn't able to load the meta database, trying to repair it ...\n",
      "2022-12-01 03:32:04 [2,624ms] [Warning] [omni.kvdb.plugin] repair failed\n",
      "[2.641s] [ext: omni.graph.core-2.29.1] startup\n",
      "[2.653s] [ext: omni.kit.menu.utils-1.2.11] startup\n",
      "[2.672s] [ext: omni.physx.tensors-0.1.0] startup\n",
      "[2.681s] [ext: omni.graph-1.23.0] startup\n",
      "[2.752s] [ext: omni.kit.numpy.common-0.1.0] startup\n",
      "[2.758s] [ext: omni.kit.window.script_editor-1.6.2] startup\n",
      "[2.776s] [ext: omni.kit.search_core-1.0.2] startup\n",
      "[2.781s] [ext: omni.isaac.dynamic_control-1.1.0] startup\n",
      "[2.797s] [ext: omni.kit.renderer.capture-0.0.0] startup\n",
      "[2.801s] [ext: omni.kit.widget.filebrowser-2.2.27] startup\n",
      "[2.814s] [ext: omni.kit.widget.path_field-2.0.3] startup\n",
      "[2.817s] [ext: omni.kit.notification_manager-1.0.5] startup\n",
      "[2.821s] [ext: omni.kit.widget.versioning-1.3.8] startup\n",
      "[2.824s] [ext: omni.kit.widget.browser_bar-2.0.3] startup\n",
      "[2.827s] [ext: omni.kit.window.popup_dialog-2.0.8] startup\n",
      "[2.831s] [ext: omni.mdl.neuraylib-0.1.0] startup\n",
      "[2.836s] [ext: omni.kit.window.filepicker-2.4.30] startup\n"
     ]
    },
    {
     "name": "stderr",
     "output_type": "stream",
     "text": [
      "OmniAssetFileFormat\n"
     ]
    },
    {
     "name": "stdout",
     "output_type": "stream",
     "text": [
      "Warp initialized:\n",
      "   Version: 0.2.2\n",
      "   CUDA device: NVIDIA GeForce RTX 3090\n",
      "   Kernel cache: /home/yizhou/.cache/warp/0.2.2\n",
      "[2.908s] [ext: omni.kit.menu.create-1.0.2] startup\n",
      "[2.910s] [ext: omni.mdl-0.1.0] startup\n",
      "[2.938s] [ext: omni.kit.window.file_importer-1.0.4] startup\n",
      "[2.940s] [ext: omni.kit.window.file_exporter-1.0.4] startup\n",
      "[2.941s] [ext: omni.kit.material.library-1.3.10] startup\n",
      "[2.945s] [ext: omni.kit.window.drop_support-1.0.0] startup\n",
      "[2.947s] [ext: omni.kit.window.file-1.3.16] startup\n",
      "[2.952s] [ext: omni.kit.context_menu-1.3.9] startup\n",
      "[2.999s] [ext: omni.kit.window.property-1.6.3] startup\n",
      "[3.002s] [ext: omni.kit.window.content_browser-2.4.28] startup\n",
      "[3.014s] [ext: omni.kit.widget.stage-2.6.15] startup\n",
      "[3.021s] [ext: omni.isaac.version-1.0.0] startup\n",
      "[3.023s] [ext: omni.kit.property.usd-3.14.9] startup\n",
      "[3.065s] [ext: omni.kit.viewport.legacy_gizmos-1.0.0] startup\n",
      "[3.070s] [ext: omni.hydra.rtx-0.1.0] startup\n",
      "[3.092s] [ext: omni.renderer-rtx-0.0.0] startup\n",
      "[3.095s] [ext: omni.hydra.engine.stats-1.0.0] startup\n",
      "[3.102s] [ext: omni.debugdraw-0.1.0] startup\n",
      "[3.110s] [ext: omni.kit.widget.settings-1.0.0] startup\n",
      "[3.112s] [ext: omni.kit.window.viewport-0.0.0] startup\n",
      "[4.184s] [ext: omni.kit.widget.prompt-1.0.1] startup\n",
      "[4.185s] [ext: omni.kit.widget.graph-1.4.3] startup\n",
      "[4.193s] [ext: omni.kit.window.preferences-1.2.1] startup\n",
      "[4.239s] [ext: omni.ui_query-1.1.1] startup\n",
      "[4.242s] [ext: omni.graph.ui-1.6.1] startup\n",
      "[4.272s] [ext: omni.kit.ui_test-1.2.2] startup\n",
      "[4.275s] [ext: omni.graph.action-1.18.0] startup\n",
      "[4.292s] [ext: omni.kit.widget.searchfield-1.0.6] startup\n",
      "[4.295s] [ext: omni.kit.usd_undo-0.1.0] startup\n",
      "[4.297s] [ext: omni.graph.scriptnode-0.5.0] startup\n",
      "[4.301s] [ext: omni.physx.commands-1.4.15-5.1] startup\n",
      "[4.309s] [ext: omni.graph.nodes-1.26.0] startup\n",
      "[4.330s] [ext: omni.command.usd-1.0.1] startup\n",
      "[4.334s] [ext: omni.kit.window.extensions-1.1.0] startup\n",
      "[4.342s] [ext: omni.syntheticdata-0.2.1] startup\n",
      "[4.410s] [ext: omni.kit.primitive.mesh-1.0.0] startup\n",
      "[4.419s] [ext: omni.warp-0.2.2] startup\n",
      "[5.439s] [ext: omni.isaac.ui-0.2.1] startup\n",
      "[5.442s] [ext: omni.replicator.core-1.4.3] startup\n",
      "[5.702s] [ext: omni.isaac.core-1.24.3] startup\n",
      "[5.822s] [ext: omni.physx.ui-1.4.15-5.1] startup\n",
      "[5.914s] [ext: omni.kit.property.material-1.8.5] startup\n",
      "[5.918s] [ext: omni.kit.window.toolbar-1.2.4] startup\n",
      "[5.928s] [ext: omni.isaac.core_nodes-0.13.0] startup\n",
      "[5.945s] [ext: omni.physx.demos-1.4.15-5.1] startup\n",
      "[5.949s] [ext: omni.kit.property.physx-0.1.0] startup\n",
      "2022-12-01 03:32:08 [6,008ms] [Warning] [omni.physx.plugin] Deprecated: getSimulationEventStream is deprecated, please use getSimulationEventStreamV2\n",
      "[6.027s] [ext: omni.physx.tests-1.4.15-5.1] startup\n",
      "[6.349s] [ext: omni.isaac.wheeled_robots-0.5.8] startup\n",
      "[6.364s] [ext: omni.kit.menu.common-1.0.0] startup\n",
      "[6.367s] [ext: omni.physx.vehicle-1.4.15-5.1] startup\n",
      "[6.381s] [ext: omni.physx.cct-1.4.15-5.1] startup\n",
      "[6.478s] [ext: omni.physx.camera-1.4.15-5.1] startup\n",
      "[6.487s] [ext: omni.kit.widget.stage_icons-1.0.2] startup\n",
      "[6.489s] [ext: omni.ui.scene-1.5.0] startup\n",
      "[6.498s] [ext: omni.physx.bundle-1.4.15-5.1] startup\n",
      "[6.498s] [ext: omni.kit.window.stage-2.3.7] startup\n",
      "[6.502s] [ext: omni.replicator.composer-1.1.3] startup\n",
      "[6.526s] [ext: omni.isaac.lula-1.1.0] startup\n",
      "[6.540s] [ext: omni.rtx.window.settings-0.6.1] startup\n",
      "[6.548s] [ext: omni.isaac.surface_gripper-0.1.2] startup\n",
      "[6.556s] [ext: omni.isaac.motion_planning-0.2.0] startup\n",
      "[6.567s] [ext: omni.rtx.settings.core-0.5.5] startup\n",
      "[6.576s] [ext: omni.isaac.manipulators-1.0.1] startup\n",
      "[6.578s] [ext: omni.isaac.motion_generation-3.6.1] startup\n",
      "[6.586s] [ext: omni.kit.widget.zoombar-1.0.3] startup\n",
      "[6.589s] [ext: omni.kit.graph.delegate.default-1.0.15] startup\n",
      "[6.591s] [ext: omni.isaac.franka-0.3.0] startup\n",
      "[6.592s] [ext: omni.kit.browser.core-2.0.12] startup\n",
      "[6.599s] [ext: omni.kit.graph.editor.core-1.3.3] startup\n",
      "[6.603s] [ext: omni.kit.graph.usd.commands-1.1.0] startup\n",
      "[6.604s] [ext: omni.kit.browser.folder.core-1.1.13] startup\n",
      "[6.609s] [ext: omni.kit.graph.widget.variables-2.0.2] startup\n",
      "[6.612s] [ext: omni.kit.graph.delegate.modern-1.6.0] startup\n",
      "[6.615s] [ext: omni.kit.selection-0.1.0] startup\n",
      "[6.616s] [ext: omni.isaac.debug_draw-0.Opening usd file at  omniverse://localhost/Users/yizhou/phase2.usd  ...1.2] startup\n",
      "[6.624s] [ext: omni.graph.window.core-1.23.4] startup\n",
      "[6.633s] [ext: omni.graph.instancing-1.1.4] startup\n",
      "[6.641s] [ext: omni.kit.menu.edit-1.0.6] startup\n",
      "[6.643s] [ext: omni.isaac.isaac_sensor-1.0.2] startup\n",
      "2022-12-01 03:32:08 [6,637ms] [Warning] [omni.physx.plugin] Deprecated: getSimulationEventStream is deprecated, please use getSimulationEventStreamV2\n",
      "[6.659s] [ext: omni.graph.tutorials-1.1.2] startup\n",
      "[6.685s] [ext: omni.graph.window.action-1.3.8] startup\n",
      "[6.687s] [ext: omni.kit.widget.live-0.1.0] startup\n",
      "[6.693s] [ext: omni.kit.widget.layers-1.5.17] startup\n",
      "[6.713s] [ext: omni.graph.bundle.action-1.0.0] startup\n",
      "[6.713s] [ext: omni.isaac.range_sensor-0.4.3] startup\n",
      "[6.746s] [ext: omni.kit.property.layer-1.1.2] startup\n",
      "[6.749s] [ext: omni.replicator.isaac-1.3.2] startup\n",
      "[6.875s] [ext: omni.isaac.kit-0.2.1] startup\n",
      "[6.877s] [ext: omni.graph.window.generic-1.3.8] startup\n",
      "[6.879s] [ext: omni.isaac.utils-0.1.11] startup\n",
      "[6.884s] [ext: omni.kit.property.audio-1.0.5] startup\n",
      "[6.886s] [ext: omni.kit.property.skel-1.0.1] startup\n",
      "[6.890s] [ext: omni.kit.property.render-1.1.0] startup\n",
      "[6.891s] [ext: omni.kit.property.camera-1.0.3] startup\n",
      "[6.893s] [ext: omni.kit.property.geometry-1.2.0] startup\n",
      "[6.896s] [ext: omni.kit.property.light-1.0.5] startup\n",
      "[6.899s] [ext: omni.kit.property.transform-1.0.2] startup\n",
      "[6.904s] [ext: omni.isaac.universal_robots-0.3.0] startup\n",
      "[6.905s] [ext: omni.isaac.occupancy_map-0.2.4] startup\n",
      "[6.923s] [ext: omni.kit.window.console-0.2.0] startup\n",
      "[6.932s] [ext: omni.kit.window.status_bar-0.1.1] startup\n",
      "[6.938s] [ext: omni.kit.property.bundle-1.2.4] startup\n",
      "[6.941s] [ext: omni.kit.menu.file-1.0.8] startup\n",
      "[6.943s] [ext: omni.kit.manipulator.viewport-1.0.6] startup\n",
      "[6.945s] [ext: omni.isaac.urdf-0.4.0] startup\n",
      "[6.988s] [ext: omni.isaac.dofbot-0.3.0] startup\n",
      "[6.989s] [ext: omni.kit.window.title-1.1.2] startup\n",
      "[6.991s] [ext: omni.kit.profiler.window-1.4.4] startup\n",
      "[6.995s] [ext: omni.graph.visualization.nodes-1.1.1] startup\n",
      "[7.001s] [ext: omni.isaac.synthetic_utils-0.3.5] startup\n",
      "[7.005s] [ext: semantics.schema.editor-0.2.3] startup\n",
      "[7.010s] [ext: omni.isaac.sim.python-2022.1.1] startup\n",
      "[7.011s] Simulation App Starting\n",
      "Could not open omniverse://localhost/Users/yizhou/phase2.usd creating a new empty stage\n"
     ]
    },
    {
     "name": "stderr",
     "output_type": "stream",
     "text": [
      "2022-12-01 03:32:09 [7,045ms] [Error] [omni.usd] Failed to open : omniverse://localhost/Users/yizhou/phase2.usd\n",
      "2022-12-01 03:32:09 [7,045ms] [Error] [omni.usd] Open USD error: Failed to open:omniverse://localhost/Users/yizhou/phase2.usd\n"
     ]
    },
    {
     "name": "stdout",
     "output_type": "stream",
     "text": [
      "Saving a temp livesync stage at  omniverse://localhost/Users/yizhou/phase2.usd  ...Done.\n"
     ]
    }
   ],
   "source": [
    "from omni.isaac.kit import SimulationApp    \n",
    "simulation_app = SimulationApp({\"headless\": True, \"open_usd\": usd_path,  \"livesync_usd\": usd_path}) \n"
   ]
  },
  {
   "cell_type": "code",
   "execution_count": 7,
   "id": "3f3f3123",
   "metadata": {
    "scrolled": true
   },
   "outputs": [
    {
     "data": {
      "text/plain": [
       "'Isaac Sim Python'"
      ]
     },
     "execution_count": 7,
     "metadata": {},
     "output_type": "execute_result"
    }
   ],
   "source": [
    "import carb\n",
    "carb.settings.get_settings().get(\"/app/window/title\")"
   ]
  },
  {
   "cell_type": "code",
   "execution_count": 8,
   "id": "5fd13c42",
   "metadata": {},
   "outputs": [],
   "source": [
    "from omni.isaac.core import World\n",
    "from omni.isaac.core.prims.xform_prim import XFormPrim\n",
    "world = World()"
   ]
  },
  {
   "cell_type": "code",
   "execution_count": 9,
   "id": "9bf8dbde",
   "metadata": {},
   "outputs": [
    {
     "data": {
      "text/plain": [
       "'1.11.0+cu113'"
      ]
     },
     "execution_count": 9,
     "metadata": {},
     "output_type": "execute_result"
    }
   ],
   "source": [
    "import torch\n",
    "torch.__version__\n",
    "\n",
    "# import transformers"
   ]
  },
  {
   "cell_type": "code",
   "execution_count": 10,
   "id": "b21910b7",
   "metadata": {},
   "outputs": [],
   "source": [
    "from uva_env import UvaEnv\n",
    "env = UvaEnv()"
   ]
  },
  {
   "cell_type": "code",
   "execution_count": 11,
   "id": "c75a4788",
   "metadata": {},
   "outputs": [],
   "source": [
    "from task.utils import add_scene_default"
   ]
  },
  {
   "cell_type": "code",
   "execution_count": 12,
   "id": "0fde6988",
   "metadata": {},
   "outputs": [],
   "source": [
    "add_scene_default()"
   ]
  },
  {
   "cell_type": "code",
   "execution_count": 13,
   "id": "cc03d21a",
   "metadata": {
    "scrolled": true
   },
   "outputs": [
    {
     "data": {
      "text/plain": [
       "[Usd.Prim(</Render>),\n",
       " Usd.Prim(</Render/RenderProduct_Viewport>),\n",
       " Usd.Prim(</Render/Vars>),\n",
       " Usd.Prim(</Render/Vars/LdrColor>),\n",
       " Usd.Prim(</physicsScene>),\n",
       " Usd.Prim(</World>),\n",
       " Usd.Prim(</World/defaultLight>),\n",
       " Usd.Prim(</OmniverseKit_Persp>),\n",
       " Usd.Prim(</OmniverseKit_Front>),\n",
       " Usd.Prim(</OmniverseKit_Top>),\n",
       " Usd.Prim(</OmniverseKit_Right>)]"
      ]
     },
     "execution_count": 13,
     "metadata": {},
     "output_type": "execute_result"
    }
   ],
   "source": [
    "list(env.stage.TraverseAll())"
   ]
  },
  {
   "cell_type": "code",
   "execution_count": 16,
   "id": "04cea00c",
   "metadata": {},
   "outputs": [],
   "source": [
    "env.clean()\n",
    "env.world.step(render=True)"
   ]
  },
  {
   "cell_type": "markdown",
   "id": "18b0e77c",
   "metadata": {},
   "source": [
    "# Task scene"
   ]
  },
  {
   "cell_type": "code",
   "execution_count": 17,
   "id": "34b36463",
   "metadata": {},
   "outputs": [],
   "source": [
    "task_type = \"Bookshelf\"\n",
    "side_choice = \"Border\"\n",
    "asset_id = 0\n",
    "load_nucleus = True"
   ]
  },
  {
   "cell_type": "code",
   "execution_count": 18,
   "id": "4d0792f0",
   "metadata": {},
   "outputs": [],
   "source": [
    "from task.scene import ArrangeScene\n",
    "scene = ArrangeScene(task_type, side_choice, asset_id, \"/World/base\", load_nucleus)"
   ]
  },
  {
   "cell_type": "code",
   "execution_count": 28,
   "id": "d4d32696",
   "metadata": {},
   "outputs": [],
   "source": [
    "env.register_scene(scene)"
   ]
  },
  {
   "cell_type": "code",
   "execution_count": 19,
   "id": "8e1c824f",
   "metadata": {
    "scrolled": true
   },
   "outputs": [
    {
     "name": "stdout",
     "output_type": "stream",
     "text": [
      "asset_prim: omniverse://localhost/Users/yizhou/Asset/B/Bookshelve/Clayton.usd\n"
     ]
    }
   ],
   "source": [
    "# base\n",
    "scene.add_base_asset()"
   ]
  },
  {
   "cell_type": "code",
   "execution_count": 21,
   "id": "b7485743",
   "metadata": {},
   "outputs": [
    {
     "name": "stdout",
     "output_type": "stream",
     "text": [
      "asset_prim: omniverse://localhost/Users/yizhou/Asset/S/0/layout.usd\n"
     ]
    }
   ],
   "source": [
    "# add room\n",
    "scene.add_room()"
   ]
  },
  {
   "cell_type": "code",
   "execution_count": 22,
   "id": "e6230b2c",
   "metadata": {},
   "outputs": [],
   "source": [
    "env.world.step(render=True)"
   ]
  },
  {
   "cell_type": "code",
   "execution_count": 23,
   "id": "161187e5",
   "metadata": {},
   "outputs": [
    {
     "name": "stdout",
     "output_type": "stream",
     "text": [
      "loading asset from omni nucleus\n",
      "object_folder ['AbstractFace_Small.usd', 'Abstract_Face.usd', 'AntiquelVaseSmall.usd', 'Bowl_Footed.usd', 'BrassVase.usd', 'CellVase01.usd', 'CellVase02.usd', 'CellVase03.usd', 'CellVase04.usd', 'CellVase05.usd', 'Earthenware01.usd', 'Earthenware02.usd', 'Earthenware03.usd', 'Knit.usd', 'Prime2Layer.usd', 'Prime3Layer.usd', 'Prime_DoubleGourd.usd', 'Prime_Large.usd', 'RecycledGlassVase_Medium.usd', 'RecycledGlassVase_Small.usd', 'Seahorn.usd', 'Vase_Cylinder.usd', 'Vase_D.usd', 'japan_vase.usd']\n",
      "asset_prim: omniverse://localhost/Users/yizhou/Asset/I/Vase/Earthenware01.usd\n"
     ]
    }
   ],
   "source": [
    "# # add object\n",
    "# object_type = random.choice(scene.object_candidates)\n",
    "# scene.load_obj_info(object_type, 1)"
   ]
  },
  {
   "cell_type": "code",
   "execution_count": 29,
   "id": "3f4ac587",
   "metadata": {},
   "outputs": [
    {
     "name": "stdout",
     "output_type": "stream",
     "text": [
      "loading asset from omni nucleus\n",
      "object_folder ['4Tier_Fountain.usd', 'AbstractBike.usd', 'AbstractBird.usd', 'AbstractBull.usd', 'AbstractElephant.usd', 'BridgeBookend.usd', 'ChamferBox.usd', 'CopperScales.usd', 'Cube_Wireframe.usd', 'DecorativeDisk_09.usd', 'DecorativeDisk_11.usd', 'DecorativeDisk_14.usd', 'DecorativeDisk_17.usd', 'DecorativeDisk_20.usd', 'DecorativeDisk_23.usd', 'DiscSculpture.usd', 'FlattenedSphere.usd', 'GeoSphere_Large.usd', 'GeoSphere_Medium.usd', 'GeoSphere_Small.usd', 'GoldenBowlLarge.usd', 'GoldenBowlSmall.usd', 'HearNoEvil_Skull.usd', 'Kiwi.usd', 'MetalLinks.usd', 'ObeliskLarge.usd', 'ObeliskMedium.usd', 'ObeliskSmall.usd', 'OldBike.usd', 'OvalMask.usd', 'SailBoat.usd', 'SeeNoEvil_Skull.usd', 'SpeakNoEvil_Skull.usd', 'SquareMask.usd', 'WoodenBird_Medium.usd', 'WoodenBird_Small.usd', 'WoodenBird_Tall.usd', 'WoodenRing.usd']\n",
      "asset_prim: omniverse://localhost/Users/yizhou/Asset/I/Sculpture/GeoSphere_Large.usd\n"
     ]
    }
   ],
   "source": [
    "env.add_scene_obj(mode = \"random\")"
   ]
  },
  {
   "cell_type": "code",
   "execution_count": 30,
   "id": "4b035c76",
   "metadata": {},
   "outputs": [],
   "source": [
    "env.world.step(render=True)"
   ]
  },
  {
   "cell_type": "code",
   "execution_count": 25,
   "id": "aca5e8bb",
   "metadata": {},
   "outputs": [
    {
     "data": {
      "text/plain": [
       "[{'type': 'Vase',\n",
       "  'name': 'Earthenware01.usd',\n",
       "  'file_path': 'I/Vase/Earthenware01.usd',\n",
       "  'image_path': 'I/Vase/.thumbs/256x256/Earthenware01.usd.png',\n",
       "  'prim_path': '/World/objects/Vase',\n",
       "  'xform_name': '',\n",
       "  'transform': {},\n",
       "  'reward': {}}]"
      ]
     },
     "execution_count": 25,
     "metadata": {},
     "output_type": "execute_result"
    }
   ],
   "source": [
    "scene.objects"
   ]
  },
  {
   "cell_type": "code",
   "execution_count": null,
   "id": "27570ce1",
   "metadata": {},
   "outputs": [],
   "source": [
    "object_prim_path = scene.objects[-1][\"prim_path\"]  \n",
    "object_prim = env.stage.GetPrimAtPath(object_prim_path)\n",
    "x, y = (0.5, 0)#np.tanh(np.random.randn()), np.tanh(np.random.randn())\n",
    "scene.map_object(object_prim_path, (x, y)) "
   ]
  },
  {
   "cell_type": "code",
   "execution_count": null,
   "id": "9aa522f2",
   "metadata": {},
   "outputs": [],
   "source": [
    "env.world.scene.add(object_prim)"
   ]
  },
  {
   "cell_type": "code",
   "execution_count": null,
   "id": "ab2d1964",
   "metadata": {},
   "outputs": [],
   "source": [
    "for _ in range(100):\n",
    "    env.world.step(render=True)"
   ]
  },
  {
   "cell_type": "markdown",
   "id": "4ba90cd7",
   "metadata": {},
   "source": [
    "# Render"
   ]
  },
  {
   "cell_type": "code",
   "execution_count": null,
   "id": "afa43401",
   "metadata": {},
   "outputs": [],
   "source": [
    "from render.helper import RenderHelper\n",
    "render = RenderHelper(task_type, side_choice)"
   ]
  },
  {
   "cell_type": "code",
   "execution_count": null,
   "id": "09486fa9",
   "metadata": {
    "scrolled": false
   },
   "outputs": [],
   "source": [
    "render.add_task_cameras()"
   ]
  },
  {
   "cell_type": "code",
   "execution_count": null,
   "id": "3a62310d",
   "metadata": {},
   "outputs": [],
   "source": [
    "env.world.step(render=True)"
   ]
  },
  {
   "cell_type": "code",
   "execution_count": null,
   "id": "fb637e8f",
   "metadata": {},
   "outputs": [],
   "source": [
    "render.set_cameras()"
   ]
  },
  {
   "cell_type": "code",
   "execution_count": null,
   "id": "a329629e",
   "metadata": {},
   "outputs": [],
   "source": [
    "render.get_images()"
   ]
  },
  {
   "cell_type": "code",
   "execution_count": null,
   "id": "1da1f5f9",
   "metadata": {},
   "outputs": [],
   "source": []
  }
 ],
 "metadata": {
  "kernelspec": {
   "display_name": "Isaac Sim Python 3",
   "language": "python",
   "name": "isaac_sim_python3"
  },
  "language_info": {
   "codemirror_mode": {
    "name": "ipython",
    "version": 3
   },
   "file_extension": ".py",
   "mimetype": "text/x-python",
   "name": "python",
   "nbconvert_exporter": "python",
   "pygments_lexer": "ipython3",
   "version": "3.7.13"
  }
 },
 "nbformat": 4,
 "nbformat_minor": 5
}
