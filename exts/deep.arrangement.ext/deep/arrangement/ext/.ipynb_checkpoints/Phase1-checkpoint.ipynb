{
 "cells": [
  {
   "cell_type": "code",
   "execution_count": 1,
   "id": "ed4f9fe6",
   "metadata": {},
   "outputs": [],
   "source": [
    "%load_ext autoreload\n",
    "%autoreload 2"
   ]
  },
  {
   "cell_type": "code",
   "execution_count": 2,
   "id": "69c787b3",
   "metadata": {},
   "outputs": [],
   "source": [
    "import random\n",
    "import numpy"
   ]
  },
  {
   "cell_type": "code",
   "execution_count": 3,
   "id": "896db912",
   "metadata": {},
   "outputs": [],
   "source": [
    "import getpass\n",
    "user = getpass.getuser()"
   ]
  },
  {
   "cell_type": "code",
   "execution_count": 8,
   "id": "ea6359df",
   "metadata": {},
   "outputs": [
    {
     "data": {
      "text/plain": [
       "'yizhou'"
      ]
     },
     "execution_count": 8,
     "metadata": {},
     "output_type": "execute_result"
    }
   ],
   "source": [
    "user"
   ]
  },
  {
   "cell_type": "code",
   "execution_count": 4,
   "id": "e0ab8c93",
   "metadata": {},
   "outputs": [],
   "source": [
    "usd_path = \"omniverse://localhost/Users/yizhou/phase1.usd\""
   ]
  },
  {
   "cell_type": "code",
   "execution_count": 5,
   "id": "6dd75691",
   "metadata": {
    "scrolled": true
   },
   "outputs": [
    {
     "name": "stdout",
     "output_type": "stream",
     "text": [
      "Starting kit application with the fillowing args:  ['/home/yizhou/.local/share/ov/pkg/isaac_sim-2022.1.1/exts/omni.isaac.kit/omni/isaac/kit/simulation_app.py', '/home/yizhou/.local/share/ov/pkg/isaac_sim-2022.1.1/apps/omni.isaac.sim.python.kit', '--/app/tokens/exe-path=/home/yizhou/.local/share/ov/pkg/isaac_sim-2022.1.1/kit', '--/persistent/app/viewport/displayOptions=3094', '--/rtx/materialDb/syncLoads=True', '--/rtx/hydra/materialSyncLoads=True--/omni.kit.plugin/syncUsdLoads=True', '--/app/renderer/resolution/width=1280', '--/app/renderer/resolution/height=720', '--/app/window/width=1440', '--/app/window/height=900', '--/renderer/multiGpu/enabled=True', '--ext-folder', '/home/yizhou/.local/share/ov/pkg/isaac_sim-2022.1.1/exts', '--ext-folder', '/home/yizhou/.local/share/ov/pkg/isaac_sim-2022.1.1/apps', '--/physics/cudaDevice=0', '--portable', '--no-window']\n",
      "Passing the following args to the base kit application:  ['-f', '/home/yizhou/.local/share/jupyter/runtime/kernel-32517b6b-c2f5-4048-8565-49020cbb31ea.json']\n",
      "[Warning] [omni.kit.app.plugin] No crash reporter present, dumps uploading isn't available.\n",
      "[Info] [carb] Logging to file: /home/yizhou/.local/share/ov/pkg/isaac_sim-2022.1.1/kit/logs/Kit/Isaac-Sim/2022.1/kit_20221115_161132.log\n",
      "2022-11-16 00:11:32 [4ms] [Warning] [omni.ext.plugin] [ext: omni.drivesim.sensors.nv.lidar] Extensions config 'extension.toml' doesn't exist '/home/yizhou/.local/share/ov/pkg/isaac_sim-2022.1.1/exts/omni.drivesim.sensors.nv.lidar' or '/home/yizhou/.local/share/ov/pkg/isaac_sim-2022.1.1/exts/omni.drivesim.sensors.nv.lidar/config'\n",
      "[0.090s] [ext: omni.stats-0.0.0] startup\n",
      "[0.108s] [ext: omni.gpu_foundation-0.0.0] startup\n",
      "2022-11-16 00:11:32 [104ms] [Warning] [carb] FrameworkImpl::setDefaultPlugin(client: omni.gpu_foundation_factory.plugin, desc : [carb::graphics::Graphics v2.5], plugin : carb.graphics-vulkan.plugin) failed. Plugin selection is locked, because the interface was previously acquired by: \n",
      "[0.116s] [ext: carb.windowing.plugins-1.0.0] startup\n",
      "[0.128s] [ext: omni.assets.plugins-0.0.0] startup\n",
      "[0.129s] [ext: omni.kit.renderer.init-0.0.0] startup\n",
      "\n",
      "|---------------------------------------------------------------------------------------------|\n",
      "| Driver Version: 510.85.2      | Graphics API: Vulkan\n",
      "|=============================================================================================|\n",
      "| GPU | Name                             | Active | LDA | GPU Memory | Vendor-ID | LUID       |\n",
      "|     |                                  |        |     |            | Device-ID | UUID       |\n",
      "|---------------------------------------------------------------------------------------------|\n",
      "| 0   | NVIDIA GeForce RTX 3090          | Yes: 0 |     | 24822   MB | 10de      | 0          |\n",
      "|     |                                  |        |     |            | 2204      | 3f50dd6e.. |\n",
      "|=============================================================================================|\n",
      "| OS: Linux yizhou-Z370-AORUS-Gaming-5, Version: 5.15.0-52-generic\n",
      "| Processor: Intel(R) Core(TM) i7-8700K CPU @ 3.70GHz | Cores: Unknown | Logical: 12\n",
      "|---------------------------------------------------------------------------------------------|\n",
      "| Total Memory (MB): 32044 | Free Memory: 14423\n",
      "| Total Page/Swap (MB): 2047 | Free Page/Swap: 2047\n",
      "|---------------------------------------------------------------------------------------------|\n",
      "2022-11-16 00:11:33 [871ms] [Warning] [carb.cudainterop.plugin] On Linux only, CUDA and the display driver does not support IOMMU-enabled bare-metal PCIe peer to peer memory copy.\n",
      "However, CUDA and the display driver does support IOMMU via VM pass through. As a consequence, users on Linux,\n",
      "when running on a native bare metal system, should disable the IOMMU. The IOMMU should be enabled and the VFIO driver\n",
      "be used as a PCIe pass through for virtual machines.\n",
      "[0.895s] [ext: omni.kit.pipapi-0.0.0] startup\n",
      "[0.905s] [ext: omni.kit.pip_archive-0.0.0] startup\n",
      "[0.909s] [ext: omni.isaac.core_archive-1.2.0] startup\n",
      "[0.929s] [ext: omni.usd.config-1.0.0] startup\n",
      "[0.931s] [ext: omni.usd.libs-1.0.0] startup\n",
      "[1.061s] [ext: omni.kit.pip_torch-1_11_0-0.1.3] startup\n",
      "[1.091s] [ext: omni.isaac.ml_archive-1.1.0] startup\n",
      "[1.140s] [ext: omni.kit.loop-isaac-0.1.0] startup\n",
      "[1.141s] [ext: omni.kit.async_engine-0.0.0] startup\n",
      "[1.142s] [ext: omni.appwindow-1.0.0] startup\n",
      "[1.145s] [ext: omni.client-0.1.0] startup\n",
      "[1.155s] [ext: omni.kit.test-0.0.0] startup\n",
      "[1.156s] [ext: omni.kit.renderer.core-0.0.0] startup\n",
      "[1.234s] [ext: omni.ui-2.10.3] startup\n",
      "[1.254s] [ext: carb.audio-0.1.0] startup\n",
      "[1.280s] [ext: omni.kit.mainwindow-0.0.0] startup\n",
      "[1.282s] [ext: omni.uiaudio-1.0.0] startup\n",
      "[1.284s] [ext: omni.kit.uiapp-0.0.0] startup\n",
      "[1.284s] [ext: omni.usd.schema.physics-1.0.0] startup\n",
      "[1.324s] [ext: omni.usd.schema.audio-0.0.0] startup\n",
      "[1.333s] [ext: omni.usd.schema.semantics-0.0.0] startup\n",
      "[1.343s] [ext: omni.usd.schema.omnigraph-1.0.0] startup\n",
      "[1.352s] [ext: omni.usd.schema.anim-0.0.0] startup\n",
      "[1.421s] [ext: omni.kit.commands-1.2.2] startup\n",
      "[1.426s] [ext: omni.timeline-1.0.2] startup\n",
      "[1.428s] [ext: omni.hydra.scene_delegate-0.2.0] startup\n",
      "[1.435s] [ext: omni.kit.audiodeviceenum-1.0.0] startup\n",
      "[1.437s] [ext: omni.usd-1.5.3] startup\n",
      "[1.493s] [ext: omni.kit.asset_converter-1.2.31] startup\n",
      "[1.508s] [ext: omni.usd.schema.physx-0.0.0] startup\n",
      "[1.536s] [ext: omni.usd.schema.isaac-0.2.0] startup\n",
      "[1.577s] [ext: omni.usd.schema.forcefield-0.0.0] startup\n",
      "[1.586s] [ext: omni.kvdb-0.0.0] startup\n",
      "[1.589s] [ext: omni.usdphysics-1.4.15] startup\n",
      "[1.592s] [ext: omni.graph.tools-1.4.0] startup\n",
      "[1.615s] [ext: omni.localcache-0.0.0] startup\n",
      "[1.619s] [ext: omni.kit.stage_templates-1.1.2] startup\n",
      "[1.621s] [ext: omni.convexdecomposition-1.4.15] startup\n",
      "[1.625s] [ext: omni.physics.tensors-0.1.0] startup\n",
      "[1.632s] [ext: omni.physx-1.4.15-5.1] startup\n",
      "2022-11-16 00:11:34 [1,637ms] [Warning] [omni.kvdb.plugin] wasn't able to load the meta database, trying to repair it ...\n",
      "2022-11-16 00:11:34 [1,840ms] [Warning] [omni.kvdb.plugin] repair failed\n",
      "[1.850s] [ext: omni.graph.core-2.29.1] startup\n",
      "[1.856s] [ext: omni.kit.menu.utils-1.2.11] startup\n",
      "[1.866s] [ext: omni.physx.tensors-0.1.0] startup\n",
      "[1.873s] [ext: omni.graph-1.23.0] startup\n",
      "[1.931s] [ext: omni.kit.numpy.common-0.1.0] startup\n",
      "[1.934s] [ext: omni.kit.window.script_editor-1.6.2] startup\n",
      "[1.946s] [ext: omni.kit.search_core-1.0.2] startup\n",
      "[1.948s] [ext: omni.isaac.dynamic_control-1.1.0] startup\n",
      "[1.956s] [ext: omni.kit.renderer.capture-0.0.0] startup\n",
      "[1.959s] [ext: omni.kit.widget.filebrowser-2.2.27] startup\n",
      "[1.968s] [ext: omni.kit.widget.path_field-2.0.3] startup\n",
      "[1.970s] [ext: omni.kit.notification_manager-1.0.5] startup\n",
      "[1.973s] [ext: omni.kit.widget.versioning-1.3.8] startup\n",
      "[1.975s] [ext: omni.kit.widget.browser_bar-2.0.3] startup\n",
      "[1.976s] [ext: omni.kit.window.popup_dialog-2.0.8] startup\n",
      "[1.978s] [ext: omni.mdl.neuraylib-0.1.0] startup\n",
      "[1.982s] [ext: omni.kit.window.filepicker-2.4.30] startup\n"
     ]
    },
    {
     "name": "stderr",
     "output_type": "stream",
     "text": [
      "OmniAssetFileFormat\n"
     ]
    },
    {
     "name": "stdout",
     "output_type": "stream",
     "text": [
      "Warp initialized:\n",
      "   Version: 0.2.2\n",
      "   CUDA device: NVIDIA GeForce RTX 3090\n",
      "   Kernel cache: /home/yizhou/.cache/warp/0.2.2\n",
      "[2.038s] [ext: omni.kit.menu.create-1.0.2] startup\n",
      "[2.040s] [ext: omni.mdl-0.1.0] startup\n",
      "[2.061s] [ext: omni.kit.window.file_importer-1.0.4] startup\n",
      "[2.062s] [ext: omni.kit.window.file_exporter-1.0.4] startup\n",
      "[2.064s] [ext: omni.kit.material.library-1.3.10] startup\n",
      "[2.066s] [ext: omni.kit.window.drop_support-1.0.0] startup\n",
      "[2.067s] [ext: omni.kit.window.file-1.3.16] startup\n",
      "[2.070s] [ext: omni.kit.context_menu-1.3.9] startup\n",
      "[2.115s] [ext: omni.kit.window.property-1.6.3] startup\n",
      "[2.117s] [ext: omni.kit.window.content_browser-2.4.28] startup\n",
      "[2.126s] [ext: omni.kit.widget.stage-2.6.15] startup\n",
      "[2.130s] [ext: omni.isaac.version-1.0.0] startup\n",
      "[2.131s] [ext: omni.kit.property.usd-3.14.9] startup\n",
      "[2.167s] [ext: omni.kit.viewport.legacy_gizmos-1.0.0] startup\n",
      "[2.171s] [ext: omni.hydra.rtx-0.1.0] startup\n",
      "[2.183s] [ext: omni.renderer-rtx-0.0.0] startup\n",
      "[2.183s] [ext: omni.hydra.engine.stats-1.0.0] startup\n",
      "[2.191s] [ext: omni.debugdraw-0.1.0] startup\n",
      "[2.198s] [ext: omni.kit.widget.settings-1.0.0] startup\n",
      "[2.199s] [ext: omni.kit.window.viewport-0.0.0] startup\n",
      "[3.129s] [ext: omni.kit.widget.prompt-1.0.1] startup\n",
      "[3.130s] [ext: omni.kit.widget.graph-1.4.3] startup\n",
      "[3.137s] [ext: omni.kit.window.preferences-1.2.1] startup\n",
      "[3.176s] [ext: omni.ui_query-1.1.1] startup\n",
      "[3.178s] [ext: omni.graph.ui-1.6.1] startup\n",
      "[3.203s] [ext: omni.kit.ui_test-1.2.2] startup\n",
      "[3.205s] [ext: omni.graph.action-1.18.0] startup\n",
      "[3.219s] [ext: omni.kit.widget.searchfield-1.0.6] startup\n",
      "[3.221s] [ext: omni.kit.usd_undo-0.1.0] startup\n",
      "[3.222s] [ext: omni.graph.scriptnode-0.5.0] startup\n",
      "[3.225s] [ext: omni.physx.commands-1.4.15-5.1] startup\n",
      "[3.232s] [ext: omni.graph.nodes-1.26.0] startup\n",
      "[3.248s] [ext: omni.command.usd-1.0.1] startup\n",
      "[3.251s] [ext: omni.kit.window.extensions-1.1.0] startup\n",
      "[3.256s] [ext: omni.syntheticdata-0.2.1] startup\n",
      "[3.297s] [ext: omni.kit.primitive.mesh-1.0.0] startup\n",
      "[3.301s] [ext: omni.warp-0.2.2] startup\n",
      "[4.009s] [ext: omni.isaac.ui-0.2.1] startup\n",
      "[4.011s] [ext: omni.replicator.core-1.4.3] startup\n",
      "[4.225s] [ext: omni.isaac.core-1.24.3] startup\n",
      "[4.322s] [ext: omni.physx.ui-1.4.15-5.1] startup\n",
      "[4.407s] [ext: omni.kit.property.material-1.8.5] startup\n",
      "[4.409s] [ext: omni.kit.window.toolbar-1.2.4] startup\n",
      "[4.416s] [ext: omni.isaac.core_nodes-0.13.0] startup\n",
      "[4.428s] [ext: omni.physx.demos-1.4.15-5.1] startup\n",
      "[4.431s] [ext: omni.kit.property.physx-0.1.0] startup\n",
      "2022-11-16 00:11:37 [4,485ms] [Warning] [omni.physx.plugin] Deprecated: getSimulationEventStream is deprecated, please use getSimulationEventStreamV2\n",
      "[4.498s] [ext: omni.physx.tests-1.4.15-5.1] startup\n",
      "[4.805s] [ext: omni.isaac.wheeled_robots-0.5.8] startup\n",
      "[4.816s] [ext: omni.kit.menu.common-1.0.0] startup\n",
      "[4.818s] [ext: omni.physx.vehicle-1.4.15-5.1] startup\n",
      "[4.830s] [ext: omni.physx.cct-1.4.15-5.1] startup\n",
      "[4.912s] [ext: omni.physx.camera-1.4.15-5.1] startup\n",
      "[4.919s] [ext: omni.kit.widget.stage_icons-1.0.2] startup\n",
      "[4.922s] [ext: omni.ui.scene-1.5.0] startup\n",
      "[4.929s] [ext: omni.physx.bundle-1.4.15-5.1] startup\n",
      "[4.930s] [ext: omni.kit.window.stage-2.3.7] startup\n",
      "[4.933s] [ext: omni.replicator.composer-1.1.3] startup\n",
      "[4.948s] [ext: omni.isaac.lula-1.1.0] startup\n",
      "[4.958s] [ext: omni.rtx.window.settings-0.6.1] startup\n",
      "[4.964s] [ext: omni.isaac.surface_gripper-0.1.2] startup\n",
      "[4.969s] [ext: omni.isaac.motion_planning-0.2.0] startup\n",
      "[4.977s] [ext: omni.rtx.settings.core-0.5.5] startup\n",
      "[4.982s] [ext: omni.isaac.manipulators-1.0.1] startup\n",
      "[4.984s] [ext: omni.isaac.motion_generation-3.6.1] startup\n",
      "[4.989s] [ext: omni.kit.widget.zoombar-1.0.3] startup\n",
      "[4.990s] [ext: omni.kit.graph.delegate.default-1.0.15] startup\n",
      "[4.994s] [ext: omni.isaac.franka-0.3.0] startup\n",
      "[4.996s] [ext: omni.kit.browser.core-2.0.12] startup\n",
      "[5.001s] [ext: omni.kit.graph.editor.core-1.3.3] startup\n",
      "[5.004s] [ext: omni.kit.graph.usd.commands-1.1.0] startup\n",
      "[5.005s] [ext: omni.kit.browser.folder.core-1.1.13] startup\n",
      "[5.007s] [ext: omni.kit.graph.widget.variables-2.0.2] startup\n",
      "[5.009s] [ext: omni.kit.graph.delegate.modern-1.6.0] startup\n",
      "[5.010s] [ext: omni.kit.selection-0.1.0] startup\n",
      "[5.012s] [ext: omni.isaac.debug_draw-0.Opening usd file at  omniverse://localhost/Users/yizhou/phase1.usd  ...Opening in existing browser session.\n",
      "1.2] startup\n",
      "[5.018s] [ext: omni.graph.window.core-1.23.4] startup\n",
      "[5.025s] [ext: omni.graph.instancing-1.1.4] startup\n",
      "[5.033s] [ext: omni.kit.menu.edit-1.0.6] startup\n",
      "[5.035s] [ext: omni.isaac.isaac_sensor-1.0.2] startup\n",
      "2022-11-16 00:11:37 [5,034ms] [Warning] [omni.physx.plugin] Deprecated: getSimulationEventStream is deprecated, please use getSimulationEventStreamV2\n",
      "[5.048s] [ext: omni.graph.tutorials-1.1.2] startup\n",
      "[5.063s] [ext: omni.graph.window.action-1.3.8] startup\n",
      "[5.065s] [ext: omni.kit.widget.live-0.1.0] startup\n",
      "[5.069s] [ext: omni.kit.widget.layers-1.5.17] startup\n",
      "[5.082s] [ext: omni.graph.bundle.action-1.0.0] startup\n",
      "[5.082s] [ext: omni.isaac.range_sensor-0.4.3] startup\n",
      "[5.114s] [ext: omni.kit.property.layer-1.1.2] startup\n",
      "[5.116s] [ext: omni.replicator.isaac-1.3.2] startup\n",
      "[5.198s] [ext: omni.isaac.kit-0.2.1] startup\n",
      "[5.199s] [ext: omni.graph.window.generic-1.3.8] startup\n",
      "[5.200s] [ext: omni.isaac.utils-0.1.11] startup\n",
      "[5.204s] [ext: omni.kit.property.audio-1.0.5] startup\n",
      "[5.205s] [ext: omni.kit.property.skel-1.0.1] startup\n",
      "[5.207s] [ext: omni.kit.property.render-1.1.0] startup\n",
      "[5.209s] [ext: omni.kit.property.camera-1.0.3] startup\n",
      "[5.211s] [ext: omni.kit.property.geometry-1.2.0] startup\n",
      "[5.214s] [ext: omni.kit.property.light-1.0.5] startup\n",
      "[5.216s] [ext: omni.kit.property.transform-1.0.2] startup\n",
      "[5.219s] [ext: omni.isaac.universal_robots-0.3.0] startup\n",
      "[5.219s] [ext: omni.isaac.occupancy_map-0.2.4] startup\n",
      "[5.232s] [ext: omni.kit.window.console-0.2.0] startup\n",
      "[5.238s] [ext: omni.kit.window.status_bar-0.1.1] startup\n",
      "[5.244s] [ext: omni.kit.property.bundle-1.2.4] startup\n",
      "[5.245s] [ext: omni.kit.menu.file-1.0.8] startup\n",
      "[5.246s] [ext: omni.kit.manipulator.viewport-1.0.6] startup\n",
      "[5.249s] [ext: omni.isaac.urdf-0.4.0] startup\n",
      "[5.281s] [ext: omni.isaac.dofbot-0.3.0] startup\n",
      "[5.282s] [ext: omni.kit.window.title-1.1.2] startup\n",
      "[5.283s] [ext: omni.kit.profiler.window-1.4.4] startup\n",
      "[5.286s] [ext: omni.graph.visualization.nodes-1.1.1] startup\n",
      "[5.289s] [ext: omni.isaac.synthetic_utils-0.3.5] startup\n",
      "[5.291s] [ext: semantics.schema.editor-0.2.3] startup\n",
      "[5.295s] [ext: omni.isaac.sim.python-2022.1.1] startup\n",
      "[5.295s] Simulation App Starting\n",
      "2022-11-16 00:11:37 [5,332ms] [Warning] [omni.client.plugin]  Tick: authentication: Discovery(ws://localhost/omni/discovery): Error creating Auth/Credentials search: Not connected\n",
      "2022-11-16 00:11:37 [5,332ms] [Warning] [omni.client.plugin]  Tick: authentication: Discovery(ws://localhost/omni/discovery): Error creating Auth/Tokens search: Not connected\n",
      "2022-11-16 00:11:37 [5,332ms] [Warning] [omni.client.plugin]  Tick: authentication: Discovery(ws://localhost/omni/discovery): Error creating Api/Connection search: Not connected\n",
      "Could not open omniverse://localhost/Users/yizhou/phase1.usd creating a new empty stage\n"
     ]
    },
    {
     "name": "stderr",
     "output_type": "stream",
     "text": [
      "2022-11-16 00:11:39 [7,348ms] [Error] [omni.client.plugin]  Auth Listener: authentication: Auth: Tokens.subscribe returned Denied\n",
      "2022-11-16 00:11:39 [7,350ms] [Error] [omni.usd] Failed to open : omniverse://localhost/Users/yizhou/phase1.usd\n",
      "2022-11-16 00:11:39 [7,350ms] [Error] [omni.usd] Open USD error: Failed to open:omniverse://localhost/Users/yizhou/phase1.usd\n"
     ]
    },
    {
     "name": "stdout",
     "output_type": "stream",
     "text": [
      "Saving a temp livesync stage at  omniverse://localhost/Users/yizhou/phase1.usd  ...2022-11-16 00:11:40 [7,844ms] [Warning] [omni.usd] Default value for render setting \"/rtx/shaderDb/cachePermutationIndex\" not found\n",
      "2022-11-16 00:11:40 [7,844ms] [Warning] [omni.usd] Default value for render setting \"/rtx/resourcemanager/uploadPooledBuffers/framesToEvict\" not found\n",
      "2022-11-16 00:11:40 [7,844ms] [Warning] [omni.usd] Default value for render setting \"/rtx/resourcemanager/uploadPooledBuffers/uploadSize\" not found\n",
      "2022-11-16 00:11:40 [7,844ms] [Warning] [omni.usd] Default value for render setting \"/rtx/pathtracing/nrc/canRun\" not found\n",
      "Done.\n"
     ]
    },
    {
     "name": "stderr",
     "output_type": "stream",
     "text": [
      "2022-11-16 00:11:40 [7,848ms] [Error] [omni.usd] ERROR! Cannot save layer anon:0x158c9e30:World0.usd to new path as new path omniverse://localhost/Users/yizhou/phase1.usd cannot be opened.\n",
      "2022-11-16 00:11:40 [7,848ms] [Error] [omni.usd] Failed to save layer anon:0x158c9e30:World0.usd to new path omniverse://localhost/Users/yizhou/phase1.usd\n"
     ]
    }
   ],
   "source": [
    "from omni.isaac.kit import SimulationApp    \n",
    "simulation_app = SimulationApp({\"headless\": True, \"open_usd\": usd_path,  \"livesync_usd\": usd_path}) \n"
   ]
  },
  {
   "cell_type": "code",
   "execution_count": 6,
   "id": "3f3f3123",
   "metadata": {
    "scrolled": true
   },
   "outputs": [
    {
     "data": {
      "text/plain": [
       "'Isaac Sim Python'"
      ]
     },
     "execution_count": 6,
     "metadata": {},
     "output_type": "execute_result"
    }
   ],
   "source": [
    "import carb\n",
    "carb.settings.get_settings().get(\"/app/window/title\")"
   ]
  },
  {
   "cell_type": "code",
   "execution_count": null,
   "id": "5fd13c42",
   "metadata": {},
   "outputs": [],
   "source": [
    "from omni.isaac.core import World\n",
    "from omni.isaac.core.prims.xform_prim import XFormPrim\n",
    "world = World()"
   ]
  },
  {
   "cell_type": "code",
   "execution_count": null,
   "id": "fc98b25d",
   "metadata": {},
   "outputs": [],
   "source": [
    "mobility_obj = XFormPrim(\"/World/Cube\")\n",
    "world.scene.add(mobility_obj)\n",
    "world.reset()"
   ]
  },
  {
   "cell_type": "code",
   "execution_count": null,
   "id": "f0ab6b3f",
   "metadata": {},
   "outputs": [],
   "source": [
    "# Step our simulation to ensure everything initialized\n",
    "world.step()\n",
    "world.step()"
   ]
  },
  {
   "cell_type": "code",
   "execution_count": null,
   "id": "58dc9dcf",
   "metadata": {},
   "outputs": [],
   "source": [
    "for i in range(100):\n",
    "    world.step()\n",
    "    world.render()"
   ]
  },
  {
   "cell_type": "code",
   "execution_count": null,
   "id": "cc03d21a",
   "metadata": {},
   "outputs": [],
   "source": [
    "# list(env.stage.TraverseAll())"
   ]
  },
  {
   "cell_type": "code",
   "execution_count": null,
   "id": "9bf8dbde",
   "metadata": {},
   "outputs": [],
   "source": [
    "# import torch\n",
    "\n",
    "# torch.__version__\n",
    "\n",
    "# import transformers"
   ]
  },
  {
   "cell_type": "code",
   "execution_count": 7,
   "id": "b21910b7",
   "metadata": {},
   "outputs": [
    {
     "name": "stdout",
     "output_type": "stream",
     "text": [
      "EXTENSION_FOLDER_PATH None\n"
     ]
    }
   ],
   "source": [
    "from uva_env import UvaEnv\n",
    "env = UvaEnv()"
   ]
  },
  {
   "cell_type": "code",
   "execution_count": null,
   "id": "456c0ecf",
   "metadata": {},
   "outputs": [],
   "source": [
    "# import omni.kit\n",
    "# omni.kit.commands.execute(\"CreatePrimWithDefaultXform\", prim_type=\"Cube\", prim_path = \"/World/Cube\")"
   ]
  },
  {
   "cell_type": "code",
   "execution_count": null,
   "id": "6dee69da",
   "metadata": {},
   "outputs": [],
   "source": [
    "env.reset_scene()"
   ]
  },
  {
   "cell_type": "code",
   "execution_count": null,
   "id": "dc68dd8d",
   "metadata": {},
   "outputs": [],
   "source": [
    "# import omni.kit\n",
    "# omni.kit.commands.execute(\"DeletePrims\", paths=[\"/World/Camera2\"])"
   ]
  },
  {
   "cell_type": "code",
   "execution_count": null,
   "id": "4b3c24d3",
   "metadata": {},
   "outputs": [],
   "source": [
    "env.world.step(render=True)"
   ]
  },
  {
   "cell_type": "markdown",
   "id": "18b0e77c",
   "metadata": {},
   "source": [
    "# Task scene"
   ]
  },
  {
   "cell_type": "code",
   "execution_count": null,
   "id": "34b36463",
   "metadata": {},
   "outputs": [],
   "source": [
    "task_type = \"Bookshelf\"\n",
    "side_choice = \"Border\"\n",
    "asset_id = 0\n",
    "load_nucleus = True"
   ]
  },
  {
   "cell_type": "code",
   "execution_count": null,
   "id": "4d0792f0",
   "metadata": {},
   "outputs": [],
   "source": [
    "from task.scene import ArrangeScene\n",
    "scene = ArrangeScene(task_type, side_choice, asset_id, \"/World/base\", load_nucleus)"
   ]
  },
  {
   "cell_type": "code",
   "execution_count": null,
   "id": "8e1c824f",
   "metadata": {
    "scrolled": true
   },
   "outputs": [],
   "source": [
    "# base\n",
    "scene.add_base_asset()"
   ]
  },
  {
   "cell_type": "code",
   "execution_count": null,
   "id": "e6230b2c",
   "metadata": {},
   "outputs": [],
   "source": [
    "env.world.step(render=True)"
   ]
  },
  {
   "cell_type": "code",
   "execution_count": null,
   "id": "161187e5",
   "metadata": {},
   "outputs": [],
   "source": [
    "# object\n",
    "object_type = random.choice(scene.object_candidates)\n",
    "scene.load_obj_info(object_type, 1)"
   ]
  },
  {
   "cell_type": "code",
   "execution_count": null,
   "id": "4b035c76",
   "metadata": {},
   "outputs": [],
   "source": [
    "env.world.step(render=True)"
   ]
  },
  {
   "cell_type": "code",
   "execution_count": null,
   "id": "aca5e8bb",
   "metadata": {},
   "outputs": [],
   "source": [
    "scene.objects"
   ]
  },
  {
   "cell_type": "code",
   "execution_count": null,
   "id": "27570ce1",
   "metadata": {},
   "outputs": [],
   "source": [
    "object_prim_path = scene.objects[-1][\"prim_path\"]  \n",
    "object_prim = env.stage.GetPrimAtPath(object_prim_path)\n",
    "x, y = (0.5, 0)#np.tanh(np.random.randn()), np.tanh(np.random.randn())\n",
    "scene.map_object(object_prim_path, (x, y)) "
   ]
  },
  {
   "cell_type": "code",
   "execution_count": null,
   "id": "9aa522f2",
   "metadata": {},
   "outputs": [],
   "source": [
    "env.world.scene.add(object_prim)"
   ]
  },
  {
   "cell_type": "code",
   "execution_count": null,
   "id": "ab2d1964",
   "metadata": {},
   "outputs": [],
   "source": [
    "for _ in range(100):\n",
    "    env.world.step(render=True)"
   ]
  },
  {
   "cell_type": "markdown",
   "id": "4ba90cd7",
   "metadata": {},
   "source": [
    "# Render"
   ]
  },
  {
   "cell_type": "code",
   "execution_count": null,
   "id": "afa43401",
   "metadata": {},
   "outputs": [],
   "source": [
    "from render.helper import RenderHelper\n",
    "render = RenderHelper()"
   ]
  },
  {
   "cell_type": "code",
   "execution_count": null,
   "id": "09486fa9",
   "metadata": {
    "scrolled": false
   },
   "outputs": [],
   "source": [
    "render.set_cameras(task_type, side_choice)"
   ]
  },
  {
   "cell_type": "code",
   "execution_count": null,
   "id": "3a62310d",
   "metadata": {},
   "outputs": [],
   "source": [
    "env.world.step(render=True)"
   ]
  },
  {
   "cell_type": "code",
   "execution_count": null,
   "id": "fb637e8f",
   "metadata": {},
   "outputs": [],
   "source": [
    "render.get_images()"
   ]
  },
  {
   "cell_type": "code",
   "execution_count": null,
   "id": "c898a0ff",
   "metadata": {},
   "outputs": [],
   "source": []
  }
 ],
 "metadata": {
  "kernelspec": {
   "display_name": "Isaac Sim Python 3",
   "language": "python",
   "name": "isaac_sim_python3"
  },
  "language_info": {
   "codemirror_mode": {
    "name": "ipython",
    "version": 3
   },
   "file_extension": ".py",
   "mimetype": "text/x-python",
   "name": "python",
   "nbconvert_exporter": "python",
   "pygments_lexer": "ipython3",
   "version": "3.7.13"
  }
 },
 "nbformat": 4,
 "nbformat_minor": 5
}
