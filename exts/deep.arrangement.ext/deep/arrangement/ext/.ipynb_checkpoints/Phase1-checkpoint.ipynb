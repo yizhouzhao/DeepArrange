{
 "cells": [
  {
   "cell_type": "code",
   "execution_count": null,
   "id": "ed4f9fe6",
   "metadata": {},
   "outputs": [],
   "source": [
    "%load_ext autoreload\n",
    "%autoreload 2"
   ]
  },
  {
   "cell_type": "code",
   "execution_count": null,
   "id": "69c787b3",
   "metadata": {},
   "outputs": [],
   "source": [
    "import random\n",
    "import numpy"
   ]
  },
  {
   "cell_type": "code",
   "execution_count": null,
   "id": "896db912",
   "metadata": {},
   "outputs": [],
   "source": [
    "import getpass\n",
    "user = getpass.getuser()"
   ]
  },
  {
   "cell_type": "code",
   "execution_count": null,
   "id": "910ffe01",
   "metadata": {},
   "outputs": [],
   "source": [
    "user"
   ]
  },
  {
   "cell_type": "code",
   "execution_count": null,
   "id": "e0ab8c93",
   "metadata": {},
   "outputs": [],
   "source": [
    "usd_path = \"omniverse://localhost/Users/yizhou/phase2.usd\""
   ]
  },
  {
   "cell_type": "code",
   "execution_count": null,
   "id": "6dd75691",
   "metadata": {
    "scrolled": true
   },
   "outputs": [],
   "source": [
    "from omni.isaac.kit import SimulationApp    \n",
    "simulation_app = SimulationApp({\"headless\": True, \"open_usd\": usd_path,  \"livesync_usd\": usd_path}) \n"
   ]
  },
  {
   "cell_type": "code",
   "execution_count": null,
   "id": "3f3f3123",
   "metadata": {
    "scrolled": true
   },
   "outputs": [],
   "source": [
    "import carb\n",
    "carb.settings.get_settings().get(\"/app/window/title\")"
   ]
  },
  {
   "cell_type": "code",
   "execution_count": null,
   "id": "5fd13c42",
   "metadata": {},
   "outputs": [],
   "source": [
    "from omni.isaac.core import World\n",
    "from omni.isaac.core.prims.xform_prim import XFormPrim\n",
    "world = World()"
   ]
  },
  {
   "cell_type": "code",
   "execution_count": null,
   "id": "fc98b25d",
   "metadata": {},
   "outputs": [],
   "source": [
    "# mobility_obj = XFormPrim(\"/World/Cube\")\n",
    "# world.scene.add(mobility_obj)\n",
    "# world.reset()"
   ]
  },
  {
   "cell_type": "code",
   "execution_count": null,
   "id": "58dc9dcf",
   "metadata": {},
   "outputs": [],
   "source": [
    "for i in range(10):\n",
    "    world.step()\n",
    "    world.render()"
   ]
  },
  {
   "cell_type": "code",
   "execution_count": null,
   "id": "9bf8dbde",
   "metadata": {},
   "outputs": [],
   "source": [
    "import torch\n",
    "torch.__version__\n",
    "\n",
    "# import transformers"
   ]
  },
  {
   "cell_type": "code",
   "execution_count": null,
   "id": "b21910b7",
   "metadata": {},
   "outputs": [],
   "source": [
    "from uva_env import UvaEnv\n",
    "env = UvaEnv()"
   ]
  },
  {
   "cell_type": "code",
   "execution_count": null,
   "id": "cc03d21a",
   "metadata": {
    "scrolled": true
   },
   "outputs": [],
   "source": [
    "list(env.stage.TraverseAll())"
   ]
  },
  {
   "cell_type": "code",
   "execution_count": null,
   "id": "144471ac",
   "metadata": {},
   "outputs": [],
   "source": [
    "env.clean()"
   ]
  },
  {
   "cell_type": "code",
   "execution_count": null,
   "id": "456c0ecf",
   "metadata": {},
   "outputs": [],
   "source": [
    "# import omni.kit\n",
    "# omni.kit.commands.execute(\"CreatePrimWithDefaultXform\", prim_type=\"Cube\", prim_path = \"/World/Cube\")"
   ]
  },
  {
   "cell_type": "code",
   "execution_count": null,
   "id": "dc68dd8d",
   "metadata": {},
   "outputs": [],
   "source": [
    "# import omni.kit\n",
    "# omni.kit.commands.execute(\"DeletePrims\", paths=[\"/World/Camera2\"])"
   ]
  },
  {
   "cell_type": "code",
   "execution_count": null,
   "id": "4b3c24d3",
   "metadata": {},
   "outputs": [],
   "source": [
    "env.world.step(render=True)"
   ]
  },
  {
   "cell_type": "code",
   "execution_count": null,
   "id": "718181c2",
   "metadata": {},
   "outputs": [],
   "source": [
    "stage = env.stage"
   ]
  },
  {
   "cell_type": "code",
   "execution_count": null,
   "id": "70c77fd6",
   "metadata": {},
   "outputs": [],
   "source": [
    "import omni\n",
    "# clean base\n",
    "base_prim = stage.GetPrimAtPath(\"/World/base\")\n",
    "if base_prim.IsValid():\n",
    "    omni.kit.commands.execute(\"DeletePrims\", paths=[\"/World/base\"])"
   ]
  },
  {
   "cell_type": "code",
   "execution_count": null,
   "id": "2e6f2729",
   "metadata": {},
   "outputs": [],
   "source": []
  },
  {
   "cell_type": "markdown",
   "id": "18b0e77c",
   "metadata": {},
   "source": [
    "# Task scene"
   ]
  },
  {
   "cell_type": "code",
   "execution_count": null,
   "id": "34b36463",
   "metadata": {},
   "outputs": [],
   "source": [
    "task_type = \"Bookshelf\"\n",
    "side_choice = \"Border\"\n",
    "asset_id = 0\n",
    "load_nucleus = True"
   ]
  },
  {
   "cell_type": "code",
   "execution_count": null,
   "id": "4d0792f0",
   "metadata": {},
   "outputs": [],
   "source": [
    "from task.scene import ArrangeScene\n",
    "scene = ArrangeScene(task_type, side_choice, asset_id, \"/World/base\", load_nucleus)"
   ]
  },
  {
   "cell_type": "code",
   "execution_count": null,
   "id": "8e1c824f",
   "metadata": {
    "scrolled": true
   },
   "outputs": [],
   "source": [
    "# base\n",
    "scene.add_base_asset()"
   ]
  },
  {
   "cell_type": "code",
   "execution_count": null,
   "id": "e6230b2c",
   "metadata": {},
   "outputs": [],
   "source": [
    "env.world.step(render=True)"
   ]
  },
  {
   "cell_type": "code",
   "execution_count": null,
   "id": "161187e5",
   "metadata": {},
   "outputs": [],
   "source": [
    "# object\n",
    "object_type = random.choice(scene.object_candidates)\n",
    "scene.load_obj_info(object_type, 1)"
   ]
  },
  {
   "cell_type": "code",
   "execution_count": null,
   "id": "4b035c76",
   "metadata": {},
   "outputs": [],
   "source": [
    "env.world.step(render=True)"
   ]
  },
  {
   "cell_type": "code",
   "execution_count": null,
   "id": "aca5e8bb",
   "metadata": {},
   "outputs": [],
   "source": [
    "scene.objects"
   ]
  },
  {
   "cell_type": "code",
   "execution_count": null,
   "id": "27570ce1",
   "metadata": {},
   "outputs": [],
   "source": [
    "object_prim_path = scene.objects[-1][\"prim_path\"]  \n",
    "object_prim = env.stage.GetPrimAtPath(object_prim_path)\n",
    "x, y = (0.5, 0)#np.tanh(np.random.randn()), np.tanh(np.random.randn())\n",
    "scene.map_object(object_prim_path, (x, y)) "
   ]
  },
  {
   "cell_type": "code",
   "execution_count": null,
   "id": "9aa522f2",
   "metadata": {},
   "outputs": [],
   "source": [
    "env.world.scene.add(object_prim)"
   ]
  },
  {
   "cell_type": "code",
   "execution_count": null,
   "id": "ab2d1964",
   "metadata": {},
   "outputs": [],
   "source": [
    "for _ in range(100):\n",
    "    env.world.step(render=True)"
   ]
  },
  {
   "cell_type": "markdown",
   "id": "4ba90cd7",
   "metadata": {},
   "source": [
    "# Render"
   ]
  },
  {
   "cell_type": "code",
   "execution_count": null,
   "id": "afa43401",
   "metadata": {},
   "outputs": [],
   "source": [
    "from render.helper import RenderHelper\n",
    "render = RenderHelper(task_type, side_choice)"
   ]
  },
  {
   "cell_type": "code",
   "execution_count": null,
   "id": "09486fa9",
   "metadata": {
    "scrolled": false
   },
   "outputs": [],
   "source": [
    "render.add_task_cameras()"
   ]
  },
  {
   "cell_type": "code",
   "execution_count": null,
   "id": "3a62310d",
   "metadata": {},
   "outputs": [],
   "source": [
    "env.world.step(render=True)"
   ]
  },
  {
   "cell_type": "code",
   "execution_count": null,
   "id": "fb637e8f",
   "metadata": {},
   "outputs": [],
   "source": [
    "render.set_cameras()"
   ]
  },
  {
   "cell_type": "code",
   "execution_count": null,
   "id": "a329629e",
   "metadata": {},
   "outputs": [],
   "source": [
    "render.get_images()"
   ]
  },
  {
   "cell_type": "code",
   "execution_count": null,
   "id": "1da1f5f9",
   "metadata": {},
   "outputs": [],
   "source": []
  }
 ],
 "metadata": {
  "kernelspec": {
   "display_name": "Isaac Sim Python 3",
   "language": "python",
   "name": "isaac_sim_python3"
  },
  "language_info": {
   "codemirror_mode": {
    "name": "ipython",
    "version": 3
   },
   "file_extension": ".py",
   "mimetype": "text/x-python",
   "name": "python",
   "nbconvert_exporter": "python",
   "pygments_lexer": "ipython3",
   "version": "3.7.13"
  }
 },
 "nbformat": 4,
 "nbformat_minor": 5
}
