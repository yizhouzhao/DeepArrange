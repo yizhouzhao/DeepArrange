{
 "cells": [
  {
   "cell_type": "code",
   "execution_count": 1,
   "id": "37f3f733",
   "metadata": {},
   "outputs": [],
   "source": [
    "%load_ext autoreload\n",
    "%autoreload 2"
   ]
  },
  {
   "cell_type": "code",
   "execution_count": 2,
   "id": "a9bbe31c",
   "metadata": {},
   "outputs": [],
   "source": [
    "import random\n",
    "import numpy"
   ]
  },
  {
   "cell_type": "code",
   "execution_count": 3,
   "id": "896db912",
   "metadata": {},
   "outputs": [],
   "source": [
    "import getpass\n",
    "user = getpass.getuser()"
   ]
  },
  {
   "cell_type": "code",
   "execution_count": 4,
   "id": "b7c34d60",
   "metadata": {},
   "outputs": [],
   "source": [
    "usd_path = \"omniverse://localhost/Users/yizhou/phase1.usd\""
   ]
  },
  {
   "cell_type": "code",
   "execution_count": 5,
   "id": "f53d011e",
   "metadata": {},
   "outputs": [
    {
     "name": "stdout",
     "output_type": "stream",
     "text": [
      "Starting kit application with the fillowing args:  ['/home/yizhou/.local/share/isaac_sim-2022.1.1/exts/omni.isaac.kit/omni/isaac/kit/simulation_app.py', '/home/yizhou/.local/share/isaac_sim-2022.1.1/apps/omni.isaac.sim.python.kit', '--/app/tokens/exe-path=/home/yizhou/.local/share/isaac_sim-2022.1.1/kit', '--/persistent/app/viewport/displayOptions=3094', '--/rtx/materialDb/syncLoads=True', '--/rtx/hydra/materialSyncLoads=True--/omni.kit.plugin/syncUsdLoads=True', '--/app/renderer/resolution/width=1280', '--/app/renderer/resolution/height=720', '--/app/window/width=1440', '--/app/window/height=900', '--/renderer/multiGpu/enabled=True', '--ext-folder', '/home/yizhou/.local/share/isaac_sim-2022.1.1/exts', '--ext-folder', '/home/yizhou/.local/share/isaac_sim-2022.1.1/apps', '--/physics/cudaDevice=0', '--portable', '--no-window']\n",
      "Passing the following args to the base kit application:  ['-f', '/home/yizhou/.local/share/jupyter/runtime/kernel-e82e2a24-cbe7-45c0-914f-1d8be3a37fba.json']\n",
      "[Warning] [omni.kit.app.plugin] No crash reporter present, dumps uploading isn't available.\n",
      "[Info] [carb] Logging to file: /home/yizhou/.local/share/isaac_sim-2022.1.1/kit/logs/Kit/Isaac-Sim/2022.1/kit_20221010_174703.log\n",
      "2022-10-11 00:47:03 [4ms] [Warning] [omni.ext.plugin] [ext: omni.drivesim.sensors.nv.lidar] Extensions config 'extension.toml' doesn't exist '/home/yizhou/.local/share/isaac_sim-2022.1.1/exts/omni.drivesim.sensors.nv.lidar' or '/home/yizhou/.local/share/isaac_sim-2022.1.1/exts/omni.drivesim.sensors.nv.lidar/config'\n",
      "[0.088s] [ext: omni.stats-0.0.0] startup\n",
      "[0.098s] [ext: omni.gpu_foundation-0.0.0] startup\n",
      "2022-10-11 00:47:03 [96ms] [Warning] [carb] FrameworkImpl::setDefaultPlugin(client: omni.gpu_foundation_factory.plugin, desc : [carb::graphics::Graphics v2.5], plugin : carb.graphics-vulkan.plugin) failed. Plugin selection is locked, because the interface was previously acquired by: \n",
      "[0.102s] [ext: carb.windowing.plugins-1.0.0] startup\n",
      "[0.108s] [ext: omni.assets.plugins-0.0.0] startup\n",
      "[0.109s] [ext: omni.kit.renderer.init-0.0.0] startup\n",
      "\n",
      "|---------------------------------------------------------------------------------------------|\n",
      "| Driver Version: 510.85.2      | Graphics API: Vulkan\n",
      "|=============================================================================================|\n",
      "| GPU | Name                             | Active | LDA | GPU Memory | Vendor-ID | LUID       |\n",
      "|     |                                  |        |     |            | Device-ID | UUID       |\n",
      "|---------------------------------------------------------------------------------------------|\n",
      "| 0   | NVIDIA RTX A6000                 | Yes: 0 |     | 49386   MB | 10de      | 0          |\n",
      "|     |                                  |        |     |            | 2230      | 48cf2a7a.. |\n",
      "|=============================================================================================|\n",
      "| OS: Linux yizhou-System-Product-Name, Version: 5.15.0-48-generic\n",
      "| Processor: 11th Gen Intel(R) Core(TM) i9-11900K @ 3.50GHz | Cores: Unknown | Logical: 16\n",
      "|---------------------------------------------------------------------------------------------|\n",
      "| Total Memory (MB): 31931 | Free Memory: 26372\n",
      "| Total Page/Swap (MB): 2047 | Free Page/Swap: 2047\n",
      "|---------------------------------------------------------------------------------------------|\n",
      "2022-10-11 00:47:04 [632ms] [Warning] [carb.cudainterop.plugin] On Linux only, CUDA and the display driver does not support IOMMU-enabled bare-metal PCIe peer to peer memory copy.\n",
      "However, CUDA and the display driver does support IOMMU via VM pass through. As a consequence, users on Linux,\n",
      "when running on a native bare metal system, should disable the IOMMU. The IOMMU should be enabled and the VFIO driver\n",
      "be used as a PCIe pass through for virtual machines.\n",
      "[0.647s] [ext: omni.kit.pipapi-0.0.0] startup\n",
      "[0.653s] [ext: omni.kit.pip_archive-0.0.0] startup\n",
      "[0.656s] [ext: omni.isaac.core_archive-1.2.0] startup\n",
      "[0.668s] [ext: omni.usd.config-1.0.0] startup\n",
      "[0.670s] [ext: omni.usd.libs-1.0.0] startup\n",
      "[0.741s] [ext: omni.kit.pip_torch-1_11_0-0.1.3] startup\n",
      "[0.761s] [ext: omni.isaac.ml_archive-1.1.0] startup\n",
      "[0.791s] [ext: omni.kit.loop-isaac-0.1.0] startup\n",
      "[0.792s] [ext: omni.kit.async_engine-0.0.0] startup\n",
      "[0.793s] [ext: omni.appwindow-1.0.0] startup\n",
      "[0.795s] [ext: omni.client-0.1.0] startup\n",
      "[0.801s] [ext: omni.kit.test-0.0.0] startup\n",
      "[0.802s] [ext: omni.kit.renderer.core-0.0.0] startup\n",
      "[0.853s] [ext: omni.ui-2.10.3] startup\n",
      "[0.864s] [ext: carb.audio-0.1.0] startup\n",
      "[0.865s] [ext: omni.kit.mainwindow-0.0.0] startup\n",
      "[0.867s] [ext: omni.uiaudio-1.0.0] startup\n",
      "[0.867s] [ext: omni.kit.uiapp-0.0.0] startup\n",
      "[0.867s] [ext: omni.usd.schema.physics-1.0.0] startup\n",
      "[0.895s] [ext: omni.usd.schema.audio-0.0.0] startup\n",
      "[0.900s] [ext: omni.usd.schema.semantics-0.0.0] startup\n",
      "[0.907s] [ext: omni.usd.schema.omnigraph-1.0.0] startup\n",
      "[0.912s] [ext: omni.usd.schema.anim-0.0.0] startup\n",
      "[0.966s] [ext: omni.kit.commands-1.2.2] startup\n",
      "[0.970s] [ext: omni.timeline-1.0.2] startup\n",
      "[0.971s] [ext: omni.hydra.scene_delegate-0.2.0] startup\n",
      "[0.976s] [ext: omni.kit.audiodeviceenum-1.0.0] startup\n",
      "[0.978s] [ext: omni.usd-1.5.3] startup\n",
      "[1.187s] [ext: omni.kit.asset_converter-1.2.31] startup\n",
      "[1.205s] [ext: omni.usd.schema.physx-0.0.0] startup\n",
      "[1.224s] [ext: omni.usd.schema.isaac-0.2.0] startup\n",
      "[1.250s] [ext: omni.usd.schema.forcefield-0.0.0] startup\n",
      "[1.256s] [ext: omni.kvdb-0.0.0] startup\n",
      "[1.258s] [ext: omni.usdphysics-1.4.15] startup\n",
      "[1.259s] [ext: omni.graph.tools-1.4.0] startup\n",
      "[1.274s] [ext: omni.localcache-0.0.0] startup\n",
      "[1.276s] [ext: omni.kit.stage_templates-1.1.2] startup\n",
      "[1.278s] [ext: omni.convexdecomposition-1.4.15] startup\n",
      "[1.280s] [ext: omni.physics.tensors-0.1.0] startup\n",
      "[1.284s] [ext: omni.physx-1.4.15-5.1] startup\n",
      "[1.303s] [ext: omni.graph.core-2.29.1] startup\n",
      "[1.306s] [ext: omni.kit.menu.utils-1.2.11] startup\n",
      "[1.314s] [ext: omni.physx.tensors-0.1.0] startup\n",
      "[1.318s] [ext: omni.graph-1.23.0] startup\n",
      "[1.353s] [ext: omni.kit.numpy.common-0.1.0] startup\n",
      "[1.356s] [ext: omni.kit.window.script_editor-1.6.2] startup\n",
      "[1.362s] [ext: omni.kit.search_core-1.0.2] startup\n",
      "[1.364s] [ext: omni.isaac.dynamic_control-1.1.0] startup\n",
      "[1.369s] [ext: omni.kit.renderer.capture-0.0.0] startup\n",
      "[1.371s] [ext: omni.kit.widget.filebrowser-2.2.27] startup\n",
      "[1.377s] [ext: omni.kit.widget.path_field-2.0.3] startup\n",
      "[1.378s] [ext: omni.kit.notification_manager-1.0.5] startup\n",
      "[1.380s] [ext: omni.kit.widget.versioning-1.3.8] startup\n",
      "[1.381s] [ext: omni.kit.widget.browser_bar-2.0.3] startup\n",
      "[1.382s] [ext: omni.kit.window.popup_dialog-2.0.8] startup\n",
      "[1.383s] [ext: omni.mdl.neuraylib-0.1.0] startup\n",
      "[1.386s] [ext: omni.kit.window.filepicker-2.4.30] startup\n"
     ]
    },
    {
     "name": "stderr",
     "output_type": "stream",
     "text": [
      "OmniAssetFileFormat\n"
     ]
    },
    {
     "name": "stdout",
     "output_type": "stream",
     "text": [
      "Warp initialized:\n",
      "   Version: 0.2.2\n",
      "   CUDA device: NVIDIA RTX A6000\n",
      "   Kernel cache: /home/yizhou/.cache/warp/0.2.2\n",
      "[1.423s] [ext: omni.kit.menu.create-1.0.2] startup\n",
      "[1.425s] [ext: omni.mdl-0.1.0] startup\n",
      "[1.442s] [ext: omni.kit.window.file_importer-1.0.4] startup\n",
      "[1.443s] [ext: omni.kit.window.file_exporter-1.0.4] startup\n",
      "[1.443s] [ext: omni.kit.material.library-1.3.10] startup\n",
      "[1.446s] [ext: omni.kit.window.drop_support-1.0.0] startup\n",
      "[1.446s] [ext: omni.kit.window.file-1.3.16] startup\n",
      "[1.448s] [ext: omni.kit.context_menu-1.3.9] startup\n",
      "[1.500s] [ext: omni.kit.window.property-1.6.3] startup\n",
      "[1.502s] [ext: omni.kit.window.content_browser-2.4.28] startup\n",
      "[1.509s] [ext: omni.kit.widget.stage-2.6.15] startup\n",
      "[1.513s] [ext: omni.isaac.version-1.0.0] startup\n",
      "[1.513s] [ext: omni.kit.property.usd-3.14.9] startup\n",
      "[1.536s] [ext: omni.kit.viewport.legacy_gizmos-1.0.0] startup\n",
      "[1.539s] [ext: omni.hydra.rtx-0.1.0] startup\n",
      "[1.544s] [ext: omni.renderer-rtx-0.0.0] startup\n",
      "[1.545s] [ext: omni.hydra.engine.stats-1.0.0] startup\n",
      "[1.549s] [ext: omni.debugdraw-0.1.0] startup\n",
      "[1.552s] [ext: omni.kit.widget.settings-1.0.0] startup\n",
      "[1.554s] [ext: omni.kit.window.viewport-0.0.0] startup\n",
      "[2.297s] [ext: omni.kit.widget.prompt-1.0.1] startup\n",
      "[2.298s] [ext: omni.kit.widget.graph-1.4.3] startup\n",
      "[2.302s] [ext: omni.kit.window.preferences-1.2.1] startup\n",
      "[2.326s] [ext: omni.ui_query-1.1.1] startup\n",
      "[2.327s] [ext: omni.graph.ui-1.6.1] startup\n",
      "[2.343s] [ext: omni.kit.ui_test-1.2.2] startup\n",
      "[2.345s] [ext: omni.graph.action-1.18.0] startup\n",
      "[2.352s] [ext: omni.kit.widget.searchfield-1.0.6] startup\n",
      "[2.353s] [ext: omni.kit.usd_undo-0.1.0] startup\n",
      "[2.355s] [ext: omni.graph.scriptnode-0.5.0] startup\n",
      "[2.356s] [ext: omni.physx.commands-1.4.15-5.1] startup\n",
      "[2.360s] [ext: omni.graph.nodes-1.26.0] startup\n",
      "[2.369s] [ext: omni.command.usd-1.0.1] startup\n",
      "[2.371s] [ext: omni.kit.window.extensions-1.1.0] startup\n",
      "[2.375s] [ext: omni.syntheticdata-0.2.1] startup\n",
      "[2.400s] [ext: omni.kit.primitive.mesh-1.0.0] startup\n",
      "[2.403s] [ext: omni.warp-0.2.2] startup\n",
      "[2.868s] [ext: omni.isaac.ui-0.2.1] startup\n",
      "[2.869s] [ext: omni.replicator.core-1.4.3] startup\n",
      "[3.023s] [ext: omni.isaac.core-1.24.3] startup\n",
      "[3.088s] [ext: omni.physx.ui-1.4.15-5.1] startup\n",
      "[3.134s] [ext: omni.kit.property.material-1.8.5] startup\n",
      "[3.136s] [ext: omni.kit.window.toolbar-1.2.4] startup\n",
      "[3.141s] [ext: omni.isaac.core_nodes-0.13.0] startup\n",
      "[3.149s] [ext: omni.physx.demos-1.4.15-5.1] startup\n",
      "[3.151s] [ext: omni.kit.property.physx-0.1.0] startup\n",
      "2022-10-11 00:47:06 [3,191ms] [Warning] [omni.physx.plugin] Deprecated: getSimulationEventStream is deprecated, please use getSimulationEventStreamV2\n",
      "[3.198s] [ext: omni.physx.tests-1.4.15-5.1] startup\n",
      "[3.351s] [ext: omni.isaac.wheeled_robots-0.5.8] startup\n",
      "[3.359s] [ext: omni.kit.menu.common-1.0.0] startup\n",
      "[3.360s] [ext: omni.physx.vehicle-1.4.15-5.1] startup\n",
      "[3.368s] [ext: omni.physx.cct-1.4.15-5.1] startup\n",
      "[3.417s] [ext: omni.physx.camera-1.4.15-5.1] startup\n",
      "[3.422s] [ext: omni.kit.widget.stage_icons-1.0.2] startup\n",
      "[3.423s] [ext: omni.ui.scene-1.5.0] startup\n",
      "[3.427s] [ext: omni.physx.bundle-1.4.15-5.1] startup\n",
      "[3.427s] [ext: omni.kit.window.stage-2.3.7] startup\n",
      "[3.430s] [ext: omni.replicator.composer-1.1.3] startup\n",
      "[3.440s] [ext: omni.isaac.lula-1.1.0] startup\n",
      "[3.447s] [ext: omni.rtx.window.settings-0.6.1] startup\n",
      "[3.451s] [ext: omni.isaac.surface_gripper-0.1.2] startup\n",
      "[3.455s] [ext: omni.isaac.motion_planning-0.2.0] startup\n",
      "[3.460s] [ext: omni.rtx.settings.core-0.5.5] startup\n",
      "[3.463s] [ext: omni.isaac.manipulators-1.0.1] startup\n",
      "[3.464s] [ext: omni.isaac.motion_generation-3.6.1] startup\n",
      "[3.468s] [ext: omni.kit.widget.zoombar-1.0.3] startup\n",
      "[3.468s] [ext: omni.kit.graph.delegate.default-1.0.15] startup\n",
      "[3.470s] [ext: omni.isaac.franka-0.3.0] startup\n",
      "[3.470s] [ext: omni.kit.browser.core-2.0.12] startup\n",
      "[3.474s] [ext: omni.kit.graph.editor.core-1.3.3] startup\n",
      "[3.476s] [ext: omni.kit.graph.usd.commands-1.1.0] startup\n",
      "[3.476s] [ext: omni.kit.browser.folder.core-1.1.13] startup\n",
      "[3.478s] [ext: omni.kit.graph.widget.variables-2.0.2] startup\n",
      "[3.479s] [ext: omni.kit.graph.delegate.modern-1.6.0] startup\n",
      "[3.480s] [ext: omni.kit.selection-0.1.0] startup\n",
      "[3.481s] [ext: omni.isaac.debug_draw-0.Opening usd file at  omniverse://localhost/Users/yizhou/phase1.usd  ...Done.\n",
      "Saving a temp livesync stage at  omniverse://localhost/Users/yizhou/phase1.usd  ...Done.\n"
     ]
    }
   ],
   "source": [
    "from omni.isaac.kit import SimulationApp    \n",
    "simulation_app = SimulationApp({\"headless\": True, \"open_usd\": usd_path,  \"livesync_usd\": usd_path}) \n"
   ]
  },
  {
   "cell_type": "code",
   "execution_count": 6,
   "id": "94422383",
   "metadata": {},
   "outputs": [],
   "source": [
    "# list(env.stage.TraverseAll())"
   ]
  },
  {
   "cell_type": "code",
   "execution_count": 7,
   "id": "14820ac9",
   "metadata": {},
   "outputs": [],
   "source": [
    "# import torch\n",
    "\n",
    "# torch.__version__\n",
    "\n",
    "# import transformers"
   ]
  },
  {
   "cell_type": "code",
   "execution_count": 8,
   "id": "c0efd6d3",
   "metadata": {},
   "outputs": [],
   "source": [
    "from uva_env import UvaEnv\n",
    "env = UvaEnv()"
   ]
  },
  {
   "cell_type": "code",
   "execution_count": 9,
   "id": "fe0783d7",
   "metadata": {},
   "outputs": [],
   "source": [
    "# omni.kit.commands.execute(\"CreatePrimWithDefaultXform\", prim_type=\"Camera\", prim_path = \"/World/Camera2\")"
   ]
  },
  {
   "cell_type": "code",
   "execution_count": 10,
   "id": "e0a05084",
   "metadata": {},
   "outputs": [],
   "source": [
    "env.reset_scene()"
   ]
  },
  {
   "cell_type": "code",
   "execution_count": 11,
   "id": "a82a8ec8",
   "metadata": {},
   "outputs": [],
   "source": [
    "# import omni.kit\n",
    "# omni.kit.commands.execute(\"DeletePrims\", paths=[\"/World/Camera2\"])"
   ]
  },
  {
   "cell_type": "code",
   "execution_count": 12,
   "id": "e5132277",
   "metadata": {},
   "outputs": [],
   "source": [
    "env.world.step(render=True)"
   ]
  },
  {
   "cell_type": "markdown",
   "id": "7ff4083b",
   "metadata": {},
   "source": [
    "# Task scene"
   ]
  },
  {
   "cell_type": "code",
   "execution_count": 13,
   "id": "b47bac55",
   "metadata": {},
   "outputs": [],
   "source": [
    "task_type = \"Table\"\n",
    "side_choice = \"Border\"\n",
    "asset_id = 0\n",
    "load_nucleus = True"
   ]
  },
  {
   "cell_type": "code",
   "execution_count": 14,
   "id": "10a46869",
   "metadata": {},
   "outputs": [],
   "source": [
    "from task.scene import ArrangeScene\n",
    "scene = ArrangeScene(task_type, side_choice, asset_id, \"/World/base\", load_nucleus)"
   ]
  },
  {
   "cell_type": "code",
   "execution_count": 15,
   "id": "65062016",
   "metadata": {
    "scrolled": true
   },
   "outputs": [
    {
     "name": "stdout",
     "output_type": "stream",
     "text": [
      "asset_prim: omniverse://localhost/Users/yizhou/Asset/T/Appleseed/Appleseed_CoffeeTable.usd\n",
      "object_mean [ 0  0 45]\n"
     ]
    }
   ],
   "source": [
    "# base\n",
    "scene.add_base_asset()"
   ]
  },
  {
   "cell_type": "code",
   "execution_count": 16,
   "id": "48292c2c",
   "metadata": {},
   "outputs": [],
   "source": [
    "env.world.step(render=True)"
   ]
  },
  {
   "cell_type": "code",
   "execution_count": 17,
   "id": "b0d35aeb",
   "metadata": {},
   "outputs": [
    {
     "name": "stdout",
     "output_type": "stream",
     "text": [
      "loading asset from omni nucleus\n",
      "asset_prim: omniverse://localhost/Users/yizhou/Asset/I/Dinnerware/P_Glassware_Short.usd\n"
     ]
    }
   ],
   "source": [
    "# object\n",
    "object_type = random.choice(scene.object_candidates)\n",
    "scene.load_obj_info(object_type, 1)"
   ]
  },
  {
   "cell_type": "code",
   "execution_count": 18,
   "id": "6b495667",
   "metadata": {},
   "outputs": [],
   "source": [
    "env.world.step(render=True)"
   ]
  },
  {
   "cell_type": "code",
   "execution_count": 19,
   "id": "8336e315",
   "metadata": {},
   "outputs": [
    {
     "data": {
      "text/plain": [
       "[{'type': 'Dinnerware',\n",
       "  'name': 'P_Glassware_Short.usd',\n",
       "  'file_path': 'omniverse://localhost/Users/yizhou/Asset/I/Dinnerware/P_Glassware_Short.usd',\n",
       "  'image_path': 'omniverse://localhost/Users/yizhou/Asset/I/Dinnerware/.thumbs/256x256/P_Glassware_Short.usd.png',\n",
       "  'prim_path': '/World/objects/Dinnerware'}]"
      ]
     },
     "execution_count": 19,
     "metadata": {},
     "output_type": "execute_result"
    }
   ],
   "source": [
    "scene.objects"
   ]
  },
  {
   "cell_type": "code",
   "execution_count": 20,
   "id": "3c146886",
   "metadata": {},
   "outputs": [
    {
     "name": "stdout",
     "output_type": "stream",
     "text": [
      "object_position [ 0  0 45]\n"
     ]
    }
   ],
   "source": [
    "object_prim_path = scene.objects[-1][\"prim_path\"]  \n",
    "object_prim = env.stage.GetPrimAtPath(object_prim_path)\n",
    "x, y = (0, 0)#np.tanh(np.random.randn()), np.tanh(np.random.randn())\n",
    "scene.map_object(object_prim, (x, y)) "
   ]
  },
  {
   "cell_type": "code",
   "execution_count": 21,
   "id": "914f1758",
   "metadata": {},
   "outputs": [],
   "source": [
    "env.world.step(render=True)"
   ]
  },
  {
   "cell_type": "markdown",
   "id": "ec0812c3",
   "metadata": {},
   "source": [
    "# Render"
   ]
  },
  {
   "cell_type": "code",
   "execution_count": 22,
   "id": "cf3437c2",
   "metadata": {},
   "outputs": [],
   "source": [
    "from render.helper import RenderHelper\n",
    "render = RenderHelper()"
   ]
  },
  {
   "cell_type": "code",
   "execution_count": 23,
   "id": "7deb253d",
   "metadata": {},
   "outputs": [],
   "source": [
    "env.world.step(render=True)"
   ]
  },
  {
   "cell_type": "code",
   "execution_count": 24,
   "id": "3f2eb6cb",
   "metadata": {},
   "outputs": [],
   "source": [
    "render.sd_helper.initialize(sensor_names=[\"rgb\"], viewport=render.viewport)"
   ]
  },
  {
   "cell_type": "code",
   "execution_count": 25,
   "id": "904bfc48",
   "metadata": {},
   "outputs": [],
   "source": [
    "env.world.step(render=True)"
   ]
  },
  {
   "cell_type": "code",
   "execution_count": 26,
   "id": "2b9e0470",
   "metadata": {
    "scrolled": true
   },
   "outputs": [
    {
     "name": "stdout",
     "output_type": "stream",
     "text": [
      "sensor_data {'rgb': array([[[101, 101, 101, 255],\n",
      "        [101, 101, 101, 255],\n",
      "        [101, 101, 101, 255],\n",
      "        ...,\n",
      "        [108, 108, 108, 255],\n",
      "        [107, 107, 107, 255],\n",
      "        [107, 107, 107, 255]],\n",
      "\n",
      "       [[101, 101, 101, 255],\n",
      "        [101, 101, 101, 255],\n",
      "        [101, 101, 101, 255],\n",
      "        ...,\n",
      "        [108, 108, 108, 255],\n",
      "        [107, 107, 107, 255],\n",
      "        [107, 107, 107, 255]],\n",
      "\n",
      "       [[101, 101, 101, 255],\n",
      "        [101, 101, 101, 255],\n",
      "        [101, 101, 101, 255],\n",
      "        ...,\n",
      "        [108, 108, 108, 255],\n",
      "        [107, 107, 107, 255],\n",
      "        [107, 107, 107, 255]],\n",
      "\n",
      "       ...,\n",
      "\n",
      "       [[ 94,  94,  94, 255],\n",
      "        [ 94,  94,  94, 255],\n",
      "        [ 95,  95,  95, 255],\n",
      "        ...,\n",
      "        [ 93,  93,  93, 255],\n",
      "        [ 93,  93,  93, 255],\n",
      "        [ 93,  93,  93, 255]],\n",
      "\n",
      "       [[ 94,  94,  94, 255],\n",
      "        [ 94,  94,  94, 255],\n",
      "        [ 94,  94,  94, 255],\n",
      "        ...,\n",
      "        [ 93,  93,  93, 255],\n",
      "        [ 93,  93,  93, 255],\n",
      "        [ 93,  93,  93, 255]],\n",
      "\n",
      "       [[ 94,  94,  94, 255],\n",
      "        [ 94,  94,  94, 255],\n",
      "        [ 94,  94,  94, 255],\n",
      "        ...,\n",
      "        [ 93,  93,  93, 255],\n",
      "        [ 93,  93,  93, 255],\n",
      "        [ 93,  93,  93, 255]]], dtype=uint8), 'state': {'rgb': True}}\n"
     ]
    }
   ],
   "source": [
    "render.capture_image(image_name = \"test1\")"
   ]
  },
  {
   "cell_type": "code",
   "execution_count": null,
   "id": "943ebf7b",
   "metadata": {},
   "outputs": [],
   "source": [
    "sensor_data = render.sd_helper.get_groundtruth([\"rgb\"], render.viewport)"
   ]
  },
  {
   "cell_type": "code",
   "execution_count": null,
   "id": "62983921",
   "metadata": {},
   "outputs": [],
   "source": []
  }
 ],
 "metadata": {
  "kernelspec": {
   "display_name": "Isaac Sim Python 3",
   "language": "python",
   "name": "isaac_sim_python3"
  },
  "language_info": {
   "codemirror_mode": {
    "name": "ipython",
    "version": 3
   },
   "file_extension": ".py",
   "mimetype": "text/x-python",
   "name": "python",
   "nbconvert_exporter": "python",
   "pygments_lexer": "ipython3",
   "version": "3.7.13"
  }
 },
 "nbformat": 4,
 "nbformat_minor": 5
}
