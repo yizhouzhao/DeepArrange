{
 "cells": [
  {
   "cell_type": "code",
   "execution_count": 1,
   "id": "ed4f9fe6",
   "metadata": {},
   "outputs": [],
   "source": [
    "%load_ext autoreload\n",
    "%autoreload 2"
   ]
  },
  {
   "cell_type": "code",
   "execution_count": 2,
   "id": "69c787b3",
   "metadata": {},
   "outputs": [],
   "source": [
    "import random\n",
    "import numpy"
   ]
  },
  {
   "cell_type": "code",
   "execution_count": 3,
   "id": "896db912",
   "metadata": {},
   "outputs": [],
   "source": [
    "import getpass\n",
    "user = getpass.getuser()"
   ]
  },
  {
   "cell_type": "code",
   "execution_count": 4,
   "id": "e0ab8c93",
   "metadata": {},
   "outputs": [],
   "source": [
    "usd_path = \"omniverse://localhost/Users/yizhou/phase1.usd\""
   ]
  },
  {
   "cell_type": "code",
   "execution_count": 5,
   "id": "6dd75691",
   "metadata": {},
   "outputs": [
    {
     "name": "stdout",
     "output_type": "stream",
     "text": [
      "Starting kit application with the fillowing args:  ['/home/yizhou/.local/share/isaac_sim-2022.1.1/exts/omni.isaac.kit/omni/isaac/kit/simulation_app.py', '/home/yizhou/.local/share/isaac_sim-2022.1.1/apps/omni.isaac.sim.python.kit', '--/app/tokens/exe-path=/home/yizhou/.local/share/isaac_sim-2022.1.1/kit', '--/persistent/app/viewport/displayOptions=3094', '--/rtx/materialDb/syncLoads=True', '--/rtx/hydra/materialSyncLoads=True--/omni.kit.plugin/syncUsdLoads=True', '--/app/renderer/resolution/width=1280', '--/app/renderer/resolution/height=720', '--/app/window/width=1440', '--/app/window/height=900', '--/renderer/multiGpu/enabled=True', '--ext-folder', '/home/yizhou/.local/share/isaac_sim-2022.1.1/exts', '--ext-folder', '/home/yizhou/.local/share/isaac_sim-2022.1.1/apps', '--/physics/cudaDevice=0', '--portable', '--no-window']\n",
      "Passing the following args to the base kit application:  ['-f', '/home/yizhou/.local/share/jupyter/runtime/kernel-2cb9cd0f-4673-4f58-ab1c-c3fc45313fc9.json']\n",
      "[Warning] [omni.kit.app.plugin] No crash reporter present, dumps uploading isn't available.\n",
      "[Info] [carb] Logging to file: /home/yizhou/.local/share/isaac_sim-2022.1.1/kit/logs/Kit/Isaac-Sim/2022.1/kit_20221011_102124.log\n",
      "2022-10-11 17:21:24 [4ms] [Warning] [omni.ext.plugin] [ext: omni.drivesim.sensors.nv.lidar] Extensions config 'extension.toml' doesn't exist '/home/yizhou/.local/share/isaac_sim-2022.1.1/exts/omni.drivesim.sensors.nv.lidar' or '/home/yizhou/.local/share/isaac_sim-2022.1.1/exts/omni.drivesim.sensors.nv.lidar/config'\n",
      "[0.093s] [ext: omni.stats-0.0.0] startup\n",
      "[0.105s] [ext: omni.gpu_foundation-0.0.0] startup\n",
      "2022-10-11 17:21:24 [105ms] [Warning] [carb] FrameworkImpl::setDefaultPlugin(client: omni.gpu_foundation_factory.plugin, desc : [carb::graphics::Graphics v2.5], plugin : carb.graphics-vulkan.plugin) failed. Plugin selection is locked, because the interface was previously acquired by: \n",
      "[0.112s] [ext: carb.windowing.plugins-1.0.0] startup\n",
      "[0.119s] [ext: omni.assets.plugins-0.0.0] startup\n",
      "[0.120s] [ext: omni.kit.renderer.init-0.0.0] startup\n",
      "\n",
      "|---------------------------------------------------------------------------------------------|\n",
      "| Driver Version: 510.85.2      | Graphics API: Vulkan\n",
      "|=============================================================================================|\n",
      "| GPU | Name                             | Active | LDA | GPU Memory | Vendor-ID | LUID       |\n",
      "|     |                                  |        |     |            | Device-ID | UUID       |\n",
      "|---------------------------------------------------------------------------------------------|\n",
      "| 0   | NVIDIA RTX A6000                 | Yes: 0 |     | 49386   MB | 10de      | 0          |\n",
      "|     |                                  |        |     |            | 2230      | 48cf2a7a.. |\n",
      "|=============================================================================================|\n",
      "| OS: Linux yizhou-System-Product-Name, Version: 5.15.0-50-generic\n",
      "| Processor: 11th Gen Intel(R) Core(TM) i9-11900K @ 3.50GHz | Cores: Unknown | Logical: 16\n",
      "|---------------------------------------------------------------------------------------------|\n",
      "| Total Memory (MB): 31931 | Free Memory: 12518\n",
      "| Total Page/Swap (MB): 2047 | Free Page/Swap: 2047\n",
      "|---------------------------------------------------------------------------------------------|\n",
      "2022-10-11 17:21:25 [866ms] [Warning] [carb.cudainterop.plugin] On Linux only, CUDA and the display driver does not support IOMMU-enabled bare-metal PCIe peer to peer memory copy.\n",
      "However, CUDA and the display driver does support IOMMU via VM pass through. As a consequence, users on Linux,\n",
      "when running on a native bare metal system, should disable the IOMMU. The IOMMU should be enabled and the VFIO driver\n",
      "be used as a PCIe pass through for virtual machines.\n",
      "[0.884s] [ext: omni.kit.pipapi-0.0.0] startup\n",
      "[0.891s] [ext: omni.kit.pip_archive-0.0.0] startup\n",
      "[0.895s] [ext: omni.isaac.core_archive-1.2.0] startup\n",
      "[0.911s] [ext: omni.usd.config-1.0.0] startup\n",
      "[0.913s] [ext: omni.usd.libs-1.0.0] startup\n",
      "[1.001s] [ext: omni.kit.pip_torch-1_11_0-0.1.3] startup\n",
      "[1.034s] [ext: omni.isaac.ml_archive-1.1.0] startup\n",
      "[1.085s] [ext: omni.kit.loop-isaac-0.1.0] startup\n",
      "[1.086s] [ext: omni.kit.async_engine-0.0.0] startup\n",
      "[1.087s] [ext: omni.appwindow-1.0.0] startup\n",
      "[1.090s] [ext: omni.client-0.1.0] startup\n",
      "[1.097s] [ext: omni.kit.test-0.0.0] startup\n",
      "[1.098s] [ext: omni.kit.renderer.core-0.0.0] startup\n",
      "[1.156s] [ext: omni.ui-2.10.3] startup\n",
      "[1.171s] [ext: carb.audio-0.1.0] startup\n",
      "[1.193s] [ext: omni.kit.mainwindow-0.0.0] startup\n",
      "[1.195s] [ext: omni.uiaudio-1.0.0] startup\n",
      "[1.196s] [ext: omni.kit.uiapp-0.0.0] startup\n",
      "[1.196s] [ext: omni.usd.schema.physics-1.0.0] startup\n",
      "[1.230s] [ext: omni.usd.schema.audio-0.0.0] startup\n",
      "[1.236s] [ext: omni.usd.schema.semantics-0.0.0] startup\n",
      "[1.278s] [ext: omni.usd.schema.omnigraph-1.0.0] startup\n",
      "[1.285s] [ext: omni.usd.schema.anim-0.0.0] startup\n",
      "[1.315s] [ext: omni.kit.commands-1.2.2] startup\n",
      "[1.319s] [ext: omni.timeline-1.0.2] startup\n",
      "[1.321s] [ext: omni.hydra.scene_delegate-0.2.0] startup\n",
      "[1.326s] [ext: omni.kit.audiodeviceenum-1.0.0] startup\n",
      "[1.328s] [ext: omni.usd-1.5.3] startup\n",
      "[1.373s] [ext: omni.kit.asset_converter-1.2.31] startup\n",
      "[1.385s] [ext: omni.usd.schema.physx-0.0.0] startup\n",
      "[1.406s] [ext: omni.usd.schema.isaac-0.2.0] startup\n",
      "[1.438s] [ext: omni.usd.schema.forcefield-0.0.0] startup\n",
      "[1.444s] [ext: omni.kvdb-0.0.0] startup\n",
      "[1.447s] [ext: omni.usdphysics-1.4.15] startup\n",
      "[1.449s] [ext: omni.graph.tools-1.4.0] startup\n",
      "[1.476s] [ext: omni.localcache-0.0.0] startup\n",
      "[1.479s] [ext: omni.kit.stage_templates-1.1.2] startup\n",
      "[1.480s] [ext: omni.convexdecomposition-1.4.15] startup\n",
      "[1.483s] [ext: omni.physics.tensors-0.1.0] startup\n",
      "[1.489s] [ext: omni.physx-1.4.15-5.1] startup\n",
      "2022-10-11 17:21:26 [1,494ms] [Warning] [omni.kvdb.plugin] wasn't able to load the meta database, trying to repair it ...\n",
      "2022-10-11 17:21:26 [1,532ms] [Warning] [omni.kvdb.plugin] repair failed\n",
      "[1.538s] [ext: omni.graph.core-2.29.1] startup\n",
      "[1.543s] [ext: omni.kit.menu.utils-1.2.11] startup\n",
      "[1.554s] [ext: omni.physx.tensors-0.1.0] startup\n",
      "[1.558s] [ext: omni.graph-1.23.0] startup\n",
      "[1.600s] [ext: omni.kit.numpy.common-0.1.0] startup\n",
      "[1.603s] [ext: omni.kit.window.script_editor-1.6.2] startup\n",
      "[1.610s] [ext: omni.kit.search_core-1.0.2] startup\n",
      "[1.612s] [ext: omni.isaac.dynamic_control-1.1.0] startup\n",
      "[1.619s] [ext: omni.kit.renderer.capture-0.0.0] startup\n",
      "[1.622s] [ext: omni.kit.widget.filebrowser-2.2.27] startup\n",
      "[1.631s] [ext: omni.kit.widget.path_field-2.0.3] startup\n",
      "[1.633s] [ext: omni.kit.notification_manager-1.0.5] startup\n",
      "[1.636s] [ext: omni.kit.widget.versioning-1.3.8] startup\n",
      "[1.638s] [ext: omni.kit.widget.browser_bar-2.0.3] startup\n",
      "[1.641s] [ext: omni.kit.window.popup_dialog-2.0.8] startup\n",
      "[1.643s] [ext: omni.mdl.neuraylib-0.1.0] startup\n",
      "[1.646s] [ext: omni.kit.window.filepicker-2.4.30] startup\n"
     ]
    },
    {
     "name": "stderr",
     "output_type": "stream",
     "text": [
      "OmniAssetFileFormat\n"
     ]
    },
    {
     "name": "stdout",
     "output_type": "stream",
     "text": [
      "Warp initialized:\n",
      "   Version: 0.2.2\n",
      "   CUDA device: NVIDIA RTX A6000\n",
      "   Kernel cache: /home/yizhou/.cache/warp/0.2.2\n",
      "[1.688s] [ext: omni.kit.menu.create-1.0.2] startup\n",
      "[1.691s] [ext: omni.mdl-0.1.0] startup\n",
      "[1.719s] [ext: omni.kit.window.file_importer-1.0.4] startup\n",
      "[1.722s] [ext: omni.kit.window.file_exporter-1.0.4] startup\n",
      "[1.723s] [ext: omni.kit.material.library-1.3.10] startup\n",
      "[1.727s] [ext: omni.kit.window.drop_support-1.0.0] startup\n",
      "[1.728s] [ext: omni.kit.window.file-1.3.16] startup\n",
      "[1.733s] [ext: omni.kit.context_menu-1.3.9] startup\n",
      "[1.781s] [ext: omni.kit.window.property-1.6.3] startup\n",
      "[1.783s] [ext: omni.kit.window.content_browser-2.4.28] startup\n",
      "[1.790s] [ext: omni.kit.widget.stage-2.6.15] startup\n",
      "[1.795s] [ext: omni.isaac.version-1.0.0] startup\n",
      "[1.796s] [ext: omni.kit.property.usd-3.14.9] startup\n",
      "[1.822s] [ext: omni.kit.viewport.legacy_gizmos-1.0.0] startup\n",
      "[1.824s] [ext: omni.hydra.rtx-0.1.0] startup\n",
      "[1.830s] [ext: omni.renderer-rtx-0.0.0] startup\n",
      "[1.831s] [ext: omni.hydra.engine.stats-1.0.0] startup\n",
      "[1.835s] [ext: omni.debugdraw-0.1.0] startup\n",
      "[1.839s] [ext: omni.kit.widget.settings-1.0.0] startup\n",
      "[1.841s] [ext: omni.kit.window.viewport-0.0.0] startup\n",
      "[2.783s] [ext: omni.kit.widget.prompt-1.0.1] startup\n",
      "[2.784s] [ext: omni.kit.widget.graph-1.4.3] startup\n",
      "[2.791s] [ext: omni.kit.window.preferences-1.2.1] startup\n",
      "[2.820s] [ext: omni.ui_query-1.1.1] startup\n",
      "[2.822s] [ext: omni.graph.ui-1.6.1] startup\n",
      "[2.844s] [ext: omni.kit.ui_test-1.2.2] startup\n",
      "[2.846s] [ext: omni.graph.action-1.18.0] startup\n",
      "[2.856s] [ext: omni.kit.widget.searchfield-1.0.6] startup\n",
      "[2.858s] [ext: omni.kit.usd_undo-0.1.0] startup\n",
      "[2.860s] [ext: omni.graph.scriptnode-0.5.0] startup\n",
      "[2.862s] [ext: omni.physx.commands-1.4.15-5.1] startup\n",
      "[2.867s] [ext: omni.graph.nodes-1.26.0] startup\n",
      "[2.878s] [ext: omni.command.usd-1.0.1] startup\n",
      "[2.881s] [ext: omni.kit.window.extensions-1.1.0] startup\n",
      "[2.887s] [ext: omni.syntheticdata-0.2.1] startup\n",
      "[2.922s] [ext: omni.kit.primitive.mesh-1.0.0] startup\n",
      "[2.926s] [ext: omni.warp-0.2.2] startup\n",
      "[3.479s] [ext: omni.isaac.ui-0.2.1] startup\n",
      "[3.481s] [ext: omni.replicator.core-1.4.3] startup\n",
      "[3.668s] [ext: omni.isaac.core-1.24.3] startup\n",
      "[3.760s] [ext: omni.physx.ui-1.4.15-5.1] startup\n",
      "[3.811s] [ext: omni.kit.property.material-1.8.5] startup\n",
      "[3.814s] [ext: omni.kit.window.toolbar-1.2.4] startup\n",
      "[3.820s] [ext: omni.isaac.core_nodes-0.13.0] startup\n",
      "[3.830s] [ext: omni.physx.demos-1.4.15-5.1] startup\n",
      "[3.833s] [ext: omni.kit.property.physx-0.1.0] startup\n",
      "2022-10-11 17:21:28 [3,875ms] [Warning] [omni.physx.plugin] Deprecated: getSimulationEventStream is deprecated, please use getSimulationEventStreamV2\n",
      "[3.883s] [ext: omni.physx.tests-1.4.15-5.1] startup\n",
      "[4.046s] [ext: omni.isaac.wheeled_robots-0.5.8] startup\n",
      "[4.057s] [ext: omni.kit.menu.common-1.0.0] startup\n",
      "[4.058s] [ext: omni.physx.vehicle-1.4.15-5.1] startup\n",
      "[4.068s] [ext: omni.physx.cct-1.4.15-5.1] startup\n",
      "[4.125s] [ext: omni.physx.camera-1.4.15-5.1] startup\n",
      "[4.130s] [ext: omni.kit.widget.stage_icons-1.0.2] startup\n",
      "[4.132s] [ext: omni.ui.scene-1.5.0] startup\n",
      "[4.137s] [ext: omni.physx.bundle-1.4.15-5.1] startup\n",
      "[4.137s] [ext: omni.kit.window.stage-2.3.7] startup\n",
      "[4.140s] [ext: omni.replicator.composer-1.1.3] startup\n",
      "[4.153s] [ext: omni.isaac.lula-1.1.0] startup\n",
      "[4.161s] [ext: omni.rtx.window.settings-0.6.1] startup\n",
      "[4.166s] [ext: omni.isaac.surface_gripper-0.1.2] startup\n",
      "[4.171s] [ext: omni.isaac.motion_planning-0.2.0] startup\n",
      "[4.177s] [ext: omni.rtx.settings.core-0.5.5] startup\n",
      "[4.182s] [ext: omni.isaac.manipulators-1.0.1] startup\n",
      "[4.183s] [ext: omni.isaac.motion_generation-3.6.1] startup\n",
      "[4.189s] [ext: omni.kit.widget.zoombar-1.0.3] startup\n",
      "[4.191s] [ext: omni.kit.graph.delegate.default-1.0.15] startup\n",
      "[4.192s] [ext: omni.isaac.franka-0.3.0] startup\n",
      "[4.193s] [ext: omni.kit.browser.core-2.0.12] startup\n",
      "[4.199s] [ext: omni.kit.graph.editor.core-1.3.3] startup\n",
      "[4.202s] [ext: omni.kit.graph.usd.commands-1.1.0] startup\n",
      "[4.203s] [ext: omni.kit.browser.folder.core-1.1.13] startup\n",
      "[4.206s] [ext: omni.kit.graph.widget.variables-2.0.2] startup\n",
      "[4.207s] [ext: omni.kit.graph.delegate.modern-1.6.0] startup\n",
      "[4.209s] [ext: omni.kit.selection-0.1.0] startup\n",
      "[4.210s] [ext: omni.isaac.debug_draw-0.Opening usd file at  omniverse://localhost/Users/yizhou/phase1.usd  ...Done.\n",
      "Saving a temp livesync stage at  omniverse://localhost/Users/yizhou/phase1.usd  ...Done.\n"
     ]
    }
   ],
   "source": [
    "from omni.isaac.kit import SimulationApp    \n",
    "simulation_app = SimulationApp({\"headless\": True, \"open_usd\": usd_path,  \"livesync_usd\": usd_path}) \n"
   ]
  },
  {
   "cell_type": "code",
   "execution_count": 6,
   "id": "e42fd29d",
   "metadata": {},
   "outputs": [
    {
     "data": {
      "text/plain": [
       "'Isaac Sim Python'"
      ]
     },
     "execution_count": 6,
     "metadata": {},
     "output_type": "execute_result"
    }
   ],
   "source": [
    "import carb\n",
    "carb.settings.get_settings().get(\"/app/window/title\")"
   ]
  },
  {
   "cell_type": "code",
   "execution_count": 7,
   "id": "cc03d21a",
   "metadata": {},
   "outputs": [],
   "source": [
    "# list(env.stage.TraverseAll())"
   ]
  },
  {
   "cell_type": "code",
   "execution_count": 8,
   "id": "9bf8dbde",
   "metadata": {},
   "outputs": [],
   "source": [
    "# import torch\n",
    "\n",
    "# torch.__version__\n",
    "\n",
    "# import transformers"
   ]
  },
  {
   "cell_type": "code",
   "execution_count": 9,
   "id": "b21910b7",
   "metadata": {},
   "outputs": [],
   "source": [
    "from uva_env import UvaEnv\n",
    "env = UvaEnv()"
   ]
  },
  {
   "cell_type": "code",
   "execution_count": 10,
   "id": "456c0ecf",
   "metadata": {},
   "outputs": [],
   "source": [
    "# omni.kit.commands.execute(\"CreatePrimWithDefaultXform\", prim_type=\"Camera\", prim_path = \"/World/Camera2\")"
   ]
  },
  {
   "cell_type": "code",
   "execution_count": 11,
   "id": "6dee69da",
   "metadata": {},
   "outputs": [],
   "source": [
    "env.reset_scene()"
   ]
  },
  {
   "cell_type": "code",
   "execution_count": 12,
   "id": "dc68dd8d",
   "metadata": {},
   "outputs": [],
   "source": [
    "# import omni.kit\n",
    "# omni.kit.commands.execute(\"DeletePrims\", paths=[\"/World/Camera2\"])"
   ]
  },
  {
   "cell_type": "code",
   "execution_count": 13,
   "id": "4b3c24d3",
   "metadata": {},
   "outputs": [],
   "source": [
    "env.world.step(render=True)"
   ]
  },
  {
   "cell_type": "markdown",
   "id": "18b0e77c",
   "metadata": {},
   "source": [
    "# Task scene"
   ]
  },
  {
   "cell_type": "code",
   "execution_count": 14,
   "id": "34b36463",
   "metadata": {},
   "outputs": [],
   "source": [
    "task_type = \"Bookshelf\"\n",
    "side_choice = \"Border\"\n",
    "asset_id = 0\n",
    "load_nucleus = True"
   ]
  },
  {
   "cell_type": "code",
   "execution_count": 15,
   "id": "4d0792f0",
   "metadata": {},
   "outputs": [],
   "source": [
    "from task.scene import ArrangeScene\n",
    "scene = ArrangeScene(task_type, side_choice, asset_id, \"/World/base\", load_nucleus)"
   ]
  },
  {
   "cell_type": "code",
   "execution_count": 16,
   "id": "8e1c824f",
   "metadata": {
    "scrolled": true
   },
   "outputs": [
    {
     "name": "stdout",
     "output_type": "stream",
     "text": [
      "asset_prim: omniverse://localhost/Users/yizhou/Asset/B/Bookshelve/Clayton.usd\n",
      "object_mean [  0  10 100]\n"
     ]
    }
   ],
   "source": [
    "# base\n",
    "scene.add_base_asset()"
   ]
  },
  {
   "cell_type": "code",
   "execution_count": 17,
   "id": "e6230b2c",
   "metadata": {},
   "outputs": [],
   "source": [
    "env.world.step(render=True)"
   ]
  },
  {
   "cell_type": "code",
   "execution_count": 18,
   "id": "161187e5",
   "metadata": {},
   "outputs": [
    {
     "name": "stdout",
     "output_type": "stream",
     "text": [
      "loading asset from omni nucleus\n",
      "asset_prim: omniverse://localhost/Users/yizhou/Asset/I/Book/Book_Marbles.usd\n"
     ]
    }
   ],
   "source": [
    "# object\n",
    "object_type = random.choice(scene.object_candidates)\n",
    "scene.load_obj_info(object_type, 1)"
   ]
  },
  {
   "cell_type": "code",
   "execution_count": 19,
   "id": "4b035c76",
   "metadata": {},
   "outputs": [],
   "source": [
    "env.world.step(render=True)"
   ]
  },
  {
   "cell_type": "code",
   "execution_count": 20,
   "id": "aca5e8bb",
   "metadata": {},
   "outputs": [
    {
     "data": {
      "text/plain": [
       "[{'type': 'Book',\n",
       "  'name': 'Book_Marbles.usd',\n",
       "  'file_path': 'omniverse://localhost/Users/yizhou/Asset/I/Book/Book_Marbles.usd',\n",
       "  'image_path': 'omniverse://localhost/Users/yizhou/Asset/I/Book/.thumbs/256x256/Book_Marbles.usd.png',\n",
       "  'prim_path': '/World/objects/Book'}]"
      ]
     },
     "execution_count": 20,
     "metadata": {},
     "output_type": "execute_result"
    }
   ],
   "source": [
    "scene.objects"
   ]
  },
  {
   "cell_type": "code",
   "execution_count": 21,
   "id": "27570ce1",
   "metadata": {},
   "outputs": [
    {
     "name": "stdout",
     "output_type": "stream",
     "text": [
      "object_position [  0  10 100]\n"
     ]
    }
   ],
   "source": [
    "object_prim_path = scene.objects[-1][\"prim_path\"]  \n",
    "object_prim = env.stage.GetPrimAtPath(object_prim_path)\n",
    "x, y = (0, 0)#np.tanh(np.random.randn()), np.tanh(np.random.randn())\n",
    "scene.map_object(object_prim, (x, y)) "
   ]
  },
  {
   "cell_type": "code",
   "execution_count": 22,
   "id": "ab2d1964",
   "metadata": {},
   "outputs": [],
   "source": [
    "env.world.step(render=True)"
   ]
  },
  {
   "cell_type": "markdown",
   "id": "4ba90cd7",
   "metadata": {},
   "source": [
    "# Render"
   ]
  },
  {
   "cell_type": "code",
   "execution_count": 23,
   "id": "afa43401",
   "metadata": {},
   "outputs": [],
   "source": [
    "from render.helper import RenderHelper\n",
    "render = RenderHelper()"
   ]
  },
  {
   "cell_type": "code",
   "execution_count": 24,
   "id": "50316848",
   "metadata": {
    "scrolled": false
   },
   "outputs": [],
   "source": [
    "render.set_cameras(task_type, side_choice)"
   ]
  },
  {
   "cell_type": "code",
   "execution_count": 28,
   "id": "3ad7f0d4",
   "metadata": {},
   "outputs": [],
   "source": [
    "env.world.step(render=True)"
   ]
  },
  {
   "cell_type": "code",
   "execution_count": 29,
   "id": "b563fffd",
   "metadata": {},
   "outputs": [],
   "source": [
    "render.get_images()"
   ]
  },
  {
   "cell_type": "code",
   "execution_count": null,
   "id": "c898a0ff",
   "metadata": {},
   "outputs": [],
   "source": []
  }
 ],
 "metadata": {
  "kernelspec": {
   "display_name": "Isaac Sim Python 3",
   "language": "python",
   "name": "isaac_sim_python3"
  },
  "language_info": {
   "codemirror_mode": {
    "name": "ipython",
    "version": 3
   },
   "file_extension": ".py",
   "mimetype": "text/x-python",
   "name": "python",
   "nbconvert_exporter": "python",
   "pygments_lexer": "ipython3",
   "version": "3.7.13"
  }
 },
 "nbformat": 4,
 "nbformat_minor": 5
}
