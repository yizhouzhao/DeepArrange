{
 "cells": [
  {
   "cell_type": "code",
   "execution_count": null,
   "id": "70d36af2",
   "metadata": {},
   "outputs": [],
   "source": [
    "import getpass\n",
    "\n",
    "user = getpass.getuser()\n",
    "from omni.isaac.kit import SimulationApp\n",
    "\n",
    "# Set the path below to your desired nucleus server\n",
    "simulation_app = SimulationApp(\n",
    "    {\"headless\": True, \"livesync_usd\": f\"omniverse://localhost/Users/{user}/temp_jupyter_stage.usd\"}\n",
    ")\n",
    "print(\"Hi\")\n"
   ]
  }
 ],
 "metadata": {
  "kernelspec": {
   "display_name": "Isaac Sim Python 3",
   "language": "python",
   "name": "isaac_sim_python3"
  },
  "language_info": {
   "codemirror_mode": {
    "name": "ipython",
    "version": 3
   },
   "file_extension": ".py",
   "mimetype": "text/x-python",
   "name": "python",
   "nbconvert_exporter": "python",
   "pygments_lexer": "ipython3",
   "version": "3.7.13"
  }
 },
 "nbformat": 4,
 "nbformat_minor": 5
}
