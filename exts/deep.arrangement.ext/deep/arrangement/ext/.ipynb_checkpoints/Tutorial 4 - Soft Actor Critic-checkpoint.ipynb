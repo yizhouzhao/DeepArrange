{
 "cells": [
  {
   "cell_type": "markdown",
   "id": "a4e7074e",
   "metadata": {},
   "source": [
    "# Start Simulation"
   ]
  },
  {
   "cell_type": "code",
   "execution_count": 1,
   "id": "3fe18b05",
   "metadata": {},
   "outputs": [
    {
     "data": {
      "text/plain": [
       "'1.11.0+cu113'"
      ]
     },
     "execution_count": 1,
     "metadata": {},
     "output_type": "execute_result"
    }
   ],
   "source": [
    "import random\n",
    "import numpy as np\n",
    "import os\n",
    "import time\n",
    "from PIL import Image\n",
    "\n",
    "import torch\n",
    "torch.__version__\n",
    "device = torch.device(\"cuda\")"
   ]
  },
  {
   "cell_type": "code",
   "execution_count": 2,
   "id": "0137c535",
   "metadata": {},
   "outputs": [
    {
     "name": "stdout",
     "output_type": "stream",
     "text": [
      "yizhou\n"
     ]
    }
   ],
   "source": [
    "import getpass\n",
    "user = getpass.getuser()\n",
    "print(user)"
   ]
  },
  {
   "cell_type": "code",
   "execution_count": 3,
   "id": "b9d56ea3",
   "metadata": {},
   "outputs": [],
   "source": [
    "usd_path = f\"omniverse://localhost/Users/{user}/uva_sac.usd\""
   ]
  },
  {
   "cell_type": "code",
   "execution_count": 4,
   "id": "d7e8d7fe",
   "metadata": {
    "scrolled": true
   },
   "outputs": [
    {
     "name": "stdout",
     "output_type": "stream",
     "text": [
      "Starting kit application with the fillowing args:  ['/home/yizhou/.local/share/ov/pkg/isaac_sim-2022.1.1/exts/omni.isaac.kit/omni/isaac/kit/simulation_app.py', '/home/yizhou/.local/share/ov/pkg/isaac_sim-2022.1.1/apps/omni.isaac.sim.python.kit', '--/app/tokens/exe-path=/home/yizhou/.local/share/ov/pkg/isaac_sim-2022.1.1/kit', '--/persistent/app/viewport/displayOptions=3094', '--/rtx/materialDb/syncLoads=True', '--/rtx/hydra/materialSyncLoads=True--/omni.kit.plugin/syncUsdLoads=True', '--/app/renderer/resolution/width=1280', '--/app/renderer/resolution/height=720', '--/app/window/width=1440', '--/app/window/height=900', '--/renderer/multiGpu/enabled=True', '--ext-folder', '/home/yizhou/.local/share/ov/pkg/isaac_sim-2022.1.1/exts', '--ext-folder', '/home/yizhou/.local/share/ov/pkg/isaac_sim-2022.1.1/apps', '--/physics/cudaDevice=0', '--portable', '--no-window']\n",
      "Passing the following args to the base kit application:  ['-f', '/home/yizhou/.local/share/jupyter/runtime/kernel-1cd2b635-18ac-4c36-8583-95f4b558034a.json']\n",
      "[Warning] [omni.kit.app.plugin] No crash reporter present, dumps uploading isn't available.\n",
      "[Info] [carb] Logging to file: /home/yizhou/.local/share/ov/pkg/isaac_sim-2022.1.1/kit/logs/Kit/Isaac-Sim/2022.1/kit_20221222_120641.log\n",
      "2022-12-22 20:06:41 [4ms] [Warning] [omni.ext.plugin] [ext: omni.drivesim.sensors.nv.lidar] Extensions config 'extension.toml' doesn't exist '/home/yizhou/.local/share/ov/pkg/isaac_sim-2022.1.1/exts/omni.drivesim.sensors.nv.lidar' or '/home/yizhou/.local/share/ov/pkg/isaac_sim-2022.1.1/exts/omni.drivesim.sensors.nv.lidar/config'\n",
      "[0.087s] [ext: omni.stats-0.0.0] startup\n",
      "[0.132s] [ext: omni.gpu_foundation-0.0.0] startup\n",
      "2022-12-22 20:06:41 [131ms] [Warning] [carb] FrameworkImpl::setDefaultPlugin(client: omni.gpu_foundation_factory.plugin, desc : [carb::graphics::Graphics v2.5], plugin : carb.graphics-vulkan.plugin) failed. Plugin selection is locked, because the interface was previously acquired by: \n",
      "[0.140s] [ext: carb.windowing.plugins-1.0.0] startup\n",
      "[0.151s] [ext: omni.assets.plugins-0.0.0] startup\n",
      "[0.152s] [ext: omni.kit.renderer.init-0.0.0] startup\n",
      "\n",
      "|---------------------------------------------------------------------------------------------|\n",
      "| Driver Version: 510.108.3     | Graphics API: Vulkan\n",
      "|=============================================================================================|\n",
      "| GPU | Name                             | Active | LDA | GPU Memory | Vendor-ID | LUID       |\n",
      "|     |                                  |        |     |            | Device-ID | UUID       |\n",
      "|---------------------------------------------------------------------------------------------|\n",
      "| 0   | NVIDIA GeForce RTX 3090          | Yes: 0 |     | 24822   MB | 10de      | 0          |\n",
      "|     |                                  |        |     |            | 2204      | 3f50dd6e.. |\n",
      "|=============================================================================================|\n",
      "| OS: Linux yizhou-Z370-AORUS-Gaming-5, Version: 5.15.0-56-generic\n",
      "| Processor: Intel(R) Core(TM) i7-8700K CPU @ 3.70GHz | Cores: Unknown | Logical: 12\n",
      "|---------------------------------------------------------------------------------------------|\n",
      "| Total Memory (MB): 32044 | Free Memory: 21175\n",
      "| Total Page/Swap (MB): 2047 | Free Page/Swap: 2047\n",
      "|---------------------------------------------------------------------------------------------|\n",
      "2022-12-22 20:06:42 [812ms] [Warning] [carb.cudainterop.plugin] On Linux only, CUDA and the display driver does not support IOMMU-enabled bare-metal PCIe peer to peer memory copy.\n",
      "However, CUDA and the display driver does support IOMMU via VM pass through. As a consequence, users on Linux,\n",
      "when running on a native bare metal system, should disable the IOMMU. The IOMMU should be enabled and the VFIO driver\n",
      "be used as a PCIe pass through for virtual machines.\n",
      "[0.833s] [ext: omni.kit.pipapi-0.0.0] startup\n",
      "[0.843s] [ext: omni.kit.pip_archive-0.0.0] startup\n",
      "[0.847s] [ext: omni.isaac.core_archive-1.2.0] startup\n",
      "[0.866s] [ext: omni.usd.config-1.0.0] startup\n",
      "[0.867s] [ext: omni.usd.libs-1.0.0] startup\n",
      "[0.986s] [ext: omni.kit.pip_torch-1_11_0-0.1.3] startup\n",
      "[1.014s] [ext: omni.isaac.ml_archive-1.1.0] startup\n",
      "[1.082s] [ext: omni.kit.loop-isaac-0.1.0] startup\n",
      "[1.083s] [ext: omni.kit.async_engine-0.0.0] startup\n",
      "[1.084s] [ext: omni.appwindow-1.0.0] startup\n",
      "[1.090s] [ext: omni.client-0.1.0] startup\n",
      "[1.100s] [ext: omni.kit.test-0.0.0] startup\n",
      "[1.101s] [ext: omni.kit.renderer.core-0.0.0] startup\n",
      "[1.173s] [ext: omni.ui-2.10.3] startup\n",
      "[1.196s] [ext: carb.audio-0.1.0] startup\n",
      "[1.222s] [ext: omni.kit.mainwindow-0.0.0] startup\n",
      "[1.224s] [ext: omni.uiaudio-1.0.0] startup\n",
      "[1.226s] [ext: omni.kit.uiapp-0.0.0] startup\n",
      "[1.226s] [ext: omni.usd.schema.physics-1.0.0] startup\n",
      "[1.269s] [ext: omni.usd.schema.audio-0.0.0] startup\n",
      "[1.276s] [ext: omni.usd.schema.semantics-0.0.0] startup\n",
      "[1.288s] [ext: omni.usd.schema.omnigraph-1.0.0] startup\n",
      "[1.297s] [ext: omni.usd.schema.anim-0.0.0] startup\n",
      "[1.352s] [ext: omni.kit.commands-1.2.2] startup\n",
      "[1.356s] [ext: omni.timeline-1.0.2] startup\n",
      "[1.361s] [ext: omni.hydra.scene_delegate-0.2.0] startup\n",
      "[1.371s] [ext: omni.kit.audiodeviceenum-1.0.0] startup\n",
      "[1.373s] [ext: omni.usd-1.5.3] startup\n",
      "[1.440s] [ext: omni.kit.asset_converter-1.2.31] startup\n",
      "[1.461s] [ext: omni.usd.schema.physx-0.0.0] startup\n",
      "[1.487s] [ext: omni.usd.schema.isaac-0.2.0] startup\n",
      "[1.529s] [ext: omni.usd.schema.forcefield-0.0.0] startup\n",
      "[1.538s] [ext: omni.kvdb-0.0.0] startup\n",
      "[1.540s] [ext: omni.usdphysics-1.4.15] startup\n",
      "[1.544s] [ext: omni.graph.tools-1.4.0] startup\n",
      "[1.606s] [ext: omni.localcache-0.0.0] startup\n",
      "[1.609s] [ext: omni.kit.stage_templates-1.1.2] startup\n",
      "[1.610s] [ext: omni.convexdecomposition-1.4.15] startup\n",
      "[1.614s] [ext: omni.physics.tensors-0.1.0] startup\n",
      "[1.623s] [ext: omni.physx-1.4.15-5.1] startup\n",
      "[1.664s] [ext: omni.graph.core-2.29.1] startup\n",
      "[1.672s] [ext: omni.kit.menu.utils-1.2.11] startup\n",
      "[1.690s] [ext: omni.physx.tensors-0.1.0] startup\n",
      "[1.698s] [ext: omni.graph-1.23.0] startup\n",
      "[1.749s] [ext: omni.kit.numpy.common-0.1.0] startup\n",
      "[1.752s] [ext: omni.kit.window.script_editor-1.6.2] startup\n",
      "[1.764s] [ext: omni.kit.search_core-1.0.2] startup\n",
      "[1.766s] [ext: omni.isaac.dynamic_control-1.1.0] startup\n",
      "[1.774s] [ext: omni.kit.renderer.capture-0.0.0] startup\n",
      "[1.777s] [ext: omni.kit.widget.filebrowser-2.2.27] startup\n",
      "[1.785s] [ext: omni.kit.widget.path_field-2.0.3] startup\n",
      "[1.787s] [ext: omni.kit.notification_manager-1.0.5] startup\n",
      "[1.789s] [ext: omni.kit.widget.versioning-1.3.8] startup\n",
      "[1.791s] [ext: omni.kit.widget.browser_bar-2.0.3] startup\n",
      "[1.793s] [ext: omni.kit.window.popup_dialog-2.0.8] startup\n",
      "[1.795s] [ext: omni.mdl.neuraylib-0.1.0] startup\n",
      "[1.799s] [ext: omni.kit.window.filepicker-2.4.30] startup\n"
     ]
    },
    {
     "name": "stderr",
     "output_type": "stream",
     "text": [
      "OmniAssetFileFormat\n"
     ]
    },
    {
     "name": "stdout",
     "output_type": "stream",
     "text": [
      "Warp initialized:\n",
      "   Version: 0.2.2\n",
      "   CUDA device: NVIDIA GeForce RTX 3090\n",
      "   Kernel cache: /home/yizhou/.cache/warp/0.2.2\n",
      "[1.860s] [ext: omni.kit.menu.create-1.0.2] startup\n",
      "[1.862s] [ext: omni.mdl-0.1.0] startup\n",
      "[1.884s] [ext: omni.kit.window.file_importer-1.0.4] startup\n",
      "[1.885s] [ext: omni.kit.window.file_exporter-1.0.4] startup\n",
      "[1.886s] [ext: omni.kit.material.library-1.3.10] startup\n",
      "[1.889s] [ext: omni.kit.window.drop_support-1.0.0] startup\n",
      "[1.889s] [ext: omni.kit.window.file-1.3.16] startup\n",
      "[1.892s] [ext: omni.kit.context_menu-1.3.9] startup\n",
      "[1.896s] [ext: omni.kit.window.property-1.6.3] startup\n",
      "[1.897s] [ext: omni.kit.window.content_browser-2.4.28] startup\n",
      "[1.907s] [ext: omni.kit.widget.stage-2.6.15] startup\n",
      "[1.911s] [ext: omni.isaac.version-1.0.0] startup\n",
      "[1.912s] [ext: omni.kit.property.usd-3.14.9] startup\n",
      "[1.946s] [ext: omni.kit.viewport.legacy_gizmos-1.0.0] startup\n",
      "[1.950s] [ext: omni.hydra.rtx-0.1.0] startup\n",
      "[1.962s] [ext: omni.renderer-rtx-0.0.0] startup\n",
      "[1.962s] [ext: omni.hydra.engine.stats-1.0.0] startup\n",
      "[1.970s] [ext: omni.debugdraw-0.1.0] startup\n",
      "[1.976s] [ext: omni.kit.widget.settings-1.0.0] startup\n",
      "[2.027s] [ext: omni.kit.window.viewport-0.0.0] startup\n",
      "[6.376s] [ext: omni.kit.widget.prompt-1.0.1] startup\n",
      "[6.377s] [ext: omni.kit.widget.graph-1.4.3] startup\n",
      "[6.384s] [ext: omni.kit.window.preferences-1.2.1] startup\n",
      "[6.422s] [ext: omni.ui_query-1.1.1] startup\n",
      "[6.424s] [ext: omni.graph.ui-1.6.1] startup\n",
      "[6.448s] [ext: omni.kit.ui_test-1.2.2] startup\n",
      "[6.450s] [ext: omni.graph.action-1.18.0] startup\n",
      "[6.462s] [ext: omni.kit.widget.searchfield-1.0.6] startup\n",
      "[6.464s] [ext: omni.kit.usd_undo-0.1.0] startup\n",
      "[6.465s] [ext: omni.graph.scriptnode-0.5.0] startup\n",
      "[6.467s] [ext: omni.physx.commands-1.4.15-5.1] startup\n",
      "[6.472s] [ext: omni.graph.nodes-1.26.0] startup\n",
      "[6.486s] [ext: omni.command.usd-1.0.1] startup\n",
      "[6.489s] [ext: omni.kit.window.extensions-1.1.0] startup\n",
      "[6.494s] [ext: omni.syntheticdata-0.2.1] startup\n",
      "[6.519s] [ext: omni.kit.primitive.mesh-1.0.0] startup\n",
      "[6.522s] [ext: omni.warp-0.2.2] startup\n",
      "[6.644s] [ext: omni.isaac.ui-0.2.1] startup\n",
      "[6.646s] [ext: omni.replicator.core-1.4.3] startup\n",
      "[6.836s] [ext: omni.isaac.core-1.24.3] startup\n",
      "[6.921s] [ext: omni.physx.ui-1.4.15-5.1] startup\n",
      "[7.000s] [ext: omni.kit.property.material-1.8.5] startup\n",
      "[7.002s] [ext: omni.kit.window.toolbar-1.2.4] startup\n",
      "[7.007s] [ext: omni.isaac.core_nodes-0.13.0] startup\n",
      "[7.019s] [ext: omni.physx.demos-1.4.15-5.1] startup\n",
      "[7.022s] [ext: omni.kit.property.physx-0.1.0] startup\n",
      "2022-12-22 20:06:48 [7,083ms] [Warning] [omni.physx.plugin] Deprecated: getSimulationEventStream is deprecated, please use getSimulationEventStreamV2\n",
      "[7.093s] [ext: omni.physx.tests-1.4.15-5.1] startup\n",
      "[7.388s] [ext: omni.isaac.wheeled_robots-0.5.8] startup\n",
      "[7.400s] [ext: omni.kit.menu.common-1.0.0] startup\n",
      "[7.401s] [ext: omni.physx.vehicle-1.4.15-5.1] startup\n",
      "[7.413s] [ext: omni.physx.cct-1.4.15-5.1] startup\n",
      "[7.491s] [ext: omni.physx.camera-1.4.15-5.1] startup\n",
      "[7.499s] [ext: omni.kit.widget.stage_icons-1.0.2] startup\n",
      "[7.501s] [ext: omni.ui.scene-1.5.0] startup\n",
      "[7.512s] [ext: omni.physx.bundle-1.4.15-5.1] startup\n",
      "[7.512s] [ext: omni.kit.window.stage-2.3.7] startup\n",
      "[7.515s] [ext: omni.replicator.composer-1.1.3] startup\n",
      "[7.529s] [ext: omni.isaac.lula-1.1.0] startup\n",
      "[7.538s] [ext: omni.rtx.window.settings-0.6.1] startup\n",
      "[7.543s] [ext: omni.isaac.surface_gripper-0.1.2] startup\n",
      "[7.548s] [ext: omni.isaac.motion_planning-0.2.0] startup\n",
      "[7.556s] [ext: omni.rtx.settings.core-0.5.5] startup\n",
      "[7.561s] [ext: omni.isaac.manipulators-1.0.1] startup\n",
      "[7.563s] [ext: omni.isaac.motion_generation-3.6.1] startup\n",
      "[7.567s] [ext: omni.kit.widget.zoombar-1.0.3] startup\n",
      "[7.568s] [ext: omni.kit.graph.delegate.default-1.0.15] startup\n",
      "[7.570s] [ext: omni.isaac.franka-0.3.0] startup\n",
      "[7.571s] [ext: omni.kit.browser.core-2.0.12] startup\n",
      "[7.575s] [ext: omni.kit.graph.editor.core-1.3.3] startup\n",
      "[7.578s] [ext: omni.kit.graph.usd.commands-1.1.0] startup\n",
      "[7.579s] [ext: omni.kit.browser.folder.core-1.1.13] startup\n",
      "[7.581s] [ext: omni.kit.graph.widget.variables-2.0.2] startup\n",
      "[7.583s] [ext: omni.kit.graph.delegate.modern-1.6.0] startup\n",
      "[7.584s] [ext: omni.kit.selection-0.1.0] startup\n",
      "[7.586s] [ext: omni.isaac.debug_draw-0.Opening usd file at  omniverse://localhost/Users/yizhou/uva_sac.usd  ...Done.\n",
      "Saving a temp livesync stage at  omniverse://localhost/Users/yizhou/uva_sac.usd  ...Done.\n"
     ]
    }
   ],
   "source": [
    "from omni.isaac.kit import SimulationApp    \n",
    "simulation_app = SimulationApp({\"headless\": True, \"open_usd\": usd_path,  \"livesync_usd\": usd_path}) "
   ]
  },
  {
   "cell_type": "code",
   "execution_count": 5,
   "id": "eadd32bf",
   "metadata": {},
   "outputs": [
    {
     "ename": "NameError",
     "evalue": "name 'pause' is not defined",
     "output_type": "error",
     "traceback": [
      "\u001b[0;31m---------------------------------------------------------------------------\u001b[0m",
      "\u001b[0;31mNameError\u001b[0m                                 Traceback (most recent call last)",
      "\u001b[0;32m/tmp/ipykernel_84125/1188747208.py\u001b[0m in \u001b[0;36m<module>\u001b[0;34m\u001b[0m\n\u001b[0;32m----> 1\u001b[0;31m \u001b[0mpause\u001b[0m\u001b[0;34m\u001b[0m\u001b[0;34m\u001b[0m\u001b[0m\n\u001b[0m",
      "\u001b[0;31mNameError\u001b[0m: name 'pause' is not defined"
     ]
    }
   ],
   "source": [
    "pause"
   ]
  },
  {
   "cell_type": "markdown",
   "id": "7475ee6a",
   "metadata": {},
   "source": [
    "# Init Env"
   ]
  },
  {
   "cell_type": "code",
   "execution_count": null,
   "id": "9a6fd193",
   "metadata": {},
   "outputs": [],
   "source": [
    "from uva_env import UvaEnv\n",
    "env = UvaEnv()"
   ]
  },
  {
   "cell_type": "code",
   "execution_count": null,
   "id": "d3e665fe",
   "metadata": {},
   "outputs": [],
   "source": [
    "from task.utils import add_scene_default\n",
    "add_scene_default()"
   ]
  },
  {
   "cell_type": "code",
   "execution_count": null,
   "id": "4c55eb32",
   "metadata": {
    "scrolled": true
   },
   "outputs": [],
   "source": [
    "print(list(env.stage.TraverseAll()))"
   ]
  },
  {
   "cell_type": "code",
   "execution_count": null,
   "id": "feaeb7d0",
   "metadata": {},
   "outputs": [],
   "source": [
    "env.clean()\n",
    "env.world.step(render=True)"
   ]
  },
  {
   "cell_type": "markdown",
   "id": "be34671d",
   "metadata": {},
   "source": [
    "# Config"
   ]
  },
  {
   "cell_type": "code",
   "execution_count": null,
   "id": "491f4078",
   "metadata": {},
   "outputs": [],
   "source": [
    "from task.config import DATA_PATH\n",
    "task_type = \"Table\"\n",
    "side_choice = \"Border\"\n",
    "base_asset_id = 0\n",
    "load_nucleus = True"
   ]
  },
  {
   "cell_type": "markdown",
   "id": "d3c365e3",
   "metadata": {},
   "source": [
    "# Scene"
   ]
  },
  {
   "cell_type": "code",
   "execution_count": null,
   "id": "19d7b119",
   "metadata": {},
   "outputs": [],
   "source": [
    "from task.scene import ArrangeScene\n",
    "scene = ArrangeScene(task_type, side_choice, base_asset_id = 0, traj_id = 0, load_nucleus = load_nucleus)\n",
    "env.scene = scene"
   ]
  },
  {
   "cell_type": "code",
   "execution_count": null,
   "id": "fae909b6",
   "metadata": {},
   "outputs": [],
   "source": [
    "# add base\n",
    "scene.add_base_asset()"
   ]
  },
  {
   "cell_type": "code",
   "execution_count": null,
   "id": "a7e1de8b",
   "metadata": {},
   "outputs": [],
   "source": [
    "# add room\n",
    "# scene.add_room()"
   ]
  },
  {
   "cell_type": "code",
   "execution_count": null,
   "id": "99481529",
   "metadata": {},
   "outputs": [],
   "source": [
    "env.world.step(render=True)"
   ]
  },
  {
   "cell_type": "markdown",
   "id": "bfd24034",
   "metadata": {},
   "source": [
    "# Reward"
   ]
  },
  {
   "cell_type": "code",
   "execution_count": null,
   "id": "b81a65bf",
   "metadata": {},
   "outputs": [],
   "source": [
    "from uv.reward import Rewarder"
   ]
  },
  {
   "cell_type": "code",
   "execution_count": null,
   "id": "35761844",
   "metadata": {},
   "outputs": [],
   "source": [
    "rewarder = Rewarder(env.world)\n",
    "env.rewarder = rewarder"
   ]
  },
  {
   "cell_type": "markdown",
   "id": "27c8bada",
   "metadata": {},
   "source": [
    "# Render"
   ]
  },
  {
   "cell_type": "code",
   "execution_count": null,
   "id": "fba7340e",
   "metadata": {},
   "outputs": [],
   "source": [
    "from render.helper import RenderHelper\n",
    "render = RenderHelper(task_type, side_choice)\n",
    "\n",
    "render.add_task_cameras()\n",
    "render.set_cameras()"
   ]
  },
  {
   "cell_type": "code",
   "execution_count": null,
   "id": "56d05f4a",
   "metadata": {
    "scrolled": true
   },
   "outputs": [],
   "source": [
    "pause"
   ]
  },
  {
   "cell_type": "markdown",
   "id": "69faba50",
   "metadata": {},
   "source": [
    "#  Learning"
   ]
  },
  {
   "cell_type": "code",
   "execution_count": null,
   "id": "785c3dc5",
   "metadata": {},
   "outputs": [],
   "source": [
    "# from learning.network.resnet import ResNetFeatureExtractor\n",
    "\n",
    "from learning.utils import extract_image_clip_feature_and_save\n",
    "from transformers import CLIPProcessor, CLIPModel\n",
    "\n",
    "feature_model = CLIPModel.from_pretrained(\"openai/clip-vit-base-patch32\").to(device)\n",
    "feature_processor = CLIPProcessor.from_pretrained(\"openai/clip-vit-base-patch32\")"
   ]
  },
  {
   "cell_type": "markdown",
   "id": "a93eef8c",
   "metadata": {},
   "source": [
    "# Trajectory"
   ]
  },
  {
   "cell_type": "code",
   "execution_count": null,
   "id": "a261f83f",
   "metadata": {},
   "outputs": [],
   "source": [
    "total_traj = 0"
   ]
  },
  {
   "cell_type": "code",
   "execution_count": null,
   "id": "d9049e66",
   "metadata": {
    "scrolled": true
   },
   "outputs": [],
   "source": [
    "# traj config\n",
    "for traj_id in range(50):\n",
    "    total_traj += 1\n",
    "    \n",
    "    base_asset_id = 0\n",
    "    env.scene.base_asset_id = base_asset_id\n",
    "    env.scene.traj_id = traj_id\n",
    "    image_folder = os.path.join(DATA_PATH, task_type, side_choice, str(traj_id))\n",
    "\n",
    "    # base\n",
    "    # scene.add_base_asset()\n",
    "    env.world.step(render = True)\n",
    "\n",
    "    # get images\n",
    "    env.world.render()\n",
    "    images = render.get_images()\n",
    "    render.save_rgb(images[0]['rgb'], image_folder, \"0\")\n",
    "    \n",
    "    ## extract feature\n",
    "    \n",
    "#     extract_image_feature_and_save(images[0]['rgb'][:,:,:3], \n",
    "#         feature_extractor, os.path.join(image_folder, str(0) + \".pt\"))\n",
    "    extract_image_clip_feature_and_save(f\"{image_folder}/{0}.png\", feature_model, feature_processor, \n",
    "        f\"{image_folder}/{0}.pt\",)\n",
    "    \n",
    "\n",
    "    # trajectory\n",
    "    for step in range(5):\n",
    "\n",
    "        env.add_scene_obj(mode = \"random\")\n",
    "        \n",
    "        # TODO: get action from sampling\n",
    "        if total_traj < 10 and np.random.rand() < 0.2:\n",
    "            x, y = np.tanh(np.random.randn()), np.tanh(np.random.randn())\n",
    "        else:\n",
    "            \n",
    "\n",
    "        env.put_last_object((x, y)) \n",
    "        env.world.step(render=True)\n",
    "\n",
    "        env.register_last_object()\n",
    "        env.world.step(render=True)\n",
    "\n",
    "        # get images\n",
    "        env.world.render()\n",
    "        images = render.get_images()\n",
    "        render.save_rgb(images[0]['rgb'], image_folder, str(step + 1))\n",
    "\n",
    "        ## calculate reward\n",
    "        env.calculate_last_reward(simulation_step = 30)\n",
    "        \n",
    "        ## extract feature\n",
    "#         extract_image_feature_and_save(images[0]['rgb'][:,:,:3], \n",
    "#             feature_extractor, os.path.join(image_folder, str(step + 1) + \".pt\"))\n",
    "        extract_image_clip_feature_and_save(f\"{image_folder}/{step + 1}.png\", feature_model, feature_processor, \n",
    "            f\"{image_folder}/{step + 1}.pt\",)\n",
    "    \n",
    "\n",
    "        ## reset\n",
    "        env.world.reset()\n",
    "        env.world.step(render=True)\n",
    "\n",
    "\n",
    "    # Record\n",
    "    record = env.scene.get_scene_data()\n",
    "    env.scene.save_scene_data()\n",
    "    print(\"record: \", record)\n",
    "\n",
    "    # Reset (env clean)\n",
    "    env.clean(clean_all = False)\n",
    "    env.step(render = True)"
   ]
  },
  {
   "cell_type": "markdown",
   "id": "11155e93",
   "metadata": {},
   "source": [
    "# Debug"
   ]
  },
  {
   "cell_type": "code",
   "execution_count": null,
   "id": "a3c0bdec",
   "metadata": {},
   "outputs": [],
   "source": [
    "# get images\n",
    "env.world.render()\n",
    "env.world.render()\n",
    "images = render.get_images()\n",
    "\n",
    "Image.fromarray(images[0]['rgb'], \"RGBA\").resize((300, 300))"
   ]
  },
  {
   "cell_type": "markdown",
   "id": "9d3687f5",
   "metadata": {},
   "source": [
    "# Replay Buffer"
   ]
  },
  {
   "cell_type": "code",
   "execution_count": 6,
   "id": "a8d01e0a",
   "metadata": {},
   "outputs": [],
   "source": [
    "import json\n",
    "from learning.replay_buffer import ReplayBuffer\n",
    "\n",
    "buffer = ReplayBuffer(max_size=1000)\n",
    "\n",
    "for i in range(50):\n",
    "    replay = json.load(open(f\"/home/yizhou/Research/DeepArrange/Data/Table/Border/{i}/scene.json\"))\n",
    "    buffer.add_scene_sample(replay)"
   ]
  },
  {
   "cell_type": "code",
   "execution_count": 7,
   "id": "bec87318",
   "metadata": {},
   "outputs": [
    {
     "data": {
      "text/plain": [
       "250"
      ]
     },
     "execution_count": 7,
     "metadata": {},
     "output_type": "execute_result"
    }
   ],
   "source": [
    "len(buffer.dataset)"
   ]
  },
  {
   "cell_type": "code",
   "execution_count": 8,
   "id": "69257ad5",
   "metadata": {},
   "outputs": [],
   "source": [
    "from learning.network.sac import *"
   ]
  },
  {
   "cell_type": "code",
   "execution_count": 9,
   "id": "bf449052",
   "metadata": {},
   "outputs": [],
   "source": [
    "policy = Policy()"
   ]
  },
  {
   "cell_type": "code",
   "execution_count": 10,
   "id": "b0b72d98",
   "metadata": {},
   "outputs": [],
   "source": [
    "qf1 = QFunction()\n",
    "qf2 = QFunction()\n",
    "target_qf1 = QFunction()\n",
    "target_qf2 = QFunction()"
   ]
  },
  {
   "cell_type": "code",
   "execution_count": 11,
   "id": "97e9b710",
   "metadata": {},
   "outputs": [],
   "source": [
    "from learning.sac_trainer import SACTrainer"
   ]
  },
  {
   "cell_type": "code",
   "execution_count": 12,
   "id": "a0899e09",
   "metadata": {},
   "outputs": [],
   "source": [
    "trainer = SACTrainer(policy, qf1, qf2, target_qf1, target_qf2, \n",
    "     use_automatic_entropy_tuning = False, \n",
    "     policy_lr=1e-3, \n",
    "     qf_lr=1e-3,\n",
    "     target_update_period = 5)"
   ]
  },
  {
   "cell_type": "code",
   "execution_count": 13,
   "id": "0acc75a9",
   "metadata": {},
   "outputs": [],
   "source": [
    "self = trainer"
   ]
  },
  {
   "cell_type": "code",
   "execution_count": 14,
   "id": "be95f838",
   "metadata": {
    "scrolled": true
   },
   "outputs": [
    {
     "name": "stdout",
     "output_type": "stream",
     "text": [
      "1.2] startup\n",
      "[7.593s] [ext: omni.graph.window.core-1.23.4] startup\n",
      "[7.604s] [ext: omni.graph.instancing-1.1.4] startup\n",
      "[7.612s] [ext: omni.kit.menu.edit-1.0.6] startup\n",
      "[7.614s] [ext: omni.isaac.isaac_sensor-1.0.2] startup\n",
      "2022-12-22 20:06:49 [7,618ms] [Warning] [omni.physx.plugin] Deprecated: getSimulationEventStream is deprecated, please use getSimulationEventStreamV2\n",
      "[7.629s] [ext: omni.graph.tutorials-1.1.2] startup\n",
      "[7.644s] [ext: omni.graph.window.action-1.3.8] startup\n",
      "[7.646s] [ext: omni.kit.widget.live-0.1.0] startup\n",
      "[7.650s] [ext: omni.kit.widget.layers-1.5.17] startup\n",
      "[7.664s] [ext: omni.graph.bundle.action-1.0.0] startup\n",
      "[7.664s] [ext: omni.isaac.range_sensor-0.4.3] startup\n",
      "[7.695s] [ext: omni.kit.property.layer-1.1.2] startup\n",
      "[7.698s] [ext: omni.replicator.isaac-1.3.2] startup\n",
      "[7.785s] [ext: omni.isaac.kit-0.2.1] startup\n",
      "[7.785s] [ext: omni.graph.window.generic-1.3.8] startup\n",
      "[7.787s] [ext: omni.isaac.utils-0.1.11] startup\n",
      "[7.791s] [ext: omni.kit.property.audio-1.0.5] startup\n",
      "[7.794s] [ext: omni.kit.property.skel-1.0.1] startup\n",
      "[7.796s] [ext: omni.kit.property.render-1.1.0] startup\n",
      "[7.798s] [ext: omni.kit.property.camera-1.0.3] startup\n",
      "[7.799s] [ext: omni.kit.property.geometry-1.2.0] startup\n",
      "[7.801s] [ext: omni.kit.property.light-1.0.5] startup\n",
      "[7.802s] [ext: omni.kit.property.transform-1.0.2] startup\n",
      "[7.805s] [ext: omni.isaac.universal_robots-0.3.0] startup\n",
      "[7.806s] [ext: omni.isaac.occupancy_map-0.2.4] startup\n",
      "[7.820s] [ext: omni.kit.window.console-0.2.0] startup\n",
      "[7.826s] [ext: omni.kit.window.status_bar-0.1.1] startup\n",
      "[7.832s] [ext: omni.kit.property.bundle-1.2.4] startup\n",
      "[7.833s] [ext: omni.kit.menu.file-1.0.8] startup\n",
      "[7.834s] [ext: omni.kit.manipulator.viewport-1.0.6] startup\n",
      "[7.836s] [ext: omni.isaac.urdf-0.4.0] startup\n",
      "[7.870s] [ext: omni.isaac.dofbot-0.3.0] startup\n",
      "[7.871s] [ext: omni.kit.window.title-1.1.2] startup\n",
      "[7.872s] [ext: omni.kit.profiler.window-1.4.4] startup\n",
      "[7.874s] [ext: omni.graph.visualization.nodes-1.1.1] startup\n",
      "[7.878s] [ext: omni.isaac.synthetic_utils-0.3.5] startup\n",
      "[7.880s] [ext: semantics.schema.editor-0.2.3] startup\n",
      "[7.883s] [ext: omni.isaac.sim.python-2022.1.1] startup\n",
      "[7.884s] Simulation App Starting\n",
      "2022-12-22 20:06:50 [8,502ms] [Warning] [omni.usd] Default value for render setting \"/rtx/shaderDb/cachePermutationIndex\" not found\n",
      "2022-12-22 20:06:50 [8,502ms] [Warning] [omni.usd] Default value for render setting \"/rtx/resourcemanager/uploadPooledBuffers/framesToEvict\" not found\n",
      "2022-12-22 20:06:50 [8,502ms] [Warning] [omni.usd] Default value for render setting \"/rtx/resourcemanager/uploadPooledBuffers/uploadSize\" not found\n",
      "2022-12-22 20:06:50 [8,503ms] [Warning] [omni.usd] Default value for render setting \"/rtx/pathtracing/nrc/canRun\" not found\n",
      "[14.269s] app ready\n",
      "2022-12-22 20:06:56 [14,267ms] [Warning] [gpu.foundation.plugin] Requesting texture to use texture streaming, but the service isn't available.The texture will be created as a regular resource.\n",
      "[15.112s] Simulation App Startup Complete\n"
     ]
    },
    {
     "ename": "RuntimeError",
     "evalue": "Expected all tensors to be on the same device, but found at least two devices, cuda:0 and cpu! (when checking argument for argument mat1 in method wrapper_addmm)",
     "output_type": "error",
     "traceback": [
      "\u001b[0;31m---------------------------------------------------------------------------\u001b[0m",
      "\u001b[0;31mRuntimeError\u001b[0m                              Traceback (most recent call last)",
      "\u001b[0;32m/tmp/ipykernel_84125/84406899.py\u001b[0m in \u001b[0;36m<module>\u001b[0;34m\u001b[0m\n\u001b[1;32m     15\u001b[0m \u001b[0;34m\u001b[0m\u001b[0m\n\u001b[1;32m     16\u001b[0m     \u001b[0;32mif\u001b[0m \u001b[0m_\u001b[0m \u001b[0;34m%\u001b[0m \u001b[0;36m20\u001b[0m \u001b[0;34m==\u001b[0m \u001b[0;36m0\u001b[0m\u001b[0;34m:\u001b[0m\u001b[0;34m\u001b[0m\u001b[0;34m\u001b[0m\u001b[0m\n\u001b[0;32m---> 17\u001b[0;31m         \u001b[0mdist\u001b[0m \u001b[0;34m=\u001b[0m \u001b[0mself\u001b[0m\u001b[0;34m.\u001b[0m\u001b[0mpolicy\u001b[0m\u001b[0;34m(\u001b[0m\u001b[0mobs\u001b[0m\u001b[0;34m,\u001b[0m \u001b[0mobj_features\u001b[0m\u001b[0;34m)\u001b[0m\u001b[0;34m\u001b[0m\u001b[0;34m\u001b[0m\u001b[0m\n\u001b[0m\u001b[1;32m     18\u001b[0m         \u001b[0mpred\u001b[0m \u001b[0;34m=\u001b[0m \u001b[0mself\u001b[0m\u001b[0;34m.\u001b[0m\u001b[0mqf1\u001b[0m\u001b[0;34m(\u001b[0m\u001b[0mobs\u001b[0m\u001b[0;34m,\u001b[0m \u001b[0mobj_features\u001b[0m\u001b[0;34m,\u001b[0m \u001b[0mactions\u001b[0m\u001b[0;34m)\u001b[0m\u001b[0;34m\u001b[0m\u001b[0;34m\u001b[0m\u001b[0m\n\u001b[1;32m     19\u001b[0m         print(_, #\"\\n dist: \", dist.mean.flatten().tolist(), dist.stddev.flatten().tolist(),\n",
      "\u001b[0;32m~/.local/share/ov/pkg/isaac_sim-2022.1.1/exts/omni.kit.pip_torch-1_11_0-0.1.3+103.1.lx64.cp37/torch-1-11-0/torch/nn/modules/module.py\u001b[0m in \u001b[0;36m_call_impl\u001b[0;34m(self, *input, **kwargs)\u001b[0m\n\u001b[1;32m   1108\u001b[0m         if not (self._backward_hooks or self._forward_hooks or self._forward_pre_hooks or _global_backward_hooks\n\u001b[1;32m   1109\u001b[0m                 or _global_forward_hooks or _global_forward_pre_hooks):\n\u001b[0;32m-> 1110\u001b[0;31m             \u001b[0;32mreturn\u001b[0m \u001b[0mforward_call\u001b[0m\u001b[0;34m(\u001b[0m\u001b[0;34m*\u001b[0m\u001b[0minput\u001b[0m\u001b[0;34m,\u001b[0m \u001b[0;34m**\u001b[0m\u001b[0mkwargs\u001b[0m\u001b[0;34m)\u001b[0m\u001b[0;34m\u001b[0m\u001b[0;34m\u001b[0m\u001b[0m\n\u001b[0m\u001b[1;32m   1111\u001b[0m         \u001b[0;31m# Do not call functions when jit is used\u001b[0m\u001b[0;34m\u001b[0m\u001b[0;34m\u001b[0m\u001b[0;34m\u001b[0m\u001b[0m\n\u001b[1;32m   1112\u001b[0m         \u001b[0mfull_backward_hooks\u001b[0m\u001b[0;34m,\u001b[0m \u001b[0mnon_full_backward_hooks\u001b[0m \u001b[0;34m=\u001b[0m \u001b[0;34m[\u001b[0m\u001b[0;34m]\u001b[0m\u001b[0;34m,\u001b[0m \u001b[0;34m[\u001b[0m\u001b[0;34m]\u001b[0m\u001b[0;34m\u001b[0m\u001b[0;34m\u001b[0m\u001b[0m\n",
      "\u001b[0;32m~/Research/DeepArrange/exts/deep.arrangement.ext/deep/arrangement/ext/learning/network/sac.py\u001b[0m in \u001b[0;36mforward\u001b[0;34m(self, image_feature, object_feature)\u001b[0m\n\u001b[1;32m     22\u001b[0m     \u001b[0;32mdef\u001b[0m \u001b[0mforward\u001b[0m\u001b[0;34m(\u001b[0m\u001b[0mself\u001b[0m\u001b[0;34m,\u001b[0m \u001b[0mimage_feature\u001b[0m\u001b[0;34m,\u001b[0m \u001b[0mobject_feature\u001b[0m\u001b[0;34m)\u001b[0m\u001b[0;34m:\u001b[0m\u001b[0;34m\u001b[0m\u001b[0;34m\u001b[0m\u001b[0m\n\u001b[1;32m     23\u001b[0m         \u001b[0mx\u001b[0m \u001b[0;34m=\u001b[0m \u001b[0mtorch\u001b[0m\u001b[0;34m.\u001b[0m\u001b[0mcat\u001b[0m\u001b[0;34m(\u001b[0m\u001b[0;34m[\u001b[0m\u001b[0mimage_feature\u001b[0m\u001b[0;34m,\u001b[0m \u001b[0mobject_feature\u001b[0m\u001b[0;34m]\u001b[0m\u001b[0;34m,\u001b[0m \u001b[0mdim\u001b[0m \u001b[0;34m=\u001b[0m \u001b[0;36m1\u001b[0m\u001b[0;34m)\u001b[0m\u001b[0;34m\u001b[0m\u001b[0;34m\u001b[0m\u001b[0m\n\u001b[0;32m---> 24\u001b[0;31m         \u001b[0mx\u001b[0m \u001b[0;34m=\u001b[0m \u001b[0mself\u001b[0m\u001b[0;34m.\u001b[0m\u001b[0mlayers\u001b[0m\u001b[0;34m(\u001b[0m\u001b[0mx\u001b[0m\u001b[0;34m)\u001b[0m\u001b[0;34m\u001b[0m\u001b[0;34m\u001b[0m\u001b[0m\n\u001b[0m\u001b[1;32m     25\u001b[0m \u001b[0;34m\u001b[0m\u001b[0m\n\u001b[1;32m     26\u001b[0m         \u001b[0;31m# get mean\u001b[0m\u001b[0;34m\u001b[0m\u001b[0;34m\u001b[0m\u001b[0;34m\u001b[0m\u001b[0m\n",
      "\u001b[0;32m~/.local/share/ov/pkg/isaac_sim-2022.1.1/exts/omni.kit.pip_torch-1_11_0-0.1.3+103.1.lx64.cp37/torch-1-11-0/torch/nn/modules/module.py\u001b[0m in \u001b[0;36m_call_impl\u001b[0;34m(self, *input, **kwargs)\u001b[0m\n\u001b[1;32m   1108\u001b[0m         if not (self._backward_hooks or self._forward_hooks or self._forward_pre_hooks or _global_backward_hooks\n\u001b[1;32m   1109\u001b[0m                 or _global_forward_hooks or _global_forward_pre_hooks):\n\u001b[0;32m-> 1110\u001b[0;31m             \u001b[0;32mreturn\u001b[0m \u001b[0mforward_call\u001b[0m\u001b[0;34m(\u001b[0m\u001b[0;34m*\u001b[0m\u001b[0minput\u001b[0m\u001b[0;34m,\u001b[0m \u001b[0;34m**\u001b[0m\u001b[0mkwargs\u001b[0m\u001b[0;34m)\u001b[0m\u001b[0;34m\u001b[0m\u001b[0;34m\u001b[0m\u001b[0m\n\u001b[0m\u001b[1;32m   1111\u001b[0m         \u001b[0;31m# Do not call functions when jit is used\u001b[0m\u001b[0;34m\u001b[0m\u001b[0;34m\u001b[0m\u001b[0;34m\u001b[0m\u001b[0m\n\u001b[1;32m   1112\u001b[0m         \u001b[0mfull_backward_hooks\u001b[0m\u001b[0;34m,\u001b[0m \u001b[0mnon_full_backward_hooks\u001b[0m \u001b[0;34m=\u001b[0m \u001b[0;34m[\u001b[0m\u001b[0;34m]\u001b[0m\u001b[0;34m,\u001b[0m \u001b[0;34m[\u001b[0m\u001b[0;34m]\u001b[0m\u001b[0;34m\u001b[0m\u001b[0;34m\u001b[0m\u001b[0m\n",
      "\u001b[0;32m~/.local/share/ov/pkg/isaac_sim-2022.1.1/exts/omni.kit.pip_torch-1_11_0-0.1.3+103.1.lx64.cp37/torch-1-11-0/torch/nn/modules/container.py\u001b[0m in \u001b[0;36mforward\u001b[0;34m(self, input)\u001b[0m\n\u001b[1;32m    139\u001b[0m     \u001b[0;32mdef\u001b[0m \u001b[0mforward\u001b[0m\u001b[0;34m(\u001b[0m\u001b[0mself\u001b[0m\u001b[0;34m,\u001b[0m \u001b[0minput\u001b[0m\u001b[0;34m)\u001b[0m\u001b[0;34m:\u001b[0m\u001b[0;34m\u001b[0m\u001b[0;34m\u001b[0m\u001b[0m\n\u001b[1;32m    140\u001b[0m         \u001b[0;32mfor\u001b[0m \u001b[0mmodule\u001b[0m \u001b[0;32min\u001b[0m \u001b[0mself\u001b[0m\u001b[0;34m:\u001b[0m\u001b[0;34m\u001b[0m\u001b[0;34m\u001b[0m\u001b[0m\n\u001b[0;32m--> 141\u001b[0;31m             \u001b[0minput\u001b[0m \u001b[0;34m=\u001b[0m \u001b[0mmodule\u001b[0m\u001b[0;34m(\u001b[0m\u001b[0minput\u001b[0m\u001b[0;34m)\u001b[0m\u001b[0;34m\u001b[0m\u001b[0;34m\u001b[0m\u001b[0m\n\u001b[0m\u001b[1;32m    142\u001b[0m         \u001b[0;32mreturn\u001b[0m \u001b[0minput\u001b[0m\u001b[0;34m\u001b[0m\u001b[0;34m\u001b[0m\u001b[0m\n\u001b[1;32m    143\u001b[0m \u001b[0;34m\u001b[0m\u001b[0m\n",
      "\u001b[0;32m~/.local/share/ov/pkg/isaac_sim-2022.1.1/exts/omni.kit.pip_torch-1_11_0-0.1.3+103.1.lx64.cp37/torch-1-11-0/torch/nn/modules/module.py\u001b[0m in \u001b[0;36m_call_impl\u001b[0;34m(self, *input, **kwargs)\u001b[0m\n\u001b[1;32m   1108\u001b[0m         if not (self._backward_hooks or self._forward_hooks or self._forward_pre_hooks or _global_backward_hooks\n\u001b[1;32m   1109\u001b[0m                 or _global_forward_hooks or _global_forward_pre_hooks):\n\u001b[0;32m-> 1110\u001b[0;31m             \u001b[0;32mreturn\u001b[0m \u001b[0mforward_call\u001b[0m\u001b[0;34m(\u001b[0m\u001b[0;34m*\u001b[0m\u001b[0minput\u001b[0m\u001b[0;34m,\u001b[0m \u001b[0;34m**\u001b[0m\u001b[0mkwargs\u001b[0m\u001b[0;34m)\u001b[0m\u001b[0;34m\u001b[0m\u001b[0;34m\u001b[0m\u001b[0m\n\u001b[0m\u001b[1;32m   1111\u001b[0m         \u001b[0;31m# Do not call functions when jit is used\u001b[0m\u001b[0;34m\u001b[0m\u001b[0;34m\u001b[0m\u001b[0;34m\u001b[0m\u001b[0m\n\u001b[1;32m   1112\u001b[0m         \u001b[0mfull_backward_hooks\u001b[0m\u001b[0;34m,\u001b[0m \u001b[0mnon_full_backward_hooks\u001b[0m \u001b[0;34m=\u001b[0m \u001b[0;34m[\u001b[0m\u001b[0;34m]\u001b[0m\u001b[0;34m,\u001b[0m \u001b[0;34m[\u001b[0m\u001b[0;34m]\u001b[0m\u001b[0;34m\u001b[0m\u001b[0;34m\u001b[0m\u001b[0m\n",
      "\u001b[0;32m~/.local/share/ov/pkg/isaac_sim-2022.1.1/exts/omni.kit.pip_torch-1_11_0-0.1.3+103.1.lx64.cp37/torch-1-11-0/torch/nn/modules/linear.py\u001b[0m in \u001b[0;36mforward\u001b[0;34m(self, input)\u001b[0m\n\u001b[1;32m    101\u001b[0m \u001b[0;34m\u001b[0m\u001b[0m\n\u001b[1;32m    102\u001b[0m     \u001b[0;32mdef\u001b[0m \u001b[0mforward\u001b[0m\u001b[0;34m(\u001b[0m\u001b[0mself\u001b[0m\u001b[0;34m,\u001b[0m \u001b[0minput\u001b[0m\u001b[0;34m:\u001b[0m \u001b[0mTensor\u001b[0m\u001b[0;34m)\u001b[0m \u001b[0;34m->\u001b[0m \u001b[0mTensor\u001b[0m\u001b[0;34m:\u001b[0m\u001b[0;34m\u001b[0m\u001b[0;34m\u001b[0m\u001b[0m\n\u001b[0;32m--> 103\u001b[0;31m         \u001b[0;32mreturn\u001b[0m \u001b[0mF\u001b[0m\u001b[0;34m.\u001b[0m\u001b[0mlinear\u001b[0m\u001b[0;34m(\u001b[0m\u001b[0minput\u001b[0m\u001b[0;34m,\u001b[0m \u001b[0mself\u001b[0m\u001b[0;34m.\u001b[0m\u001b[0mweight\u001b[0m\u001b[0;34m,\u001b[0m \u001b[0mself\u001b[0m\u001b[0;34m.\u001b[0m\u001b[0mbias\u001b[0m\u001b[0;34m)\u001b[0m\u001b[0;34m\u001b[0m\u001b[0;34m\u001b[0m\u001b[0m\n\u001b[0m\u001b[1;32m    104\u001b[0m \u001b[0;34m\u001b[0m\u001b[0m\n\u001b[1;32m    105\u001b[0m     \u001b[0;32mdef\u001b[0m \u001b[0mextra_repr\u001b[0m\u001b[0;34m(\u001b[0m\u001b[0mself\u001b[0m\u001b[0;34m)\u001b[0m \u001b[0;34m->\u001b[0m \u001b[0mstr\u001b[0m\u001b[0;34m:\u001b[0m\u001b[0;34m\u001b[0m\u001b[0;34m\u001b[0m\u001b[0m\n",
      "\u001b[0;31mRuntimeError\u001b[0m: Expected all tensors to be on the same device, but found at least two devices, cuda:0 and cpu! (when checking argument for argument mat1 in method wrapper_addmm)"
     ]
    }
   ],
   "source": [
    "for _ in range(5):\n",
    "    batch = buffer.sample_batch(batch_size=6)\n",
    "\n",
    "    rewards = batch['rewards']\n",
    "    terminals = batch['terminals']\n",
    "    obs = batch['observations']\n",
    "    actions = batch['actions']\n",
    "    next_obs = batch['next_observations']\n",
    "\n",
    "    obj_features = batch['object_features']\n",
    "\n",
    "    # print(\"rewards\", rewards)\n",
    "\n",
    "    self.update(batch)\n",
    "    \n",
    "    if _ % 20 == 0:\n",
    "        dist = self.policy(obs, obj_features)\n",
    "        pred = self.qf1(obs, obj_features, actions)\n",
    "        print(_, #\"\\n dist: \", dist.mean.flatten().tolist(), dist.stddev.flatten().tolist(),\n",
    "              \"\\n pred:\", pred.flatten().tolist(),\n",
    "              \"\\n rewards: \", rewards.flatten().tolist())\n",
    "    \n",
    "#     # debug\n",
    "#     pred = self.qf1(obs, obj_features, actions)\n",
    "#     loss = self.qf_criterion(pred, rewards)\n",
    "    \n",
    "#     self.qf1_optimizer.zero_grad()\n",
    "#     loss.backward()\n",
    "#     self.qf1_optimizer.step()\n",
    "    \n",
    "#     if _ % 20 == 0:\n",
    "#         print(_, \"\\n debug loss: \", loss.item(), \"\\n pred:\", \n",
    "#               pred.flatten().tolist(), \"\\n rewards: \", rewards.flatten().tolist())"
   ]
  },
  {
   "cell_type": "code",
   "execution_count": null,
   "id": "6c746451",
   "metadata": {},
   "outputs": [],
   "source": [
    "device = torch.device(\"cuda\")"
   ]
  },
  {
   "cell_type": "code",
   "execution_count": null,
   "id": "aa6fffc0",
   "metadata": {},
   "outputs": [],
   "source": [
    "dist = self.policy(obs.to(device), obj_features.to(device))"
   ]
  },
  {
   "cell_type": "code",
   "execution_count": null,
   "id": "cc6be09c",
   "metadata": {},
   "outputs": [],
   "source": []
  }
 ],
 "metadata": {
  "kernelspec": {
   "display_name": "Isaac Sim Python 3",
   "language": "python",
   "name": "isaac_sim_python3"
  },
  "language_info": {
   "codemirror_mode": {
    "name": "ipython",
    "version": 3
   },
   "file_extension": ".py",
   "mimetype": "text/x-python",
   "name": "python",
   "nbconvert_exporter": "python",
   "pygments_lexer": "ipython3",
   "version": "3.7.13"
  }
 },
 "nbformat": 4,
 "nbformat_minor": 5
}
