{
 "cells": [
  {
   "cell_type": "code",
   "execution_count": 1,
   "id": "0c3e8605",
   "metadata": {},
   "outputs": [],
   "source": [
    "# import torch\n",
    "\n",
    "# from learning.network.sac import *\n",
    "\n",
    "# policy = Policy()\n",
    "# qf = QFunction()\n",
    "\n",
    "# image_feature = torch.randn(5, 512)\n",
    "# object_feature = torch.randn(5, 512)\n",
    "# action = torch.randn(5, 2)\n",
    "\n",
    "# policy(image_feature, object_feature)\n",
    "\n",
    "# qf(image_feature, object_feature, action)"
   ]
  },
  {
   "cell_type": "code",
   "execution_count": 2,
   "id": "3fe18b05",
   "metadata": {},
   "outputs": [
    {
     "data": {
      "text/plain": [
       "'1.11.0+cu113'"
      ]
     },
     "execution_count": 2,
     "metadata": {},
     "output_type": "execute_result"
    }
   ],
   "source": [
    "import random\n",
    "import numpy as np\n",
    "import os\n",
    "from PIL import Image\n",
    "\n",
    "import torch\n",
    "torch.__version__"
   ]
  },
  {
   "cell_type": "code",
   "execution_count": 3,
   "id": "0137c535",
   "metadata": {},
   "outputs": [
    {
     "name": "stdout",
     "output_type": "stream",
     "text": [
      "yizhou\n"
     ]
    }
   ],
   "source": [
    "import getpass\n",
    "user = getpass.getuser()\n",
    "print(user)"
   ]
  },
  {
   "cell_type": "code",
   "execution_count": 4,
   "id": "b9d56ea3",
   "metadata": {},
   "outputs": [],
   "source": [
    "usd_path = f\"omniverse://localhost/Users/{user}/uva_sac.usd\""
   ]
  },
  {
   "cell_type": "code",
   "execution_count": 5,
   "id": "d7e8d7fe",
   "metadata": {},
   "outputs": [
    {
     "name": "stdout",
     "output_type": "stream",
     "text": [
      "Starting kit application with the fillowing args:  ['/home/yizhou/.local/share/ov/pkg/isaac_sim-2022.1.1/exts/omni.isaac.kit/omni/isaac/kit/simulation_app.py', '/home/yizhou/.local/share/ov/pkg/isaac_sim-2022.1.1/apps/omni.isaac.sim.python.kit', '--/app/tokens/exe-path=/home/yizhou/.local/share/ov/pkg/isaac_sim-2022.1.1/kit', '--/persistent/app/viewport/displayOptions=3094', '--/rtx/materialDb/syncLoads=True', '--/rtx/hydra/materialSyncLoads=True--/omni.kit.plugin/syncUsdLoads=True', '--/app/renderer/resolution/width=1280', '--/app/renderer/resolution/height=720', '--/app/window/width=1440', '--/app/window/height=900', '--/renderer/multiGpu/enabled=True', '--ext-folder', '/home/yizhou/.local/share/ov/pkg/isaac_sim-2022.1.1/exts', '--ext-folder', '/home/yizhou/.local/share/ov/pkg/isaac_sim-2022.1.1/apps', '--/physics/cudaDevice=0', '--portable', '--no-window']\n",
      "Passing the following args to the base kit application:  ['-f', '/home/yizhou/.local/share/jupyter/runtime/kernel-b02b60ab-c877-4331-b623-bd14b2bb1f3c.json']\n",
      "[Warning] [omni.kit.app.plugin] No crash reporter present, dumps uploading isn't available.\n",
      "[Info] [carb] Logging to file: /home/yizhou/.local/share/ov/pkg/isaac_sim-2022.1.1/kit/logs/Kit/Isaac-Sim/2022.1/kit_20221215_155046.log\n",
      "2022-12-15 23:50:46 [4ms] [Warning] [omni.ext.plugin] [ext: omni.drivesim.sensors.nv.lidar] Extensions config 'extension.toml' doesn't exist '/home/yizhou/.local/share/ov/pkg/isaac_sim-2022.1.1/exts/omni.drivesim.sensors.nv.lidar' or '/home/yizhou/.local/share/ov/pkg/isaac_sim-2022.1.1/exts/omni.drivesim.sensors.nv.lidar/config'\n",
      "[0.087s] [ext: omni.stats-0.0.0] startup\n",
      "[0.140s] [ext: omni.gpu_foundation-0.0.0] startup\n",
      "2022-12-15 23:50:46 [147ms] [Warning] [carb] FrameworkImpl::setDefaultPlugin(client: omni.gpu_foundation_factory.plugin, desc : [carb::graphics::Graphics v2.5], plugin : carb.graphics-vulkan.plugin) failed. Plugin selection is locked, because the interface was previously acquired by: \n",
      "[0.161s] [ext: carb.windowing.plugins-1.0.0] startup\n",
      "[0.172s] [ext: omni.assets.plugins-0.0.0] startup\n",
      "[0.174s] [ext: omni.kit.renderer.init-0.0.0] startup\n",
      "\n",
      "|---------------------------------------------------------------------------------------------|\n",
      "| Driver Version: 510.108.3     | Graphics API: Vulkan\n",
      "|=============================================================================================|\n",
      "| GPU | Name                             | Active | LDA | GPU Memory | Vendor-ID | LUID       |\n",
      "|     |                                  |        |     |            | Device-ID | UUID       |\n",
      "|---------------------------------------------------------------------------------------------|\n",
      "| 0   | NVIDIA GeForce RTX 3090          | Yes: 0 |     | 24822   MB | 10de      | 0          |\n",
      "|     |                                  |        |     |            | 2204      | 3f50dd6e.. |\n",
      "|=============================================================================================|\n",
      "| OS: Linux yizhou-Z370-AORUS-Gaming-5, Version: 5.15.0-56-generic\n",
      "| Processor: Intel(R) Core(TM) i7-8700K CPU @ 3.70GHz | Cores: Unknown | Logical: 12\n",
      "|---------------------------------------------------------------------------------------------|\n",
      "| Total Memory (MB): 32044 | Free Memory: 16425\n",
      "| Total Page/Swap (MB): 2047 | Free Page/Swap: 2047\n",
      "|---------------------------------------------------------------------------------------------|\n",
      "2022-12-15 23:50:47 [1,071ms] [Warning] [carb.cudainterop.plugin] On Linux only, CUDA and the display driver does not support IOMMU-enabled bare-metal PCIe peer to peer memory copy.\n",
      "However, CUDA and the display driver does support IOMMU via VM pass through. As a consequence, users on Linux,\n",
      "when running on a native bare metal system, should disable the IOMMU. The IOMMU should be enabled and the VFIO driver\n",
      "be used as a PCIe pass through for virtual machines.\n",
      "[1.097s] [ext: omni.kit.pipapi-0.0.0] startup\n",
      "[1.111s] [ext: omni.kit.pip_archive-0.0.0] startup\n",
      "[1.116s] [ext: omni.isaac.core_archive-1.2.0] startup\n",
      "[1.144s] [ext: omni.usd.config-1.0.0] startup\n",
      "[1.147s] [ext: omni.usd.libs-1.0.0] startup\n",
      "[1.382s] [ext: omni.kit.pip_torch-1_11_0-0.1.3] startup\n",
      "[1.420s] [ext: omni.isaac.ml_archive-1.1.0] startup\n",
      "[1.495s] [ext: omni.kit.loop-isaac-0.1.0] startup\n",
      "[1.496s] [ext: omni.kit.async_engine-0.0.0] startup\n",
      "[1.498s] [ext: omni.appwindow-1.0.0] startup\n",
      "[1.501s] [ext: omni.client-0.1.0] startup\n",
      "[1.522s] [ext: omni.kit.test-0.0.0] startup\n",
      "[1.524s] [ext: omni.kit.renderer.core-0.0.0] startup\n",
      "[1.613s] [ext: omni.ui-2.10.3] startup\n",
      "[1.641s] [ext: carb.audio-0.1.0] startup\n",
      "[1.662s] [ext: omni.kit.mainwindow-0.0.0] startup\n",
      "[1.665s] [ext: omni.uiaudio-1.0.0] startup\n",
      "[1.666s] [ext: omni.kit.uiapp-0.0.0] startup\n",
      "[1.666s] [ext: omni.usd.schema.physics-1.0.0] startup\n",
      "[1.726s] [ext: omni.usd.schema.audio-0.0.0] startup\n",
      "[1.735s] [ext: omni.usd.schema.semantics-0.0.0] startup\n",
      "[1.749s] [ext: omni.usd.schema.omnigraph-1.0.0] startup\n",
      "[1.760s] [ext: omni.usd.schema.anim-0.0.0] startup\n",
      "[1.809s] [ext: omni.kit.commands-1.2.2] startup\n",
      "[1.817s] [ext: omni.timeline-1.0.2] startup\n",
      "[1.820s] [ext: omni.hydra.scene_delegate-0.2.0] startup\n",
      "[1.829s] [ext: omni.kit.audiodeviceenum-1.0.0] startup\n",
      "[1.832s] [ext: omni.usd-1.5.3] startup\n",
      "[1.911s] [ext: omni.kit.asset_converter-1.2.31] startup\n",
      "[1.944s] [ext: omni.usd.schema.physx-0.0.0] startup\n",
      "[1.985s] [ext: omni.usd.schema.isaac-0.2.0] startup\n",
      "[2.045s] [ext: omni.usd.schema.forcefield-0.0.0] startup\n",
      "[2.058s] [ext: omni.kvdb-0.0.0] startup\n",
      "[2.066s] [ext: omni.usdphysics-1.4.15] startup\n",
      "[2.070s] [ext: omni.graph.tools-1.4.0] startup\n",
      "[2.154s] [ext: omni.localcache-0.0.0] startup\n",
      "[2.159s] [ext: omni.kit.stage_templates-1.1.2] startup\n",
      "[2.162s] [ext: omni.convexdecomposition-1.4.15] startup\n",
      "[2.166s] [ext: omni.physics.tensors-0.1.0] startup\n",
      "[2.176s] [ext: omni.physx-1.4.15-5.1] startup\n",
      "2022-12-15 23:50:48 [2,182ms] [Warning] [omni.kvdb.plugin] wasn't able to load the meta database, trying to repair it ...\n",
      "2022-12-15 23:50:48 [2,521ms] [Warning] [omni.kvdb.plugin] repair failed\n",
      "[2.534s] [ext: omni.graph.core-2.29.1] startup\n",
      "[2.544s] [ext: omni.kit.menu.utils-1.2.11] startup\n",
      "[2.557s] [ext: omni.physx.tensors-0.1.0] startup\n",
      "[2.563s] [ext: omni.graph-1.23.0] startup\n",
      "[2.619s] [ext: omni.kit.numpy.common-0.1.0] startup\n",
      "[2.623s] [ext: omni.kit.window.script_editor-1.6.2] startup\n",
      "[2.640s] [ext: omni.kit.search_core-1.0.2] startup\n",
      "[2.643s] [ext: omni.isaac.dynamic_control-1.1.0] startup\n",
      "[2.652s] [ext: omni.kit.renderer.capture-0.0.0] startup\n",
      "[2.657s] [ext: omni.kit.widget.filebrowser-2.2.27] startup\n",
      "[2.671s] [ext: omni.kit.widget.path_field-2.0.3] startup\n",
      "[2.674s] [ext: omni.kit.notification_manager-1.0.5] startup\n",
      "[2.678s] [ext: omni.kit.widget.versioning-1.3.8] startup\n",
      "[2.681s] [ext: omni.kit.widget.browser_bar-2.0.3] startup\n",
      "[2.685s] [ext: omni.kit.window.popup_dialog-2.0.8] startup\n",
      "[2.689s] [ext: omni.mdl.neuraylib-0.1.0] startup\n",
      "[2.694s] [ext: omni.kit.window.filepicker-2.4.30] startup\n"
     ]
    },
    {
     "name": "stderr",
     "output_type": "stream",
     "text": [
      "OmniAssetFileFormat\n"
     ]
    },
    {
     "name": "stdout",
     "output_type": "stream",
     "text": [
      "Warp initialized:\n",
      "   Version: 0.2.2\n",
      "   CUDA device: NVIDIA GeForce RTX 3090\n",
      "   Kernel cache: /home/yizhou/.cache/warp/0.2.2\n",
      "[2.763s] [ext: omni.kit.menu.create-1.0.2] startup\n",
      "[2.765s] [ext: omni.mdl-0.1.0] startup\n",
      "[2.790s] [ext: omni.kit.window.file_importer-1.0.4] startup\n",
      "[2.792s] [ext: omni.kit.window.file_exporter-1.0.4] startup\n",
      "[2.794s] [ext: omni.kit.material.library-1.3.10] startup\n",
      "[2.800s] [ext: omni.kit.window.drop_support-1.0.0] startup\n",
      "[2.802s] [ext: omni.kit.window.file-1.3.16] startup\n",
      "[2.807s] [ext: omni.kit.context_menu-1.3.9] startup\n",
      "[2.814s] [ext: omni.kit.window.property-1.6.3] startup\n",
      "[2.816s] [ext: omni.kit.window.content_browser-2.4.28] startup\n",
      "[2.828s] [ext: omni.kit.widget.stage-2.6.15] startup\n",
      "[2.834s] [ext: omni.isaac.version-1.0.0] startup\n",
      "[2.835s] [ext: omni.kit.property.usd-3.14.9] startup\n",
      "[2.873s] [ext: omni.kit.viewport.legacy_gizmos-1.0.0] startup\n",
      "[2.879s] [ext: omni.hydra.rtx-0.1.0] startup\n",
      "[2.896s] [ext: omni.renderer-rtx-0.0.0] startup\n",
      "[2.898s] [ext: omni.hydra.engine.stats-1.0.0] startup\n",
      "[2.905s] [ext: omni.debugdraw-0.1.0] startup\n",
      "[2.915s] [ext: omni.kit.widget.settings-1.0.0] startup\n",
      "[2.917s] [ext: omni.kit.window.viewport-0.0.0] startup\n",
      "[7.898s] [ext: omni.kit.widget.prompt-1.0.1] startup\n",
      "[7.900s] [ext: omni.kit.widget.graph-1.4.3] startup\n",
      "[7.910s] [ext: omni.kit.window.preferences-1.2.1] startup\n",
      "[8.005s] [ext: omni.ui_query-1.1.1] startup\n",
      "[8.008s] [ext: omni.graph.ui-1.6.1] startup\n",
      "[8.058s] [ext: omni.kit.ui_test-1.2.2] startup\n",
      "[8.064s] [ext: omni.graph.action-1.18.0] startup\n",
      "[8.093s] [ext: omni.kit.widget.searchfield-1.0.6] startup\n",
      "[8.095s] [ext: omni.kit.usd_undo-0.1.0] startup\n",
      "[8.097s] [ext: omni.graph.scriptnode-0.5.0] startup\n",
      "[8.101s] [ext: omni.physx.commands-1.4.15-5.1] startup\n",
      "[8.107s] [ext: omni.graph.nodes-1.26.0] startup\n",
      "[8.130s] [ext: omni.command.usd-1.0.1] startup\n",
      "[8.134s] [ext: omni.kit.window.extensions-1.1.0] startup\n",
      "[8.141s] [ext: omni.syntheticdata-0.2.1] startup\n",
      "[8.180s] [ext: omni.kit.primitive.mesh-1.0.0] startup\n",
      "[8.187s] [ext: omni.warp-0.2.2] startup\n",
      "[8.333s] [ext: omni.isaac.ui-0.2.1] startup\n",
      "[8.336s] [ext: omni.replicator.core-1.4.3] startup\n",
      "[8.585s] [ext: omni.isaac.core-1.24.3] startup\n",
      "[8.699s] [ext: omni.physx.ui-1.4.15-5.1] startup\n",
      "[8.784s] [ext: omni.kit.property.material-1.8.5] startup\n",
      "[8.788s] [ext: omni.kit.window.toolbar-1.2.4] startup\n",
      "[8.797s] [ext: omni.isaac.core_nodes-0.13.0] startup\n",
      "[8.814s] [ext: omni.physx.demos-1.4.15-5.1] startup\n",
      "[8.817s] [ext: omni.kit.property.physx-0.1.0] startup\n",
      "2022-12-15 23:50:54 [8,878ms] [Warning] [omni.physx.plugin] Deprecated: getSimulationEventStream is deprecated, please use getSimulationEventStreamV2\n",
      "[8.895s] [ext: omni.physx.tests-1.4.15-5.1] startup\n",
      "[9.208s] [ext: omni.isaac.wheeled_robots-0.5.8] startup\n",
      "[9.225s] [ext: omni.kit.menu.common-1.0.0] startup\n",
      "[9.227s] [ext: omni.physx.vehicle-1.4.15-5.1] startup\n",
      "[9.241s] [ext: omni.physx.cct-1.4.15-5.1] startup\n",
      "[9.316s] [ext: omni.physx.camera-1.4.15-5.1] startup\n",
      "[9.327s] [ext: omni.kit.widget.stage_icons-1.0.2] startup\n",
      "[9.330s] [ext: omni.ui.scene-1.5.0] startup\n",
      "[9.337s] [ext: omni.physx.bundle-1.4.15-5.1] startup\n",
      "[9.337s] [ext: omni.kit.window.stage-2.3.7] startup\n",
      "[9.342s] [ext: omni.replicator.composer-1.1.3] startup\n",
      "[9.361s] [ext: omni.isaac.lula-1.1.0] startup\n",
      "[9.377s] [ext: omni.rtx.window.settings-0.6.1] startup\n",
      "[9.385s] [ext: omni.isaac.surface_gripper-0.1.2] startup\n",
      "[9.392s] [ext: omni.isaac.motion_planning-0.2.0] startup\n",
      "[9.403s] [ext: omni.rtx.settings.core-0.5.5] startup\n",
      "[9.409s] [ext: omni.isaac.manipulators-1.0.1] startup\n",
      "[9.412s] [ext: omni.isaac.motion_generation-3.6.1] startup\n",
      "[9.419s] [ext: omni.kit.widget.zoombar-1.0.3] startup\n",
      "[9.421s] [ext: omni.kit.graph.delegate.default-1.0.15] startup\n",
      "[9.424s] [ext: omni.isaac.franka-0.3.0] startup\n",
      "[9.426s] [ext: omni.kit.browser.core-2.0.12] startup\n",
      "[9.432s] [ext: omni.kit.graph.editor.core-1.3.3] startup\n",
      "[9.436s] [ext: omni.kit.graph.usd.commands-1.1.0] startup\n",
      "[9.438s] [ext: omni.kit.browser.folder.core-1.1.13] startup\n",
      "[9.442s] [ext: omni.kit.graph.widget.variables-2.0.2] startup\n",
      "[9.444s] [ext: omni.kit.graph.delegate.modern-1.6.0] startup\n",
      "[9.446s] [ext: omni.kit.selection-0.1.0] startup\n",
      "[9.448s] [ext: omni.isaac.debug_draw-0.Opening usd file at  omniverse://localhost/Users/yizhou/uva_sac.usd  ...Done.\n",
      "Saving a temp livesync stage at  omniverse://localhost/Users/yizhou/uva_sac.usd  ...Done.\n"
     ]
    }
   ],
   "source": [
    "from omni.isaac.kit import SimulationApp    \n",
    "simulation_app = SimulationApp({\"headless\": True, \"open_usd\": usd_path,  \"livesync_usd\": usd_path}) "
   ]
  },
  {
   "cell_type": "code",
   "execution_count": 6,
   "id": "9a6fd193",
   "metadata": {},
   "outputs": [],
   "source": [
    "from uva_env import UvaEnv\n",
    "env = UvaEnv()"
   ]
  },
  {
   "cell_type": "code",
   "execution_count": 7,
   "id": "d3e665fe",
   "metadata": {},
   "outputs": [],
   "source": [
    "from task.utils import add_scene_default\n",
    "add_scene_default()"
   ]
  },
  {
   "cell_type": "code",
   "execution_count": 8,
   "id": "4c55eb32",
   "metadata": {},
   "outputs": [
    {
     "name": "stdout",
     "output_type": "stream",
     "text": [
      "[Usd.Prim(</physicsScene>), Usd.Prim(</World>), Usd.Prim(</World/defaultLight>), Usd.Prim(</World/groundPlane>), Usd.Prim(</World/groundPlane/CollisionMesh>), Usd.Prim(</World/groundPlane/CollisionPlane>), Usd.Prim(</World/layout>), Usd.Prim(</World/layout/structure>), Usd.Prim(</World/layout/structure/WallTop_2>), Usd.Prim(</World/layout/structure/WallBottom_3>), Usd.Prim(</World/layout/structure/WallInner_4>), Usd.Prim(</World/layout/structure/WallOuter_5>), Usd.Prim(</World/layout/structure/Baseboard_6>), Usd.Prim(</World/layout/structure/Baseboard_7>), Usd.Prim(</World/layout/structure/WallTop_8>), Usd.Prim(</World/layout/structure/WallBottom_9>), Usd.Prim(</World/layout/structure/WallInner_10>), Usd.Prim(</World/layout/structure/WallOuter_11>), Usd.Prim(</World/layout/structure/Baseboard_12>), Usd.Prim(</World/layout/structure/Baseboard_13>), Usd.Prim(</World/layout/structure/WallInner_14>), Usd.Prim(</World/layout/structure/Baseboard_15>), Usd.Prim(</World/layout/structure/Baseboard_16>), Usd.Prim(</World/layout/structure/WallInner_17>), Usd.Prim(</World/layout/structure/Baseboard_18>), Usd.Prim(</World/layout/structure/Baseboard_19>), Usd.Prim(</World/layout/structure/WallInner_20>), Usd.Prim(</World/layout/structure/Baseboard_21>), Usd.Prim(</World/layout/structure/Baseboard_22>), Usd.Prim(</World/layout/structure/WallTop_25>), Usd.Prim(</World/layout/structure/WallBottom_26>), Usd.Prim(</World/layout/structure/WallInner_27>), Usd.Prim(</World/layout/structure/WallTop_28>), Usd.Prim(</World/layout/structure/WallBottom_29>), Usd.Prim(</World/layout/structure/WallInner_30>), Usd.Prim(</World/layout/structure/WallOuter_31>), Usd.Prim(</World/layout/structure/WallInner_32>), Usd.Prim(</World/layout/structure/WallInner_33>), Usd.Prim(</World/layout/structure/WallInner_34>), Usd.Prim(</World/layout/structure/WallInner_35>), Usd.Prim(</World/layout/structure/WallTop_38>), Usd.Prim(</World/layout/structure/WallBottom_39>), Usd.Prim(</World/layout/structure/WallInner_40>), Usd.Prim(</World/layout/structure/WallOuter_41>), Usd.Prim(</World/layout/structure/Baseboard_42>), Usd.Prim(</World/layout/structure/Baseboard_43>), Usd.Prim(</World/layout/structure/WallTop_44>), Usd.Prim(</World/layout/structure/WallBottom_45>), Usd.Prim(</World/layout/structure/WallInner_46>), Usd.Prim(</World/layout/structure/WallOuter_47>), Usd.Prim(</World/layout/structure/Baseboard_48>), Usd.Prim(</World/layout/structure/Baseboard_49>), Usd.Prim(</World/layout/structure/WallTop_50>), Usd.Prim(</World/layout/structure/WallBottom_51>), Usd.Prim(</World/layout/structure/WallInner_52>), Usd.Prim(</World/layout/structure/Baseboard_53>), Usd.Prim(</World/layout/structure/Baseboard_54>), Usd.Prim(</World/layout/structure/WallTop_55>), Usd.Prim(</World/layout/structure/WallBottom_56>), Usd.Prim(</World/layout/structure/WallInner_57>), Usd.Prim(</World/layout/structure/Baseboard_58>), Usd.Prim(</World/layout/structure/Baseboard_59>), Usd.Prim(</World/layout/structure/WallTop_62>), Usd.Prim(</World/layout/structure/WallBottom_63>), Usd.Prim(</World/layout/structure/WallInner_64>), Usd.Prim(</World/layout/structure/WallOuter_65>), Usd.Prim(</World/layout/structure/Baseboard_66>), Usd.Prim(</World/layout/structure/Baseboard_67>), Usd.Prim(</World/layout/structure/WallTop_68>), Usd.Prim(</World/layout/structure/WallBottom_69>), Usd.Prim(</World/layout/structure/WallInner_70>), Usd.Prim(</World/layout/structure/WallOuter_71>), Usd.Prim(</World/layout/structure/Baseboard_72>), Usd.Prim(</World/layout/structure/Baseboard_73>), Usd.Prim(</World/layout/structure/WallTop_74>), Usd.Prim(</World/layout/structure/WallBottom_75>), Usd.Prim(</World/layout/structure/WallInner_76>), Usd.Prim(</World/layout/structure/Baseboard_77>), Usd.Prim(</World/layout/structure/Baseboard_78>), Usd.Prim(</World/layout/structure/WallInner_79>), Usd.Prim(</World/layout/structure/Baseboard_80>), Usd.Prim(</World/layout/structure/Baseboard_81>), Usd.Prim(</World/layout/structure/WallInner_82>), Usd.Prim(</World/layout/structure/Baseboard_83>), Usd.Prim(</World/layout/structure/Baseboard_84>), Usd.Prim(</World/layout/structure/WallInner_85>), Usd.Prim(</World/layout/structure/Baseboard_86>), Usd.Prim(</World/layout/structure/Baseboard_87>), Usd.Prim(</World/layout/structure/WallTop_90>), Usd.Prim(</World/layout/structure/WallBottom_91>), Usd.Prim(</World/layout/structure/WallInner_92>), Usd.Prim(</World/layout/structure/Baseboard_93>), Usd.Prim(</World/layout/structure/Baseboard_94>), Usd.Prim(</World/layout/structure/Cornice_95>), Usd.Prim(</World/layout/structure/Cornice_96>), Usd.Prim(</World/layout/structure/WallTop_97>), Usd.Prim(</World/layout/structure/WallBottom_98>), Usd.Prim(</World/layout/structure/WallInner_99>), Usd.Prim(</World/layout/structure/Baseboard_100>), Usd.Prim(</World/layout/structure/Baseboard_101>), Usd.Prim(</World/layout/structure/Cornice_102>), Usd.Prim(</World/layout/structure/Cornice_103>), Usd.Prim(</World/layout/structure/WallTop_104>), Usd.Prim(</World/layout/structure/WallBottom_105>), Usd.Prim(</World/layout/structure/WallInner_106>), Usd.Prim(</World/layout/structure/Baseboard_107>), Usd.Prim(</World/layout/structure/Baseboard_108>), Usd.Prim(</World/layout/structure/Cornice_109>), Usd.Prim(</World/layout/structure/Cornice_110>), Usd.Prim(</World/layout/structure/WallInner_111>), Usd.Prim(</World/layout/structure/Baseboard_112>), Usd.Prim(</World/layout/structure/Baseboard_113>), Usd.Prim(</World/layout/structure/Cornice_114>), Usd.Prim(</World/layout/structure/Cornice_115>), Usd.Prim(</World/layout/structure/WallTop_118>), Usd.Prim(</World/layout/structure/WallBottom_119>), Usd.Prim(</World/layout/structure/WallInner_120>), Usd.Prim(</World/layout/structure/WallTop_121>), Usd.Prim(</World/layout/structure/WallBottom_122>), Usd.Prim(</World/layout/structure/WallInner_123>), Usd.Prim(</World/layout/structure/WallOuter_124>), Usd.Prim(</World/layout/structure/WallTop_125>), Usd.Prim(</World/layout/structure/WallBottom_126>), Usd.Prim(</World/layout/structure/WallInner_127>), Usd.Prim(</World/layout/structure/WallOuter_128>), Usd.Prim(</World/layout/structure/WallInner_129>), Usd.Prim(</World/layout/structure/WallInner_130>), Usd.Prim(</World/layout/structure/WallTop_133>), Usd.Prim(</World/layout/structure/WallBottom_134>), Usd.Prim(</World/layout/structure/WallInner_135>), Usd.Prim(</World/layout/structure/Baseboard_136>), Usd.Prim(</World/layout/structure/Baseboard_137>), Usd.Prim(</World/layout/structure/WallTop_138>), Usd.Prim(</World/layout/structure/WallBottom_139>), Usd.Prim(</World/layout/structure/WallInner_140>), Usd.Prim(</World/layout/structure/Baseboard_141>), Usd.Prim(</World/layout/structure/Baseboard_142>), Usd.Prim(</World/layout/structure/WallTop_143>), Usd.Prim(</World/layout/structure/WallBottom_144>), Usd.Prim(</World/layout/structure/WallInner_145>), Usd.Prim(</World/layout/structure/Baseboard_146>), Usd.Prim(</World/layout/structure/Baseboard_147>), Usd.Prim(</World/layout/structure/WallTop_148>), Usd.Prim(</World/layout/structure/WallBottom_149>), Usd.Prim(</World/layout/structure/WallInner_150>), Usd.Prim(</World/layout/structure/Baseboard_151>), Usd.Prim(</World/layout/structure/Baseboard_152>), Usd.Prim(</World/layout/structure/WallTop_153>), Usd.Prim(</World/layout/structure/WallBottom_154>), Usd.Prim(</World/layout/structure/WallInner_155>), Usd.Prim(</World/layout/structure/WallOuter_156>), Usd.Prim(</World/layout/structure/Baseboard_157>), Usd.Prim(</World/layout/structure/Baseboard_158>), Usd.Prim(</World/layout/structure/WallTop_159>), Usd.Prim(</World/layout/structure/WallBottom_160>), Usd.Prim(</World/layout/structure/WallInner_161>), Usd.Prim(</World/layout/structure/WallOuter_162>), Usd.Prim(</World/layout/structure/Baseboard_163>), Usd.Prim(</World/layout/structure/Baseboard_164>), Usd.Prim(</World/layout/structure/WallTop_165>), Usd.Prim(</World/layout/structure/WallBottom_166>), Usd.Prim(</World/layout/structure/WallInner_167>), Usd.Prim(</World/layout/structure/WallOuter_168>), Usd.Prim(</World/layout/structure/Baseboard_169>), Usd.Prim(</World/layout/structure/Baseboard_170>), Usd.Prim(</World/layout/structure/WallTop_171>), Usd.Prim(</World/layout/structure/WallBottom_172>), Usd.Prim(</World/layout/structure/WallInner_173>), Usd.Prim(</World/layout/structure/WallOuter_174>), Usd.Prim(</World/layout/structure/Baseboard_175>), Usd.Prim(</World/layout/structure/Baseboard_176>), Usd.Prim(</World/layout/structure/WallInner_177>), Usd.Prim(</World/layout/structure/Baseboard_178>), Usd.Prim(</World/layout/structure/Baseboard_179>), Usd.Prim(</World/layout/structure/WallTop_182>), Usd.Prim(</World/layout/structure/WallBottom_183>), Usd.Prim(</World/layout/structure/WallInner_184>), Usd.Prim(</World/layout/structure/WallOuter_185>), Usd.Prim(</World/layout/structure/Baseboard_186>), Usd.Prim(</World/layout/structure/Baseboard_187>), Usd.Prim(</World/layout/structure/WallTop_188>), Usd.Prim(</World/layout/structure/WallBottom_189>), Usd.Prim(</World/layout/structure/WallInner_190>), Usd.Prim(</World/layout/structure/Baseboard_191>), Usd.Prim(</World/layout/structure/Baseboard_192>), Usd.Prim(</World/layout/structure/WallTop_193>), Usd.Prim(</World/layout/structure/WallBottom_194>), Usd.Prim(</World/layout/structure/WallInner_195>), Usd.Prim(</World/layout/structure/Baseboard_196>), Usd.Prim(</World/layout/structure/Baseboard_197>), Usd.Prim(</World/layout/structure/WallTop_198>), Usd.Prim(</World/layout/structure/WallBottom_199>), Usd.Prim(</World/layout/structure/WallInner_200>), Usd.Prim(</World/layout/structure/WallOuter_201>), Usd.Prim(</World/layout/structure/Baseboard_202>), Usd.Prim(</World/layout/structure/Baseboard_203>), Usd.Prim(</World/layout/structure/WallTop_204>), Usd.Prim(</World/layout/structure/WallBottom_205>), Usd.Prim(</World/layout/structure/WallInner_206>), Usd.Prim(</World/layout/structure/WallOuter_207>), Usd.Prim(</World/layout/structure/Baseboard_208>), Usd.Prim(</World/layout/structure/Baseboard_209>), Usd.Prim(</World/layout/structure/Hole_210>), Usd.Prim(</World/layout/structure/Hole_211>), Usd.Prim(</World/layout/structure/Pocket_212>), Usd.Prim(</World/layout/structure/Pocket_213>), Usd.Prim(</World/layout/structure/Hole_214>), Usd.Prim(</World/layout/structure/Hole_215>), Usd.Prim(</World/layout/structure/Pocket_216>), Usd.Prim(</World/layout/structure/Pocket_217>), Usd.Prim(</World/layout/structure/Pocket_219>), Usd.Prim(</World/layout/structure/Pocket_220>), Usd.Prim(</World/layout/structure/CustomizedPersonalizedModel_222>), Usd.Prim(</World/layout/structure/Hole_223>), Usd.Prim(</World/layout/structure/Hole_224>), Usd.Prim(</World/layout/structure/Pocket_225>), Usd.Prim(</World/layout/structure/Pocket_226>), Usd.Prim(</World/layout/structure/Pocket_228>), Usd.Prim(</World/layout/structure/Pocket_229>), Usd.Prim(</World/layout/structure/Cabinet_230>), Usd.Prim(</World/layout/structure/Cabinet_231>), Usd.Prim(</World/layout/structure/Cabinet_232>), Usd.Prim(</World/layout/structure/Cabinet_233>), Usd.Prim(</World/layout/structure/Cabinet_234>), Usd.Prim(</World/layout/structure/Cabinet_235>), Usd.Prim(</World/layout/structure/Cabinet_236>), Usd.Prim(</World/layout/structure/Cabinet_237>), Usd.Prim(</World/layout/structure/CustomizedFeatureWall_238>), Usd.Prim(</World/layout/structure/CustomizedFeatureWall_239>), Usd.Prim(</World/layout/structure/Door_240>), Usd.Prim(</World/layout/structure/Door_241>), Usd.Prim(</World/layout/structure/Pocket_242>), Usd.Prim(</World/layout/structure/Pocket_243>), Usd.Prim(</World/layout/structure/Door_244>), Usd.Prim(</World/layout/structure/Door_245>), Usd.Prim(</World/layout/structure/Pocket_246>), Usd.Prim(</World/layout/structure/Pocket_247>), Usd.Prim(</World/layout/structure/Door_248>), Usd.Prim(</World/layout/structure/Door_249>), Usd.Prim(</World/layout/structure/Pocket_250>), Usd.Prim(</World/layout/structure/Pocket_251>), Usd.Prim(</World/layout/structure/Door_252>), Usd.Prim(</World/layout/structure/Door_253>), Usd.Prim(</World/layout/structure/Pocket_254>), Usd.Prim(</World/layout/structure/Pocket_255>), Usd.Prim(</World/layout/structure/Door_256>), Usd.Prim(</World/layout/structure/Door_257>), Usd.Prim(</World/layout/structure/Pocket_258>), Usd.Prim(</World/layout/structure/Pocket_259>), Usd.Prim(</World/layout/structure/Cabinet_264>), Usd.Prim(</World/layout/structure/Cabinet_265>), Usd.Prim(</World/layout/structure/Cabinet_266>), Usd.Prim(</World/layout/structure/Cabinet_267>), Usd.Prim(</World/layout/structure/Cabinet_268>), Usd.Prim(</World/layout/structure/Cabinet_269>), Usd.Prim(</World/layout/structure/Cabinet_270>), Usd.Prim(</World/layout/structure/Cabinet_271>), Usd.Prim(</World/layout/structure/Cabinet_272>), Usd.Prim(</World/layout/structure/Cabinet_273>), Usd.Prim(</World/layout/structure/Cabinet_274>), Usd.Prim(</World/layout/structure/Cabinet_275>), Usd.Prim(</World/layout/structure/Cabinet_276>), Usd.Prim(</World/layout/ceilings>), Usd.Prim(</World/layout/ceilings/Ceiling_1>), Usd.Prim(</World/layout/ceilings/Ceiling_24>), Usd.Prim(</World/layout/ceilings/Ceiling_37>), Usd.Prim(</World/layout/ceilings/Ceiling_61>), Usd.Prim(</World/layout/ceilings/Ceiling_89>), Usd.Prim(</World/layout/ceilings/Ceiling_117>), Usd.Prim(</World/layout/ceilings/Ceiling_132>), Usd.Prim(</World/layout/ceilings/Ceiling_181>), Usd.Prim(</World/layout/ceilings/CustomizedCeiling_260>), Usd.Prim(</World/layout/ceilings/CustomizedCeiling_261>), Usd.Prim(</World/layout/ceilings/CustomizedCeiling_262>), Usd.Prim(</World/layout/ceilings/CustomizedCeiling_263>), Usd.Prim(</World/layout/floors>), Usd.Prim(</World/layout/floors/Floor_0>), Usd.Prim(</World/layout/floors/Floor_23>), Usd.Prim(</World/layout/floors/Floor_36>), Usd.Prim(</World/layout/floors/Floor_60>), Usd.Prim(</World/layout/floors/Floor_88>), Usd.Prim(</World/layout/floors/Floor_116>), Usd.Prim(</World/layout/floors/Floor_131>), Usd.Prim(</World/layout/floors/Floor_180>), Usd.Prim(</World/layout/windows>), Usd.Prim(</World/layout/windows/Window_218>), Usd.Prim(</World/layout/windows/Window_221>), Usd.Prim(</World/layout/windows/Window_227>), Usd.Prim(</World/layout/lights>), Usd.Prim(</World/layout/lights/light_159108759133714688>), Usd.Prim(</World/layout/lights/light_159108759134025600>), Usd.Prim(</World/layout/lights/light_159108759134222400>), Usd.Prim(</World/layout/lights/light_159108759135431904>), Usd.Prim(</World/layout/lights/light_159108759135459296>), Usd.Prim(</World/layout/lights/light_159108759135592384>), Usd.Prim(</World/layout/Camera_Bookshelf_Border_0>), Usd.Prim(</World/layout/Camera_Bookshelf_Border_0/OmniverseKitViewportCameraMesh>), Usd.Prim(</World/layout/Camera_Bookshelf_Border_0/OmniverseKitViewportCameraMesh/CameraModel>), Usd.Prim(</World/layout/Camera_Table_Border_0>), Usd.Prim(</World/layout/Camera_Table_Border_0/OmniverseKitViewportCameraMesh>), Usd.Prim(</World/layout/Camera_Table_Border_0/OmniverseKitViewportCameraMesh/CameraModel>), Usd.Prim(</World/layout/Camera_Bookshelf_Corner_0>), Usd.Prim(</World/layout/Camera_Bookshelf_Corner_0/OmniverseKitViewportCameraMesh>), Usd.Prim(</World/layout/Camera_Bookshelf_Corner_0/OmniverseKitViewportCameraMesh/CameraModel>), Usd.Prim(</World/layout/Camera_Table_Corner_0>), Usd.Prim(</World/layout/Camera_Table_Corner_0/OmniverseKitViewportCameraMesh>), Usd.Prim(</World/layout/Camera_Table_Corner_0/OmniverseKitViewportCameraMesh/CameraModel>), Usd.Prim(</World/layout/Camera_Table_Center_0>), Usd.Prim(</World/layout/Camera_Table_Center_0/OmniverseKitViewportCameraMesh>), Usd.Prim(</World/layout/Camera_Table_Center_0/OmniverseKitViewportCameraMesh/CameraModel>), Usd.Prim(</World/physicsScene>), Usd.Prim(</World/base>), Usd.Prim(</World/base/Apperson_CoffeeTable_Top>), Usd.Prim(</World/base/Apperson_CoffeeTable_Leg>), Usd.Prim(</World/base/Looks>), Usd.Prim(</World/base/Looks/Legs>), Usd.Prim(</World/base/Looks/Legs/Shader>), Usd.Prim(</World/base/Looks/Tabletop>), Usd.Prim(</World/base/Looks/Tabletop/Shader>), Usd.Prim(</World/render>), Usd.Prim(</World/render/camera_main>), Usd.Prim(</World/render/camera_main/OmniverseKitViewportCameraMesh>), Usd.Prim(</World/render/camera_main/OmniverseKitViewportCameraMesh/CameraModel>), Usd.Prim(</World/objects>), Usd.Prim(</OmniverseKit_Persp>), Usd.Prim(</OmniverseKit_Front>), Usd.Prim(</OmniverseKit_Top>), Usd.Prim(</OmniverseKit_Right>), Usd.Prim(</Render>), Usd.Prim(</Render/RenderProduct_Viewport>), Usd.Prim(</Render/Vars>), Usd.Prim(</Render/Vars/LdrColor>)]\n"
     ]
    }
   ],
   "source": [
    "print(list(env.stage.TraverseAll()))"
   ]
  },
  {
   "cell_type": "code",
   "execution_count": 9,
   "id": "feaeb7d0",
   "metadata": {},
   "outputs": [],
   "source": [
    "env.clean()\n",
    "env.world.step(render=True)"
   ]
  },
  {
   "cell_type": "markdown",
   "id": "be34671d",
   "metadata": {},
   "source": [
    "# Config"
   ]
  },
  {
   "cell_type": "code",
   "execution_count": 10,
   "id": "491f4078",
   "metadata": {},
   "outputs": [],
   "source": [
    "from task.config import DATA_PATH\n",
    "task_type = \"Table\"\n",
    "side_choice = \"Border\"\n",
    "asset_id = 0\n",
    "load_nucleus = True\n",
    "\n",
    "traj_id = 0\n",
    "image_folder = os.path.join(DATA_PATH, task_type, side_choice, str(traj_id))"
   ]
  },
  {
   "cell_type": "markdown",
   "id": "d3c365e3",
   "metadata": {},
   "source": [
    "# Scene"
   ]
  },
  {
   "cell_type": "code",
   "execution_count": 11,
   "id": "19d7b119",
   "metadata": {},
   "outputs": [],
   "source": [
    "from task.scene import ArrangeScene\n",
    "scene = ArrangeScene(task_type, side_choice, asset_id, \"/World/base\", traj_id, load_nucleus)\n",
    "env.scene = scene"
   ]
  },
  {
   "cell_type": "code",
   "execution_count": 12,
   "id": "8def185e",
   "metadata": {},
   "outputs": [
    {
     "name": "stdout",
     "output_type": "stream",
     "text": [
      "asset_prim: omniverse://localhost/Users/yizhou/Asset/T/Appleseed/Appleseed_CoffeeTable.usd\n"
     ]
    }
   ],
   "source": [
    "# base\n",
    "scene.add_base_asset()"
   ]
  },
  {
   "cell_type": "code",
   "execution_count": 13,
   "id": "a7e1de8b",
   "metadata": {},
   "outputs": [],
   "source": [
    "# add room\n",
    "# scene.add_room()"
   ]
  },
  {
   "cell_type": "code",
   "execution_count": 14,
   "id": "99481529",
   "metadata": {},
   "outputs": [],
   "source": [
    "env.world.step(render=True)"
   ]
  },
  {
   "cell_type": "markdown",
   "id": "bfd24034",
   "metadata": {},
   "source": [
    "# Reward"
   ]
  },
  {
   "cell_type": "code",
   "execution_count": 15,
   "id": "b81a65bf",
   "metadata": {},
   "outputs": [],
   "source": [
    "from uv.reward import Rewarder"
   ]
  },
  {
   "cell_type": "code",
   "execution_count": 16,
   "id": "35761844",
   "metadata": {},
   "outputs": [],
   "source": [
    "rewarder = Rewarder(env.world)\n",
    "env.rewarder = rewarder"
   ]
  },
  {
   "cell_type": "markdown",
   "id": "27c8bada",
   "metadata": {},
   "source": [
    "# Render"
   ]
  },
  {
   "cell_type": "code",
   "execution_count": 17,
   "id": "fba7340e",
   "metadata": {},
   "outputs": [
    {
     "name": "stdout",
     "output_type": "stream",
     "text": [
      "xform_mat:  ( (-1, 0, 0, 0), (0, -1, 0, 0), (0, 0, 1, 0), (0, 56, 200, 1) )\n"
     ]
    }
   ],
   "source": [
    "from render.helper import RenderHelper\n",
    "render = RenderHelper(task_type, side_choice)\n",
    "\n",
    "render.add_task_cameras()\n",
    "render.set_cameras()"
   ]
  },
  {
   "cell_type": "code",
   "execution_count": 18,
   "id": "5b63e8b4",
   "metadata": {},
   "outputs": [],
   "source": [
    "# get images\n",
    "env.world.render()\n",
    "env.world.render()\n",
    "images = render.get_images()\n",
    "render.save_rgb(images[0]['rgb'], image_folder, \"0\")"
   ]
  },
  {
   "cell_type": "code",
   "execution_count": 19,
   "id": "c2e2f6e5",
   "metadata": {},
   "outputs": [
    {
     "ename": "NameError",
     "evalue": "name 'pause' is not defined",
     "output_type": "error",
     "traceback": [
      "\u001b[0;31m---------------------------------------------------------------------------\u001b[0m",
      "\u001b[0;31mNameError\u001b[0m                                 Traceback (most recent call last)",
      "\u001b[0;32m/tmp/ipykernel_30573/1188747208.py\u001b[0m in \u001b[0;36m<module>\u001b[0;34m\u001b[0m\n\u001b[0;32m----> 1\u001b[0;31m \u001b[0mpause\u001b[0m\u001b[0;34m\u001b[0m\u001b[0;34m\u001b[0m\u001b[0m\n\u001b[0m",
      "\u001b[0;31mNameError\u001b[0m: name 'pause' is not defined"
     ]
    }
   ],
   "source": [
    "pause"
   ]
  },
  {
   "cell_type": "markdown",
   "id": "a93eef8c",
   "metadata": {},
   "source": [
    "# Trajectory"
   ]
  },
  {
   "cell_type": "code",
   "execution_count": null,
   "id": "0452fac1",
   "metadata": {},
   "outputs": [],
   "source": [
    "step = 1"
   ]
  },
  {
   "cell_type": "code",
   "execution_count": null,
   "id": "8d988937",
   "metadata": {},
   "outputs": [],
   "source": [
    "env.add_scene_obj(mode = \"random\")"
   ]
  },
  {
   "cell_type": "code",
   "execution_count": null,
   "id": "16aec7dc",
   "metadata": {},
   "outputs": [],
   "source": [
    "x, y = np.tanh(np.random.randn()), np.tanh(np.random.randn())\n",
    "\n",
    "env.put_last_object((x, y)) \n",
    "env.world.step(render=True)"
   ]
  },
  {
   "cell_type": "code",
   "execution_count": null,
   "id": "8e841a84",
   "metadata": {},
   "outputs": [],
   "source": [
    "env.register_last_object()\n",
    "env.world.step(render=True)"
   ]
  },
  {
   "cell_type": "code",
   "execution_count": null,
   "id": "e04fba50",
   "metadata": {
    "scrolled": true
   },
   "outputs": [],
   "source": [
    "# env.scene.objects"
   ]
  },
  {
   "cell_type": "code",
   "execution_count": null,
   "id": "b98f2bdb",
   "metadata": {
    "scrolled": true
   },
   "outputs": [],
   "source": [
    "env.calculate_last_reward()"
   ]
  },
  {
   "cell_type": "code",
   "execution_count": null,
   "id": "cb5319d1",
   "metadata": {},
   "outputs": [],
   "source": [
    "env.world.reset()\n",
    "env.world.render()"
   ]
  },
  {
   "cell_type": "code",
   "execution_count": null,
   "id": "84df260d",
   "metadata": {},
   "outputs": [],
   "source": [
    "# Record\n",
    "\n",
    "record = env.scene.get_scene_data()\n",
    "env.scene.save_scene_data()\n",
    "print(\"record: \", record)\n",
    "\n",
    "# get images\n",
    "env.world.render()\n",
    "env.world.render()\n",
    "images = render.get_images()\n",
    "render.save_rgb(images[0]['rgb'], image_folder, str(step))"
   ]
  },
  {
   "cell_type": "markdown",
   "id": "01e71b14",
   "metadata": {},
   "source": [
    "# Reset (env clean)"
   ]
  },
  {
   "cell_type": "code",
   "execution_count": null,
   "id": "059bb84c",
   "metadata": {},
   "outputs": [],
   "source": [
    "env.scene.objects"
   ]
  },
  {
   "cell_type": "code",
   "execution_count": null,
   "id": "ecca875f",
   "metadata": {},
   "outputs": [],
   "source": [
    "env.clean()"
   ]
  },
  {
   "cell_type": "code",
   "execution_count": null,
   "id": "046d70ca",
   "metadata": {},
   "outputs": [],
   "source": [
    "env.step(render = True)"
   ]
  },
  {
   "cell_type": "code",
   "execution_count": null,
   "id": "b9429c2e",
   "metadata": {},
   "outputs": [],
   "source": [
    "image_folder"
   ]
  },
  {
   "cell_type": "code",
   "execution_count": null,
   "id": "4d0cac85",
   "metadata": {},
   "outputs": [],
   "source": []
  }
 ],
 "metadata": {
  "kernelspec": {
   "display_name": "Isaac Sim Python 3",
   "language": "python",
   "name": "isaac_sim_python3"
  },
  "language_info": {
   "codemirror_mode": {
    "name": "ipython",
    "version": 3
   },
   "file_extension": ".py",
   "mimetype": "text/x-python",
   "name": "python",
   "nbconvert_exporter": "python",
   "pygments_lexer": "ipython3",
   "version": "3.7.13"
  }
 },
 "nbformat": 4,
 "nbformat_minor": 5
}
