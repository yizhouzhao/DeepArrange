{
 "cells": [
  {
   "cell_type": "markdown",
   "id": "a4e7074e",
   "metadata": {},
   "source": [
    "# Start Simulation"
   ]
  },
  {
   "cell_type": "code",
   "execution_count": 1,
   "id": "3fe18b05",
   "metadata": {},
   "outputs": [],
   "source": [
    "import random\n",
    "import numpy as np\n",
    "import os\n",
    "import time\n",
    "from PIL import Image\n",
    "\n",
    "import torch\n",
    "torch.__version__\n",
    "device = torch.device(\"cuda\")"
   ]
  },
  {
   "cell_type": "code",
   "execution_count": 2,
   "id": "0137c535",
   "metadata": {},
   "outputs": [
    {
     "name": "stdout",
     "output_type": "stream",
     "text": [
      "yizhou\n"
     ]
    }
   ],
   "source": [
    "import getpass\n",
    "user = getpass.getuser()\n",
    "print(user)"
   ]
  },
  {
   "cell_type": "code",
   "execution_count": 3,
   "id": "b9d56ea3",
   "metadata": {},
   "outputs": [],
   "source": [
    "usd_path = f\"omniverse://localhost/Users/{user}/uva_sac.usd\""
   ]
  },
  {
   "cell_type": "code",
   "execution_count": 4,
   "id": "d7e8d7fe",
   "metadata": {
    "scrolled": true
   },
   "outputs": [
    {
     "name": "stdout",
     "output_type": "stream",
     "text": [
      "Starting kit application with the fillowing args:  ['/home/yizhou/.local/share/ov/pkg/isaac_sim-2022.1.1/exts/omni.isaac.kit/omni/isaac/kit/simulation_app.py', '/home/yizhou/.local/share/ov/pkg/isaac_sim-2022.1.1/apps/omni.isaac.sim.python.kit', '--/app/tokens/exe-path=/home/yizhou/.local/share/ov/pkg/isaac_sim-2022.1.1/kit', '--/persistent/app/viewport/displayOptions=3094', '--/rtx/materialDb/syncLoads=True', '--/rtx/hydra/materialSyncLoads=True--/omni.kit.plugin/syncUsdLoads=True', '--/app/renderer/resolution/width=1280', '--/app/renderer/resolution/height=720', '--/app/window/width=1440', '--/app/window/height=900', '--/renderer/multiGpu/enabled=True', '--ext-folder', '/home/yizhou/.local/share/ov/pkg/isaac_sim-2022.1.1/exts', '--ext-folder', '/home/yizhou/.local/share/ov/pkg/isaac_sim-2022.1.1/apps', '--/physics/cudaDevice=0', '--portable', '--no-window']\n",
      "Passing the following args to the base kit application:  ['-f', '/home/yizhou/.local/share/jupyter/runtime/kernel-2fed25f9-a2d9-490a-aed1-cdc2ef51b80f.json']\n",
      "[Warning] [omni.kit.app.plugin] No crash reporter present, dumps uploading isn't available.\n",
      "[Info] [carb] Logging to file: /home/yizhou/.local/share/ov/pkg/isaac_sim-2022.1.1/kit/logs/Kit/Isaac-Sim/2022.1/kit_20221224_112956.log\n",
      "2022-12-24 19:29:56 [4ms] [Warning] [omni.ext.plugin] [ext: omni.drivesim.sensors.nv.lidar] Extensions config 'extension.toml' doesn't exist '/home/yizhou/.local/share/ov/pkg/isaac_sim-2022.1.1/exts/omni.drivesim.sensors.nv.lidar' or '/home/yizhou/.local/share/ov/pkg/isaac_sim-2022.1.1/exts/omni.drivesim.sensors.nv.lidar/config'\n",
      "[0.087s] [ext: omni.stats-0.0.0] startup\n",
      "[0.131s] [ext: omni.gpu_foundation-0.0.0] startup\n",
      "2022-12-24 19:29:56 [130ms] [Warning] [carb] FrameworkImpl::setDefaultPlugin(client: omni.gpu_foundation_factory.plugin, desc : [carb::graphics::Graphics v2.5], plugin : carb.graphics-vulkan.plugin) failed. Plugin selection is locked, because the interface was previously acquired by: \n",
      "[0.139s] [ext: carb.windowing.plugins-1.0.0] startup\n",
      "[0.149s] [ext: omni.assets.plugins-0.0.0] startup\n",
      "[0.150s] [ext: omni.kit.renderer.init-0.0.0] startup\n",
      "\n",
      "|---------------------------------------------------------------------------------------------|\n",
      "| Driver Version: 510.108.3     | Graphics API: Vulkan\n",
      "|=============================================================================================|\n",
      "| GPU | Name                             | Active | LDA | GPU Memory | Vendor-ID | LUID       |\n",
      "|     |                                  |        |     |            | Device-ID | UUID       |\n",
      "|---------------------------------------------------------------------------------------------|\n",
      "| 0   | NVIDIA GeForce RTX 3090          | Yes: 0 |     | 24822   MB | 10de      | 0          |\n",
      "|     |                                  |        |     |            | 2204      | 3f50dd6e.. |\n",
      "|=============================================================================================|\n",
      "| OS: Linux yizhou-Z370-AORUS-Gaming-5, Version: 5.15.0-56-generic\n",
      "| Processor: Intel(R) Core(TM) i7-8700K CPU @ 3.70GHz | Cores: Unknown | Logical: 12\n",
      "|---------------------------------------------------------------------------------------------|\n",
      "| Total Memory (MB): 32044 | Free Memory: 27439\n",
      "| Total Page/Swap (MB): 2047 | Free Page/Swap: 2047\n",
      "|---------------------------------------------------------------------------------------------|\n",
      "2022-12-24 19:29:56 [819ms] [Warning] [carb.cudainterop.plugin] On Linux only, CUDA and the display driver does not support IOMMU-enabled bare-metal PCIe peer to peer memory copy.\n",
      "However, CUDA and the display driver does support IOMMU via VM pass through. As a consequence, users on Linux,\n",
      "when running on a native bare metal system, should disable the IOMMU. The IOMMU should be enabled and the VFIO driver\n",
      "be used as a PCIe pass through for virtual machines.\n",
      "[0.840s] [ext: omni.kit.pipapi-0.0.0] startup\n",
      "[0.850s] [ext: omni.kit.pip_archive-0.0.0] startup\n",
      "[0.854s] [ext: omni.isaac.core_archive-1.2.0] startup\n",
      "[0.872s] [ext: omni.usd.config-1.0.0] startup\n",
      "[0.874s] [ext: omni.usd.libs-1.0.0] startup\n",
      "[0.998s] [ext: omni.kit.pip_torch-1_11_0-0.1.3] startup\n",
      "[1.029s] [ext: omni.isaac.ml_archive-1.1.0] startup\n",
      "[1.095s] [ext: omni.kit.loop-isaac-0.1.0] startup\n",
      "[1.096s] [ext: omni.kit.async_engine-0.0.0] startup\n",
      "[1.099s] [ext: omni.appwindow-1.0.0] startup\n",
      "[1.104s] [ext: omni.client-0.1.0] startup\n",
      "[1.115s] [ext: omni.kit.test-0.0.0] startup\n",
      "[1.116s] [ext: omni.kit.renderer.core-0.0.0] startup\n",
      "[1.190s] [ext: omni.ui-2.10.3] startup\n",
      "[1.205s] [ext: carb.audio-0.1.0] startup\n",
      "[1.228s] [ext: omni.kit.mainwindow-0.0.0] startup\n",
      "[1.230s] [ext: omni.uiaudio-1.0.0] startup\n",
      "[1.231s] [ext: omni.kit.uiapp-0.0.0] startup\n",
      "[1.231s] [ext: omni.usd.schema.physics-1.0.0] startup\n",
      "[1.272s] [ext: omni.usd.schema.audio-0.0.0] startup\n",
      "[1.279s] [ext: omni.usd.schema.semantics-0.0.0] startup\n",
      "[1.289s] [ext: omni.usd.schema.omnigraph-1.0.0] startup\n",
      "[1.298s] [ext: omni.usd.schema.anim-0.0.0] startup\n",
      "[1.337s] [ext: omni.kit.commands-1.2.2] startup\n",
      "[1.342s] [ext: omni.timeline-1.0.2] startup\n",
      "[1.345s] [ext: omni.hydra.scene_delegate-0.2.0] startup\n",
      "[1.352s] [ext: omni.kit.audiodeviceenum-1.0.0] startup\n",
      "[1.354s] [ext: omni.usd-1.5.3] startup\n",
      "[1.410s] [ext: omni.kit.asset_converter-1.2.31] startup\n",
      "[1.427s] [ext: omni.usd.schema.physx-0.0.0] startup\n",
      "[1.493s] [ext: omni.usd.schema.isaac-0.2.0] startup\n",
      "[1.533s] [ext: omni.usd.schema.forcefield-0.0.0] startup\n",
      "[1.541s] [ext: omni.kvdb-0.0.0] startup\n",
      "[1.544s] [ext: omni.usdphysics-1.4.15] startup\n",
      "[1.548s] [ext: omni.graph.tools-1.4.0] startup\n",
      "[1.573s] [ext: omni.localcache-0.0.0] startup\n",
      "[1.576s] [ext: omni.kit.stage_templates-1.1.2] startup\n",
      "[1.578s] [ext: omni.convexdecomposition-1.4.15] startup\n",
      "[1.581s] [ext: omni.physics.tensors-0.1.0] startup\n",
      "[1.589s] [ext: omni.physx-1.4.15-5.1] startup\n",
      "[1.619s] [ext: omni.graph.core-2.29.1] startup\n",
      "[1.624s] [ext: omni.kit.menu.utils-1.2.11] startup\n",
      "[1.634s] [ext: omni.physx.tensors-0.1.0] startup\n",
      "[1.640s] [ext: omni.graph-1.23.0] startup\n",
      "[1.687s] [ext: omni.kit.numpy.common-0.1.0] startup\n",
      "[1.689s] [ext: omni.kit.window.script_editor-1.6.2] startup\n",
      "[1.701s] [ext: omni.kit.search_core-1.0.2] startup\n",
      "[1.703s] [ext: omni.isaac.dynamic_control-1.1.0] startup\n",
      "[1.712s] [ext: omni.kit.renderer.capture-0.0.0] startup\n",
      "[1.716s] [ext: omni.kit.widget.filebrowser-2.2.27] startup\n",
      "[1.723s] [ext: omni.kit.widget.path_field-2.0.3] startup\n",
      "[1.725s] [ext: omni.kit.notification_manager-1.0.5] startup\n",
      "[1.727s] [ext: omni.kit.widget.versioning-1.3.8] startup\n",
      "[1.729s] [ext: omni.kit.widget.browser_bar-2.0.3] startup\n",
      "[1.731s] [ext: omni.kit.window.popup_dialog-2.0.8] startup\n",
      "[1.733s] [ext: omni.mdl.neuraylib-0.1.0] startup\n",
      "[1.736s] [ext: omni.kit.window.filepicker-2.4.30] startup\n"
     ]
    },
    {
     "name": "stderr",
     "output_type": "stream",
     "text": [
      "OmniAssetFileFormat\n"
     ]
    },
    {
     "name": "stdout",
     "output_type": "stream",
     "text": [
      "Warp initialized:\n",
      "   Version: 0.2.2\n",
      "   CUDA device: NVIDIA GeForce RTX 3090\n",
      "   Kernel cache: /home/yizhou/.cache/warp/0.2.2\n",
      "[1.788s] [ext: omni.kit.menu.create-1.0.2] startup\n",
      "[1.789s] [ext: omni.mdl-0.1.0] startup\n",
      "[1.814s] [ext: omni.kit.window.file_importer-1.0.4] startup\n",
      "[1.815s] [ext: omni.kit.window.file_exporter-1.0.4] startup\n",
      "[1.817s] [ext: omni.kit.material.library-1.3.10] startup\n",
      "[1.823s] [ext: omni.kit.window.drop_support-1.0.0] startup\n",
      "[1.824s] [ext: omni.kit.window.file-1.3.16] startup\n",
      "[1.826s] [ext: omni.kit.context_menu-1.3.9] startup\n",
      "[1.830s] [ext: omni.kit.window.property-1.6.3] startup\n",
      "[1.831s] [ext: omni.kit.window.content_browser-2.4.28] startup\n",
      "[1.841s] [ext: omni.kit.widget.stage-2.6.15] startup\n",
      "[1.845s] [ext: omni.isaac.version-1.0.0] startup\n",
      "[1.846s] [ext: omni.kit.property.usd-3.14.9] startup\n",
      "[1.879s] [ext: omni.kit.viewport.legacy_gizmos-1.0.0] startup\n",
      "[1.883s] [ext: omni.hydra.rtx-0.1.0] startup\n",
      "[1.893s] [ext: omni.renderer-rtx-0.0.0] startup\n",
      "[1.894s] [ext: omni.hydra.engine.stats-1.0.0] startup\n",
      "[1.900s] [ext: omni.debugdraw-0.1.0] startup\n",
      "[1.906s] [ext: omni.kit.widget.settings-1.0.0] startup\n",
      "[1.908s] [ext: omni.kit.window.viewport-0.0.0] startup\n",
      "[6.198s] [ext: omni.kit.widget.prompt-1.0.1] startup\n",
      "[6.200s] [ext: omni.kit.widget.graph-1.4.3] startup\n",
      "[6.256s] [ext: omni.kit.window.preferences-1.2.1] startup\n",
      "[6.291s] [ext: omni.ui_query-1.1.1] startup\n",
      "[6.293s] [ext: omni.graph.ui-1.6.1] startup\n",
      "[6.319s] [ext: omni.kit.ui_test-1.2.2] startup\n",
      "[6.321s] [ext: omni.graph.action-1.18.0] startup\n",
      "[6.334s] [ext: omni.kit.widget.searchfield-1.0.6] startup\n",
      "[6.335s] [ext: omni.kit.usd_undo-0.1.0] startup\n",
      "[6.337s] [ext: omni.graph.scriptnode-0.5.0] startup\n",
      "[6.339s] [ext: omni.physx.commands-1.4.15-5.1] startup\n",
      "[6.344s] [ext: omni.graph.nodes-1.26.0] startup\n",
      "[6.359s] [ext: omni.command.usd-1.0.1] startup\n",
      "[6.362s] [ext: omni.kit.window.extensions-1.1.0] startup\n",
      "[6.370s] [ext: omni.syntheticdata-0.2.1] startup\n",
      "[6.393s] [ext: omni.kit.primitive.mesh-1.0.0] startup\n",
      "[6.397s] [ext: omni.warp-0.2.2] startup\n",
      "[6.516s] [ext: omni.isaac.ui-0.2.1] startup\n",
      "[6.517s] [ext: omni.replicator.core-1.4.3] startup\n",
      "[6.726s] [ext: omni.isaac.core-1.24.3] startup\n",
      "[6.810s] [ext: omni.physx.ui-1.4.15-5.1] startup\n",
      "[6.890s] [ext: omni.kit.property.material-1.8.5] startup\n",
      "[6.893s] [ext: omni.kit.window.toolbar-1.2.4] startup\n",
      "[6.898s] [ext: omni.isaac.core_nodes-0.13.0] startup\n",
      "[6.910s] [ext: omni.physx.demos-1.4.15-5.1] startup\n",
      "[6.913s] [ext: omni.kit.property.physx-0.1.0] startup\n",
      "2022-12-24 19:30:03 [6,969ms] [Warning] [omni.physx.plugin] Deprecated: getSimulationEventStream is deprecated, please use getSimulationEventStreamV2\n",
      "[6.980s] [ext: omni.physx.tests-1.4.15-5.1] startup\n",
      "[7.251s] [ext: omni.isaac.wheeled_robots-0.5.8] startup\n",
      "[7.261s] [ext: omni.kit.menu.common-1.0.0] startup\n",
      "[7.263s] [ext: omni.physx.vehicle-1.4.15-5.1] startup\n",
      "[7.274s] [ext: omni.physx.cct-1.4.15-5.1] startup\n",
      "[7.348s] [ext: omni.physx.camera-1.4.15-5.1] startup\n",
      "[7.360s] [ext: omni.kit.widget.stage_icons-1.0.2] startup\n",
      "[7.362s] [ext: omni.ui.scene-1.5.0] startup\n",
      "[7.367s] [ext: omni.physx.bundle-1.4.15-5.1] startup\n",
      "[7.367s] [ext: omni.kit.window.stage-2.3.7] startup\n",
      "[7.370s] [ext: omni.replicator.composer-1.1.3] startup\n",
      "[7.385s] [ext: omni.isaac.lula-1.1.0] startup\n",
      "[7.394s] [ext: omni.rtx.window.settings-0.6.1] startup\n",
      "[7.399s] [ext: omni.isaac.surface_gripper-0.1.2] startup\n",
      "[7.404s] [ext: omni.isaac.motion_planning-0.2.0] startup\n",
      "[7.412s] [ext: omni.rtx.settings.core-0.5.5] startup\n",
      "[7.416s] [ext: omni.isaac.manipulators-1.0.1] startup\n",
      "[7.418s] [ext: omni.isaac.motion_generation-3.6.1] startup\n",
      "[7.423s] [ext: omni.kit.widget.zoombar-1.0.3] startup\n",
      "[7.424s] [ext: omni.kit.graph.delegate.default-1.0.15] startup\n",
      "[7.426s] [ext: omni.isaac.franka-0.3.0] startup\n",
      "[7.427s] [ext: omni.kit.browser.core-2.0.12] startup\n",
      "[7.431s] [ext: omni.kit.graph.editor.core-1.3.3] startup\n",
      "[7.433s] [ext: omni.kit.graph.usd.commands-1.1.0] startup\n",
      "[7.434s] [ext: omni.kit.browser.folder.core-1.1.13] startup\n",
      "[7.436s] [ext: omni.kit.graph.widget.variables-2.0.2] startup\n",
      "[7.438s] [ext: omni.kit.graph.delegate.modern-1.6.0] startup\n",
      "[7.439s] [ext: omni.kit.selection-0.1.0] startup\n",
      "[7.440s] [ext: omni.isaac.debug_draw-0.Opening usd file at  omniverse://localhost/Users/yizhou/uva_sac.usd  ...Done.\n",
      "Saving a temp livesync stage at  omniverse://localhost/Users/yizhou/uva_sac.usd  ...Done.\n"
     ]
    }
   ],
   "source": [
    "from omni.isaac.kit import SimulationApp    \n",
    "simulation_app = SimulationApp({\"headless\": True, \"open_usd\": usd_path,  \"livesync_usd\": usd_path}) "
   ]
  },
  {
   "cell_type": "code",
   "execution_count": 5,
   "id": "3e0e266e",
   "metadata": {},
   "outputs": [],
   "source": [
    "# set log level\n",
    "import logging\n",
    "import carb\n",
    "\n",
    "logging.getLogger(\"omni.hydra\").setLevel(logging.ERROR)\n",
    "logging.getLogger(\"omni.isaac.urdf\").setLevel(logging.ERROR)\n",
    "logging.getLogger(\"omni.physx.plugin\").setLevel(logging.ERROR)\n",
    "\n",
    "logging.getLogger(\"omni.isaac.synthetic_utils\").setLevel(logging.ERROR)\n",
    "logging.getLogger(\"omni.isaac.synthetic_utils.syntheticdata\").setLevel(logging.ERROR)\n",
    "logging.getLogger(\"omni.hydra.scene_delegate.plugin\").setLevel(logging.ERROR)\n",
    "\n",
    "\n",
    "l = carb.logging.LEVEL_ERROR\n",
    "carb.settings.get_settings().set(\"/log/level\", l)\n",
    "carb.settings.get_settings().set(\"/log/fileLogLevel\", l)\n",
    "carb.settings.get_settings().set(\"/log/outputStreamLevel\", l)\n",
    "\n",
    "# # This logged error is printed as it should\n",
    "# carb.log_error(\"ERROR\")\n",
    "# # This warning is printed but should not\n",
    "# carb.log_warn(\"WARNING\")"
   ]
  },
  {
   "cell_type": "markdown",
   "id": "be34671d",
   "metadata": {},
   "source": [
    "# Config"
   ]
  },
  {
   "cell_type": "code",
   "execution_count": 6,
   "id": "491f4078",
   "metadata": {},
   "outputs": [],
   "source": [
    "from task.config import DATA_PATH, FEATURE_PATH\n",
    "task_type = \"Table\"\n",
    "side_choice = \"Border\"\n",
    "base_asset_id = 0\n",
    "load_nucleus = True"
   ]
  },
  {
   "cell_type": "code",
   "execution_count": 7,
   "id": "eadd32bf",
   "metadata": {},
   "outputs": [
    {
     "ename": "NameError",
     "evalue": "name 'pause' is not defined",
     "output_type": "error",
     "traceback": [
      "\u001b[0;31m---------------------------------------------------------------------------\u001b[0m",
      "\u001b[0;31mNameError\u001b[0m                                 Traceback (most recent call last)",
      "\u001b[0;32m/tmp/ipykernel_26663/1188747208.py\u001b[0m in \u001b[0;36m<module>\u001b[0;34m\u001b[0m\n\u001b[0;32m----> 1\u001b[0;31m \u001b[0mpause\u001b[0m\u001b[0;34m\u001b[0m\u001b[0;34m\u001b[0m\u001b[0m\n\u001b[0m",
      "\u001b[0;31mNameError\u001b[0m: name 'pause' is not defined"
     ]
    }
   ],
   "source": [
    "pause"
   ]
  },
  {
   "cell_type": "markdown",
   "id": "7475ee6a",
   "metadata": {},
   "source": [
    "# Init Env"
   ]
  },
  {
   "cell_type": "code",
   "execution_count": null,
   "id": "9a6fd193",
   "metadata": {},
   "outputs": [],
   "source": [
    "from uva_env import UvaEnv\n",
    "env = UvaEnv()"
   ]
  },
  {
   "cell_type": "code",
   "execution_count": null,
   "id": "d3e665fe",
   "metadata": {},
   "outputs": [],
   "source": [
    "from task.utils import add_scene_default\n",
    "add_scene_default()"
   ]
  },
  {
   "cell_type": "code",
   "execution_count": null,
   "id": "4c55eb32",
   "metadata": {
    "scrolled": true
   },
   "outputs": [],
   "source": [
    "print(list(env.stage.TraverseAll()))"
   ]
  },
  {
   "cell_type": "code",
   "execution_count": null,
   "id": "feaeb7d0",
   "metadata": {},
   "outputs": [],
   "source": [
    "env.clean()\n",
    "env.world.step(render=True)"
   ]
  },
  {
   "cell_type": "markdown",
   "id": "d3c365e3",
   "metadata": {},
   "source": [
    "# Scene"
   ]
  },
  {
   "cell_type": "code",
   "execution_count": null,
   "id": "19d7b119",
   "metadata": {},
   "outputs": [],
   "source": [
    "from task.scene import ArrangeScene\n",
    "scene = ArrangeScene(task_type, side_choice, base_asset_id = 0, traj_id = 0, load_nucleus = load_nucleus)\n",
    "env.scene = scene"
   ]
  },
  {
   "cell_type": "code",
   "execution_count": null,
   "id": "fae909b6",
   "metadata": {},
   "outputs": [],
   "source": [
    "# add base\n",
    "scene.add_base_asset()"
   ]
  },
  {
   "cell_type": "code",
   "execution_count": null,
   "id": "a7e1de8b",
   "metadata": {},
   "outputs": [],
   "source": [
    "# add room\n",
    "# scene.add_room()"
   ]
  },
  {
   "cell_type": "code",
   "execution_count": null,
   "id": "99481529",
   "metadata": {},
   "outputs": [],
   "source": [
    "env.world.step(render=True)"
   ]
  },
  {
   "cell_type": "markdown",
   "id": "bfd24034",
   "metadata": {},
   "source": [
    "# Reward"
   ]
  },
  {
   "cell_type": "code",
   "execution_count": null,
   "id": "b81a65bf",
   "metadata": {},
   "outputs": [],
   "source": [
    "from uv.reward import Rewarder"
   ]
  },
  {
   "cell_type": "code",
   "execution_count": null,
   "id": "35761844",
   "metadata": {},
   "outputs": [],
   "source": [
    "rewarder = Rewarder(env.world)\n",
    "env.rewarder = rewarder"
   ]
  },
  {
   "cell_type": "markdown",
   "id": "27c8bada",
   "metadata": {},
   "source": [
    "# Render"
   ]
  },
  {
   "cell_type": "code",
   "execution_count": null,
   "id": "fba7340e",
   "metadata": {},
   "outputs": [],
   "source": [
    "from render.helper import RenderHelper\n",
    "render = RenderHelper(task_type, side_choice)\n",
    "\n",
    "render.add_task_cameras()\n",
    "render.set_cameras()"
   ]
  },
  {
   "cell_type": "code",
   "execution_count": null,
   "id": "56d05f4a",
   "metadata": {
    "scrolled": true
   },
   "outputs": [],
   "source": [
    "pause"
   ]
  },
  {
   "cell_type": "markdown",
   "id": "69faba50",
   "metadata": {},
   "source": [
    "#  Learning"
   ]
  },
  {
   "cell_type": "code",
   "execution_count": null,
   "id": "785c3dc5",
   "metadata": {},
   "outputs": [],
   "source": [
    "# from learning.network.resnet import ResNetFeatureExtractor\n",
    "\n",
    "# feature extraction\n",
    "from learning.utils import extract_image_clip_feature_and_save, obtain_action_from_trainer\n",
    "from transformers import CLIPProcessor, CLIPModel\n",
    "\n",
    "feature_model = CLIPModel.from_pretrained(\"openai/clip-vit-base-patch32\").to(device)\n",
    "feature_processor = CLIPProcessor.from_pretrained(\"openai/clip-vit-base-patch32\")"
   ]
  },
  {
   "cell_type": "code",
   "execution_count": null,
   "id": "958da617",
   "metadata": {},
   "outputs": [],
   "source": [
    "# replay buffer\n",
    "import json\n",
    "from learning.replay_buffer import ReplayBuffer\n",
    "from learning.config import *\n",
    "\n",
    "buffer = ReplayBuffer(max_size=2000)"
   ]
  },
  {
   "cell_type": "code",
   "execution_count": null,
   "id": "a7314c94",
   "metadata": {},
   "outputs": [],
   "source": [
    "# trainer\n",
    "from learning.network.sac import *\n",
    "\n",
    "policy = Policy()\n",
    "\n",
    "qf1 = QFunction()\n",
    "qf2 = QFunction()\n",
    "target_qf1 = QFunction()\n",
    "target_qf2 = QFunction()\n",
    "\n",
    "from learning.sac_trainer import SACTrainer\n",
    "\n",
    "trainer = SACTrainer(policy, qf1, qf2, target_qf1, target_qf2, \n",
    "     use_automatic_entropy_tuning = False, \n",
    "     policy_lr=1e-3, \n",
    "     qf_lr=1e-3,\n",
    "     target_update_period = 5)"
   ]
  },
  {
   "cell_type": "markdown",
   "id": "a93eef8c",
   "metadata": {},
   "source": [
    "# Trajectory"
   ]
  },
  {
   "cell_type": "code",
   "execution_count": null,
   "id": "e28e6ec5",
   "metadata": {},
   "outputs": [],
   "source": [
    "use_network = True\n",
    "debug = True"
   ]
  },
  {
   "cell_type": "code",
   "execution_count": null,
   "id": "2707b5f0",
   "metadata": {},
   "outputs": [],
   "source": [
    "total_traj = 0\n",
    "total_step = 0"
   ]
  },
  {
   "cell_type": "markdown",
   "id": "33335313",
   "metadata": {},
   "source": [
    "---------------------"
   ]
  },
  {
   "cell_type": "code",
   "execution_count": null,
   "id": "d9049e66",
   "metadata": {},
   "outputs": [],
   "source": [
    "# traj config\n",
    "for traj_id in range(200):\n",
    "    total_traj += 1\n",
    "    \n",
    "    base_asset_id = 0\n",
    "    env.scene.base_asset_id = base_asset_id\n",
    "    env.scene.traj_id = traj_id\n",
    "    image_folder = os.path.join(DATA_PATH, task_type, side_choice, str(traj_id))\n",
    "\n",
    "    # base\n",
    "    # scene.add_base_asset()\n",
    "    env.world.step(render = True)\n",
    "\n",
    "    # get images\n",
    "    env.world.render()\n",
    "    images = render.get_images()\n",
    "    render.save_rgb(images[0]['rgb'], image_folder, \"0\")\n",
    "    \n",
    "    ## extract feature\n",
    "    \n",
    "#     extract_image_feature_and_save(images[0]['rgb'][:,:,:3], \n",
    "#         feature_extractor, os.path.join(image_folder, str(0) + \".pt\"))\n",
    "    extract_image_clip_feature_and_save(f\"{image_folder}/{0}.png\", feature_model, feature_processor, \n",
    "        f\"{image_folder}/{0}.pt\",)\n",
    "    \n",
    "\n",
    "    # trajectory\n",
    "    for step in range(5):\n",
    "        total_step += 1\n",
    "        \n",
    "        # sample an object\n",
    "        env.add_scene_obj(mode = \"random\")\n",
    "        \n",
    "        # TODO: get action from sampling\n",
    "        if not use_network or total_traj < 10 or np.random.rand() < 0.2:\n",
    "            x, y = np.tanh(np.random.randn()), np.tanh(np.random.randn())\n",
    "        else:\n",
    "            image_feature_file = f\"{image_folder}/{step}.pt\"\n",
    "            \n",
    "            object_info = env.scene.objects[-1]\n",
    "            object_type = object_info[\"type\"]\n",
    "            obj_name = object_info[\"name\"][:-4]\n",
    "            object_feature_file = os.path.join(FEATURE_PATH, object_type, obj_name + \".pt\")\n",
    "            x, y = obtain_action_from_trainer(image_feature_file, object_feature_file, trainer)\n",
    "        \n",
    "        # load the object into the scene\n",
    "        env.put_last_object((x, y)) \n",
    "        env.world.step(render=True)\n",
    "        \n",
    "        # register the object to the world for physics update\n",
    "        env.register_last_object()\n",
    "        env.world.step(render=True)\n",
    "\n",
    "        # get images\n",
    "        env.world.render()\n",
    "        images = render.get_images()\n",
    "        render.save_rgb(images[0]['rgb'], image_folder, str(step + 1))\n",
    "\n",
    "        ## calculate reward\n",
    "        env.calculate_last_reward(simulation_step = 30)\n",
    "        \n",
    "        ## extract feature\n",
    "#         extract_image_feature_and_save(images[0]['rgb'][:,:,:3], \n",
    "#             feature_extractor, os.path.join(image_folder, str(step + 1) + \".pt\"))\n",
    "        extract_image_clip_feature_and_save(f\"{image_folder}/{step + 1}.png\", feature_model, feature_processor, \n",
    "            f\"{image_folder}/{step + 1}.pt\",)\n",
    "    \n",
    "\n",
    "        ## reset\n",
    "        env.world.reset()\n",
    "        env.world.step(render=True)\n",
    "        \n",
    "        ## trainer nework\n",
    "        if use_network and total_step % UPDATE_TRAINER_STEPS == 0 and total_traj > 5:\n",
    "            batch = buffer.sample_batch(batch_size = BATCH_SIZE)\n",
    "            trainer.update(batch)\n",
    "            \n",
    "            if debug:\n",
    "                rewards = batch['rewards'].to(device)\n",
    "                terminals = batch['terminals'].to(device)\n",
    "                obs = batch['observations'].to(device)\n",
    "                actions = batch['actions'].to(device)\n",
    "                next_obs = batch['next_observations'].to(device)\n",
    "                obj_features = batch['object_features'].to(device)\n",
    "                \n",
    "                dist = trainer.policy(obs, obj_features)\n",
    "                pred = trainer.qf1(obs, obj_features, actions)\n",
    "                print(f\"debug {total_traj}/{total_step}\", #\"\\n dist: \", dist.mean.flatten().tolist(), dist.stddev.flatten().tolist(),\n",
    "                      \"\\n pred:\", pred.flatten().tolist(),\n",
    "                      \"\\n rewards: \", rewards.flatten().tolist())\n",
    "\n",
    "\n",
    "    # Record\n",
    "    record = env.scene.get_scene_data()\n",
    "    env.scene.save_scene_data()\n",
    "    # print(\"record: \", record)\n",
    "    \n",
    "    # Add record to buffer\n",
    "    buffer.add_scene_sample(record)\n",
    "\n",
    "    # Reset (env clean)\n",
    "    env.clean(clean_all = False)\n",
    "    env.step(render = True)"
   ]
  },
  {
   "cell_type": "markdown",
   "id": "11155e93",
   "metadata": {},
   "source": [
    "# Debug"
   ]
  },
  {
   "cell_type": "code",
   "execution_count": null,
   "id": "a3c0bdec",
   "metadata": {},
   "outputs": [],
   "source": [
    "# get images\n",
    "env.world.render()\n",
    "env.world.render()\n",
    "images = render.get_images()\n",
    "\n",
    "Image.fromarray(images[0]['rgb'], \"RGBA\").resize((300, 300))"
   ]
  },
  {
   "cell_type": "markdown",
   "id": "9d3687f5",
   "metadata": {},
   "source": [
    "##  Debug Training"
   ]
  },
  {
   "cell_type": "code",
   "execution_count": 8,
   "id": "a8d01e0a",
   "metadata": {},
   "outputs": [],
   "source": [
    "import json\n",
    "from learning.replay_buffer import ReplayBuffer\n",
    "\n",
    "buffer = ReplayBuffer(max_size=1000)\n",
    "\n",
    "for i in range(100):\n",
    "    replay = json.load(open(f\"{DATA_PATH}/{task_type}/{side_choice}/{i}/scene.json\"))\n",
    "    buffer.add_scene_sample(replay)"
   ]
  },
  {
   "cell_type": "code",
   "execution_count": 9,
   "id": "bec87318",
   "metadata": {
    "scrolled": true
   },
   "outputs": [
    {
     "data": {
      "text/plain": [
       "500"
      ]
     },
     "execution_count": 9,
     "metadata": {},
     "output_type": "execute_result"
    }
   ],
   "source": [
    "len(buffer.dataset)"
   ]
  },
  {
   "cell_type": "code",
   "execution_count": 10,
   "id": "63777cf1",
   "metadata": {},
   "outputs": [],
   "source": [
    "# trainer\n",
    "from learning.network.sac import *\n",
    "\n",
    "policy = Policy()\n",
    "\n",
    "qf1 = QFunction()\n",
    "qf2 = QFunction()\n",
    "\n",
    "target_qf1 = QFunction()\n",
    "target_qf1.eval()\n",
    "\n",
    "target_qf2 = QFunction()\n",
    "target_qf2.eval()\n",
    "\n",
    "from learning.sac_trainer import SACTrainer\n",
    "\n",
    "trainer = SACTrainer(policy, qf1, qf2, target_qf1, target_qf2, \n",
    "     use_automatic_entropy_tuning = True, \n",
    "     policy_lr=1e-3, \n",
    "     qf_lr=1e-3,\n",
    "     target_update_period = 5)"
   ]
  },
  {
   "cell_type": "code",
   "execution_count": 11,
   "id": "0acc75a9",
   "metadata": {},
   "outputs": [],
   "source": [
    "self = trainer"
   ]
  },
  {
   "cell_type": "code",
   "execution_count": 12,
   "id": "be95f838",
   "metadata": {
    "scrolled": true
   },
   "outputs": [
    {
     "name": "stdout",
     "output_type": "stream",
     "text": [
      "1.2] startup\n",
      "[7.447s] [ext: omni.graph.window.core-1.23.4] startup\n",
      "[7.454s] [ext: omni.graph.instancing-1.1.4] startup\n",
      "[7.462s] [ext: omni.kit.menu.edit-1.0.6] startup\n",
      "[7.463s] [ext: omni.isaac.isaac_sensor-1.0.2] startup\n",
      "2022-12-24 19:30:03 [7,464ms] [Warning] [omni.physx.plugin] Deprecated: getSimulationEventStream is deprecated, please use getSimulationEventStreamV2\n",
      "[7.475s] [ext: omni.graph.tutorials-1.1.2] startup\n",
      "[7.493s] [ext: omni.graph.window.action-1.3.8] startup\n",
      "[7.494s] [ext: omni.kit.widget.live-0.1.0] startup\n",
      "[7.499s] [ext: omni.kit.widget.layers-1.5.17] startup\n",
      "[7.512s] [ext: omni.graph.bundle.action-1.0.0] startup\n",
      "[7.512s] [ext: omni.isaac.range_sensor-0.4.3] startup\n",
      "[7.539s] [ext: omni.kit.property.layer-1.1.2] startup\n",
      "[7.541s] [ext: omni.replicator.isaac-1.3.2] startup\n",
      "[7.622s] [ext: omni.isaac.kit-0.2.1] startup\n",
      "[7.622s] [ext: omni.graph.window.generic-1.3.8] startup\n",
      "[7.624s] [ext: omni.isaac.utils-0.1.11] startup\n",
      "[7.627s] [ext: omni.kit.property.audio-1.0.5] startup\n",
      "[7.629s] [ext: omni.kit.property.skel-1.0.1] startup\n",
      "[7.630s] [ext: omni.kit.property.render-1.1.0] startup\n",
      "[7.631s] [ext: omni.kit.property.camera-1.0.3] startup\n",
      "[7.632s] [ext: omni.kit.property.geometry-1.2.0] startup\n",
      "[7.633s] [ext: omni.kit.property.light-1.0.5] startup\n",
      "[7.634s] [ext: omni.kit.property.transform-1.0.2] startup\n",
      "[7.638s] [ext: omni.isaac.universal_robots-0.3.0] startup\n",
      "[7.639s] [ext: omni.isaac.occupancy_map-0.2.4] startup\n",
      "[7.653s] [ext: omni.kit.window.console-0.2.0] startup\n",
      "[7.660s] [ext: omni.kit.window.status_bar-0.1.1] startup\n",
      "[7.668s] [ext: omni.kit.property.bundle-1.2.4] startup\n",
      "[7.669s] [ext: omni.kit.menu.file-1.0.8] startup\n",
      "[7.671s] [ext: omni.kit.manipulator.viewport-1.0.6] startup\n",
      "[7.674s] [ext: omni.isaac.urdf-0.4.0] startup\n",
      "[7.704s] [ext: omni.isaac.dofbot-0.3.0] startup\n",
      "[7.705s] [ext: omni.kit.window.title-1.1.2] startup\n",
      "[7.706s] [ext: omni.kit.profiler.window-1.4.4] startup\n",
      "[7.709s] [ext: omni.graph.visualization.nodes-1.1.1] startup\n",
      "[7.713s] [ext: omni.isaac.synthetic_utils-0.3.5] startup\n",
      "[7.715s] [ext: semantics.schema.editor-0.2.3] startup\n",
      "[7.718s] [ext: omni.isaac.sim.python-2022.1.1] startup\n",
      "[7.718s] Simulation App Starting\n",
      "2022-12-24 19:30:04 [8,281ms] [Warning] [omni.usd] Default value for render setting \"/rtx/shaderDb/cachePermutationIndex\" not found\n",
      "2022-12-24 19:30:04 [8,281ms] [Warning] [omni.usd] Default value for render setting \"/rtx/resourcemanager/uploadPooledBuffers/framesToEvict\" not found\n",
      "2022-12-24 19:30:04 [8,281ms] [Warning] [omni.usd] Default value for render setting \"/rtx/resourcemanager/uploadPooledBuffers/uploadSize\" not found\n",
      "2022-12-24 19:30:04 [8,281ms] [Warning] [omni.usd] Default value for render setting \"/rtx/pathtracing/nrc/canRun\" not found\n",
      "[12.673s] app ready\n",
      "2022-12-24 19:30:08 [12,671ms] [Warning] [gpu.foundation.plugin] Requesting texture to use texture streaming, but the service isn't available.The texture will be created as a regular resource.\n",
      "[13.455s] Simulation App Startup Complete\n",
      "0 \n",
      " dist   :  [-0.228, -0.052, -0.159, 0.083, -0.079, 0.038, -0.235, -0.044, -0.085, 0.048, -0.156, -0.104] [0.95, 0.965, 0.961, 0.902, 0.889, 0.921, 1.04, 1.019, 0.991, 0.989, 0.997, 0.864] \n",
      " pred   : [0.094, 0.091, 0.077, 0.083, 0.069, 0.061] \n",
      " rewards:  [1.0, -0.839, -0.839, 0.993, -3.466, -0.839]\n",
      "10 \n",
      " dist   :  [-0.045, -0.065, -0.059, 0.077, -0.083, 0.05, -0.107, -0.06, -0.111, -0.042, -0.102, -0.019] [0.724, 0.662, 0.649, 0.623, 0.713, 0.666, 0.728, 0.644, 0.795, 0.697, 0.741, 0.658] \n",
      " pred   : [0.821, 1.158, 0.95, 1.126, 1.047, 1.061] \n",
      " rewards:  [-0.839, 0.953, -0.839, -0.839, 0.425, -0.839]\n",
      "20 \n",
      " dist   :  [0.083, 0.032, 0.165, 0.05, 0.074, -0.002, 0.109, -0.009, 0.068, -0.006, -0.069, -0.034] [1.062, 1.029, 0.938, 0.886, 1.021, 0.973, 1.028, 0.945, 1.058, 1.004, 1.073, 1.004] \n",
      " pred   : [1.449, 1.134, 0.689, 1.139, 1.634, 1.104] \n",
      " rewards:  [0.903, -0.839, -0.839, -0.635, -0.839, -0.167]\n",
      "30 \n",
      " dist   :  [-0.02, 0.279, -0.024, 0.339, 0.015, 0.253, 0.013, 0.297, -0.01, 0.23, 0.005, 0.254] [0.753, 0.843, 0.695, 0.765, 0.756, 0.848, 0.74, 0.85, 0.78, 0.885, 0.749, 0.839] \n",
      " pred   : [0.364, 0.753, 0.821, 0.958, 0.861, 0.786] \n",
      " rewards:  [-0.839, -0.839, 1.0, -0.839, 1.0, 1.0]\n",
      "40 \n",
      " dist   :  [0.009, 0.206, 0.004, 0.291, 0.013, 0.227, 0.048, 0.349, 0.001, 0.307, 0.061, 0.318] [0.916, 0.982, 0.856, 0.934, 0.894, 0.988, 0.822, 0.921, 0.871, 0.937, 0.817, 0.934] \n",
      " pred   : [0.452, 0.401, 0.923, 0.425, 0.484, 0.241] \n",
      " rewards:  [-0.839, -0.839, -0.839, -0.839, -0.839, -0.839]\n",
      "50 \n",
      " dist   :  [-0.249, 0.015, 0.044, 0.106, 0.097, 0.11, 0.057, 0.097, 0.039, 0.1, 0.082, 0.129] [0.989, 1.026, 0.97, 1.034, 0.934, 0.984, 0.963, 1.016, 0.976, 1.042, 0.951, 1.009] \n",
      " pred   : [0.752, 0.992, 0.843, 0.793, 0.889, 0.943] \n",
      " rewards:  [0.298, 0.904, -0.839, -0.839, 0.903, -0.839]\n",
      "60 \n",
      " dist   :  [0.304, 0.205, 0.367, 0.158, 0.336, 0.151, 0.356, 0.163, 0.022, 0.036, 0.406, 0.16] [0.817, 0.866, 0.8, 0.869, 0.811, 0.881, 0.803, 0.865, 0.915, 0.949, 0.804, 0.857] \n",
      " pred   : [0.535, 0.551, 0.265, 0.442, 0.632, 0.237] \n",
      " rewards:  [-0.839, 0.983, -0.839, 1.0, 1.0, -0.839]\n",
      "70 \n",
      " dist   :  [0.206, 0.081, 0.207, 0.075, 0.192, 0.116, 0.241, 0.091, 0.212, 0.108, 0.137, 0.087] [0.825, 0.905, 0.817, 0.908, 0.826, 0.918, 0.866, 0.911, 0.856, 0.914, 0.897, 0.949] \n",
      " pred   : [0.773, 1.118, 1.074, 0.694, 0.582, 1.068] \n",
      " rewards:  [-0.839, 1.0, -0.839, -0.839, -0.839, -0.47]\n",
      "80 \n",
      " dist   :  [0.071, 0.081, 0.061, 0.074, 0.047, 0.076, 0.072, 0.081, -0.002, 0.065, 0.079, 0.084] [0.926, 0.915, 0.94, 0.934, 0.945, 0.933, 0.923, 0.923, 0.939, 0.99, 0.934, 0.906] \n",
      " pred   : [1.061, 0.379, 0.448, 0.55, 0.925, 0.798] \n",
      " rewards:  [0.804, -0.839, -0.839, -0.839, 0.177, -0.839]\n",
      "90 \n",
      " dist   :  [-0.086, 0.234, -0.094, 0.257, -0.092, 0.217, -0.076, 0.242, -0.084, 0.227, -0.094, 0.227] [0.93, 0.989, 0.918, 0.982, 0.948, 1.009, 0.935, 0.957, 0.939, 0.977, 0.948, 1.007] \n",
      " pred   : [0.372, 1.19, 0.129, 0.968, 0.792, 0.162] \n",
      " rewards:  [-0.839, 0.903, -0.839, 0.999, 0.997, -0.839]\n",
      "100 \n",
      " dist   :  [-0.075, 0.317, -0.083, 0.277, -0.122, 0.215, -0.091, 0.303, -0.055, 0.361, -0.053, 0.355] [0.961, 0.88, 0.978, 0.925, 1.023, 1.042, 0.991, 0.915, 0.957, 0.865, 0.935, 0.86] \n",
      " pred   : [0.636, 0.606, 0.776, 0.083, 0.863, 0.356] \n",
      " rewards:  [-0.839, -3.466, 1.0, -0.839, -0.839, -0.635]\n",
      "110 \n",
      " dist   :  [0.135, 0.336, 0.129, 0.329, 0.098, 0.331, 0.119, 0.352, 0.118, 0.352, 0.12, 0.344] [0.83, 0.767, 0.836, 0.772, 0.853, 0.79, 0.823, 0.756, 0.824, 0.756, 0.843, 0.781] \n",
      " pred   : [0.518, 0.683, 0.524, 0.603, 1.038, 1.058] \n",
      " rewards:  [-0.635, -0.839, -0.839, -0.839, -0.839, -0.839]\n",
      "120 \n",
      " dist   :  [0.014, 0.162, 0.093, 0.233, 0.059, 0.214, 0.112, 0.283, 0.127, 0.265, 0.129, 0.257] [1.017, 1.007, 0.946, 0.888, 0.981, 0.916, 0.942, 0.864, 0.924, 0.862, 0.921, 0.874] \n",
      " pred   : [0.406, 0.31, 0.046, 0.672, 0.301, 0.672] \n",
      " rewards:  [-0.839, -1.761, -0.839, -0.839, -0.839, -0.839]\n",
      "130 \n",
      " dist   :  [0.047, 0.156, -0.002, 0.145, 0.076, 0.235, 0.065, 0.205, 0.045, 0.187, 0.052, 0.174] [0.977, 0.975, 0.995, 0.949, 0.902, 0.876, 0.933, 0.891, 0.957, 0.912, 0.946, 0.912] \n",
      " pred   : [0.964, 0.198, 0.297, 0.57, 1.002, 0.331] \n",
      " rewards:  [1.0, -0.839, -0.839, -0.839, -0.839, -0.839]\n",
      "140 \n",
      " dist   :  [0.047, 0.214, 0.074, 0.256, 0.072, 0.279, 0.084, 0.289, 0.047, 0.22, 0.124, 0.25] [0.923, 0.891, 0.9, 0.834, 0.902, 0.832, 0.896, 0.808, 0.93, 0.881, 0.914, 0.88] \n",
      " pred   : [0.847, 0.992, 1.044, 1.002, 0.853, 1.254] \n",
      " rewards:  [0.992, -0.839, -0.839, -0.839, 0.247, 1.0]\n",
      "150 \n",
      " dist   :  [0.049, 0.378, 0.054, 0.32, 0.052, 0.375, 0.029, 0.378, 0.061, 0.31, 0.034, 0.368] [0.809, 0.704, 0.834, 0.733, 0.804, 0.706, 0.815, 0.688, 0.85, 0.745, 0.827, 0.716] \n",
      " pred   : [1.416, 1.096, 0.733, 1.454, 1.509, 0.36] \n",
      " rewards:  [0.904, 1.0, -0.839, 1.0, 1.0, -0.839]\n",
      "160 \n",
      " dist   :  [0.17, 0.479, 0.12, 0.374, 0.126, 0.359, 0.131, 0.379, 0.134, 0.368, 0.081, 0.292] [0.742, 0.742, 0.79, 0.788, 0.794, 0.793, 0.788, 0.779, 0.788, 0.785, 0.829, 0.872] \n",
      " pred   : [0.618, 0.371, 0.585, 0.427, 0.065, 0.152] \n",
      " rewards:  [-0.839, -0.839, -0.839, -0.839, -0.839, -0.839]\n",
      "170 \n",
      " dist   :  [0.107, 0.301, 0.072, 0.263, 0.094, 0.261, 0.077, 0.215, 0.064, 0.222, 0.08, 0.237] [0.826, 0.808, 0.838, 0.864, 0.837, 0.844, 0.861, 0.882, 0.859, 0.891, 0.852, 0.869] \n",
      " pred   : [0.777, 0.478, 0.915, 0.678, 0.812, 0.828] \n",
      " rewards:  [-0.046, -0.839, 0.33, 0.993, -0.839, -0.839]\n",
      "180 \n",
      " dist   :  [0.096, 0.122, 0.066, 0.124, 0.088, 0.159, 0.056, 0.158, 0.123, 0.262, 0.092, 0.117] [0.86, 0.859, 0.841, 0.864, 0.815, 0.824, 0.834, 0.845, 0.702, 0.752, 0.802, 0.902] \n",
      " pred   : [1.009, 0.366, 0.342, 0.269, 0.657, 0.825] \n",
      " rewards:  [-0.839, -0.839, -0.839, -0.839, -0.839, -0.365]\n",
      "190 \n",
      " dist   :  [0.08, 0.2, 0.095, 0.221, 0.137, 0.236, 0.099, 0.214, 0.084, 0.199, 0.157, 0.311] [0.813, 0.826, 0.776, 0.815, 0.741, 0.823, 0.765, 0.829, 0.823, 0.846, 0.663, 0.766] \n",
      " pred   : [1.41, 0.76, 0.949, 0.729, 0.435, 0.606] \n",
      " rewards:  [1.0, -0.839, -0.373, -0.839, -0.839, -0.839]\n"
     ]
    },
    {
     "name": "stdout",
     "output_type": "stream",
     "text": [
      "200 \n",
      " dist   :  [0.182, 0.415, 0.101, 0.359, 0.194, 0.423, 0.167, 0.522, 0.138, 0.498, 0.07, 0.319] [0.635, 0.817, 0.725, 0.767, 0.632, 0.817, 0.578, 0.701, 0.608, 0.719, 0.76, 0.814] \n",
      " pred   : [-0.012, 0.66, 1.006, 0.488, 1.299, 0.666] \n",
      " rewards:  [-0.839, -0.839, 0.953, -0.839, -1.311, -0.839]\n",
      "210 \n",
      " dist   :  [-0.068, 0.391, -0.077, 0.388, -0.08, 0.348, -0.058, 0.334, -0.063, 0.398, -0.056, 0.516] [0.729, 0.794, 0.736, 0.782, 0.766, 0.782, 0.774, 0.821, 0.697, 0.81, 0.615, 0.715] \n",
      " pred   : [0.248, -0.124, 0.142, 0.008, -0.046, -0.149] \n",
      " rewards:  [-0.839, -0.839, -0.839, -0.839, -0.839, -0.839]\n",
      "220 \n",
      " dist   :  [-0.137, 0.298, -0.126, 0.328, -0.132, 0.337, -0.129, 0.313, -0.14, 0.391, -0.138, 0.33] [0.772, 0.835, 0.755, 0.816, 0.766, 0.795, 0.778, 0.809, 0.694, 0.765, 0.783, 0.792] \n",
      " pred   : [0.272, 0.61, 0.412, 1.822, 1.336, 1.38] \n",
      " rewards:  [-0.839, -0.839, -0.839, 0.801, 0.895, -0.839]\n",
      "230 \n",
      " dist   :  [0.026, 0.28, 0.008, 0.277, 0.027, 0.301, -0.002, 0.259, 0.008, 0.308, 0.04, 0.265] [0.802, 0.789, 0.876, 0.79, 0.832, 0.765, 0.87, 0.816, 0.803, 0.773, 0.848, 0.694] \n",
      " pred   : [0.416, 0.347, 0.774, -0.292, 0.715, 0.995] \n",
      " rewards:  [-0.839, 0.994, 0.994, -0.839, 0.993, 1.0]\n",
      "240 \n",
      " dist   :  [0.015, 0.267, 0.03, 0.328, 0.063, 0.341, 0.04, 0.301, 0.055, 0.339, 0.05, 0.328] [0.868, 0.801, 0.843, 0.743, 0.824, 0.707, 0.833, 0.756, 0.821, 0.724, 0.834, 0.732] \n",
      " pred   : [0.235, 0.459, 1.802, 0.222, 0.962, 1.191] \n",
      " rewards:  [-0.839, -0.839, 1.0, -0.839, -0.839, -0.839]\n",
      "250 \n",
      " dist   :  [0.097, 0.336, 0.098, 0.339, 0.062, 0.309, 0.079, 0.307, 0.088, 0.308, 0.104, 0.337] [0.779, 0.705, 0.798, 0.685, 0.814, 0.735, 0.802, 0.741, 0.828, 0.712, 0.789, 0.684] \n",
      " pred   : [-0.191, 0.387, -0.013, -0.033, 0.806, 0.281] \n",
      " rewards:  [-0.839, 0.477, -0.839, -0.839, 1.0, -0.839]\n",
      "260 \n",
      " dist   :  [0.099, 0.342, 0.084, 0.3, 0.113, 0.333, 0.104, 0.394, 0.108, 0.285, 0.127, 0.312] [0.738, 0.667, 0.756, 0.721, 0.721, 0.677, 0.649, 0.65, 0.717, 0.72, 0.699, 0.693] \n",
      " pred   : [0.67, -0.096, 0.199, 1.225, 0.987, 0.031] \n",
      " rewards:  [-0.839, -0.839, -0.839, 1.0, 0.993, -0.839]\n",
      "270 \n",
      " dist   :  [0.046, 0.283, 0.09, 0.329, 0.063, 0.307, 0.044, 0.334, 0.058, 0.246, 0.049, 0.335] [0.739, 0.723, 0.683, 0.642, 0.724, 0.696, 0.732, 0.675, 0.756, 0.75, 0.737, 0.661] \n",
      " pred   : [0.293, 1.569, 0.265, 0.087, 0.246, 1.777] \n",
      " rewards:  [-0.839, 0.994, -0.839, -0.839, -0.839, 1.0]\n",
      "280 \n",
      " dist   :  [0.057, 0.27, 0.062, 0.307, 0.036, 0.301, 0.097, 0.295, 0.083, 0.278, 0.028, 0.235] [0.689, 0.726, 0.662, 0.702, 0.702, 0.711, 0.613, 0.661, 0.642, 0.697, 0.747, 0.79] \n",
      " pred   : [0.674, 0.657, 1.223, 0.725, 0.398, -0.107] \n",
      " rewards:  [0.874, 1.0, 1.0, 1.0, -0.839, -0.839]\n",
      "290 \n",
      " dist   :  [0.113, 0.143, -0.006, 0.142, 0.078, 0.134, 0.052, 0.139, 0.07, 0.137, 0.067, 0.142] [0.652, 0.71, 0.845, 0.861, 0.691, 0.763, 0.735, 0.784, 0.712, 0.78, 0.724, 0.762] \n",
      " pred   : [0.73, 0.064, 0.335, 0.421, 0.01, 0.499] \n",
      " rewards:  [0.997, -0.839, -0.839, -0.63, -0.839, -0.839]\n",
      "300 \n",
      " dist   :  [-0.037, 0.107, -0.05, 0.05, -0.007, 0.095, -0.016, 0.063, -0.027, 0.079, -0.037, 0.079] [0.814, 0.838, 0.793, 0.846, 0.747, 0.8, 0.76, 0.806, 0.809, 0.864, 0.861, 0.911] \n",
      " pred   : [1.691, 0.399, 0.41, 0.924, 0.394, 0.37] \n",
      " rewards:  [1.0, -0.839, -0.839, -0.839, -0.839, -0.839]\n",
      "310 \n",
      " dist   :  [-0.055, 0.149, -0.063, 0.124, -0.048, 0.177, -0.063, 0.131, -0.054, 0.15, -0.072, 0.127] [0.769, 0.824, 0.79, 0.854, 0.751, 0.818, 0.856, 0.905, 0.764, 0.822, 0.891, 0.926] \n",
      " pred   : [1.074, 1.007, -0.105, 0.342, 0.776, 0.121] \n",
      " rewards:  [0.994, 0.801, -0.839, -0.839, -0.839, -0.839]\n",
      "320 \n",
      " dist   :  [-0.048, 0.34, -0.055, 0.291, -0.044, 0.326, -0.059, 0.251, -0.039, 0.36, -0.046, 0.338] [0.615, 0.676, 0.683, 0.719, 0.64, 0.699, 0.759, 0.796, 0.595, 0.66, 0.621, 0.679] \n",
      " pred   : [1.606, 0.167, 0.124, 0.537, 0.304, 1.474] \n",
      " rewards:  [1.0, -0.839, -0.705, -0.839, -0.839, 0.919]\n",
      "330 \n",
      " dist   :  [0.104, 0.392, 0.143, 0.478, 0.097, 0.392, 0.069, 0.416, 0.129, 0.431, 0.124, 0.422] [0.632, 0.625, 0.574, 0.553, 0.648, 0.619, 0.688, 0.616, 0.604, 0.583, 0.605, 0.599] \n",
      " pred   : [-0.022, -0.096, 0.992, 0.13, 0.582, -0.051] \n",
      " rewards:  [-0.839, -0.839, 1.0, -0.839, -0.839, -0.839]\n",
      "340 \n",
      " dist   :  [0.001, 0.188, 0.045, 0.232, 0.013, 0.168, 0.055, 0.224, 0.042, 0.214, 0.028, 0.197] [0.856, 0.825, 0.769, 0.748, 0.838, 0.854, 0.748, 0.75, 0.776, 0.786, 0.804, 0.816] \n",
      " pred   : [0.654, 0.413, 0.005, 1.64, 0.922, 0.845] \n",
      " rewards:  [-0.463, -0.839, -0.839, 0.997, -0.839, -0.839]\n",
      "350 \n",
      " dist   :  [0.03, 0.247, 0.011, 0.211, 0.028, 0.26, 0.008, 0.199, 0.024, 0.251, 0.002, 0.186] [0.655, 0.675, 0.709, 0.744, 0.641, 0.669, 0.737, 0.753, 0.667, 0.66, 0.756, 0.776] \n",
      " pred   : [-1.155, 0.204, -0.011, -0.647, 0.17, 0.042] \n",
      " rewards:  [-0.839, -0.839, -0.839, -0.839, -0.839, -0.839]\n",
      "360 \n",
      " dist   :  [0.071, 0.222, 0.045, 0.189, 0.075, 0.232, 0.03, 0.19, 0.048, 0.213, 0.049, 0.212] [0.552, 0.578, 0.627, 0.653, 0.535, 0.57, 0.642, 0.676, 0.595, 0.611, 0.593, 0.615] \n",
      " pred   : [1.256, 0.786, 1.101, 0.269, 0.683, 0.568] \n",
      " rewards:  [0.9, -0.839, 0.997, -0.839, 0.477, -0.839]\n",
      "370 \n",
      " dist   :  [0.008, 0.268, 0.013, 0.26, 0.012, 0.248, 0.02, 0.248, 0.002, 0.246, -0.009, 0.256] [0.623, 0.591, 0.621, 0.606, 0.634, 0.642, 0.626, 0.626, 0.651, 0.645, 0.659, 0.615] \n",
      " pred   : [1.175, 1.37, -0.257, 0.117, 0.279, 1.772] \n",
      " rewards:  [-0.839, 1.0, -0.839, -0.839, -0.839, 1.0]\n",
      "380 \n",
      " dist   :  [0.04, 0.281, 0.019, 0.277, 0.065, 0.291, 0.034, 0.28, 0.068, 0.317, 0.069, 0.33] [0.658, 0.673, 0.696, 0.662, 0.626, 0.652, 0.672, 0.655, 0.6, 0.595, 0.594, 0.585] \n",
      " pred   : [-0.161, -0.152, 1.341, -0.061, 0.613, 0.21] \n",
      " rewards:  [-0.839, -0.839, 0.953, -0.839, -0.796, -0.839]\n",
      "390 \n",
      " dist   :  [0.143, 0.361, 0.143, 0.33, 0.117, 0.32, 0.17, 0.365, 0.11, 0.313, 0.136, 0.342] [0.597, 0.604, 0.63, 0.633, 0.647, 0.674, 0.576, 0.606, 0.657, 0.684, 0.629, 0.636] \n",
      " pred   : [0.124, 0.112, 0.182, 0.206, 0.193, 0.285] \n",
      " rewards:  [-0.839, -0.839, -0.839, -0.635, -0.839, -0.839]\n",
      "400 \n",
      " dist   :  [0.199, 0.412, 0.219, 0.425, 0.25, 0.462, 0.214, 0.432, 0.18, 0.385, 0.238, 0.469] [0.609, 0.627, 0.586, 0.611, 0.547, 0.576, 0.585, 0.613, 0.618, 0.667, 0.54, 0.562] \n",
      " pred   : [1.479, 1.012, -0.301, 0.836, -0.176, 1.249] \n",
      " rewards:  [1.0, 1.0, -0.839, 0.954, -0.839, 0.999]\n",
      "410 \n",
      " dist   :  [0.089, 0.389, 0.078, 0.372, 0.059, 0.357, 0.074, 0.378, 0.071, 0.359, 0.042, 0.341] [0.664, 0.666, 0.685, 0.691, 0.727, 0.694, 0.693, 0.679, 0.707, 0.697, 0.754, 0.714] \n",
      " pred   : [-1.178, 0.56, -0.283, -0.417, -0.239, -0.01] \n",
      " rewards:  [-0.839, 0.911, -0.839, -0.839, -0.839, 0.63]\n",
      "420 \n",
      " dist   :  [-0.038, 0.105, -0.045, 0.101, -0.05, 0.111, -0.044, 0.107, -0.042, 0.124, -0.046, 0.11] [0.878, 0.919, 0.911, 0.94, 0.921, 0.918, 0.898, 0.929, 0.875, 0.897, 0.897, 0.921] \n",
      " pred   : [1.297, 0.057, 1.728, 1.334, 0.66, 1.058] \n",
      " rewards:  [1.0, -0.839, 0.63, 0.911, 0.936, 0.86]\n",
      "430 \n",
      " dist   :  [-0.06, 0.101, -0.059, 0.1, -0.052, 0.081, -0.042, 0.086, -0.057, 0.066, -0.051, 0.088] [0.798, 0.831, 0.791, 0.828, 0.846, 0.875, 0.811, 0.857, 0.888, 0.914, 0.823, 0.861] \n",
      " pred   : [0.097, 0.3, 0.563, 0.09, -0.051, 0.705] \n",
      " rewards:  [-0.839, -1.124, -0.839, -0.839, -0.839, 1.0]\n",
      "440 \n",
      " dist   :  [-0.002, 0.088, -0.007, 0.083, 0.026, 0.104, 0.006, 0.104, 0.01, 0.108, 0.019, 0.108] [0.742, 0.74, 0.736, 0.724, 0.643, 0.639, 0.703, 0.706, 0.688, 0.691, 0.672, 0.677] \n",
      " pred   : [-0.052, 1.21, 0.473, 0.409, -0.024, -0.274] \n",
      " rewards:  [-0.839, 1.0, -0.839, -0.839, -0.839, -0.839]\n",
      "450 \n",
      " dist   :  [0.146, 0.193, 0.21, 0.229, 0.111, 0.226, 0.13, 0.223, 0.151, 0.173, 0.199, 0.203] [0.675, 0.607, 0.568, 0.508, 0.659, 0.607, 0.591, 0.555, 0.695, 0.626, 0.63, 0.555] \n",
      " pred   : [0.69, -0.081, 0.836, 0.084, 1.457, -0.712] \n",
      " rewards:  [0.079, -0.839, 0.733, -0.839, 1.0, -11.152]\n",
      "460 \n",
      " dist   :  [0.05, 0.033, 0.035, 0.05, 0.042, 0.045, 0.014, 0.066, 0.051, 0.04, -0.017, 0.084] [0.741, 0.604, 0.716, 0.579, 0.705, 0.585, 0.741, 0.637, 0.742, 0.612, 0.71, 0.628] \n",
      " pred   : [-0.177, 0.731, 0.049, -0.154, 1.525, -0.103] \n",
      " rewards:  [-0.839, -0.839, -0.839, -0.839, 0.983, -0.839]\n",
      "470 \n",
      " dist   :  [-0.049, 0.172, 0.004, 0.154, -0.0, 0.216, -0.01, 0.178, -0.049, 0.198, -0.02, 0.219] [0.773, 0.702, 0.764, 0.662, 0.679, 0.582, 0.71, 0.633, 0.747, 0.662, 0.673, 0.588] \n",
      " pred   : [0.06, 0.088, 0.407, 0.9, 0.861, 0.799] \n",
      " rewards:  [-0.839, 0.999, -0.839, 0.493, -0.839, -0.839]\n",
      "480 \n",
      " dist   :  [-0.034, 0.249, -0.021, 0.252, 0.037, 0.282, -0.044, 0.258, 0.007, 0.287, -0.036, 0.257] [0.677, 0.623, 0.62, 0.579, 0.589, 0.53, 0.649, 0.597, 0.613, 0.55, 0.672, 0.614] \n",
      " pred   : [1.648, 0.008, 0.203, 0.571, 0.142, 0.292] \n",
      " rewards:  [0.999, -0.839, -0.839, -1.311, -0.839, -0.839]\n",
      "490 \n",
      " dist   :  [0.033, 0.272, 0.067, 0.259, 0.061, 0.272, 0.051, 0.272, 0.027, 0.241, 0.073, 0.231] [0.547, 0.48, 0.523, 0.465, 0.505, 0.453, 0.512, 0.461, 0.531, 0.496, 0.565, 0.505] \n",
      " pred   : [-0.194, -0.369, -0.064, 0.1, 0.869, 0.515] \n",
      " rewards:  [-0.839, -0.839, -0.839, -0.839, 1.0, -0.839]\n"
     ]
    }
   ],
   "source": [
    "for _ in range(500):\n",
    "    batch = buffer.sample_batch(batch_size=6)\n",
    "\n",
    "    rewards = batch['rewards'].to(device)\n",
    "    terminals = batch['terminals'].to(device)\n",
    "    obs = batch['observations'].to(device)\n",
    "    actions = batch['actions'].to(device)\n",
    "    next_obs = batch['next_observations'].to(device)\n",
    "\n",
    "    obj_features = batch['object_features'].to(device)\n",
    "\n",
    "    # print(\"rewards\", rewards)\n",
    "\n",
    "    self.update(batch)\n",
    "    \n",
    "    if _ % 10 == 0:\n",
    "        dist = self.policy(obs, obj_features)\n",
    "        pred = self.qf1(obs, obj_features, actions)\n",
    "        print(_, \"\\n dist   : \", [round(x, 3) for x in dist.mean.flatten().tolist()], \n",
    "                  [round(x, 3) for x in dist.stddev.flatten().tolist()],\n",
    "              \"\\n pred   :\", [round(x, 3) for x in pred.flatten().tolist()],\n",
    "              \"\\n rewards: \", [round(x, 3) for x in rewards.flatten().tolist()])\n",
    "    \n",
    "#     # debug\n",
    "#     pred = self.qf1(obs, obj_features, actions)\n",
    "#     loss = self.qf_criterion(pred, rewards)\n",
    "    \n",
    "#     self.qf1_optimizer.zero_grad()\n",
    "#     loss.backward()\n",
    "#     self.qf1_optimizer.step()\n",
    "    \n",
    "#     if _ % 20 == 0:\n",
    "#         print(_, \"\\n debug loss: \", loss.item(), \"\\n pred:\", \n",
    "#               pred.flatten().tolist(), \"\\n rewards: \", rewards.flatten().tolist())"
   ]
  },
  {
   "cell_type": "code",
   "execution_count": 13,
   "id": "aa6fffc0",
   "metadata": {},
   "outputs": [],
   "source": [
    "dist = self.policy(obs.to(device), obj_features.to(device))"
   ]
  },
  {
   "cell_type": "code",
   "execution_count": 14,
   "id": "a4b6e1a4",
   "metadata": {},
   "outputs": [
    {
     "data": {
      "text/plain": [
       "(tensor([[0.1245, 0.3667],\n",
       "         [0.0891, 0.3645],\n",
       "         [0.1043, 0.3513],\n",
       "         [0.0982, 0.3493],\n",
       "         [0.0723, 0.3286],\n",
       "         [0.0853, 0.3235]], device='cuda:0', grad_fn=<AddmmBackward0>),\n",
       " tensor([[0.5339, 0.4756],\n",
       "         [0.5521, 0.4969],\n",
       "         [0.5505, 0.5017],\n",
       "         [0.5622, 0.5049],\n",
       "         [0.5518, 0.5127],\n",
       "         [0.5967, 0.5297]], device='cuda:0', grad_fn=<ExpBackward0>))"
      ]
     },
     "execution_count": 14,
     "metadata": {},
     "output_type": "execute_result"
    }
   ],
   "source": [
    "dist.normal_mean, dist.stddev"
   ]
  },
  {
   "cell_type": "code",
   "execution_count": 25,
   "id": "55fdb9ba",
   "metadata": {},
   "outputs": [
    {
     "data": {
      "text/plain": [
       "tensor([[ 0.1772,  0.3092],\n",
       "        [-0.1434,  0.4958],\n",
       "        [ 0.1856,  0.3790],\n",
       "        [ 0.3934,  0.3446],\n",
       "        [-0.0539,  0.2383],\n",
       "        [ 0.0032,  0.2280]], device='cuda:0')"
      ]
     },
     "execution_count": 25,
     "metadata": {},
     "output_type": "execute_result"
    }
   ],
   "source": [
    "dist.sample(scaler = 0.2)"
   ]
  },
  {
   "cell_type": "code",
   "execution_count": null,
   "id": "6fa47896",
   "metadata": {},
   "outputs": [],
   "source": [
    "self = dist"
   ]
  },
  {
   "cell_type": "code",
   "execution_count": null,
   "id": "edef1bac",
   "metadata": {},
   "outputs": [],
   "source": [
    "scaler = 0.1"
   ]
  },
  {
   "cell_type": "code",
   "execution_count": null,
   "id": "f79d7bc0",
   "metadata": {},
   "outputs": [],
   "source": [
    "self.normal_mean + scaler * self.normal_std * MultivariateDiagonalNormal(\n",
    "    torch.zeros(self.normal_mean.size()).to(self.device),\n",
    "    torch.ones(self.normal_std.size()).to(self.device)\n",
    ").sample()"
   ]
  },
  {
   "cell_type": "markdown",
   "id": "8b9643df",
   "metadata": {},
   "source": [
    "# distribution"
   ]
  },
  {
   "cell_type": "code",
   "execution_count": null,
   "id": "be282f66",
   "metadata": {},
   "outputs": [],
   "source": [
    "from learning.distributions import MultivariateDiagonalNormal"
   ]
  },
  {
   "cell_type": "code",
   "execution_count": null,
   "id": "baba459b",
   "metadata": {},
   "outputs": [],
   "source": [
    "dist = JustNormal(dist.mean, dist.stddev)"
   ]
  },
  {
   "cell_type": "code",
   "execution_count": null,
   "id": "4e95ab7d",
   "metadata": {},
   "outputs": [],
   "source": [
    "dist.rsample_and_logprob()"
   ]
  },
  {
   "cell_type": "code",
   "execution_count": null,
   "id": "148bf0bc",
   "metadata": {},
   "outputs": [],
   "source": []
  }
 ],
 "metadata": {
  "kernelspec": {
   "display_name": "Isaac Sim Python 3",
   "language": "python",
   "name": "isaac_sim_python3"
  },
  "language_info": {
   "codemirror_mode": {
    "name": "ipython",
    "version": 3
   },
   "file_extension": ".py",
   "mimetype": "text/x-python",
   "name": "python",
   "nbconvert_exporter": "python",
   "pygments_lexer": "ipython3",
   "version": "3.7.13"
  }
 },
 "nbformat": 4,
 "nbformat_minor": 5
}
