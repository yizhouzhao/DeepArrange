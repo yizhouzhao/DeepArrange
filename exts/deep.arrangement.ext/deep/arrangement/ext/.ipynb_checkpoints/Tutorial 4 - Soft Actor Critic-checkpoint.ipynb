{
 "cells": [
  {
   "cell_type": "markdown",
   "id": "a4e7074e",
   "metadata": {},
   "source": [
    "# Start Simulation"
   ]
  },
  {
   "cell_type": "code",
   "execution_count": 1,
   "id": "3fe18b05",
   "metadata": {},
   "outputs": [],
   "source": [
    "import random\n",
    "import numpy as np\n",
    "import os\n",
    "import time\n",
    "from PIL import Image\n",
    "\n",
    "import torch\n",
    "torch.__version__\n",
    "device = torch.device(\"cuda\")"
   ]
  },
  {
   "cell_type": "code",
   "execution_count": 2,
   "id": "0137c535",
   "metadata": {},
   "outputs": [
    {
     "name": "stdout",
     "output_type": "stream",
     "text": [
      "yizhou\n"
     ]
    }
   ],
   "source": [
    "import getpass\n",
    "user = getpass.getuser()\n",
    "print(user)"
   ]
  },
  {
   "cell_type": "code",
   "execution_count": 3,
   "id": "b9d56ea3",
   "metadata": {},
   "outputs": [],
   "source": [
    "usd_path = f\"omniverse://localhost/Users/{user}/uva_sac.usd\""
   ]
  },
  {
   "cell_type": "code",
   "execution_count": 4,
   "id": "d7e8d7fe",
   "metadata": {
    "scrolled": true
   },
   "outputs": [
    {
     "name": "stdout",
     "output_type": "stream",
     "text": [
      "Starting kit application with the fillowing args:  ['/home/yizhou/.local/share/ov/pkg/isaac_sim-2022.1.1/exts/omni.isaac.kit/omni/isaac/kit/simulation_app.py', '/home/yizhou/.local/share/ov/pkg/isaac_sim-2022.1.1/apps/omni.isaac.sim.python.kit', '--/app/tokens/exe-path=/home/yizhou/.local/share/ov/pkg/isaac_sim-2022.1.1/kit', '--/persistent/app/viewport/displayOptions=3094', '--/rtx/materialDb/syncLoads=True', '--/rtx/hydra/materialSyncLoads=True--/omni.kit.plugin/syncUsdLoads=True', '--/app/renderer/resolution/width=1280', '--/app/renderer/resolution/height=720', '--/app/window/width=1440', '--/app/window/height=900', '--/renderer/multiGpu/enabled=True', '--ext-folder', '/home/yizhou/.local/share/ov/pkg/isaac_sim-2022.1.1/exts', '--ext-folder', '/home/yizhou/.local/share/ov/pkg/isaac_sim-2022.1.1/apps', '--/physics/cudaDevice=0', '--portable', '--no-window']\n",
      "Passing the following args to the base kit application:  ['-f', '/home/yizhou/.local/share/jupyter/runtime/kernel-2fed25f9-a2d9-490a-aed1-cdc2ef51b80f.json']\n",
      "[Warning] [omni.kit.app.plugin] No crash reporter present, dumps uploading isn't available.\n",
      "[Info] [carb] Logging to file: /home/yizhou/.local/share/ov/pkg/isaac_sim-2022.1.1/kit/logs/Kit/Isaac-Sim/2022.1/kit_20221224_103119.log\n",
      "2022-12-24 18:31:19 [4ms] [Warning] [omni.ext.plugin] [ext: omni.drivesim.sensors.nv.lidar] Extensions config 'extension.toml' doesn't exist '/home/yizhou/.local/share/ov/pkg/isaac_sim-2022.1.1/exts/omni.drivesim.sensors.nv.lidar' or '/home/yizhou/.local/share/ov/pkg/isaac_sim-2022.1.1/exts/omni.drivesim.sensors.nv.lidar/config'\n",
      "[0.084s] [ext: omni.stats-0.0.0] startup\n",
      "[0.130s] [ext: omni.gpu_foundation-0.0.0] startup\n",
      "2022-12-24 18:31:19 [129ms] [Warning] [carb] FrameworkImpl::setDefaultPlugin(client: omni.gpu_foundation_factory.plugin, desc : [carb::graphics::Graphics v2.5], plugin : carb.graphics-vulkan.plugin) failed. Plugin selection is locked, because the interface was previously acquired by: \n",
      "[0.139s] [ext: carb.windowing.plugins-1.0.0] startup\n",
      "[0.151s] [ext: omni.assets.plugins-0.0.0] startup\n",
      "[0.152s] [ext: omni.kit.renderer.init-0.0.0] startup\n",
      "\n",
      "|---------------------------------------------------------------------------------------------|\n",
      "| Driver Version: 510.108.3     | Graphics API: Vulkan\n",
      "|=============================================================================================|\n",
      "| GPU | Name                             | Active | LDA | GPU Memory | Vendor-ID | LUID       |\n",
      "|     |                                  |        |     |            | Device-ID | UUID       |\n",
      "|---------------------------------------------------------------------------------------------|\n",
      "| 0   | NVIDIA GeForce RTX 3090          | Yes: 0 |     | 24822   MB | 10de      | 0          |\n",
      "|     |                                  |        |     |            | 2204      | 3f50dd6e.. |\n",
      "|=============================================================================================|\n",
      "| OS: Linux yizhou-Z370-AORUS-Gaming-5, Version: 5.15.0-56-generic\n",
      "| Processor: Intel(R) Core(TM) i7-8700K CPU @ 3.70GHz | Cores: Unknown | Logical: 12\n",
      "|---------------------------------------------------------------------------------------------|\n",
      "| Total Memory (MB): 32044 | Free Memory: 27156\n",
      "| Total Page/Swap (MB): 2047 | Free Page/Swap: 2047\n",
      "|---------------------------------------------------------------------------------------------|\n",
      "2022-12-24 18:31:20 [876ms] [Warning] [carb.cudainterop.plugin] On Linux only, CUDA and the display driver does not support IOMMU-enabled bare-metal PCIe peer to peer memory copy.\n",
      "However, CUDA and the display driver does support IOMMU via VM pass through. As a consequence, users on Linux,\n",
      "when running on a native bare metal system, should disable the IOMMU. The IOMMU should be enabled and the VFIO driver\n",
      "be used as a PCIe pass through for virtual machines.\n",
      "[0.897s] [ext: omni.kit.pipapi-0.0.0] startup\n",
      "[0.907s] [ext: omni.kit.pip_archive-0.0.0] startup\n",
      "[0.911s] [ext: omni.isaac.core_archive-1.2.0] startup\n",
      "[0.929s] [ext: omni.usd.config-1.0.0] startup\n",
      "[0.931s] [ext: omni.usd.libs-1.0.0] startup\n",
      "[1.059s] [ext: omni.kit.pip_torch-1_11_0-0.1.3] startup\n",
      "[1.091s] [ext: omni.isaac.ml_archive-1.1.0] startup\n",
      "[1.160s] [ext: omni.kit.loop-isaac-0.1.0] startup\n",
      "[1.160s] [ext: omni.kit.async_engine-0.0.0] startup\n",
      "[1.162s] [ext: omni.appwindow-1.0.0] startup\n",
      "[1.167s] [ext: omni.client-0.1.0] startup\n",
      "[1.180s] [ext: omni.kit.test-0.0.0] startup\n",
      "[1.181s] [ext: omni.kit.renderer.core-0.0.0] startup\n",
      "[1.253s] [ext: omni.ui-2.10.3] startup\n",
      "[1.270s] [ext: carb.audio-0.1.0] startup\n",
      "[1.273s] [ext: omni.kit.mainwindow-0.0.0] startup\n",
      "[1.275s] [ext: omni.uiaudio-1.0.0] startup\n",
      "[1.276s] [ext: omni.kit.uiapp-0.0.0] startup\n",
      "[1.276s] [ext: omni.usd.schema.physics-1.0.0] startup\n",
      "[1.319s] [ext: omni.usd.schema.audio-0.0.0] startup\n",
      "[1.326s] [ext: omni.usd.schema.semantics-0.0.0] startup\n",
      "[1.337s] [ext: omni.usd.schema.omnigraph-1.0.0] startup\n",
      "[1.347s] [ext: omni.usd.schema.anim-0.0.0] startup\n",
      "[1.388s] [ext: omni.kit.commands-1.2.2] startup\n",
      "[1.393s] [ext: omni.timeline-1.0.2] startup\n",
      "[1.395s] [ext: omni.hydra.scene_delegate-0.2.0] startup\n",
      "[1.403s] [ext: omni.kit.audiodeviceenum-1.0.0] startup\n",
      "[1.405s] [ext: omni.usd-1.5.3] startup\n",
      "[1.462s] [ext: omni.kit.asset_converter-1.2.31] startup\n",
      "[1.477s] [ext: omni.usd.schema.physx-0.0.0] startup\n",
      "[1.545s] [ext: omni.usd.schema.isaac-0.2.0] startup\n",
      "[1.587s] [ext: omni.usd.schema.forcefield-0.0.0] startup\n",
      "[1.595s] [ext: omni.kvdb-0.0.0] startup\n",
      "[1.597s] [ext: omni.usdphysics-1.4.15] startup\n",
      "[1.601s] [ext: omni.graph.tools-1.4.0] startup\n",
      "[1.625s] [ext: omni.localcache-0.0.0] startup\n",
      "[1.628s] [ext: omni.kit.stage_templates-1.1.2] startup\n",
      "[1.630s] [ext: omni.convexdecomposition-1.4.15] startup\n",
      "[1.633s] [ext: omni.physics.tensors-0.1.0] startup\n",
      "[1.640s] [ext: omni.physx-1.4.15-5.1] startup\n",
      "[1.690s] [ext: omni.graph.core-2.29.1] startup\n",
      "[1.709s] [ext: omni.kit.menu.utils-1.2.11] startup\n",
      "[1.727s] [ext: omni.physx.tensors-0.1.0] startup\n",
      "[1.734s] [ext: omni.graph-1.23.0] startup\n",
      "[1.784s] [ext: omni.kit.numpy.common-0.1.0] startup\n",
      "[1.786s] [ext: omni.kit.window.script_editor-1.6.2] startup\n",
      "[1.799s] [ext: omni.kit.search_core-1.0.2] startup\n",
      "[1.802s] [ext: omni.isaac.dynamic_control-1.1.0] startup\n",
      "[1.811s] [ext: omni.kit.renderer.capture-0.0.0] startup\n",
      "[1.816s] [ext: omni.kit.widget.filebrowser-2.2.27] startup\n",
      "[1.823s] [ext: omni.kit.widget.path_field-2.0.3] startup\n",
      "[1.825s] [ext: omni.kit.notification_manager-1.0.5] startup\n",
      "[1.827s] [ext: omni.kit.widget.versioning-1.3.8] startup\n",
      "[1.829s] [ext: omni.kit.widget.browser_bar-2.0.3] startup\n",
      "[1.831s] [ext: omni.kit.window.popup_dialog-2.0.8] startup\n",
      "[1.833s] [ext: omni.mdl.neuraylib-0.1.0] startup\n",
      "[1.836s] [ext: omni.kit.window.filepicker-2.4.30] startup\n"
     ]
    },
    {
     "name": "stderr",
     "output_type": "stream",
     "text": [
      "OmniAssetFileFormat\n"
     ]
    },
    {
     "name": "stdout",
     "output_type": "stream",
     "text": [
      "Warp initialized:\n",
      "   Version: 0.2.2\n",
      "   CUDA device: NVIDIA GeForce RTX 3090\n",
      "   Kernel cache: /home/yizhou/.cache/warp/0.2.2\n",
      "[1.890s] [ext: omni.kit.menu.create-1.0.2] startup\n",
      "[1.891s] [ext: omni.mdl-0.1.0] startup\n",
      "[1.914s] [ext: omni.kit.window.file_importer-1.0.4] startup\n",
      "[1.915s] [ext: omni.kit.window.file_exporter-1.0.4] startup\n",
      "[1.917s] [ext: omni.kit.material.library-1.3.10] startup\n",
      "[1.922s] [ext: omni.kit.window.drop_support-1.0.0] startup\n",
      "[1.923s] [ext: omni.kit.window.file-1.3.16] startup\n",
      "[1.925s] [ext: omni.kit.context_menu-1.3.9] startup\n",
      "[1.929s] [ext: omni.kit.window.property-1.6.3] startup\n",
      "[1.930s] [ext: omni.kit.window.content_browser-2.4.28] startup\n",
      "[1.941s] [ext: omni.kit.widget.stage-2.6.15] startup\n",
      "[1.945s] [ext: omni.isaac.version-1.0.0] startup\n",
      "[1.946s] [ext: omni.kit.property.usd-3.14.9] startup\n",
      "[1.981s] [ext: omni.kit.viewport.legacy_gizmos-1.0.0] startup\n",
      "[1.984s] [ext: omni.hydra.rtx-0.1.0] startup\n",
      "[1.995s] [ext: omni.renderer-rtx-0.0.0] startup\n",
      "[1.995s] [ext: omni.hydra.engine.stats-1.0.0] startup\n",
      "[2.002s] [ext: omni.debugdraw-0.1.0] startup\n",
      "[2.008s] [ext: omni.kit.widget.settings-1.0.0] startup\n",
      "[2.009s] [ext: omni.kit.window.viewport-0.0.0] startup\n",
      "[6.331s] [ext: omni.kit.widget.prompt-1.0.1] startup\n",
      "[6.332s] [ext: omni.kit.widget.graph-1.4.3] startup\n",
      "[6.403s] [ext: omni.kit.window.preferences-1.2.1] startup\n",
      "[6.443s] [ext: omni.ui_query-1.1.1] startup\n",
      "[6.446s] [ext: omni.graph.ui-1.6.1] startup\n",
      "[6.474s] [ext: omni.kit.ui_test-1.2.2] startup\n",
      "[6.476s] [ext: omni.graph.action-1.18.0] startup\n",
      "[6.489s] [ext: omni.kit.widget.searchfield-1.0.6] startup\n",
      "[6.490s] [ext: omni.kit.usd_undo-0.1.0] startup\n",
      "[6.492s] [ext: omni.graph.scriptnode-0.5.0] startup\n",
      "[6.494s] [ext: omni.physx.commands-1.4.15-5.1] startup\n",
      "[6.500s] [ext: omni.graph.nodes-1.26.0] startup\n",
      "[6.520s] [ext: omni.command.usd-1.0.1] startup\n",
      "[6.523s] [ext: omni.kit.window.extensions-1.1.0] startup\n",
      "[6.529s] [ext: omni.syntheticdata-0.2.1] startup\n",
      "[6.554s] [ext: omni.kit.primitive.mesh-1.0.0] startup\n",
      "[6.558s] [ext: omni.warp-0.2.2] startup\n",
      "[6.701s] [ext: omni.isaac.ui-0.2.1] startup\n",
      "[6.703s] [ext: omni.replicator.core-1.4.3] startup\n",
      "[6.915s] [ext: omni.isaac.core-1.24.3] startup\n",
      "[7.007s] [ext: omni.physx.ui-1.4.15-5.1] startup\n",
      "[7.090s] [ext: omni.kit.property.material-1.8.5] startup\n",
      "[7.094s] [ext: omni.kit.window.toolbar-1.2.4] startup\n",
      "[7.101s] [ext: omni.isaac.core_nodes-0.13.0] startup\n",
      "[7.115s] [ext: omni.physx.demos-1.4.15-5.1] startup\n",
      "[7.119s] [ext: omni.kit.property.physx-0.1.0] startup\n",
      "2022-12-24 18:31:26 [7,182ms] [Warning] [omni.physx.plugin] Deprecated: getSimulationEventStream is deprecated, please use getSimulationEventStreamV2\n",
      "[7.192s] [ext: omni.physx.tests-1.4.15-5.1] startup\n",
      "[7.466s] [ext: omni.isaac.wheeled_robots-0.5.8] startup\n",
      "[7.476s] [ext: omni.kit.menu.common-1.0.0] startup\n",
      "[7.477s] [ext: omni.physx.vehicle-1.4.15-5.1] startup\n",
      "[7.489s] [ext: omni.physx.cct-1.4.15-5.1] startup\n",
      "[7.565s] [ext: omni.physx.camera-1.4.15-5.1] startup\n",
      "[7.573s] [ext: omni.kit.widget.stage_icons-1.0.2] startup\n",
      "[7.574s] [ext: omni.ui.scene-1.5.0] startup\n",
      "[7.580s] [ext: omni.physx.bundle-1.4.15-5.1] startup\n",
      "[7.580s] [ext: omni.kit.window.stage-2.3.7] startup\n",
      "[7.583s] [ext: omni.replicator.composer-1.1.3] startup\n",
      "[7.599s] [ext: omni.isaac.lula-1.1.0] startup\n",
      "[7.608s] [ext: omni.rtx.window.settings-0.6.1] startup\n",
      "[7.613s] [ext: omni.isaac.surface_gripper-0.1.2] startup\n",
      "[7.618s] [ext: omni.isaac.motion_planning-0.2.0] startup\n",
      "[7.626s] [ext: omni.rtx.settings.core-0.5.5] startup\n",
      "[7.631s] [ext: omni.isaac.manipulators-1.0.1] startup\n",
      "[7.632s] [ext: omni.isaac.motion_generation-3.6.1] startup\n",
      "[7.638s] [ext: omni.kit.widget.zoombar-1.0.3] startup\n",
      "[7.639s] [ext: omni.kit.graph.delegate.default-1.0.15] startup\n",
      "[7.641s] [ext: omni.isaac.franka-0.3.0] startup\n",
      "[7.642s] [ext: omni.kit.browser.core-2.0.12] startup\n",
      "[7.646s] [ext: omni.kit.graph.editor.core-1.3.3] startup\n",
      "[7.648s] [ext: omni.kit.graph.usd.commands-1.1.0] startup\n",
      "[7.649s] [ext: omni.kit.browser.folder.core-1.1.13] startup\n",
      "[7.652s] [ext: omni.kit.graph.widget.variables-2.0.2] startup\n",
      "[7.653s] [ext: omni.kit.graph.delegate.modern-1.6.0] startup\n",
      "[7.654s] [ext: omni.kit.selection-0.1.0] startup\n",
      "[7.655s] [ext: omni.isaac.debug_draw-0.Opening usd file at  omniverse://localhost/Users/yizhou/uva_sac.usd  ...Done.\n",
      "Saving a temp livesync stage at  omniverse://localhost/Users/yizhou/uva_sac.usd  ...Done.\n"
     ]
    }
   ],
   "source": [
    "from omni.isaac.kit import SimulationApp    \n",
    "simulation_app = SimulationApp({\"headless\": True, \"open_usd\": usd_path,  \"livesync_usd\": usd_path}) "
   ]
  },
  {
   "cell_type": "code",
   "execution_count": 5,
   "id": "3e0e266e",
   "metadata": {},
   "outputs": [],
   "source": [
    "# set log level\n",
    "import logging\n",
    "import carb\n",
    "\n",
    "logging.getLogger(\"omni.hydra\").setLevel(logging.ERROR)\n",
    "logging.getLogger(\"omni.isaac.urdf\").setLevel(logging.ERROR)\n",
    "logging.getLogger(\"omni.physx.plugin\").setLevel(logging.ERROR)\n",
    "\n",
    "logging.getLogger(\"omni.isaac.synthetic_utils\").setLevel(logging.ERROR)\n",
    "logging.getLogger(\"omni.isaac.synthetic_utils.syntheticdata\").setLevel(logging.ERROR)\n",
    "logging.getLogger(\"omni.hydra.scene_delegate.plugin\").setLevel(logging.ERROR)\n",
    "\n",
    "\n",
    "l = carb.logging.LEVEL_ERROR\n",
    "carb.settings.get_settings().set(\"/log/level\", l)\n",
    "carb.settings.get_settings().set(\"/log/fileLogLevel\", l)\n",
    "carb.settings.get_settings().set(\"/log/outputStreamLevel\", l)\n",
    "\n",
    "# # This logged error is printed as it should\n",
    "# carb.log_error(\"ERROR\")\n",
    "# # This warning is printed but should not\n",
    "# carb.log_warn(\"WARNING\")"
   ]
  },
  {
   "cell_type": "markdown",
   "id": "be34671d",
   "metadata": {},
   "source": [
    "# Config"
   ]
  },
  {
   "cell_type": "code",
   "execution_count": 6,
   "id": "491f4078",
   "metadata": {},
   "outputs": [],
   "source": [
    "from task.config import DATA_PATH, FEATURE_PATH\n",
    "task_type = \"Table\"\n",
    "side_choice = \"Border\"\n",
    "base_asset_id = 0\n",
    "load_nucleus = True"
   ]
  },
  {
   "cell_type": "code",
   "execution_count": 7,
   "id": "eadd32bf",
   "metadata": {},
   "outputs": [
    {
     "ename": "NameError",
     "evalue": "name 'pause' is not defined",
     "output_type": "error",
     "traceback": [
      "\u001b[0;31m---------------------------------------------------------------------------\u001b[0m",
      "\u001b[0;31mNameError\u001b[0m                                 Traceback (most recent call last)",
      "\u001b[0;32m/tmp/ipykernel_11192/1188747208.py\u001b[0m in \u001b[0;36m<module>\u001b[0;34m\u001b[0m\n\u001b[0;32m----> 1\u001b[0;31m \u001b[0mpause\u001b[0m\u001b[0;34m\u001b[0m\u001b[0;34m\u001b[0m\u001b[0m\n\u001b[0m",
      "\u001b[0;31mNameError\u001b[0m: name 'pause' is not defined"
     ]
    }
   ],
   "source": [
    "pause"
   ]
  },
  {
   "cell_type": "markdown",
   "id": "7475ee6a",
   "metadata": {},
   "source": [
    "# Init Env"
   ]
  },
  {
   "cell_type": "code",
   "execution_count": null,
   "id": "9a6fd193",
   "metadata": {},
   "outputs": [],
   "source": [
    "from uva_env import UvaEnv\n",
    "env = UvaEnv()"
   ]
  },
  {
   "cell_type": "code",
   "execution_count": null,
   "id": "d3e665fe",
   "metadata": {},
   "outputs": [],
   "source": [
    "from task.utils import add_scene_default\n",
    "add_scene_default()"
   ]
  },
  {
   "cell_type": "code",
   "execution_count": null,
   "id": "4c55eb32",
   "metadata": {
    "scrolled": true
   },
   "outputs": [],
   "source": [
    "print(list(env.stage.TraverseAll()))"
   ]
  },
  {
   "cell_type": "code",
   "execution_count": null,
   "id": "feaeb7d0",
   "metadata": {},
   "outputs": [],
   "source": [
    "env.clean()\n",
    "env.world.step(render=True)"
   ]
  },
  {
   "cell_type": "markdown",
   "id": "d3c365e3",
   "metadata": {},
   "source": [
    "# Scene"
   ]
  },
  {
   "cell_type": "code",
   "execution_count": null,
   "id": "19d7b119",
   "metadata": {},
   "outputs": [],
   "source": [
    "from task.scene import ArrangeScene\n",
    "scene = ArrangeScene(task_type, side_choice, base_asset_id = 0, traj_id = 0, load_nucleus = load_nucleus)\n",
    "env.scene = scene"
   ]
  },
  {
   "cell_type": "code",
   "execution_count": null,
   "id": "fae909b6",
   "metadata": {},
   "outputs": [],
   "source": [
    "# add base\n",
    "scene.add_base_asset()"
   ]
  },
  {
   "cell_type": "code",
   "execution_count": null,
   "id": "a7e1de8b",
   "metadata": {},
   "outputs": [],
   "source": [
    "# add room\n",
    "# scene.add_room()"
   ]
  },
  {
   "cell_type": "code",
   "execution_count": null,
   "id": "99481529",
   "metadata": {},
   "outputs": [],
   "source": [
    "env.world.step(render=True)"
   ]
  },
  {
   "cell_type": "markdown",
   "id": "bfd24034",
   "metadata": {},
   "source": [
    "# Reward"
   ]
  },
  {
   "cell_type": "code",
   "execution_count": null,
   "id": "b81a65bf",
   "metadata": {},
   "outputs": [],
   "source": [
    "from uv.reward import Rewarder"
   ]
  },
  {
   "cell_type": "code",
   "execution_count": null,
   "id": "35761844",
   "metadata": {},
   "outputs": [],
   "source": [
    "rewarder = Rewarder(env.world)\n",
    "env.rewarder = rewarder"
   ]
  },
  {
   "cell_type": "markdown",
   "id": "27c8bada",
   "metadata": {},
   "source": [
    "# Render"
   ]
  },
  {
   "cell_type": "code",
   "execution_count": null,
   "id": "fba7340e",
   "metadata": {},
   "outputs": [],
   "source": [
    "from render.helper import RenderHelper\n",
    "render = RenderHelper(task_type, side_choice)\n",
    "\n",
    "render.add_task_cameras()\n",
    "render.set_cameras()"
   ]
  },
  {
   "cell_type": "code",
   "execution_count": null,
   "id": "56d05f4a",
   "metadata": {
    "scrolled": true
   },
   "outputs": [],
   "source": [
    "pause"
   ]
  },
  {
   "cell_type": "markdown",
   "id": "69faba50",
   "metadata": {},
   "source": [
    "#  Learning"
   ]
  },
  {
   "cell_type": "code",
   "execution_count": null,
   "id": "785c3dc5",
   "metadata": {},
   "outputs": [],
   "source": [
    "# from learning.network.resnet import ResNetFeatureExtractor\n",
    "\n",
    "# feature extraction\n",
    "from learning.utils import extract_image_clip_feature_and_save, obtain_action_from_trainer\n",
    "from transformers import CLIPProcessor, CLIPModel\n",
    "\n",
    "feature_model = CLIPModel.from_pretrained(\"openai/clip-vit-base-patch32\").to(device)\n",
    "feature_processor = CLIPProcessor.from_pretrained(\"openai/clip-vit-base-patch32\")"
   ]
  },
  {
   "cell_type": "code",
   "execution_count": null,
   "id": "958da617",
   "metadata": {},
   "outputs": [],
   "source": [
    "# replay buffer\n",
    "import json\n",
    "from learning.replay_buffer import ReplayBuffer\n",
    "from learning.config import *\n",
    "\n",
    "buffer = ReplayBuffer(max_size=2000)"
   ]
  },
  {
   "cell_type": "code",
   "execution_count": null,
   "id": "a7314c94",
   "metadata": {},
   "outputs": [],
   "source": [
    "# trainer\n",
    "from learning.network.sac import *\n",
    "\n",
    "policy = Policy()\n",
    "\n",
    "qf1 = QFunction()\n",
    "qf2 = QFunction()\n",
    "target_qf1 = QFunction()\n",
    "target_qf2 = QFunction()\n",
    "\n",
    "from learning.sac_trainer import SACTrainer\n",
    "\n",
    "trainer = SACTrainer(policy, qf1, qf2, target_qf1, target_qf2, \n",
    "     use_automatic_entropy_tuning = False, \n",
    "     policy_lr=1e-3, \n",
    "     qf_lr=1e-3,\n",
    "     target_update_period = 5)"
   ]
  },
  {
   "cell_type": "markdown",
   "id": "a93eef8c",
   "metadata": {},
   "source": [
    "# Trajectory"
   ]
  },
  {
   "cell_type": "code",
   "execution_count": null,
   "id": "e28e6ec5",
   "metadata": {},
   "outputs": [],
   "source": [
    "use_network = True\n",
    "debug = True"
   ]
  },
  {
   "cell_type": "code",
   "execution_count": null,
   "id": "2707b5f0",
   "metadata": {},
   "outputs": [],
   "source": [
    "total_traj = 0\n",
    "total_step = 0"
   ]
  },
  {
   "cell_type": "markdown",
   "id": "33335313",
   "metadata": {},
   "source": [
    "---------------------"
   ]
  },
  {
   "cell_type": "code",
   "execution_count": null,
   "id": "d9049e66",
   "metadata": {},
   "outputs": [],
   "source": [
    "# traj config\n",
    "for traj_id in range(200):\n",
    "    total_traj += 1\n",
    "    \n",
    "    base_asset_id = 0\n",
    "    env.scene.base_asset_id = base_asset_id\n",
    "    env.scene.traj_id = traj_id\n",
    "    image_folder = os.path.join(DATA_PATH, task_type, side_choice, str(traj_id))\n",
    "\n",
    "    # base\n",
    "    # scene.add_base_asset()\n",
    "    env.world.step(render = True)\n",
    "\n",
    "    # get images\n",
    "    env.world.render()\n",
    "    images = render.get_images()\n",
    "    render.save_rgb(images[0]['rgb'], image_folder, \"0\")\n",
    "    \n",
    "    ## extract feature\n",
    "    \n",
    "#     extract_image_feature_and_save(images[0]['rgb'][:,:,:3], \n",
    "#         feature_extractor, os.path.join(image_folder, str(0) + \".pt\"))\n",
    "    extract_image_clip_feature_and_save(f\"{image_folder}/{0}.png\", feature_model, feature_processor, \n",
    "        f\"{image_folder}/{0}.pt\",)\n",
    "    \n",
    "\n",
    "    # trajectory\n",
    "    for step in range(5):\n",
    "        total_step += 1\n",
    "        \n",
    "        # sample an object\n",
    "        env.add_scene_obj(mode = \"random\")\n",
    "        \n",
    "        # TODO: get action from sampling\n",
    "        if not use_network or total_traj < 10 or np.random.rand() < 0.2:\n",
    "            x, y = np.tanh(np.random.randn()), np.tanh(np.random.randn())\n",
    "        else:\n",
    "            image_feature_file = f\"{image_folder}/{step}.pt\"\n",
    "            \n",
    "            object_info = env.scene.objects[-1]\n",
    "            object_type = object_info[\"type\"]\n",
    "            obj_name = object_info[\"name\"][:-4]\n",
    "            object_feature_file = os.path.join(FEATURE_PATH, object_type, obj_name + \".pt\")\n",
    "            x, y = obtain_action_from_trainer(image_feature_file, object_feature_file, trainer)\n",
    "        \n",
    "        # load the object into the scene\n",
    "        env.put_last_object((x, y)) \n",
    "        env.world.step(render=True)\n",
    "        \n",
    "        # register the object to the world for physics update\n",
    "        env.register_last_object()\n",
    "        env.world.step(render=True)\n",
    "\n",
    "        # get images\n",
    "        env.world.render()\n",
    "        images = render.get_images()\n",
    "        render.save_rgb(images[0]['rgb'], image_folder, str(step + 1))\n",
    "\n",
    "        ## calculate reward\n",
    "        env.calculate_last_reward(simulation_step = 30)\n",
    "        \n",
    "        ## extract feature\n",
    "#         extract_image_feature_and_save(images[0]['rgb'][:,:,:3], \n",
    "#             feature_extractor, os.path.join(image_folder, str(step + 1) + \".pt\"))\n",
    "        extract_image_clip_feature_and_save(f\"{image_folder}/{step + 1}.png\", feature_model, feature_processor, \n",
    "            f\"{image_folder}/{step + 1}.pt\",)\n",
    "    \n",
    "\n",
    "        ## reset\n",
    "        env.world.reset()\n",
    "        env.world.step(render=True)\n",
    "        \n",
    "        ## trainer nework\n",
    "        if use_network and total_step % UPDATE_TRAINER_STEPS == 0 and total_traj > 5:\n",
    "            batch = buffer.sample_batch(batch_size = BATCH_SIZE)\n",
    "            trainer.update(batch)\n",
    "            \n",
    "            if debug:\n",
    "                rewards = batch['rewards'].to(device)\n",
    "                terminals = batch['terminals'].to(device)\n",
    "                obs = batch['observations'].to(device)\n",
    "                actions = batch['actions'].to(device)\n",
    "                next_obs = batch['next_observations'].to(device)\n",
    "                obj_features = batch['object_features'].to(device)\n",
    "                \n",
    "                dist = trainer.policy(obs, obj_features)\n",
    "                pred = trainer.qf1(obs, obj_features, actions)\n",
    "                print(f\"debug {total_traj}/{total_step}\", #\"\\n dist: \", dist.mean.flatten().tolist(), dist.stddev.flatten().tolist(),\n",
    "                      \"\\n pred:\", pred.flatten().tolist(),\n",
    "                      \"\\n rewards: \", rewards.flatten().tolist())\n",
    "\n",
    "\n",
    "    # Record\n",
    "    record = env.scene.get_scene_data()\n",
    "    env.scene.save_scene_data()\n",
    "    # print(\"record: \", record)\n",
    "    \n",
    "    # Add record to buffer\n",
    "    buffer.add_scene_sample(record)\n",
    "\n",
    "    # Reset (env clean)\n",
    "    env.clean(clean_all = False)\n",
    "    env.step(render = True)"
   ]
  },
  {
   "cell_type": "markdown",
   "id": "11155e93",
   "metadata": {},
   "source": [
    "# Debug"
   ]
  },
  {
   "cell_type": "code",
   "execution_count": null,
   "id": "a3c0bdec",
   "metadata": {},
   "outputs": [],
   "source": [
    "# get images\n",
    "env.world.render()\n",
    "env.world.render()\n",
    "images = render.get_images()\n",
    "\n",
    "Image.fromarray(images[0]['rgb'], \"RGBA\").resize((300, 300))"
   ]
  },
  {
   "cell_type": "markdown",
   "id": "9d3687f5",
   "metadata": {},
   "source": [
    "##  Debug Training"
   ]
  },
  {
   "cell_type": "code",
   "execution_count": null,
   "id": "a8d01e0a",
   "metadata": {},
   "outputs": [],
   "source": [
    "import json\n",
    "from learning.replay_buffer import ReplayBuffer\n",
    "\n",
    "buffer = ReplayBuffer(max_size=1000)\n",
    "\n",
    "for i in range(100):\n",
    "    replay = json.load(open(f\"{DATA_PATH}/{task_type}/{side_choice}/{i}/scene.json\"))\n",
    "    buffer.add_scene_sample(replay)"
   ]
  },
  {
   "cell_type": "code",
   "execution_count": null,
   "id": "bec87318",
   "metadata": {
    "scrolled": true
   },
   "outputs": [],
   "source": [
    "len(buffer.dataset)"
   ]
  },
  {
   "cell_type": "code",
   "execution_count": null,
   "id": "b3e91c40",
   "metadata": {},
   "outputs": [],
   "source": [
    "# trainer\n",
    "from learning.network.sac import *\n",
    "\n",
    "policy = Policy()\n",
    "\n",
    "qf1 = QFunction()\n",
    "qf2 = QFunction()\n",
    "\n",
    "target_qf1 = QFunction()\n",
    "target_qf1.eval()\n",
    "\n",
    "target_qf2 = QFunction()\n",
    "target_qf2.eval()\n",
    "\n",
    "from learning.sac_trainer import SACTrainer\n",
    "\n",
    "trainer = SACTrainer(policy, qf1, qf2, target_qf1, target_qf2, \n",
    "     use_automatic_entropy_tuning = True, \n",
    "     policy_lr=1e-3, \n",
    "     qf_lr=1e-3,\n",
    "     target_update_period = 5)"
   ]
  },
  {
   "cell_type": "code",
   "execution_count": null,
   "id": "0acc75a9",
   "metadata": {},
   "outputs": [],
   "source": [
    "self = trainer"
   ]
  },
  {
   "cell_type": "code",
   "execution_count": null,
   "id": "be95f838",
   "metadata": {
    "scrolled": true
   },
   "outputs": [],
   "source": [
    "for _ in range(500):\n",
    "    batch = buffer.sample_batch(batch_size=6)\n",
    "\n",
    "    rewards = batch['rewards'].to(device)\n",
    "    terminals = batch['terminals'].to(device)\n",
    "    obs = batch['observations'].to(device)\n",
    "    actions = batch['actions'].to(device)\n",
    "    next_obs = batch['next_observations'].to(device)\n",
    "\n",
    "    obj_features = batch['object_features'].to(device)\n",
    "\n",
    "    # print(\"rewards\", rewards)\n",
    "\n",
    "    self.update(batch)\n",
    "    \n",
    "    if _ % 10 == 0:\n",
    "        dist = self.policy(obs, obj_features)\n",
    "        pred = self.qf1(obs, obj_features, actions)\n",
    "        print(_, \"\\n dist   : \", [round(x, 3) for x in dist.mean.flatten().tolist()], \n",
    "                  [round(x, 3) for x in dist.stddev.flatten().tolist()],\n",
    "              \"\\n pred   :\", [round(x, 3) for x in pred.flatten().tolist()],\n",
    "              \"\\n rewards: \", [round(x, 3) for x in rewards.flatten().tolist()])\n",
    "    \n",
    "#     # debug\n",
    "#     pred = self.qf1(obs, obj_features, actions)\n",
    "#     loss = self.qf_criterion(pred, rewards)\n",
    "    \n",
    "#     self.qf1_optimizer.zero_grad()\n",
    "#     loss.backward()\n",
    "#     self.qf1_optimizer.step()\n",
    "    \n",
    "#     if _ % 20 == 0:\n",
    "#         print(_, \"\\n debug loss: \", loss.item(), \"\\n pred:\", \n",
    "#               pred.flatten().tolist(), \"\\n rewards: \", rewards.flatten().tolist())"
   ]
  },
  {
   "cell_type": "code",
   "execution_count": null,
   "id": "aa6fffc0",
   "metadata": {},
   "outputs": [],
   "source": [
    "dist = self.policy(obs.to(device), obj_features.to(device))"
   ]
  },
  {
   "cell_type": "code",
   "execution_count": null,
   "id": "55fdb9ba",
   "metadata": {},
   "outputs": [],
   "source": [
    "dist.sample()"
   ]
  },
  {
   "cell_type": "code",
   "execution_count": null,
   "id": "6fa47896",
   "metadata": {},
   "outputs": [],
   "source": []
  }
 ],
 "metadata": {
  "kernelspec": {
   "display_name": "Isaac Sim Python 3",
   "language": "python",
   "name": "isaac_sim_python3"
  },
  "language_info": {
   "codemirror_mode": {
    "name": "ipython",
    "version": 3
   },
   "file_extension": ".py",
   "mimetype": "text/x-python",
   "name": "python",
   "nbconvert_exporter": "python",
   "pygments_lexer": "ipython3",
   "version": "3.7.13"
  }
 },
 "nbformat": 4,
 "nbformat_minor": 5
}
