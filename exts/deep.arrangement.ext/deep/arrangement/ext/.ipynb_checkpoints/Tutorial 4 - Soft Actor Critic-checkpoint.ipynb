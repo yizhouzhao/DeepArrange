{
 "cells": [
  {
   "cell_type": "code",
   "execution_count": 1,
   "id": "0c3e8605",
   "metadata": {},
   "outputs": [],
   "source": [
    "# import torch\n",
    "\n",
    "# from learning.network.sac import *\n",
    "\n",
    "# policy = Policy()\n",
    "# qf = QFunction()\n",
    "\n",
    "# image_feature = torch.randn(5, 512)\n",
    "# object_feature = torch.randn(5, 512)\n",
    "# action = torch.randn(5, 2)\n",
    "\n",
    "# policy(image_feature, object_feature)\n",
    "\n",
    "# qf(image_feature, object_feature, action)"
   ]
  },
  {
   "cell_type": "code",
   "execution_count": 2,
   "id": "3fe18b05",
   "metadata": {},
   "outputs": [
    {
     "data": {
      "text/plain": [
       "'1.11.0+cu113'"
      ]
     },
     "execution_count": 2,
     "metadata": {},
     "output_type": "execute_result"
    }
   ],
   "source": [
    "import random\n",
    "import numpy as np\n",
    "\n",
    "import torch\n",
    "torch.__version__"
   ]
  },
  {
   "cell_type": "code",
   "execution_count": 3,
   "id": "0137c535",
   "metadata": {},
   "outputs": [
    {
     "name": "stdout",
     "output_type": "stream",
     "text": [
      "yizhou\n"
     ]
    }
   ],
   "source": [
    "import getpass\n",
    "user = getpass.getuser()\n",
    "print(user)"
   ]
  },
  {
   "cell_type": "code",
   "execution_count": 5,
   "id": "b9d56ea3",
   "metadata": {},
   "outputs": [],
   "source": [
    "usd_path = f\"omniverse://localhost/Users/{user}/uva_sac.usd\""
   ]
  },
  {
   "cell_type": "code",
   "execution_count": 6,
   "id": "d7e8d7fe",
   "metadata": {},
   "outputs": [
    {
     "name": "stdout",
     "output_type": "stream",
     "text": [
      "Starting kit application with the fillowing args:  ['/home/yizhou/.local/share/ov/pkg/isaac_sim-2022.1.1/exts/omni.isaac.kit/omni/isaac/kit/simulation_app.py', '/home/yizhou/.local/share/ov/pkg/isaac_sim-2022.1.1/apps/omni.isaac.sim.python.kit', '--/app/tokens/exe-path=/home/yizhou/.local/share/ov/pkg/isaac_sim-2022.1.1/kit', '--/persistent/app/viewport/displayOptions=3094', '--/rtx/materialDb/syncLoads=True', '--/rtx/hydra/materialSyncLoads=True--/omni.kit.plugin/syncUsdLoads=True', '--/app/renderer/resolution/width=1280', '--/app/renderer/resolution/height=720', '--/app/window/width=1440', '--/app/window/height=900', '--/renderer/multiGpu/enabled=True', '--ext-folder', '/home/yizhou/.local/share/ov/pkg/isaac_sim-2022.1.1/exts', '--ext-folder', '/home/yizhou/.local/share/ov/pkg/isaac_sim-2022.1.1/apps', '--/physics/cudaDevice=0', '--portable', '--no-window']\n",
      "Passing the following args to the base kit application:  ['-f', '/home/yizhou/.local/share/jupyter/runtime/kernel-16f2a6d8-0079-44e1-876c-930189007c6d.json']\n",
      "[Warning] [omni.kit.app.plugin] No crash reporter present, dumps uploading isn't available.\n",
      "[Info] [carb] Logging to file: /home/yizhou/.local/share/ov/pkg/isaac_sim-2022.1.1/kit/logs/Kit/Isaac-Sim/2022.1/kit_20221215_102253.log\n",
      "2022-12-15 18:22:53 [5ms] [Warning] [omni.ext.plugin] [ext: omni.drivesim.sensors.nv.lidar] Extensions config 'extension.toml' doesn't exist '/home/yizhou/.local/share/ov/pkg/isaac_sim-2022.1.1/exts/omni.drivesim.sensors.nv.lidar' or '/home/yizhou/.local/share/ov/pkg/isaac_sim-2022.1.1/exts/omni.drivesim.sensors.nv.lidar/config'\n",
      "[0.088s] [ext: omni.stats-0.0.0] startup\n",
      "[0.134s] [ext: omni.gpu_foundation-0.0.0] startup\n",
      "2022-12-15 18:22:53 [133ms] [Warning] [carb] FrameworkImpl::setDefaultPlugin(client: omni.gpu_foundation_factory.plugin, desc : [carb::graphics::Graphics v2.5], plugin : carb.graphics-vulkan.plugin) failed. Plugin selection is locked, because the interface was previously acquired by: \n",
      "[0.145s] [ext: carb.windowing.plugins-1.0.0] startup\n",
      "[0.165s] [ext: omni.assets.plugins-0.0.0] startup\n",
      "[0.166s] [ext: omni.kit.renderer.init-0.0.0] startup\n",
      "\n",
      "|---------------------------------------------------------------------------------------------|\n",
      "| Driver Version: 510.108.3     | Graphics API: Vulkan\n",
      "|=============================================================================================|\n",
      "| GPU | Name                             | Active | LDA | GPU Memory | Vendor-ID | LUID       |\n",
      "|     |                                  |        |     |            | Device-ID | UUID       |\n",
      "|---------------------------------------------------------------------------------------------|\n",
      "| 0   | NVIDIA GeForce RTX 3090          | Yes: 0 |     | 24822   MB | 10de      | 0          |\n",
      "|     |                                  |        |     |            | 2204      | 3f50dd6e.. |\n",
      "|=============================================================================================|\n",
      "| OS: Linux yizhou-Z370-AORUS-Gaming-5, Version: 5.15.0-56-generic\n",
      "| Processor: Intel(R) Core(TM) i7-8700K CPU @ 3.70GHz | Cores: Unknown | Logical: 12\n",
      "|---------------------------------------------------------------------------------------------|\n",
      "| Total Memory (MB): 32044 | Free Memory: 15749\n",
      "| Total Page/Swap (MB): 2047 | Free Page/Swap: 2047\n",
      "|---------------------------------------------------------------------------------------------|\n",
      "2022-12-15 18:22:54 [925ms] [Warning] [carb.cudainterop.plugin] On Linux only, CUDA and the display driver does not support IOMMU-enabled bare-metal PCIe peer to peer memory copy.\n",
      "However, CUDA and the display driver does support IOMMU via VM pass through. As a consequence, users on Linux,\n",
      "when running on a native bare metal system, should disable the IOMMU. The IOMMU should be enabled and the VFIO driver\n",
      "be used as a PCIe pass through for virtual machines.\n",
      "[0.948s] [ext: omni.kit.pipapi-0.0.0] startup\n",
      "[0.959s] [ext: omni.kit.pip_archive-0.0.0] startup\n",
      "[0.964s] [ext: omni.isaac.core_archive-1.2.0] startup\n",
      "[0.985s] [ext: omni.usd.config-1.0.0] startup\n",
      "[0.988s] [ext: omni.usd.libs-1.0.0] startup\n",
      "[1.149s] [ext: omni.kit.pip_torch-1_11_0-0.1.3] startup\n",
      "[1.179s] [ext: omni.isaac.ml_archive-1.1.0] startup\n",
      "[1.236s] [ext: omni.kit.loop-isaac-0.1.0] startup\n",
      "[1.237s] [ext: omni.kit.async_engine-0.0.0] startup\n",
      "[1.239s] [ext: omni.appwindow-1.0.0] startup\n",
      "[1.242s] [ext: omni.client-0.1.0] startup\n",
      "[1.252s] [ext: omni.kit.test-0.0.0] startup\n",
      "[1.253s] [ext: omni.kit.renderer.core-0.0.0] startup\n",
      "[1.339s] [ext: omni.ui-2.10.3] startup\n",
      "[1.360s] [ext: carb.audio-0.1.0] startup\n",
      "[1.387s] [ext: omni.kit.mainwindow-0.0.0] startup\n",
      "[1.390s] [ext: omni.uiaudio-1.0.0] startup\n",
      "[1.392s] [ext: omni.kit.uiapp-0.0.0] startup\n",
      "[1.392s] [ext: omni.usd.schema.physics-1.0.0] startup\n",
      "[1.438s] [ext: omni.usd.schema.audio-0.0.0] startup\n",
      "[1.446s] [ext: omni.usd.schema.semantics-0.0.0] startup\n",
      "[1.456s] [ext: omni.usd.schema.omnigraph-1.0.0] startup\n",
      "[1.466s] [ext: omni.usd.schema.anim-0.0.0] startup\n",
      "[1.508s] [ext: omni.kit.commands-1.2.2] startup\n",
      "[1.512s] [ext: omni.timeline-1.0.2] startup\n",
      "[1.516s] [ext: omni.hydra.scene_delegate-0.2.0] startup\n",
      "[1.524s] [ext: omni.kit.audiodeviceenum-1.0.0] startup\n",
      "[1.527s] [ext: omni.usd-1.5.3] startup\n",
      "[1.586s] [ext: omni.kit.asset_converter-1.2.31] startup\n",
      "[1.602s] [ext: omni.usd.schema.physx-0.0.0] startup\n",
      "[1.630s] [ext: omni.usd.schema.isaac-0.2.0] startup\n",
      "[1.676s] [ext: omni.usd.schema.forcefield-0.0.0] startup\n",
      "[1.684s] [ext: omni.kvdb-0.0.0] startup\n",
      "[1.687s] [ext: omni.usdphysics-1.4.15] startup\n",
      "[1.690s] [ext: omni.graph.tools-1.4.0] startup\n",
      "[1.717s] [ext: omni.localcache-0.0.0] startup\n",
      "[1.720s] [ext: omni.kit.stage_templates-1.1.2] startup\n",
      "[1.721s] [ext: omni.convexdecomposition-1.4.15] startup\n",
      "[1.724s] [ext: omni.physics.tensors-0.1.0] startup\n",
      "[1.734s] [ext: omni.physx-1.4.15-5.1] startup\n",
      "2022-12-15 18:22:54 [1,782ms] [Warning] [omni.kvdb.plugin] wasn't able to load the meta database, trying to repair it ...\n",
      "2022-12-15 18:22:55 [2,104ms] [Warning] [omni.kvdb.plugin] repair failed\n",
      "[2.112s] [ext: omni.graph.core-2.29.1] startup\n",
      "[2.119s] [ext: omni.kit.menu.utils-1.2.11] startup\n",
      "[2.129s] [ext: omni.physx.tensors-0.1.0] startup\n",
      "[2.134s] [ext: omni.graph-1.23.0] startup\n",
      "[2.186s] [ext: omni.kit.numpy.common-0.1.0] startup\n",
      "[2.189s] [ext: omni.kit.window.script_editor-1.6.2] startup\n",
      "[2.201s] [ext: omni.kit.search_core-1.0.2] startup\n",
      "[2.204s] [ext: omni.isaac.dynamic_control-1.1.0] startup\n",
      "[2.213s] [ext: omni.kit.renderer.capture-0.0.0] startup\n",
      "[2.216s] [ext: omni.kit.widget.filebrowser-2.2.27] startup\n",
      "[2.224s] [ext: omni.kit.widget.path_field-2.0.3] startup\n",
      "[2.226s] [ext: omni.kit.notification_manager-1.0.5] startup\n",
      "[2.230s] [ext: omni.kit.widget.versioning-1.3.8] startup\n",
      "[2.232s] [ext: omni.kit.widget.browser_bar-2.0.3] startup\n",
      "[2.234s] [ext: omni.kit.window.popup_dialog-2.0.8] startup\n",
      "[2.238s] [ext: omni.mdl.neuraylib-0.1.0] startup\n",
      "[2.241s] [ext: omni.kit.window.filepicker-2.4.30] startup\n"
     ]
    },
    {
     "name": "stderr",
     "output_type": "stream",
     "text": [
      "OmniAssetFileFormat\n"
     ]
    },
    {
     "name": "stdout",
     "output_type": "stream",
     "text": [
      "Warp initialized:\n",
      "   Version: 0.2.2\n",
      "   CUDA device: NVIDIA GeForce RTX 3090\n",
      "   Kernel cache: /home/yizhou/.cache/warp/0.2.2\n",
      "[2.295s] [ext: omni.kit.menu.create-1.0.2] startup\n",
      "[2.296s] [ext: omni.mdl-0.1.0] startup\n",
      "[2.321s] [ext: omni.kit.window.file_importer-1.0.4] startup\n",
      "[2.322s] [ext: omni.kit.window.file_exporter-1.0.4] startup\n",
      "[2.323s] [ext: omni.kit.material.library-1.3.10] startup\n",
      "[2.326s] [ext: omni.kit.window.drop_support-1.0.0] startup\n",
      "[2.327s] [ext: omni.kit.window.file-1.3.16] startup\n",
      "[2.329s] [ext: omni.kit.context_menu-1.3.9] startup\n",
      "[2.333s] [ext: omni.kit.window.property-1.6.3] startup\n",
      "[2.334s] [ext: omni.kit.window.content_browser-2.4.28] startup\n",
      "[2.347s] [ext: omni.kit.widget.stage-2.6.15] startup\n",
      "[2.352s] [ext: omni.isaac.version-1.0.0] startup\n",
      "[2.353s] [ext: omni.kit.property.usd-3.14.9] startup\n",
      "[2.387s] [ext: omni.kit.viewport.legacy_gizmos-1.0.0] startup\n",
      "[2.393s] [ext: omni.hydra.rtx-0.1.0] startup\n",
      "[2.402s] [ext: omni.renderer-rtx-0.0.0] startup\n",
      "[2.403s] [ext: omni.hydra.engine.stats-1.0.0] startup\n",
      "[2.410s] [ext: omni.debugdraw-0.1.0] startup\n",
      "[2.416s] [ext: omni.kit.widget.settings-1.0.0] startup\n",
      "[2.418s] [ext: omni.kit.window.viewport-0.0.0] startup\n",
      "[8.040s] [ext: omni.kit.widget.prompt-1.0.1] startup\n",
      "[8.041s] [ext: omni.kit.widget.graph-1.4.3] startup\n",
      "[8.049s] [ext: omni.kit.window.preferences-1.2.1] startup\n",
      "[8.092s] [ext: omni.ui_query-1.1.1] startup\n",
      "[8.095s] [ext: omni.graph.ui-1.6.1] startup\n",
      "[8.177s] [ext: omni.kit.ui_test-1.2.2] startup\n",
      "[8.180s] [ext: omni.graph.action-1.18.0] startup\n",
      "[8.195s] [ext: omni.kit.widget.searchfield-1.0.6] startup\n",
      "[8.197s] [ext: omni.kit.usd_undo-0.1.0] startup\n",
      "[8.198s] [ext: omni.graph.scriptnode-0.5.0] startup\n",
      "[8.200s] [ext: omni.physx.commands-1.4.15-5.1] startup\n",
      "[8.205s] [ext: omni.graph.nodes-1.26.0] startup\n",
      "[8.221s] [ext: omni.command.usd-1.0.1] startup\n",
      "[8.224s] [ext: omni.kit.window.extensions-1.1.0] startup\n",
      "[8.229s] [ext: omni.syntheticdata-0.2.1] startup\n",
      "[8.269s] [ext: omni.kit.primitive.mesh-1.0.0] startup\n",
      "[8.273s] [ext: omni.warp-0.2.2] startup\n",
      "[8.477s] [ext: omni.isaac.ui-0.2.1] startup\n",
      "[8.479s] [ext: omni.replicator.core-1.4.3] startup\n",
      "[8.625s] [ext: omni.isaac.core-1.24.3] startup\n",
      "[8.779s] [ext: omni.physx.ui-1.4.15-5.1] startup\n",
      "[8.861s] [ext: omni.kit.property.material-1.8.5] startup\n",
      "[8.864s] [ext: omni.kit.window.toolbar-1.2.4] startup\n",
      "[8.869s] [ext: omni.isaac.core_nodes-0.13.0] startup\n",
      "[8.882s] [ext: omni.physx.demos-1.4.15-5.1] startup\n",
      "[8.884s] [ext: omni.kit.property.physx-0.1.0] startup\n",
      "2022-12-15 18:23:02 [8,946ms] [Warning] [omni.physx.plugin] Deprecated: getSimulationEventStream is deprecated, please use getSimulationEventStreamV2\n",
      "[8.958s] [ext: omni.physx.tests-1.4.15-5.1] startup\n",
      "[9.244s] [ext: omni.isaac.wheeled_robots-0.5.8] startup\n",
      "[9.257s] [ext: omni.kit.menu.common-1.0.0] startup\n",
      "[9.259s] [ext: omni.physx.vehicle-1.4.15-5.1] startup\n",
      "[9.272s] [ext: omni.physx.cct-1.4.15-5.1] startup\n",
      "[9.369s] [ext: omni.physx.camera-1.4.15-5.1] startup\n",
      "[9.380s] [ext: omni.kit.widget.stage_icons-1.0.2] startup\n",
      "[9.381s] [ext: omni.ui.scene-1.5.0] startup\n",
      "[9.389s] [ext: omni.physx.bundle-1.4.15-5.1] startup\n",
      "[9.389s] [ext: omni.kit.window.stage-2.3.7] startup\n",
      "[9.392s] [ext: omni.replicator.composer-1.1.3] startup\n",
      "[9.409s] [ext: omni.isaac.lula-1.1.0] startup\n",
      "[9.435s] [ext: omni.rtx.window.settings-0.6.1] startup\n",
      "[9.441s] [ext: omni.isaac.surface_gripper-0.1.2] startup\n",
      "[9.446s] [ext: omni.isaac.motion_planning-0.2.0] startup\n",
      "[9.455s] [ext: omni.rtx.settings.core-0.5.5] startup\n",
      "[9.461s] [ext: omni.isaac.manipulators-1.0.1] startup\n",
      "[9.462s] [ext: omni.isaac.motion_generation-3.6.1] startup\n",
      "[9.467s] [ext: omni.kit.widget.zoombar-1.0.3] startup\n",
      "[9.468s] [ext: omni.kit.graph.delegate.default-1.0.15] startup\n",
      "[9.470s] [ext: omni.isaac.franka-0.3.0] startup\n",
      "[9.471s] [ext: omni.kit.browser.core-2.0.12] startup\n",
      "[9.476s] [ext: omni.kit.graph.editor.core-1.3.3] startup\n",
      "[9.479s] [ext: omni.kit.graph.usd.commands-1.1.0] startup\n",
      "[9.480s] [ext: omni.kit.browser.folder.core-1.1.13] startup\n",
      "[9.484s] [ext: omni.kit.graph.widget.variables-2.0.2] startup\n",
      "[9.485s] [ext: omni.kit.graph.delegate.modern-1.6.0] startup\n",
      "[9.487s] [ext: omni.kit.selection-0.1.0] startup\n",
      "[9.488s] [ext: omni.isaac.debug_draw-0.Opening usd file at  omniverse://localhost/Users/yizhou/uva_sac.usd  ...1.2] startup\n",
      "[9.496s] [ext: omni.graph.window.core-1.23.4] startup\n",
      "[9.503s] [ext: omni.graph.instancing-1.1.4] startup\n",
      "[9.510s] [ext: omni.kit.menu.edit-1.0.6] startup\n",
      "[9.511s] [ext: omni.isaac.isaac_sensor-1.0.2] startup\n",
      "2022-12-15 18:23:02 [9,512ms] [Warning] [omni.physx.plugin] Deprecated: getSimulationEventStream is deprecated, please use getSimulationEventStreamV2\n",
      "[9.525s] [ext: omni.graph.tutorials-1.1.2] startup\n",
      "[9.543s] [ext: omni.graph.window.action-1.3.8] startup\n",
      "[9.544s] [ext: omni.kit.widget.live-0.1.0] startup\n",
      "[9.549s] [ext: omni.kit.widget.layers-1.5.17] startup\n",
      "[9.564s] [ext: omni.graph.bundle.action-1.0.0] startup\n",
      "[9.564s] [ext: omni.isaac.range_sensor-0.4.3] startup\n",
      "[9.595s] [ext: omni.kit.property.layer-1.1.2] startup\n",
      "[9.597s] [ext: omni.replicator.isaac-1.3.2] startup\n",
      "[9.683s] [ext: omni.isaac.kit-0.2.1] startup\n",
      "[9.683s] [ext: omni.graph.window.generic-1.3.8] startup\n",
      "[9.685s] [ext: omni.isaac.utils-0.1.11] startup\n",
      "[9.692s] [ext: omni.kit.property.audio-1.0.5] startup\n",
      "[9.695s] [ext: omni.kit.property.skel-1.0.1] startup\n",
      "[9.697s] [ext: omni.kit.property.render-1.1.0] startup\n",
      "[9.698s] [ext: omni.kit.property.camera-1.0.3] startup\n",
      "[9.700s] [ext: omni.kit.property.geometry-1.2.0] startup\n",
      "[9.704s] [ext: omni.kit.property.light-1.0.5] startup\n",
      "[9.706s] [ext: omni.kit.property.transform-1.0.2] startup\n",
      "[9.709s] [ext: omni.isaac.universal_robots-0.3.0] startup\n",
      "[9.710s] [ext: omni.isaac.occupancy_map-0.2.4] startup\n",
      "[9.725s] [ext: omni.kit.window.console-0.2.0] startup\n",
      "[9.732s] [ext: omni.kit.window.status_bar-0.1.1] startup\n",
      "[9.738s] [ext: omni.kit.property.bundle-1.2.4] startup\n",
      "[9.739s] [ext: omni.kit.menu.file-1.0.8] startup\n",
      "[9.740s] [ext: omni.kit.manipulator.viewport-1.0.6] startup\n",
      "[9.743s] [ext: omni.isaac.urdf-0.4.0] startup\n",
      "[9.778s] [ext: omni.isaac.dofbot-0.3.0] startup\n",
      "[9.779s] [ext: omni.kit.window.title-1.1.2] startup\n",
      "[9.780s] [ext: omni.kit.profiler.window-1.4.4] startup\n",
      "[9.783s] [ext: omni.graph.visualization.nodes-1.1.1] startup\n",
      "[9.787s] [ext: omni.isaac.synthetic_utils-0.3.5] startup\n",
      "[9.790s] [ext: semantics.schema.editor-0.2.3] startup\n",
      "[9.795s] [ext: omni.isaac.sim.python-2022.1.1] startup\n",
      "[9.810s] Simulation App Starting\n",
      "2022-12-15 18:23:02 [9,849ms] [Warning] [omni.client.plugin]  Tick: authentication: Discovery(ws://localhost/omni/discovery): Error creating Api/Connection search: Not connected\n",
      "Could not open omniverse://localhost/Users/yizhou/uva_sac.usd creating a new empty stage\n"
     ]
    },
    {
     "name": "stderr",
     "output_type": "stream",
     "text": [
      "2022-12-15 18:23:03 [9,876ms] [Error] [omni.usd] Failed to open : omniverse://localhost/Users/yizhou/uva_sac.usd\n",
      "2022-12-15 18:23:03 [9,877ms] [Error] [omni.usd] Open USD error: Failed to open:omniverse://localhost/Users/yizhou/uva_sac.usd\n"
     ]
    },
    {
     "name": "stdout",
     "output_type": "stream",
     "text": [
      "Saving a temp livesync stage at  omniverse://localhost/Users/yizhou/uva_sac.usd  ...Done.\n"
     ]
    }
   ],
   "source": [
    "from omni.isaac.kit import SimulationApp    \n",
    "simulation_app = SimulationApp({\"headless\": True, \"open_usd\": usd_path,  \"livesync_usd\": usd_path}) "
   ]
  },
  {
   "cell_type": "code",
   "execution_count": 7,
   "id": "9a6fd193",
   "metadata": {},
   "outputs": [],
   "source": [
    "from uva_env import UvaEnv\n",
    "env = UvaEnv()"
   ]
  },
  {
   "cell_type": "code",
   "execution_count": 8,
   "id": "012a2a70",
   "metadata": {},
   "outputs": [
    {
     "name": "stdout",
     "output_type": "stream",
     "text": [
      "[Usd.Prim(</Render>), Usd.Prim(</Render/RenderProduct_Viewport>), Usd.Prim(</Render/Vars>), Usd.Prim(</Render/Vars/LdrColor>), Usd.Prim(</physicsScene>), Usd.Prim(</World>), Usd.Prim(</World/defaultLight>), Usd.Prim(</OmniverseKit_Persp>), Usd.Prim(</OmniverseKit_Front>), Usd.Prim(</OmniverseKit_Top>), Usd.Prim(</OmniverseKit_Right>)]\n"
     ]
    }
   ],
   "source": [
    "from task.utils import add_scene_default\n",
    "add_scene_default()\n",
    "print(list(env.stage.TraverseAll()))"
   ]
  },
  {
   "cell_type": "code",
   "execution_count": null,
   "id": "fec30fdd",
   "metadata": {},
   "outputs": [],
   "source": []
  }
 ],
 "metadata": {
  "kernelspec": {
   "display_name": "Isaac Sim Python 3",
   "language": "python",
   "name": "isaac_sim_python3"
  },
  "language_info": {
   "codemirror_mode": {
    "name": "ipython",
    "version": 3
   },
   "file_extension": ".py",
   "mimetype": "text/x-python",
   "name": "python",
   "nbconvert_exporter": "python",
   "pygments_lexer": "ipython3",
   "version": "3.7.13"
  }
 },
 "nbformat": 4,
 "nbformat_minor": 5
}
