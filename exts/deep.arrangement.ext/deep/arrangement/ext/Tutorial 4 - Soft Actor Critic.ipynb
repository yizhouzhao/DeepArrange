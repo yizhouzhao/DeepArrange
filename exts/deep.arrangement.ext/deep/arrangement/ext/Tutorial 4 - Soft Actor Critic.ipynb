{
 "cells": [
  {
   "cell_type": "markdown",
   "id": "a4e7074e",
   "metadata": {},
   "source": [
    "# Start Simulation"
   ]
  },
  {
   "cell_type": "code",
   "execution_count": 1,
   "id": "3fe18b05",
   "metadata": {},
   "outputs": [
    {
     "data": {
      "text/plain": [
       "'1.11.0+cu113'"
      ]
     },
     "execution_count": 1,
     "metadata": {},
     "output_type": "execute_result"
    }
   ],
   "source": [
    "import random\n",
    "import numpy as np\n",
    "import os\n",
    "import time\n",
    "from PIL import Image\n",
    "\n",
    "import torch\n",
    "torch.__version__"
   ]
  },
  {
   "cell_type": "code",
   "execution_count": 2,
   "id": "0137c535",
   "metadata": {},
   "outputs": [
    {
     "name": "stdout",
     "output_type": "stream",
     "text": [
      "yizhou\n"
     ]
    }
   ],
   "source": [
    "import getpass\n",
    "user = getpass.getuser()\n",
    "print(user)"
   ]
  },
  {
   "cell_type": "code",
   "execution_count": 3,
   "id": "b9d56ea3",
   "metadata": {},
   "outputs": [],
   "source": [
    "usd_path = f\"omniverse://localhost/Users/{user}/uva_sac.usd\""
   ]
  },
  {
   "cell_type": "code",
   "execution_count": 4,
   "id": "d7e8d7fe",
   "metadata": {
    "scrolled": true
   },
   "outputs": [
    {
     "name": "stdout",
     "output_type": "stream",
     "text": [
      "Starting kit application with the fillowing args:  ['/home/yizhou/.local/share/ov/pkg/isaac_sim-2022.1.1/exts/omni.isaac.kit/omni/isaac/kit/simulation_app.py', '/home/yizhou/.local/share/ov/pkg/isaac_sim-2022.1.1/apps/omni.isaac.sim.python.kit', '--/app/tokens/exe-path=/home/yizhou/.local/share/ov/pkg/isaac_sim-2022.1.1/kit', '--/persistent/app/viewport/displayOptions=3094', '--/rtx/materialDb/syncLoads=True', '--/rtx/hydra/materialSyncLoads=True--/omni.kit.plugin/syncUsdLoads=True', '--/app/renderer/resolution/width=1280', '--/app/renderer/resolution/height=720', '--/app/window/width=1440', '--/app/window/height=900', '--/renderer/multiGpu/enabled=True', '--ext-folder', '/home/yizhou/.local/share/ov/pkg/isaac_sim-2022.1.1/exts', '--ext-folder', '/home/yizhou/.local/share/ov/pkg/isaac_sim-2022.1.1/apps', '--/physics/cudaDevice=0', '--portable', '--no-window']\n",
      "Passing the following args to the base kit application:  ['-f', '/home/yizhou/.local/share/jupyter/runtime/kernel-126c436d-0582-4c94-a7e7-8cf8e068cd10.json']\n",
      "[Warning] [omni.kit.app.plugin] No crash reporter present, dumps uploading isn't available.\n",
      "[Info] [carb] Logging to file: /home/yizhou/.local/share/ov/pkg/isaac_sim-2022.1.1/kit/logs/Kit/Isaac-Sim/2022.1/kit_20221220_152610.log\n",
      "2022-12-20 23:26:10 [4ms] [Warning] [omni.ext.plugin] [ext: omni.drivesim.sensors.nv.lidar] Extensions config 'extension.toml' doesn't exist '/home/yizhou/.local/share/ov/pkg/isaac_sim-2022.1.1/exts/omni.drivesim.sensors.nv.lidar' or '/home/yizhou/.local/share/ov/pkg/isaac_sim-2022.1.1/exts/omni.drivesim.sensors.nv.lidar/config'\n",
      "[0.087s] [ext: omni.stats-0.0.0] startup\n",
      "[0.141s] [ext: omni.gpu_foundation-0.0.0] startup\n",
      "2022-12-20 23:26:10 [142ms] [Warning] [carb] FrameworkImpl::setDefaultPlugin(client: omni.gpu_foundation_factory.plugin, desc : [carb::graphics::Graphics v2.5], plugin : carb.graphics-vulkan.plugin) failed. Plugin selection is locked, because the interface was previously acquired by: \n",
      "[0.152s] [ext: carb.windowing.plugins-1.0.0] startup\n",
      "[0.162s] [ext: omni.assets.plugins-0.0.0] startup\n",
      "[0.163s] [ext: omni.kit.renderer.init-0.0.0] startup\n",
      "\n",
      "|---------------------------------------------------------------------------------------------|\n",
      "| Driver Version: 510.108.3     | Graphics API: Vulkan\n",
      "|=============================================================================================|\n",
      "| GPU | Name                             | Active | LDA | GPU Memory | Vendor-ID | LUID       |\n",
      "|     |                                  |        |     |            | Device-ID | UUID       |\n",
      "|---------------------------------------------------------------------------------------------|\n",
      "| 0   | NVIDIA GeForce RTX 3090          | Yes: 0 |     | 24822   MB | 10de      | 0          |\n",
      "|     |                                  |        |     |            | 2204      | 3f50dd6e.. |\n",
      "|=============================================================================================|\n",
      "| OS: Linux yizhou-Z370-AORUS-Gaming-5, Version: 5.15.0-56-generic\n",
      "| Processor: Intel(R) Core(TM) i7-8700K CPU @ 3.70GHz | Cores: Unknown | Logical: 12\n",
      "|---------------------------------------------------------------------------------------------|\n",
      "| Total Memory (MB): 32044 | Free Memory: 26013\n",
      "| Total Page/Swap (MB): 2047 | Free Page/Swap: 2047\n",
      "|---------------------------------------------------------------------------------------------|\n",
      "2022-12-20 23:26:11 [946ms] [Warning] [carb.cudainterop.plugin] On Linux only, CUDA and the display driver does not support IOMMU-enabled bare-metal PCIe peer to peer memory copy.\n",
      "However, CUDA and the display driver does support IOMMU via VM pass through. As a consequence, users on Linux,\n",
      "when running on a native bare metal system, should disable the IOMMU. The IOMMU should be enabled and the VFIO driver\n",
      "be used as a PCIe pass through for virtual machines.\n",
      "[0.970s] [ext: omni.kit.pipapi-0.0.0] startup\n",
      "[0.982s] [ext: omni.kit.pip_archive-0.0.0] startup\n",
      "[0.987s] [ext: omni.isaac.core_archive-1.2.0] startup\n",
      "[1.007s] [ext: omni.usd.config-1.0.0] startup\n",
      "[1.009s] [ext: omni.usd.libs-1.0.0] startup\n",
      "[1.147s] [ext: omni.kit.pip_torch-1_11_0-0.1.3] startup\n",
      "[1.178s] [ext: omni.isaac.ml_archive-1.1.0] startup\n",
      "[1.229s] [ext: omni.kit.loop-isaac-0.1.0] startup\n",
      "[1.230s] [ext: omni.kit.async_engine-0.0.0] startup\n",
      "[1.231s] [ext: omni.appwindow-1.0.0] startup\n",
      "[1.234s] [ext: omni.client-0.1.0] startup\n",
      "[1.245s] [ext: omni.kit.test-0.0.0] startup\n",
      "[1.246s] [ext: omni.kit.renderer.core-0.0.0] startup\n",
      "[1.323s] [ext: omni.ui-2.10.3] startup\n",
      "[1.340s] [ext: carb.audio-0.1.0] startup\n",
      "[1.362s] [ext: omni.kit.mainwindow-0.0.0] startup\n",
      "[1.364s] [ext: omni.uiaudio-1.0.0] startup\n",
      "[1.366s] [ext: omni.kit.uiapp-0.0.0] startup\n",
      "[1.366s] [ext: omni.usd.schema.physics-1.0.0] startup\n",
      "[1.407s] [ext: omni.usd.schema.audio-0.0.0] startup\n",
      "[1.414s] [ext: omni.usd.schema.semantics-0.0.0] startup\n",
      "[1.425s] [ext: omni.usd.schema.omnigraph-1.0.0] startup\n",
      "[1.433s] [ext: omni.usd.schema.anim-0.0.0] startup\n",
      "[1.473s] [ext: omni.kit.commands-1.2.2] startup\n",
      "[1.478s] [ext: omni.timeline-1.0.2] startup\n",
      "[1.480s] [ext: omni.hydra.scene_delegate-0.2.0] startup\n",
      "[1.487s] [ext: omni.kit.audiodeviceenum-1.0.0] startup\n",
      "[1.489s] [ext: omni.usd-1.5.3] startup\n",
      "[1.543s] [ext: omni.kit.asset_converter-1.2.31] startup\n",
      "[1.558s] [ext: omni.usd.schema.physx-0.0.0] startup\n",
      "[1.586s] [ext: omni.usd.schema.isaac-0.2.0] startup\n",
      "[1.625s] [ext: omni.usd.schema.forcefield-0.0.0] startup\n",
      "[1.633s] [ext: omni.kvdb-0.0.0] startup\n",
      "[1.635s] [ext: omni.usdphysics-1.4.15] startup\n",
      "[1.638s] [ext: omni.graph.tools-1.4.0] startup\n",
      "[1.659s] [ext: omni.localcache-0.0.0] startup\n",
      "[1.701s] [ext: omni.kit.stage_templates-1.1.2] startup\n",
      "[1.703s] [ext: omni.convexdecomposition-1.4.15] startup\n",
      "[1.706s] [ext: omni.physics.tensors-0.1.0] startup\n",
      "[1.714s] [ext: omni.physx-1.4.15-5.1] startup\n",
      "[1.740s] [ext: omni.graph.core-2.29.1] startup\n",
      "[1.746s] [ext: omni.kit.menu.utils-1.2.11] startup\n",
      "[1.756s] [ext: omni.physx.tensors-0.1.0] startup\n",
      "[1.761s] [ext: omni.graph-1.23.0] startup\n",
      "[1.808s] [ext: omni.kit.numpy.common-0.1.0] startup\n",
      "[1.811s] [ext: omni.kit.window.script_editor-1.6.2] startup\n",
      "[1.821s] [ext: omni.kit.search_core-1.0.2] startup\n",
      "[1.823s] [ext: omni.isaac.dynamic_control-1.1.0] startup\n",
      "[1.830s] [ext: omni.kit.renderer.capture-0.0.0] startup\n",
      "[1.834s] [ext: omni.kit.widget.filebrowser-2.2.27] startup\n",
      "[1.842s] [ext: omni.kit.widget.path_field-2.0.3] startup\n",
      "[1.844s] [ext: omni.kit.notification_manager-1.0.5] startup\n",
      "[1.846s] [ext: omni.kit.widget.versioning-1.3.8] startup\n",
      "[1.848s] [ext: omni.kit.widget.browser_bar-2.0.3] startup\n",
      "[1.849s] [ext: omni.kit.window.popup_dialog-2.0.8] startup\n",
      "[1.851s] [ext: omni.mdl.neuraylib-0.1.0] startup\n",
      "[1.854s] [ext: omni.kit.window.filepicker-2.4.30] startup\n"
     ]
    },
    {
     "name": "stderr",
     "output_type": "stream",
     "text": [
      "OmniAssetFileFormat\n"
     ]
    },
    {
     "name": "stdout",
     "output_type": "stream",
     "text": [
      "Warp initialized:\n",
      "   Version: 0.2.2\n",
      "   CUDA device: NVIDIA GeForce RTX 3090\n",
      "   Kernel cache: /home/yizhou/.cache/warp/0.2.2\n",
      "[1.905s] [ext: omni.kit.menu.create-1.0.2] startup\n",
      "[1.906s] [ext: omni.mdl-0.1.0] startup\n",
      "[1.926s] [ext: omni.kit.window.file_importer-1.0.4] startup\n",
      "[1.926s] [ext: omni.kit.window.file_exporter-1.0.4] startup\n",
      "[1.927s] [ext: omni.kit.material.library-1.3.10] startup\n",
      "[1.930s] [ext: omni.kit.window.drop_support-1.0.0] startup\n",
      "[1.931s] [ext: omni.kit.window.file-1.3.16] startup\n",
      "[1.933s] [ext: omni.kit.context_menu-1.3.9] startup\n",
      "[1.937s] [ext: omni.kit.window.property-1.6.3] startup\n",
      "[1.938s] [ext: omni.kit.window.content_browser-2.4.28] startup\n",
      "[1.948s] [ext: omni.kit.widget.stage-2.6.15] startup\n",
      "[1.952s] [ext: omni.isaac.version-1.0.0] startup\n",
      "[1.953s] [ext: omni.kit.property.usd-3.14.9] startup\n",
      "[1.986s] [ext: omni.kit.viewport.legacy_gizmos-1.0.0] startup\n",
      "[1.990s] [ext: omni.hydra.rtx-0.1.0] startup\n",
      "[2.000s] [ext: omni.renderer-rtx-0.0.0] startup\n",
      "[2.000s] [ext: omni.hydra.engine.stats-1.0.0] startup\n",
      "[2.007s] [ext: omni.debugdraw-0.1.0] startup\n",
      "[2.012s] [ext: omni.kit.widget.settings-1.0.0] startup\n",
      "[2.014s] [ext: omni.kit.window.viewport-0.0.0] startup\n",
      "[6.202s] [ext: omni.kit.widget.prompt-1.0.1] startup\n",
      "[6.203s] [ext: omni.kit.widget.graph-1.4.3] startup\n",
      "[6.209s] [ext: omni.kit.window.preferences-1.2.1] startup\n",
      "[6.292s] [ext: omni.ui_query-1.1.1] startup\n",
      "[6.293s] [ext: omni.graph.ui-1.6.1] startup\n",
      "[6.316s] [ext: omni.kit.ui_test-1.2.2] startup\n",
      "[6.318s] [ext: omni.graph.action-1.18.0] startup\n",
      "[6.333s] [ext: omni.kit.widget.searchfield-1.0.6] startup\n",
      "[6.335s] [ext: omni.kit.usd_undo-0.1.0] startup\n",
      "[6.336s] [ext: omni.graph.scriptnode-0.5.0] startup\n",
      "[6.338s] [ext: omni.physx.commands-1.4.15-5.1] startup\n",
      "[6.343s] [ext: omni.graph.nodes-1.26.0] startup\n",
      "[6.356s] [ext: omni.command.usd-1.0.1] startup\n",
      "[6.359s] [ext: omni.kit.window.extensions-1.1.0] startup\n",
      "[6.364s] [ext: omni.syntheticdata-0.2.1] startup\n",
      "[6.386s] [ext: omni.kit.primitive.mesh-1.0.0] startup\n",
      "[6.389s] [ext: omni.warp-0.2.2] startup\n",
      "[6.509s] [ext: omni.isaac.ui-0.2.1] startup\n",
      "[6.511s] [ext: omni.replicator.core-1.4.3] startup\n",
      "[6.649s] [ext: omni.isaac.core-1.24.3] startup\n",
      "[6.797s] [ext: omni.physx.ui-1.4.15-5.1] startup\n",
      "[6.875s] [ext: omni.kit.property.material-1.8.5] startup\n",
      "[6.877s] [ext: omni.kit.window.toolbar-1.2.4] startup\n",
      "[6.883s] [ext: omni.isaac.core_nodes-0.13.0] startup\n",
      "[6.896s] [ext: omni.physx.demos-1.4.15-5.1] startup\n",
      "[6.899s] [ext: omni.kit.property.physx-0.1.0] startup\n",
      "2022-12-20 23:26:17 [6,955ms] [Warning] [omni.physx.plugin] Deprecated: getSimulationEventStream is deprecated, please use getSimulationEventStreamV2\n",
      "[6.965s] [ext: omni.physx.tests-1.4.15-5.1] startup\n",
      "[7.227s] [ext: omni.isaac.wheeled_robots-0.5.8] startup\n",
      "[7.237s] [ext: omni.kit.menu.common-1.0.0] startup\n",
      "[7.238s] [ext: omni.physx.vehicle-1.4.15-5.1] startup\n",
      "[7.249s] [ext: omni.physx.cct-1.4.15-5.1] startup\n",
      "[7.326s] [ext: omni.physx.camera-1.4.15-5.1] startup\n",
      "[7.335s] [ext: omni.kit.widget.stage_icons-1.0.2] startup\n",
      "[7.336s] [ext: omni.ui.scene-1.5.0] startup\n",
      "[7.342s] [ext: omni.physx.bundle-1.4.15-5.1] startup\n",
      "[7.342s] [ext: omni.kit.window.stage-2.3.7] startup\n",
      "[7.346s] [ext: omni.replicator.composer-1.1.3] startup\n",
      "[7.364s] [ext: omni.isaac.lula-1.1.0] startup\n",
      "[7.373s] [ext: omni.rtx.window.settings-0.6.1] startup\n",
      "[7.378s] [ext: omni.isaac.surface_gripper-0.1.2] startup\n",
      "[7.384s] [ext: omni.isaac.motion_planning-0.2.0] startup\n",
      "[7.392s] [ext: omni.rtx.settings.core-0.5.5] startup\n",
      "[7.396s] [ext: omni.isaac.manipulators-1.0.1] startup\n",
      "[7.398s] [ext: omni.isaac.motion_generation-3.6.1] startup\n",
      "[7.402s] [ext: omni.kit.widget.zoombar-1.0.3] startup\n",
      "[7.404s] [ext: omni.kit.graph.delegate.default-1.0.15] startup\n",
      "[7.405s] [ext: omni.isaac.franka-0.3.0] startup\n",
      "[7.406s] [ext: omni.kit.browser.core-2.0.12] startup\n",
      "[7.411s] [ext: omni.kit.graph.editor.core-1.3.3] startup\n",
      "[7.415s] [ext: omni.kit.graph.usd.commands-1.1.0] startup\n",
      "[7.417s] [ext: omni.kit.browser.folder.core-1.1.13] startup\n",
      "[7.420s] [ext: omni.kit.graph.widget.variables-2.0.2] startup\n",
      "[7.422s] [ext: omni.kit.graph.delegate.modern-1.6.0] startup\n",
      "[7.423s] [ext: omni.kit.selection-0.1.0] startup\n",
      "[7.424s] [ext: omni.isaac.debug_draw-0.Opening usd file at  omniverse://localhost/Users/yizhou/uva_sac.usd  ...Done.\n",
      "Saving a temp livesync stage at  omniverse://localhost/Users/yizhou/uva_sac.usd  ...Done.\n"
     ]
    }
   ],
   "source": [
    "from omni.isaac.kit import SimulationApp    \n",
    "simulation_app = SimulationApp({\"headless\": True, \"open_usd\": usd_path,  \"livesync_usd\": usd_path}) "
   ]
  },
  {
   "cell_type": "code",
   "execution_count": 5,
   "id": "eadd32bf",
   "metadata": {},
   "outputs": [
    {
     "ename": "NameError",
     "evalue": "name 'pause' is not defined",
     "output_type": "error",
     "traceback": [
      "\u001b[0;31m---------------------------------------------------------------------------\u001b[0m",
      "\u001b[0;31mNameError\u001b[0m                                 Traceback (most recent call last)",
      "\u001b[0;32m/tmp/ipykernel_32010/1188747208.py\u001b[0m in \u001b[0;36m<module>\u001b[0;34m\u001b[0m\n\u001b[0;32m----> 1\u001b[0;31m \u001b[0mpause\u001b[0m\u001b[0;34m\u001b[0m\u001b[0;34m\u001b[0m\u001b[0m\n\u001b[0m",
      "\u001b[0;31mNameError\u001b[0m: name 'pause' is not defined"
     ]
    }
   ],
   "source": [
    "pause"
   ]
  },
  {
   "cell_type": "markdown",
   "id": "7475ee6a",
   "metadata": {},
   "source": [
    "# Init Env"
   ]
  },
  {
   "cell_type": "code",
   "execution_count": null,
   "id": "9a6fd193",
   "metadata": {},
   "outputs": [],
   "source": [
    "from uva_env import UvaEnv\n",
    "env = UvaEnv()"
   ]
  },
  {
   "cell_type": "code",
   "execution_count": null,
   "id": "d3e665fe",
   "metadata": {},
   "outputs": [],
   "source": [
    "from task.utils import add_scene_default\n",
    "add_scene_default()"
   ]
  },
  {
   "cell_type": "code",
   "execution_count": null,
   "id": "4c55eb32",
   "metadata": {
    "scrolled": true
   },
   "outputs": [],
   "source": [
    "print(list(env.stage.TraverseAll()))"
   ]
  },
  {
   "cell_type": "code",
   "execution_count": null,
   "id": "feaeb7d0",
   "metadata": {},
   "outputs": [],
   "source": [
    "env.clean()\n",
    "env.world.step(render=True)"
   ]
  },
  {
   "cell_type": "markdown",
   "id": "be34671d",
   "metadata": {},
   "source": [
    "# Config"
   ]
  },
  {
   "cell_type": "code",
   "execution_count": null,
   "id": "491f4078",
   "metadata": {},
   "outputs": [],
   "source": [
    "from task.config import DATA_PATH\n",
    "task_type = \"Table\"\n",
    "side_choice = \"Border\"\n",
    "base_asset_id = 0\n",
    "load_nucleus = True"
   ]
  },
  {
   "cell_type": "markdown",
   "id": "d3c365e3",
   "metadata": {},
   "source": [
    "# Scene"
   ]
  },
  {
   "cell_type": "code",
   "execution_count": null,
   "id": "19d7b119",
   "metadata": {},
   "outputs": [],
   "source": [
    "from task.scene import ArrangeScene\n",
    "scene = ArrangeScene(task_type, side_choice, base_asset_id = 0, traj_id = 0, load_nucleus = load_nucleus)\n",
    "env.scene = scene"
   ]
  },
  {
   "cell_type": "code",
   "execution_count": null,
   "id": "fae909b6",
   "metadata": {},
   "outputs": [],
   "source": [
    "# add base\n",
    "scene.add_base_asset()"
   ]
  },
  {
   "cell_type": "code",
   "execution_count": null,
   "id": "a7e1de8b",
   "metadata": {},
   "outputs": [],
   "source": [
    "# add room\n",
    "# scene.add_room()"
   ]
  },
  {
   "cell_type": "code",
   "execution_count": null,
   "id": "99481529",
   "metadata": {},
   "outputs": [],
   "source": [
    "env.world.step(render=True)"
   ]
  },
  {
   "cell_type": "markdown",
   "id": "bfd24034",
   "metadata": {},
   "source": [
    "# Reward"
   ]
  },
  {
   "cell_type": "code",
   "execution_count": null,
   "id": "b81a65bf",
   "metadata": {},
   "outputs": [],
   "source": [
    "from uv.reward import Rewarder"
   ]
  },
  {
   "cell_type": "code",
   "execution_count": null,
   "id": "35761844",
   "metadata": {},
   "outputs": [],
   "source": [
    "rewarder = Rewarder(env.world)\n",
    "env.rewarder = rewarder"
   ]
  },
  {
   "cell_type": "markdown",
   "id": "27c8bada",
   "metadata": {},
   "source": [
    "# Render"
   ]
  },
  {
   "cell_type": "code",
   "execution_count": null,
   "id": "fba7340e",
   "metadata": {},
   "outputs": [],
   "source": [
    "from render.helper import RenderHelper\n",
    "render = RenderHelper(task_type, side_choice)\n",
    "\n",
    "render.add_task_cameras()\n",
    "render.set_cameras()"
   ]
  },
  {
   "cell_type": "code",
   "execution_count": null,
   "id": "56d05f4a",
   "metadata": {
    "scrolled": true
   },
   "outputs": [],
   "source": [
    "pause"
   ]
  },
  {
   "cell_type": "markdown",
   "id": "69faba50",
   "metadata": {},
   "source": [
    "#  Learning"
   ]
  },
  {
   "cell_type": "code",
   "execution_count": null,
   "id": "785c3dc5",
   "metadata": {},
   "outputs": [],
   "source": [
    "from learning.network.resnet import ResNetFeatureExtractor\n",
    "from learning.utils import extract_image_feature_and_save\n",
    "\n",
    "device = torch.device(\"cuda\")\n",
    "feature_extractor = ResNetFeatureExtractor(output_layer='avgpool').to(device)"
   ]
  },
  {
   "cell_type": "markdown",
   "id": "a93eef8c",
   "metadata": {},
   "source": [
    "# Trajectory"
   ]
  },
  {
   "cell_type": "code",
   "execution_count": null,
   "id": "d9049e66",
   "metadata": {
    "scrolled": true
   },
   "outputs": [],
   "source": [
    "# traj config\n",
    "for traj_id in range(5):\n",
    "\n",
    "    base_asset_id = 0\n",
    "    env.scene.base_asset_id = base_asset_id\n",
    "    env.scene.traj_id = traj_id\n",
    "    image_folder = os.path.join(DATA_PATH, task_type, side_choice, str(traj_id))\n",
    "\n",
    "    # base\n",
    "    # scene.add_base_asset()\n",
    "    env.world.step(render = True)\n",
    "\n",
    "    # get images\n",
    "    env.world.render()\n",
    "    images = render.get_images()\n",
    "    render.save_rgb(images[0]['rgb'], image_folder, \"0\")\n",
    "    \n",
    "    ## extract feature\n",
    "    \n",
    "    extract_image_feature_and_save(images[0]['rgb'][:,:,:3], \n",
    "        feature_extractor, os.path.join(image_folder, str(0) + \".pt\"))\n",
    "    \n",
    "\n",
    "    # trajectory\n",
    "    for step in range(5):\n",
    "\n",
    "        env.add_scene_obj(mode = \"random\")\n",
    "\n",
    "        x, y = np.tanh(np.random.randn()), np.tanh(np.random.randn())\n",
    "\n",
    "        env.put_last_object((x, y)) \n",
    "        env.world.step(render=True)\n",
    "\n",
    "        env.register_last_object()\n",
    "        env.world.step(render=True)\n",
    "\n",
    "        # get images\n",
    "        env.world.render()\n",
    "        images = render.get_images()\n",
    "        render.save_rgb(images[0]['rgb'], image_folder, str(step + 1))\n",
    "\n",
    "        ## calculate reward\n",
    "        env.calculate_last_reward(simulation_step = 30)\n",
    "        \n",
    "        ## extract feature\n",
    "        extract_image_feature_and_save(images[0]['rgb'][:,:,:3], \n",
    "            feature_extractor, os.path.join(image_folder, str(step + 1) + \".pt\"))\n",
    "\n",
    "        ## reset\n",
    "        env.world.reset()\n",
    "        env.world.step(render=True)\n",
    "\n",
    "\n",
    "    # Record\n",
    "    record = env.scene.get_scene_data()\n",
    "    env.scene.save_scene_data()\n",
    "    print(\"record: \", record)\n",
    "\n",
    "    # Reset (env clean)\n",
    "    env.clean(clean_all = False)\n",
    "    env.step(render = True)"
   ]
  },
  {
   "cell_type": "markdown",
   "id": "11155e93",
   "metadata": {},
   "source": [
    "# Debug"
   ]
  },
  {
   "cell_type": "code",
   "execution_count": null,
   "id": "a3c0bdec",
   "metadata": {},
   "outputs": [],
   "source": [
    "# get images\n",
    "env.world.render()\n",
    "env.world.render()\n",
    "images = render.get_images()\n",
    "\n",
    "Image.fromarray(images[0]['rgb'], \"RGBA\").resize((300, 300))"
   ]
  },
  {
   "cell_type": "markdown",
   "id": "9d3687f5",
   "metadata": {},
   "source": [
    "# Replay Buffer"
   ]
  },
  {
   "cell_type": "code",
   "execution_count": 6,
   "id": "1e20a46a",
   "metadata": {},
   "outputs": [],
   "source": [
    "import json\n",
    "replay = json.load(open(\"/home/yizhou/Research/DeepArrange/Data/Table/Border/4/scene.json\"))"
   ]
  },
  {
   "cell_type": "code",
   "execution_count": 7,
   "id": "a8d01e0a",
   "metadata": {},
   "outputs": [],
   "source": [
    "from learning.replay_buffer import ReplayBuffer"
   ]
  },
  {
   "cell_type": "code",
   "execution_count": 8,
   "id": "7a0f064c",
   "metadata": {},
   "outputs": [],
   "source": [
    "buffer = ReplayBuffer(max_size=1000)"
   ]
  },
  {
   "cell_type": "code",
   "execution_count": 9,
   "id": "bec87318",
   "metadata": {},
   "outputs": [],
   "source": [
    "buffer.add_scene_sample(replay)"
   ]
  },
  {
   "cell_type": "code",
   "execution_count": 10,
   "id": "b12aadf0",
   "metadata": {},
   "outputs": [
    {
     "data": {
      "text/plain": [
       "device(type='cpu')"
      ]
     },
     "execution_count": 10,
     "metadata": {},
     "output_type": "execute_result"
    }
   ],
   "source": [
    "buffer.dataset[0][2].device"
   ]
  },
  {
   "cell_type": "code",
   "execution_count": 11,
   "id": "c162806e",
   "metadata": {},
   "outputs": [],
   "source": [
    "batch = buffer.sample_batch()"
   ]
  },
  {
   "cell_type": "code",
   "execution_count": 12,
   "id": "9c23d95f",
   "metadata": {
    "scrolled": false
   },
   "outputs": [],
   "source": [
    "rewards = batch['rewards']\n",
    "terminals = batch['terminals']\n",
    "obs = batch['observations']\n",
    "actions = batch['actions']\n",
    "next_obs = batch['next_observations']\n",
    "\n",
    "obj_features = batch['object_features']"
   ]
  },
  {
   "cell_type": "code",
   "execution_count": 13,
   "id": "aabecf1e",
   "metadata": {},
   "outputs": [],
   "source": [
    "from learning.network.sac import *"
   ]
  },
  {
   "cell_type": "code",
   "execution_count": 14,
   "id": "be829202",
   "metadata": {},
   "outputs": [],
   "source": [
    "policy = Policy()"
   ]
  },
  {
   "cell_type": "code",
   "execution_count": 15,
   "id": "99941f6f",
   "metadata": {},
   "outputs": [],
   "source": [
    "dist = policy(obs, obj_features)"
   ]
  },
  {
   "cell_type": "code",
   "execution_count": 18,
   "id": "a1c60bf3",
   "metadata": {},
   "outputs": [],
   "source": [
    "new_obs_actions, log_pi = dist.rsample_and_logprob()"
   ]
  },
  {
   "cell_type": "code",
   "execution_count": 19,
   "id": "83b01db8",
   "metadata": {
    "scrolled": false
   },
   "outputs": [
    {
     "data": {
      "text/plain": [
       "(tensor([[-0.5816,  0.5362],\n",
       "         [-0.7767,  0.4089],\n",
       "         [ 0.2033,  0.5470],\n",
       "         [ 0.8587, -0.0724]], grad_fn=<TanhBackward0>),\n",
       " tensor([-1.3819, -1.2805, -1.5592, -1.4640], dtype=torch.float64,\n",
       "        grad_fn=<AddBackward0>))"
      ]
     },
     "execution_count": 19,
     "metadata": {},
     "output_type": "execute_result"
    }
   ],
   "source": [
    "new_obs_actions, log_pi"
   ]
  },
  {
   "cell_type": "code",
   "execution_count": 16,
   "id": "0175e4a5",
   "metadata": {},
   "outputs": [],
   "source": [
    "qf1 = QFunction()\n",
    "qf2 = QFunction()\n",
    "target_qf1 = QFunction()\n",
    "target_qf2 = QFunction()"
   ]
  },
  {
   "cell_type": "code",
   "execution_count": null,
   "id": "4d924ef4",
   "metadata": {},
   "outputs": [],
   "source": []
  }
 ],
 "metadata": {
  "kernelspec": {
   "display_name": "Isaac Sim Python 3",
   "language": "python",
   "name": "isaac_sim_python3"
  },
  "language_info": {
   "codemirror_mode": {
    "name": "ipython",
    "version": 3
   },
   "file_extension": ".py",
   "mimetype": "text/x-python",
   "name": "python",
   "nbconvert_exporter": "python",
   "pygments_lexer": "ipython3",
   "version": "3.7.13"
  }
 },
 "nbformat": 4,
 "nbformat_minor": 5
}
