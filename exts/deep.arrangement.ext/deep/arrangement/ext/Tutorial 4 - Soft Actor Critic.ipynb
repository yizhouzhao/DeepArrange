{
 "cells": [
  {
   "cell_type": "markdown",
   "id": "a4e7074e",
   "metadata": {},
   "source": [
    "# Start Simulation"
   ]
  },
  {
   "cell_type": "code",
   "execution_count": 1,
   "id": "3fe18b05",
   "metadata": {},
   "outputs": [],
   "source": [
    "import random\n",
    "import numpy as np\n",
    "import os\n",
    "import time\n",
    "from PIL import Image\n",
    "\n",
    "import torch\n",
    "torch.__version__\n",
    "device = torch.device(\"cuda\")"
   ]
  },
  {
   "cell_type": "code",
   "execution_count": 2,
   "id": "0137c535",
   "metadata": {},
   "outputs": [
    {
     "name": "stdout",
     "output_type": "stream",
     "text": [
      "yizhou\n"
     ]
    }
   ],
   "source": [
    "import getpass\n",
    "user = getpass.getuser()\n",
    "print(user)"
   ]
  },
  {
   "cell_type": "code",
   "execution_count": 3,
   "id": "b9d56ea3",
   "metadata": {},
   "outputs": [],
   "source": [
    "usd_path = f\"omniverse://localhost/Users/{user}/uva_sac.usd\""
   ]
  },
  {
   "cell_type": "code",
   "execution_count": 4,
   "id": "d7e8d7fe",
   "metadata": {
    "scrolled": true
   },
   "outputs": [
    {
     "name": "stdout",
     "output_type": "stream",
     "text": [
      "Starting kit application with the fillowing args:  ['/home/yizhou/.local/share/ov/pkg/isaac_sim-2022.1.1/exts/omni.isaac.kit/omni/isaac/kit/simulation_app.py', '/home/yizhou/.local/share/ov/pkg/isaac_sim-2022.1.1/apps/omni.isaac.sim.python.kit', '--/app/tokens/exe-path=/home/yizhou/.local/share/ov/pkg/isaac_sim-2022.1.1/kit', '--/persistent/app/viewport/displayOptions=3094', '--/rtx/materialDb/syncLoads=True', '--/rtx/hydra/materialSyncLoads=True--/omni.kit.plugin/syncUsdLoads=True', '--/app/renderer/resolution/width=1280', '--/app/renderer/resolution/height=720', '--/app/window/width=1440', '--/app/window/height=900', '--/renderer/multiGpu/enabled=True', '--ext-folder', '/home/yizhou/.local/share/ov/pkg/isaac_sim-2022.1.1/exts', '--ext-folder', '/home/yizhou/.local/share/ov/pkg/isaac_sim-2022.1.1/apps', '--/physics/cudaDevice=0', '--portable', '--no-window']\n",
      "Passing the following args to the base kit application:  ['-f', '/home/yizhou/.local/share/jupyter/runtime/kernel-2252f685-6a98-4033-9e4e-43d0089e21d0.json']\n",
      "[Warning] [omni.kit.app.plugin] No crash reporter present, dumps uploading isn't available.\n",
      "[Info] [carb] Logging to file: /home/yizhou/.local/share/ov/pkg/isaac_sim-2022.1.1/kit/logs/Kit/Isaac-Sim/2022.1/kit_20221223_171653.log\n",
      "2022-12-24 01:16:53 [5ms] [Warning] [omni.ext.plugin] [ext: omni.drivesim.sensors.nv.lidar] Extensions config 'extension.toml' doesn't exist '/home/yizhou/.local/share/ov/pkg/isaac_sim-2022.1.1/exts/omni.drivesim.sensors.nv.lidar' or '/home/yizhou/.local/share/ov/pkg/isaac_sim-2022.1.1/exts/omni.drivesim.sensors.nv.lidar/config'\n",
      "[0.088s] [ext: omni.stats-0.0.0] startup\n",
      "[0.138s] [ext: omni.gpu_foundation-0.0.0] startup\n",
      "2022-12-24 01:16:53 [140ms] [Warning] [carb] FrameworkImpl::setDefaultPlugin(client: omni.gpu_foundation_factory.plugin, desc : [carb::graphics::Graphics v2.5], plugin : carb.graphics-vulkan.plugin) failed. Plugin selection is locked, because the interface was previously acquired by: \n",
      "[0.149s] [ext: carb.windowing.plugins-1.0.0] startup\n",
      "[0.163s] [ext: omni.assets.plugins-0.0.0] startup\n",
      "[0.165s] [ext: omni.kit.renderer.init-0.0.0] startup\n",
      "\n",
      "|---------------------------------------------------------------------------------------------|\n",
      "| Driver Version: 510.108.3     | Graphics API: Vulkan\n",
      "|=============================================================================================|\n",
      "| GPU | Name                             | Active | LDA | GPU Memory | Vendor-ID | LUID       |\n",
      "|     |                                  |        |     |            | Device-ID | UUID       |\n",
      "|---------------------------------------------------------------------------------------------|\n",
      "| 0   | NVIDIA GeForce RTX 3090          | Yes: 0 |     | 24822   MB | 10de      | 0          |\n",
      "|     |                                  |        |     |            | 2204      | 3f50dd6e.. |\n",
      "|=============================================================================================|\n",
      "| OS: Linux yizhou-Z370-AORUS-Gaming-5, Version: 5.15.0-56-generic\n",
      "| Processor: Intel(R) Core(TM) i7-8700K CPU @ 3.70GHz | Cores: Unknown | Logical: 12\n",
      "|---------------------------------------------------------------------------------------------|\n",
      "| Total Memory (MB): 32044 | Free Memory: 22394\n",
      "| Total Page/Swap (MB): 2047 | Free Page/Swap: 2047\n",
      "|---------------------------------------------------------------------------------------------|\n",
      "2022-12-24 01:16:54 [930ms] [Warning] [carb.cudainterop.plugin] On Linux only, CUDA and the display driver does not support IOMMU-enabled bare-metal PCIe peer to peer memory copy.\n",
      "However, CUDA and the display driver does support IOMMU via VM pass through. As a consequence, users on Linux,\n",
      "when running on a native bare metal system, should disable the IOMMU. The IOMMU should be enabled and the VFIO driver\n",
      "be used as a PCIe pass through for virtual machines.\n",
      "[0.951s] [ext: omni.kit.pipapi-0.0.0] startup\n",
      "[0.962s] [ext: omni.kit.pip_archive-0.0.0] startup\n",
      "[0.966s] [ext: omni.isaac.core_archive-1.2.0] startup\n",
      "[0.989s] [ext: omni.usd.config-1.0.0] startup\n",
      "[0.991s] [ext: omni.usd.libs-1.0.0] startup\n",
      "[1.142s] [ext: omni.kit.pip_torch-1_11_0-0.1.3] startup\n",
      "[1.168s] [ext: omni.isaac.ml_archive-1.1.0] startup\n",
      "[1.245s] [ext: omni.kit.loop-isaac-0.1.0] startup\n",
      "[1.246s] [ext: omni.kit.async_engine-0.0.0] startup\n",
      "[1.247s] [ext: omni.appwindow-1.0.0] startup\n",
      "[1.250s] [ext: omni.client-0.1.0] startup\n",
      "[1.261s] [ext: omni.kit.test-0.0.0] startup\n",
      "[1.262s] [ext: omni.kit.renderer.core-0.0.0] startup\n",
      "[1.336s] [ext: omni.ui-2.10.3] startup\n",
      "[1.352s] [ext: carb.audio-0.1.0] startup\n",
      "[1.355s] [ext: omni.kit.mainwindow-0.0.0] startup\n",
      "[1.357s] [ext: omni.uiaudio-1.0.0] startup\n",
      "[1.359s] [ext: omni.kit.uiapp-0.0.0] startup\n",
      "[1.359s] [ext: omni.usd.schema.physics-1.0.0] startup\n",
      "[1.402s] [ext: omni.usd.schema.audio-0.0.0] startup\n",
      "[1.409s] [ext: omni.usd.schema.semantics-0.0.0] startup\n",
      "[1.420s] [ext: omni.usd.schema.omnigraph-1.0.0] startup\n",
      "[1.428s] [ext: omni.usd.schema.anim-0.0.0] startup\n",
      "[1.468s] [ext: omni.kit.commands-1.2.2] startup\n",
      "[1.473s] [ext: omni.timeline-1.0.2] startup\n",
      "[1.475s] [ext: omni.hydra.scene_delegate-0.2.0] startup\n",
      "[1.483s] [ext: omni.kit.audiodeviceenum-1.0.0] startup\n",
      "[1.487s] [ext: omni.usd-1.5.3] startup\n",
      "[1.542s] [ext: omni.kit.asset_converter-1.2.31] startup\n",
      "[1.558s] [ext: omni.usd.schema.physx-0.0.0] startup\n",
      "[1.625s] [ext: omni.usd.schema.isaac-0.2.0] startup\n",
      "[1.667s] [ext: omni.usd.schema.forcefield-0.0.0] startup\n",
      "[1.675s] [ext: omni.kvdb-0.0.0] startup\n",
      "[1.678s] [ext: omni.usdphysics-1.4.15] startup\n",
      "[1.681s] [ext: omni.graph.tools-1.4.0] startup\n",
      "[1.704s] [ext: omni.localcache-0.0.0] startup\n",
      "[1.709s] [ext: omni.kit.stage_templates-1.1.2] startup\n",
      "[1.710s] [ext: omni.convexdecomposition-1.4.15] startup\n",
      "[1.714s] [ext: omni.physics.tensors-0.1.0] startup\n",
      "[1.721s] [ext: omni.physx-1.4.15-5.1] startup\n",
      "[1.751s] [ext: omni.graph.core-2.29.1] startup\n",
      "[1.758s] [ext: omni.kit.menu.utils-1.2.11] startup\n",
      "[1.775s] [ext: omni.physx.tensors-0.1.0] startup\n",
      "[1.784s] [ext: omni.graph-1.23.0] startup\n",
      "[1.843s] [ext: omni.kit.numpy.common-0.1.0] startup\n",
      "[1.846s] [ext: omni.kit.window.script_editor-1.6.2] startup\n",
      "[1.858s] [ext: omni.kit.search_core-1.0.2] startup\n",
      "[1.859s] [ext: omni.isaac.dynamic_control-1.1.0] startup\n",
      "[1.868s] [ext: omni.kit.renderer.capture-0.0.0] startup\n",
      "[1.871s] [ext: omni.kit.widget.filebrowser-2.2.27] startup\n",
      "[1.880s] [ext: omni.kit.widget.path_field-2.0.3] startup\n",
      "[1.882s] [ext: omni.kit.notification_manager-1.0.5] startup\n",
      "[1.884s] [ext: omni.kit.widget.versioning-1.3.8] startup\n",
      "[1.886s] [ext: omni.kit.widget.browser_bar-2.0.3] startup\n",
      "[1.888s] [ext: omni.kit.window.popup_dialog-2.0.8] startup\n",
      "[1.890s] [ext: omni.mdl.neuraylib-0.1.0] startup\n",
      "[1.894s] [ext: omni.kit.window.filepicker-2.4.30] startup\n"
     ]
    },
    {
     "name": "stderr",
     "output_type": "stream",
     "text": [
      "OmniAssetFileFormat\n"
     ]
    },
    {
     "name": "stdout",
     "output_type": "stream",
     "text": [
      "Warp initialized:\n",
      "   Version: 0.2.2\n",
      "   CUDA device: NVIDIA GeForce RTX 3090\n",
      "   Kernel cache: /home/yizhou/.cache/warp/0.2.2\n",
      "[1.947s] [ext: omni.kit.menu.create-1.0.2] startup\n",
      "[1.949s] [ext: omni.mdl-0.1.0] startup\n",
      "[1.972s] [ext: omni.kit.window.file_importer-1.0.4] startup\n",
      "[1.972s] [ext: omni.kit.window.file_exporter-1.0.4] startup\n",
      "[1.973s] [ext: omni.kit.material.library-1.3.10] startup\n",
      "[1.976s] [ext: omni.kit.window.drop_support-1.0.0] startup\n",
      "[1.977s] [ext: omni.kit.window.file-1.3.16] startup\n",
      "[1.979s] [ext: omni.kit.context_menu-1.3.9] startup\n",
      "[1.982s] [ext: omni.kit.window.property-1.6.3] startup\n",
      "[1.984s] [ext: omni.kit.window.content_browser-2.4.28] startup\n",
      "[1.995s] [ext: omni.kit.widget.stage-2.6.15] startup\n",
      "[1.999s] [ext: omni.isaac.version-1.0.0] startup\n",
      "[2.000s] [ext: omni.kit.property.usd-3.14.9] startup\n",
      "[2.033s] [ext: omni.kit.viewport.legacy_gizmos-1.0.0] startup\n",
      "[2.037s] [ext: omni.hydra.rtx-0.1.0] startup\n",
      "[2.047s] [ext: omni.renderer-rtx-0.0.0] startup\n",
      "[2.048s] [ext: omni.hydra.engine.stats-1.0.0] startup\n",
      "[2.054s] [ext: omni.debugdraw-0.1.0] startup\n",
      "[2.060s] [ext: omni.kit.widget.settings-1.0.0] startup\n",
      "[2.061s] [ext: omni.kit.window.viewport-0.0.0] startup\n",
      "[6.425s] [ext: omni.kit.widget.prompt-1.0.1] startup\n",
      "[6.426s] [ext: omni.kit.widget.graph-1.4.3] startup\n",
      "[6.487s] [ext: omni.kit.window.preferences-1.2.1] startup\n",
      "[6.525s] [ext: omni.ui_query-1.1.1] startup\n",
      "[6.528s] [ext: omni.graph.ui-1.6.1] startup\n",
      "[6.557s] [ext: omni.kit.ui_test-1.2.2] startup\n",
      "[6.562s] [ext: omni.graph.action-1.18.0] startup\n",
      "[6.574s] [ext: omni.kit.widget.searchfield-1.0.6] startup\n",
      "[6.576s] [ext: omni.kit.usd_undo-0.1.0] startup\n",
      "[6.579s] [ext: omni.graph.scriptnode-0.5.0] startup\n",
      "[6.581s] [ext: omni.physx.commands-1.4.15-5.1] startup\n",
      "[6.586s] [ext: omni.graph.nodes-1.26.0] startup\n",
      "[6.601s] [ext: omni.command.usd-1.0.1] startup\n",
      "[6.604s] [ext: omni.kit.window.extensions-1.1.0] startup\n",
      "[6.609s] [ext: omni.syntheticdata-0.2.1] startup\n",
      "[6.648s] [ext: omni.kit.primitive.mesh-1.0.0] startup\n",
      "[6.652s] [ext: omni.warp-0.2.2] startup\n",
      "[6.771s] [ext: omni.isaac.ui-0.2.1] startup\n",
      "[6.773s] [ext: omni.replicator.core-1.4.3] startup\n",
      "[6.989s] [ext: omni.isaac.core-1.24.3] startup\n",
      "[7.075s] [ext: omni.physx.ui-1.4.15-5.1] startup\n",
      "[7.155s] [ext: omni.kit.property.material-1.8.5] startup\n",
      "[7.159s] [ext: omni.kit.window.toolbar-1.2.4] startup\n",
      "[7.164s] [ext: omni.isaac.core_nodes-0.13.0] startup\n",
      "[7.176s] [ext: omni.physx.demos-1.4.15-5.1] startup\n",
      "[7.179s] [ext: omni.kit.property.physx-0.1.0] startup\n",
      "2022-12-24 01:17:00 [7,246ms] [Warning] [omni.physx.plugin] Deprecated: getSimulationEventStream is deprecated, please use getSimulationEventStreamV2\n",
      "[7.257s] [ext: omni.physx.tests-1.4.15-5.1] startup\n",
      "[7.527s] [ext: omni.isaac.wheeled_robots-0.5.8] startup\n",
      "[7.537s] [ext: omni.kit.menu.common-1.0.0] startup\n",
      "[7.538s] [ext: omni.physx.vehicle-1.4.15-5.1] startup\n",
      "[7.550s] [ext: omni.physx.cct-1.4.15-5.1] startup\n",
      "[7.622s] [ext: omni.physx.camera-1.4.15-5.1] startup\n",
      "[7.629s] [ext: omni.kit.widget.stage_icons-1.0.2] startup\n",
      "[7.631s] [ext: omni.ui.scene-1.5.0] startup\n",
      "[7.636s] [ext: omni.physx.bundle-1.4.15-5.1] startup\n",
      "[7.637s] [ext: omni.kit.window.stage-2.3.7] startup\n",
      "[7.640s] [ext: omni.replicator.composer-1.1.3] startup\n",
      "[7.673s] [ext: omni.isaac.lula-1.1.0] startup\n",
      "[7.682s] [ext: omni.rtx.window.settings-0.6.1] startup\n",
      "[7.687s] [ext: omni.isaac.surface_gripper-0.1.2] startup\n",
      "[7.692s] [ext: omni.isaac.motion_planning-0.2.0] startup\n",
      "[7.700s] [ext: omni.rtx.settings.core-0.5.5] startup\n",
      "[7.705s] [ext: omni.isaac.manipulators-1.0.1] startup\n",
      "[7.707s] [ext: omni.isaac.motion_generation-3.6.1] startup\n",
      "[7.712s] [ext: omni.kit.widget.zoombar-1.0.3] startup\n",
      "[7.713s] [ext: omni.kit.graph.delegate.default-1.0.15] startup\n",
      "[7.715s] [ext: omni.isaac.franka-0.3.0] startup\n",
      "[7.716s] [ext: omni.kit.browser.core-2.0.12] startup\n",
      "[7.722s] [ext: omni.kit.graph.editor.core-1.3.3] startup\n",
      "[7.725s] [ext: omni.kit.graph.usd.commands-1.1.0] startup\n",
      "[7.726s] [ext: omni.kit.browser.folder.core-1.1.13] startup\n",
      "[7.728s] [ext: omni.kit.graph.widget.variables-2.0.2] startup\n",
      "[7.730s] [ext: omni.kit.graph.delegate.modern-1.6.0] startup\n",
      "[7.731s] [ext: omni.kit.selection-0.1.0] startup\n",
      "[7.732s] [ext: omni.isaac.debug_draw-0.Opening usd file at  omniverse://localhost/Users/yizhou/uva_sac.usd  ...Done.\n",
      "Saving a temp livesync stage at  omniverse://localhost/Users/yizhou/uva_sac.usd  ...Done.\n"
     ]
    }
   ],
   "source": [
    "from omni.isaac.kit import SimulationApp    \n",
    "simulation_app = SimulationApp({\"headless\": True, \"open_usd\": usd_path,  \"livesync_usd\": usd_path}) "
   ]
  },
  {
   "cell_type": "code",
   "execution_count": 5,
   "id": "eadd32bf",
   "metadata": {},
   "outputs": [
    {
     "ename": "NameError",
     "evalue": "name 'pause' is not defined",
     "output_type": "error",
     "traceback": [
      "\u001b[0;31m---------------------------------------------------------------------------\u001b[0m",
      "\u001b[0;31mNameError\u001b[0m                                 Traceback (most recent call last)",
      "\u001b[0;32m/tmp/ipykernel_19246/1188747208.py\u001b[0m in \u001b[0;36m<module>\u001b[0;34m\u001b[0m\n\u001b[0;32m----> 1\u001b[0;31m \u001b[0mpause\u001b[0m\u001b[0;34m\u001b[0m\u001b[0;34m\u001b[0m\u001b[0m\n\u001b[0m",
      "\u001b[0;31mNameError\u001b[0m: name 'pause' is not defined"
     ]
    }
   ],
   "source": [
    "pause"
   ]
  },
  {
   "cell_type": "markdown",
   "id": "7475ee6a",
   "metadata": {},
   "source": [
    "# Init Env"
   ]
  },
  {
   "cell_type": "code",
   "execution_count": null,
   "id": "9a6fd193",
   "metadata": {},
   "outputs": [],
   "source": [
    "from uva_env import UvaEnv\n",
    "env = UvaEnv()"
   ]
  },
  {
   "cell_type": "code",
   "execution_count": null,
   "id": "d3e665fe",
   "metadata": {},
   "outputs": [],
   "source": [
    "from task.utils import add_scene_default\n",
    "add_scene_default()"
   ]
  },
  {
   "cell_type": "code",
   "execution_count": null,
   "id": "4c55eb32",
   "metadata": {
    "scrolled": true
   },
   "outputs": [],
   "source": [
    "print(list(env.stage.TraverseAll()))"
   ]
  },
  {
   "cell_type": "code",
   "execution_count": null,
   "id": "feaeb7d0",
   "metadata": {},
   "outputs": [],
   "source": [
    "env.clean()\n",
    "env.world.step(render=True)"
   ]
  },
  {
   "cell_type": "markdown",
   "id": "be34671d",
   "metadata": {},
   "source": [
    "# Config"
   ]
  },
  {
   "cell_type": "code",
   "execution_count": null,
   "id": "491f4078",
   "metadata": {},
   "outputs": [],
   "source": [
    "from task.config import DATA_PATH, FEATURE_PATH\n",
    "task_type = \"Table\"\n",
    "side_choice = \"Border\"\n",
    "base_asset_id = 0\n",
    "load_nucleus = True"
   ]
  },
  {
   "cell_type": "markdown",
   "id": "d3c365e3",
   "metadata": {},
   "source": [
    "# Scene"
   ]
  },
  {
   "cell_type": "code",
   "execution_count": null,
   "id": "19d7b119",
   "metadata": {},
   "outputs": [],
   "source": [
    "from task.scene import ArrangeScene\n",
    "scene = ArrangeScene(task_type, side_choice, base_asset_id = 0, traj_id = 0, load_nucleus = load_nucleus)\n",
    "env.scene = scene"
   ]
  },
  {
   "cell_type": "code",
   "execution_count": null,
   "id": "fae909b6",
   "metadata": {},
   "outputs": [],
   "source": [
    "# add base\n",
    "scene.add_base_asset()"
   ]
  },
  {
   "cell_type": "code",
   "execution_count": null,
   "id": "a7e1de8b",
   "metadata": {},
   "outputs": [],
   "source": [
    "# add room\n",
    "# scene.add_room()"
   ]
  },
  {
   "cell_type": "code",
   "execution_count": null,
   "id": "99481529",
   "metadata": {},
   "outputs": [],
   "source": [
    "env.world.step(render=True)"
   ]
  },
  {
   "cell_type": "markdown",
   "id": "bfd24034",
   "metadata": {},
   "source": [
    "# Reward"
   ]
  },
  {
   "cell_type": "code",
   "execution_count": null,
   "id": "b81a65bf",
   "metadata": {},
   "outputs": [],
   "source": [
    "from uv.reward import Rewarder"
   ]
  },
  {
   "cell_type": "code",
   "execution_count": null,
   "id": "35761844",
   "metadata": {},
   "outputs": [],
   "source": [
    "rewarder = Rewarder(env.world)\n",
    "env.rewarder = rewarder"
   ]
  },
  {
   "cell_type": "markdown",
   "id": "27c8bada",
   "metadata": {},
   "source": [
    "# Render"
   ]
  },
  {
   "cell_type": "code",
   "execution_count": null,
   "id": "fba7340e",
   "metadata": {},
   "outputs": [],
   "source": [
    "from render.helper import RenderHelper\n",
    "render = RenderHelper(task_type, side_choice)\n",
    "\n",
    "render.add_task_cameras()\n",
    "render.set_cameras()"
   ]
  },
  {
   "cell_type": "code",
   "execution_count": null,
   "id": "56d05f4a",
   "metadata": {
    "scrolled": true
   },
   "outputs": [],
   "source": [
    "pause"
   ]
  },
  {
   "cell_type": "markdown",
   "id": "69faba50",
   "metadata": {},
   "source": [
    "#  Learning"
   ]
  },
  {
   "cell_type": "code",
   "execution_count": null,
   "id": "785c3dc5",
   "metadata": {},
   "outputs": [],
   "source": [
    "# from learning.network.resnet import ResNetFeatureExtractor\n",
    "\n",
    "# feature extraction\n",
    "from learning.utils import extract_image_clip_feature_and_save\n",
    "from transformers import CLIPProcessor, CLIPModel\n",
    "\n",
    "feature_model = CLIPModel.from_pretrained(\"openai/clip-vit-base-patch32\").to(device)\n",
    "feature_processor = CLIPProcessor.from_pretrained(\"openai/clip-vit-base-patch32\")"
   ]
  },
  {
   "cell_type": "code",
   "execution_count": null,
   "id": "0007f5dd",
   "metadata": {},
   "outputs": [],
   "source": [
    "# replay buffer\n",
    "import json\n",
    "from learning.replay_buffer import ReplayBuffer\n",
    "from learning.config import *\n",
    "\n",
    "buffer = ReplayBuffer(max_size=1000)"
   ]
  },
  {
   "cell_type": "code",
   "execution_count": null,
   "id": "0bc01884",
   "metadata": {},
   "outputs": [],
   "source": [
    "# trainer\n",
    "from learning.network.sac import *\n",
    "\n",
    "policy = Policy()\n",
    "\n",
    "qf1 = QFunction()\n",
    "qf2 = QFunction()\n",
    "target_qf1 = QFunction()\n",
    "target_qf2 = QFunction()\n",
    "\n",
    "from learning.sac_trainer import SACTrainer\n",
    "\n",
    "trainer = SACTrainer(policy, qf1, qf2, target_qf1, target_qf2, \n",
    "     use_automatic_entropy_tuning = False, \n",
    "     policy_lr=1e-3, \n",
    "     qf_lr=1e-3,\n",
    "     target_update_period = 5)"
   ]
  },
  {
   "cell_type": "markdown",
   "id": "a93eef8c",
   "metadata": {},
   "source": [
    "# Trajectory"
   ]
  },
  {
   "cell_type": "code",
   "execution_count": 6,
   "id": "857b6330",
   "metadata": {},
   "outputs": [],
   "source": [
    "use_network = False"
   ]
  },
  {
   "cell_type": "code",
   "execution_count": null,
   "id": "2707b5f0",
   "metadata": {},
   "outputs": [],
   "source": [
    "total_traj = 0\n",
    "total_step = 0"
   ]
  },
  {
   "cell_type": "code",
   "execution_count": null,
   "id": "d9049e66",
   "metadata": {
    "scrolled": true
   },
   "outputs": [],
   "source": [
    "# traj config\n",
    "for traj_id in range(1):\n",
    "    total_traj += 1\n",
    "    \n",
    "    base_asset_id = 0\n",
    "    env.scene.base_asset_id = base_asset_id\n",
    "    env.scene.traj_id = traj_id\n",
    "    image_folder = os.path.join(DATA_PATH, task_type, side_choice, str(traj_id))\n",
    "\n",
    "    # base\n",
    "    # scene.add_base_asset()\n",
    "    env.world.step(render = True)\n",
    "\n",
    "    # get images\n",
    "    env.world.render()\n",
    "    images = render.get_images()\n",
    "    render.save_rgb(images[0]['rgb'], image_folder, \"0\")\n",
    "    \n",
    "    ## extract feature\n",
    "    \n",
    "#     extract_image_feature_and_save(images[0]['rgb'][:,:,:3], \n",
    "#         feature_extractor, os.path.join(image_folder, str(0) + \".pt\"))\n",
    "    extract_image_clip_feature_and_save(f\"{image_folder}/{0}.png\", feature_model, feature_processor, \n",
    "        f\"{image_folder}/{0}.pt\",)\n",
    "    \n",
    "\n",
    "    # trajectory\n",
    "    for step in range(5):\n",
    "        total_step += 1\n",
    "        env.add_scene_obj(mode = \"random\")\n",
    "        \n",
    "        # TODO: get action from sampling\n",
    "        if not use_network: # or total_traj < 10 or np.random.rand() < 0.2:\n",
    "            x, y = np.tanh(np.random.randn()), np.tanh(np.random.randn())\n",
    "        else:\n",
    "            image_feature_file = f\"{image_folder}/{step}.pt\"\n",
    "            \n",
    "            object_info = scene_dict[\"objects\"][-1]\n",
    "            object_type = object_info[\"type\"]\n",
    "            obj_name = object_info[\"name\"][:-4]\n",
    "            object_feature_file = os.path.join(FEATURE_PATH, object_type, obj_name + \".pt\")\n",
    "            x, y = obtain_action_from_trainer(image_feature_file, object_feature_file, trainer)\n",
    "\n",
    "        env.put_last_object((x, y)) \n",
    "        env.world.step(render=True)\n",
    "\n",
    "        env.register_last_object()\n",
    "        env.world.step(render=True)\n",
    "\n",
    "        # get images\n",
    "        env.world.render()\n",
    "        images = render.get_images()\n",
    "        render.save_rgb(images[0]['rgb'], image_folder, str(step + 1))\n",
    "\n",
    "        ## calculate reward\n",
    "        env.calculate_last_reward(simulation_step = 30)\n",
    "        \n",
    "        ## extract feature\n",
    "#         extract_image_feature_and_save(images[0]['rgb'][:,:,:3], \n",
    "#             feature_extractor, os.path.join(image_folder, str(step + 1) + \".pt\"))\n",
    "        extract_image_clip_feature_and_save(f\"{image_folder}/{step + 1}.png\", feature_model, feature_processor, \n",
    "            f\"{image_folder}/{step + 1}.pt\",)\n",
    "    \n",
    "\n",
    "        ## reset\n",
    "        env.world.reset()\n",
    "        env.world.step(render=True)\n",
    "        \n",
    "#         ## trainer nework\n",
    "#         if use_network and total_step % UPDATE_TRAINER_STEPS == 0:\n",
    "#             batch = buffer.sample_batch(batch_size = BATCH_SIZE)\n",
    "#             trainer.update(batch)\n",
    "            \n",
    "#             dist = trainer.policy(obs, obj_features)\n",
    "#             pred = trainer.qf1(obs, obj_features, actions)\n",
    "#             print(_, #\"\\n dist: \", dist.mean.flatten().tolist(), dist.stddev.flatten().tolist(),\n",
    "#                   \"\\n pred:\", pred.flatten().tolist(),\n",
    "#                   \"\\n rewards: \", rewards.flatten().tolist())\n",
    "\n",
    "\n",
    "    # Record\n",
    "    record = env.scene.get_scene_data()\n",
    "    env.scene.save_scene_data()\n",
    "    print(\"record: \", record)\n",
    "    \n",
    "    # Add record to buffer\n",
    "    buffer.add_scene_sample(record)\n",
    "\n",
    "    # Reset (env clean)\n",
    "    env.clean(clean_all = False)\n",
    "    env.step(render = True)"
   ]
  },
  {
   "cell_type": "markdown",
   "id": "11155e93",
   "metadata": {},
   "source": [
    "# Debug"
   ]
  },
  {
   "cell_type": "code",
   "execution_count": null,
   "id": "a3c0bdec",
   "metadata": {},
   "outputs": [],
   "source": [
    "# get images\n",
    "env.world.render()\n",
    "env.world.render()\n",
    "images = render.get_images()\n",
    "\n",
    "Image.fromarray(images[0]['rgb'], \"RGBA\").resize((300, 300))"
   ]
  },
  {
   "cell_type": "markdown",
   "id": "9d3687f5",
   "metadata": {},
   "source": [
    "##  Replay Buffer"
   ]
  },
  {
   "cell_type": "code",
   "execution_count": null,
   "id": "a8d01e0a",
   "metadata": {},
   "outputs": [],
   "source": [
    "import json\n",
    "from learning.replay_buffer import ReplayBuffer\n",
    "\n",
    "buffer = ReplayBuffer(max_size=1000)\n",
    "\n",
    "for i in range(1):\n",
    "    replay = json.load(open(f\"{DATA_PATH}/{task_type}/{side_choice}/{i}/scene.json\"))\n",
    "    buffer.add_scene_sample(replay)"
   ]
  },
  {
   "cell_type": "code",
   "execution_count": null,
   "id": "bec87318",
   "metadata": {},
   "outputs": [],
   "source": [
    "len(buffer.dataset)"
   ]
  },
  {
   "cell_type": "code",
   "execution_count": null,
   "id": "0acc75a9",
   "metadata": {},
   "outputs": [],
   "source": [
    "self = trainer"
   ]
  },
  {
   "cell_type": "code",
   "execution_count": null,
   "id": "be95f838",
   "metadata": {
    "scrolled": true
   },
   "outputs": [],
   "source": [
    "for _ in range(500):\n",
    "    batch = buffer.sample_batch(batch_size=6)\n",
    "\n",
    "    rewards = batch['rewards'].to(device)\n",
    "    terminals = batch['terminals'].to(device)\n",
    "    obs = batch['observations'].to(device)\n",
    "    actions = batch['actions'].to(device)\n",
    "    next_obs = batch['next_observations'].to(device)\n",
    "\n",
    "    obj_features = batch['object_features'].to(device)\n",
    "\n",
    "    # print(\"rewards\", rewards)\n",
    "\n",
    "    self.update(batch)\n",
    "    \n",
    "    if _ % 20 == 0:\n",
    "        dist = self.policy(obs, obj_features)\n",
    "        pred = self.qf1(obs, obj_features, actions)\n",
    "        print(_, #\"\\n dist: \", dist.mean.flatten().tolist(), dist.stddev.flatten().tolist(),\n",
    "              \"\\n pred:\", pred.flatten().tolist(),\n",
    "              \"\\n rewards: \", rewards.flatten().tolist())\n",
    "    \n",
    "#     # debug\n",
    "#     pred = self.qf1(obs, obj_features, actions)\n",
    "#     loss = self.qf_criterion(pred, rewards)\n",
    "    \n",
    "#     self.qf1_optimizer.zero_grad()\n",
    "#     loss.backward()\n",
    "#     self.qf1_optimizer.step()\n",
    "    \n",
    "#     if _ % 20 == 0:\n",
    "#         print(_, \"\\n debug loss: \", loss.item(), \"\\n pred:\", \n",
    "#               pred.flatten().tolist(), \"\\n rewards: \", rewards.flatten().tolist())"
   ]
  },
  {
   "cell_type": "code",
   "execution_count": null,
   "id": "aa6fffc0",
   "metadata": {},
   "outputs": [],
   "source": [
    "dist = self.policy(obs.to(device), obj_features.to(device))"
   ]
  },
  {
   "cell_type": "code",
   "execution_count": null,
   "id": "55fdb9ba",
   "metadata": {},
   "outputs": [],
   "source": [
    "dist.sample()"
   ]
  },
  {
   "cell_type": "code",
   "execution_count": null,
   "id": "6fa47896",
   "metadata": {},
   "outputs": [],
   "source": []
  }
 ],
 "metadata": {
  "kernelspec": {
   "display_name": "Isaac Sim Python 3",
   "language": "python",
   "name": "isaac_sim_python3"
  },
  "language_info": {
   "codemirror_mode": {
    "name": "ipython",
    "version": 3
   },
   "file_extension": ".py",
   "mimetype": "text/x-python",
   "name": "python",
   "nbconvert_exporter": "python",
   "pygments_lexer": "ipython3",
   "version": "3.7.13"
  }
 },
 "nbformat": 4,
 "nbformat_minor": 5
}
