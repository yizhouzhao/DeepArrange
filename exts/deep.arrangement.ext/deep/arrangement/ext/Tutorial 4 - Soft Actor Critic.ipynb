{
 "cells": [
  {
   "cell_type": "markdown",
   "id": "a4e7074e",
   "metadata": {},
   "source": [
    "# Start Simulation"
   ]
  },
  {
   "cell_type": "code",
   "execution_count": 1,
   "id": "3fe18b05",
   "metadata": {},
   "outputs": [
    {
     "data": {
      "text/plain": [
       "'1.11.0+cu113'"
      ]
     },
     "execution_count": 1,
     "metadata": {},
     "output_type": "execute_result"
    }
   ],
   "source": [
    "import random\n",
    "import numpy as np\n",
    "import os\n",
    "import time\n",
    "from PIL import Image\n",
    "\n",
    "import torch\n",
    "torch.__version__"
   ]
  },
  {
   "cell_type": "code",
   "execution_count": 2,
   "id": "0137c535",
   "metadata": {},
   "outputs": [
    {
     "name": "stdout",
     "output_type": "stream",
     "text": [
      "yizhou\n"
     ]
    }
   ],
   "source": [
    "import getpass\n",
    "user = getpass.getuser()\n",
    "print(user)"
   ]
  },
  {
   "cell_type": "code",
   "execution_count": 3,
   "id": "b9d56ea3",
   "metadata": {},
   "outputs": [],
   "source": [
    "usd_path = f\"omniverse://localhost/Users/{user}/uva_sac.usd\""
   ]
  },
  {
   "cell_type": "code",
   "execution_count": 4,
   "id": "d7e8d7fe",
   "metadata": {
    "scrolled": true
   },
   "outputs": [
    {
     "name": "stdout",
     "output_type": "stream",
     "text": [
      "Starting kit application with the fillowing args:  ['/home/yizhou/.local/share/ov/pkg/isaac_sim-2022.1.1/exts/omni.isaac.kit/omni/isaac/kit/simulation_app.py', '/home/yizhou/.local/share/ov/pkg/isaac_sim-2022.1.1/apps/omni.isaac.sim.python.kit', '--/app/tokens/exe-path=/home/yizhou/.local/share/ov/pkg/isaac_sim-2022.1.1/kit', '--/persistent/app/viewport/displayOptions=3094', '--/rtx/materialDb/syncLoads=True', '--/rtx/hydra/materialSyncLoads=True--/omni.kit.plugin/syncUsdLoads=True', '--/app/renderer/resolution/width=1280', '--/app/renderer/resolution/height=720', '--/app/window/width=1440', '--/app/window/height=900', '--/renderer/multiGpu/enabled=True', '--ext-folder', '/home/yizhou/.local/share/ov/pkg/isaac_sim-2022.1.1/exts', '--ext-folder', '/home/yizhou/.local/share/ov/pkg/isaac_sim-2022.1.1/apps', '--/physics/cudaDevice=0', '--portable', '--no-window']\n",
      "Passing the following args to the base kit application:  ['-f', '/home/yizhou/.local/share/jupyter/runtime/kernel-4b6fdfbf-0c21-4519-bc08-c685757dcaaf.json']\n",
      "[Warning] [omni.kit.app.plugin] No crash reporter present, dumps uploading isn't available.\n",
      "[Info] [carb] Logging to file: /home/yizhou/.local/share/ov/pkg/isaac_sim-2022.1.1/kit/logs/Kit/Isaac-Sim/2022.1/kit_20221221_111822.log\n",
      "2022-12-21 19:18:22 [4ms] [Warning] [omni.ext.plugin] [ext: omni.drivesim.sensors.nv.lidar] Extensions config 'extension.toml' doesn't exist '/home/yizhou/.local/share/ov/pkg/isaac_sim-2022.1.1/exts/omni.drivesim.sensors.nv.lidar' or '/home/yizhou/.local/share/ov/pkg/isaac_sim-2022.1.1/exts/omni.drivesim.sensors.nv.lidar/config'\n",
      "[0.087s] [ext: omni.stats-0.0.0] startup\n",
      "[0.129s] [ext: omni.gpu_foundation-0.0.0] startup\n",
      "2022-12-21 19:18:22 [129ms] [Warning] [carb] FrameworkImpl::setDefaultPlugin(client: omni.gpu_foundation_factory.plugin, desc : [carb::graphics::Graphics v2.5], plugin : carb.graphics-vulkan.plugin) failed. Plugin selection is locked, because the interface was previously acquired by: \n",
      "[0.137s] [ext: carb.windowing.plugins-1.0.0] startup\n",
      "[0.146s] [ext: omni.assets.plugins-0.0.0] startup\n",
      "[0.147s] [ext: omni.kit.renderer.init-0.0.0] startup\n",
      "\n",
      "|---------------------------------------------------------------------------------------------|\n",
      "| Driver Version: 510.108.3     | Graphics API: Vulkan\n",
      "|=============================================================================================|\n",
      "| GPU | Name                             | Active | LDA | GPU Memory | Vendor-ID | LUID       |\n",
      "|     |                                  |        |     |            | Device-ID | UUID       |\n",
      "|---------------------------------------------------------------------------------------------|\n",
      "| 0   | NVIDIA GeForce RTX 3090          | Yes: 0 |     | 24822   MB | 10de      | 0          |\n",
      "|     |                                  |        |     |            | 2204      | 3f50dd6e.. |\n",
      "|=============================================================================================|\n",
      "| OS: Linux yizhou-Z370-AORUS-Gaming-5, Version: 5.15.0-56-generic\n",
      "| Processor: Intel(R) Core(TM) i7-8700K CPU @ 3.70GHz | Cores: Unknown | Logical: 12\n",
      "|---------------------------------------------------------------------------------------------|\n",
      "| Total Memory (MB): 32044 | Free Memory: 27218\n",
      "| Total Page/Swap (MB): 2047 | Free Page/Swap: 2047\n",
      "|---------------------------------------------------------------------------------------------|\n",
      "2022-12-21 19:18:22 [856ms] [Warning] [carb.cudainterop.plugin] On Linux only, CUDA and the display driver does not support IOMMU-enabled bare-metal PCIe peer to peer memory copy.\n",
      "However, CUDA and the display driver does support IOMMU via VM pass through. As a consequence, users on Linux,\n",
      "when running on a native bare metal system, should disable the IOMMU. The IOMMU should be enabled and the VFIO driver\n",
      "be used as a PCIe pass through for virtual machines.\n",
      "[0.878s] [ext: omni.kit.pipapi-0.0.0] startup\n",
      "[0.888s] [ext: omni.kit.pip_archive-0.0.0] startup\n",
      "[0.892s] [ext: omni.isaac.core_archive-1.2.0] startup\n",
      "[0.912s] [ext: omni.usd.config-1.0.0] startup\n",
      "[0.914s] [ext: omni.usd.libs-1.0.0] startup\n",
      "[1.054s] [ext: omni.kit.pip_torch-1_11_0-0.1.3] startup\n",
      "[1.080s] [ext: omni.isaac.ml_archive-1.1.0] startup\n",
      "[1.130s] [ext: omni.kit.loop-isaac-0.1.0] startup\n",
      "[1.130s] [ext: omni.kit.async_engine-0.0.0] startup\n",
      "[1.132s] [ext: omni.appwindow-1.0.0] startup\n",
      "[1.134s] [ext: omni.client-0.1.0] startup\n",
      "[1.144s] [ext: omni.kit.test-0.0.0] startup\n",
      "[1.145s] [ext: omni.kit.renderer.core-0.0.0] startup\n",
      "[1.220s] [ext: omni.ui-2.10.3] startup\n",
      "[1.237s] [ext: carb.audio-0.1.0] startup\n",
      "[1.259s] [ext: omni.kit.mainwindow-0.0.0] startup\n",
      "[1.261s] [ext: omni.uiaudio-1.0.0] startup\n",
      "[1.263s] [ext: omni.kit.uiapp-0.0.0] startup\n",
      "[1.263s] [ext: omni.usd.schema.physics-1.0.0] startup\n",
      "[1.305s] [ext: omni.usd.schema.audio-0.0.0] startup\n",
      "[1.312s] [ext: omni.usd.schema.semantics-0.0.0] startup\n",
      "[1.323s] [ext: omni.usd.schema.omnigraph-1.0.0] startup\n",
      "[1.332s] [ext: omni.usd.schema.anim-0.0.0] startup\n",
      "[1.374s] [ext: omni.kit.commands-1.2.2] startup\n",
      "[1.379s] [ext: omni.timeline-1.0.2] startup\n",
      "[1.381s] [ext: omni.hydra.scene_delegate-0.2.0] startup\n",
      "[1.389s] [ext: omni.kit.audiodeviceenum-1.0.0] startup\n",
      "[1.391s] [ext: omni.usd-1.5.3] startup\n",
      "[1.450s] [ext: omni.kit.asset_converter-1.2.31] startup\n",
      "[1.474s] [ext: omni.usd.schema.physx-0.0.0] startup\n",
      "[1.504s] [ext: omni.usd.schema.isaac-0.2.0] startup\n",
      "[1.547s] [ext: omni.usd.schema.forcefield-0.0.0] startup\n",
      "[1.556s] [ext: omni.kvdb-0.0.0] startup\n",
      "[1.558s] [ext: omni.usdphysics-1.4.15] startup\n",
      "[1.562s] [ext: omni.graph.tools-1.4.0] startup\n",
      "[1.584s] [ext: omni.localcache-0.0.0] startup\n",
      "[1.630s] [ext: omni.kit.stage_templates-1.1.2] startup\n",
      "[1.631s] [ext: omni.convexdecomposition-1.4.15] startup\n",
      "[1.635s] [ext: omni.physics.tensors-0.1.0] startup\n",
      "[1.642s] [ext: omni.physx-1.4.15-5.1] startup\n",
      "[1.682s] [ext: omni.graph.core-2.29.1] startup\n",
      "[1.690s] [ext: omni.kit.menu.utils-1.2.11] startup\n",
      "[1.702s] [ext: omni.physx.tensors-0.1.0] startup\n",
      "[1.708s] [ext: omni.graph-1.23.0] startup\n",
      "[1.759s] [ext: omni.kit.numpy.common-0.1.0] startup\n",
      "[1.763s] [ext: omni.kit.window.script_editor-1.6.2] startup\n",
      "[1.774s] [ext: omni.kit.search_core-1.0.2] startup\n",
      "[1.776s] [ext: omni.isaac.dynamic_control-1.1.0] startup\n",
      "[1.784s] [ext: omni.kit.renderer.capture-0.0.0] startup\n",
      "[1.787s] [ext: omni.kit.widget.filebrowser-2.2.27] startup\n",
      "[1.796s] [ext: omni.kit.widget.path_field-2.0.3] startup\n",
      "[1.798s] [ext: omni.kit.notification_manager-1.0.5] startup\n",
      "[1.800s] [ext: omni.kit.widget.versioning-1.3.8] startup\n",
      "[1.802s] [ext: omni.kit.widget.browser_bar-2.0.3] startup\n",
      "[1.803s] [ext: omni.kit.window.popup_dialog-2.0.8] startup\n",
      "[1.806s] [ext: omni.mdl.neuraylib-0.1.0] startup\n",
      "[1.809s] [ext: omni.kit.window.filepicker-2.4.30] startup\n"
     ]
    },
    {
     "name": "stderr",
     "output_type": "stream",
     "text": [
      "OmniAssetFileFormat\n"
     ]
    },
    {
     "name": "stdout",
     "output_type": "stream",
     "text": [
      "Warp initialized:\n",
      "   Version: 0.2.2\n",
      "   CUDA device: NVIDIA GeForce RTX 3090\n",
      "   Kernel cache: /home/yizhou/.cache/warp/0.2.2\n",
      "[1.865s] [ext: omni.kit.menu.create-1.0.2] startup\n",
      "[1.867s] [ext: omni.mdl-0.1.0] startup\n",
      "[1.888s] [ext: omni.kit.window.file_importer-1.0.4] startup\n",
      "[1.888s] [ext: omni.kit.window.file_exporter-1.0.4] startup\n",
      "[1.889s] [ext: omni.kit.material.library-1.3.10] startup\n",
      "[1.892s] [ext: omni.kit.window.drop_support-1.0.0] startup\n",
      "[1.893s] [ext: omni.kit.window.file-1.3.16] startup\n",
      "[1.896s] [ext: omni.kit.context_menu-1.3.9] startup\n",
      "[1.902s] [ext: omni.kit.window.property-1.6.3] startup\n",
      "[1.904s] [ext: omni.kit.window.content_browser-2.4.28] startup\n",
      "[1.915s] [ext: omni.kit.widget.stage-2.6.15] startup\n",
      "[1.919s] [ext: omni.isaac.version-1.0.0] startup\n",
      "[1.920s] [ext: omni.kit.property.usd-3.14.9] startup\n",
      "[1.956s] [ext: omni.kit.viewport.legacy_gizmos-1.0.0] startup\n",
      "[1.960s] [ext: omni.hydra.rtx-0.1.0] startup\n",
      "[1.971s] [ext: omni.renderer-rtx-0.0.0] startup\n",
      "[1.971s] [ext: omni.hydra.engine.stats-1.0.0] startup\n",
      "[1.978s] [ext: omni.debugdraw-0.1.0] startup\n",
      "[1.984s] [ext: omni.kit.widget.settings-1.0.0] startup\n",
      "[1.986s] [ext: omni.kit.window.viewport-0.0.0] startup\n",
      "[6.517s] [ext: omni.kit.widget.prompt-1.0.1] startup\n",
      "[6.518s] [ext: omni.kit.widget.graph-1.4.3] startup\n",
      "[6.526s] [ext: omni.kit.window.preferences-1.2.1] startup\n",
      "[6.612s] [ext: omni.ui_query-1.1.1] startup\n",
      "[6.614s] [ext: omni.graph.ui-1.6.1] startup\n",
      "[6.638s] [ext: omni.kit.ui_test-1.2.2] startup\n",
      "[6.640s] [ext: omni.graph.action-1.18.0] startup\n",
      "[6.651s] [ext: omni.kit.widget.searchfield-1.0.6] startup\n",
      "[6.653s] [ext: omni.kit.usd_undo-0.1.0] startup\n",
      "[6.654s] [ext: omni.graph.scriptnode-0.5.0] startup\n",
      "[6.657s] [ext: omni.physx.commands-1.4.15-5.1] startup\n",
      "[6.662s] [ext: omni.graph.nodes-1.26.0] startup\n",
      "[6.677s] [ext: omni.command.usd-1.0.1] startup\n",
      "[6.680s] [ext: omni.kit.window.extensions-1.1.0] startup\n",
      "[6.685s] [ext: omni.syntheticdata-0.2.1] startup\n",
      "[6.708s] [ext: omni.kit.primitive.mesh-1.0.0] startup\n",
      "[6.712s] [ext: omni.warp-0.2.2] startup\n",
      "[6.855s] [ext: omni.isaac.ui-0.2.1] startup\n",
      "[6.857s] [ext: omni.replicator.core-1.4.3] startup\n",
      "[6.993s] [ext: omni.isaac.core-1.24.3] startup\n",
      "[7.144s] [ext: omni.physx.ui-1.4.15-5.1] startup\n",
      "[7.229s] [ext: omni.kit.property.material-1.8.5] startup\n",
      "[7.231s] [ext: omni.kit.window.toolbar-1.2.4] startup\n",
      "[7.237s] [ext: omni.isaac.core_nodes-0.13.0] startup\n",
      "[7.249s] [ext: omni.physx.demos-1.4.15-5.1] startup\n",
      "[7.252s] [ext: omni.kit.property.physx-0.1.0] startup\n",
      "2022-12-21 19:18:29 [7,316ms] [Warning] [omni.physx.plugin] Deprecated: getSimulationEventStream is deprecated, please use getSimulationEventStreamV2\n",
      "[7.326s] [ext: omni.physx.tests-1.4.15-5.1] startup\n",
      "[7.626s] [ext: omni.isaac.wheeled_robots-0.5.8] startup\n",
      "[7.640s] [ext: omni.kit.menu.common-1.0.0] startup\n",
      "[7.642s] [ext: omni.physx.vehicle-1.4.15-5.1] startup\n",
      "[7.661s] [ext: omni.physx.cct-1.4.15-5.1] startup\n",
      "[7.758s] [ext: omni.physx.camera-1.4.15-5.1] startup\n",
      "[7.767s] [ext: omni.kit.widget.stage_icons-1.0.2] startup\n",
      "[7.769s] [ext: omni.ui.scene-1.5.0] startup\n",
      "[7.777s] [ext: omni.physx.bundle-1.4.15-5.1] startup\n",
      "[7.777s] [ext: omni.kit.window.stage-2.3.7] startup\n",
      "[7.782s] [ext: omni.replicator.composer-1.1.3] startup\n",
      "[7.802s] [ext: omni.isaac.lula-1.1.0] startup\n",
      "[7.813s] [ext: omni.rtx.window.settings-0.6.1] startup\n",
      "[7.820s] [ext: omni.isaac.surface_gripper-0.1.2] startup\n",
      "[7.827s] [ext: omni.isaac.motion_planning-0.2.0] startup\n",
      "[7.840s] [ext: omni.rtx.settings.core-0.5.5] startup\n",
      "[7.849s] [ext: omni.isaac.manipulators-1.0.1] startup\n",
      "[7.852s] [ext: omni.isaac.motion_generation-3.6.1] startup\n",
      "[7.859s] [ext: omni.kit.widget.zoombar-1.0.3] startup\n",
      "[7.860s] [ext: omni.kit.graph.delegate.default-1.0.15] startup\n",
      "[7.865s] [ext: omni.isaac.franka-0.3.0] startup\n",
      "[7.866s] [ext: omni.kit.browser.core-2.0.12] startup\n",
      "[7.874s] [ext: omni.kit.graph.editor.core-1.3.3] startup\n",
      "[7.877s] [ext: omni.kit.graph.usd.commands-1.1.0] startup\n",
      "[7.879s] [ext: omni.kit.browser.folder.core-1.1.13] startup\n",
      "[7.882s] [ext: omni.kit.graph.widget.variables-2.0.2] startup\n",
      "[7.885s] [ext: omni.kit.graph.delegate.modern-1.6.0] startup\n",
      "[7.886s] [ext: omni.kit.selection-0.1.0] startup\n",
      "[7.887s] [ext: omni.isaac.debug_draw-0.Opening usd file at  omniverse://localhost/Users/yizhou/uva_sac.usd  ...Done.\n",
      "Saving a temp livesync stage at  omniverse://localhost/Users/yizhou/uva_sac.usd  ...Done.\n"
     ]
    }
   ],
   "source": [
    "from omni.isaac.kit import SimulationApp    \n",
    "simulation_app = SimulationApp({\"headless\": True, \"open_usd\": usd_path,  \"livesync_usd\": usd_path}) "
   ]
  },
  {
   "cell_type": "code",
   "execution_count": 5,
   "id": "eadd32bf",
   "metadata": {},
   "outputs": [
    {
     "ename": "NameError",
     "evalue": "name 'pause' is not defined",
     "output_type": "error",
     "traceback": [
      "\u001b[0;31m---------------------------------------------------------------------------\u001b[0m",
      "\u001b[0;31mNameError\u001b[0m                                 Traceback (most recent call last)",
      "\u001b[0;32m/tmp/ipykernel_33185/1188747208.py\u001b[0m in \u001b[0;36m<module>\u001b[0;34m\u001b[0m\n\u001b[0;32m----> 1\u001b[0;31m \u001b[0mpause\u001b[0m\u001b[0;34m\u001b[0m\u001b[0;34m\u001b[0m\u001b[0m\n\u001b[0m",
      "\u001b[0;31mNameError\u001b[0m: name 'pause' is not defined"
     ]
    }
   ],
   "source": [
    "pause"
   ]
  },
  {
   "cell_type": "markdown",
   "id": "7475ee6a",
   "metadata": {},
   "source": [
    "# Init Env"
   ]
  },
  {
   "cell_type": "code",
   "execution_count": null,
   "id": "9a6fd193",
   "metadata": {},
   "outputs": [],
   "source": [
    "from uva_env import UvaEnv\n",
    "env = UvaEnv()"
   ]
  },
  {
   "cell_type": "code",
   "execution_count": null,
   "id": "d3e665fe",
   "metadata": {},
   "outputs": [],
   "source": [
    "from task.utils import add_scene_default\n",
    "add_scene_default()"
   ]
  },
  {
   "cell_type": "code",
   "execution_count": null,
   "id": "4c55eb32",
   "metadata": {
    "scrolled": true
   },
   "outputs": [],
   "source": [
    "print(list(env.stage.TraverseAll()))"
   ]
  },
  {
   "cell_type": "code",
   "execution_count": null,
   "id": "feaeb7d0",
   "metadata": {},
   "outputs": [],
   "source": [
    "env.clean()\n",
    "env.world.step(render=True)"
   ]
  },
  {
   "cell_type": "markdown",
   "id": "be34671d",
   "metadata": {},
   "source": [
    "# Config"
   ]
  },
  {
   "cell_type": "code",
   "execution_count": null,
   "id": "491f4078",
   "metadata": {},
   "outputs": [],
   "source": [
    "from task.config import DATA_PATH\n",
    "task_type = \"Table\"\n",
    "side_choice = \"Border\"\n",
    "base_asset_id = 0\n",
    "load_nucleus = True"
   ]
  },
  {
   "cell_type": "markdown",
   "id": "d3c365e3",
   "metadata": {},
   "source": [
    "# Scene"
   ]
  },
  {
   "cell_type": "code",
   "execution_count": null,
   "id": "19d7b119",
   "metadata": {},
   "outputs": [],
   "source": [
    "from task.scene import ArrangeScene\n",
    "scene = ArrangeScene(task_type, side_choice, base_asset_id = 0, traj_id = 0, load_nucleus = load_nucleus)\n",
    "env.scene = scene"
   ]
  },
  {
   "cell_type": "code",
   "execution_count": null,
   "id": "fae909b6",
   "metadata": {},
   "outputs": [],
   "source": [
    "# add base\n",
    "scene.add_base_asset()"
   ]
  },
  {
   "cell_type": "code",
   "execution_count": null,
   "id": "a7e1de8b",
   "metadata": {},
   "outputs": [],
   "source": [
    "# add room\n",
    "# scene.add_room()"
   ]
  },
  {
   "cell_type": "code",
   "execution_count": null,
   "id": "99481529",
   "metadata": {},
   "outputs": [],
   "source": [
    "env.world.step(render=True)"
   ]
  },
  {
   "cell_type": "markdown",
   "id": "bfd24034",
   "metadata": {},
   "source": [
    "# Reward"
   ]
  },
  {
   "cell_type": "code",
   "execution_count": null,
   "id": "b81a65bf",
   "metadata": {},
   "outputs": [],
   "source": [
    "from uv.reward import Rewarder"
   ]
  },
  {
   "cell_type": "code",
   "execution_count": null,
   "id": "35761844",
   "metadata": {},
   "outputs": [],
   "source": [
    "rewarder = Rewarder(env.world)\n",
    "env.rewarder = rewarder"
   ]
  },
  {
   "cell_type": "markdown",
   "id": "27c8bada",
   "metadata": {},
   "source": [
    "# Render"
   ]
  },
  {
   "cell_type": "code",
   "execution_count": null,
   "id": "fba7340e",
   "metadata": {},
   "outputs": [],
   "source": [
    "from render.helper import RenderHelper\n",
    "render = RenderHelper(task_type, side_choice)\n",
    "\n",
    "render.add_task_cameras()\n",
    "render.set_cameras()"
   ]
  },
  {
   "cell_type": "code",
   "execution_count": null,
   "id": "56d05f4a",
   "metadata": {
    "scrolled": true
   },
   "outputs": [],
   "source": [
    "pause"
   ]
  },
  {
   "cell_type": "markdown",
   "id": "69faba50",
   "metadata": {},
   "source": [
    "#  Learning"
   ]
  },
  {
   "cell_type": "code",
   "execution_count": null,
   "id": "785c3dc5",
   "metadata": {},
   "outputs": [],
   "source": [
    "from learning.network.resnet import ResNetFeatureExtractor\n",
    "from learning.utils import extract_image_feature_and_save\n",
    "\n",
    "device = torch.device(\"cuda\")\n",
    "feature_extractor = ResNetFeatureExtractor(output_layer='avgpool').to(device)"
   ]
  },
  {
   "cell_type": "markdown",
   "id": "a93eef8c",
   "metadata": {},
   "source": [
    "# Trajectory"
   ]
  },
  {
   "cell_type": "code",
   "execution_count": null,
   "id": "d9049e66",
   "metadata": {
    "scrolled": true
   },
   "outputs": [],
   "source": [
    "# traj config\n",
    "for traj_id in range(5):\n",
    "\n",
    "    base_asset_id = 0\n",
    "    env.scene.base_asset_id = base_asset_id\n",
    "    env.scene.traj_id = traj_id\n",
    "    image_folder = os.path.join(DATA_PATH, task_type, side_choice, str(traj_id))\n",
    "\n",
    "    # base\n",
    "    # scene.add_base_asset()\n",
    "    env.world.step(render = True)\n",
    "\n",
    "    # get images\n",
    "    env.world.render()\n",
    "    images = render.get_images()\n",
    "    render.save_rgb(images[0]['rgb'], image_folder, \"0\")\n",
    "    \n",
    "    ## extract feature\n",
    "    \n",
    "    extract_image_feature_and_save(images[0]['rgb'][:,:,:3], \n",
    "        feature_extractor, os.path.join(image_folder, str(0) + \".pt\"))\n",
    "    \n",
    "\n",
    "    # trajectory\n",
    "    for step in range(5):\n",
    "\n",
    "        env.add_scene_obj(mode = \"random\")\n",
    "\n",
    "        x, y = np.tanh(np.random.randn()), np.tanh(np.random.randn())\n",
    "\n",
    "        env.put_last_object((x, y)) \n",
    "        env.world.step(render=True)\n",
    "\n",
    "        env.register_last_object()\n",
    "        env.world.step(render=True)\n",
    "\n",
    "        # get images\n",
    "        env.world.render()\n",
    "        images = render.get_images()\n",
    "        render.save_rgb(images[0]['rgb'], image_folder, str(step + 1))\n",
    "\n",
    "        ## calculate reward\n",
    "        env.calculate_last_reward(simulation_step = 30)\n",
    "        \n",
    "        ## extract feature\n",
    "        extract_image_feature_and_save(images[0]['rgb'][:,:,:3], \n",
    "            feature_extractor, os.path.join(image_folder, str(step + 1) + \".pt\"))\n",
    "\n",
    "        ## reset\n",
    "        env.world.reset()\n",
    "        env.world.step(render=True)\n",
    "\n",
    "\n",
    "    # Record\n",
    "    record = env.scene.get_scene_data()\n",
    "    env.scene.save_scene_data()\n",
    "    print(\"record: \", record)\n",
    "\n",
    "    # Reset (env clean)\n",
    "    env.clean(clean_all = False)\n",
    "    env.step(render = True)"
   ]
  },
  {
   "cell_type": "markdown",
   "id": "11155e93",
   "metadata": {},
   "source": [
    "# Debug"
   ]
  },
  {
   "cell_type": "code",
   "execution_count": null,
   "id": "a3c0bdec",
   "metadata": {},
   "outputs": [],
   "source": [
    "# get images\n",
    "env.world.render()\n",
    "env.world.render()\n",
    "images = render.get_images()\n",
    "\n",
    "Image.fromarray(images[0]['rgb'], \"RGBA\").resize((300, 300))"
   ]
  },
  {
   "cell_type": "markdown",
   "id": "9d3687f5",
   "metadata": {},
   "source": [
    "# Replay Buffer"
   ]
  },
  {
   "cell_type": "code",
   "execution_count": 6,
   "id": "a8d01e0a",
   "metadata": {},
   "outputs": [],
   "source": [
    "import json\n",
    "from learning.replay_buffer import ReplayBuffer\n",
    "\n",
    "buffer = ReplayBuffer(max_size=1000)\n",
    "\n",
    "for i in range(5):\n",
    "    replay = json.load(open(f\"/home/yizhou/Research/DeepArrange/Data/Table/Border/{i}/scene.json\"))\n",
    "    buffer.add_scene_sample(replay)"
   ]
  },
  {
   "cell_type": "code",
   "execution_count": 7,
   "id": "bec87318",
   "metadata": {},
   "outputs": [
    {
     "data": {
      "text/plain": [
       "25"
      ]
     },
     "execution_count": 7,
     "metadata": {},
     "output_type": "execute_result"
    }
   ],
   "source": [
    "len(buffer.dataset)"
   ]
  },
  {
   "cell_type": "code",
   "execution_count": 33,
   "id": "69257ad5",
   "metadata": {},
   "outputs": [],
   "source": [
    "from learning.network.sac import *"
   ]
  },
  {
   "cell_type": "code",
   "execution_count": 34,
   "id": "bf449052",
   "metadata": {},
   "outputs": [],
   "source": [
    "policy = Policy()"
   ]
  },
  {
   "cell_type": "code",
   "execution_count": 59,
   "id": "b0b72d98",
   "metadata": {},
   "outputs": [],
   "source": [
    "qf1 = QFunction()\n",
    "qf2 = QFunction()\n",
    "target_qf1 = QFunction()\n",
    "target_qf2 = QFunction()"
   ]
  },
  {
   "cell_type": "code",
   "execution_count": 36,
   "id": "97e9b710",
   "metadata": {},
   "outputs": [],
   "source": [
    "from learning.sac_trainer import SACTrainer"
   ]
  },
  {
   "cell_type": "code",
   "execution_count": 37,
   "id": "a0899e09",
   "metadata": {},
   "outputs": [],
   "source": [
    "trainer = SACTrainer(policy, qf1, qf2, target_qf1, target_qf2, \n",
    "                     use_automatic_entropy_tuning = False, policy_lr=1e-2, qf_lr=1e-2)"
   ]
  },
  {
   "cell_type": "code",
   "execution_count": 38,
   "id": "0acc75a9",
   "metadata": {},
   "outputs": [],
   "source": [
    "self = trainer"
   ]
  },
  {
   "cell_type": "code",
   "execution_count": 72,
   "id": "6896f670",
   "metadata": {
    "scrolled": true
   },
   "outputs": [
    {
     "name": "stdout",
     "output_type": "stream",
     "text": [
      "tensor(0.0812, grad_fn=<MseLossBackward0>)\n",
      "tensor(0.0814, grad_fn=<MseLossBackward0>)\n",
      "tensor(0.3879, grad_fn=<MseLossBackward0>)\n",
      "tensor(0.0835, grad_fn=<MseLossBackward0>)\n",
      "tensor(0.0817, grad_fn=<MseLossBackward0>)\n",
      "tensor(0.3175, grad_fn=<MseLossBackward0>)\n",
      "tensor(0.3894, grad_fn=<MseLossBackward0>)\n",
      "tensor(0.6844, grad_fn=<MseLossBackward0>)\n",
      "tensor(0.7025, grad_fn=<MseLossBackward0>)\n",
      "tensor(0.3174, grad_fn=<MseLossBackward0>)\n"
     ]
    }
   ],
   "source": [
    "for _ in range(200):\n",
    "    batch = buffer.sample_batch()\n",
    "\n",
    "    rewards = batch['rewards']\n",
    "    terminals = batch['terminals']\n",
    "    obs = batch['observations']\n",
    "    actions = batch['actions']\n",
    "    next_obs = batch['next_observations']\n",
    "\n",
    "    obj_features = batch['object_features']\n",
    "\n",
    "    # print(\"rewards\", rewards)\n",
    "\n",
    "    # self.update(batch)\n",
    "    \n",
    "    # debug\n",
    "    loss = self.qf_criterion(self.qf1(obs, obj_features, actions), rewards)\n",
    "    \n",
    "    self.qf1_optimizer.zero_grad()\n",
    "    loss.backward()\n",
    "    self.qf1_optimizer.step()\n",
    "    \n",
    "    if _ % 20 == 0:\n",
    "        print(loss)"
   ]
  },
  {
   "cell_type": "code",
   "execution_count": 73,
   "id": "081aa9e7",
   "metadata": {},
   "outputs": [
    {
     "data": {
      "text/plain": [
       "(tensor([[-0.4306],\n",
       "         [ 0.9999],\n",
       "         [-0.4306],\n",
       "         [-0.4307]]),\n",
       " tensor([[ 0.9163,  0.5451],\n",
       "         [-0.0011,  0.3062],\n",
       "         [-0.0576, -0.8124],\n",
       "         [ 0.4190,  0.9134]]))"
      ]
     },
     "execution_count": 73,
     "metadata": {},
     "output_type": "execute_result"
    }
   ],
   "source": [
    "rewards, actions"
   ]
  },
  {
   "cell_type": "code",
   "execution_count": 74,
   "id": "ec131c80",
   "metadata": {},
   "outputs": [],
   "source": [
    "# dist = self.policy(obs, obj_features)"
   ]
  },
  {
   "cell_type": "code",
   "execution_count": 75,
   "id": "01d078a6",
   "metadata": {
    "scrolled": true
   },
   "outputs": [
    {
     "data": {
      "text/plain": [
       "tensor([[-0.1510],\n",
       "        [-0.1510],\n",
       "        [-0.1510],\n",
       "        [-0.1510]], grad_fn=<AddmmBackward0>)"
      ]
     },
     "execution_count": 75,
     "metadata": {},
     "output_type": "execute_result"
    }
   ],
   "source": [
    "self.qf1(obs, obj_features, actions)"
   ]
  },
  {
   "cell_type": "code",
   "execution_count": 70,
   "id": "78007359",
   "metadata": {},
   "outputs": [
    {
     "data": {
      "text/plain": [
       "tensor([[0.9454, 0.9111, 0.9123,  ..., 0.9255, 1.1013, 1.0055],\n",
       "        [0.8791, 0.9661, 0.9072,  ..., 0.9817, 1.0401, 0.9429],\n",
       "        [0.8325, 0.9283, 0.8923,  ..., 0.9793, 0.9742, 0.9796],\n",
       "        [0.8963, 0.8634, 0.9292,  ..., 0.9009, 1.0927, 1.0213]])"
      ]
     },
     "execution_count": 70,
     "metadata": {},
     "output_type": "execute_result"
    }
   ],
   "source": [
    "obj_features"
   ]
  },
  {
   "cell_type": "code",
   "execution_count": 55,
   "id": "f7f5af17",
   "metadata": {},
   "outputs": [],
   "source": [
    "obs[0] = 1"
   ]
  },
  {
   "cell_type": "code",
   "execution_count": 56,
   "id": "fa1c4d4d",
   "metadata": {},
   "outputs": [
    {
     "data": {
      "text/plain": [
       "tensor([[1.0000, 1.0000, 1.0000,  ..., 1.0000, 1.0000, 1.0000],\n",
       "        [0.7918, 0.8651, 0.8981,  ..., 0.8115, 1.0423, 0.8800],\n",
       "        [0.7890, 0.8796, 0.9107,  ..., 0.7912, 0.9899, 0.8965],\n",
       "        [0.8028, 0.8527, 0.8989,  ..., 0.8449, 1.0544, 0.8796]])"
      ]
     },
     "execution_count": 56,
     "metadata": {},
     "output_type": "execute_result"
    }
   ],
   "source": [
    "obs"
   ]
  },
  {
   "cell_type": "code",
   "execution_count": 57,
   "id": "73e45dc5",
   "metadata": {},
   "outputs": [
    {
     "data": {
      "text/plain": [
       "(tensor([[-0.6286,  0.7084],\n",
       "         [-0.0268,  0.9241],\n",
       "         [-0.0328, -0.9979],\n",
       "         [ 0.6593, -0.6339]], grad_fn=<TanhBackward0>),\n",
       " tensor([-1.3192, -0.4424, -0.4116, -1.4707], dtype=torch.float64,\n",
       "        grad_fn=<AddBackward0>))"
      ]
     },
     "execution_count": 57,
     "metadata": {},
     "output_type": "execute_result"
    }
   ],
   "source": [
    "# dist.rsample_and_logprob()"
   ]
  },
  {
   "cell_type": "code",
   "execution_count": 22,
   "id": "991e92a7",
   "metadata": {},
   "outputs": [
    {
     "data": {
      "text/plain": [
       "tensor([[-0.7321,  0.5690],\n",
       "        [-0.4139, -0.9464],\n",
       "        [-0.5716, -0.1899],\n",
       "        [ 0.5536, -0.6067]])"
      ]
     },
     "execution_count": 22,
     "metadata": {},
     "output_type": "execute_result"
    }
   ],
   "source": [
    "# dist.sample()"
   ]
  },
  {
   "cell_type": "code",
   "execution_count": 23,
   "id": "4879a27d",
   "metadata": {},
   "outputs": [
    {
     "data": {
      "text/plain": [
       "(tensor([[ 0.0572, -0.0268],\n",
       "         [ 0.0572, -0.0268],\n",
       "         [ 0.0572, -0.0268],\n",
       "         [ 0.0572, -0.0268]], grad_fn=<TanhBackward0>),\n",
       " tensor([[0.9583, 0.8517],\n",
       "         [0.9583, 0.8517],\n",
       "         [0.9583, 0.8517],\n",
       "         [0.9583, 0.8517]], grad_fn=<ExpBackward0>))"
      ]
     },
     "execution_count": 23,
     "metadata": {},
     "output_type": "execute_result"
    }
   ],
   "source": [
    "dist.mean, dist.stddev"
   ]
  },
  {
   "cell_type": "code",
   "execution_count": null,
   "id": "ce246887",
   "metadata": {},
   "outputs": [],
   "source": [
    "dist.sample()"
   ]
  },
  {
   "cell_type": "code",
   "execution_count": 24,
   "id": "92843bdb",
   "metadata": {},
   "outputs": [
    {
     "data": {
      "text/plain": [
       "tensor([[0.8406, 0.8769, 0.8628,  ..., 0.7819, 1.0063, 0.8904],\n",
       "        [0.8020, 0.8466, 0.9013,  ..., 0.7364, 0.9952, 0.8739],\n",
       "        [0.8049, 0.8739, 0.8753,  ..., 0.8279, 1.0591, 0.9171],\n",
       "        [0.8242, 0.8760, 0.8797,  ..., 0.7917, 1.0462, 0.8790]])"
      ]
     },
     "execution_count": 24,
     "metadata": {},
     "output_type": "execute_result"
    }
   ],
   "source": [
    "obs"
   ]
  }
 ],
 "metadata": {
  "kernelspec": {
   "display_name": "Isaac Sim Python 3",
   "language": "python",
   "name": "isaac_sim_python3"
  },
  "language_info": {
   "codemirror_mode": {
    "name": "ipython",
    "version": 3
   },
   "file_extension": ".py",
   "mimetype": "text/x-python",
   "name": "python",
   "nbconvert_exporter": "python",
   "pygments_lexer": "ipython3",
   "version": "3.7.13"
  }
 },
 "nbformat": 4,
 "nbformat_minor": 5
}
