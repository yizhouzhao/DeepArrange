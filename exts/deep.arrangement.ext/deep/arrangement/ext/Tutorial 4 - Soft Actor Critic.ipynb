{
 "cells": [
  {
   "cell_type": "markdown",
   "id": "a4e7074e",
   "metadata": {},
   "source": [
    "# Start Simulation"
   ]
  },
  {
   "cell_type": "code",
   "execution_count": 16,
   "id": "3fe18b05",
   "metadata": {},
   "outputs": [],
   "source": [
    "import random\n",
    "import numpy as np\n",
    "import os\n",
    "import time\n",
    "from PIL import Image\n",
    "\n",
    "import torch\n",
    "torch.__version__\n",
    "device = torch.device(\"cuda\")"
   ]
  },
  {
   "cell_type": "code",
   "execution_count": 2,
   "id": "0137c535",
   "metadata": {},
   "outputs": [
    {
     "name": "stdout",
     "output_type": "stream",
     "text": [
      "yizhou\n"
     ]
    }
   ],
   "source": [
    "import getpass\n",
    "user = getpass.getuser()\n",
    "print(user)"
   ]
  },
  {
   "cell_type": "code",
   "execution_count": 3,
   "id": "b9d56ea3",
   "metadata": {},
   "outputs": [],
   "source": [
    "usd_path = f\"omniverse://localhost/Users/{user}/uva_sac.usd\""
   ]
  },
  {
   "cell_type": "code",
   "execution_count": 4,
   "id": "d7e8d7fe",
   "metadata": {
    "scrolled": true
   },
   "outputs": [
    {
     "name": "stdout",
     "output_type": "stream",
     "text": [
      "Starting kit application with the fillowing args:  ['/home/yizhou/.local/share/ov/pkg/isaac_sim-2022.1.1/exts/omni.isaac.kit/omni/isaac/kit/simulation_app.py', '/home/yizhou/.local/share/ov/pkg/isaac_sim-2022.1.1/apps/omni.isaac.sim.python.kit', '--/app/tokens/exe-path=/home/yizhou/.local/share/ov/pkg/isaac_sim-2022.1.1/kit', '--/persistent/app/viewport/displayOptions=3094', '--/rtx/materialDb/syncLoads=True', '--/rtx/hydra/materialSyncLoads=True--/omni.kit.plugin/syncUsdLoads=True', '--/app/renderer/resolution/width=1280', '--/app/renderer/resolution/height=720', '--/app/window/width=1440', '--/app/window/height=900', '--/renderer/multiGpu/enabled=True', '--ext-folder', '/home/yizhou/.local/share/ov/pkg/isaac_sim-2022.1.1/exts', '--ext-folder', '/home/yizhou/.local/share/ov/pkg/isaac_sim-2022.1.1/apps', '--/physics/cudaDevice=0', '--portable', '--no-window']\n",
      "Passing the following args to the base kit application:  ['-f', '/home/yizhou/.local/share/jupyter/runtime/kernel-1cd2b635-18ac-4c36-8583-95f4b558034a.json']\n",
      "[Warning] [omni.kit.app.plugin] No crash reporter present, dumps uploading isn't available.\n",
      "[Info] [carb] Logging to file: /home/yizhou/.local/share/ov/pkg/isaac_sim-2022.1.1/kit/logs/Kit/Isaac-Sim/2022.1/kit_20221222_120641.log\n",
      "2022-12-22 20:06:41 [4ms] [Warning] [omni.ext.plugin] [ext: omni.drivesim.sensors.nv.lidar] Extensions config 'extension.toml' doesn't exist '/home/yizhou/.local/share/ov/pkg/isaac_sim-2022.1.1/exts/omni.drivesim.sensors.nv.lidar' or '/home/yizhou/.local/share/ov/pkg/isaac_sim-2022.1.1/exts/omni.drivesim.sensors.nv.lidar/config'\n",
      "[0.087s] [ext: omni.stats-0.0.0] startup\n",
      "[0.132s] [ext: omni.gpu_foundation-0.0.0] startup\n",
      "2022-12-22 20:06:41 [131ms] [Warning] [carb] FrameworkImpl::setDefaultPlugin(client: omni.gpu_foundation_factory.plugin, desc : [carb::graphics::Graphics v2.5], plugin : carb.graphics-vulkan.plugin) failed. Plugin selection is locked, because the interface was previously acquired by: \n",
      "[0.140s] [ext: carb.windowing.plugins-1.0.0] startup\n",
      "[0.151s] [ext: omni.assets.plugins-0.0.0] startup\n",
      "[0.152s] [ext: omni.kit.renderer.init-0.0.0] startup\n",
      "\n",
      "|---------------------------------------------------------------------------------------------|\n",
      "| Driver Version: 510.108.3     | Graphics API: Vulkan\n",
      "|=============================================================================================|\n",
      "| GPU | Name                             | Active | LDA | GPU Memory | Vendor-ID | LUID       |\n",
      "|     |                                  |        |     |            | Device-ID | UUID       |\n",
      "|---------------------------------------------------------------------------------------------|\n",
      "| 0   | NVIDIA GeForce RTX 3090          | Yes: 0 |     | 24822   MB | 10de      | 0          |\n",
      "|     |                                  |        |     |            | 2204      | 3f50dd6e.. |\n",
      "|=============================================================================================|\n",
      "| OS: Linux yizhou-Z370-AORUS-Gaming-5, Version: 5.15.0-56-generic\n",
      "| Processor: Intel(R) Core(TM) i7-8700K CPU @ 3.70GHz | Cores: Unknown | Logical: 12\n",
      "|---------------------------------------------------------------------------------------------|\n",
      "| Total Memory (MB): 32044 | Free Memory: 21175\n",
      "| Total Page/Swap (MB): 2047 | Free Page/Swap: 2047\n",
      "|---------------------------------------------------------------------------------------------|\n",
      "2022-12-22 20:06:42 [812ms] [Warning] [carb.cudainterop.plugin] On Linux only, CUDA and the display driver does not support IOMMU-enabled bare-metal PCIe peer to peer memory copy.\n",
      "However, CUDA and the display driver does support IOMMU via VM pass through. As a consequence, users on Linux,\n",
      "when running on a native bare metal system, should disable the IOMMU. The IOMMU should be enabled and the VFIO driver\n",
      "be used as a PCIe pass through for virtual machines.\n",
      "[0.833s] [ext: omni.kit.pipapi-0.0.0] startup\n",
      "[0.843s] [ext: omni.kit.pip_archive-0.0.0] startup\n",
      "[0.847s] [ext: omni.isaac.core_archive-1.2.0] startup\n",
      "[0.866s] [ext: omni.usd.config-1.0.0] startup\n",
      "[0.867s] [ext: omni.usd.libs-1.0.0] startup\n",
      "[0.986s] [ext: omni.kit.pip_torch-1_11_0-0.1.3] startup\n",
      "[1.014s] [ext: omni.isaac.ml_archive-1.1.0] startup\n",
      "[1.082s] [ext: omni.kit.loop-isaac-0.1.0] startup\n",
      "[1.083s] [ext: omni.kit.async_engine-0.0.0] startup\n",
      "[1.084s] [ext: omni.appwindow-1.0.0] startup\n",
      "[1.090s] [ext: omni.client-0.1.0] startup\n",
      "[1.100s] [ext: omni.kit.test-0.0.0] startup\n",
      "[1.101s] [ext: omni.kit.renderer.core-0.0.0] startup\n",
      "[1.173s] [ext: omni.ui-2.10.3] startup\n",
      "[1.196s] [ext: carb.audio-0.1.0] startup\n",
      "[1.222s] [ext: omni.kit.mainwindow-0.0.0] startup\n",
      "[1.224s] [ext: omni.uiaudio-1.0.0] startup\n",
      "[1.226s] [ext: omni.kit.uiapp-0.0.0] startup\n",
      "[1.226s] [ext: omni.usd.schema.physics-1.0.0] startup\n",
      "[1.269s] [ext: omni.usd.schema.audio-0.0.0] startup\n",
      "[1.276s] [ext: omni.usd.schema.semantics-0.0.0] startup\n",
      "[1.288s] [ext: omni.usd.schema.omnigraph-1.0.0] startup\n",
      "[1.297s] [ext: omni.usd.schema.anim-0.0.0] startup\n",
      "[1.352s] [ext: omni.kit.commands-1.2.2] startup\n",
      "[1.356s] [ext: omni.timeline-1.0.2] startup\n",
      "[1.361s] [ext: omni.hydra.scene_delegate-0.2.0] startup\n",
      "[1.371s] [ext: omni.kit.audiodeviceenum-1.0.0] startup\n",
      "[1.373s] [ext: omni.usd-1.5.3] startup\n",
      "[1.440s] [ext: omni.kit.asset_converter-1.2.31] startup\n",
      "[1.461s] [ext: omni.usd.schema.physx-0.0.0] startup\n",
      "[1.487s] [ext: omni.usd.schema.isaac-0.2.0] startup\n",
      "[1.529s] [ext: omni.usd.schema.forcefield-0.0.0] startup\n",
      "[1.538s] [ext: omni.kvdb-0.0.0] startup\n",
      "[1.540s] [ext: omni.usdphysics-1.4.15] startup\n",
      "[1.544s] [ext: omni.graph.tools-1.4.0] startup\n",
      "[1.606s] [ext: omni.localcache-0.0.0] startup\n",
      "[1.609s] [ext: omni.kit.stage_templates-1.1.2] startup\n",
      "[1.610s] [ext: omni.convexdecomposition-1.4.15] startup\n",
      "[1.614s] [ext: omni.physics.tensors-0.1.0] startup\n",
      "[1.623s] [ext: omni.physx-1.4.15-5.1] startup\n",
      "[1.664s] [ext: omni.graph.core-2.29.1] startup\n",
      "[1.672s] [ext: omni.kit.menu.utils-1.2.11] startup\n",
      "[1.690s] [ext: omni.physx.tensors-0.1.0] startup\n",
      "[1.698s] [ext: omni.graph-1.23.0] startup\n",
      "[1.749s] [ext: omni.kit.numpy.common-0.1.0] startup\n",
      "[1.752s] [ext: omni.kit.window.script_editor-1.6.2] startup\n",
      "[1.764s] [ext: omni.kit.search_core-1.0.2] startup\n",
      "[1.766s] [ext: omni.isaac.dynamic_control-1.1.0] startup\n",
      "[1.774s] [ext: omni.kit.renderer.capture-0.0.0] startup\n",
      "[1.777s] [ext: omni.kit.widget.filebrowser-2.2.27] startup\n",
      "[1.785s] [ext: omni.kit.widget.path_field-2.0.3] startup\n",
      "[1.787s] [ext: omni.kit.notification_manager-1.0.5] startup\n",
      "[1.789s] [ext: omni.kit.widget.versioning-1.3.8] startup\n",
      "[1.791s] [ext: omni.kit.widget.browser_bar-2.0.3] startup\n",
      "[1.793s] [ext: omni.kit.window.popup_dialog-2.0.8] startup\n",
      "[1.795s] [ext: omni.mdl.neuraylib-0.1.0] startup\n",
      "[1.799s] [ext: omni.kit.window.filepicker-2.4.30] startup\n"
     ]
    },
    {
     "name": "stderr",
     "output_type": "stream",
     "text": [
      "OmniAssetFileFormat\n"
     ]
    },
    {
     "name": "stdout",
     "output_type": "stream",
     "text": [
      "Warp initialized:\n",
      "   Version: 0.2.2\n",
      "   CUDA device: NVIDIA GeForce RTX 3090\n",
      "   Kernel cache: /home/yizhou/.cache/warp/0.2.2\n",
      "[1.860s] [ext: omni.kit.menu.create-1.0.2] startup\n",
      "[1.862s] [ext: omni.mdl-0.1.0] startup\n",
      "[1.884s] [ext: omni.kit.window.file_importer-1.0.4] startup\n",
      "[1.885s] [ext: omni.kit.window.file_exporter-1.0.4] startup\n",
      "[1.886s] [ext: omni.kit.material.library-1.3.10] startup\n",
      "[1.889s] [ext: omni.kit.window.drop_support-1.0.0] startup\n",
      "[1.889s] [ext: omni.kit.window.file-1.3.16] startup\n",
      "[1.892s] [ext: omni.kit.context_menu-1.3.9] startup\n",
      "[1.896s] [ext: omni.kit.window.property-1.6.3] startup\n",
      "[1.897s] [ext: omni.kit.window.content_browser-2.4.28] startup\n",
      "[1.907s] [ext: omni.kit.widget.stage-2.6.15] startup\n",
      "[1.911s] [ext: omni.isaac.version-1.0.0] startup\n",
      "[1.912s] [ext: omni.kit.property.usd-3.14.9] startup\n",
      "[1.946s] [ext: omni.kit.viewport.legacy_gizmos-1.0.0] startup\n",
      "[1.950s] [ext: omni.hydra.rtx-0.1.0] startup\n",
      "[1.962s] [ext: omni.renderer-rtx-0.0.0] startup\n",
      "[1.962s] [ext: omni.hydra.engine.stats-1.0.0] startup\n",
      "[1.970s] [ext: omni.debugdraw-0.1.0] startup\n",
      "[1.976s] [ext: omni.kit.widget.settings-1.0.0] startup\n",
      "[2.027s] [ext: omni.kit.window.viewport-0.0.0] startup\n",
      "[6.376s] [ext: omni.kit.widget.prompt-1.0.1] startup\n",
      "[6.377s] [ext: omni.kit.widget.graph-1.4.3] startup\n",
      "[6.384s] [ext: omni.kit.window.preferences-1.2.1] startup\n",
      "[6.422s] [ext: omni.ui_query-1.1.1] startup\n",
      "[6.424s] [ext: omni.graph.ui-1.6.1] startup\n",
      "[6.448s] [ext: omni.kit.ui_test-1.2.2] startup\n",
      "[6.450s] [ext: omni.graph.action-1.18.0] startup\n",
      "[6.462s] [ext: omni.kit.widget.searchfield-1.0.6] startup\n",
      "[6.464s] [ext: omni.kit.usd_undo-0.1.0] startup\n",
      "[6.465s] [ext: omni.graph.scriptnode-0.5.0] startup\n",
      "[6.467s] [ext: omni.physx.commands-1.4.15-5.1] startup\n",
      "[6.472s] [ext: omni.graph.nodes-1.26.0] startup\n",
      "[6.486s] [ext: omni.command.usd-1.0.1] startup\n",
      "[6.489s] [ext: omni.kit.window.extensions-1.1.0] startup\n",
      "[6.494s] [ext: omni.syntheticdata-0.2.1] startup\n",
      "[6.519s] [ext: omni.kit.primitive.mesh-1.0.0] startup\n",
      "[6.522s] [ext: omni.warp-0.2.2] startup\n",
      "[6.644s] [ext: omni.isaac.ui-0.2.1] startup\n",
      "[6.646s] [ext: omni.replicator.core-1.4.3] startup\n",
      "[6.836s] [ext: omni.isaac.core-1.24.3] startup\n",
      "[6.921s] [ext: omni.physx.ui-1.4.15-5.1] startup\n",
      "[7.000s] [ext: omni.kit.property.material-1.8.5] startup\n",
      "[7.002s] [ext: omni.kit.window.toolbar-1.2.4] startup\n",
      "[7.007s] [ext: omni.isaac.core_nodes-0.13.0] startup\n",
      "[7.019s] [ext: omni.physx.demos-1.4.15-5.1] startup\n",
      "[7.022s] [ext: omni.kit.property.physx-0.1.0] startup\n",
      "2022-12-22 20:06:48 [7,083ms] [Warning] [omni.physx.plugin] Deprecated: getSimulationEventStream is deprecated, please use getSimulationEventStreamV2\n",
      "[7.093s] [ext: omni.physx.tests-1.4.15-5.1] startup\n",
      "[7.388s] [ext: omni.isaac.wheeled_robots-0.5.8] startup\n",
      "[7.400s] [ext: omni.kit.menu.common-1.0.0] startup\n",
      "[7.401s] [ext: omni.physx.vehicle-1.4.15-5.1] startup\n",
      "[7.413s] [ext: omni.physx.cct-1.4.15-5.1] startup\n",
      "[7.491s] [ext: omni.physx.camera-1.4.15-5.1] startup\n",
      "[7.499s] [ext: omni.kit.widget.stage_icons-1.0.2] startup\n",
      "[7.501s] [ext: omni.ui.scene-1.5.0] startup\n",
      "[7.512s] [ext: omni.physx.bundle-1.4.15-5.1] startup\n",
      "[7.512s] [ext: omni.kit.window.stage-2.3.7] startup\n",
      "[7.515s] [ext: omni.replicator.composer-1.1.3] startup\n",
      "[7.529s] [ext: omni.isaac.lula-1.1.0] startup\n",
      "[7.538s] [ext: omni.rtx.window.settings-0.6.1] startup\n",
      "[7.543s] [ext: omni.isaac.surface_gripper-0.1.2] startup\n",
      "[7.548s] [ext: omni.isaac.motion_planning-0.2.0] startup\n",
      "[7.556s] [ext: omni.rtx.settings.core-0.5.5] startup\n",
      "[7.561s] [ext: omni.isaac.manipulators-1.0.1] startup\n",
      "[7.563s] [ext: omni.isaac.motion_generation-3.6.1] startup\n",
      "[7.567s] [ext: omni.kit.widget.zoombar-1.0.3] startup\n",
      "[7.568s] [ext: omni.kit.graph.delegate.default-1.0.15] startup\n",
      "[7.570s] [ext: omni.isaac.franka-0.3.0] startup\n",
      "[7.571s] [ext: omni.kit.browser.core-2.0.12] startup\n",
      "[7.575s] [ext: omni.kit.graph.editor.core-1.3.3] startup\n",
      "[7.578s] [ext: omni.kit.graph.usd.commands-1.1.0] startup\n",
      "[7.579s] [ext: omni.kit.browser.folder.core-1.1.13] startup\n",
      "[7.581s] [ext: omni.kit.graph.widget.variables-2.0.2] startup\n",
      "[7.583s] [ext: omni.kit.graph.delegate.modern-1.6.0] startup\n",
      "[7.584s] [ext: omni.kit.selection-0.1.0] startup\n",
      "[7.586s] [ext: omni.isaac.debug_draw-0.Opening usd file at  omniverse://localhost/Users/yizhou/uva_sac.usd  ...Done.\n",
      "Saving a temp livesync stage at  omniverse://localhost/Users/yizhou/uva_sac.usd  ...Done.\n"
     ]
    }
   ],
   "source": [
    "from omni.isaac.kit import SimulationApp    \n",
    "simulation_app = SimulationApp({\"headless\": True, \"open_usd\": usd_path,  \"livesync_usd\": usd_path}) "
   ]
  },
  {
   "cell_type": "code",
   "execution_count": 5,
   "id": "eadd32bf",
   "metadata": {},
   "outputs": [
    {
     "ename": "NameError",
     "evalue": "name 'pause' is not defined",
     "output_type": "error",
     "traceback": [
      "\u001b[0;31m---------------------------------------------------------------------------\u001b[0m",
      "\u001b[0;31mNameError\u001b[0m                                 Traceback (most recent call last)",
      "\u001b[0;32m/tmp/ipykernel_84125/1188747208.py\u001b[0m in \u001b[0;36m<module>\u001b[0;34m\u001b[0m\n\u001b[0;32m----> 1\u001b[0;31m \u001b[0mpause\u001b[0m\u001b[0;34m\u001b[0m\u001b[0;34m\u001b[0m\u001b[0m\n\u001b[0m",
      "\u001b[0;31mNameError\u001b[0m: name 'pause' is not defined"
     ]
    }
   ],
   "source": [
    "pause"
   ]
  },
  {
   "cell_type": "markdown",
   "id": "7475ee6a",
   "metadata": {},
   "source": [
    "# Init Env"
   ]
  },
  {
   "cell_type": "code",
   "execution_count": null,
   "id": "9a6fd193",
   "metadata": {},
   "outputs": [],
   "source": [
    "from uva_env import UvaEnv\n",
    "env = UvaEnv()"
   ]
  },
  {
   "cell_type": "code",
   "execution_count": null,
   "id": "d3e665fe",
   "metadata": {},
   "outputs": [],
   "source": [
    "from task.utils import add_scene_default\n",
    "add_scene_default()"
   ]
  },
  {
   "cell_type": "code",
   "execution_count": null,
   "id": "4c55eb32",
   "metadata": {
    "scrolled": true
   },
   "outputs": [],
   "source": [
    "print(list(env.stage.TraverseAll()))"
   ]
  },
  {
   "cell_type": "code",
   "execution_count": null,
   "id": "feaeb7d0",
   "metadata": {},
   "outputs": [],
   "source": [
    "env.clean()\n",
    "env.world.step(render=True)"
   ]
  },
  {
   "cell_type": "markdown",
   "id": "be34671d",
   "metadata": {},
   "source": [
    "# Config"
   ]
  },
  {
   "cell_type": "code",
   "execution_count": null,
   "id": "491f4078",
   "metadata": {},
   "outputs": [],
   "source": [
    "from task.config import DATA_PATH\n",
    "task_type = \"Table\"\n",
    "side_choice = \"Border\"\n",
    "base_asset_id = 0\n",
    "load_nucleus = True"
   ]
  },
  {
   "cell_type": "markdown",
   "id": "d3c365e3",
   "metadata": {},
   "source": [
    "# Scene"
   ]
  },
  {
   "cell_type": "code",
   "execution_count": null,
   "id": "19d7b119",
   "metadata": {},
   "outputs": [],
   "source": [
    "from task.scene import ArrangeScene\n",
    "scene = ArrangeScene(task_type, side_choice, base_asset_id = 0, traj_id = 0, load_nucleus = load_nucleus)\n",
    "env.scene = scene"
   ]
  },
  {
   "cell_type": "code",
   "execution_count": null,
   "id": "fae909b6",
   "metadata": {},
   "outputs": [],
   "source": [
    "# add base\n",
    "scene.add_base_asset()"
   ]
  },
  {
   "cell_type": "code",
   "execution_count": null,
   "id": "a7e1de8b",
   "metadata": {},
   "outputs": [],
   "source": [
    "# add room\n",
    "# scene.add_room()"
   ]
  },
  {
   "cell_type": "code",
   "execution_count": null,
   "id": "99481529",
   "metadata": {},
   "outputs": [],
   "source": [
    "env.world.step(render=True)"
   ]
  },
  {
   "cell_type": "markdown",
   "id": "bfd24034",
   "metadata": {},
   "source": [
    "# Reward"
   ]
  },
  {
   "cell_type": "code",
   "execution_count": null,
   "id": "b81a65bf",
   "metadata": {},
   "outputs": [],
   "source": [
    "from uv.reward import Rewarder"
   ]
  },
  {
   "cell_type": "code",
   "execution_count": null,
   "id": "35761844",
   "metadata": {},
   "outputs": [],
   "source": [
    "rewarder = Rewarder(env.world)\n",
    "env.rewarder = rewarder"
   ]
  },
  {
   "cell_type": "markdown",
   "id": "27c8bada",
   "metadata": {},
   "source": [
    "# Render"
   ]
  },
  {
   "cell_type": "code",
   "execution_count": null,
   "id": "fba7340e",
   "metadata": {},
   "outputs": [],
   "source": [
    "from render.helper import RenderHelper\n",
    "render = RenderHelper(task_type, side_choice)\n",
    "\n",
    "render.add_task_cameras()\n",
    "render.set_cameras()"
   ]
  },
  {
   "cell_type": "code",
   "execution_count": null,
   "id": "56d05f4a",
   "metadata": {
    "scrolled": true
   },
   "outputs": [],
   "source": [
    "pause"
   ]
  },
  {
   "cell_type": "markdown",
   "id": "69faba50",
   "metadata": {},
   "source": [
    "#  Learning"
   ]
  },
  {
   "cell_type": "code",
   "execution_count": null,
   "id": "785c3dc5",
   "metadata": {},
   "outputs": [],
   "source": [
    "# from learning.network.resnet import ResNetFeatureExtractor\n",
    "\n",
    "from learning.utils import extract_image_clip_feature_and_save\n",
    "from transformers import CLIPProcessor, CLIPModel\n",
    "\n",
    "feature_model = CLIPModel.from_pretrained(\"openai/clip-vit-base-patch32\").to(device)\n",
    "feature_processor = CLIPProcessor.from_pretrained(\"openai/clip-vit-base-patch32\")"
   ]
  },
  {
   "cell_type": "markdown",
   "id": "a93eef8c",
   "metadata": {},
   "source": [
    "# Trajectory"
   ]
  },
  {
   "cell_type": "code",
   "execution_count": null,
   "id": "2707b5f0",
   "metadata": {},
   "outputs": [],
   "source": [
    "total_traj = 0"
   ]
  },
  {
   "cell_type": "code",
   "execution_count": null,
   "id": "d9049e66",
   "metadata": {
    "scrolled": true
   },
   "outputs": [],
   "source": [
    "# traj config\n",
    "for traj_id in range(50):\n",
    "    total_traj += 1\n",
    "    \n",
    "    base_asset_id = 0\n",
    "    env.scene.base_asset_id = base_asset_id\n",
    "    env.scene.traj_id = traj_id\n",
    "    image_folder = os.path.join(DATA_PATH, task_type, side_choice, str(traj_id))\n",
    "\n",
    "    # base\n",
    "    # scene.add_base_asset()\n",
    "    env.world.step(render = True)\n",
    "\n",
    "    # get images\n",
    "    env.world.render()\n",
    "    images = render.get_images()\n",
    "    render.save_rgb(images[0]['rgb'], image_folder, \"0\")\n",
    "    \n",
    "    ## extract feature\n",
    "    \n",
    "#     extract_image_feature_and_save(images[0]['rgb'][:,:,:3], \n",
    "#         feature_extractor, os.path.join(image_folder, str(0) + \".pt\"))\n",
    "    extract_image_clip_feature_and_save(f\"{image_folder}/{0}.png\", feature_model, feature_processor, \n",
    "        f\"{image_folder}/{0}.pt\",)\n",
    "    \n",
    "\n",
    "    # trajectory\n",
    "    for step in range(5):\n",
    "\n",
    "        env.add_scene_obj(mode = \"random\")\n",
    "        \n",
    "        # TODO: get action from sampling\n",
    "        if total_traj < 10 and np.random.rand() < 0.2:\n",
    "            x, y = np.tanh(np.random.randn()), np.tanh(np.random.randn())\n",
    "        else:\n",
    "            \n",
    "\n",
    "        env.put_last_object((x, y)) \n",
    "        env.world.step(render=True)\n",
    "\n",
    "        env.register_last_object()\n",
    "        env.world.step(render=True)\n",
    "\n",
    "        # get images\n",
    "        env.world.render()\n",
    "        images = render.get_images()\n",
    "        render.save_rgb(images[0]['rgb'], image_folder, str(step + 1))\n",
    "\n",
    "        ## calculate reward\n",
    "        env.calculate_last_reward(simulation_step = 30)\n",
    "        \n",
    "        ## extract feature\n",
    "#         extract_image_feature_and_save(images[0]['rgb'][:,:,:3], \n",
    "#             feature_extractor, os.path.join(image_folder, str(step + 1) + \".pt\"))\n",
    "        extract_image_clip_feature_and_save(f\"{image_folder}/{step + 1}.png\", feature_model, feature_processor, \n",
    "            f\"{image_folder}/{step + 1}.pt\",)\n",
    "    \n",
    "\n",
    "        ## reset\n",
    "        env.world.reset()\n",
    "        env.world.step(render=True)\n",
    "\n",
    "\n",
    "    # Record\n",
    "    record = env.scene.get_scene_data()\n",
    "    env.scene.save_scene_data()\n",
    "    print(\"record: \", record)\n",
    "\n",
    "    # Reset (env clean)\n",
    "    env.clean(clean_all = False)\n",
    "    env.step(render = True)"
   ]
  },
  {
   "cell_type": "markdown",
   "id": "11155e93",
   "metadata": {},
   "source": [
    "# Debug"
   ]
  },
  {
   "cell_type": "code",
   "execution_count": null,
   "id": "a3c0bdec",
   "metadata": {},
   "outputs": [],
   "source": [
    "# get images\n",
    "env.world.render()\n",
    "env.world.render()\n",
    "images = render.get_images()\n",
    "\n",
    "Image.fromarray(images[0]['rgb'], \"RGBA\").resize((300, 300))"
   ]
  },
  {
   "cell_type": "markdown",
   "id": "9d3687f5",
   "metadata": {},
   "source": [
    "# Replay Buffer"
   ]
  },
  {
   "cell_type": "code",
   "execution_count": 6,
   "id": "a8d01e0a",
   "metadata": {},
   "outputs": [],
   "source": [
    "import json\n",
    "from learning.replay_buffer import ReplayBuffer\n",
    "\n",
    "buffer = ReplayBuffer(max_size=1000)\n",
    "\n",
    "for i in range(50):\n",
    "    replay = json.load(open(f\"/home/yizhou/Research/DeepArrange/Data/Table/Border/{i}/scene.json\"))\n",
    "    buffer.add_scene_sample(replay)"
   ]
  },
  {
   "cell_type": "code",
   "execution_count": 7,
   "id": "bec87318",
   "metadata": {},
   "outputs": [
    {
     "data": {
      "text/plain": [
       "250"
      ]
     },
     "execution_count": 7,
     "metadata": {},
     "output_type": "execute_result"
    }
   ],
   "source": [
    "len(buffer.dataset)"
   ]
  },
  {
   "cell_type": "code",
   "execution_count": 8,
   "id": "69257ad5",
   "metadata": {},
   "outputs": [],
   "source": [
    "from learning.network.sac import *"
   ]
  },
  {
   "cell_type": "code",
   "execution_count": 9,
   "id": "bf449052",
   "metadata": {},
   "outputs": [],
   "source": [
    "policy = Policy()"
   ]
  },
  {
   "cell_type": "code",
   "execution_count": 10,
   "id": "b0b72d98",
   "metadata": {},
   "outputs": [],
   "source": [
    "qf1 = QFunction()\n",
    "qf2 = QFunction()\n",
    "target_qf1 = QFunction()\n",
    "target_qf2 = QFunction()"
   ]
  },
  {
   "cell_type": "code",
   "execution_count": 11,
   "id": "97e9b710",
   "metadata": {},
   "outputs": [],
   "source": [
    "from learning.sac_trainer import SACTrainer"
   ]
  },
  {
   "cell_type": "code",
   "execution_count": 12,
   "id": "a0899e09",
   "metadata": {},
   "outputs": [],
   "source": [
    "trainer = SACTrainer(policy, qf1, qf2, target_qf1, target_qf2, \n",
    "     use_automatic_entropy_tuning = False, \n",
    "     policy_lr=1e-3, \n",
    "     qf_lr=1e-3,\n",
    "     target_update_period = 5)"
   ]
  },
  {
   "cell_type": "code",
   "execution_count": 13,
   "id": "0acc75a9",
   "metadata": {},
   "outputs": [],
   "source": [
    "self = trainer"
   ]
  },
  {
   "cell_type": "code",
   "execution_count": 18,
   "id": "be95f838",
   "metadata": {
    "scrolled": true
   },
   "outputs": [
    {
     "name": "stdout",
     "output_type": "stream",
     "text": [
      "0 \n",
      " pred: [1.2536238431930542, 1.12417733669281, 1.0520554780960083, 1.1366177797317505, 1.1194133758544922, 0.9137171506881714] \n",
      " rewards:  [-0.43062591552734375, -0.43062591552734375, -0.4306907653808594, -0.43062591552734375, -0.43062591552734375, -0.4306640625]\n",
      "20 \n",
      " pred: [1.1713083982467651, 0.7595911622047424, 1.2111036777496338, 0.8652575016021729, 0.9620705246925354, 0.8531972169876099] \n",
      " rewards:  [-0.43062591552734375, -0.43062591552734375, -0.43062591552734375, -0.43062591552734375, -0.43062591552734375, -0.4306640625]\n",
      "40 \n",
      " pred: [0.7837340831756592, 1.157118558883667, 0.7220757603645325, 0.763007402420044, 0.8227475881576538, 0.8498975038528442] \n",
      " rewards:  [-0.43062591552734375, 0.9153774380683899, -0.43062591552734375, 0.4338764548301697, -0.4306640625, -0.43062591552734375]\n",
      "60 \n",
      " pred: [1.2766077518463135, 0.9344422221183777, 1.0881030559539795, 1.161471962928772, 1.391080617904663, 0.8132531642913818] \n",
      " rewards:  [0.9845327734947205, -0.43062591552734375, -0.4306640625, -0.43062591552734375, 0.7345923781394958, -0.4306640625]\n",
      "80 \n",
      " pred: [0.8500366806983948, 1.1732814311981201, 0.846551239490509, 0.5529472827911377, 1.0113730430603027, 0.6352587938308716] \n",
      " rewards:  [-0.4306640625, -0.4306640625, -0.43065643310546875, -0.43062591552734375, 0.8340755701065063, -0.4306640625]\n",
      "100 \n",
      " pred: [0.5865678191184998, 1.083042860031128, 0.609249472618103, 0.5943084359169006, 0.5529535412788391, 1.2525907754898071] \n",
      " rewards:  [-0.43062591552734375, -0.34073129296302795, -0.4306640625, -0.43062591552734375, -0.43062591552734375, 0.7180940508842468]\n",
      "120 \n",
      " pred: [0.4906282424926758, 0.6151362061500549, 0.7741246223449707, 0.4650256931781769, 0.6224939823150635, 0.6993725895881653] \n",
      " rewards:  [-0.43062591552734375, -0.43062591552734375, -0.587361752986908, -0.21675337851047516, -0.43062591552734375, -0.43062591552734375]\n",
      "140 \n",
      " pred: [1.398925542831421, 1.3884696960449219, 0.8304633498191833, 1.359987497329712, 1.2445201873779297, 0.8190359473228455] \n",
      " rewards:  [0.9939243197441101, 0.8336694836616516, -0.43062591552734375, 0.9901008605957031, -0.4306640625, -0.43062591552734375]\n",
      "160 \n",
      " pred: [0.7906854748725891, 0.6190528273582458, 0.6822155714035034, 1.0136051177978516, 0.8156468868255615, 0.6664288640022278] \n",
      " rewards:  [-0.4306640625, -0.43062591552734375, -0.43062591552734375, 0.9845327734947205, -0.43062591552734375, -0.43062591552734375]\n",
      "180 \n",
      " pred: [1.8598781824111938, 2.177433490753174, 0.8921453356742859, 0.8686363697052002, 1.1571764945983887, 1.0036640167236328] \n",
      " rewards:  [0.9997066855430603, -0.4306640625, -0.43062591552734375, -0.43062591552734375, 0.9885978698730469, -0.4306640625]\n",
      "200 \n",
      " pred: [0.9015313982963562, 0.992275595664978, 0.9040858745574951, 1.9983757734298706, 1.7068750858306885, 1.2363300323486328] \n",
      " rewards:  [-0.43062591552734375, -0.43062591552734375, -0.43062591552734375, 0.7180940508842468, 0.9769565463066101, -0.4305419921875]\n",
      "220 \n",
      " pred: [1.480820655822754, 0.8070919513702393, 0.6314530372619629, 0.4141313135623932, 0.13839340209960938, 0.7103204727172852] \n",
      " rewards:  [-0.43062591552734375, -0.43062591552734375, -0.43062591552734375, -1.5118657350540161, -0.4306640625, -0.43062591552734375]\n",
      "240 \n",
      " pred: [1.2235393524169922, 0.9665682315826416, 1.1318178176879883, 1.1058838367462158, 1.0451935529708862, 1.0972195863723755] \n",
      " rewards:  [-0.43062591552734375, -0.43062591552734375, -0.4306640625, -0.43062591552734375, -0.43062591552734375, -0.4306640625]\n",
      "260 \n",
      " pred: [1.165516972541809, 1.542686104774475, 1.1913663148880005, 1.0734397172927856, 1.7789812088012695, 0.8494742512702942] \n",
      " rewards:  [-0.43062591552734375, -0.4306640625, -0.43062591552734375, -0.4305419921875, 0.7345923781394958, -1.5118657350540161]\n",
      "280 \n",
      " pred: [0.6070908904075623, 1.7089383602142334, 0.6940786838531494, 0.743877649307251, 1.7542881965637207, 0.8135085701942444] \n",
      " rewards:  [-0.4306640625, 0.9901008605957031, -0.43062591552734375, -0.4306640625, 0.9675177335739136, 0.4338764548301697]\n",
      "300 \n",
      " pred: [1.048141360282898, 0.993332028388977, 1.1646640300750732, 1.3312324285507202, 1.0056096315383911, 0.9788800477981567] \n",
      " rewards:  [-0.4306640625, -0.4306640625, -0.43062591552734375, -0.43065643310546875, -0.4306640625, -0.4306640625]\n",
      "320 \n",
      " pred: [1.5738418102264404, 0.7730219960212708, 1.3010990619659424, 1.4459292888641357, 0.5790717005729675, 0.5995213985443115] \n",
      " rewards:  [0.19729337096214294, -0.43062591552734375, -0.4306640625, -0.3521397113800049, -0.43062591552734375, -0.4306640625]\n",
      "340 \n",
      " pred: [1.70265531539917, 0.6814382672309875, 0.7287896871566772, 0.755398690700531, 0.8752292990684509, 0.8342009782791138] \n",
      " rewards:  [0.9997066855430603, -0.818336546421051, -0.43062591552734375, -0.4306640625, -0.430633544921875, -0.43062591552734375]\n",
      "360 \n",
      " pred: [1.9812514781951904, 1.1025745868682861, 0.8560037612915039, 1.13120436668396, 0.8899403214454651, 0.6742070913314819] \n",
      " rewards:  [0.7180940508842468, -0.43062591552734375, -0.4306640625, -0.43065643310546875, -0.43062591552734375, -0.43062591552734375]\n",
      "380 \n",
      " pred: [1.0418959856033325, 0.8000360727310181, 2.7040281295776367, 1.5456292629241943, 1.219356894493103, 0.9520418047904968] \n",
      " rewards:  [-0.4306640625, -0.43062591552734375, 0.9562090635299683, -0.06868535280227661, -0.4306640625, -0.43062591552734375]\n",
      "400 \n",
      " pred: [1.0803239345550537, 1.3691918849945068, 1.0596193075180054, 0.7440328598022461, 0.8249727487564087, 0.8896070718765259] \n",
      " rewards:  [-0.43062591552734375, -0.43062591552734375, -0.4306640625, -0.43062591552734375, -0.43062591552734375, -0.6241685748100281]\n",
      "420 \n",
      " pred: [2.446688652038574, 0.17068442702293396, 1.2992652654647827, 1.0814787149429321, 2.1024744510650635, 1.2074460983276367] \n",
      " rewards:  [0.43544241786003113, -2.8953897953033447, -0.4306640625, -0.43062591552734375, 0.9873177409172058, -0.43062591552734375]\n",
      "440 \n",
      " pred: [2.0549869537353516, 0.9493377804756165, 1.913750171661377, 2.059856653213501, 2.4233665466308594, 0.9508829712867737] \n",
      " rewards:  [0.8336694836616516, -0.43062591552734375, 0.9549707174301147, 0.834854006767273, 0.9814808964729309, -0.43062591552734375]\n",
      "460 \n",
      " pred: [1.4916173219680786, 1.0096975564956665, 1.0937926769256592, 1.068432331085205, 0.9520707130432129, 1.0115983486175537] \n",
      " rewards:  [-0.1802910715341568, -0.4306907653808594, -0.43062591552734375, -0.4306907653808594, -0.43062591552734375, -0.43062591552734375]\n",
      "480 \n",
      " pred: [0.6643368005752563, 1.123324990272522, 1.9854179620742798, 0.8233925104141235, 2.0123636722564697, 1.1473397016525269] \n",
      " rewards:  [-0.4306640625, -0.43062591552734375, 0.9549707174301147, -0.43062591552734375, 0.8340755701065063, -0.43062591552734375]\n"
     ]
    }
   ],
   "source": [
    "for _ in range(500):\n",
    "    batch = buffer.sample_batch(batch_size=6)\n",
    "\n",
    "    rewards = batch['rewards'].to(device)\n",
    "    terminals = batch['terminals'].to(device)\n",
    "    obs = batch['observations'].to(device)\n",
    "    actions = batch['actions'].to(device)\n",
    "    next_obs = batch['next_observations'].to(device)\n",
    "\n",
    "    obj_features = batch['object_features'].to(device)\n",
    "\n",
    "    # print(\"rewards\", rewards)\n",
    "\n",
    "    self.update(batch)\n",
    "    \n",
    "    if _ % 20 == 0:\n",
    "        dist = self.policy(obs, obj_features)\n",
    "        pred = self.qf1(obs, obj_features, actions)\n",
    "        print(_, #\"\\n dist: \", dist.mean.flatten().tolist(), dist.stddev.flatten().tolist(),\n",
    "              \"\\n pred:\", pred.flatten().tolist(),\n",
    "              \"\\n rewards: \", rewards.flatten().tolist())\n",
    "    \n",
    "#     # debug\n",
    "#     pred = self.qf1(obs, obj_features, actions)\n",
    "#     loss = self.qf_criterion(pred, rewards)\n",
    "    \n",
    "#     self.qf1_optimizer.zero_grad()\n",
    "#     loss.backward()\n",
    "#     self.qf1_optimizer.step()\n",
    "    \n",
    "#     if _ % 20 == 0:\n",
    "#         print(_, \"\\n debug loss: \", loss.item(), \"\\n pred:\", \n",
    "#               pred.flatten().tolist(), \"\\n rewards: \", rewards.flatten().tolist())"
   ]
  },
  {
   "cell_type": "code",
   "execution_count": 19,
   "id": "aa6fffc0",
   "metadata": {},
   "outputs": [],
   "source": [
    "dist = self.policy(obs.to(device), obj_features.to(device))"
   ]
  },
  {
   "cell_type": "code",
   "execution_count": 21,
   "id": "55fdb9ba",
   "metadata": {},
   "outputs": [
    {
     "data": {
      "text/plain": [
       "tensor([[-0.3332, -0.6917],\n",
       "        [ 0.7419, -0.1004],\n",
       "        [ 0.4325,  0.7237],\n",
       "        [-0.7603,  0.3015],\n",
       "        [ 0.1949, -0.0783],\n",
       "        [-0.7992, -0.6562]], device='cuda:0')"
      ]
     },
     "execution_count": 21,
     "metadata": {},
     "output_type": "execute_result"
    }
   ],
   "source": [
    "dist.sample()"
   ]
  },
  {
   "cell_type": "code",
   "execution_count": null,
   "id": "6fa47896",
   "metadata": {},
   "outputs": [],
   "source": []
  }
 ],
 "metadata": {
  "kernelspec": {
   "display_name": "Isaac Sim Python 3",
   "language": "python",
   "name": "isaac_sim_python3"
  },
  "language_info": {
   "codemirror_mode": {
    "name": "ipython",
    "version": 3
   },
   "file_extension": ".py",
   "mimetype": "text/x-python",
   "name": "python",
   "nbconvert_exporter": "python",
   "pygments_lexer": "ipython3",
   "version": "3.7.13"
  }
 },
 "nbformat": 4,
 "nbformat_minor": 5
}
