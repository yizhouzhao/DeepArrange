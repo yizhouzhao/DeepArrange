{
 "cells": [
  {
   "cell_type": "code",
   "execution_count": null,
   "id": "0c3e8605",
   "metadata": {},
   "outputs": [],
   "source": [
    "# import torch\n",
    "\n",
    "# from learning.network.sac import *\n",
    "\n",
    "# policy = Policy()\n",
    "# qf = QFunction()\n",
    "\n",
    "# image_feature = torch.randn(5, 512)\n",
    "# object_feature = torch.randn(5, 512)\n",
    "# action = torch.randn(5, 2)\n",
    "\n",
    "# policy(image_feature, object_feature)\n",
    "\n",
    "# qf(image_feature, object_feature, action)"
   ]
  },
  {
   "cell_type": "code",
   "execution_count": null,
   "id": "3fe18b05",
   "metadata": {},
   "outputs": [],
   "source": [
    "import random\n",
    "import numpy as np\n",
    "import os\n",
    "import time\n",
    "from PIL import Image\n",
    "\n",
    "import torch\n",
    "torch.__version__"
   ]
  },
  {
   "cell_type": "code",
   "execution_count": null,
   "id": "0137c535",
   "metadata": {},
   "outputs": [],
   "source": [
    "import getpass\n",
    "user = getpass.getuser()\n",
    "print(user)"
   ]
  },
  {
   "cell_type": "code",
   "execution_count": null,
   "id": "b9d56ea3",
   "metadata": {},
   "outputs": [],
   "source": [
    "usd_path = f\"omniverse://localhost/Users/{user}/uva_sac.usd\""
   ]
  },
  {
   "cell_type": "code",
   "execution_count": null,
   "id": "d7e8d7fe",
   "metadata": {
    "scrolled": true
   },
   "outputs": [],
   "source": [
    "from omni.isaac.kit import SimulationApp    \n",
    "simulation_app = SimulationApp({\"headless\": True, \"open_usd\": usd_path,  \"livesync_usd\": usd_path}) "
   ]
  },
  {
   "cell_type": "code",
   "execution_count": null,
   "id": "9a6fd193",
   "metadata": {},
   "outputs": [],
   "source": [
    "from uva_env import UvaEnv\n",
    "env = UvaEnv()"
   ]
  },
  {
   "cell_type": "code",
   "execution_count": null,
   "id": "d3e665fe",
   "metadata": {},
   "outputs": [],
   "source": [
    "from task.utils import add_scene_default\n",
    "add_scene_default()"
   ]
  },
  {
   "cell_type": "code",
   "execution_count": null,
   "id": "4c55eb32",
   "metadata": {
    "scrolled": true
   },
   "outputs": [],
   "source": [
    "print(list(env.stage.TraverseAll()))"
   ]
  },
  {
   "cell_type": "code",
   "execution_count": null,
   "id": "feaeb7d0",
   "metadata": {},
   "outputs": [],
   "source": [
    "env.clean()\n",
    "env.world.step(render=True)"
   ]
  },
  {
   "cell_type": "markdown",
   "id": "be34671d",
   "metadata": {},
   "source": [
    "# Config"
   ]
  },
  {
   "cell_type": "code",
   "execution_count": null,
   "id": "491f4078",
   "metadata": {},
   "outputs": [],
   "source": [
    "from task.config import DATA_PATH\n",
    "task_type = \"Table\"\n",
    "side_choice = \"Border\"\n",
    "base_asset_id = 0\n",
    "load_nucleus = True"
   ]
  },
  {
   "cell_type": "markdown",
   "id": "d3c365e3",
   "metadata": {},
   "source": [
    "# Scene"
   ]
  },
  {
   "cell_type": "code",
   "execution_count": null,
   "id": "19d7b119",
   "metadata": {},
   "outputs": [],
   "source": [
    "from task.scene import ArrangeScene\n",
    "scene = ArrangeScene(task_type, side_choice, base_asset_id = 0, traj_id = 0, load_nucleus = load_nucleus)\n",
    "env.scene = scene"
   ]
  },
  {
   "cell_type": "code",
   "execution_count": null,
   "id": "fae909b6",
   "metadata": {},
   "outputs": [],
   "source": [
    "# add base\n",
    "scene.add_base_asset()"
   ]
  },
  {
   "cell_type": "code",
   "execution_count": null,
   "id": "a7e1de8b",
   "metadata": {},
   "outputs": [],
   "source": [
    "# add room\n",
    "# scene.add_room()"
   ]
  },
  {
   "cell_type": "code",
   "execution_count": null,
   "id": "99481529",
   "metadata": {},
   "outputs": [],
   "source": [
    "env.world.step(render=True)"
   ]
  },
  {
   "cell_type": "markdown",
   "id": "bfd24034",
   "metadata": {},
   "source": [
    "# Reward"
   ]
  },
  {
   "cell_type": "code",
   "execution_count": null,
   "id": "b81a65bf",
   "metadata": {},
   "outputs": [],
   "source": [
    "from uv.reward import Rewarder"
   ]
  },
  {
   "cell_type": "code",
   "execution_count": null,
   "id": "35761844",
   "metadata": {},
   "outputs": [],
   "source": [
    "rewarder = Rewarder(env.world)\n",
    "env.rewarder = rewarder"
   ]
  },
  {
   "cell_type": "markdown",
   "id": "27c8bada",
   "metadata": {},
   "source": [
    "# Render"
   ]
  },
  {
   "cell_type": "code",
   "execution_count": null,
   "id": "fba7340e",
   "metadata": {},
   "outputs": [],
   "source": [
    "from render.helper import RenderHelper\n",
    "render = RenderHelper(task_type, side_choice)\n",
    "\n",
    "render.add_task_cameras()\n",
    "render.set_cameras()"
   ]
  },
  {
   "cell_type": "code",
   "execution_count": null,
   "id": "56d05f4a",
   "metadata": {
    "scrolled": true
   },
   "outputs": [],
   "source": [
    "pause"
   ]
  },
  {
   "cell_type": "markdown",
   "id": "69faba50",
   "metadata": {},
   "source": [
    "#  Learning"
   ]
  },
  {
   "cell_type": "code",
   "execution_count": null,
   "id": "785c3dc5",
   "metadata": {},
   "outputs": [],
   "source": [
    "from learning.network.resnet import ResNetFeatureExtractor\n",
    "\n",
    "device = torch.device(\"cuda\")\n",
    "feature_extractor = ResNetFeatureExtractor(output_layer='avgpool').to(device)"
   ]
  },
  {
   "cell_type": "markdown",
   "id": "a93eef8c",
   "metadata": {},
   "source": [
    "# Trajectory"
   ]
  },
  {
   "cell_type": "code",
   "execution_count": null,
   "id": "862452ca",
   "metadata": {},
   "outputs": [],
   "source": [
    "images[0]['rgb'].shape"
   ]
  },
  {
   "cell_type": "code",
   "execution_count": null,
   "id": "d9049e66",
   "metadata": {
    "scrolled": true
   },
   "outputs": [],
   "source": [
    "# traj config\n",
    "for traj_id in range(5):\n",
    "\n",
    "    base_asset_id = 0\n",
    "    env.scene.base_asset_id = base_asset_id\n",
    "    env.scene.traj_id = traj_id\n",
    "    image_folder = os.path.join(DATA_PATH, task_type, side_choice, str(traj_id))\n",
    "\n",
    "    # base\n",
    "    # scene.add_base_asset()\n",
    "    env.world.step(render = True)\n",
    "\n",
    "    # get images\n",
    "    env.world.render()\n",
    "    images = render.get_images()\n",
    "    render.save_rgb(images[0]['rgb'], image_folder, \"0\")\n",
    "    \n",
    "    ## extract feature\n",
    "    x = torch.from_numpy(images[0]['rgb'][:,:,:3]).float().to(device)\n",
    "    x = x.permute((2,0,1)).unsqueeze(0)\n",
    "    x_feature = feature_extractor(x).squeeze()\n",
    "    torch.save(x_feature, os.path.join(image_folder, str(0) + \".pt\"))\n",
    "\n",
    "    # trajectory\n",
    "    for step in range(5):\n",
    "\n",
    "        env.add_scene_obj(mode = \"random\")\n",
    "\n",
    "        x, y = np.tanh(np.random.randn()), np.tanh(np.random.randn())\n",
    "\n",
    "        env.put_last_object((x, y)) \n",
    "        env.world.step(render=True)\n",
    "\n",
    "        env.register_last_object()\n",
    "        env.world.step(render=True)\n",
    "\n",
    "        # get images\n",
    "        env.world.render()\n",
    "        images = render.get_images()\n",
    "        render.save_rgb(images[0]['rgb'], image_folder, str(step + 1))\n",
    "\n",
    "        ## calculate reward\n",
    "        env.calculate_last_reward(simulation_step = 30)\n",
    "        \n",
    "        ## extract feature\n",
    "        x = torch.from_numpy(images[0]['rgb'][:,:,:3]).float().to(device)\n",
    "        x = x.permute((2,0,1)).unsqueeze(0)\n",
    "        x_feature = feature_extractor(x).squeeze()\n",
    "        torch.save(x_feature, os.path.join(image_folder, str(step + 1) + \".pt\"))\n",
    "\n",
    "        ## reset\n",
    "        env.world.reset()\n",
    "        env.world.step(render=True)\n",
    "\n",
    "\n",
    "    # Record\n",
    "    record = env.scene.get_scene_data()\n",
    "    env.scene.save_scene_data()\n",
    "    print(\"record: \", record)\n",
    "\n",
    "    # Reset (env clean)\n",
    "    env.clean(clean_all = False)\n",
    "    env.step(render = True)"
   ]
  },
  {
   "cell_type": "markdown",
   "id": "11155e93",
   "metadata": {},
   "source": [
    "# Debug"
   ]
  },
  {
   "cell_type": "code",
   "execution_count": null,
   "id": "a3c0bdec",
   "metadata": {},
   "outputs": [],
   "source": [
    "# get images\n",
    "env.world.render()\n",
    "env.world.render()\n",
    "images = render.get_images()\n",
    "\n",
    "Image.fromarray(images[0]['rgb'], \"RGBA\").resize((300, 300))"
   ]
  },
  {
   "cell_type": "code",
   "execution_count": null,
   "id": "fb0cd0b7",
   "metadata": {},
   "outputs": [],
   "source": [
    "Image.fromarray(images[0]['rgb'][:,:,:3], \"RGB\").resize((300, 300))"
   ]
  },
  {
   "cell_type": "code",
   "execution_count": null,
   "id": "06e0493f",
   "metadata": {},
   "outputs": [],
   "source": []
  },
  {
   "cell_type": "code",
   "execution_count": null,
   "id": "11382a50",
   "metadata": {},
   "outputs": [],
   "source": [
    "image_folder"
   ]
  },
  {
   "cell_type": "code",
   "execution_count": null,
   "id": "7519c404",
   "metadata": {},
   "outputs": [],
   "source": []
  },
  {
   "cell_type": "code",
   "execution_count": null,
   "id": "5badf7d6",
   "metadata": {},
   "outputs": [],
   "source": []
  }
 ],
 "metadata": {
  "kernelspec": {
   "display_name": "Isaac Sim Python 3",
   "language": "python",
   "name": "isaac_sim_python3"
  },
  "language_info": {
   "codemirror_mode": {
    "name": "ipython",
    "version": 3
   },
   "file_extension": ".py",
   "mimetype": "text/x-python",
   "name": "python",
   "nbconvert_exporter": "python",
   "pygments_lexer": "ipython3",
   "version": "3.7.13"
  }
 },
 "nbformat": 4,
 "nbformat_minor": 5
}
