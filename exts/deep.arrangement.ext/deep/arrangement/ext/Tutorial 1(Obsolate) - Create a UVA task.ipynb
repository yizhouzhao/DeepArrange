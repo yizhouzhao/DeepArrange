{
 "cells": [
  {
   "cell_type": "code",
   "execution_count": 1,
   "id": "ed4f9fe6",
   "metadata": {},
   "outputs": [],
   "source": [
    "%load_ext autoreload\n",
    "%autoreload 2"
   ]
  },
  {
   "cell_type": "code",
   "execution_count": 2,
   "id": "69c787b3",
   "metadata": {},
   "outputs": [],
   "source": [
    "import random\n",
    "import numpy"
   ]
  },
  {
   "cell_type": "code",
   "execution_count": 3,
   "id": "896db912",
   "metadata": {},
   "outputs": [],
   "source": [
    "import getpass\n",
    "user = getpass.getuser()"
   ]
  },
  {
   "cell_type": "code",
   "execution_count": 4,
   "id": "910ffe01",
   "metadata": {},
   "outputs": [
    {
     "data": {
      "text/plain": [
       "'yizhou'"
      ]
     },
     "execution_count": 4,
     "metadata": {},
     "output_type": "execute_result"
    }
   ],
   "source": [
    "user"
   ]
  },
  {
   "cell_type": "code",
   "execution_count": 5,
   "id": "e0ab8c93",
   "metadata": {},
   "outputs": [],
   "source": [
    "usd_path = \"omniverse://localhost/Users/yizhou/phase3.usd\""
   ]
  },
  {
   "cell_type": "code",
   "execution_count": 6,
   "id": "6dd75691",
   "metadata": {
    "scrolled": true
   },
   "outputs": [
    {
     "name": "stdout",
     "output_type": "stream",
     "text": [
      "Starting kit application with the fillowing args:  ['/home/yizhou/.local/share/ov/pkg/isaac_sim-2022.1.1/exts/omni.isaac.kit/omni/isaac/kit/simulation_app.py', '/home/yizhou/.local/share/ov/pkg/isaac_sim-2022.1.1/apps/omni.isaac.sim.python.kit', '--/app/tokens/exe-path=/home/yizhou/.local/share/ov/pkg/isaac_sim-2022.1.1/kit', '--/persistent/app/viewport/displayOptions=3094', '--/rtx/materialDb/syncLoads=True', '--/rtx/hydra/materialSyncLoads=True--/omni.kit.plugin/syncUsdLoads=True', '--/app/renderer/resolution/width=1280', '--/app/renderer/resolution/height=720', '--/app/window/width=1440', '--/app/window/height=900', '--/renderer/multiGpu/enabled=True', '--ext-folder', '/home/yizhou/.local/share/ov/pkg/isaac_sim-2022.1.1/exts', '--ext-folder', '/home/yizhou/.local/share/ov/pkg/isaac_sim-2022.1.1/apps', '--/physics/cudaDevice=0', '--portable', '--no-window']\n",
      "Passing the following args to the base kit application:  ['-f', '/home/yizhou/.local/share/jupyter/runtime/kernel-a7ca02bf-7b82-402f-95a0-e654017f429b.json']\n",
      "[Warning] [omni.kit.app.plugin] No crash reporter present, dumps uploading isn't available.\n",
      "[Info] [carb] Logging to file: /home/yizhou/.local/share/ov/pkg/isaac_sim-2022.1.1/kit/logs/Kit/Isaac-Sim/2022.1/kit_20221208_210435.log\n",
      "2022-12-09 05:04:35 [4ms] [Warning] [omni.ext.plugin] [ext: omni.drivesim.sensors.nv.lidar] Extensions config 'extension.toml' doesn't exist '/home/yizhou/.local/share/ov/pkg/isaac_sim-2022.1.1/exts/omni.drivesim.sensors.nv.lidar' or '/home/yizhou/.local/share/ov/pkg/isaac_sim-2022.1.1/exts/omni.drivesim.sensors.nv.lidar/config'\n",
      "[0.087s] [ext: omni.stats-0.0.0] startup\n",
      "[0.104s] [ext: omni.gpu_foundation-0.0.0] startup\n",
      "2022-12-09 05:04:35 [102ms] [Warning] [carb] FrameworkImpl::setDefaultPlugin(client: omni.gpu_foundation_factory.plugin, desc : [carb::graphics::Graphics v2.5], plugin : carb.graphics-vulkan.plugin) failed. Plugin selection is locked, because the interface was previously acquired by: \n",
      "[0.111s] [ext: carb.windowing.plugins-1.0.0] startup\n",
      "[0.119s] [ext: omni.assets.plugins-0.0.0] startup\n",
      "[0.120s] [ext: omni.kit.renderer.init-0.0.0] startup\n",
      "\n",
      "|---------------------------------------------------------------------------------------------|\n",
      "| Driver Version: 510.108.3     | Graphics API: Vulkan\n",
      "|=============================================================================================|\n",
      "| GPU | Name                             | Active | LDA | GPU Memory | Vendor-ID | LUID       |\n",
      "|     |                                  |        |     |            | Device-ID | UUID       |\n",
      "|---------------------------------------------------------------------------------------------|\n",
      "| 0   | NVIDIA GeForce RTX 3090          | Yes: 0 |     | 24822   MB | 10de      | 0          |\n",
      "|     |                                  |        |     |            | 2204      | 3f50dd6e.. |\n",
      "|=============================================================================================|\n",
      "| OS: Linux yizhou-Z370-AORUS-Gaming-5, Version: 5.15.0-56-generic\n",
      "| Processor: Intel(R) Core(TM) i7-8700K CPU @ 3.70GHz | Cores: Unknown | Logical: 12\n",
      "|---------------------------------------------------------------------------------------------|\n",
      "| Total Memory (MB): 32044 | Free Memory: 16807\n",
      "| Total Page/Swap (MB): 2047 | Free Page/Swap: 2047\n",
      "|---------------------------------------------------------------------------------------------|\n",
      "2022-12-09 05:04:36 [762ms] [Warning] [carb.cudainterop.plugin] On Linux only, CUDA and the display driver does not support IOMMU-enabled bare-metal PCIe peer to peer memory copy.\n",
      "However, CUDA and the display driver does support IOMMU via VM pass through. As a consequence, users on Linux,\n",
      "when running on a native bare metal system, should disable the IOMMU. The IOMMU should be enabled and the VFIO driver\n",
      "be used as a PCIe pass through for virtual machines.\n",
      "[0.783s] [ext: omni.kit.pipapi-0.0.0] startup\n",
      "[0.794s] [ext: omni.kit.pip_archive-0.0.0] startup\n",
      "[0.799s] [ext: omni.isaac.core_archive-1.2.0] startup\n",
      "[0.820s] [ext: omni.usd.config-1.0.0] startup\n",
      "[0.822s] [ext: omni.usd.libs-1.0.0] startup\n",
      "[0.957s] [ext: omni.kit.pip_torch-1_11_0-0.1.3] startup\n",
      "[0.996s] [ext: omni.isaac.ml_archive-1.1.0] startup\n",
      "[1.046s] [ext: omni.kit.loop-isaac-0.1.0] startup\n",
      "[1.047s] [ext: omni.kit.async_engine-0.0.0] startup\n",
      "[1.048s] [ext: omni.appwindow-1.0.0] startup\n",
      "[1.051s] [ext: omni.client-0.1.0] startup\n",
      "[1.060s] [ext: omni.kit.test-0.0.0] startup\n",
      "[1.061s] [ext: omni.kit.renderer.core-0.0.0] startup\n",
      "[1.134s] [ext: omni.ui-2.10.3] startup\n",
      "[1.150s] [ext: carb.audio-0.1.0] startup\n",
      "[1.170s] [ext: omni.kit.mainwindow-0.0.0] startup\n",
      "[1.172s] [ext: omni.uiaudio-1.0.0] startup\n",
      "[1.175s] [ext: omni.kit.uiapp-0.0.0] startup\n",
      "[1.175s] [ext: omni.usd.schema.physics-1.0.0] startup\n",
      "[1.218s] [ext: omni.usd.schema.audio-0.0.0] startup\n",
      "[1.225s] [ext: omni.usd.schema.semantics-0.0.0] startup\n",
      "[1.269s] [ext: omni.usd.schema.omnigraph-1.0.0] startup\n",
      "[1.277s] [ext: omni.usd.schema.anim-0.0.0] startup\n",
      "[1.318s] [ext: omni.kit.commands-1.2.2] startup\n",
      "[1.322s] [ext: omni.timeline-1.0.2] startup\n",
      "[1.324s] [ext: omni.hydra.scene_delegate-0.2.0] startup\n",
      "[1.331s] [ext: omni.kit.audiodeviceenum-1.0.0] startup\n",
      "[1.333s] [ext: omni.usd-1.5.3] startup\n",
      "[1.402s] [ext: omni.kit.asset_converter-1.2.31] startup\n",
      "[1.416s] [ext: omni.usd.schema.physx-0.0.0] startup\n",
      "[1.443s] [ext: omni.usd.schema.isaac-0.2.0] startup\n",
      "[1.485s] [ext: omni.usd.schema.forcefield-0.0.0] startup\n",
      "[1.493s] [ext: omni.kvdb-0.0.0] startup\n",
      "[1.496s] [ext: omni.usdphysics-1.4.15] startup\n",
      "[1.498s] [ext: omni.graph.tools-1.4.0] startup\n",
      "[1.522s] [ext: omni.localcache-0.0.0] startup\n",
      "[1.524s] [ext: omni.kit.stage_templates-1.1.2] startup\n",
      "[1.526s] [ext: omni.convexdecomposition-1.4.15] startup\n",
      "[1.529s] [ext: omni.physics.tensors-0.1.0] startup\n",
      "[1.539s] [ext: omni.physx-1.4.15-5.1] startup\n",
      "2022-12-09 05:04:37 [1,546ms] [Warning] [omni.kvdb.plugin] wasn't able to load the meta database, trying to repair it ...\n",
      "2022-12-09 05:04:37 [1,786ms] [Warning] [omni.kvdb.plugin] repair failed\n",
      "[1.794s] [ext: omni.graph.core-2.29.1] startup\n",
      "[1.805s] [ext: omni.kit.menu.utils-1.2.11] startup\n",
      "[1.824s] [ext: omni.physx.tensors-0.1.0] startup\n",
      "[1.831s] [ext: omni.graph-1.23.0] startup\n",
      "[1.880s] [ext: omni.kit.numpy.common-0.1.0] startup\n",
      "[1.883s] [ext: omni.kit.window.script_editor-1.6.2] startup\n",
      "[1.893s] [ext: omni.kit.search_core-1.0.2] startup\n",
      "[1.895s] [ext: omni.isaac.dynamic_control-1.1.0] startup\n",
      "[1.902s] [ext: omni.kit.renderer.capture-0.0.0] startup\n",
      "[1.906s] [ext: omni.kit.widget.filebrowser-2.2.27] startup\n",
      "[1.917s] [ext: omni.kit.widget.path_field-2.0.3] startup\n",
      "[1.918s] [ext: omni.kit.notification_manager-1.0.5] startup\n",
      "[1.920s] [ext: omni.kit.widget.versioning-1.3.8] startup\n",
      "[1.924s] [ext: omni.kit.widget.browser_bar-2.0.3] startup\n",
      "[1.925s] [ext: omni.kit.window.popup_dialog-2.0.8] startup\n",
      "[1.927s] [ext: omni.mdl.neuraylib-0.1.0] startup\n",
      "[1.931s] [ext: omni.kit.window.filepicker-2.4.30] startup\n"
     ]
    },
    {
     "name": "stderr",
     "output_type": "stream",
     "text": [
      "OmniAssetFileFormat\n"
     ]
    },
    {
     "name": "stdout",
     "output_type": "stream",
     "text": [
      "Warp initialized:\n",
      "   Version: 0.2.2\n",
      "   CUDA device: NVIDIA GeForce RTX 3090\n",
      "   Kernel cache: /home/yizhou/.cache/warp/0.2.2\n",
      "[1.985s] [ext: omni.kit.menu.create-1.0.2] startup\n",
      "[1.986s] [ext: omni.mdl-0.1.0] startup\n",
      "[2.007s] [ext: omni.kit.window.file_importer-1.0.4] startup\n",
      "[2.008s] [ext: omni.kit.window.file_exporter-1.0.4] startup\n",
      "[2.009s] [ext: omni.kit.material.library-1.3.10] startup\n",
      "[2.012s] [ext: omni.kit.window.drop_support-1.0.0] startup\n",
      "[2.013s] [ext: omni.kit.window.file-1.3.16] startup\n",
      "[2.016s] [ext: omni.kit.context_menu-1.3.9] startup\n",
      "[2.062s] [ext: omni.kit.window.property-1.6.3] startup\n",
      "[2.064s] [ext: omni.kit.window.content_browser-2.4.28] startup\n",
      "[2.074s] [ext: omni.kit.widget.stage-2.6.15] startup\n",
      "[2.079s] [ext: omni.isaac.version-1.0.0] startup\n",
      "[2.081s] [ext: omni.kit.property.usd-3.14.9] startup\n",
      "[2.120s] [ext: omni.kit.viewport.legacy_gizmos-1.0.0] startup\n",
      "[2.123s] [ext: omni.hydra.rtx-0.1.0] startup\n",
      "[2.132s] [ext: omni.renderer-rtx-0.0.0] startup\n",
      "[2.133s] [ext: omni.hydra.engine.stats-1.0.0] startup\n",
      "[2.139s] [ext: omni.debugdraw-0.1.0] startup\n",
      "[2.145s] [ext: omni.kit.widget.settings-1.0.0] startup\n",
      "[2.147s] [ext: omni.kit.window.viewport-0.0.0] startup\n",
      "[3.017s] [ext: omni.kit.widget.prompt-1.0.1] startup\n",
      "[3.018s] [ext: omni.kit.widget.graph-1.4.3] startup\n",
      "[3.026s] [ext: omni.kit.window.preferences-1.2.1] startup\n",
      "[3.067s] [ext: omni.ui_query-1.1.1] startup\n",
      "[3.069s] [ext: omni.graph.ui-1.6.1] startup\n",
      "[3.091s] [ext: omni.kit.ui_test-1.2.2] startup\n",
      "[3.094s] [ext: omni.graph.action-1.18.0] startup\n",
      "[3.107s] [ext: omni.kit.widget.searchfield-1.0.6] startup\n",
      "[3.108s] [ext: omni.kit.usd_undo-0.1.0] startup\n",
      "[3.110s] [ext: omni.graph.scriptnode-0.5.0] startup\n",
      "[3.114s] [ext: omni.physx.commands-1.4.15-5.1] startup\n",
      "[3.121s] [ext: omni.graph.nodes-1.26.0] startup\n",
      "[3.142s] [ext: omni.command.usd-1.0.1] startup\n",
      "[3.147s] [ext: omni.kit.window.extensions-1.1.0] startup\n",
      "[3.152s] [ext: omni.syntheticdata-0.2.1] startup\n",
      "[3.190s] [ext: omni.kit.primitive.mesh-1.0.0] startup\n",
      "[3.199s] [ext: omni.warp-0.2.2] startup\n",
      "[3.850s] [ext: omni.isaac.ui-0.2.1] startup\n",
      "[3.852s] [ext: omni.replicator.core-1.4.3] startup\n",
      "[4.064s] [ext: omni.isaac.core-1.24.3] startup\n",
      "[4.158s] [ext: omni.physx.ui-1.4.15-5.1] startup\n",
      "[4.241s] [ext: omni.kit.property.material-1.8.5] startup\n",
      "[4.245s] [ext: omni.kit.window.toolbar-1.2.4] startup\n",
      "[4.253s] [ext: omni.isaac.core_nodes-0.13.0] startup\n",
      "[4.267s] [ext: omni.physx.demos-1.4.15-5.1] startup\n",
      "[4.270s] [ext: omni.kit.property.physx-0.1.0] startup\n",
      "2022-12-09 05:04:40 [4,332ms] [Warning] [omni.physx.plugin] Deprecated: getSimulationEventStream is deprecated, please use getSimulationEventStreamV2\n",
      "[4.342s] [ext: omni.physx.tests-1.4.15-5.1] startup\n",
      "[4.611s] [ext: omni.isaac.wheeled_robots-0.5.8] startup\n",
      "[4.622s] [ext: omni.kit.menu.common-1.0.0] startup\n",
      "[4.623s] [ext: omni.physx.vehicle-1.4.15-5.1] startup\n",
      "[4.635s] [ext: omni.physx.cct-1.4.15-5.1] startup\n",
      "[4.714s] [ext: omni.physx.camera-1.4.15-5.1] startup\n",
      "[4.722s] [ext: omni.kit.widget.stage_icons-1.0.2] startup\n",
      "[4.723s] [ext: omni.ui.scene-1.5.0] startup\n",
      "[4.730s] [ext: omni.physx.bundle-1.4.15-5.1] startup\n",
      "[4.730s] [ext: omni.kit.window.stage-2.3.7] startup\n",
      "[4.733s] [ext: omni.replicator.composer-1.1.3] startup\n",
      "[4.751s] [ext: omni.isaac.lula-1.1.0] startup\n",
      "[4.760s] [ext: omni.rtx.window.settings-0.6.1] startup\n",
      "[4.766s] [ext: omni.isaac.surface_gripper-0.1.2] startup\n",
      "[4.771s] [ext: omni.isaac.motion_planning-0.2.0] startup\n",
      "[4.779s] [ext: omni.rtx.settings.core-0.5.5] startup\n",
      "[4.783s] [ext: omni.isaac.manipulators-1.0.1] startup\n",
      "[4.785s] [ext: omni.isaac.motion_generation-3.6.1] startup\n",
      "[4.789s] [ext: omni.kit.widget.zoombar-1.0.3] startup\n",
      "[4.791s] [ext: omni.kit.graph.delegate.default-1.0.15] startup\n",
      "[4.793s] [ext: omni.isaac.franka-0.3.0] startup\n",
      "[4.794s] [ext: omni.kit.browser.core-2.0.12] startup\n",
      "[4.799s] [ext: omni.kit.graph.editor.core-1.3.3] startup\n",
      "[4.803s] [ext: omni.kit.graph.usd.commands-1.1.0] startup\n",
      "[4.805s] [ext: omni.kit.browser.folder.core-1.1.13] startup\n",
      "[4.808s] [ext: omni.kit.graph.widget.variables-2.0.2] startup\n",
      "[4.809s] [ext: omni.kit.graph.delegate.modern-1.6.0] startup\n",
      "[4.810s] [ext: omni.kit.selection-0.1.0] startup\n",
      "[4.811s] [ext: omni.isaac.debug_draw-0.Opening usd file at  omniverse://localhost/Users/yizhou/phase3.usd  ...1.2] startup\n",
      "[4.819s] [ext: omni.graph.window.core-1.23.4] startup\n",
      "[4.826s] [ext: omni.graph.instancing-1.1.4] startup\n",
      "[4.832s] [ext: omni.kit.menu.edit-1.0.6] startup\n",
      "[4.833s] [ext: omni.isaac.isaac_sensor-1.0.2] startup\n",
      "2022-12-09 05:04:40 [4,836ms] [Warning] [omni.physx.plugin] Deprecated: getSimulationEventStream is deprecated, please use getSimulationEventStreamV2\n",
      "[4.846s] [ext: omni.graph.tutorials-1.1.2] startup\n",
      "[4.860s] [ext: omni.graph.window.action-1.3.8] startup\n",
      "[4.862s] [ext: omni.kit.widget.live-0.1.0] startup\n",
      "[4.867s] [ext: omni.kit.widget.layers-1.5.17] startup\n",
      "[4.880s] [ext: omni.graph.bundle.action-1.0.0] startup\n",
      "[4.880s] [ext: omni.isaac.range_sensor-0.4.3] startup\n",
      "[4.907s] [ext: omni.kit.property.layer-1.1.2] startup\n",
      "[4.909s] [ext: omni.replicator.isaac-1.3.2] startup\n",
      "[4.993s] [ext: omni.isaac.kit-0.2.1] startup\n",
      "[4.994s] [ext: omni.graph.window.generic-1.3.8] startup\n",
      "[4.995s] [ext: omni.isaac.utils-0.1.11] startup\n",
      "[4.998s] [ext: omni.kit.property.audio-1.0.5] startup\n",
      "[5.000s] [ext: omni.kit.property.skel-1.0.1] startup\n",
      "[5.001s] [ext: omni.kit.property.render-1.1.0] startup\n",
      "[5.002s] [ext: omni.kit.property.camera-1.0.3] startup\n",
      "[5.003s] [ext: omni.kit.property.geometry-1.2.0] startup\n",
      "[5.005s] [ext: omni.kit.property.light-1.0.5] startup\n",
      "[5.006s] [ext: omni.kit.property.transform-1.0.2] startup\n",
      "[5.010s] [ext: omni.isaac.universal_robots-0.3.0] startup\n",
      "[5.013s] [ext: omni.isaac.occupancy_map-0.2.4] startup\n",
      "[5.026s] [ext: omni.kit.window.console-0.2.0] startup\n",
      "[5.035s] [ext: omni.kit.window.status_bar-0.1.1] startup\n",
      "[5.040s] [ext: omni.kit.property.bundle-1.2.4] startup\n",
      "[5.041s] [ext: omni.kit.menu.file-1.0.8] startup\n",
      "[5.042s] [ext: omni.kit.manipulator.viewport-1.0.6] startup\n",
      "[5.046s] [ext: omni.isaac.urdf-0.4.0] startup\n",
      "[5.080s] [ext: omni.isaac.dofbot-0.3.0] startup\n",
      "[5.081s] [ext: omni.kit.window.title-1.1.2] startup\n",
      "[5.082s] [ext: omni.kit.profiler.window-1.4.4] startup\n",
      "[5.085s] [ext: omni.graph.visualization.nodes-1.1.1] startup\n",
      "[5.089s] [ext: omni.isaac.synthetic_utils-0.3.5] startup\n",
      "[5.090s] [ext: semantics.schema.editor-0.2.3] startup\n",
      "[5.095s] [ext: omni.isaac.sim.python-2022.1.1] startup\n",
      "[5.095s] Simulation App Starting\n",
      "Could not open omniverse://localhost/Users/yizhou/phase3.usd creating a new empty stage\n"
     ]
    },
    {
     "name": "stderr",
     "output_type": "stream",
     "text": [
      "2022-12-09 05:04:40 [5,131ms] [Error] [omni.usd] Failed to open : omniverse://localhost/Users/yizhou/phase3.usd\n",
      "2022-12-09 05:04:40 [5,131ms] [Error] [omni.usd] Open USD error: Failed to open:omniverse://localhost/Users/yizhou/phase3.usd\n"
     ]
    },
    {
     "name": "stdout",
     "output_type": "stream",
     "text": [
      "Saving a temp livesync stage at  omniverse://localhost/Users/yizhou/phase3.usd  ...Done.\n"
     ]
    }
   ],
   "source": [
    "from omni.isaac.kit import SimulationApp    \n",
    "simulation_app = SimulationApp({\"headless\": True, \"open_usd\": usd_path,  \"livesync_usd\": usd_path}) "
   ]
  },
  {
   "cell_type": "code",
   "execution_count": null,
   "id": "9bf8dbde",
   "metadata": {},
   "outputs": [],
   "source": [
    "import torch\n",
    "import numpy as np\n",
    "torch.__version__"
   ]
  },
  {
   "cell_type": "code",
   "execution_count": null,
   "id": "3f3f3123",
   "metadata": {
    "scrolled": true
   },
   "outputs": [],
   "source": [
    "import carb\n",
    "carb.settings.get_settings().get(\"/app/window/title\")"
   ]
  },
  {
   "cell_type": "code",
   "execution_count": null,
   "id": "5fd13c42",
   "metadata": {},
   "outputs": [],
   "source": [
    "# from omni.isaac.core import World\n",
    "# from omni.isaac.core.prims.xform_prim import XFormPrim\n",
    "# world = World()"
   ]
  },
  {
   "cell_type": "code",
   "execution_count": null,
   "id": "b21910b7",
   "metadata": {},
   "outputs": [],
   "source": [
    "from uva_env import UvaEnv\n",
    "env = UvaEnv()"
   ]
  },
  {
   "cell_type": "code",
   "execution_count": null,
   "id": "c75a4788",
   "metadata": {},
   "outputs": [],
   "source": [
    "from task.utils import add_scene_default"
   ]
  },
  {
   "cell_type": "code",
   "execution_count": null,
   "id": "0fde6988",
   "metadata": {},
   "outputs": [],
   "source": [
    "add_scene_default()"
   ]
  },
  {
   "cell_type": "code",
   "execution_count": null,
   "id": "cc03d21a",
   "metadata": {
    "scrolled": true
   },
   "outputs": [],
   "source": [
    "list(env.stage.TraverseAll())"
   ]
  },
  {
   "cell_type": "code",
   "execution_count": null,
   "id": "04cea00c",
   "metadata": {},
   "outputs": [],
   "source": [
    "env.clean()\n",
    "env.world.step(render=True)"
   ]
  },
  {
   "cell_type": "markdown",
   "id": "18b0e77c",
   "metadata": {},
   "source": [
    "# Task scene"
   ]
  },
  {
   "cell_type": "code",
   "execution_count": null,
   "id": "34b36463",
   "metadata": {},
   "outputs": [],
   "source": [
    "task_type = \"Table\"\n",
    "side_choice = \"Border\"\n",
    "asset_id = 0\n",
    "load_nucleus = True"
   ]
  },
  {
   "cell_type": "code",
   "execution_count": null,
   "id": "4d0792f0",
   "metadata": {},
   "outputs": [],
   "source": [
    "from task.scene import ArrangeScene\n",
    "scene = ArrangeScene(task_type, side_choice, asset_id, \"/World/base\", load_nucleus)\n",
    "env.scene = scene"
   ]
  },
  {
   "cell_type": "code",
   "execution_count": null,
   "id": "8e1c824f",
   "metadata": {
    "scrolled": true
   },
   "outputs": [],
   "source": [
    "# base\n",
    "scene.add_base_asset()"
   ]
  },
  {
   "cell_type": "code",
   "execution_count": null,
   "id": "b7485743",
   "metadata": {},
   "outputs": [],
   "source": [
    "# add room\n",
    "scene.add_room()"
   ]
  },
  {
   "cell_type": "code",
   "execution_count": null,
   "id": "e6230b2c",
   "metadata": {},
   "outputs": [],
   "source": [
    "env.world.step(render=True)"
   ]
  },
  {
   "cell_type": "code",
   "execution_count": null,
   "id": "161187e5",
   "metadata": {},
   "outputs": [],
   "source": [
    "# # add object\n",
    "# object_type = random.choice(scene.object_candidates)\n",
    "# scene.load_obj_info(object_type, 1)"
   ]
  },
  {
   "cell_type": "code",
   "execution_count": null,
   "id": "3f4ac587",
   "metadata": {},
   "outputs": [],
   "source": [
    "env.add_scene_obj(mode = \"random\")"
   ]
  },
  {
   "cell_type": "code",
   "execution_count": null,
   "id": "4b035c76",
   "metadata": {},
   "outputs": [],
   "source": [
    "env.world.step(render=True)"
   ]
  },
  {
   "cell_type": "code",
   "execution_count": null,
   "id": "aca5e8bb",
   "metadata": {},
   "outputs": [],
   "source": [
    "scene.objects"
   ]
  },
  {
   "cell_type": "code",
   "execution_count": null,
   "id": "27570ce1",
   "metadata": {},
   "outputs": [],
   "source": [
    "# object_prim_path = scene.objects[-1][\"prim_path\"]  \n",
    "# object_prim = env.stage.GetPrimAtPath(object_prim_path)"
   ]
  },
  {
   "cell_type": "code",
   "execution_count": null,
   "id": "12d7e199",
   "metadata": {},
   "outputs": [],
   "source": [
    "x, y = np.tanh(np.random.randn()), np.tanh(np.random.randn())\n",
    "env.put_last_object((x, y)) "
   ]
  },
  {
   "cell_type": "code",
   "execution_count": null,
   "id": "ab2d1964",
   "metadata": {},
   "outputs": [],
   "source": [
    "env.world.step(render=True)"
   ]
  },
  {
   "cell_type": "code",
   "execution_count": null,
   "id": "adfe634c",
   "metadata": {},
   "outputs": [],
   "source": [
    "env.world.reset()"
   ]
  },
  {
   "cell_type": "code",
   "execution_count": null,
   "id": "81359a81",
   "metadata": {},
   "outputs": [],
   "source": [
    "pause"
   ]
  },
  {
   "cell_type": "markdown",
   "id": "243c253d",
   "metadata": {},
   "source": [
    "# Reward"
   ]
  },
  {
   "cell_type": "code",
   "execution_count": null,
   "id": "7dc72db8",
   "metadata": {},
   "outputs": [],
   "source": [
    "from uv.reward import Rewarder"
   ]
  },
  {
   "cell_type": "code",
   "execution_count": null,
   "id": "51c3950e",
   "metadata": {},
   "outputs": [],
   "source": [
    "rewarder = Rewarder(env.world)"
   ]
  },
  {
   "cell_type": "code",
   "execution_count": null,
   "id": "29e06fe2",
   "metadata": {
    "scrolled": true
   },
   "outputs": [],
   "source": [
    "last_object_prim = env.scene.objects[-1][\"prim_path\"]"
   ]
  },
  {
   "cell_type": "code",
   "execution_count": null,
   "id": "29df55b7",
   "metadata": {},
   "outputs": [],
   "source": [
    "# affordance(basic) reward\n",
    "rewarder.reward_basic(last_object_prim)"
   ]
  },
  {
   "cell_type": "code",
   "execution_count": null,
   "id": "1303479f",
   "metadata": {
    "scrolled": true
   },
   "outputs": [],
   "source": [
    "# Perturbation reward\n",
    "rewarder.reward_perturbation(last_object_prim)"
   ]
  },
  {
   "cell_type": "code",
   "execution_count": null,
   "id": "f5ce7d5b",
   "metadata": {},
   "outputs": [],
   "source": [
    "env.rewarder = rewarder\n",
    "env.calculate_last_reward()"
   ]
  },
  {
   "cell_type": "code",
   "execution_count": null,
   "id": "2a087b8f",
   "metadata": {},
   "outputs": [],
   "source": [
    "env.scene.objects[-1]"
   ]
  },
  {
   "cell_type": "code",
   "execution_count": null,
   "id": "cb74ee59",
   "metadata": {},
   "outputs": [],
   "source": [
    "pause"
   ]
  },
  {
   "cell_type": "markdown",
   "id": "3e3cbb2e",
   "metadata": {},
   "source": [
    "# Record"
   ]
  },
  {
   "cell_type": "code",
   "execution_count": null,
   "id": "fb528117",
   "metadata": {},
   "outputs": [],
   "source": [
    "# record = env.scene.get_scene_data()\n",
    "# env.scene.save_scene_data()\n",
    "# print(\"record: \", record)"
   ]
  },
  {
   "cell_type": "markdown",
   "id": "4ba90cd7",
   "metadata": {},
   "source": [
    "# Render"
   ]
  },
  {
   "cell_type": "code",
   "execution_count": null,
   "id": "afa43401",
   "metadata": {},
   "outputs": [],
   "source": [
    "from render.helper import RenderHelper\n",
    "render = RenderHelper(task_type, side_choice)"
   ]
  },
  {
   "cell_type": "code",
   "execution_count": null,
   "id": "09486fa9",
   "metadata": {
    "scrolled": false
   },
   "outputs": [],
   "source": [
    "render.add_task_cameras()"
   ]
  },
  {
   "cell_type": "code",
   "execution_count": null,
   "id": "fb637e8f",
   "metadata": {},
   "outputs": [],
   "source": [
    "render.set_cameras()"
   ]
  },
  {
   "cell_type": "code",
   "execution_count": null,
   "id": "236b8409",
   "metadata": {},
   "outputs": [],
   "source": [
    "# get images\n",
    "env.world.render()\n",
    "render.get_images()"
   ]
  },
  {
   "cell_type": "code",
   "execution_count": null,
   "id": "1d5742c8",
   "metadata": {},
   "outputs": [],
   "source": []
  }
 ],
 "metadata": {
  "kernelspec": {
   "display_name": "Isaac Sim Python 3",
   "language": "python",
   "name": "isaac_sim_python3"
  },
  "language_info": {
   "codemirror_mode": {
    "name": "ipython",
    "version": 3
   },
   "file_extension": ".py",
   "mimetype": "text/x-python",
   "name": "python",
   "nbconvert_exporter": "python",
   "pygments_lexer": "ipython3",
   "version": "3.7.13"
  }
 },
 "nbformat": 4,
 "nbformat_minor": 5
}
