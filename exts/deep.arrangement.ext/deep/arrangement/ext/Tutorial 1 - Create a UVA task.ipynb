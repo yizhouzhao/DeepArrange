{
 "cells": [
  {
   "cell_type": "code",
   "execution_count": null,
   "id": "ed4f9fe6",
   "metadata": {},
   "outputs": [],
   "source": [
    "%load_ext autoreload\n",
    "%autoreload 2"
   ]
  },
  {
   "cell_type": "code",
   "execution_count": null,
   "id": "69c787b3",
   "metadata": {},
   "outputs": [],
   "source": [
    "import random\n",
    "import numpy"
   ]
  },
  {
   "cell_type": "code",
   "execution_count": null,
   "id": "896db912",
   "metadata": {},
   "outputs": [],
   "source": [
    "import getpass\n",
    "user = getpass.getuser()"
   ]
  },
  {
   "cell_type": "code",
   "execution_count": null,
   "id": "910ffe01",
   "metadata": {},
   "outputs": [],
   "source": [
    "user"
   ]
  },
  {
   "cell_type": "code",
   "execution_count": null,
   "id": "e0ab8c93",
   "metadata": {},
   "outputs": [],
   "source": [
    "usd_path = \"omniverse://localhost/Users/yizhou/phase2.usd\""
   ]
  },
  {
   "cell_type": "code",
   "execution_count": null,
   "id": "6dd75691",
   "metadata": {
    "scrolled": true
   },
   "outputs": [],
   "source": [
    "from omni.isaac.kit import SimulationApp    \n",
    "simulation_app = SimulationApp({\"headless\": True, \"open_usd\": usd_path,  \"livesync_usd\": usd_path}) "
   ]
  },
  {
   "cell_type": "code",
   "execution_count": null,
   "id": "9bf8dbde",
   "metadata": {},
   "outputs": [],
   "source": [
    "import torch\n",
    "import numpy as np\n",
    "torch.__version__"
   ]
  },
  {
   "cell_type": "code",
   "execution_count": null,
   "id": "3f3f3123",
   "metadata": {
    "scrolled": true
   },
   "outputs": [],
   "source": [
    "import carb\n",
    "carb.settings.get_settings().get(\"/app/window/title\")"
   ]
  },
  {
   "cell_type": "code",
   "execution_count": null,
   "id": "5fd13c42",
   "metadata": {},
   "outputs": [],
   "source": [
    "# from omni.isaac.core import World\n",
    "# from omni.isaac.core.prims.xform_prim import XFormPrim\n",
    "# world = World()"
   ]
  },
  {
   "cell_type": "code",
   "execution_count": null,
   "id": "b21910b7",
   "metadata": {},
   "outputs": [],
   "source": [
    "from uva_env import UvaEnv\n",
    "env = UvaEnv()"
   ]
  },
  {
   "cell_type": "code",
   "execution_count": null,
   "id": "c75a4788",
   "metadata": {},
   "outputs": [],
   "source": [
    "from task.utils import add_scene_default"
   ]
  },
  {
   "cell_type": "code",
   "execution_count": null,
   "id": "0fde6988",
   "metadata": {},
   "outputs": [],
   "source": [
    "add_scene_default()"
   ]
  },
  {
   "cell_type": "code",
   "execution_count": null,
   "id": "cc03d21a",
   "metadata": {
    "scrolled": true
   },
   "outputs": [],
   "source": [
    "list(env.stage.TraverseAll())"
   ]
  },
  {
   "cell_type": "code",
   "execution_count": null,
   "id": "04cea00c",
   "metadata": {},
   "outputs": [],
   "source": [
    "env.clean()\n",
    "env.world.step(render=True)"
   ]
  },
  {
   "cell_type": "markdown",
   "id": "18b0e77c",
   "metadata": {},
   "source": [
    "# Task scene"
   ]
  },
  {
   "cell_type": "code",
   "execution_count": null,
   "id": "34b36463",
   "metadata": {},
   "outputs": [],
   "source": [
    "task_type = \"Table\"\n",
    "side_choice = \"Border\"\n",
    "asset_id = 0\n",
    "load_nucleus = True"
   ]
  },
  {
   "cell_type": "code",
   "execution_count": null,
   "id": "4d0792f0",
   "metadata": {},
   "outputs": [],
   "source": [
    "from task.scene import ArrangeScene\n",
    "scene = ArrangeScene(task_type, side_choice, asset_id, \"/World/base\", load_nucleus)\n",
    "env.scene = scene"
   ]
  },
  {
   "cell_type": "code",
   "execution_count": null,
   "id": "8e1c824f",
   "metadata": {
    "scrolled": true
   },
   "outputs": [],
   "source": [
    "# base\n",
    "scene.add_base_asset()"
   ]
  },
  {
   "cell_type": "code",
   "execution_count": null,
   "id": "b7485743",
   "metadata": {},
   "outputs": [],
   "source": [
    "# add room\n",
    "scene.add_room()"
   ]
  },
  {
   "cell_type": "code",
   "execution_count": null,
   "id": "e6230b2c",
   "metadata": {},
   "outputs": [],
   "source": [
    "env.world.step(render=True)"
   ]
  },
  {
   "cell_type": "code",
   "execution_count": null,
   "id": "161187e5",
   "metadata": {},
   "outputs": [],
   "source": [
    "# # add object\n",
    "# object_type = random.choice(scene.object_candidates)\n",
    "# scene.load_obj_info(object_type, 1)"
   ]
  },
  {
   "cell_type": "code",
   "execution_count": null,
   "id": "3f4ac587",
   "metadata": {},
   "outputs": [],
   "source": [
    "env.add_scene_obj(mode = \"random\")"
   ]
  },
  {
   "cell_type": "code",
   "execution_count": null,
   "id": "4b035c76",
   "metadata": {},
   "outputs": [],
   "source": [
    "env.world.step(render=True)"
   ]
  },
  {
   "cell_type": "code",
   "execution_count": null,
   "id": "aca5e8bb",
   "metadata": {},
   "outputs": [],
   "source": [
    "scene.objects"
   ]
  },
  {
   "cell_type": "code",
   "execution_count": null,
   "id": "27570ce1",
   "metadata": {},
   "outputs": [],
   "source": [
    "# object_prim_path = scene.objects[-1][\"prim_path\"]  \n",
    "# object_prim = env.stage.GetPrimAtPath(object_prim_path)"
   ]
  },
  {
   "cell_type": "code",
   "execution_count": null,
   "id": "12d7e199",
   "metadata": {},
   "outputs": [],
   "source": [
    "x, y = np.tanh(np.random.randn()), np.tanh(np.random.randn())\n",
    "env.put_last_object((x, y)) "
   ]
  },
  {
   "cell_type": "code",
   "execution_count": null,
   "id": "ab2d1964",
   "metadata": {},
   "outputs": [],
   "source": [
    "env.world.step(render=True)"
   ]
  },
  {
   "cell_type": "code",
   "execution_count": null,
   "id": "adfe634c",
   "metadata": {},
   "outputs": [],
   "source": [
    "env.world.reset()"
   ]
  },
  {
   "cell_type": "code",
   "execution_count": null,
   "id": "81359a81",
   "metadata": {},
   "outputs": [],
   "source": [
    "pause"
   ]
  },
  {
   "cell_type": "markdown",
   "id": "243c253d",
   "metadata": {},
   "source": [
    "# Reward"
   ]
  },
  {
   "cell_type": "code",
   "execution_count": null,
   "id": "7dc72db8",
   "metadata": {},
   "outputs": [],
   "source": [
    "from uv.reward import Rewarder"
   ]
  },
  {
   "cell_type": "code",
   "execution_count": null,
   "id": "51c3950e",
   "metadata": {},
   "outputs": [],
   "source": [
    "rewarder = Rewarder(env.world)"
   ]
  },
  {
   "cell_type": "code",
   "execution_count": null,
   "id": "29e06fe2",
   "metadata": {
    "scrolled": true
   },
   "outputs": [],
   "source": [
    "last_object_prim = env.scene.objects[-1][\"prim_path\"]"
   ]
  },
  {
   "cell_type": "code",
   "execution_count": null,
   "id": "29df55b7",
   "metadata": {},
   "outputs": [],
   "source": [
    "# affordance(basic) reward\n",
    "rewarder.reward_basic(last_object_prim)"
   ]
  },
  {
   "cell_type": "code",
   "execution_count": null,
   "id": "1303479f",
   "metadata": {
    "scrolled": true
   },
   "outputs": [],
   "source": [
    "# Perturbation reward\n",
    "rewarder.reward_perturbation(last_object_prim)"
   ]
  },
  {
   "cell_type": "code",
   "execution_count": null,
   "id": "f5ce7d5b",
   "metadata": {},
   "outputs": [],
   "source": [
    "env.rewarder = rewarder\n",
    "env.calculate_last_reward()"
   ]
  },
  {
   "cell_type": "code",
   "execution_count": null,
   "id": "2a087b8f",
   "metadata": {},
   "outputs": [],
   "source": [
    "env.scene.objects[-1]"
   ]
  },
  {
   "cell_type": "code",
   "execution_count": null,
   "id": "cb74ee59",
   "metadata": {},
   "outputs": [],
   "source": [
    "pause"
   ]
  },
  {
   "cell_type": "markdown",
   "id": "3e3cbb2e",
   "metadata": {},
   "source": [
    "# Record"
   ]
  },
  {
   "cell_type": "code",
   "execution_count": null,
   "id": "fb528117",
   "metadata": {},
   "outputs": [],
   "source": [
    "# record = env.scene.get_scene_data()\n",
    "# env.scene.save_scene_data()\n",
    "# print(\"record: \", record)"
   ]
  },
  {
   "cell_type": "markdown",
   "id": "4ba90cd7",
   "metadata": {},
   "source": [
    "# Render"
   ]
  },
  {
   "cell_type": "code",
   "execution_count": null,
   "id": "afa43401",
   "metadata": {},
   "outputs": [],
   "source": [
    "from render.helper import RenderHelper\n",
    "render = RenderHelper(task_type, side_choice)"
   ]
  },
  {
   "cell_type": "code",
   "execution_count": null,
   "id": "09486fa9",
   "metadata": {
    "scrolled": false
   },
   "outputs": [],
   "source": [
    "render.add_task_cameras()"
   ]
  },
  {
   "cell_type": "code",
   "execution_count": null,
   "id": "fb637e8f",
   "metadata": {},
   "outputs": [],
   "source": [
    "render.set_cameras()"
   ]
  },
  {
   "cell_type": "code",
   "execution_count": null,
   "id": "236b8409",
   "metadata": {},
   "outputs": [],
   "source": [
    "# get images\n",
    "env.world.render()\n",
    "render.get_images()"
   ]
  },
  {
   "cell_type": "code",
   "execution_count": null,
   "id": "1d5742c8",
   "metadata": {},
   "outputs": [],
   "source": []
  }
 ],
 "metadata": {
  "kernelspec": {
   "display_name": "Isaac Sim Python 3",
   "language": "python",
   "name": "isaac_sim_python3"
  },
  "language_info": {
   "codemirror_mode": {
    "name": "ipython",
    "version": 3
   },
   "file_extension": ".py",
   "mimetype": "text/x-python",
   "name": "python",
   "nbconvert_exporter": "python",
   "pygments_lexer": "ipython3",
   "version": "3.7.13"
  }
 },
 "nbformat": 4,
 "nbformat_minor": 5
}
