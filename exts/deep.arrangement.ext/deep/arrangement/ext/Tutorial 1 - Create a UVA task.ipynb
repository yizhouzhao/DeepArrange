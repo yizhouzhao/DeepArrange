{
 "cells": [
  {
   "cell_type": "code",
   "execution_count": 1,
   "id": "ed4f9fe6",
   "metadata": {},
   "outputs": [],
   "source": [
    "%load_ext autoreload\n",
    "%autoreload 2"
   ]
  },
  {
   "cell_type": "code",
   "execution_count": 2,
   "id": "69c787b3",
   "metadata": {},
   "outputs": [],
   "source": [
    "import random\n",
    "import numpy"
   ]
  },
  {
   "cell_type": "code",
   "execution_count": 3,
   "id": "896db912",
   "metadata": {},
   "outputs": [],
   "source": [
    "import getpass\n",
    "user = getpass.getuser()"
   ]
  },
  {
   "cell_type": "code",
   "execution_count": 4,
   "id": "910ffe01",
   "metadata": {},
   "outputs": [
    {
     "data": {
      "text/plain": [
       "'yizhou'"
      ]
     },
     "execution_count": 4,
     "metadata": {},
     "output_type": "execute_result"
    }
   ],
   "source": [
    "user"
   ]
  },
  {
   "cell_type": "code",
   "execution_count": 5,
   "id": "e0ab8c93",
   "metadata": {},
   "outputs": [],
   "source": [
    "usd_path = \"omniverse://localhost/Users/yizhou/phase2.usd\""
   ]
  },
  {
   "cell_type": "code",
   "execution_count": null,
   "id": "6dd75691",
   "metadata": {
    "scrolled": true
   },
   "outputs": [
    {
     "name": "stdout",
     "output_type": "stream",
     "text": [
      "Starting kit application with the fillowing args:  ['/home/yizhou/.local/share/ov/pkg/isaac_sim-2022.1.1/exts/omni.isaac.kit/omni/isaac/kit/simulation_app.py', '/home/yizhou/.local/share/ov/pkg/isaac_sim-2022.1.1/apps/omni.isaac.sim.python.kit', '--/app/tokens/exe-path=/home/yizhou/.local/share/ov/pkg/isaac_sim-2022.1.1/kit', '--/persistent/app/viewport/displayOptions=3094', '--/rtx/materialDb/syncLoads=True', '--/rtx/hydra/materialSyncLoads=True--/omni.kit.plugin/syncUsdLoads=True', '--/app/renderer/resolution/width=1280', '--/app/renderer/resolution/height=720', '--/app/window/width=1440', '--/app/window/height=900', '--/renderer/multiGpu/enabled=True', '--ext-folder', '/home/yizhou/.local/share/ov/pkg/isaac_sim-2022.1.1/exts', '--ext-folder', '/home/yizhou/.local/share/ov/pkg/isaac_sim-2022.1.1/apps', '--/physics/cudaDevice=0', '--portable', '--no-window']\n",
      "Passing the following args to the base kit application:  ['-f', '/home/yizhou/.local/share/jupyter/runtime/kernel-4a72e792-71a2-4644-9b30-850be5be4898.json']\n",
      "[Warning] [omni.kit.app.plugin] No crash reporter present, dumps uploading isn't available.\n",
      "[Info] [carb] Logging to file: /home/yizhou/.local/share/ov/pkg/isaac_sim-2022.1.1/kit/logs/Kit/Isaac-Sim/2022.1/kit_20221208_205957.log\n",
      "2022-12-09 04:59:57 [4ms] [Warning] [omni.ext.plugin] [ext: omni.drivesim.sensors.nv.lidar] Extensions config 'extension.toml' doesn't exist '/home/yizhou/.local/share/ov/pkg/isaac_sim-2022.1.1/exts/omni.drivesim.sensors.nv.lidar' or '/home/yizhou/.local/share/ov/pkg/isaac_sim-2022.1.1/exts/omni.drivesim.sensors.nv.lidar/config'\n",
      "[0.087s] [ext: omni.stats-0.0.0] startup\n",
      "[0.105s] [ext: omni.gpu_foundation-0.0.0] startup\n",
      "2022-12-09 04:59:57 [105ms] [Warning] [carb] FrameworkImpl::setDefaultPlugin(client: omni.gpu_foundation_factory.plugin, desc : [carb::graphics::Graphics v2.5], plugin : carb.graphics-vulkan.plugin) failed. Plugin selection is locked, because the interface was previously acquired by: \n",
      "[0.116s] [ext: carb.windowing.plugins-1.0.0] startup\n",
      "[0.131s] [ext: omni.assets.plugins-0.0.0] startup\n",
      "[0.132s] [ext: omni.kit.renderer.init-0.0.0] startup\n",
      "\n",
      "|---------------------------------------------------------------------------------------------|\n",
      "| Driver Version: 510.108.3     | Graphics API: Vulkan\n",
      "|=============================================================================================|\n",
      "| GPU | Name                             | Active | LDA | GPU Memory | Vendor-ID | LUID       |\n",
      "|     |                                  |        |     |            | Device-ID | UUID       |\n",
      "|---------------------------------------------------------------------------------------------|\n",
      "| 0   | NVIDIA GeForce RTX 3090          | Yes: 0 |     | 24822   MB | 10de      | 0          |\n",
      "|     |                                  |        |     |            | 2204      | 3f50dd6e.. |\n",
      "|=============================================================================================|\n",
      "| OS: Linux yizhou-Z370-AORUS-Gaming-5, Version: 5.15.0-56-generic\n",
      "| Processor: Intel(R) Core(TM) i7-8700K CPU @ 3.70GHz | Cores: Unknown | Logical: 12\n",
      "|---------------------------------------------------------------------------------------------|\n",
      "| Total Memory (MB): 32044 | Free Memory: 16879\n",
      "| Total Page/Swap (MB): 2047 | Free Page/Swap: 2047\n",
      "|---------------------------------------------------------------------------------------------|\n",
      "2022-12-09 04:59:58 [830ms] [Warning] [carb.cudainterop.plugin] On Linux only, CUDA and the display driver does not support IOMMU-enabled bare-metal PCIe peer to peer memory copy.\n",
      "However, CUDA and the display driver does support IOMMU via VM pass through. As a consequence, users on Linux,\n",
      "when running on a native bare metal system, should disable the IOMMU. The IOMMU should be enabled and the VFIO driver\n",
      "be used as a PCIe pass through for virtual machines.\n",
      "[0.852s] [ext: omni.kit.pipapi-0.0.0] startup\n",
      "[0.866s] [ext: omni.kit.pip_archive-0.0.0] startup\n",
      "[0.870s] [ext: omni.isaac.core_archive-1.2.0] startup\n",
      "[0.894s] [ext: omni.usd.config-1.0.0] startup\n",
      "[0.896s] [ext: omni.usd.libs-1.0.0] startup\n",
      "[1.074s] [ext: omni.kit.pip_torch-1_11_0-0.1.3] startup\n",
      "[1.111s] [ext: omni.isaac.ml_archive-1.1.0] startup\n",
      "[1.173s] [ext: omni.kit.loop-isaac-0.1.0] startup\n",
      "[1.174s] [ext: omni.kit.async_engine-0.0.0] startup\n",
      "[1.176s] [ext: omni.appwindow-1.0.0] startup\n",
      "[1.180s] [ext: omni.client-0.1.0] startup\n",
      "[1.190s] [ext: omni.kit.test-0.0.0] startup\n",
      "[1.191s] [ext: omni.kit.renderer.core-0.0.0] startup\n",
      "[1.266s] [ext: omni.ui-2.10.3] startup\n",
      "[1.288s] [ext: carb.audio-0.1.0] startup\n",
      "[1.310s] [ext: omni.kit.mainwindow-0.0.0] startup\n",
      "[1.313s] [ext: omni.uiaudio-1.0.0] startup\n",
      "[1.315s] [ext: omni.kit.uiapp-0.0.0] startup\n",
      "[1.315s] [ext: omni.usd.schema.physics-1.0.0] startup\n",
      "[1.359s] [ext: omni.usd.schema.audio-0.0.0] startup\n",
      "[1.367s] [ext: omni.usd.schema.semantics-0.0.0] startup\n",
      "[1.380s] [ext: omni.usd.schema.omnigraph-1.0.0] startup\n",
      "[1.390s] [ext: omni.usd.schema.anim-0.0.0] startup\n",
      "[1.467s] [ext: omni.kit.commands-1.2.2] startup\n",
      "[1.473s] [ext: omni.timeline-1.0.2] startup\n",
      "[1.476s] [ext: omni.hydra.scene_delegate-0.2.0] startup\n",
      "[1.483s] [ext: omni.kit.audiodeviceenum-1.0.0] startup\n",
      "[1.487s] [ext: omni.usd-1.5.3] startup\n",
      "[1.551s] [ext: omni.kit.asset_converter-1.2.31] startup\n",
      "[1.570s] [ext: omni.usd.schema.physx-0.0.0] startup\n",
      "[1.599s] [ext: omni.usd.schema.isaac-0.2.0] startup\n",
      "[1.643s] [ext: omni.usd.schema.forcefield-0.0.0] startup\n",
      "[1.655s] [ext: omni.kvdb-0.0.0] startup\n",
      "[1.658s] [ext: omni.usdphysics-1.4.15] startup\n",
      "[1.661s] [ext: omni.graph.tools-1.4.0] startup\n",
      "[1.694s] [ext: omni.localcache-0.0.0] startup\n",
      "[1.698s] [ext: omni.kit.stage_templates-1.1.2] startup\n",
      "[1.700s] [ext: omni.convexdecomposition-1.4.15] startup\n",
      "[1.704s] [ext: omni.physics.tensors-0.1.0] startup\n",
      "[1.713s] [ext: omni.physx-1.4.15-5.1] startup\n",
      "2022-12-09 04:59:59 [1,719ms] [Warning] [omni.kvdb.plugin] wasn't able to load the meta database, trying to repair it ...\n",
      "2022-12-09 04:59:59 [2,063ms] [Warning] [omni.kvdb.plugin] repair failed\n",
      "[2.073s] [ext: omni.graph.core-2.29.1] startup\n",
      "[2.085s] [ext: omni.kit.menu.utils-1.2.11] startup\n",
      "[2.103s] [ext: omni.physx.tensors-0.1.0] startup\n",
      "[2.112s] [ext: omni.graph-1.23.0] startup\n",
      "[2.175s] [ext: omni.kit.numpy.common-0.1.0] startup\n",
      "[2.178s] [ext: omni.kit.window.script_editor-1.6.2] startup\n",
      "[2.191s] [ext: omni.kit.search_core-1.0.2] startup\n",
      "[2.193s] [ext: omni.isaac.dynamic_control-1.1.0] startup\n",
      "[2.202s] [ext: omni.kit.renderer.capture-0.0.0] startup\n",
      "[2.207s] [ext: omni.kit.widget.filebrowser-2.2.27] startup\n",
      "[2.219s] [ext: omni.kit.widget.path_field-2.0.3] startup\n",
      "[2.221s] [ext: omni.kit.notification_manager-1.0.5] startup\n",
      "[2.226s] [ext: omni.kit.widget.versioning-1.3.8] startup\n",
      "[2.229s] [ext: omni.kit.widget.browser_bar-2.0.3] startup\n",
      "[2.232s] [ext: omni.kit.window.popup_dialog-2.0.8] startup\n",
      "[2.235s] [ext: omni.mdl.neuraylib-0.1.0] startup\n",
      "[2.239s] [ext: omni.kit.window.filepicker-2.4.30] startup\n"
     ]
    },
    {
     "name": "stderr",
     "output_type": "stream",
     "text": [
      "OmniAssetFileFormat\n"
     ]
    },
    {
     "name": "stdout",
     "output_type": "stream",
     "text": [
      "Warp initialized:\n",
      "   Version: 0.2.2\n",
      "   CUDA device: NVIDIA GeForce RTX 3090\n",
      "   Kernel cache: /home/yizhou/.cache/warp/0.2.2\n",
      "[2.295s] [ext: omni.kit.menu.create-1.0.2] startup\n",
      "[2.297s] [ext: omni.mdl-0.1.0] startup\n",
      "[2.322s] [ext: omni.kit.window.file_importer-1.0.4] startup\n",
      "[2.323s] [ext: omni.kit.window.file_exporter-1.0.4] startup\n",
      "[2.324s] [ext: omni.kit.material.library-1.3.10] startup\n",
      "[2.328s] [ext: omni.kit.window.drop_support-1.0.0] startup\n",
      "[2.329s] [ext: omni.kit.window.file-1.3.16] startup\n",
      "[2.333s] [ext: omni.kit.context_menu-1.3.9] startup\n",
      "[2.381s] [ext: omni.kit.window.property-1.6.3] startup\n",
      "[2.383s] [ext: omni.kit.window.content_browser-2.4.28] startup\n",
      "[2.395s] [ext: omni.kit.widget.stage-2.6.15] startup\n",
      "[2.401s] [ext: omni.isaac.version-1.0.0] startup\n",
      "[2.403s] [ext: omni.kit.property.usd-3.14.9] startup\n",
      "[2.441s] [ext: omni.kit.viewport.legacy_gizmos-1.0.0] startup\n",
      "[2.444s] [ext: omni.hydra.rtx-0.1.0] startup\n",
      "[2.454s] [ext: omni.renderer-rtx-0.0.0] startup\n",
      "[2.454s] [ext: omni.hydra.engine.stats-1.0.0] startup\n",
      "[2.461s] [ext: omni.debugdraw-0.1.0] startup\n",
      "[2.466s] [ext: omni.kit.widget.settings-1.0.0] startup\n",
      "[2.469s] [ext: omni.kit.window.viewport-0.0.0] startup\n",
      "[3.427s] [ext: omni.kit.widget.prompt-1.0.1] startup\n",
      "[3.428s] [ext: omni.kit.widget.graph-1.4.3] startup\n",
      "[3.437s] [ext: omni.kit.window.preferences-1.2.1] startup\n",
      "[3.478s] [ext: omni.ui_query-1.1.1] startup\n",
      "[3.481s] [ext: omni.graph.ui-1.6.1] startup\n",
      "[3.506s] [ext: omni.kit.ui_test-1.2.2] startup\n",
      "[3.509s] [ext: omni.graph.action-1.18.0] startup\n",
      "[3.523s] [ext: omni.kit.widget.searchfield-1.0.6] startup\n",
      "[3.525s] [ext: omni.kit.usd_undo-0.1.0] startup\n",
      "[3.527s] [ext: omni.graph.scriptnode-0.5.0] startup\n",
      "[3.531s] [ext: omni.physx.commands-1.4.15-5.1] startup\n",
      "[3.537s] [ext: omni.graph.nodes-1.26.0] startup\n",
      "[3.554s] [ext: omni.command.usd-1.0.1] startup\n",
      "[3.557s] [ext: omni.kit.window.extensions-1.1.0] startup\n",
      "[3.564s] [ext: omni.syntheticdata-0.2.1] startup\n",
      "[3.616s] [ext: omni.kit.primitive.mesh-1.0.0] startup\n",
      "[3.621s] [ext: omni.warp-0.2.2] startup\n",
      "[4.503s] [ext: omni.isaac.ui-0.2.1] startup\n",
      "[4.505s] [ext: omni.replicator.core-1.4.3] startup\n",
      "[4.735s] [ext: omni.isaac.core-1.24.3] startup\n",
      "[4.846s] [ext: omni.physx.ui-1.4.15-5.1] startup\n",
      "[4.930s] [ext: omni.kit.property.material-1.8.5] startup\n",
      "[4.934s] [ext: omni.kit.window.toolbar-1.2.4] startup\n",
      "[4.941s] [ext: omni.isaac.core_nodes-0.13.0] startup\n",
      "[4.956s] [ext: omni.physx.demos-1.4.15-5.1] startup\n",
      "[4.959s] [ext: omni.kit.property.physx-0.1.0] startup\n",
      "2022-12-09 05:00:02 [5,024ms] [Warning] [omni.physx.plugin] Deprecated: getSimulationEventStream is deprecated, please use getSimulationEventStreamV2\n",
      "[5.035s] [ext: omni.physx.tests-1.4.15-5.1] startup\n",
      "[5.327s] [ext: omni.isaac.wheeled_robots-0.5.8] startup\n",
      "[5.342s] [ext: omni.kit.menu.common-1.0.0] startup\n",
      "[5.344s] [ext: omni.physx.vehicle-1.4.15-5.1] startup\n",
      "[5.357s] [ext: omni.physx.cct-1.4.15-5.1] startup\n",
      "[5.441s] [ext: omni.physx.camera-1.4.15-5.1] startup\n",
      "[5.449s] [ext: omni.kit.widget.stage_icons-1.0.2] startup\n",
      "[5.451s] [ext: omni.ui.scene-1.5.0] startup\n",
      "[5.457s] [ext: omni.physx.bundle-1.4.15-5.1] startup\n",
      "[5.457s] [ext: omni.kit.window.stage-2.3.7] startup\n",
      "[5.461s] [ext: omni.replicator.composer-1.1.3] startup\n",
      "[5.479s] [ext: omni.isaac.lula-1.1.0] startup\n",
      "[5.490s] [ext: omni.rtx.window.settings-0.6.1] startup\n",
      "[5.497s] [ext: omni.isaac.surface_gripper-0.1.2] startup\n",
      "[5.503s] [ext: omni.isaac.motion_planning-0.2.0] startup\n",
      "[5.512s] [ext: omni.rtx.settings.core-0.5.5] startup\n",
      "[5.518s] [ext: omni.isaac.manipulators-1.0.1] startup\n",
      "[5.521s] [ext: omni.isaac.motion_generation-3.6.1] startup\n",
      "[5.528s] [ext: omni.kit.widget.zoombar-1.0.3] startup\n",
      "[5.529s] [ext: omni.kit.graph.delegate.default-1.0.15] startup\n",
      "[5.531s] [ext: omni.isaac.franka-0.3.0] startup\n",
      "[5.533s] [ext: omni.kit.browser.core-2.0.12] startup\n",
      "[5.539s] [ext: omni.kit.graph.editor.core-1.3.3] startup\n",
      "[5.543s] [ext: omni.kit.graph.usd.commands-1.1.0] startup\n",
      "[5.544s] [ext: omni.kit.browser.folder.core-1.1.13] startup\n",
      "[5.548s] [ext: omni.kit.graph.widget.variables-2.0.2] startup\n",
      "[5.550s] [ext: omni.kit.graph.delegate.modern-1.6.0] startup\n",
      "[5.552s] [ext: omni.kit.selection-0.1.0] startup\n",
      "[5.553s] [ext: omni.isaac.debug_draw-0.Opening usd file at  omniverse://localhost/Users/yizhou/phase2.usd  ...Done.\n",
      "Saving a temp livesync stage at  omniverse://localhost/Users/yizhou/phase2.usd  ...Done.\n"
     ]
    }
   ],
   "source": [
    "from omni.isaac.kit import SimulationApp    \n",
    "simulation_app = SimulationApp({\"headless\": True, \"open_usd\": usd_path,  \"livesync_usd\": usd_path}) "
   ]
  },
  {
   "cell_type": "code",
   "execution_count": null,
   "id": "9bf8dbde",
   "metadata": {},
   "outputs": [],
   "source": [
    "import torch\n",
    "import numpy as np\n",
    "torch.__version__"
   ]
  },
  {
   "cell_type": "code",
   "execution_count": null,
   "id": "3f3f3123",
   "metadata": {
    "scrolled": true
   },
   "outputs": [],
   "source": [
    "import carb\n",
    "carb.settings.get_settings().get(\"/app/window/title\")"
   ]
  },
  {
   "cell_type": "code",
   "execution_count": null,
   "id": "5fd13c42",
   "metadata": {},
   "outputs": [],
   "source": [
    "# from omni.isaac.core import World\n",
    "# from omni.isaac.core.prims.xform_prim import XFormPrim\n",
    "# world = World()"
   ]
  },
  {
   "cell_type": "code",
   "execution_count": null,
   "id": "b21910b7",
   "metadata": {},
   "outputs": [],
   "source": [
    "from uva_env import UvaEnv\n",
    "env = UvaEnv()"
   ]
  },
  {
   "cell_type": "code",
   "execution_count": null,
   "id": "c75a4788",
   "metadata": {},
   "outputs": [],
   "source": [
    "from task.utils import add_scene_default"
   ]
  },
  {
   "cell_type": "code",
   "execution_count": null,
   "id": "0fde6988",
   "metadata": {},
   "outputs": [],
   "source": [
    "add_scene_default()"
   ]
  },
  {
   "cell_type": "code",
   "execution_count": null,
   "id": "cc03d21a",
   "metadata": {
    "scrolled": true
   },
   "outputs": [],
   "source": [
    "list(env.stage.TraverseAll())"
   ]
  },
  {
   "cell_type": "code",
   "execution_count": null,
   "id": "04cea00c",
   "metadata": {},
   "outputs": [],
   "source": [
    "env.clean()\n",
    "env.world.step(render=True)"
   ]
  },
  {
   "cell_type": "markdown",
   "id": "18b0e77c",
   "metadata": {},
   "source": [
    "# Task scene"
   ]
  },
  {
   "cell_type": "code",
   "execution_count": null,
   "id": "34b36463",
   "metadata": {},
   "outputs": [],
   "source": [
    "task_type = \"Table\"\n",
    "side_choice = \"Border\"\n",
    "asset_id = 0\n",
    "load_nucleus = True"
   ]
  },
  {
   "cell_type": "code",
   "execution_count": null,
   "id": "4d0792f0",
   "metadata": {},
   "outputs": [],
   "source": [
    "from task.scene import ArrangeScene\n",
    "scene = ArrangeScene(task_type, side_choice, asset_id, \"/World/base\", load_nucleus)\n",
    "env.scene = scene"
   ]
  },
  {
   "cell_type": "code",
   "execution_count": null,
   "id": "8e1c824f",
   "metadata": {
    "scrolled": true
   },
   "outputs": [],
   "source": [
    "# base\n",
    "scene.add_base_asset()"
   ]
  },
  {
   "cell_type": "code",
   "execution_count": null,
   "id": "b7485743",
   "metadata": {},
   "outputs": [],
   "source": [
    "# add room\n",
    "scene.add_room()"
   ]
  },
  {
   "cell_type": "code",
   "execution_count": null,
   "id": "e6230b2c",
   "metadata": {},
   "outputs": [],
   "source": [
    "env.world.step(render=True)"
   ]
  },
  {
   "cell_type": "code",
   "execution_count": null,
   "id": "161187e5",
   "metadata": {},
   "outputs": [],
   "source": [
    "# # add object\n",
    "# object_type = random.choice(scene.object_candidates)\n",
    "# scene.load_obj_info(object_type, 1)"
   ]
  },
  {
   "cell_type": "code",
   "execution_count": null,
   "id": "3f4ac587",
   "metadata": {},
   "outputs": [],
   "source": [
    "env.add_scene_obj(mode = \"random\")"
   ]
  },
  {
   "cell_type": "code",
   "execution_count": null,
   "id": "4b035c76",
   "metadata": {},
   "outputs": [],
   "source": [
    "env.world.step(render=True)"
   ]
  },
  {
   "cell_type": "code",
   "execution_count": null,
   "id": "aca5e8bb",
   "metadata": {},
   "outputs": [],
   "source": [
    "scene.objects"
   ]
  },
  {
   "cell_type": "code",
   "execution_count": null,
   "id": "27570ce1",
   "metadata": {},
   "outputs": [],
   "source": [
    "# object_prim_path = scene.objects[-1][\"prim_path\"]  \n",
    "# object_prim = env.stage.GetPrimAtPath(object_prim_path)"
   ]
  },
  {
   "cell_type": "code",
   "execution_count": null,
   "id": "12d7e199",
   "metadata": {},
   "outputs": [],
   "source": [
    "x, y = np.tanh(np.random.randn()), np.tanh(np.random.randn())\n",
    "env.put_last_object((x, y)) "
   ]
  },
  {
   "cell_type": "code",
   "execution_count": null,
   "id": "ab2d1964",
   "metadata": {},
   "outputs": [],
   "source": [
    "env.world.step(render=True)"
   ]
  },
  {
   "cell_type": "code",
   "execution_count": null,
   "id": "adfe634c",
   "metadata": {},
   "outputs": [],
   "source": [
    "env.world.reset()"
   ]
  },
  {
   "cell_type": "code",
   "execution_count": null,
   "id": "81359a81",
   "metadata": {},
   "outputs": [],
   "source": [
    "pause"
   ]
  },
  {
   "cell_type": "markdown",
   "id": "243c253d",
   "metadata": {},
   "source": [
    "# Reward"
   ]
  },
  {
   "cell_type": "code",
   "execution_count": null,
   "id": "7dc72db8",
   "metadata": {},
   "outputs": [],
   "source": [
    "from uv.reward import Rewarder"
   ]
  },
  {
   "cell_type": "code",
   "execution_count": null,
   "id": "51c3950e",
   "metadata": {},
   "outputs": [],
   "source": [
    "rewarder = Rewarder(env.world)"
   ]
  },
  {
   "cell_type": "code",
   "execution_count": null,
   "id": "29e06fe2",
   "metadata": {
    "scrolled": true
   },
   "outputs": [],
   "source": [
    "last_object_prim = env.scene.objects[-1][\"prim_path\"]"
   ]
  },
  {
   "cell_type": "code",
   "execution_count": null,
   "id": "29df55b7",
   "metadata": {},
   "outputs": [],
   "source": [
    "# affordance(basic) reward\n",
    "rewarder.reward_basic(last_object_prim)"
   ]
  },
  {
   "cell_type": "code",
   "execution_count": null,
   "id": "1303479f",
   "metadata": {
    "scrolled": true
   },
   "outputs": [],
   "source": [
    "# Perturbation reward\n",
    "rewarder.reward_perturbation(last_object_prim)"
   ]
  },
  {
   "cell_type": "code",
   "execution_count": null,
   "id": "f5ce7d5b",
   "metadata": {},
   "outputs": [],
   "source": [
    "env.rewarder = rewarder\n",
    "env.calculate_last_reward()"
   ]
  },
  {
   "cell_type": "code",
   "execution_count": null,
   "id": "2a087b8f",
   "metadata": {},
   "outputs": [],
   "source": [
    "env.scene.objects[-1]"
   ]
  },
  {
   "cell_type": "code",
   "execution_count": null,
   "id": "cb74ee59",
   "metadata": {},
   "outputs": [],
   "source": [
    "pause"
   ]
  },
  {
   "cell_type": "markdown",
   "id": "3e3cbb2e",
   "metadata": {},
   "source": [
    "# Record"
   ]
  },
  {
   "cell_type": "code",
   "execution_count": null,
   "id": "fb528117",
   "metadata": {},
   "outputs": [],
   "source": [
    "# record = env.scene.get_scene_data()\n",
    "# env.scene.save_scene_data()\n",
    "# print(\"record: \", record)"
   ]
  },
  {
   "cell_type": "markdown",
   "id": "4ba90cd7",
   "metadata": {},
   "source": [
    "# Render"
   ]
  },
  {
   "cell_type": "code",
   "execution_count": null,
   "id": "afa43401",
   "metadata": {},
   "outputs": [],
   "source": [
    "from render.helper import RenderHelper\n",
    "render = RenderHelper(task_type, side_choice)"
   ]
  },
  {
   "cell_type": "code",
   "execution_count": null,
   "id": "09486fa9",
   "metadata": {
    "scrolled": false
   },
   "outputs": [],
   "source": [
    "render.add_task_cameras()"
   ]
  },
  {
   "cell_type": "code",
   "execution_count": null,
   "id": "fb637e8f",
   "metadata": {},
   "outputs": [],
   "source": [
    "render.set_cameras()"
   ]
  },
  {
   "cell_type": "code",
   "execution_count": null,
   "id": "236b8409",
   "metadata": {},
   "outputs": [],
   "source": [
    "# get images\n",
    "env.world.render()\n",
    "render.get_images()"
   ]
  },
  {
   "cell_type": "code",
   "execution_count": null,
   "id": "1d5742c8",
   "metadata": {},
   "outputs": [],
   "source": []
  }
 ],
 "metadata": {
  "kernelspec": {
   "display_name": "Isaac Sim Python 3",
   "language": "python",
   "name": "isaac_sim_python3"
  },
  "language_info": {
   "codemirror_mode": {
    "name": "ipython",
    "version": 3
   },
   "file_extension": ".py",
   "mimetype": "text/x-python",
   "name": "python",
   "nbconvert_exporter": "python",
   "pygments_lexer": "ipython3",
   "version": "3.7.13"
  }
 },
 "nbformat": 4,
 "nbformat_minor": 5
}
