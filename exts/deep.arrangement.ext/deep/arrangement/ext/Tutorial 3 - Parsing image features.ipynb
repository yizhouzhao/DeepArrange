{
 "cells": [
  {
   "cell_type": "code",
   "execution_count": null,
   "id": "37a181d1",
   "metadata": {},
   "outputs": [],
   "source": [
    "import os\n",
    "import torch\n",
    "import torchvision"
   ]
  },
  {
   "cell_type": "code",
   "execution_count": null,
   "id": "2b55a170",
   "metadata": {},
   "outputs": [],
   "source": [
    "from learning.parsing_item_features import EXTENSION_FOLDER_PATH, ObjectFeatureParser"
   ]
  },
  {
   "cell_type": "code",
   "execution_count": null,
   "id": "afcef92c",
   "metadata": {},
   "outputs": [],
   "source": [
    "OBJECT_TYPES = os.listdir(EXTENSION_FOLDER_PATH + \"/Asset/I\")"
   ]
  },
  {
   "cell_type": "code",
   "execution_count": null,
   "id": "e915d0eb",
   "metadata": {},
   "outputs": [],
   "source": [
    "OBJECT_TYPES"
   ]
  },
  {
   "cell_type": "code",
   "execution_count": null,
   "id": "7997ea87",
   "metadata": {},
   "outputs": [],
   "source": [
    "for obj_type in OBJECT_TYPES:\n",
    "    parser = ObjectFeatureParser(object_type=obj_type)\n",
    "    parser.parse_all_features()"
   ]
  },
  {
   "cell_type": "code",
   "execution_count": null,
   "id": "940defef",
   "metadata": {},
   "outputs": [],
   "source": []
  }
 ],
 "metadata": {
  "kernelspec": {
   "display_name": "Isaac Sim Python 3",
   "language": "python",
   "name": "isaac_sim_python3"
  },
  "language_info": {
   "codemirror_mode": {
    "name": "ipython",
    "version": 3
   },
   "file_extension": ".py",
   "mimetype": "text/x-python",
   "name": "python",
   "nbconvert_exporter": "python",
   "pygments_lexer": "ipython3",
   "version": "3.7.13"
  }
 },
 "nbformat": 4,
 "nbformat_minor": 5
}
