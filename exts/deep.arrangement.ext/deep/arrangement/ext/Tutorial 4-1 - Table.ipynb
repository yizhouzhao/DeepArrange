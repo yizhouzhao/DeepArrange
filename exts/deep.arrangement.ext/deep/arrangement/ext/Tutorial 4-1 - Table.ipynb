{
 "cells": [
  {
   "cell_type": "markdown",
   "id": "a4e7074e",
   "metadata": {},
   "source": [
    "# Start Simulation"
   ]
  },
  {
   "cell_type": "code",
   "execution_count": 1,
   "id": "b033b39a",
   "metadata": {},
   "outputs": [],
   "source": [
    "# env.clean(clean_all=True)"
   ]
  },
  {
   "cell_type": "code",
   "execution_count": 2,
   "id": "3fe18b05",
   "metadata": {},
   "outputs": [],
   "source": [
    "import random\n",
    "import numpy as np\n",
    "import os\n",
    "import time\n",
    "from PIL import Image\n",
    "\n",
    "import torch\n",
    "torch.__version__\n",
    "device = torch.device(\"cuda\")"
   ]
  },
  {
   "cell_type": "code",
   "execution_count": 3,
   "id": "0137c535",
   "metadata": {},
   "outputs": [
    {
     "name": "stdout",
     "output_type": "stream",
     "text": [
      "yizhou\n"
     ]
    }
   ],
   "source": [
    "import getpass\n",
    "user = getpass.getuser()\n",
    "print(user)"
   ]
  },
  {
   "cell_type": "code",
   "execution_count": 4,
   "id": "b9d56ea3",
   "metadata": {},
   "outputs": [],
   "source": [
    "usd_path = f\"omniverse://localhost/Users/{user}/uva_table.usd\""
   ]
  },
  {
   "cell_type": "code",
   "execution_count": null,
   "id": "d7e8d7fe",
   "metadata": {
    "scrolled": true
   },
   "outputs": [
    {
     "name": "stdout",
     "output_type": "stream",
     "text": [
      "Starting kit application with the fillowing args:  ['/home/yizhou/.local/share/ov/pkg/isaac_sim-2022.1.1/exts/omni.isaac.kit/omni/isaac/kit/simulation_app.py', '/home/yizhou/.local/share/ov/pkg/isaac_sim-2022.1.1/apps/omni.isaac.sim.python.kit', '--/app/tokens/exe-path=/home/yizhou/.local/share/ov/pkg/isaac_sim-2022.1.1/kit', '--/persistent/app/viewport/displayOptions=3094', '--/rtx/materialDb/syncLoads=True', '--/rtx/hydra/materialSyncLoads=True--/omni.kit.plugin/syncUsdLoads=True', '--/app/renderer/resolution/width=1280', '--/app/renderer/resolution/height=720', '--/app/window/width=1440', '--/app/window/height=900', '--/renderer/multiGpu/enabled=True', '--ext-folder', '/home/yizhou/.local/share/ov/pkg/isaac_sim-2022.1.1/exts', '--ext-folder', '/home/yizhou/.local/share/ov/pkg/isaac_sim-2022.1.1/apps', '--/physics/cudaDevice=0', '--portable', '--no-window']\n",
      "Passing the following args to the base kit application:  ['-f', '/home/yizhou/.local/share/jupyter/runtime/kernel-8b00a494-404b-4c39-b594-5b6f162fdea1.json']\n",
      "[Warning] [omni.kit.app.plugin] No crash reporter present, dumps uploading isn't available.\n",
      "[Info] [carb] Logging to file: /home/yizhou/.local/share/ov/pkg/isaac_sim-2022.1.1/kit/logs/Kit/Isaac-Sim/2022.1/kit_20230101_211415.log\n",
      "2023-01-02 05:14:15 [4ms] [Warning] [omni.ext.plugin] [ext: omni.drivesim.sensors.nv.lidar] Extensions config 'extension.toml' doesn't exist '/home/yizhou/.local/share/ov/pkg/isaac_sim-2022.1.1/exts/omni.drivesim.sensors.nv.lidar' or '/home/yizhou/.local/share/ov/pkg/isaac_sim-2022.1.1/exts/omni.drivesim.sensors.nv.lidar/config'\n",
      "[0.088s] [ext: omni.stats-0.0.0] startup\n",
      "[0.135s] [ext: omni.gpu_foundation-0.0.0] startup\n",
      "2023-01-02 05:14:15 [134ms] [Warning] [carb] FrameworkImpl::setDefaultPlugin(client: omni.gpu_foundation_factory.plugin, desc : [carb::graphics::Graphics v2.5], plugin : carb.graphics-vulkan.plugin) failed. Plugin selection is locked, because the interface was previously acquired by: \n",
      "[0.143s] [ext: carb.windowing.plugins-1.0.0] startup\n",
      "[0.151s] [ext: omni.assets.plugins-0.0.0] startup\n",
      "[0.152s] [ext: omni.kit.renderer.init-0.0.0] startup\n",
      "\n",
      "|---------------------------------------------------------------------------------------------|\n",
      "| Driver Version: 510.108.3     | Graphics API: Vulkan\n",
      "|=============================================================================================|\n",
      "| GPU | Name                             | Active | LDA | GPU Memory | Vendor-ID | LUID       |\n",
      "|     |                                  |        |     |            | Device-ID | UUID       |\n",
      "|---------------------------------------------------------------------------------------------|\n",
      "| 0   | NVIDIA GeForce RTX 3090          | Yes: 0 |     | 24822   MB | 10de      | 0          |\n",
      "|     |                                  |        |     |            | 2204      | 3f50dd6e.. |\n",
      "|=============================================================================================|\n",
      "| OS: Linux yizhou-Z370-AORUS-Gaming-5, Version: 5.15.0-56-generic\n",
      "| Processor: Intel(R) Core(TM) i7-8700K CPU @ 3.70GHz | Cores: Unknown | Logical: 12\n",
      "|---------------------------------------------------------------------------------------------|\n",
      "| Total Memory (MB): 32044 | Free Memory: 26214\n",
      "| Total Page/Swap (MB): 2047 | Free Page/Swap: 2047\n",
      "|---------------------------------------------------------------------------------------------|\n",
      "2023-01-02 05:14:16 [883ms] [Warning] [carb.cudainterop.plugin] On Linux only, CUDA and the display driver does not support IOMMU-enabled bare-metal PCIe peer to peer memory copy.\n",
      "However, CUDA and the display driver does support IOMMU via VM pass through. As a consequence, users on Linux,\n",
      "when running on a native bare metal system, should disable the IOMMU. The IOMMU should be enabled and the VFIO driver\n",
      "be used as a PCIe pass through for virtual machines.\n",
      "[0.903s] [ext: omni.kit.pipapi-0.0.0] startup\n",
      "[0.913s] [ext: omni.kit.pip_archive-0.0.0] startup\n",
      "[0.917s] [ext: omni.isaac.core_archive-1.2.0] startup\n",
      "[0.937s] [ext: omni.usd.config-1.0.0] startup\n",
      "[0.939s] [ext: omni.usd.libs-1.0.0] startup\n",
      "[1.082s] [ext: omni.kit.pip_torch-1_11_0-0.1.3] startup\n",
      "[1.108s] [ext: omni.isaac.ml_archive-1.1.0] startup\n",
      "[1.177s] [ext: omni.kit.loop-isaac-0.1.0] startup\n",
      "[1.178s] [ext: omni.kit.async_engine-0.0.0] startup\n",
      "[1.180s] [ext: omni.appwindow-1.0.0] startup\n",
      "[1.182s] [ext: omni.client-0.1.0] startup\n",
      "[1.192s] [ext: omni.kit.test-0.0.0] startup\n",
      "[1.193s] [ext: omni.kit.renderer.core-0.0.0] startup\n",
      "[1.267s] [ext: omni.ui-2.10.3] startup\n",
      "[1.283s] [ext: carb.audio-0.1.0] startup\n",
      "[1.305s] [ext: omni.kit.mainwindow-0.0.0] startup\n",
      "[1.307s] [ext: omni.uiaudio-1.0.0] startup\n",
      "[1.308s] [ext: omni.kit.uiapp-0.0.0] startup\n",
      "[1.309s] [ext: omni.usd.schema.physics-1.0.0] startup\n",
      "[1.351s] [ext: omni.usd.schema.audio-0.0.0] startup\n",
      "[1.358s] [ext: omni.usd.schema.semantics-0.0.0] startup\n",
      "[1.368s] [ext: omni.usd.schema.omnigraph-1.0.0] startup\n",
      "[1.378s] [ext: omni.usd.schema.anim-0.0.0] startup\n",
      "[1.419s] [ext: omni.kit.commands-1.2.2] startup\n",
      "[1.425s] [ext: omni.timeline-1.0.2] startup\n",
      "[1.427s] [ext: omni.hydra.scene_delegate-0.2.0] startup\n",
      "[1.435s] [ext: omni.kit.audiodeviceenum-1.0.0] startup\n",
      "[1.438s] [ext: omni.usd-1.5.3] startup\n",
      "[1.498s] [ext: omni.kit.asset_converter-1.2.31] startup\n",
      "[1.515s] [ext: omni.usd.schema.physx-0.0.0] startup\n",
      "[1.586s] [ext: omni.usd.schema.isaac-0.2.0] startup\n",
      "[1.628s] [ext: omni.usd.schema.forcefield-0.0.0] startup\n",
      "[1.637s] [ext: omni.kvdb-0.0.0] startup\n",
      "[1.640s] [ext: omni.usdphysics-1.4.15] startup\n",
      "[1.643s] [ext: omni.graph.tools-1.4.0] startup\n",
      "[1.664s] [ext: omni.localcache-0.0.0] startup\n",
      "[1.667s] [ext: omni.kit.stage_templates-1.1.2] startup\n",
      "[1.669s] [ext: omni.convexdecomposition-1.4.15] startup\n",
      "[1.672s] [ext: omni.physics.tensors-0.1.0] startup\n",
      "[1.685s] [ext: omni.physx-1.4.15-5.1] startup\n",
      "[1.731s] [ext: omni.graph.core-2.29.1] startup\n",
      "[1.737s] [ext: omni.kit.menu.utils-1.2.11] startup\n",
      "[1.748s] [ext: omni.physx.tensors-0.1.0] startup\n",
      "[1.755s] [ext: omni.graph-1.23.0] startup\n",
      "[1.804s] [ext: omni.kit.numpy.common-0.1.0] startup\n",
      "[1.809s] [ext: omni.kit.window.script_editor-1.6.2] startup\n",
      "[1.823s] [ext: omni.kit.search_core-1.0.2] startup\n",
      "[1.827s] [ext: omni.isaac.dynamic_control-1.1.0] startup\n",
      "[1.837s] [ext: omni.kit.renderer.capture-0.0.0] startup\n",
      "[1.841s] [ext: omni.kit.widget.filebrowser-2.2.27] startup\n",
      "[1.848s] [ext: omni.kit.widget.path_field-2.0.3] startup\n",
      "[1.850s] [ext: omni.kit.notification_manager-1.0.5] startup\n",
      "[1.855s] [ext: omni.kit.widget.versioning-1.3.8] startup\n",
      "[1.858s] [ext: omni.kit.widget.browser_bar-2.0.3] startup\n",
      "[1.861s] [ext: omni.kit.window.popup_dialog-2.0.8] startup\n",
      "[1.864s] [ext: omni.mdl.neuraylib-0.1.0] startup\n",
      "[1.870s] [ext: omni.kit.window.filepicker-2.4.30] startup\n"
     ]
    },
    {
     "name": "stderr",
     "output_type": "stream",
     "text": [
      "OmniAssetFileFormat\n"
     ]
    },
    {
     "name": "stdout",
     "output_type": "stream",
     "text": [
      "Warp initialized:\n",
      "   Version: 0.2.2\n",
      "   CUDA device: NVIDIA GeForce RTX 3090\n",
      "   Kernel cache: /home/yizhou/.cache/warp/0.2.2\n",
      "[1.925s] [ext: omni.kit.menu.create-1.0.2] startup\n",
      "[1.927s] [ext: omni.mdl-0.1.0] startup\n",
      "[1.947s] [ext: omni.kit.window.file_importer-1.0.4] startup\n",
      "[1.948s] [ext: omni.kit.window.file_exporter-1.0.4] startup\n",
      "[1.949s] [ext: omni.kit.material.library-1.3.10] startup\n",
      "[1.952s] [ext: omni.kit.window.drop_support-1.0.0] startup\n",
      "[1.953s] [ext: omni.kit.window.file-1.3.16] startup\n",
      "[1.955s] [ext: omni.kit.context_menu-1.3.9] startup\n",
      "[1.958s] [ext: omni.kit.window.property-1.6.3] startup\n",
      "[1.960s] [ext: omni.kit.window.content_browser-2.4.28] startup\n",
      "[1.970s] [ext: omni.kit.widget.stage-2.6.15] startup\n",
      "[1.974s] [ext: omni.isaac.version-1.0.0] startup\n",
      "[1.975s] [ext: omni.kit.property.usd-3.14.9] startup\n",
      "[2.011s] [ext: omni.kit.viewport.legacy_gizmos-1.0.0] startup\n",
      "[2.016s] [ext: omni.hydra.rtx-0.1.0] startup\n",
      "[2.026s] [ext: omni.renderer-rtx-0.0.0] startup\n",
      "[2.027s] [ext: omni.hydra.engine.stats-1.0.0] startup\n",
      "[2.033s] [ext: omni.debugdraw-0.1.0] startup\n",
      "[2.039s] [ext: omni.kit.widget.settings-1.0.0] startup\n",
      "[2.040s] [ext: omni.kit.window.viewport-0.0.0] startup\n",
      "[6.340s] [ext: omni.kit.widget.prompt-1.0.1] startup\n",
      "[6.343s] [ext: omni.kit.widget.graph-1.4.3] startup\n",
      "[6.400s] [ext: omni.kit.window.preferences-1.2.1] startup\n",
      "[6.438s] [ext: omni.ui_query-1.1.1] startup\n",
      "[6.442s] [ext: omni.graph.ui-1.6.1] startup\n",
      "[6.471s] [ext: omni.kit.ui_test-1.2.2] startup\n",
      "[6.473s] [ext: omni.graph.action-1.18.0] startup\n",
      "[6.490s] [ext: omni.kit.widget.searchfield-1.0.6] startup\n",
      "[6.492s] [ext: omni.kit.usd_undo-0.1.0] startup\n",
      "[6.495s] [ext: omni.graph.scriptnode-0.5.0] startup\n",
      "[6.498s] [ext: omni.physx.commands-1.4.15-5.1] startup\n",
      "[6.503s] [ext: omni.graph.nodes-1.26.0] startup\n",
      "[6.518s] [ext: omni.command.usd-1.0.1] startup\n",
      "[6.521s] [ext: omni.kit.window.extensions-1.1.0] startup\n",
      "[6.526s] [ext: omni.syntheticdata-0.2.1] startup\n",
      "[6.547s] [ext: omni.kit.primitive.mesh-1.0.0] startup\n",
      "[6.551s] [ext: omni.warp-0.2.2] startup\n",
      "[6.675s] [ext: omni.isaac.ui-0.2.1] startup\n",
      "[6.677s] [ext: omni.replicator.core-1.4.3] startup\n",
      "[6.875s] [ext: omni.isaac.core-1.24.3] startup\n",
      "[6.959s] [ext: omni.physx.ui-1.4.15-5.1] startup\n",
      "[7.037s] [ext: omni.kit.property.material-1.8.5] startup\n",
      "[7.040s] [ext: omni.kit.window.toolbar-1.2.4] startup\n",
      "[7.045s] [ext: omni.isaac.core_nodes-0.13.0] startup\n",
      "[7.057s] [ext: omni.physx.demos-1.4.15-5.1] startup\n",
      "[7.059s] [ext: omni.kit.property.physx-0.1.0] startup\n",
      "2023-01-02 05:14:22 [7,115ms] [Warning] [omni.physx.plugin] Deprecated: getSimulationEventStream is deprecated, please use getSimulationEventStreamV2\n",
      "[7.125s] [ext: omni.physx.tests-1.4.15-5.1] startup\n",
      "[7.378s] [ext: omni.isaac.wheeled_robots-0.5.8] startup\n",
      "[7.389s] [ext: omni.kit.menu.common-1.0.0] startup\n",
      "[7.391s] [ext: omni.physx.vehicle-1.4.15-5.1] startup\n",
      "[7.402s] [ext: omni.physx.cct-1.4.15-5.1] startup\n",
      "[7.481s] [ext: omni.physx.camera-1.4.15-5.1] startup\n",
      "[7.489s] [ext: omni.kit.widget.stage_icons-1.0.2] startup\n",
      "[7.490s] [ext: omni.ui.scene-1.5.0] startup\n",
      "[7.496s] [ext: omni.physx.bundle-1.4.15-5.1] startup\n",
      "[7.496s] [ext: omni.kit.window.stage-2.3.7] startup\n",
      "[7.499s] [ext: omni.replicator.composer-1.1.3] startup\n",
      "[7.515s] [ext: omni.isaac.lula-1.1.0] startup\n",
      "[7.525s] [ext: omni.rtx.window.settings-0.6.1] startup\n",
      "[7.530s] [ext: omni.isaac.surface_gripper-0.1.2] startup\n",
      "[7.534s] [ext: omni.isaac.motion_planning-0.2.0] startup\n",
      "[7.542s] [ext: omni.rtx.settings.core-0.5.5] startup\n",
      "[7.547s] [ext: omni.isaac.manipulators-1.0.1] startup\n",
      "[7.548s] [ext: omni.isaac.motion_generation-3.6.1] startup\n",
      "[7.553s] [ext: omni.kit.widget.zoombar-1.0.3] startup\n",
      "[7.554s] [ext: omni.kit.graph.delegate.default-1.0.15] startup\n",
      "[7.556s] [ext: omni.isaac.franka-0.3.0] startup\n",
      "[7.557s] [ext: omni.kit.browser.core-2.0.12] startup\n",
      "[7.562s] [ext: omni.kit.graph.editor.core-1.3.3] startup\n",
      "[7.564s] [ext: omni.kit.graph.usd.commands-1.1.0] startup\n",
      "[7.565s] [ext: omni.kit.browser.folder.core-1.1.13] startup\n",
      "[7.568s] [ext: omni.kit.graph.widget.variables-2.0.2] startup\n",
      "[7.569s] [ext: omni.kit.graph.delegate.modern-1.6.0] startup\n",
      "[7.571s] [ext: omni.kit.selection-0.1.0] startup\n",
      "[7.572s] [ext: omni.isaac.debug_draw-0.Opening usd file at  omniverse://localhost/Users/yizhou/uva_table.usd  ...Done.\n",
      "Saving a temp livesync stage at  omniverse://localhost/Users/yizhou/uva_table.usd  ...Done.\n",
      "1.2] startup\n",
      "[7.578s] [ext: omni.graph.window.core-1.23.4] startup\n",
      "[7.586s] [ext: omni.graph.instancing-1.1.4] startup\n",
      "[7.592s] [ext: omni.kit.menu.edit-1.0.6] startup\n",
      "[7.593s] [ext: omni.isaac.isaac_sensor-1.0.2] startup\n",
      "2023-01-02 05:14:23 [7,595ms] [Warning] [omni.physx.plugin] Deprecated: getSimulationEventStream is deprecated, please use getSimulationEventStreamV2\n",
      "[7.606s] [ext: omni.graph.tutorials-1.1.2] startup\n",
      "[7.620s] [ext: omni.graph.window.action-1.3.8] startup\n",
      "[7.622s] [ext: omni.kit.widget.live-0.1.0] startup\n",
      "[7.627s] [ext: omni.kit.widget.layers-1.5.17] startup\n",
      "[7.639s] [ext: omni.graph.bundle.action-1.0.0] startup\n",
      "[7.640s] [ext: omni.isaac.range_sensor-0.4.3] startup\n",
      "[7.667s] [ext: omni.kit.property.layer-1.1.2] startup\n",
      "[7.668s] [ext: omni.replicator.isaac-1.3.2] startup\n",
      "[7.752s] [ext: omni.isaac.kit-0.2.1] startup\n",
      "[7.753s] [ext: omni.graph.window.generic-1.3.8] startup\n",
      "[7.754s] [ext: omni.isaac.utils-0.1.11] startup\n",
      "[7.757s] [ext: omni.kit.property.audio-1.0.5] startup\n",
      "[7.759s] [ext: omni.kit.property.skel-1.0.1] startup\n",
      "[7.760s] [ext: omni.kit.property.render-1.1.0] startup\n",
      "[7.761s] [ext: omni.kit.property.camera-1.0.3] startup\n",
      "[7.762s] [ext: omni.kit.property.geometry-1.2.0] startup\n",
      "[7.764s] [ext: omni.kit.property.light-1.0.5] startup\n",
      "[7.765s] [ext: omni.kit.property.transform-1.0.2] startup\n",
      "[7.768s] [ext: omni.isaac.universal_robots-0.3.0] startup\n",
      "[7.769s] [ext: omni.isaac.occupancy_map-0.2.4] startup\n",
      "[7.785s] [ext: omni.kit.window.console-0.2.0] startup\n",
      "[7.791s] [ext: omni.kit.window.status_bar-0.1.1] startup\n",
      "[7.797s] [ext: omni.kit.property.bundle-1.2.4] startup\n",
      "[7.798s] [ext: omni.kit.menu.file-1.0.8] startup\n",
      "[7.799s] [ext: omni.kit.manipulator.viewport-1.0.6] startup\n",
      "[7.801s] [ext: omni.isaac.urdf-0.4.0] startup\n",
      "[7.831s] [ext: omni.isaac.dofbot-0.3.0] startup\n",
      "[7.831s] [ext: omni.kit.window.title-1.1.2] startup\n",
      "[7.832s] [ext: omni.kit.profiler.window-1.4.4] startup\n",
      "[7.835s] [ext: omni.graph.visualization.nodes-1.1.1] startup\n",
      "[7.839s] [ext: omni.isaac.synthetic_utils-0.3.5] startup\n",
      "[7.841s] [ext: semantics.schema.editor-0.2.3] startup\n",
      "[7.846s] [ext: omni.isaac.sim.python-2022.1.1] startup\n",
      "[7.846s] Simulation App Starting\n",
      "2023-01-02 05:14:24 [9,200ms] [Warning] [omni.usd] Default value for render setting \"/rtx/shaderDb/cachePermutationIndex\" not found\n",
      "2023-01-02 05:14:24 [9,201ms] [Warning] [omni.usd] Default value for render setting \"/rtx/resourcemanager/uploadPooledBuffers/framesToEvict\" not found\n",
      "2023-01-02 05:14:24 [9,201ms] [Warning] [omni.usd] Default value for render setting \"/rtx/resourcemanager/uploadPooledBuffers/uploadSize\" not found\n",
      "2023-01-02 05:14:24 [9,201ms] [Warning] [omni.usd] Default value for render setting \"/rtx/pathtracing/nrc/canRun\" not found\n",
      "[13.700s] app ready\n",
      "2023-01-02 05:14:29 [13,706ms] [Warning] [gpu.foundation.plugin] Requesting texture to use texture streaming, but the service isn't available.The texture will be created as a regular resource.\n"
     ]
    },
    {
     "name": "stderr",
     "output_type": "stream",
     "text": [
      "2023-01-02 05:14:33 [18,069ms] [Error] [carb.graphics-vulkan.plugin] VkResult: ERROR_DEVICE_LOST\n",
      "2023-01-02 05:14:33 [18,069ms] [Error] [carb.graphics-vulkan.plugin] vkWaitForFences failed for command queue.\n",
      "2023-01-02 05:14:33 [18,069ms] [Error] [omni.kit.renderer.plugin] A GPU crash occurred. Exiting the application...\n",
      "Reasons for the failure: a device lost, out of memory, or an unexpected bug.\n"
     ]
    },
    {
     "name": "stdout",
     "output_type": "stream",
     "text": [
      "[21.076s] [ext: omni.isaac.sim.python-2022.1.1] shutdown\n",
      "[21.076s] [ext: omni.graph.visualization.nodes-1.1.1] shutdown\n",
      "[21.135s] [ext: omni.replicator.isaac-1.3.2] shutdown\n",
      "[21.135s] [ext: omni.graph.bundle.action-1.0.0] shutdown\n",
      "[21.135s] [ext: omni.graph.window.action-1.3.8] shutdown\n",
      "[21.158s] [ext: omni.graph.window.generic-1.3.8] shutdown\n",
      "[21.180s] [ext: omni.graph.window.core-1.23.4] shutdown\n",
      "[21.204s] [ext: omni.isaac.wheeled_robots-0.5.8] shutdown\n",
      "[21.205s] [ext: omni.isaac.utils-0.1.11] shutdown\n",
      "[21.281s] [ext: omni.isaac.universal_robots-0.3.0] shutdown\n",
      "[21.281s] [ext: omni.isaac.franka-0.3.0] shutdown\n",
      "[21.281s] [ext: omni.isaac.dofbot-0.3.0] shutdown\n",
      "[21.281s] [ext: omni.isaac.motion_generation-3.6.1] shutdown\n",
      "[21.281s] [ext: omni.isaac.motion_planning-0.2.0] shutdown\n",
      "[21.284s] [ext: omni.isaac.isaac_sensor-1.0.2] shutdown\n",
      "[21.362s] [ext: omni.isaac.manipulators-1.0.1] shutdown\n",
      "[21.362s] [ext: omni.isaac.occupancy_map-0.2.4] shutdown\n",
      "[21.512s] [ext: omni.isaac.core_nodes-0.13.0] shutdown\n",
      "[21.514s] [ext: omni.isaac.range_sensor-0.4.3] shutdown\n",
      "[21.516s] [ext: omni.isaac.surface_gripper-0.1.2] shutdown\n",
      "[21.590s] [ext: omni.isaac.synthetic_utils-0.3.5] shutdown\n",
      "[21.591s] [ext: omni.isaac.core-1.24.3] shutdown\n",
      "[21.591s] [ext: omni.isaac.ml_archive-1.1.0] shutdown\n",
      "[21.591s] [ext: omni.isaac.core_archive-1.2.0] shutdown\n",
      "[21.591s] [ext: omni.isaac.debug_draw-0.1.2] shutdown\n",
      "[21.592s] [ext: omni.isaac.dynamic_control-1.1.0] shutdown\n",
      "[21.666s] [ext: omni.isaac.kit-0.2.1] shutdown\n",
      "[21.666s] [ext: omni.isaac.lula-1.1.0] shutdown\n",
      "[21.687s] [ext: omni.isaac.urdf-0.4.0] shutdown\n",
      "[21.764s] [ext: omni.isaac.ui-0.2.1] shutdown\n",
      "[21.764s] [ext: omni.isaac.version-1.0.0] shutdown\n",
      "[21.764s] [ext: omni.kit.asset_converter-1.2.31] shutdown\n",
      "[21.785s] [ext: omni.graph.instancing-1.1.4] shutdown\n",
      "[21.786s] [ext: omni.kit.browser.folder.core-1.1.13] shutdown\n",
      "[21.807s] [ext: omni.kit.browser.core-2.0.12] shutdown\n",
      "[21.827s] [ext: omni.kit.graph.widget.variables-2.0.2] shutdown\n",
      "[21.848s] [ext: omni.kit.graph.editor.core-1.3.3] shutdown\n",
      "[21.868s] [ext: omni.kit.graph.delegate.default-1.0.15] shutdown\n",
      "[21.889s] [ext: omni.kit.graph.delegate.modern-1.6.0] shutdown\n",
      "[21.911s] [ext: omni.kit.graph.usd.commands-1.1.0] shutdown\n",
      "[21.933s] [ext: semantics.schema.editor-0.2.3] shutdown\n",
      "[22.033s] [ext: omni.replicator.composer-1.1.3] shutdown\n",
      "[22.075s] [ext: omni.replicator.core-1.4.3] shutdown\n",
      "[22.118s] [ext: omni.syntheticdata-0.2.1] shutdown\n",
      "[22.119s] [ext: omni.graph.tutorials-1.1.2] shutdown\n",
      "[22.120s] [ext: omni.graph.nodes-1.26.0] shutdown\n",
      "[22.120s] [ext: omni.graph.scriptnode-0.5.0] shutdown\n",
      "[22.121s] [ext: omni.graph.action-1.18.0] shutdown\n",
      "[22.121s] [ext: omni.graph.ui-1.6.1] shutdown\n",
      "2023-01-02 05:14:37 [22,211ms] [Warning] [omni.kit.menu.utils.scripts.utils] omni.kit.menu.utils remove_menu_items \"Create\" failed list.remove(x): x not in list\n",
      "[22.245s] [ext: omni.warp-0.2.2] shutdown\n",
      "[22.266s] [ext: omni.graph-1.23.0] shutdown\n",
      "2023-01-02 05:14:38 [22,275ms] [Warning] [omni.ext.impl._internal] omni.graph-1.23.0 -> <class 'omni.graph.core._impl.extension.PublicExtension'>: extension object is still alive, something holds a reference on it. References: [\"[0]:type: <class 'frame'>, id: 195682384\", \"[1]:type: <class 'frame'>, id: 139729188235328\", \"[2]:type: <class 'frame'>, id: 196506848\", \"[3]:type: <class 'frame'>, id: 139729182350672\", \"[4]:type: <class 'frame'>, id: 139729182670032\", '[*] ...']\n",
      "[22.282s] [ext: omni.physx.bundle-1.4.15-5.1] shutdown\n",
      "[22.282s] [ext: omni.physx.cct-1.4.15-5.1] shutdown\n",
      "[22.303s] [ext: omni.physx.tests-1.4.15-5.1] shutdown\n",
      "[22.323s] [ext: omni.physx.vehicle-1.4.15-5.1] shutdown\n",
      "[22.344s] [ext: omni.physx.camera-1.4.15-5.1] shutdown\n",
      "[22.365s] [ext: omni.physx.demos-1.4.15-5.1] shutdown\n",
      "[22.385s] [ext: omni.kit.property.physx-0.1.0] shutdown\n",
      "[22.407s] [ext: omni.physx.ui-1.4.15-5.1] shutdown\n",
      "[22.430s] [ext: omni.physx.commands-1.4.15-5.1] shutdown\n",
      "[22.450s] [ext: omni.kit.property.bundle-1.2.4] shutdown\n",
      "[22.450s] [ext: omni.kit.property.transform-1.0.2] shutdown\n",
      "[22.451s] [ext: omni.kit.property.skel-1.0.1] shutdown\n",
      "[22.451s] [ext: omni.kit.usd_undo-0.1.0] shutdown\n",
      "[22.451s] [ext: omni.kit.window.extensions-1.1.0] shutdown\n",
      "[22.451s] [ext: omni.rtx.settings.core-0.5.5] shutdown\n",
      "[22.453s] [ext: omni.rtx.window.settings-0.6.1] shutdown\n",
      "[22.454s] [ext: omni.kit.window.preferences-1.2.1] shutdown\n",
      "2023-01-02 05:14:38 [22,468ms] [Warning] [omni.ext.impl._internal] omni.kit.window.preferences-1.2.1 -> <class 'omni.kit.window.preferences.scripts.preferences_window.PreferencesExtension'>: extension object is still alive, something holds a reference on it. References: [\"[0]:type: <class 'frame'>, id: 139729534696352\", \"[1]:type: <class 'frame'>, id: 139729205917920\", \"[2]:type: <class 'frame'>, id: 208856000\"]\n",
      "[22.474s] [ext: omni.kit.window.stage-2.3.7] shutdown\n",
      "[22.475s] [ext: omni.kit.property.audio-1.0.5] shutdown\n",
      "[22.475s] [ext: omni.kit.property.layer-1.1.2] shutdown\n",
      "[22.475s] [ext: omni.kit.widget.layers-1.5.17] shutdown\n",
      "[22.476s] [ext: omni.kit.property.material-1.8.5] shutdown\n",
      "[22.477s] [ext: omni.kit.property.camera-1.0.3] shutdown\n",
      "[22.477s] [ext: omni.kit.property.geometry-1.2.0] shutdown\n",
      "[22.477s] [ext: omni.kit.property.light-1.0.5] shutdown\n",
      "[22.477s] [ext: omni.kit.property.render-1.1.0] shutdown\n",
      "[22.477s] [ext: omni.kit.property.usd-3.14.9] shutdown\n",
      "2023-01-02 05:14:38 [22,489ms] [Warning] [omni.ext.impl._internal] omni.kit.property.usd-3.14.9 -> <class 'omni.kit.property.usd.widgets.UsdPropertyWidgets'>: extension object is still alive, something holds a reference on it. References: [\"[0]:type: <class 'frame'>, id: 201696288\", \"[1]:type: <class 'frame'>, id: 155059872\", \"[2]:type: <class 'cell'>, id: 139783972318544\"]\n",
      "[22.495s] [ext: omni.kit.widget.stage-2.6.15] shutdown\n",
      "[22.496s] [ext: omni.kit.window.content_browser-2.4.28] shutdown\n",
      "[22.497s] [ext: omni.kit.menu.file-1.0.8] shutdown\n",
      "2023-01-02 05:14:38 [22,506ms] [Warning] [omni.ext.impl._internal] omni.kit.menu.file-1.0.8 -> <class 'omni.kit.menu.file.scripts.file.FileMenuExtension'>: extension object is still alive, something holds a reference on it. References: [\"[0]:type: <class 'cell'>, id: 139727744806480\"]\n",
      "[22.512s] [ext: omni.kit.window.file-1.3.16] shutdown\n",
      "[22.512s] [ext: omni.kit.window.file_exporter-1.0.4] shutdown\n",
      "[22.512s] [ext: omni.kit.window.file_importer-1.0.4] shutdown\n",
      "[22.512s] [ext: omni.kit.window.filepicker-2.4.30] shutdown\n",
      "[22.512s] [ext: omni.kit.widget.filebrowser-2.2.27] shutdown\n",
      "[22.512s] [ext: omni.kit.search_core-1.0.2] shutdown\n",
      "[22.512s] [ext: omni.kit.primitive.mesh-1.0.0] shutdown\n",
      "[22.513s] [ext: omni.kit.widget.searchfield-1.0.6] shutdown\n",
      "[22.532s] [ext: omni.kit.ui_test-1.2.2] shutdown\n",
      "[22.532s] [ext: omni.ui_query-1.1.1] shutdown\n",
      "[22.532s] [ext: omni.kit.manipulator.viewport-1.0.6] shutdown\n",
      "[22.552s] [ext: omni.ui.scene-1.5.0] shutdown\n",
      "[22.552s] [ext: omni.kit.window.console-0.2.0] shutdown\n",
      "[22.553s] [ext: omni.kit.menu.edit-1.0.6] shutdown\n",
      "[22.553s] [ext: omni.kit.selection-0.1.0] shutdown\n",
      "[22.553s] [ext: omni.kit.window.viewport-0.0.0] shutdown\n"
     ]
    },
    {
     "name": "stderr",
     "output_type": "stream",
     "text": [
      "2023-01-02 05:14:38 [22,547ms] [Error] [carb.graphics-vulkan.plugin] VkResult: ERROR_DEVICE_LOST\n",
      "2023-01-02 05:14:38 [22,547ms] [Error] [carb.graphics-vulkan.plugin] submitToQueueCommon failed.\n",
      "2023-01-02 05:14:38 [22,548ms] [Error] [carb.graphics-vulkan.plugin] VkResult: ERROR_DEVICE_LOST\n",
      "2023-01-02 05:14:38 [22,548ms] [Error] [carb.graphics-vulkan.plugin] submitToQueueCommon failed.\n",
      "2023-01-02 05:14:38 [22,683ms] [Error] [carb.graphics-vulkan.plugin] VkResult: ERROR_DEVICE_LOST\n",
      "2023-01-02 05:14:38 [22,683ms] [Error] [carb.graphics-vulkan.plugin] vkWaitForFences failed for command queue.\n",
      "2023-01-02 05:14:38 [22,683ms] [Error] [carb.graphics-vulkan.plugin] VkResult: ERROR_DEVICE_LOST\n",
      "2023-01-02 05:14:38 [22,683ms] [Error] [carb.graphics-vulkan.plugin] vkWaitForFences failed for command queue.\n"
     ]
    },
    {
     "name": "stdout",
     "output_type": "stream",
     "text": [
      "[25.286s] [ext: omni.kit.window.toolbar-1.2.4] shutdown\n",
      "[25.287s] [ext: omni.kit.context_menu-1.3.9] shutdown\n",
      "[25.287s] [ext: omni.kit.window.script_editor-1.6.2] shutdown\n",
      "[25.287s] [ext: omni.kit.window.property-1.6.3] shutdown\n",
      "[25.287s] [ext: omni.kit.material.library-1.3.10] shutdown\n",
      "2023-01-02 05:14:41 [25,281ms] [Warning] [omni.kit.menu.utils.scripts.utils] omni.kit.menu.utils remove_menu_items \"Create\" failed list.remove(x): x not in list\n",
      "2023-01-02 05:14:41 [25,297ms] [Warning] [omni.ext.impl._internal] omni.kit.material.library-1.3.10 -> <class 'omni.kit.material.library.material_library.MaterialLibraryExtension'>: extension object is still alive, something holds a reference on it. References: [\"[0]:type: <class 'cell'>, id: 139783982634448\"]\n",
      "[25.303s] [ext: omni.kit.menu.common-1.0.0] shutdown\n",
      "[25.303s] [ext: omni.kit.menu.create-1.0.2] shutdown\n",
      "[25.303s] [ext: omni.kit.menu.utils-1.2.11] shutdown\n",
      "2023-01-02 05:14:41 [25,312ms] [Warning] [omni.ext.impl._internal] omni.kit.menu.utils-1.2.11 -> <class 'omni.kit.menu.utils.scripts.utils.MenuUtilsExtension'>: extension object is still alive, something holds a reference on it. References: [\"[0]:type: <class 'frame'>, id: 139784140917792\"]\n",
      "[25.318s] [ext: omni.kit.widget.graph-1.4.3] shutdown\n",
      "[25.319s] [ext: omni.kit.widget.zoombar-1.0.3] shutdown\n",
      "[25.338s] [ext: omni.kit.window.status_bar-0.1.1] shutdown\n",
      "[25.339s] [ext: omni.kit.profiler.window-1.4.4] shutdown\n",
      "[25.359s] [ext: omni.kit.uiapp-0.0.0] shutdown\n",
      "[25.359s] [ext: omni.kit.mainwindow-0.0.0] shutdown\n",
      "[25.359s] [ext: omni.kit.notification_manager-1.0.5] shutdown\n",
      "[25.359s] [ext: omni.kit.widget.browser_bar-2.0.3] shutdown\n",
      "[25.359s] [ext: omni.kit.widget.versioning-1.3.8] shutdown\n",
      "[25.359s] [ext: omni.kit.widget.live-0.1.0] shutdown\n",
      "[25.360s] [ext: omni.kit.window.drop_support-1.0.0] shutdown\n",
      "[25.360s] [ext: omni.kit.widget.path_field-2.0.3] shutdown\n",
      "[25.360s] [ext: omni.kit.widget.prompt-1.0.1] shutdown\n",
      "[25.360s] [ext: omni.kit.widget.settings-1.0.0] shutdown\n",
      "[25.360s] [ext: omni.kit.window.popup_dialog-2.0.8] shutdown\n",
      "[25.360s] [ext: omni.ui-2.10.3] shutdown\n",
      "[25.360s] [ext: omni.command.usd-1.0.1] shutdown\n",
      "[25.360s] [ext: omni.kit.test-0.0.0] shutdown\n",
      "[25.360s] [ext: omni.kit.window.title-1.1.2] shutdown\n",
      "2023-01-02 05:14:41 [25,369ms] [Warning] [omni.ext.impl._internal] omni.kit.window.title-1.1.2 -> <class 'omni.kit.window.title.title.WindowTitle'>: extension object is still alive, something holds a reference on it. References: []\n",
      "[25.375s] [ext: omni.kit.renderer.capture-0.0.0] shutdown\n",
      "[25.375s] [ext: omni.kit.renderer.core-0.0.0] shutdown\n"
     ]
    },
    {
     "name": "stderr",
     "output_type": "stream",
     "text": [
      "2023-01-02 05:14:41 [25,369ms] [Error] [carb.graphics-vulkan.plugin] VkResult: ERROR_DEVICE_LOST\n",
      "2023-01-02 05:14:41 [25,369ms] [Error] [carb.graphics-vulkan.plugin] submitToQueueCommon failed.\n",
      "2023-01-02 05:14:41 [25,369ms] [Error] [omni.kit.renderer.plugin] A GPU crash occurred. Exiting the application...\n",
      "Reasons for the failure: a device lost, out of memory, or an unexpected bug.\n"
     ]
    },
    {
     "name": "stdout",
     "output_type": "stream",
     "text": [
      "[28.376s] [ext: omni.kit.renderer.core-0.0.0] shutdown\n",
      "[28.376s] [ext: omni.appwindow-1.0.0] shutdown\n",
      "[28.377s] [ext: omni.kit.loop-isaac-0.1.0] shutdown\n",
      "[28.379s] [ext: omni.kit.pip_torch-1_11_0-0.1.3] shutdown\n",
      "[28.434s] [ext: omni.usd.schema.isaac-0.2.0] shutdown\n",
      "[28.434s] [ext: omni.physx.tensors-0.1.0] shutdown\n",
      "[28.435s] [ext: omni.physx-1.4.15-5.1] shutdown\n",
      "[28.454s] [ext: omni.convexdecomposition-1.4.15] shutdown\n",
      "[28.480s] [ext: omni.localcache-0.0.0] shutdown\n",
      "[28.498s] [ext: omni.kvdb-0.0.0] shutdown\n",
      "[28.515s] [ext: omni.physics.tensors-0.1.0] shutdown\n",
      "[28.533s] [ext: omni.usd.schema.forcefield-0.0.0] shutdown\n",
      "[28.550s] [ext: omni.usdphysics-1.4.15] shutdown\n",
      "[28.550s] [ext: omni.kit.stage_templates-1.1.2] shutdown\n",
      "[28.550s] [ext: omni.debugdraw-0.1.0] shutdown\n",
      "[28.550s] [ext: omni.kit.viewport.legacy_gizmos-1.0.0] shutdown\n",
      "[28.551s] [ext: omni.graph.core-2.29.1] shutdown\n",
      "[28.551s] [ext: omni.hydra.engine.stats-1.0.0] shutdown\n",
      "[28.551s] [ext: omni.usd-1.5.3] shutdown\n",
      "2023-01-02 05:14:44 [28,545ms] [Warning] [carb.assets.plugin] Evicting asset type c1237a43d569db21 v0.1 orphaned snapshot handle 0x100000000 (/tmp/carb.mXltUo/angle_left.32x32.png)\n",
      "2023-01-02 05:14:44 [28,545ms] [Warning] [carb.assets.plugin] Evicting asset type c1237a43d569db21 v0.1 orphaned snapshot handle 0x100000001 (/tmp/carb.mXltUo/plus.24x32.png)\n",
      "2023-01-02 05:14:44 [28,545ms] [Warning] [carb.assets.plugin] Evicting asset type c1237a43d569db21 v0.1 orphaned snapshot handle 0x100000002 (/tmp/carb.mXltUo/bookmark_grey.36x36.png)\n",
      "2023-01-02 05:14:44 [28,545ms] [Warning] [carb.assets.plugin] Evicting asset type c1237a43d569db21 v0.1 orphaned snapshot handle 0x100000003 (/tmp/carb.mXltUo/angle_right.32x32.png)\n",
      "2023-01-02 05:14:44 [28,545ms] [Warning] [carb.assets.plugin] Evicting asset type c1237a43d569db21 v0.1 orphaned snapshot handle 0x100000004 (/tmp/carb.mXltUo/search.32x32.png)\n",
      "2023-01-02 05:14:44 [28,545ms] [Warning] [carb.assets.plugin] Evicting asset type c1237a43d569db21 v0.1 orphaned snapshot handle 0x100000005 (/tmp/carb.mXltUo/settings.28x40.png)\n",
      "2023-01-02 05:14:44 [28,545ms] [Warning] [carb.assets.plugin] Evicting asset type c1237a43d569db21 v0.1 orphaned snapshot handle 0x100000006 (/tmp/carb.mXltUo/filter.28x32.png)\n",
      "2023-01-02 05:14:44 [28,545ms] [Warning] [carb.assets.plugin] Evicting asset type c1237a43d569db21 v0.1 orphaned snapshot handle 0x100000007 (/tmp/carb.mXltUo/list.32x40.png)\n",
      "2023-01-02 05:14:44 [28,545ms] [Warning] [carb.assets.plugin] Evicting asset type c1237a43d569db21 v0.1 orphaned snapshot handle 0x100000008 (/tmp/carb.mXltUo/toolbar_select_model.56x56.png)\n",
      "2023-01-02 05:14:44 [28,545ms] [Warning] [carb.assets.plugin] Evicting asset type c1237a43d569db21 v0.1 orphaned snapshot handle 0x100000009 (/tmp/carb.mXltUo/toolbar_select_prim.56x56.png)\n",
      "2023-01-02 05:14:44 [28,545ms] [Warning] [carb.assets.plugin] Evicting asset type c1237a43d569db21 v0.1 orphaned snapshot handle 0x10000000a (/tmp/carb.mXltUo/toolbar_select_models.56x56.png)\n",
      "2023-01-02 05:14:44 [28,545ms] [Warning] [carb.assets.plugin] Evicting asset type c1237a43d569db21 v0.1 orphaned snapshot handle 0x10000000b (/tmp/carb.mXltUo/toolbar_move_global.56x56.png)\n",
      "2023-01-02 05:14:44 [28,545ms] [Warning] [carb.assets.plugin] Evicting asset type c1237a43d569db21 v0.1 orphaned snapshot handle 0x10000000c (/tmp/carb.mXltUo/toolbar_rotate_global.56x56.png)\n",
      "2023-01-02 05:14:44 [28,545ms] [Warning] [carb.assets.plugin] Evicting asset type c1237a43d569db21 v0.1 orphaned snapshot handle 0x10000000d (/tmp/carb.mXltUo/toolbar_scale.56x56.png)\n",
      "2023-01-02 05:14:44 [28,545ms] [Warning] [carb.assets.plugin] Evicting asset type c1237a43d569db21 v0.1 orphaned snapshot handle 0x10000000e (/tmp/carb.mXltUo/toolbar_snap.56x56.png)\n",
      "2023-01-02 05:14:44 [28,545ms] [Warning] [carb.assets.plugin] Evicting asset type c1237a43d569db21 v0.1 orphaned snapshot handle 0x10000000f (/tmp/carb.mXltUo/toolbar_play.56x56.png)\n",
      "2023-01-02 05:14:44 [28,545ms] [Warning] [carb.assets.plugin] Evicting asset type c1237a43d569db21 v0.1 orphaned snapshot handle 0x100000010 (/tmp/carb.mXltUo/toolbar_pause.56x56.png)\n",
      "2023-01-02 05:14:44 [28,545ms] [Warning] [carb.assets.plugin] Evicting asset type c1237a43d569db21 v0.1 orphaned snapshot handle 0x100000011 (/tmp/carb.mXltUo/filter.28x28.png)\n",
      "2023-01-02 05:14:44 [28,545ms] [Warning] [carb.assets.plugin] Evicting asset type c1237a43d569db21 v0.1 orphaned snapshot handle 0x100000012 (/tmp/carb.mXltUo/options.28x28.png)\n",
      "2023-01-02 05:14:44 [28,545ms] [Warning] [carb.assets.plugin] Evicting asset type c1237a43d569db21 v0.1 orphaned snapshot handle 0x100000013 (/tmp/carb.mXltUo/eye_header.44x28.png)\n",
      "2023-01-02 05:14:44 [28,545ms] [Warning] [carb.assets.plugin] Evicting asset type c1237a43d569db21 v0.1 orphaned snapshot handle 0x100000014 (/tmp/carb.mXltUo/options.28x32.png)\n",
      "2023-01-02 05:14:44 [28,545ms] [Warning] [carb.assets.plugin] Evicting asset type c1237a43d569db21 v0.1 orphaned snapshot handle 0x100000015 (/tmp/carb.mXltUo/layers.36x36.png)\n",
      "2023-01-02 05:14:44 [28,545ms] [Warning] [carb.assets.plugin] Evicting asset type c1237a43d569db21 v0.1 orphaned snapshot handle 0x100000016 (/tmp/carb.mXltUo/layer_save.28x28.png)\n",
      "2023-01-02 05:14:44 [28,545ms] [Warning] [carb.assets.plugin] Evicting asset type c1237a43d569db21 v0.1 orphaned snapshot handle 0x100000017 (/tmp/carb.mXltUo/layers_switch_local.84x44.png)\n",
      "2023-01-02 05:14:44 [28,545ms] [Warning] [carb.assets.plugin] Evicting asset type c1237a43d569db21 v0.1 orphaned snapshot handle 0x100000018 (/tmp/carb.mXltUo/cloud.28x28.png)\n",
      "2023-01-02 05:14:44 [28,545ms] [Warning] [carb.assets.plugin] Evicting asset type c1237a43d569db21 v0.1 orphaned snapshot handle 0x100000019 (/tmp/carb.mXltUo/layers_switch_global.84x44.png)\n",
      "2023-01-02 05:14:44 [28,545ms] [Warning] [carb.assets.plugin] Evicting asset type c1237a43d569db21 v0.1 orphaned snapshot handle 0x10000001a (/tmp/carb.mXltUo/drop_down.12x12.png)\n",
      "2023-01-02 05:14:44 [28,545ms] [Warning] [carb.assets.plugin] Evicting asset type c1237a43d569db21 v0.1 orphaned snapshot handle 0x10000001b (/tmp/carb.mXltUo/external_link.52x52.png)\n",
      "2023-01-02 05:14:44 [28,545ms] [Warning] [carb.assets.plugin] Evicting asset type c1237a43d569db21 v0.1 orphaned snapshot handle 0x10000001c (/tmp/carb.mXltUo/new_layer.52x52.png)\n",
      "2023-01-02 05:14:44 [28,545ms] [Warning] [carb.assets.plugin] Evicting asset type c1237a43d569db21 v0.1 orphaned snapshot handle 0x10000001d (/tmp/carb.mXltUo/trash.44x44.png)\n",
      "2023-01-02 05:14:44 [28,545ms] [Warning] [carb.assets.plugin] Evicting asset type c1237a43d569db21 v0.1 orphaned snapshot handle 0x10000001e (/home/yizhou/.local/share/ov/pkg/isaac_sim-2022.1.1/kit/extsPhysics/omni.physx.ui-1.4.15-5.1/icons/physicsJoint/RevoluteJoint.png)\n",
      "2023-01-02 05:14:44 [28,545ms] [Warning] [carb.assets.plugin] Evicting asset type c1237a43d569db21 v0.1 orphaned snapshot handle 0x10000001f (/home/yizhou/.local/share/ov/pkg/isaac_sim-2022.1.1/kit/extsPhysics/omni.physx.ui-1.4.15-5.1/icons/physicsJoint/SphericalJoint.png)\n",
      "2023-01-02 05:14:44 [28,545ms] [Warning] [carb.assets.plugin] Evicting asset type c1237a43d569db21 v0.1 orphaned snapshot handle 0x100000020 (/home/yizhou/.local/share/ov/pkg/isaac_sim-2022.1.1/kit/extsPhysics/omni.physx.ui-1.4.15-5.1/icons/physicsJoint/DistanceJoint.png)\n",
      "2023-01-02 05:14:44 [28,545ms] [Warning] [carb.assets.plugin] Evicting asset type c1237a43d569db21 v0.1 orphaned snapshot handle 0x100000021 (/home/yizhou/.local/share/ov/pkg/isaac_sim-2022.1.1/kit/extsPhysics/omni.physx.ui-1.4.15-5.1/icons/physicsJoint/FixedJoint.png)\n",
      "2023-01-02 05:14:44 [28,545ms] [Warning] [carb.assets.plugin] Evicting asset type c1237a43d569db21 v0.1 orphaned snapshot handle 0x100000022 (/home/yizhou/.local/share/ov/pkg/isaac_sim-2022.1.1/kit/extsPhysics/omni.physx.ui-1.4.15-5.1/icons/physicsJoint/PrismaticJoint.png)\n",
      "2023-01-02 05:14:44 [28,545ms] [Warning] [carb.assets.plugin] Evicting asset type c1237a43d569db21 v0.1 orphaned snapshot handle 0x100000023 (/home/yizhou/.local/share/ov/pkg/isaac_sim-2022.1.1/kit/extsPhysics/omni.physx.ui-1.4.15-5.1/icons/physicsJoint/D6Joint.png)\n",
      "2023-01-02 05:14:44 [28,545ms] [Warning] [carb.assets.plugin] Evicting asset type c1237a43d569db21 v0.1 orphaned snapshot handle 0x100000024 (/home/yizhou/.local/share/ov/pkg/isaac_sim-2022.1.1/kit/extsPhysics/omni.physx.ui-1.4.15-5.1/icons/physicsJoint/GearJoint.png)\n",
      "2023-01-02 05:14:44 [28,545ms] [Warning] [carb.assets.plugin] Evicting asset type c1237a43d569db21 v0.1 orphaned snapshot handle 0x100000025 (/home/yizhou/.local/share/ov/pkg/isaac_sim-2022.1.1/kit/extsPhysics/omni.physx.ui-1.4.15-5.1/icons/physicsJoint/RackAndPinionJoint.png)\n",
      "2023-01-02 05:14:44 [28,545ms] [Warning] [carb.assets.plugin] Evicting asset type c1237a43d569db21 v0.1 orphaned snapshot handle 0x100000026 (/home/yizhou/.local/share/ov/pkg/isaac_sim-2022.1.1/kit/extsPhysics/omni.physx.ui-1.4.15-5.1/icons/physicsJoint/JJoint.png)\n",
      "2023-01-02 05:14:44 [28,545ms] [Warning] [carb.assets.plugin] Evicting asset type c1237a43d569db21 v0.1 orphaned snapshot handle 0x100000027 (/home/yizhou/.local/share/ov/pkg/isaac_sim-2022.1.1/kit/extsPhysics/omni.physx.ui-1.4.15-5.1/icons/physicsJoint/JointError.png)\n",
      "2023-01-02 05:14:44 [28,545ms] [Warning] [carb.assets.plugin] Evicting asset type c1237a43d569db21 v0.1 orphaned snapshot handle 0x100000029 (/home/yizhou/.local/share/ov/pkg/isaac_sim-2022.1.1/kit/resources/icons/lights/distant_light.png)\n",
      "2023-01-02 05:14:44 [28,545ms] [Warning] [carb.assets.plugin] Evicting asset type c1237a43d569db21 v0.1 orphaned snapshot handle 0x10000002a (/home/yizhou/.local/share/ov/pkg/isaac_sim-2022.1.1/kit/resources/icons/lights/rect_light.png)\n",
      "2023-01-02 05:14:44 [28,545ms] [Warning] [carb.assets.plugin] Evicting asset type c1237a43d569db21 v0.1 orphaned snapshot handle 0x10000002b (/home/yizhou/.local/share/ov/pkg/isaac_sim-2022.1.1/kit/resources/icons/lights/sphere_light.png)\n",
      "2023-01-02 05:14:44 [28,545ms] [Warning] [carb.assets.plugin] Evicting asset type c1237a43d569db21 v0.1 orphaned snapshot handle 0x10000002c (/home/yizhou/.local/share/ov/pkg/isaac_sim-2022.1.1/kit/resources/icons/lights/cylinder_light.png)\n",
      "2023-01-02 05:14:44 [28,545ms] [Warning] [carb.assets.plugin] Evicting asset type c1237a43d569db21 v0.1 orphaned snapshot handle 0x10000002d (/home/yizhou/.local/share/ov/pkg/isaac_sim-2022.1.1/kit/resources/icons/lights/disk_light.png)\n",
      "2023-01-02 05:14:44 [28,545ms] [Warning] [carb.assets.plugin] Evicting asset type c1237a43d569db21 v0.1 orphaned snapshot handle 0x10000002e (/home/yizhou/.local/share/ov/pkg/isaac_sim-2022.1.1/kit/resources/icons/lights/dome_light.png)\n",
      "2023-01-02 05:14:44 [28,545ms] [Warning] [carb.assets.plugin] Evicting asset type c1237a43d569db21 v0.1 orphaned snapshot handle 0x10000002f (/home/yizhou/.local/share/ov/pkg/isaac_sim-2022.1.1/kit/resources/icons/sounds/sound.png)\n",
      "2023-01-02 05:14:44 [28,545ms] [Warning] [carb.assets.plugin] Evicting asset type c1237a43d569db21 v0.1 orphaned snapshot handle 0x100000030 (/home/yizhou/.local/share/ov/pkg/isaac_sim-2022.1.1/kit/resources/icons/sounds/listener.png)\n",
      "2023-01-02 05:14:44 [28,545ms] [Warning] [carb.assets.plugin] Evicting asset type c1237a43d569db21 v0.1 orphaned snapshot handle 0x100000031 (/tmp/carb.mXltUo/Prim.40x40.png)\n",
      "2023-01-02 05:14:44 [28,545ms] [Warning] [carb.assets.plugin] Evicting asset type c1237a43d569db21 v0.1 orphaned snapshot handle 0x100000032 (/tmp/carb.mXltUo/Plus.20x20.png)\n",
      "2023-01-02 05:14:44 [28,545ms] [Warning] [carb.assets.plugin] Evicting asset type c1237a43d569db21 v0.1 orphaned snapshot handle 0x100000033 (/tmp/carb.mXltUo/Xform.40x40.png)\n",
      "2023-01-02 05:14:44 [28,545ms] [Warning] [carb.assets.plugin] Evicting asset type c1237a43d569db21 v0.1 orphaned snapshot handle 0x100000034 (/tmp/carb.mXltUo/layers.40x40.png)\n",
      "2023-01-02 05:14:44 [28,545ms] [Warning] [carb.assets.plugin] Evicting asset type c1237a43d569db21 v0.1 orphaned snapshot handle 0x100000035 (/tmp/carb.mXltUo/layer_delta.24x24.png)\n",
      "2023-01-02 05:14:44 [28,545ms] [Warning] [carb.assets.plugin] Evicting asset type c1237a43d569db21 v0.1 orphaned snapshot handle 0x100000036 (/tmp/carb.mXltUo/sensor_icon.52x28.png)\n",
      "2023-01-02 05:14:44 [28,545ms] [Warning] [carb.assets.plugin] Evicting asset type c1237a43d569db21 v0.1 orphaned snapshot handle 0x100000037 (/tmp/carb.mXltUo/Minus.20x20.png)\n",
      "2023-01-02 05:14:44 [28,545ms] [Warning] [carb.assets.plugin] Evicting asset type c1237a43d569db21 v0.1 orphaned snapshot handle 0x100000038 (omniverse://localhost/Users/yizhou/Asset/T/DesPere/Textures/DesPeres_Table_BaseColor.1001.png)\n",
      "2023-01-02 05:14:44 [28,545ms] [Warning] [carb.assets.plugin] Evicting asset type c1237a43d569db21 v0.1 orphaned snapshot handle 0x100000039 (omniverse://localhost/Users/yizhou/Asset/T/DesPere/Textures/DesPeres_Table_BaseColor.1002.png)\n",
      "2023-01-02 05:14:44 [28,545ms] [Warning] [carb.assets.plugin] Evicting asset type c1237a43d569db21 v0.1 orphaned snapshot handle 0x10000003a (omniverse://localhost/Users/yizhou/Asset/T/DesPere/Textures/DesPeres_Table_BaseColor.1003.png)\n",
      "2023-01-02 05:14:44 [28,545ms] [Warning] [carb.assets.plugin] Evicting asset type c1237a43d569db21 v0.1 orphaned snapshot handle 0x10000003b (omniverse://localhost/Users/yizhou/Asset/T/DesPere/Textures/DesPeres_Table_N.1001.png)\n",
      "2023-01-02 05:14:44 [28,545ms] [Warning] [carb.assets.plugin] Evicting asset type c1237a43d569db21 v0.1 orphaned snapshot handle 0x10000003c (omniverse://localhost/Users/yizhou/Asset/T/DesPere/Textures/DesPeres_Table_N.1003.png)\n",
      "2023-01-02 05:14:44 [28,545ms] [Warning] [carb.assets.plugin] Evicting asset type c1237a43d569db21 v0.1 orphaned snapshot handle 0x10000003d (omniverse://localhost/Users/yizhou/Asset/T/DesPere/Textures/DesPeres_Table_N.1002.png)\n",
      "2023-01-02 05:14:44 [28,545ms] [Warning] [carb.assets.plugin] Evicting asset type c1237a43d569db21 v0.1 orphaned snapshot handle 0x10000003e (omniverse://localhost/Users/yizhou/Asset/T/DesPere/Textures/DesPeres_Table_R.1003.png)\n",
      "2023-01-02 05:14:44 [28,545ms] [Warning] [carb.assets.plugin] Evicting asset type c1237a43d569db21 v0.1 orphaned snapshot handle 0x10000003f (omniverse://localhost/Users/yizhou/Asset/T/DesPere/Textures/DesPeres_Table_R.1001.png)\n",
      "2023-01-02 05:14:44 [28,545ms] [Warning] [carb.assets.plugin] Evicting asset type c1237a43d569db21 v0.1 orphaned snapshot handle 0x100000040 (omniverse://localhost/Users/yizhou/Asset/T/DesPere/Textures/DesPeres_Table_R.1002.png)\n",
      "2023-01-02 05:14:44 [28,545ms] [Warning] [carb.assets.plugin] Evicting asset type c1237a43d569db21 v0.1 orphaned snapshot handle 0x100000041 (omniverse://127.0.0.1/NVIDIA/Materials/Base/Wall_Board/Paper/Paper_N.png)\n",
      "2023-01-02 05:14:44 [28,545ms] [Warning] [carb.assets.plugin] Evicting asset type c1237a43d569db21 v0.1 orphaned snapshot handle 0x100000042 (omniverse://127.0.0.1/NVIDIA/Materials/Base/Wall_Board/Paper/Paper_BaseColor.png)\n",
      "2023-01-02 05:14:44 [28,545ms] [Warning] [carb.assets.plugin] Evicting asset type c1237a43d569db21 v0.1 orphaned snapshot handle 0x100000043 (omniverse://127.0.0.1/NVIDIA/Materials/Base/Wall_Board/Paper/Paper_ORM.png)\n",
      "2023-01-02 05:14:44 [28,545ms] [Warning] [carb.assets.plugin] Evicting asset type c1237a43d569db21 v0.1 orphaned snapshot handle 0x100000044 (omniverse://127.0.0.1/NVIDIA/Materials/vMaterials_2/Wood/textures/brickbond_R_id_G_offs_B_rotation.png)\n",
      "2023-01-02 05:14:44 [28,545ms] [Warning] [carb.assets.plugin] Evicting asset type c1237a43d569db21 v0.1 orphaned snapshot handle 0x100000045 (omniverse://127.0.0.1/NVIDIA/Materials/vMaterials_2/Wood/textures/fineline_rough_grain.jpg)\n",
      "2023-01-02 05:14:44 [28,545ms] [Warning] [carb.assets.plugin] Evicting asset type c1237a43d569db21 v0.1 orphaned snapshot handle 0x100000046 (omniverse://127.0.0.1/NVIDIA/Materials/vMaterials_2/Wood/textures/fineline_rough_detail.jpg)\n",
      "2023-01-02 05:14:44 [28,545ms] [Warning] [carb.assets.plugin] Evicting asset type c1237a43d569db21 v0.1 orphaned snapshot handle 0x100000047 (omniverse://127.0.0.1/NVIDIA/Materials/vMaterials_2/Wood/textures/brickbond_norm.png)\n",
      "2023-01-02 05:14:44 [28,545ms] [Warning] [carb.assets.plugin] Evicting asset type c1237a43d569db21 v0.1 orphaned snapshot handle 0x100000048 (omniverse://127.0.0.1/NVIDIA/Materials/vMaterials_2/Wood/textures/fineline_norm.jpg)\n",
      "2023-01-02 05:14:44 [28,545ms] [Warning] [carb.assets.plugin] Evicting asset type c1237a43d569db21 v0.1 orphaned snapshot handle 0x100000049 (omniverse://127.0.0.1/NVIDIA/Materials/vMaterials_2/Wood/textures/tiles_wood_orangepeel_norm.jpg)\n",
      "2023-01-02 05:14:44 [28,545ms] [Warning] [carb.assets.plugin] Evicting asset type c1237a43d569db21 v0.1 orphaned snapshot handle 0x10000004a (omniverse://127.0.0.1/NVIDIA/Materials/vMaterials_2/Wood/textures/tiles_wood_R_rough_G_dents_B_spots.jpg)\n",
      "2023-01-02 05:14:44 [28,545ms] [Warning] [carb.assets.plugin] Evicting asset type c1237a43d569db21 v0.1 orphaned snapshot handle 0x10000004b (omniverse://127.0.0.1/NVIDIA/Materials/vMaterials_2/Wood/textures/fineline_diff.jpg)\n",
      "2023-01-02 05:14:44 [28,545ms] [Warning] [carb.assets.plugin] Evicting asset type c1237a43d569db21 v0.1 orphaned snapshot handle 0x10000004c (omniverse://127.0.0.1/NVIDIA/Materials/vMaterials_2/Wood/textures/brickbond_R_edgewear_G_gaps_B_gaps_rough.jpg)\n",
      "2023-01-02 05:14:44 [28,545ms] [Warning] [carb.assets.plugin] Evicting asset type c1237a43d569db21 v0.1 orphaned asset 0x100000000 (/tmp/carb.mXltUo/plus.24x32.png)\n",
      "2023-01-02 05:14:44 [28,545ms] [Warning] [carb.assets.plugin] Evicting asset type c1237a43d569db21 v0.1 orphaned asset 0x100000001 (/tmp/carb.mXltUo/angle_left.32x32.png)\n",
      "2023-01-02 05:14:44 [28,545ms] [Warning] [carb.assets.plugin] Evicting asset type c1237a43d569db21 v0.1 orphaned asset 0x100000002 (/tmp/carb.mXltUo/angle_right.32x32.png)\n",
      "2023-01-02 05:14:44 [28,546ms] [Warning] [carb.assets.plugin] Evicting asset type c1237a43d569db21 v0.1 orphaned asset 0x100000003 (/tmp/carb.mXltUo/bookmark_grey.36x36.png)\n",
      "2023-01-02 05:14:44 [28,546ms] [Warning] [carb.assets.plugin] Evicting asset type c1237a43d569db21 v0.1 orphaned asset 0x100000004 (/tmp/carb.mXltUo/search.32x32.png)\n",
      "2023-01-02 05:14:44 [28,546ms] [Warning] [carb.assets.plugin] Evicting asset type c1237a43d569db21 v0.1 orphaned asset 0x100000005 (/tmp/carb.mXltUo/settings.28x40.png)\n",
      "2023-01-02 05:14:44 [28,546ms] [Warning] [carb.assets.plugin] Evicting asset type c1237a43d569db21 v0.1 orphaned asset 0x100000006 (/tmp/carb.mXltUo/filter.28x32.png)\n",
      "2023-01-02 05:14:44 [28,546ms] [Warning] [carb.assets.plugin] Evicting asset type c1237a43d569db21 v0.1 orphaned asset 0x100000008 (/tmp/carb.mXltUo/list.32x40.png)\n",
      "2023-01-02 05:14:44 [28,546ms] [Warning] [carb.assets.plugin] Evicting asset type c1237a43d569db21 v0.1 orphaned asset 0x100000009 (/tmp/carb.mXltUo/toolbar_select_model.56x56.png)\n",
      "2023-01-02 05:14:44 [28,546ms] [Warning] [carb.assets.plugin] Evicting asset type c1237a43d569db21 v0.1 orphaned asset 0x10000000a (/tmp/carb.mXltUo/toolbar_select_prim.56x56.png)\n",
      "2023-01-02 05:14:44 [28,546ms] [Warning] [carb.assets.plugin] Evicting asset type c1237a43d569db21 v0.1 orphaned asset 0x10000000b (/tmp/carb.mXltUo/toolbar_select_models.56x56.png)\n",
      "2023-01-02 05:14:44 [28,546ms] [Warning] [carb.assets.plugin] Evicting asset type c1237a43d569db21 v0.1 orphaned asset 0x10000000c (/tmp/carb.mXltUo/toolbar_move_global.56x56.png)\n",
      "2023-01-02 05:14:44 [28,546ms] [Warning] [carb.assets.plugin] Evicting asset type c1237a43d569db21 v0.1 orphaned asset 0x10000000d (/tmp/carb.mXltUo/toolbar_rotate_global.56x56.png)\n",
      "2023-01-02 05:14:44 [28,546ms] [Warning] [carb.assets.plugin] Evicting asset type c1237a43d569db21 v0.1 orphaned asset 0x10000000e (/tmp/carb.mXltUo/toolbar_scale.56x56.png)\n",
      "2023-01-02 05:14:44 [28,546ms] [Warning] [carb.assets.plugin] Evicting asset type c1237a43d569db21 v0.1 orphaned asset 0x10000000f (/tmp/carb.mXltUo/toolbar_snap.56x56.png)\n",
      "2023-01-02 05:14:44 [28,548ms] [Warning] [carb.assets.plugin] Evicting asset type c1237a43d569db21 v0.1 orphaned asset 0x100000010 (/tmp/carb.mXltUo/toolbar_play.56x56.png)\n",
      "2023-01-02 05:14:44 [28,548ms] [Warning] [carb.assets.plugin] Evicting asset type c1237a43d569db21 v0.1 orphaned asset 0x100000011 (/tmp/carb.mXltUo/toolbar_pause.56x56.png)\n",
      "2023-01-02 05:14:44 [28,548ms] [Warning] [carb.assets.plugin] Evicting asset type c1237a43d569db21 v0.1 orphaned asset 0x100000012 (/tmp/carb.mXltUo/filter.28x28.png)\n",
      "2023-01-02 05:14:44 [28,548ms] [Warning] [carb.assets.plugin] Evicting asset type c1237a43d569db21 v0.1 orphaned asset 0x100000013 (/tmp/carb.mXltUo/options.28x28.png)\n",
      "2023-01-02 05:14:44 [28,548ms] [Warning] [carb.assets.plugin] Evicting asset type c1237a43d569db21 v0.1 orphaned asset 0x100000014 (/tmp/carb.mXltUo/eye_header.44x28.png)\n",
      "2023-01-02 05:14:44 [28,548ms] [Warning] [carb.assets.plugin] Evicting asset type c1237a43d569db21 v0.1 orphaned asset 0x100000015 (/tmp/carb.mXltUo/options.28x32.png)\n",
      "2023-01-02 05:14:44 [28,548ms] [Warning] [carb.assets.plugin] Evicting asset type c1237a43d569db21 v0.1 orphaned asset 0x100000016 (/tmp/carb.mXltUo/layers.36x36.png)\n",
      "2023-01-02 05:14:44 [28,548ms] [Warning] [carb.assets.plugin] Evicting asset type c1237a43d569db21 v0.1 orphaned asset 0x100000017 (/tmp/carb.mXltUo/layer_save.28x28.png)\n",
      "2023-01-02 05:14:44 [28,548ms] [Warning] [carb.assets.plugin] Evicting asset type c1237a43d569db21 v0.1 orphaned asset 0x100000018 (/tmp/carb.mXltUo/layers_switch_local.84x44.png)\n",
      "2023-01-02 05:14:44 [28,548ms] [Warning] [carb.assets.plugin] Evicting asset type c1237a43d569db21 v0.1 orphaned asset 0x100000019 (/tmp/carb.mXltUo/layers_switch_global.84x44.png)\n",
      "2023-01-02 05:14:44 [28,548ms] [Warning] [carb.assets.plugin] Evicting asset type c1237a43d569db21 v0.1 orphaned asset 0x10000001a (/tmp/carb.mXltUo/cloud.28x28.png)\n",
      "2023-01-02 05:14:44 [28,548ms] [Warning] [carb.assets.plugin] Evicting asset type c1237a43d569db21 v0.1 orphaned asset 0x10000001b (/tmp/carb.mXltUo/drop_down.12x12.png)\n",
      "2023-01-02 05:14:44 [28,548ms] [Warning] [carb.assets.plugin] Evicting asset type c1237a43d569db21 v0.1 orphaned asset 0x10000001c (/tmp/carb.mXltUo/external_link.52x52.png)\n",
      "2023-01-02 05:14:44 [28,548ms] [Warning] [carb.assets.plugin] Evicting asset type c1237a43d569db21 v0.1 orphaned asset 0x10000001d (/tmp/carb.mXltUo/new_layer.52x52.png)\n",
      "2023-01-02 05:14:44 [28,548ms] [Warning] [carb.assets.plugin] Evicting asset type c1237a43d569db21 v0.1 orphaned asset 0x10000001e (/tmp/carb.mXltUo/trash.44x44.png)\n",
      "2023-01-02 05:14:44 [28,548ms] [Warning] [carb.assets.plugin] Evicting asset type c1237a43d569db21 v0.1 orphaned asset 0x10000001f (/home/yizhou/.local/share/ov/pkg/isaac_sim-2022.1.1/kit/extsPhysics/omni.physx.ui-1.4.15-5.1/icons/physicsJoint/RevoluteJoint.png)\n",
      "2023-01-02 05:14:44 [28,548ms] [Warning] [carb.assets.plugin] Evicting asset type c1237a43d569db21 v0.1 orphaned asset 0x100000020 (/home/yizhou/.local/share/ov/pkg/isaac_sim-2022.1.1/kit/extsPhysics/omni.physx.ui-1.4.15-5.1/icons/physicsJoint/SphericalJoint.png)\n",
      "2023-01-02 05:14:44 [28,548ms] [Warning] [carb.assets.plugin] Evicting asset type c1237a43d569db21 v0.1 orphaned asset 0x100000021 (/home/yizhou/.local/share/ov/pkg/isaac_sim-2022.1.1/kit/extsPhysics/omni.physx.ui-1.4.15-5.1/icons/physicsJoint/DistanceJoint.png)\n",
      "2023-01-02 05:14:44 [28,548ms] [Warning] [carb.assets.plugin] Evicting asset type c1237a43d569db21 v0.1 orphaned asset 0x100000022 (/home/yizhou/.local/share/ov/pkg/isaac_sim-2022.1.1/kit/extsPhysics/omni.physx.ui-1.4.15-5.1/icons/physicsJoint/FixedJoint.png)\n",
      "2023-01-02 05:14:44 [28,548ms] [Warning] [carb.assets.plugin] Evicting asset type c1237a43d569db21 v0.1 orphaned asset 0x100000023 (/home/yizhou/.local/share/ov/pkg/isaac_sim-2022.1.1/kit/extsPhysics/omni.physx.ui-1.4.15-5.1/icons/physicsJoint/PrismaticJoint.png)\n",
      "2023-01-02 05:14:44 [28,548ms] [Warning] [carb.assets.plugin] Evicting asset type c1237a43d569db21 v0.1 orphaned asset 0x100000024 (/home/yizhou/.local/share/ov/pkg/isaac_sim-2022.1.1/kit/extsPhysics/omni.physx.ui-1.4.15-5.1/icons/physicsJoint/D6Joint.png)\n",
      "2023-01-02 05:14:44 [28,548ms] [Warning] [carb.assets.plugin] Evicting asset type c1237a43d569db21 v0.1 orphaned asset 0x100000025 (/home/yizhou/.local/share/ov/pkg/isaac_sim-2022.1.1/kit/extsPhysics/omni.physx.ui-1.4.15-5.1/icons/physicsJoint/GearJoint.png)\n",
      "2023-01-02 05:14:44 [28,548ms] [Warning] [carb.assets.plugin] Evicting asset type c1237a43d569db21 v0.1 orphaned asset 0x100000026 (/home/yizhou/.local/share/ov/pkg/isaac_sim-2022.1.1/kit/extsPhysics/omni.physx.ui-1.4.15-5.1/icons/physicsJoint/RackAndPinionJoint.png)\n",
      "2023-01-02 05:14:44 [28,548ms] [Warning] [carb.assets.plugin] Evicting asset type c1237a43d569db21 v0.1 orphaned asset 0x100000027 (/home/yizhou/.local/share/ov/pkg/isaac_sim-2022.1.1/kit/extsPhysics/omni.physx.ui-1.4.15-5.1/icons/physicsJoint/JJoint.png)\n",
      "2023-01-02 05:14:44 [28,548ms] [Warning] [carb.assets.plugin] Evicting asset type c1237a43d569db21 v0.1 orphaned asset 0x100000028 (/home/yizhou/.local/share/ov/pkg/isaac_sim-2022.1.1/kit/extsPhysics/omni.physx.ui-1.4.15-5.1/icons/physicsJoint/JointError.png)\n",
      "2023-01-02 05:14:44 [28,548ms] [Warning] [carb.assets.plugin] Evicting asset type c1237a43d569db21 v0.1 orphaned asset 0x100000029 (/home/yizhou/.local/share/ov/pkg/isaac_sim-2022.1.1/kit/resources/icons/lights/distant_light.png)\n",
      "2023-01-02 05:14:44 [28,548ms] [Warning] [carb.assets.plugin] Evicting asset type c1237a43d569db21 v0.1 orphaned asset 0x10000002a (/home/yizhou/.local/share/ov/pkg/isaac_sim-2022.1.1/kit/resources/icons/lights/rect_light.png)\n",
      "2023-01-02 05:14:44 [28,548ms] [Warning] [carb.assets.plugin] Evicting asset type c1237a43d569db21 v0.1 orphaned asset 0x10000002b (/home/yizhou/.local/share/ov/pkg/isaac_sim-2022.1.1/kit/resources/icons/lights/sphere_light.png)\n",
      "2023-01-02 05:14:44 [28,548ms] [Warning] [carb.assets.plugin] Evicting asset type c1237a43d569db21 v0.1 orphaned asset 0x10000002c (/home/yizhou/.local/share/ov/pkg/isaac_sim-2022.1.1/kit/resources/icons/lights/cylinder_light.png)\n",
      "2023-01-02 05:14:44 [28,548ms] [Warning] [carb.assets.plugin] Evicting asset type c1237a43d569db21 v0.1 orphaned asset 0x10000002d (/home/yizhou/.local/share/ov/pkg/isaac_sim-2022.1.1/kit/resources/icons/lights/disk_light.png)\n",
      "2023-01-02 05:14:44 [28,548ms] [Warning] [carb.assets.plugin] Evicting asset type c1237a43d569db21 v0.1 orphaned asset 0x10000002e (/home/yizhou/.local/share/ov/pkg/isaac_sim-2022.1.1/kit/resources/icons/lights/dome_light.png)\n",
      "2023-01-02 05:14:44 [28,548ms] [Warning] [carb.assets.plugin] Evicting asset type c1237a43d569db21 v0.1 orphaned asset 0x10000002f (/home/yizhou/.local/share/ov/pkg/isaac_sim-2022.1.1/kit/resources/icons/sounds/sound.png)\n",
      "2023-01-02 05:14:44 [28,548ms] [Warning] [carb.assets.plugin] Evicting asset type c1237a43d569db21 v0.1 orphaned asset 0x100000030 (/home/yizhou/.local/share/ov/pkg/isaac_sim-2022.1.1/kit/resources/icons/sounds/listener.png)\n",
      "2023-01-02 05:14:44 [28,548ms] [Warning] [carb.assets.plugin] Evicting asset type c1237a43d569db21 v0.1 orphaned asset 0x100000031 (/tmp/carb.mXltUo/Prim.40x40.png)\n",
      "2023-01-02 05:14:44 [28,549ms] [Warning] [carb.assets.plugin] Evicting asset type c1237a43d569db21 v0.1 orphaned asset 0x100000032 (/tmp/carb.mXltUo/Plus.20x20.png)\n",
      "2023-01-02 05:14:44 [28,549ms] [Warning] [carb.assets.plugin] Evicting asset type c1237a43d569db21 v0.1 orphaned asset 0x100000033 (/tmp/carb.mXltUo/Xform.40x40.png)\n",
      "2023-01-02 05:14:44 [28,549ms] [Warning] [carb.assets.plugin] Evicting asset type c1237a43d569db21 v0.1 orphaned asset 0x100000034 (/tmp/carb.mXltUo/layers.40x40.png)\n",
      "2023-01-02 05:14:44 [28,549ms] [Warning] [carb.assets.plugin] Evicting asset type c1237a43d569db21 v0.1 orphaned asset 0x100000035 (/tmp/carb.mXltUo/layer_delta.24x24.png)\n",
      "2023-01-02 05:14:44 [28,549ms] [Warning] [carb.assets.plugin] Evicting asset type c1237a43d569db21 v0.1 orphaned asset 0x100000036 (/tmp/carb.mXltUo/sensor_icon.52x28.png)\n",
      "2023-01-02 05:14:44 [28,549ms] [Warning] [carb.assets.plugin] Evicting asset type c1237a43d569db21 v0.1 orphaned asset 0x100000037 (/tmp/carb.mXltUo/Minus.20x20.png)\n",
      "2023-01-02 05:14:44 [28,549ms] [Warning] [carb.assets.plugin] Evicting asset type c1237a43d569db21 v0.1 orphaned asset 0x100000038 (omniverse://localhost/Users/yizhou/Asset/T/DesPere/Textures/DesPeres_Table_BaseColor.1001.png)\n",
      "2023-01-02 05:14:44 [28,549ms] [Warning] [carb.assets.plugin] Evicting asset type c1237a43d569db21 v0.1 orphaned asset 0x100000039 (omniverse://localhost/Users/yizhou/Asset/T/DesPere/Textures/DesPeres_Table_BaseColor.1002.png)\n",
      "2023-01-02 05:14:44 [28,549ms] [Warning] [carb.assets.plugin] Evicting asset type c1237a43d569db21 v0.1 orphaned asset 0x10000003a (omniverse://localhost/Users/yizhou/Asset/T/DesPere/Textures/DesPeres_Table_BaseColor.1003.png)\n",
      "2023-01-02 05:14:44 [28,549ms] [Warning] [carb.assets.plugin] Evicting asset type c1237a43d569db21 v0.1 orphaned asset 0x10000003b (omniverse://localhost/Users/yizhou/Asset/T/DesPere/Textures/DesPeres_Table_N.1001.png)\n",
      "2023-01-02 05:14:44 [28,549ms] [Warning] [carb.assets.plugin] Evicting asset type c1237a43d569db21 v0.1 orphaned asset 0x10000003c (omniverse://localhost/Users/yizhou/Asset/T/DesPere/Textures/DesPeres_Table_N.1002.png)\n",
      "2023-01-02 05:14:44 [28,549ms] [Warning] [carb.assets.plugin] Evicting asset type c1237a43d569db21 v0.1 orphaned asset 0x10000003d (omniverse://localhost/Users/yizhou/Asset/T/DesPere/Textures/DesPeres_Table_N.1003.png)\n",
      "2023-01-02 05:14:44 [28,549ms] [Warning] [carb.assets.plugin] Evicting asset type c1237a43d569db21 v0.1 orphaned asset 0x10000003e (omniverse://localhost/Users/yizhou/Asset/T/DesPere/Textures/DesPeres_Table_R.1001.png)\n",
      "2023-01-02 05:14:44 [28,549ms] [Warning] [carb.assets.plugin] Evicting asset type c1237a43d569db21 v0.1 orphaned asset 0x10000003f (omniverse://localhost/Users/yizhou/Asset/T/DesPere/Textures/DesPeres_Table_R.1002.png)\n",
      "2023-01-02 05:14:44 [28,549ms] [Warning] [carb.assets.plugin] Evicting asset type c1237a43d569db21 v0.1 orphaned asset 0x100000040 (omniverse://localhost/Users/yizhou/Asset/T/DesPere/Textures/DesPeres_Table_R.1003.png)\n",
      "2023-01-02 05:14:44 [28,549ms] [Warning] [carb.assets.plugin] Evicting asset type c1237a43d569db21 v0.1 orphaned asset 0x100000041 (omniverse://127.0.0.1/NVIDIA/Materials/Base/Wall_Board/Paper/Paper_ORM.png)\n",
      "2023-01-02 05:14:44 [28,549ms] [Warning] [carb.assets.plugin] Evicting asset type c1237a43d569db21 v0.1 orphaned asset 0x100000042 (omniverse://127.0.0.1/NVIDIA/Materials/Base/Wall_Board/Paper/Paper_BaseColor.png)\n",
      "2023-01-02 05:14:44 [28,549ms] [Warning] [carb.assets.plugin] Evicting asset type c1237a43d569db21 v0.1 orphaned asset 0x100000043 (omniverse://127.0.0.1/NVIDIA/Materials/Base/Wall_Board/Paper/Paper_N.png)\n",
      "2023-01-02 05:14:44 [28,549ms] [Warning] [carb.assets.plugin] Evicting asset type c1237a43d569db21 v0.1 orphaned asset 0x100000044 (omniverse://127.0.0.1/NVIDIA/Materials/vMaterials_2/Wood/textures/fineline_rough_detail.jpg)\n",
      "2023-01-02 05:14:44 [28,549ms] [Warning] [carb.assets.plugin] Evicting asset type c1237a43d569db21 v0.1 orphaned asset 0x100000045 (omniverse://127.0.0.1/NVIDIA/Materials/vMaterials_2/Wood/textures/fineline_rough_grain.jpg)\n",
      "2023-01-02 05:14:44 [28,549ms] [Warning] [carb.assets.plugin] Evicting asset type c1237a43d569db21 v0.1 orphaned asset 0x100000046 (omniverse://127.0.0.1/NVIDIA/Materials/vMaterials_2/Wood/textures/brickbond_R_id_G_offs_B_rotation.png)\n",
      "2023-01-02 05:14:44 [28,549ms] [Warning] [carb.assets.plugin] Evicting asset type c1237a43d569db21 v0.1 orphaned asset 0x100000047 (omniverse://127.0.0.1/NVIDIA/Materials/vMaterials_2/Wood/textures/brickbond_norm.png)\n",
      "2023-01-02 05:14:44 [28,549ms] [Warning] [carb.assets.plugin] Evicting asset type c1237a43d569db21 v0.1 orphaned asset 0x100000048 (omniverse://127.0.0.1/NVIDIA/Materials/vMaterials_2/Wood/textures/fineline_norm.jpg)\n",
      "2023-01-02 05:14:44 [28,549ms] [Warning] [carb.assets.plugin] Evicting asset type c1237a43d569db21 v0.1 orphaned asset 0x100000049 (omniverse://127.0.0.1/NVIDIA/Materials/vMaterials_2/Wood/textures/brickbond_R_edgewear_G_gaps_B_gaps_rough.jpg)\n",
      "2023-01-02 05:14:44 [28,549ms] [Warning] [carb.assets.plugin] Evicting asset type c1237a43d569db21 v0.1 orphaned asset 0x10000004a (omniverse://127.0.0.1/NVIDIA/Materials/vMaterials_2/Wood/textures/tiles_wood_R_rough_G_dents_B_spots.jpg)\n",
      "2023-01-02 05:14:44 [28,549ms] [Warning] [carb.assets.plugin] Evicting asset type c1237a43d569db21 v0.1 orphaned asset 0x10000004b (omniverse://127.0.0.1/NVIDIA/Materials/vMaterials_2/Wood/textures/fineline_diff.jpg)\n",
      "2023-01-02 05:14:44 [28,549ms] [Warning] [carb.assets.plugin] Evicting asset type c1237a43d569db21 v0.1 orphaned asset 0x10000004c (omniverse://127.0.0.1/NVIDIA/Materials/vMaterials_2/Wood/textures/tiles_wood_orangepeel_norm.jpg)\n"
     ]
    },
    {
     "name": "stderr",
     "output_type": "stream",
     "text": [
      "2023-01-02 05:14:44 [28,581ms] [Error] [carb.graphics-vulkan.plugin] VkResult: ERROR_DEVICE_LOST\n",
      "2023-01-02 05:14:44 [28,582ms] [Error] [carb.graphics-vulkan.plugin] submitToQueueCommon failed.\n",
      "2023-01-02 05:14:44 [28,591ms] [Error] [carb.graphics-vulkan.plugin] VkResult: ERROR_DEVICE_LOST\n",
      "2023-01-02 05:14:44 [28,591ms] [Error] [carb.graphics-vulkan.plugin] submitToQueueCommon failed.\n"
     ]
    }
   ],
   "source": [
    "from omni.isaac.kit import SimulationApp    \n",
    "simulation_app = SimulationApp({\"headless\": True, \"open_usd\": usd_path,  \"livesync_usd\": usd_path}) "
   ]
  },
  {
   "cell_type": "code",
   "execution_count": null,
   "id": "3e0e266e",
   "metadata": {},
   "outputs": [],
   "source": [
    "# set log level\n",
    "import logging\n",
    "import carb\n",
    "\n",
    "logging.getLogger(\"omni.hydra\").setLevel(logging.ERROR)\n",
    "logging.getLogger(\"omni.isaac.urdf\").setLevel(logging.ERROR)\n",
    "logging.getLogger(\"omni.physx.plugin\").setLevel(logging.ERROR)\n",
    "\n",
    "logging.getLogger(\"omni.isaac.synthetic_utils\").setLevel(logging.ERROR)\n",
    "logging.getLogger(\"omni.isaac.synthetic_utils.syntheticdata\").setLevel(logging.ERROR)\n",
    "logging.getLogger(\"omni.hydra.scene_delegate.plugin\").setLevel(logging.ERROR)\n",
    "\n",
    "\n",
    "l = carb.logging.LEVEL_ERROR\n",
    "carb.settings.get_settings().set(\"/log/level\", l)\n",
    "carb.settings.get_settings().set(\"/log/fileLogLevel\", l)\n",
    "carb.settings.get_settings().set(\"/log/outputStreamLevel\", l)\n",
    "\n",
    "# # This logged error is printed as it should\n",
    "# carb.log_error(\"ERROR\")\n",
    "# # This warning is printed but should not\n",
    "# carb.log_warn(\"WARNING\")"
   ]
  },
  {
   "cell_type": "markdown",
   "id": "be34671d",
   "metadata": {},
   "source": [
    "# Config"
   ]
  },
  {
   "cell_type": "code",
   "execution_count": null,
   "id": "491f4078",
   "metadata": {},
   "outputs": [],
   "source": [
    "from task.config import DATA_PATH, FEATURE_PATH\n",
    "task_type = \"Table\"\n",
    "side_choice = \"Border\"\n",
    "base_asset_id = 0\n",
    "load_nucleus = True"
   ]
  },
  {
   "cell_type": "code",
   "execution_count": null,
   "id": "eadd32bf",
   "metadata": {},
   "outputs": [],
   "source": [
    "pause"
   ]
  },
  {
   "cell_type": "markdown",
   "id": "7475ee6a",
   "metadata": {},
   "source": [
    "# Init Env"
   ]
  },
  {
   "cell_type": "code",
   "execution_count": null,
   "id": "9a6fd193",
   "metadata": {},
   "outputs": [],
   "source": [
    "from uva_env import UvaEnv\n",
    "env = UvaEnv()"
   ]
  },
  {
   "cell_type": "code",
   "execution_count": null,
   "id": "d3e665fe",
   "metadata": {},
   "outputs": [],
   "source": [
    "from task.utils import add_scene_default\n",
    "add_scene_default()"
   ]
  },
  {
   "cell_type": "code",
   "execution_count": null,
   "id": "4c55eb32",
   "metadata": {
    "scrolled": true
   },
   "outputs": [],
   "source": [
    "print(list(env.stage.TraverseAll()))"
   ]
  },
  {
   "cell_type": "code",
   "execution_count": null,
   "id": "feaeb7d0",
   "metadata": {},
   "outputs": [],
   "source": [
    "env.clean()\n",
    "env.world.step(render=True)"
   ]
  },
  {
   "cell_type": "markdown",
   "id": "d3c365e3",
   "metadata": {},
   "source": [
    "# Scene"
   ]
  },
  {
   "cell_type": "code",
   "execution_count": null,
   "id": "19d7b119",
   "metadata": {},
   "outputs": [],
   "source": [
    "from task.scene import ArrangeScene\n",
    "scene = ArrangeScene(task_type, side_choice, base_asset_id = 0, traj_id = 0, load_nucleus = load_nucleus)\n",
    "env.scene = scene"
   ]
  },
  {
   "cell_type": "code",
   "execution_count": null,
   "id": "fae909b6",
   "metadata": {},
   "outputs": [],
   "source": [
    "# add base\n",
    "scene.add_base_asset()"
   ]
  },
  {
   "cell_type": "code",
   "execution_count": null,
   "id": "a7e1de8b",
   "metadata": {},
   "outputs": [],
   "source": [
    "# add room\n",
    "scene.add_room()"
   ]
  },
  {
   "cell_type": "code",
   "execution_count": null,
   "id": "99481529",
   "metadata": {},
   "outputs": [],
   "source": [
    "env.world.step(render=True)"
   ]
  },
  {
   "cell_type": "code",
   "execution_count": null,
   "id": "ed33c985",
   "metadata": {},
   "outputs": [],
   "source": [
    "# randomize scene\n",
    "from layout.randomizer import Randomizer\n",
    "randomizer = Randomizer()"
   ]
  },
  {
   "cell_type": "markdown",
   "id": "bfd24034",
   "metadata": {},
   "source": [
    "# Reward"
   ]
  },
  {
   "cell_type": "code",
   "execution_count": null,
   "id": "b81a65bf",
   "metadata": {},
   "outputs": [],
   "source": [
    "from uv.reward import Rewarder"
   ]
  },
  {
   "cell_type": "code",
   "execution_count": null,
   "id": "35761844",
   "metadata": {},
   "outputs": [],
   "source": [
    "rewarder = Rewarder(env.world)\n",
    "env.rewarder = rewarder"
   ]
  },
  {
   "cell_type": "markdown",
   "id": "27c8bada",
   "metadata": {},
   "source": [
    "# Render"
   ]
  },
  {
   "cell_type": "code",
   "execution_count": null,
   "id": "fba7340e",
   "metadata": {},
   "outputs": [],
   "source": [
    "from render.helper import RenderHelper\n",
    "render = RenderHelper(task_type, side_choice)\n",
    "\n",
    "render.add_task_cameras(camera_type=\"side\")\n",
    "render.set_cameras()"
   ]
  },
  {
   "cell_type": "code",
   "execution_count": null,
   "id": "56d05f4a",
   "metadata": {
    "scrolled": true
   },
   "outputs": [],
   "source": [
    "pause"
   ]
  },
  {
   "cell_type": "markdown",
   "id": "69faba50",
   "metadata": {},
   "source": [
    "#  Learning"
   ]
  },
  {
   "cell_type": "code",
   "execution_count": null,
   "id": "785c3dc5",
   "metadata": {},
   "outputs": [],
   "source": [
    "# # from learning.network.resnet import ResNetFeatureExtractor\n",
    "\n",
    "# # feature extraction\n",
    "# from learning.utils import extract_image_clip_feature_and_save, obtain_action_from_trainer\n",
    "# from transformers import CLIPProcessor, CLIPModel\n",
    "\n",
    "# feature_model = CLIPModel.from_pretrained(\"openai/clip-vit-base-patch32\").to(device)\n",
    "# feature_processor = CLIPProcessor.from_pretrained(\"openai/clip-vit-base-patch32\")\n",
    "\n",
    "# # replay buffer\n",
    "# import json\n",
    "# from learning.replay_buffer import ReplayBuffer\n",
    "# from learning.config import *\n",
    "\n",
    "# buffer = ReplayBuffer(max_size=2000)\n",
    "\n",
    "# # trainer\n",
    "# from learning.network.sac import *\n",
    "\n",
    "# policy = Policy()\n",
    "\n",
    "# qf1 = QFunction()\n",
    "# qf2 = QFunction()\n",
    "# target_qf1 = QFunction()\n",
    "# target_qf2 = QFunction()\n",
    "\n",
    "# from learning.sac_trainer import SACTrainer\n",
    "\n",
    "# trainer = SACTrainer(policy, qf1, qf2, target_qf1, target_qf2, \n",
    "#      use_automatic_entropy_tuning = False, \n",
    "#      policy_lr=1e-3, \n",
    "#      qf_lr=1e-3,\n",
    "#      target_update_period = 5)"
   ]
  },
  {
   "cell_type": "markdown",
   "id": "a93eef8c",
   "metadata": {},
   "source": [
    "# Trajectory"
   ]
  },
  {
   "cell_type": "code",
   "execution_count": null,
   "id": "e28e6ec5",
   "metadata": {},
   "outputs": [],
   "source": [
    "use_network = False\n",
    "debug = False"
   ]
  },
  {
   "cell_type": "code",
   "execution_count": null,
   "id": "2707b5f0",
   "metadata": {},
   "outputs": [],
   "source": [
    "total_traj = 0\n",
    "total_step = 0"
   ]
  },
  {
   "cell_type": "markdown",
   "id": "33335313",
   "metadata": {},
   "source": [
    "---------------------"
   ]
  },
  {
   "cell_type": "code",
   "execution_count": null,
   "id": "d9049e66",
   "metadata": {
    "scrolled": true
   },
   "outputs": [],
   "source": [
    "# traj config\n",
    "for traj_id in range(21, 100):\n",
    "    print(\"total_traj: \", total_traj)\n",
    "    \n",
    "    # base\n",
    "    if total_traj % 5 == 0:\n",
    "        \n",
    "        asset_count = len(env.scene.base_asset_file_paths)\n",
    "        base_asset_id = random.choice([_ for _ in range(asset_count)])\n",
    "        env.scene.base_asset_id = base_asset_id\n",
    "        env.scene.traj_id = traj_id\n",
    "        env.clean(clean_base = True, clean_all = False)\n",
    "        scene.add_base_asset()\n",
    "        \n",
    "        # randomize scene\n",
    "        randomizer.randomize_house(rand = True)\n",
    "        \n",
    "    image_folder = os.path.join(DATA_PATH, task_type, side_choice, str(traj_id))\n",
    "    \n",
    "    env.world.step(render = True)\n",
    "    env.world.step(render = True)\n",
    "\n",
    "    # get images\n",
    "    env.world.render()\n",
    "    images = render.get_images()\n",
    "    render.save_rgb(images[0]['rgb'], image_folder, \"0\")\n",
    "    \n",
    "    ## extract feature\n",
    "    \n",
    "#     extract_image_feature_and_save(images[0]['rgb'][:,:,:3], \n",
    "#         feature_extractor, os.path.join(image_folder, str(0) + \".pt\"))\n",
    "    if use_network:\n",
    "        extract_image_clip_feature_and_save(f\"{image_folder}/{0}.png\", feature_model, feature_processor, \n",
    "            f\"{image_folder}/{0}.pt\",)\n",
    "    \n",
    "\n",
    "    # trajectory\n",
    "    for step in range(5):\n",
    "        total_step += 1\n",
    "        \n",
    "        # sample an object\n",
    "        env.add_scene_obj(mode = \"random\")\n",
    "        \n",
    "        # TODO: get action from sampling\n",
    "        if not use_network or total_traj < 10 or np.random.rand() < 0.2:\n",
    "            x, y = np.tanh(np.random.randn()), np.tanh(np.random.randn())\n",
    "        else:\n",
    "            image_feature_file = f\"{image_folder}/{step}.pt\"\n",
    "            \n",
    "            object_info = env.scene.objects[-1]\n",
    "            object_type = object_info[\"type\"]\n",
    "            obj_name = object_info[\"name\"][:-4]\n",
    "            object_feature_file = os.path.join(FEATURE_PATH, object_type, obj_name + \".pt\")\n",
    "            x, y = obtain_action_from_trainer(image_feature_file, object_feature_file, trainer, \n",
    "                                              scaler=np.exp(- total_traj / 100))\n",
    "            object_info[\"use_network\"] = True\n",
    "        \n",
    "        # load the object into the scene\n",
    "        env.put_last_object((x, y)) \n",
    "        env.world.step(render=True)\n",
    "        \n",
    "        # register the object to the world for physics update\n",
    "        env.register_last_object()\n",
    "        env.world.step(render=True)\n",
    "\n",
    "        # get images\n",
    "        env.world.render()\n",
    "        images = render.get_images()\n",
    "        render.save_rgb(images[0]['rgb'], image_folder, str(step + 1))\n",
    "\n",
    "        ## calculate reward\n",
    "        env.calculate_last_reward(simulation_step = 30)\n",
    "        \n",
    "        ## extract feature\n",
    "#         extract_image_feature_and_save(images[0]['rgb'][:,:,:3], \n",
    "#             feature_extractor, os.path.join(image_folder, str(step + 1) + \".pt\"))\n",
    "        if use_network:\n",
    "            extract_image_clip_feature_and_save(f\"{image_folder}/{step + 1}.png\", feature_model, feature_processor, \n",
    "                f\"{image_folder}/{step + 1}.pt\",)\n",
    "    \n",
    "\n",
    "        ## reset\n",
    "        env.world.reset()\n",
    "        env.world.step(render=True)\n",
    "        \n",
    "        ## trainer nework\n",
    "        if use_network and total_step % UPDATE_TRAINER_STEPS == 0 and total_traj > 5:\n",
    "            batch = buffer.sample_batch(batch_size = BATCH_SIZE)\n",
    "            trainer.update(batch)\n",
    "            \n",
    "            if debug and total_step % 10 == 0:\n",
    "                rewards = batch['rewards'].to(device)\n",
    "                terminals = batch['terminals'].to(device)\n",
    "                obs = batch['observations'].to(device)\n",
    "                actions = batch['actions'].to(device)\n",
    "                next_obs = batch['next_observations'].to(device)\n",
    "                obj_features = batch['object_features'].to(device)\n",
    "                \n",
    "                dist = trainer.policy(obs, obj_features)\n",
    "                pred = trainer.qf1(obs, obj_features, actions)\n",
    "                print(f\"debug {total_traj}/{total_step}\", #\"\\n dist: \", dist.mean.flatten().tolist(), dist.stddev.flatten().tolist(),\n",
    "                      \"\\n pred:\", pred.flatten().tolist(),\n",
    "                      \"\\n rewards: \", rewards.flatten().tolist())\n",
    "\n",
    "\n",
    "    # Record\n",
    "    record = env.scene.get_scene_data()\n",
    "    env.scene.save_scene_data()\n",
    "    # print(\"record: \", record)\n",
    "    \n",
    "    # Add record to buffer\n",
    "    if use_network:\n",
    "        buffer.add_scene_sample(record)\n",
    "\n",
    "    # Reset (env clean)\n",
    "    env.clean(clean_all = False)\n",
    "    env.step(render = True)\n",
    "    total_traj += 1"
   ]
  },
  {
   "cell_type": "markdown",
   "id": "11155e93",
   "metadata": {},
   "source": [
    "# Debug"
   ]
  },
  {
   "cell_type": "code",
   "execution_count": null,
   "id": "de607bcf",
   "metadata": {},
   "outputs": [],
   "source": [
    "env.clean(clean_base = True, clean_all = False)"
   ]
  },
  {
   "cell_type": "code",
   "execution_count": null,
   "id": "a3c0bdec",
   "metadata": {},
   "outputs": [],
   "source": [
    "# get images\n",
    "env.world.render()\n",
    "env.world.render()\n",
    "images = render.get_images()\n",
    "\n",
    "Image.fromarray(images[0]['rgb'], \"RGBA\").resize((300, 300))"
   ]
  },
  {
   "cell_type": "markdown",
   "id": "9d3687f5",
   "metadata": {},
   "source": [
    "##  Debug Training"
   ]
  },
  {
   "cell_type": "code",
   "execution_count": null,
   "id": "a8d01e0a",
   "metadata": {},
   "outputs": [],
   "source": [
    "import json\n",
    "from learning.replay_buffer import ReplayBuffer\n",
    "\n",
    "buffer = ReplayBuffer(max_size=1000)\n",
    "\n",
    "for i in range(100):\n",
    "    replay = json.load(open(f\"{DATA_PATH}/{task_type}/{side_choice}/{i}/scene.json\"))\n",
    "    buffer.add_scene_sample(replay)"
   ]
  },
  {
   "cell_type": "code",
   "execution_count": null,
   "id": "bec87318",
   "metadata": {
    "scrolled": true
   },
   "outputs": [],
   "source": [
    "len(buffer.dataset)"
   ]
  },
  {
   "cell_type": "code",
   "execution_count": null,
   "id": "63777cf1",
   "metadata": {},
   "outputs": [],
   "source": [
    "# trainer\n",
    "from learning.network.sac import *\n",
    "\n",
    "policy = Policy()\n",
    "\n",
    "qf1 = QFunction()\n",
    "qf2 = QFunction()\n",
    "\n",
    "target_qf1 = QFunction()\n",
    "target_qf1.eval()\n",
    "\n",
    "target_qf2 = QFunction()\n",
    "target_qf2.eval()\n",
    "\n",
    "from learning.sac_trainer import SACTrainer\n",
    "\n",
    "trainer = SACTrainer(policy, qf1, qf2, target_qf1, target_qf2, \n",
    "     use_automatic_entropy_tuning = True, \n",
    "     policy_lr=1e-3, \n",
    "     qf_lr=1e-3,\n",
    "     target_update_period = 5)"
   ]
  },
  {
   "cell_type": "code",
   "execution_count": null,
   "id": "0acc75a9",
   "metadata": {},
   "outputs": [],
   "source": [
    "self = trainer"
   ]
  },
  {
   "cell_type": "code",
   "execution_count": null,
   "id": "be95f838",
   "metadata": {
    "scrolled": true
   },
   "outputs": [],
   "source": [
    "for _ in range(500):\n",
    "    batch = buffer.sample_batch(batch_size=6)\n",
    "\n",
    "    rewards = batch['rewards'].to(device)\n",
    "    terminals = batch['terminals'].to(device)\n",
    "    obs = batch['observations'].to(device)\n",
    "    actions = batch['actions'].to(device)\n",
    "    next_obs = batch['next_observations'].to(device)\n",
    "\n",
    "    obj_features = batch['object_features'].to(device)\n",
    "\n",
    "    # print(\"rewards\", rewards)\n",
    "\n",
    "    self.update(batch)\n",
    "    \n",
    "    if _ % 10 == 0:\n",
    "        dist = self.policy(obs, obj_features)\n",
    "        pred = self.qf1(obs, obj_features, actions)\n",
    "        print(_, \"\\n dist   : \", [round(x, 3) for x in dist.mean.flatten().tolist()], \n",
    "                  [round(x, 3) for x in dist.stddev.flatten().tolist()],\n",
    "              \"\\n pred   :\", [round(x, 3) for x in pred.flatten().tolist()],\n",
    "              \"\\n rewards: \", [round(x, 3) for x in rewards.flatten().tolist()])\n",
    "    \n",
    "#     # debug\n",
    "#     pred = self.qf1(obs, obj_features, actions)\n",
    "#     loss = self.qf_criterion(pred, rewards)\n",
    "    \n",
    "#     self.qf1_optimizer.zero_grad()\n",
    "#     loss.backward()\n",
    "#     self.qf1_optimizer.step()\n",
    "    \n",
    "#     if _ % 20 == 0:\n",
    "#         print(_, \"\\n debug loss: \", loss.item(), \"\\n pred:\", \n",
    "#               pred.flatten().tolist(), \"\\n rewards: \", rewards.flatten().tolist())"
   ]
  },
  {
   "cell_type": "code",
   "execution_count": null,
   "id": "aa6fffc0",
   "metadata": {},
   "outputs": [],
   "source": [
    "dist = self.policy(obs.to(device), obj_features.to(device))"
   ]
  },
  {
   "cell_type": "code",
   "execution_count": null,
   "id": "a4b6e1a4",
   "metadata": {},
   "outputs": [],
   "source": [
    "dist.normal_mean, dist.stddev"
   ]
  },
  {
   "cell_type": "code",
   "execution_count": null,
   "id": "55fdb9ba",
   "metadata": {},
   "outputs": [],
   "source": [
    "dist.sample(scaler = 0.2)"
   ]
  },
  {
   "cell_type": "code",
   "execution_count": null,
   "id": "6fa47896",
   "metadata": {},
   "outputs": [],
   "source": [
    "self = dist"
   ]
  },
  {
   "cell_type": "code",
   "execution_count": null,
   "id": "edef1bac",
   "metadata": {},
   "outputs": [],
   "source": [
    "scaler = 0.1"
   ]
  },
  {
   "cell_type": "code",
   "execution_count": null,
   "id": "f79d7bc0",
   "metadata": {},
   "outputs": [],
   "source": [
    "self.normal_mean + scaler * self.normal_std * MultivariateDiagonalNormal(\n",
    "    torch.zeros(self.normal_mean.size()).to(self.device),\n",
    "    torch.ones(self.normal_std.size()).to(self.device)\n",
    ").sample()"
   ]
  },
  {
   "cell_type": "markdown",
   "id": "8b9643df",
   "metadata": {},
   "source": [
    "# distribution"
   ]
  },
  {
   "cell_type": "code",
   "execution_count": null,
   "id": "be282f66",
   "metadata": {},
   "outputs": [],
   "source": [
    "from learning.distributions import MultivariateDiagonalNormal"
   ]
  },
  {
   "cell_type": "code",
   "execution_count": null,
   "id": "baba459b",
   "metadata": {},
   "outputs": [],
   "source": [
    "dist = JustNormal(dist.mean, dist.stddev)"
   ]
  },
  {
   "cell_type": "code",
   "execution_count": null,
   "id": "4e95ab7d",
   "metadata": {},
   "outputs": [],
   "source": [
    "dist.rsample_and_logprob()"
   ]
  },
  {
   "cell_type": "code",
   "execution_count": null,
   "id": "148bf0bc",
   "metadata": {},
   "outputs": [],
   "source": []
  }
 ],
 "metadata": {
  "kernelspec": {
   "display_name": "Isaac Sim Python 3",
   "language": "python",
   "name": "isaac_sim_python3"
  },
  "language_info": {
   "codemirror_mode": {
    "name": "ipython",
    "version": 3
   },
   "file_extension": ".py",
   "mimetype": "text/x-python",
   "name": "python",
   "nbconvert_exporter": "python",
   "pygments_lexer": "ipython3",
   "version": "3.7.13"
  }
 },
 "nbformat": 4,
 "nbformat_minor": 5
}
